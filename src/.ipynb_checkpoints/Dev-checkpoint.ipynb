{
 "cells": [
  {
   "cell_type": "markdown",
   "metadata": {
    "pycharm": {
     "name": "#%% md\n"
    }
   },
   "source": [
    "# Spis treści\n",
    "* [Zbiór treningowy](#sekcja-1)\n",
    "* [Zmienna objaśniana](#sekcja-2)\n",
    "* [Trenowanie modeli ML](#sekcja-3)\n",
    "* [Wyjaśnienie Globalne](#sekcja-4)\n",
    "* [Wyjaśnienie Lokalne](#sekcja-5)"
   ]
  },
  {
   "cell_type": "markdown",
   "metadata": {
    "pycharm": {
     "name": "#%% md\n"
    }
   },
   "source": [
    "Kupując jak i sprzedając nieruchomość chcemy znaleźć odpowiedź na dwa podstawowe pytania:\n",
    "* Jaka jest cena nieruchomości?\n",
    "* Jak poszczególne jej cechy wpływają na końcową wartość?\n",
    "\n",
    "Odpowiedź na te pytania jest bardzo istotna. Pozwoli ona osiągnąć zysk np. sprzedającemu zwiększając wartość nieruchomości poprzez dodanie brakującej cechy np. budowa garażu, kominka, czy zwiększenie standardu wykończenia nieruchomości. Kolejną zaletą jest możliwość uniknięcia strat np. w przypadku przepłacenia za nieruchomość, czy sprzedania po cenie niższej niż rynkowa.\n",
    "\n",
    "Do analizy wykorzystany został zbiór Ames opracowany do celów edukacyjnych przez Deana De Cooka.\n",
    "Zawartość zbioru została pobrana z portalu Kaggle.com i jest umieszczona w folderze data.\n",
    "Składa się z etykietowanego zbioru treningowego oraz zbioru testowego, z czego obydwa zbiory mają po 1460 instancji oraz 80 atrybutów."
   ]
  },
  {
   "cell_type": "markdown",
   "metadata": {
    "pycharm": {
     "name": "#%% md\n"
    }
   },
   "source": [
    "<h1><center>Import Bibliotek</center></h1>"
   ]
  },
  {
   "cell_type": "code",
   "execution_count": 1,
   "metadata": {
    "pycharm": {
     "name": "#%%\n"
    }
   },
   "outputs": [],
   "source": [
    "# data manipulation\n",
    "import pandas as pd\n",
    "import numpy as np\n",
    "# clean code\n",
    "from assets.data_loader import DataLoader\n",
    "from assets.MissingData import MissingData\n",
    "from assets.graphs import CreateGraph\n",
    "from assets.Data_analysis import DataAnalysis\n",
    "from assets.make_models import NumericScaler, CatScaler, MakeModel\n",
    "# data visualization\n",
    "import missingno as msno\n",
    "#pio.renderers.default = 'png'\n",
    "# model evaluation\n",
    "from sklearn.impute import KNNImputer,SimpleImputer\n",
    "# build model\n",
    "from xgboost import XGBRegressor\n",
    "from sklearn.ensemble import RandomForestRegressor,AdaBoostRegressor\n",
    "from sklearn.tree import DecisionTreeRegressor\n",
    "from sklearn.pipeline import Pipeline\n",
    "from sklearn.compose import ColumnTransformer\n",
    "# saving models\n",
    "import joblib\n",
    "import dill as pickle\n",
    "# remove annoying warnings and set settings\n",
    "import warnings\n",
    "warnings.filterwarnings('ignore')\n",
    "warnings.simplefilter(action='ignore', category=FutureWarning)\n",
    "pd.set_option('display.max_columns', 50)\n",
    "pd.set_option('display.max_rows', 110)"
   ]
  },
  {
   "cell_type": "markdown",
   "metadata": {
    "pycharm": {
     "name": "#%% md\n"
    }
   },
   "source": [
    "<h4><center>Wczytanie zbioru danych</center></h4>"
   ]
  },
  {
   "cell_type": "code",
   "execution_count": 2,
   "metadata": {
    "pycharm": {
     "name": "#%%\n"
    }
   },
   "outputs": [],
   "source": [
    "data_loader = DataLoader(train_file=\"data/train.csv\", test_file=\"data/test.csv\")\n",
    "df_train, df_test = data_loader.load_data()"
   ]
  },
  {
   "cell_type": "markdown",
   "metadata": {
    "pycharm": {
     "name": "#%% md\n"
    }
   },
   "source": [
    "## <center>Zbiór treningowy</center><a id=\"sekcja-1\"></a>"
   ]
  },
  {
   "cell_type": "markdown",
   "metadata": {
    "pycharm": {
     "name": "#%% md\n"
    }
   },
   "source": [
    "<h5><center>Wyświetlenie pierwszych pięciu rekordów zbioru treningowego</center></h5>"
   ]
  },
  {
   "cell_type": "code",
   "execution_count": 3,
   "metadata": {
    "pycharm": {
     "name": "#%%\n"
    }
   },
   "outputs": [
    {
     "data": {
      "text/html": [
       "<div>\n",
       "<style scoped>\n",
       "    .dataframe tbody tr th:only-of-type {\n",
       "        vertical-align: middle;\n",
       "    }\n",
       "\n",
       "    .dataframe tbody tr th {\n",
       "        vertical-align: top;\n",
       "    }\n",
       "\n",
       "    .dataframe thead th {\n",
       "        text-align: right;\n",
       "    }\n",
       "</style>\n",
       "<table border=\"1\" class=\"dataframe\">\n",
       "  <thead>\n",
       "    <tr style=\"text-align: right;\">\n",
       "      <th></th>\n",
       "      <th>Id</th>\n",
       "      <th>MSSubClass</th>\n",
       "      <th>MSZoning</th>\n",
       "      <th>LotFrontage</th>\n",
       "      <th>LotArea</th>\n",
       "      <th>Street</th>\n",
       "      <th>Alley</th>\n",
       "      <th>LotShape</th>\n",
       "      <th>LandContour</th>\n",
       "      <th>Utilities</th>\n",
       "      <th>LotConfig</th>\n",
       "      <th>LandSlope</th>\n",
       "      <th>Neighborhood</th>\n",
       "      <th>Condition1</th>\n",
       "      <th>Condition2</th>\n",
       "      <th>BldgType</th>\n",
       "      <th>HouseStyle</th>\n",
       "      <th>OverallQual</th>\n",
       "      <th>OverallCond</th>\n",
       "      <th>YearBuilt</th>\n",
       "      <th>YearRemodAdd</th>\n",
       "      <th>RoofStyle</th>\n",
       "      <th>RoofMatl</th>\n",
       "      <th>Exterior1st</th>\n",
       "      <th>Exterior2nd</th>\n",
       "      <th>...</th>\n",
       "      <th>Fireplaces</th>\n",
       "      <th>FireplaceQu</th>\n",
       "      <th>GarageType</th>\n",
       "      <th>GarageYrBlt</th>\n",
       "      <th>GarageFinish</th>\n",
       "      <th>GarageCars</th>\n",
       "      <th>GarageArea</th>\n",
       "      <th>GarageQual</th>\n",
       "      <th>GarageCond</th>\n",
       "      <th>PavedDrive</th>\n",
       "      <th>WoodDeckSF</th>\n",
       "      <th>OpenPorchSF</th>\n",
       "      <th>EnclosedPorch</th>\n",
       "      <th>3SsnPorch</th>\n",
       "      <th>ScreenPorch</th>\n",
       "      <th>PoolArea</th>\n",
       "      <th>PoolQC</th>\n",
       "      <th>Fence</th>\n",
       "      <th>MiscFeature</th>\n",
       "      <th>MiscVal</th>\n",
       "      <th>MoSold</th>\n",
       "      <th>YrSold</th>\n",
       "      <th>SaleType</th>\n",
       "      <th>SaleCondition</th>\n",
       "      <th>SalePrice</th>\n",
       "    </tr>\n",
       "  </thead>\n",
       "  <tbody>\n",
       "    <tr>\n",
       "      <th>0</th>\n",
       "      <td>1</td>\n",
       "      <td>60</td>\n",
       "      <td>RL</td>\n",
       "      <td>65.0</td>\n",
       "      <td>8450</td>\n",
       "      <td>Pave</td>\n",
       "      <td>NaN</td>\n",
       "      <td>Reg</td>\n",
       "      <td>Lvl</td>\n",
       "      <td>AllPub</td>\n",
       "      <td>Inside</td>\n",
       "      <td>Gtl</td>\n",
       "      <td>CollgCr</td>\n",
       "      <td>Norm</td>\n",
       "      <td>Norm</td>\n",
       "      <td>1Fam</td>\n",
       "      <td>2Story</td>\n",
       "      <td>7</td>\n",
       "      <td>5</td>\n",
       "      <td>2003</td>\n",
       "      <td>2003</td>\n",
       "      <td>Gable</td>\n",
       "      <td>CompShg</td>\n",
       "      <td>VinylSd</td>\n",
       "      <td>VinylSd</td>\n",
       "      <td>...</td>\n",
       "      <td>0</td>\n",
       "      <td>NaN</td>\n",
       "      <td>Attchd</td>\n",
       "      <td>2003.0</td>\n",
       "      <td>RFn</td>\n",
       "      <td>2</td>\n",
       "      <td>548</td>\n",
       "      <td>TA</td>\n",
       "      <td>TA</td>\n",
       "      <td>Y</td>\n",
       "      <td>0</td>\n",
       "      <td>61</td>\n",
       "      <td>0</td>\n",
       "      <td>0</td>\n",
       "      <td>0</td>\n",
       "      <td>0</td>\n",
       "      <td>NaN</td>\n",
       "      <td>NaN</td>\n",
       "      <td>NaN</td>\n",
       "      <td>0</td>\n",
       "      <td>2</td>\n",
       "      <td>2008</td>\n",
       "      <td>WD</td>\n",
       "      <td>Normal</td>\n",
       "      <td>208500</td>\n",
       "    </tr>\n",
       "    <tr>\n",
       "      <th>1</th>\n",
       "      <td>2</td>\n",
       "      <td>20</td>\n",
       "      <td>RL</td>\n",
       "      <td>80.0</td>\n",
       "      <td>9600</td>\n",
       "      <td>Pave</td>\n",
       "      <td>NaN</td>\n",
       "      <td>Reg</td>\n",
       "      <td>Lvl</td>\n",
       "      <td>AllPub</td>\n",
       "      <td>FR2</td>\n",
       "      <td>Gtl</td>\n",
       "      <td>Veenker</td>\n",
       "      <td>Feedr</td>\n",
       "      <td>Norm</td>\n",
       "      <td>1Fam</td>\n",
       "      <td>1Story</td>\n",
       "      <td>6</td>\n",
       "      <td>8</td>\n",
       "      <td>1976</td>\n",
       "      <td>1976</td>\n",
       "      <td>Gable</td>\n",
       "      <td>CompShg</td>\n",
       "      <td>MetalSd</td>\n",
       "      <td>MetalSd</td>\n",
       "      <td>...</td>\n",
       "      <td>1</td>\n",
       "      <td>TA</td>\n",
       "      <td>Attchd</td>\n",
       "      <td>1976.0</td>\n",
       "      <td>RFn</td>\n",
       "      <td>2</td>\n",
       "      <td>460</td>\n",
       "      <td>TA</td>\n",
       "      <td>TA</td>\n",
       "      <td>Y</td>\n",
       "      <td>298</td>\n",
       "      <td>0</td>\n",
       "      <td>0</td>\n",
       "      <td>0</td>\n",
       "      <td>0</td>\n",
       "      <td>0</td>\n",
       "      <td>NaN</td>\n",
       "      <td>NaN</td>\n",
       "      <td>NaN</td>\n",
       "      <td>0</td>\n",
       "      <td>5</td>\n",
       "      <td>2007</td>\n",
       "      <td>WD</td>\n",
       "      <td>Normal</td>\n",
       "      <td>181500</td>\n",
       "    </tr>\n",
       "    <tr>\n",
       "      <th>2</th>\n",
       "      <td>3</td>\n",
       "      <td>60</td>\n",
       "      <td>RL</td>\n",
       "      <td>68.0</td>\n",
       "      <td>11250</td>\n",
       "      <td>Pave</td>\n",
       "      <td>NaN</td>\n",
       "      <td>IR1</td>\n",
       "      <td>Lvl</td>\n",
       "      <td>AllPub</td>\n",
       "      <td>Inside</td>\n",
       "      <td>Gtl</td>\n",
       "      <td>CollgCr</td>\n",
       "      <td>Norm</td>\n",
       "      <td>Norm</td>\n",
       "      <td>1Fam</td>\n",
       "      <td>2Story</td>\n",
       "      <td>7</td>\n",
       "      <td>5</td>\n",
       "      <td>2001</td>\n",
       "      <td>2002</td>\n",
       "      <td>Gable</td>\n",
       "      <td>CompShg</td>\n",
       "      <td>VinylSd</td>\n",
       "      <td>VinylSd</td>\n",
       "      <td>...</td>\n",
       "      <td>1</td>\n",
       "      <td>TA</td>\n",
       "      <td>Attchd</td>\n",
       "      <td>2001.0</td>\n",
       "      <td>RFn</td>\n",
       "      <td>2</td>\n",
       "      <td>608</td>\n",
       "      <td>TA</td>\n",
       "      <td>TA</td>\n",
       "      <td>Y</td>\n",
       "      <td>0</td>\n",
       "      <td>42</td>\n",
       "      <td>0</td>\n",
       "      <td>0</td>\n",
       "      <td>0</td>\n",
       "      <td>0</td>\n",
       "      <td>NaN</td>\n",
       "      <td>NaN</td>\n",
       "      <td>NaN</td>\n",
       "      <td>0</td>\n",
       "      <td>9</td>\n",
       "      <td>2008</td>\n",
       "      <td>WD</td>\n",
       "      <td>Normal</td>\n",
       "      <td>223500</td>\n",
       "    </tr>\n",
       "    <tr>\n",
       "      <th>3</th>\n",
       "      <td>4</td>\n",
       "      <td>70</td>\n",
       "      <td>RL</td>\n",
       "      <td>60.0</td>\n",
       "      <td>9550</td>\n",
       "      <td>Pave</td>\n",
       "      <td>NaN</td>\n",
       "      <td>IR1</td>\n",
       "      <td>Lvl</td>\n",
       "      <td>AllPub</td>\n",
       "      <td>Corner</td>\n",
       "      <td>Gtl</td>\n",
       "      <td>Crawfor</td>\n",
       "      <td>Norm</td>\n",
       "      <td>Norm</td>\n",
       "      <td>1Fam</td>\n",
       "      <td>2Story</td>\n",
       "      <td>7</td>\n",
       "      <td>5</td>\n",
       "      <td>1915</td>\n",
       "      <td>1970</td>\n",
       "      <td>Gable</td>\n",
       "      <td>CompShg</td>\n",
       "      <td>Wd Sdng</td>\n",
       "      <td>Wd Shng</td>\n",
       "      <td>...</td>\n",
       "      <td>1</td>\n",
       "      <td>Gd</td>\n",
       "      <td>Detchd</td>\n",
       "      <td>1998.0</td>\n",
       "      <td>Unf</td>\n",
       "      <td>3</td>\n",
       "      <td>642</td>\n",
       "      <td>TA</td>\n",
       "      <td>TA</td>\n",
       "      <td>Y</td>\n",
       "      <td>0</td>\n",
       "      <td>35</td>\n",
       "      <td>272</td>\n",
       "      <td>0</td>\n",
       "      <td>0</td>\n",
       "      <td>0</td>\n",
       "      <td>NaN</td>\n",
       "      <td>NaN</td>\n",
       "      <td>NaN</td>\n",
       "      <td>0</td>\n",
       "      <td>2</td>\n",
       "      <td>2006</td>\n",
       "      <td>WD</td>\n",
       "      <td>Abnorml</td>\n",
       "      <td>140000</td>\n",
       "    </tr>\n",
       "    <tr>\n",
       "      <th>4</th>\n",
       "      <td>5</td>\n",
       "      <td>60</td>\n",
       "      <td>RL</td>\n",
       "      <td>84.0</td>\n",
       "      <td>14260</td>\n",
       "      <td>Pave</td>\n",
       "      <td>NaN</td>\n",
       "      <td>IR1</td>\n",
       "      <td>Lvl</td>\n",
       "      <td>AllPub</td>\n",
       "      <td>FR2</td>\n",
       "      <td>Gtl</td>\n",
       "      <td>NoRidge</td>\n",
       "      <td>Norm</td>\n",
       "      <td>Norm</td>\n",
       "      <td>1Fam</td>\n",
       "      <td>2Story</td>\n",
       "      <td>8</td>\n",
       "      <td>5</td>\n",
       "      <td>2000</td>\n",
       "      <td>2000</td>\n",
       "      <td>Gable</td>\n",
       "      <td>CompShg</td>\n",
       "      <td>VinylSd</td>\n",
       "      <td>VinylSd</td>\n",
       "      <td>...</td>\n",
       "      <td>1</td>\n",
       "      <td>TA</td>\n",
       "      <td>Attchd</td>\n",
       "      <td>2000.0</td>\n",
       "      <td>RFn</td>\n",
       "      <td>3</td>\n",
       "      <td>836</td>\n",
       "      <td>TA</td>\n",
       "      <td>TA</td>\n",
       "      <td>Y</td>\n",
       "      <td>192</td>\n",
       "      <td>84</td>\n",
       "      <td>0</td>\n",
       "      <td>0</td>\n",
       "      <td>0</td>\n",
       "      <td>0</td>\n",
       "      <td>NaN</td>\n",
       "      <td>NaN</td>\n",
       "      <td>NaN</td>\n",
       "      <td>0</td>\n",
       "      <td>12</td>\n",
       "      <td>2008</td>\n",
       "      <td>WD</td>\n",
       "      <td>Normal</td>\n",
       "      <td>250000</td>\n",
       "    </tr>\n",
       "  </tbody>\n",
       "</table>\n",
       "<p>5 rows × 81 columns</p>\n",
       "</div>"
      ],
      "text/plain": [
       "   Id  MSSubClass MSZoning  LotFrontage  LotArea Street Alley LotShape  \\\n",
       "0   1          60       RL         65.0     8450   Pave   NaN      Reg   \n",
       "1   2          20       RL         80.0     9600   Pave   NaN      Reg   \n",
       "2   3          60       RL         68.0    11250   Pave   NaN      IR1   \n",
       "3   4          70       RL         60.0     9550   Pave   NaN      IR1   \n",
       "4   5          60       RL         84.0    14260   Pave   NaN      IR1   \n",
       "\n",
       "  LandContour Utilities LotConfig LandSlope Neighborhood Condition1  \\\n",
       "0         Lvl    AllPub    Inside       Gtl      CollgCr       Norm   \n",
       "1         Lvl    AllPub       FR2       Gtl      Veenker      Feedr   \n",
       "2         Lvl    AllPub    Inside       Gtl      CollgCr       Norm   \n",
       "3         Lvl    AllPub    Corner       Gtl      Crawfor       Norm   \n",
       "4         Lvl    AllPub       FR2       Gtl      NoRidge       Norm   \n",
       "\n",
       "  Condition2 BldgType HouseStyle  OverallQual  OverallCond  YearBuilt  \\\n",
       "0       Norm     1Fam     2Story            7            5       2003   \n",
       "1       Norm     1Fam     1Story            6            8       1976   \n",
       "2       Norm     1Fam     2Story            7            5       2001   \n",
       "3       Norm     1Fam     2Story            7            5       1915   \n",
       "4       Norm     1Fam     2Story            8            5       2000   \n",
       "\n",
       "   YearRemodAdd RoofStyle RoofMatl Exterior1st Exterior2nd  ... Fireplaces  \\\n",
       "0          2003     Gable  CompShg     VinylSd     VinylSd  ...          0   \n",
       "1          1976     Gable  CompShg     MetalSd     MetalSd  ...          1   \n",
       "2          2002     Gable  CompShg     VinylSd     VinylSd  ...          1   \n",
       "3          1970     Gable  CompShg     Wd Sdng     Wd Shng  ...          1   \n",
       "4          2000     Gable  CompShg     VinylSd     VinylSd  ...          1   \n",
       "\n",
       "   FireplaceQu GarageType GarageYrBlt GarageFinish GarageCars GarageArea  \\\n",
       "0          NaN     Attchd      2003.0          RFn          2        548   \n",
       "1           TA     Attchd      1976.0          RFn          2        460   \n",
       "2           TA     Attchd      2001.0          RFn          2        608   \n",
       "3           Gd     Detchd      1998.0          Unf          3        642   \n",
       "4           TA     Attchd      2000.0          RFn          3        836   \n",
       "\n",
       "  GarageQual GarageCond  PavedDrive WoodDeckSF  OpenPorchSF  EnclosedPorch  \\\n",
       "0         TA         TA           Y          0           61              0   \n",
       "1         TA         TA           Y        298            0              0   \n",
       "2         TA         TA           Y          0           42              0   \n",
       "3         TA         TA           Y          0           35            272   \n",
       "4         TA         TA           Y        192           84              0   \n",
       "\n",
       "   3SsnPorch ScreenPorch PoolArea PoolQC Fence  MiscFeature  MiscVal  MoSold  \\\n",
       "0          0           0        0    NaN   NaN          NaN        0       2   \n",
       "1          0           0        0    NaN   NaN          NaN        0       5   \n",
       "2          0           0        0    NaN   NaN          NaN        0       9   \n",
       "3          0           0        0    NaN   NaN          NaN        0       2   \n",
       "4          0           0        0    NaN   NaN          NaN        0      12   \n",
       "\n",
       "   YrSold  SaleType  SaleCondition  SalePrice  \n",
       "0    2008        WD         Normal     208500  \n",
       "1    2007        WD         Normal     181500  \n",
       "2    2008        WD         Normal     223500  \n",
       "3    2006        WD        Abnorml     140000  \n",
       "4    2008        WD         Normal     250000  \n",
       "\n",
       "[5 rows x 81 columns]"
      ]
     },
     "execution_count": 3,
     "metadata": {},
     "output_type": "execute_result"
    }
   ],
   "source": [
    "df_train.head(5)"
   ]
  },
  {
   "cell_type": "markdown",
   "metadata": {
    "pycharm": {
     "name": "#%% md\n"
    }
   },
   "source": [
    "<h5><center>Rozmiar zbioru treningowego</center></h5>"
   ]
  },
  {
   "cell_type": "code",
   "execution_count": 4,
   "metadata": {
    "pycharm": {
     "name": "#%%\n"
    }
   },
   "outputs": [
    {
     "data": {
      "text/plain": [
       "(1460, 81)"
      ]
     },
     "execution_count": 4,
     "metadata": {},
     "output_type": "execute_result"
    }
   ],
   "source": [
    "df_train.shape"
   ]
  },
  {
   "cell_type": "markdown",
   "metadata": {
    "pycharm": {
     "name": "#%% md\n"
    }
   },
   "source": [
    "<h5><center>Statystyki opisowe zbioru treningowego</center></h5>"
   ]
  },
  {
   "cell_type": "code",
   "execution_count": 5,
   "metadata": {
    "pycharm": {
     "name": "#%%\n"
    }
   },
   "outputs": [
    {
     "data": {
      "text/html": [
       "<div>\n",
       "<style scoped>\n",
       "    .dataframe tbody tr th:only-of-type {\n",
       "        vertical-align: middle;\n",
       "    }\n",
       "\n",
       "    .dataframe tbody tr th {\n",
       "        vertical-align: top;\n",
       "    }\n",
       "\n",
       "    .dataframe thead th {\n",
       "        text-align: right;\n",
       "    }\n",
       "</style>\n",
       "<table border=\"1\" class=\"dataframe\">\n",
       "  <thead>\n",
       "    <tr style=\"text-align: right;\">\n",
       "      <th></th>\n",
       "      <th>Id</th>\n",
       "      <th>MSSubClass</th>\n",
       "      <th>LotFrontage</th>\n",
       "      <th>LotArea</th>\n",
       "      <th>OverallQual</th>\n",
       "      <th>OverallCond</th>\n",
       "      <th>YearBuilt</th>\n",
       "      <th>YearRemodAdd</th>\n",
       "      <th>MasVnrArea</th>\n",
       "      <th>BsmtFinSF1</th>\n",
       "      <th>BsmtFinSF2</th>\n",
       "      <th>BsmtUnfSF</th>\n",
       "      <th>TotalBsmtSF</th>\n",
       "      <th>1stFlrSF</th>\n",
       "      <th>2ndFlrSF</th>\n",
       "      <th>LowQualFinSF</th>\n",
       "      <th>GrLivArea</th>\n",
       "      <th>BsmtFullBath</th>\n",
       "      <th>BsmtHalfBath</th>\n",
       "      <th>FullBath</th>\n",
       "      <th>HalfBath</th>\n",
       "      <th>BedroomAbvGr</th>\n",
       "      <th>KitchenAbvGr</th>\n",
       "      <th>TotRmsAbvGrd</th>\n",
       "      <th>Fireplaces</th>\n",
       "      <th>GarageYrBlt</th>\n",
       "      <th>GarageCars</th>\n",
       "      <th>GarageArea</th>\n",
       "      <th>WoodDeckSF</th>\n",
       "      <th>OpenPorchSF</th>\n",
       "      <th>EnclosedPorch</th>\n",
       "      <th>3SsnPorch</th>\n",
       "      <th>ScreenPorch</th>\n",
       "      <th>PoolArea</th>\n",
       "      <th>MiscVal</th>\n",
       "      <th>MoSold</th>\n",
       "      <th>YrSold</th>\n",
       "      <th>SalePrice</th>\n",
       "    </tr>\n",
       "  </thead>\n",
       "  <tbody>\n",
       "    <tr>\n",
       "      <th>count</th>\n",
       "      <td>1460.000000</td>\n",
       "      <td>1460.000000</td>\n",
       "      <td>1201.000000</td>\n",
       "      <td>1460.000000</td>\n",
       "      <td>1460.000000</td>\n",
       "      <td>1460.000000</td>\n",
       "      <td>1460.000000</td>\n",
       "      <td>1460.000000</td>\n",
       "      <td>1452.000000</td>\n",
       "      <td>1460.000000</td>\n",
       "      <td>1460.000000</td>\n",
       "      <td>1460.000000</td>\n",
       "      <td>1460.000000</td>\n",
       "      <td>1460.000000</td>\n",
       "      <td>1460.000000</td>\n",
       "      <td>1460.000000</td>\n",
       "      <td>1460.000000</td>\n",
       "      <td>1460.000000</td>\n",
       "      <td>1460.000000</td>\n",
       "      <td>1460.000000</td>\n",
       "      <td>1460.000000</td>\n",
       "      <td>1460.000000</td>\n",
       "      <td>1460.000000</td>\n",
       "      <td>1460.000000</td>\n",
       "      <td>1460.000000</td>\n",
       "      <td>1379.000000</td>\n",
       "      <td>1460.000000</td>\n",
       "      <td>1460.000000</td>\n",
       "      <td>1460.000000</td>\n",
       "      <td>1460.000000</td>\n",
       "      <td>1460.000000</td>\n",
       "      <td>1460.000000</td>\n",
       "      <td>1460.000000</td>\n",
       "      <td>1460.000000</td>\n",
       "      <td>1460.000000</td>\n",
       "      <td>1460.000000</td>\n",
       "      <td>1460.000000</td>\n",
       "      <td>1460.000000</td>\n",
       "    </tr>\n",
       "    <tr>\n",
       "      <th>mean</th>\n",
       "      <td>730.500000</td>\n",
       "      <td>56.897260</td>\n",
       "      <td>70.049958</td>\n",
       "      <td>10516.828082</td>\n",
       "      <td>6.099315</td>\n",
       "      <td>5.575342</td>\n",
       "      <td>1971.267808</td>\n",
       "      <td>1984.865753</td>\n",
       "      <td>103.685262</td>\n",
       "      <td>443.639726</td>\n",
       "      <td>46.549315</td>\n",
       "      <td>567.240411</td>\n",
       "      <td>1057.429452</td>\n",
       "      <td>1162.626712</td>\n",
       "      <td>346.992466</td>\n",
       "      <td>5.844521</td>\n",
       "      <td>1515.463699</td>\n",
       "      <td>0.425342</td>\n",
       "      <td>0.057534</td>\n",
       "      <td>1.565068</td>\n",
       "      <td>0.382877</td>\n",
       "      <td>2.866438</td>\n",
       "      <td>1.046575</td>\n",
       "      <td>6.517808</td>\n",
       "      <td>0.613014</td>\n",
       "      <td>1978.506164</td>\n",
       "      <td>1.767123</td>\n",
       "      <td>472.980137</td>\n",
       "      <td>94.244521</td>\n",
       "      <td>46.660274</td>\n",
       "      <td>21.954110</td>\n",
       "      <td>3.409589</td>\n",
       "      <td>15.060959</td>\n",
       "      <td>2.758904</td>\n",
       "      <td>43.489041</td>\n",
       "      <td>6.321918</td>\n",
       "      <td>2007.815753</td>\n",
       "      <td>180921.195890</td>\n",
       "    </tr>\n",
       "    <tr>\n",
       "      <th>std</th>\n",
       "      <td>421.610009</td>\n",
       "      <td>42.300571</td>\n",
       "      <td>24.284752</td>\n",
       "      <td>9981.264932</td>\n",
       "      <td>1.382997</td>\n",
       "      <td>1.112799</td>\n",
       "      <td>30.202904</td>\n",
       "      <td>20.645407</td>\n",
       "      <td>181.066207</td>\n",
       "      <td>456.098091</td>\n",
       "      <td>161.319273</td>\n",
       "      <td>441.866955</td>\n",
       "      <td>438.705324</td>\n",
       "      <td>386.587738</td>\n",
       "      <td>436.528436</td>\n",
       "      <td>48.623081</td>\n",
       "      <td>525.480383</td>\n",
       "      <td>0.518911</td>\n",
       "      <td>0.238753</td>\n",
       "      <td>0.550916</td>\n",
       "      <td>0.502885</td>\n",
       "      <td>0.815778</td>\n",
       "      <td>0.220338</td>\n",
       "      <td>1.625393</td>\n",
       "      <td>0.644666</td>\n",
       "      <td>24.689725</td>\n",
       "      <td>0.747315</td>\n",
       "      <td>213.804841</td>\n",
       "      <td>125.338794</td>\n",
       "      <td>66.256028</td>\n",
       "      <td>61.119149</td>\n",
       "      <td>29.317331</td>\n",
       "      <td>55.757415</td>\n",
       "      <td>40.177307</td>\n",
       "      <td>496.123024</td>\n",
       "      <td>2.703626</td>\n",
       "      <td>1.328095</td>\n",
       "      <td>79442.502883</td>\n",
       "    </tr>\n",
       "    <tr>\n",
       "      <th>min</th>\n",
       "      <td>1.000000</td>\n",
       "      <td>20.000000</td>\n",
       "      <td>21.000000</td>\n",
       "      <td>1300.000000</td>\n",
       "      <td>1.000000</td>\n",
       "      <td>1.000000</td>\n",
       "      <td>1872.000000</td>\n",
       "      <td>1950.000000</td>\n",
       "      <td>0.000000</td>\n",
       "      <td>0.000000</td>\n",
       "      <td>0.000000</td>\n",
       "      <td>0.000000</td>\n",
       "      <td>0.000000</td>\n",
       "      <td>334.000000</td>\n",
       "      <td>0.000000</td>\n",
       "      <td>0.000000</td>\n",
       "      <td>334.000000</td>\n",
       "      <td>0.000000</td>\n",
       "      <td>0.000000</td>\n",
       "      <td>0.000000</td>\n",
       "      <td>0.000000</td>\n",
       "      <td>0.000000</td>\n",
       "      <td>0.000000</td>\n",
       "      <td>2.000000</td>\n",
       "      <td>0.000000</td>\n",
       "      <td>1900.000000</td>\n",
       "      <td>0.000000</td>\n",
       "      <td>0.000000</td>\n",
       "      <td>0.000000</td>\n",
       "      <td>0.000000</td>\n",
       "      <td>0.000000</td>\n",
       "      <td>0.000000</td>\n",
       "      <td>0.000000</td>\n",
       "      <td>0.000000</td>\n",
       "      <td>0.000000</td>\n",
       "      <td>1.000000</td>\n",
       "      <td>2006.000000</td>\n",
       "      <td>34900.000000</td>\n",
       "    </tr>\n",
       "    <tr>\n",
       "      <th>25%</th>\n",
       "      <td>365.750000</td>\n",
       "      <td>20.000000</td>\n",
       "      <td>59.000000</td>\n",
       "      <td>7553.500000</td>\n",
       "      <td>5.000000</td>\n",
       "      <td>5.000000</td>\n",
       "      <td>1954.000000</td>\n",
       "      <td>1967.000000</td>\n",
       "      <td>0.000000</td>\n",
       "      <td>0.000000</td>\n",
       "      <td>0.000000</td>\n",
       "      <td>223.000000</td>\n",
       "      <td>795.750000</td>\n",
       "      <td>882.000000</td>\n",
       "      <td>0.000000</td>\n",
       "      <td>0.000000</td>\n",
       "      <td>1129.500000</td>\n",
       "      <td>0.000000</td>\n",
       "      <td>0.000000</td>\n",
       "      <td>1.000000</td>\n",
       "      <td>0.000000</td>\n",
       "      <td>2.000000</td>\n",
       "      <td>1.000000</td>\n",
       "      <td>5.000000</td>\n",
       "      <td>0.000000</td>\n",
       "      <td>1961.000000</td>\n",
       "      <td>1.000000</td>\n",
       "      <td>334.500000</td>\n",
       "      <td>0.000000</td>\n",
       "      <td>0.000000</td>\n",
       "      <td>0.000000</td>\n",
       "      <td>0.000000</td>\n",
       "      <td>0.000000</td>\n",
       "      <td>0.000000</td>\n",
       "      <td>0.000000</td>\n",
       "      <td>5.000000</td>\n",
       "      <td>2007.000000</td>\n",
       "      <td>129975.000000</td>\n",
       "    </tr>\n",
       "    <tr>\n",
       "      <th>50%</th>\n",
       "      <td>730.500000</td>\n",
       "      <td>50.000000</td>\n",
       "      <td>69.000000</td>\n",
       "      <td>9478.500000</td>\n",
       "      <td>6.000000</td>\n",
       "      <td>5.000000</td>\n",
       "      <td>1973.000000</td>\n",
       "      <td>1994.000000</td>\n",
       "      <td>0.000000</td>\n",
       "      <td>383.500000</td>\n",
       "      <td>0.000000</td>\n",
       "      <td>477.500000</td>\n",
       "      <td>991.500000</td>\n",
       "      <td>1087.000000</td>\n",
       "      <td>0.000000</td>\n",
       "      <td>0.000000</td>\n",
       "      <td>1464.000000</td>\n",
       "      <td>0.000000</td>\n",
       "      <td>0.000000</td>\n",
       "      <td>2.000000</td>\n",
       "      <td>0.000000</td>\n",
       "      <td>3.000000</td>\n",
       "      <td>1.000000</td>\n",
       "      <td>6.000000</td>\n",
       "      <td>1.000000</td>\n",
       "      <td>1980.000000</td>\n",
       "      <td>2.000000</td>\n",
       "      <td>480.000000</td>\n",
       "      <td>0.000000</td>\n",
       "      <td>25.000000</td>\n",
       "      <td>0.000000</td>\n",
       "      <td>0.000000</td>\n",
       "      <td>0.000000</td>\n",
       "      <td>0.000000</td>\n",
       "      <td>0.000000</td>\n",
       "      <td>6.000000</td>\n",
       "      <td>2008.000000</td>\n",
       "      <td>163000.000000</td>\n",
       "    </tr>\n",
       "    <tr>\n",
       "      <th>75%</th>\n",
       "      <td>1095.250000</td>\n",
       "      <td>70.000000</td>\n",
       "      <td>80.000000</td>\n",
       "      <td>11601.500000</td>\n",
       "      <td>7.000000</td>\n",
       "      <td>6.000000</td>\n",
       "      <td>2000.000000</td>\n",
       "      <td>2004.000000</td>\n",
       "      <td>166.000000</td>\n",
       "      <td>712.250000</td>\n",
       "      <td>0.000000</td>\n",
       "      <td>808.000000</td>\n",
       "      <td>1298.250000</td>\n",
       "      <td>1391.250000</td>\n",
       "      <td>728.000000</td>\n",
       "      <td>0.000000</td>\n",
       "      <td>1776.750000</td>\n",
       "      <td>1.000000</td>\n",
       "      <td>0.000000</td>\n",
       "      <td>2.000000</td>\n",
       "      <td>1.000000</td>\n",
       "      <td>3.000000</td>\n",
       "      <td>1.000000</td>\n",
       "      <td>7.000000</td>\n",
       "      <td>1.000000</td>\n",
       "      <td>2002.000000</td>\n",
       "      <td>2.000000</td>\n",
       "      <td>576.000000</td>\n",
       "      <td>168.000000</td>\n",
       "      <td>68.000000</td>\n",
       "      <td>0.000000</td>\n",
       "      <td>0.000000</td>\n",
       "      <td>0.000000</td>\n",
       "      <td>0.000000</td>\n",
       "      <td>0.000000</td>\n",
       "      <td>8.000000</td>\n",
       "      <td>2009.000000</td>\n",
       "      <td>214000.000000</td>\n",
       "    </tr>\n",
       "    <tr>\n",
       "      <th>max</th>\n",
       "      <td>1460.000000</td>\n",
       "      <td>190.000000</td>\n",
       "      <td>313.000000</td>\n",
       "      <td>215245.000000</td>\n",
       "      <td>10.000000</td>\n",
       "      <td>9.000000</td>\n",
       "      <td>2010.000000</td>\n",
       "      <td>2010.000000</td>\n",
       "      <td>1600.000000</td>\n",
       "      <td>5644.000000</td>\n",
       "      <td>1474.000000</td>\n",
       "      <td>2336.000000</td>\n",
       "      <td>6110.000000</td>\n",
       "      <td>4692.000000</td>\n",
       "      <td>2065.000000</td>\n",
       "      <td>572.000000</td>\n",
       "      <td>5642.000000</td>\n",
       "      <td>3.000000</td>\n",
       "      <td>2.000000</td>\n",
       "      <td>3.000000</td>\n",
       "      <td>2.000000</td>\n",
       "      <td>8.000000</td>\n",
       "      <td>3.000000</td>\n",
       "      <td>14.000000</td>\n",
       "      <td>3.000000</td>\n",
       "      <td>2010.000000</td>\n",
       "      <td>4.000000</td>\n",
       "      <td>1418.000000</td>\n",
       "      <td>857.000000</td>\n",
       "      <td>547.000000</td>\n",
       "      <td>552.000000</td>\n",
       "      <td>508.000000</td>\n",
       "      <td>480.000000</td>\n",
       "      <td>738.000000</td>\n",
       "      <td>15500.000000</td>\n",
       "      <td>12.000000</td>\n",
       "      <td>2010.000000</td>\n",
       "      <td>755000.000000</td>\n",
       "    </tr>\n",
       "  </tbody>\n",
       "</table>\n",
       "</div>"
      ],
      "text/plain": [
       "                Id   MSSubClass  LotFrontage        LotArea  OverallQual  \\\n",
       "count  1460.000000  1460.000000  1201.000000    1460.000000  1460.000000   \n",
       "mean    730.500000    56.897260    70.049958   10516.828082     6.099315   \n",
       "std     421.610009    42.300571    24.284752    9981.264932     1.382997   \n",
       "min       1.000000    20.000000    21.000000    1300.000000     1.000000   \n",
       "25%     365.750000    20.000000    59.000000    7553.500000     5.000000   \n",
       "50%     730.500000    50.000000    69.000000    9478.500000     6.000000   \n",
       "75%    1095.250000    70.000000    80.000000   11601.500000     7.000000   \n",
       "max    1460.000000   190.000000   313.000000  215245.000000    10.000000   \n",
       "\n",
       "       OverallCond    YearBuilt  YearRemodAdd   MasVnrArea   BsmtFinSF1  \\\n",
       "count  1460.000000  1460.000000   1460.000000  1452.000000  1460.000000   \n",
       "mean      5.575342  1971.267808   1984.865753   103.685262   443.639726   \n",
       "std       1.112799    30.202904     20.645407   181.066207   456.098091   \n",
       "min       1.000000  1872.000000   1950.000000     0.000000     0.000000   \n",
       "25%       5.000000  1954.000000   1967.000000     0.000000     0.000000   \n",
       "50%       5.000000  1973.000000   1994.000000     0.000000   383.500000   \n",
       "75%       6.000000  2000.000000   2004.000000   166.000000   712.250000   \n",
       "max       9.000000  2010.000000   2010.000000  1600.000000  5644.000000   \n",
       "\n",
       "        BsmtFinSF2    BsmtUnfSF  TotalBsmtSF     1stFlrSF     2ndFlrSF  \\\n",
       "count  1460.000000  1460.000000  1460.000000  1460.000000  1460.000000   \n",
       "mean     46.549315   567.240411  1057.429452  1162.626712   346.992466   \n",
       "std     161.319273   441.866955   438.705324   386.587738   436.528436   \n",
       "min       0.000000     0.000000     0.000000   334.000000     0.000000   \n",
       "25%       0.000000   223.000000   795.750000   882.000000     0.000000   \n",
       "50%       0.000000   477.500000   991.500000  1087.000000     0.000000   \n",
       "75%       0.000000   808.000000  1298.250000  1391.250000   728.000000   \n",
       "max    1474.000000  2336.000000  6110.000000  4692.000000  2065.000000   \n",
       "\n",
       "       LowQualFinSF    GrLivArea  BsmtFullBath  BsmtHalfBath     FullBath  \\\n",
       "count   1460.000000  1460.000000   1460.000000   1460.000000  1460.000000   \n",
       "mean       5.844521  1515.463699      0.425342      0.057534     1.565068   \n",
       "std       48.623081   525.480383      0.518911      0.238753     0.550916   \n",
       "min        0.000000   334.000000      0.000000      0.000000     0.000000   \n",
       "25%        0.000000  1129.500000      0.000000      0.000000     1.000000   \n",
       "50%        0.000000  1464.000000      0.000000      0.000000     2.000000   \n",
       "75%        0.000000  1776.750000      1.000000      0.000000     2.000000   \n",
       "max      572.000000  5642.000000      3.000000      2.000000     3.000000   \n",
       "\n",
       "          HalfBath  BedroomAbvGr  KitchenAbvGr  TotRmsAbvGrd   Fireplaces  \\\n",
       "count  1460.000000   1460.000000   1460.000000   1460.000000  1460.000000   \n",
       "mean      0.382877      2.866438      1.046575      6.517808     0.613014   \n",
       "std       0.502885      0.815778      0.220338      1.625393     0.644666   \n",
       "min       0.000000      0.000000      0.000000      2.000000     0.000000   \n",
       "25%       0.000000      2.000000      1.000000      5.000000     0.000000   \n",
       "50%       0.000000      3.000000      1.000000      6.000000     1.000000   \n",
       "75%       1.000000      3.000000      1.000000      7.000000     1.000000   \n",
       "max       2.000000      8.000000      3.000000     14.000000     3.000000   \n",
       "\n",
       "       GarageYrBlt   GarageCars   GarageArea   WoodDeckSF  OpenPorchSF  \\\n",
       "count  1379.000000  1460.000000  1460.000000  1460.000000  1460.000000   \n",
       "mean   1978.506164     1.767123   472.980137    94.244521    46.660274   \n",
       "std      24.689725     0.747315   213.804841   125.338794    66.256028   \n",
       "min    1900.000000     0.000000     0.000000     0.000000     0.000000   \n",
       "25%    1961.000000     1.000000   334.500000     0.000000     0.000000   \n",
       "50%    1980.000000     2.000000   480.000000     0.000000    25.000000   \n",
       "75%    2002.000000     2.000000   576.000000   168.000000    68.000000   \n",
       "max    2010.000000     4.000000  1418.000000   857.000000   547.000000   \n",
       "\n",
       "       EnclosedPorch    3SsnPorch  ScreenPorch     PoolArea       MiscVal  \\\n",
       "count    1460.000000  1460.000000  1460.000000  1460.000000   1460.000000   \n",
       "mean       21.954110     3.409589    15.060959     2.758904     43.489041   \n",
       "std        61.119149    29.317331    55.757415    40.177307    496.123024   \n",
       "min         0.000000     0.000000     0.000000     0.000000      0.000000   \n",
       "25%         0.000000     0.000000     0.000000     0.000000      0.000000   \n",
       "50%         0.000000     0.000000     0.000000     0.000000      0.000000   \n",
       "75%         0.000000     0.000000     0.000000     0.000000      0.000000   \n",
       "max       552.000000   508.000000   480.000000   738.000000  15500.000000   \n",
       "\n",
       "            MoSold       YrSold      SalePrice  \n",
       "count  1460.000000  1460.000000    1460.000000  \n",
       "mean      6.321918  2007.815753  180921.195890  \n",
       "std       2.703626     1.328095   79442.502883  \n",
       "min       1.000000  2006.000000   34900.000000  \n",
       "25%       5.000000  2007.000000  129975.000000  \n",
       "50%       6.000000  2008.000000  163000.000000  \n",
       "75%       8.000000  2009.000000  214000.000000  \n",
       "max      12.000000  2010.000000  755000.000000  "
      ]
     },
     "execution_count": 5,
     "metadata": {},
     "output_type": "execute_result"
    }
   ],
   "source": [
    "df_train.describe()"
   ]
  },
  {
   "cell_type": "markdown",
   "metadata": {
    "pycharm": {
     "name": "#%% md\n"
    }
   },
   "source": [
    "<h5><center>Brakujace wartości - top 10 - zbiór treningowy<h5><center>"
   ]
  },
  {
   "cell_type": "code",
   "execution_count": 6,
   "metadata": {
    "pycharm": {
     "name": "#%%\n"
    }
   },
   "outputs": [
    {
     "data": {
      "text/plain": [
       "PoolQC          1453\n",
       "MiscFeature     1406\n",
       "Alley           1369\n",
       "Fence           1179\n",
       "FireplaceQu      690\n",
       "LotFrontage      259\n",
       "GarageYrBlt       81\n",
       "GarageCond        81\n",
       "GarageType        81\n",
       "GarageFinish      81\n",
       "dtype: int64"
      ]
     },
     "execution_count": 6,
     "metadata": {},
     "output_type": "execute_result"
    }
   ],
   "source": [
    "df_train.isnull().sum().sort_values(ascending=False).head(10)"
   ]
  },
  {
   "cell_type": "code",
   "execution_count": 7,
   "metadata": {
    "pycharm": {
     "name": "#%%\n"
    }
   },
   "outputs": [
    {
     "data": {
      "text/plain": [
       "<AxesSubplot: >"
      ]
     },
     "execution_count": 7,
     "metadata": {},
     "output_type": "execute_result"
    },
    {
     "data": {
      "image/png": "[encoded data removed]",
      "text/plain": [
       "<Figure size 2500x1000 with 2 Axes>"
      ]
     },
     "metadata": {},
     "output_type": "display_data"
    }
   ],
   "source": [
    "msno.matrix(df_train)"
   ]
  },
  {
   "cell_type": "markdown",
   "metadata": {
    "pycharm": {
     "name": "#%% md\n"
    }
   },
   "source": [
    "<h5><center>Brakujące dane zbiór treningowy - histogram</center></h5>"
   ]
  },
  {
   "cell_type": "markdown",
   "metadata": {
    "pycharm": {
     "name": "#%% md\n"
    }
   },
   "source": [
    "Atrybuty, dla których odnotowano brakujące dane przedstawia poniższy rysunek. Największe braki (powyżej 1000) odnotowano dla zmiennych:\n",
    "•\tPoolQC (tj. jakość basenu) – zgodnie z opisem danych należy to interpretować jako brak basenu – braki danych wypełniono wartością „None”,\n",
    "•\tMiscFeature (tj. Różne funkcje nie uwzględnione w pozostałych kategoriach) – zgodnie z opisem danych jest to wartość None oznaczająca brak danych,\n",
    "•\tAlley (Rodzaj dostępu do alejki) – zgodnie z opisem danych jest to brak dostępu do alei,\n",
    "•\tFence (tj. jakość ogrodzenia) – zgodnie z opisem danych jest to brak ogrodzenia.\n",
    "\n",
    "W przypadku pozostałych zmiennych:\n",
    "FireplaceQu – zgodnie z opisem danych jest to brak kominka,\n",
    "GarageCond, GarageType, GarageFinish, GarageQual - brak garażu,\n",
    "BsmtFinType1, BsmtFinType2, BsmtExposure, BsmtQual, BsmtCond – brak piwnicy,\n",
    "MasVnrType – brak okleiny murowanej,\n",
    "Electrical – brak danych w dokumentacji dot. brakujących danych,\n",
    "LotFrontage – brak danych w dokumentacji dot. brakujących danych – brakujące dane zostały uzupełnione medianą,\n",
    "GarageYrBlt – brak danych w dokumentacji dot. brakujących danych,\n",
    "MasVnrArea – brak danych w dokumentacji dot. brakujących danych -– brakujące dane zostały uzupełnionę medianą.\n",
    "\n",
    "Braki danych uzupełnione zostały w ten sam sposób dla zbioru treningowego jak i testowego. Poza tym w przypadku zbioru testowego stwierdzono także braki danych dla następujących atrybutów:\n",
    "* MSZoning,\n",
    "* Utilities,\n",
    "* KitchenQual,\n",
    "* SaleType\n",
    "\n",
    "w dokumentacji nie przedstawiono opisu dot. ww. brakujących danych. Zostały one uzupełnione przy pomocy najczęściej występującej wartości.\n",
    "\n"
   ]
  },
  {
   "cell_type": "code",
   "execution_count": null,
   "metadata": {
    "pycharm": {
     "name": "#%%\n"
    }
   },
   "outputs": [],
   "source": [
    "md = MissingData(df_train)\n",
    "md.miss_data_hist()"
   ]
  },
  {
   "cell_type": "markdown",
   "metadata": {
    "pycharm": {
     "name": "#%% md\n"
    }
   },
   "source": [
    "## <center>Zmienna Objaśniana - Cena sprzedaży nieruchomości</center><a id=\"sekcja-2\"></a>"
   ]
  },
  {
   "cell_type": "markdown",
   "metadata": {
    "pycharm": {
     "name": "#%% md\n"
    }
   },
   "source": [
    "Zmienną objaśnianą jest cena sprzedaży.\n",
    "Średnia cena sprzedaży wynosi 180 tysięcy."
   ]
  },
  {
   "cell_type": "code",
   "execution_count": null,
   "metadata": {
    "pycharm": {
     "name": "#%%\n"
    }
   },
   "outputs": [],
   "source": [
    "print(\"Skośność zmiennej objaśnianej wynosi {0}, a kurtoza {1}\".format(df_train.SalePrice.skew(),df_train.SalePrice.kurt()))"
   ]
  },
  {
   "cell_type": "markdown",
   "metadata": {
    "pycharm": {
     "name": "#%% md\n"
    }
   },
   "source": [
    "<h6><center>Celem zmniejszenia skośności zmiennej objaśnianej zostanie ona poddana transformacji logarytmicznej. Transformacja użyta będzie tylko wewnatrz Pipeline'a.<br> Zarówno na wejściu jak i wyjściu modelu dane zostana zachowane w oryginalnej formie.</center></h6>"
   ]
  },
  {
   "cell_type": "markdown",
   "metadata": {
    "pycharm": {
     "name": "#%% md\n"
    }
   },
   "source": []
  },
  {
   "cell_type": "code",
   "execution_count": null,
   "metadata": {
    "pycharm": {
     "name": "#%%\n"
    }
   },
   "outputs": [
    {
     "data": {
      "application/vnd.plotly.v1+json": {
       "config": {
        "plotlyServerURL": "https://plot.ly"
       },
       "data": [
        {
         "legendgroup": "SalePrice",
         "marker": {
          "color": "red"
         },
         "mode": "lines",
         "name": "SalePrice",
         "showlegend": true,
         "type": "scatter",
         "x": [
          34900,
          36340.2,
          37780.4,
          39220.6,
          40660.8,
          42101,
          43541.2,
          44981.4,
          46421.6,
          47861.8,
          49302,
          50742.2,
          52182.4,
          53622.6,
          55062.8,
          56503,
          57943.2,
          59383.4,
          60823.6,
          62263.8,
          63704,
          65144.2,
          66584.4,
          68024.6,
          69464.8,
          70905,
          72345.2,
          73785.4,
          75225.6,
          76665.8,
          78106,
          79546.2,
          80986.4,
          82426.6,
          83866.8,
          85307,
          86747.2,
          88187.4,
          89627.6,
          91067.8,
          92508,
          93948.2,
          95388.4,
          96828.6,
          98268.8,
          99709,
          101149.2,
          102589.4,
          104029.6,
          105469.8,
          106910,
          108350.2,
          109790.4,
          111230.6,
          112670.8,
          114111,
          115551.2,
          116991.4,
          118431.6,
          119871.8,
          121312,
          122752.2,
          124192.4,
          125632.6,
          127072.8,
          128513,
          129953.2,
          131393.4,
          132833.6,
          134273.8,
          135714,
          137154.2,
          138594.4,
          140034.6,
          141474.8,
          142915,
          144355.2,
          145795.4,
          147235.6,
          148675.8,
          150116,
          151556.2,
          152996.4,
          154436.6,
          155876.8,
          157317,
          158757.2,
          160197.4,
          161637.6,
          163077.8,
          164518,
          165958.2,
          167398.4,
          168838.6,
          170278.8,
          171719,
          173159.2,
          174599.4,
          176039.6,
          177479.8,
          178920,
          180360.2,
          181800.4,
          183240.6,
          184680.8,
          186121,
          187561.2,
          189001.4,
          190441.6,
          191881.8,
          193322,
          194762.2,
          196202.4,
          197642.6,
          199082.8,
          200523,
          201963.2,
          203403.4,
          204843.6,
          206283.8,
          207724,
          209164.2,
          210604.4,
          212044.6,
          213484.8,
          214925,
          216365.2,
          217805.4,
          219245.6,
          220685.8,
          222126,
          223566.2,
          225006.4,
          226446.6,
          227886.8,
          229327,
          230767.2,
          232207.4,
          233647.6,
          235087.8,
          236528,
          237968.2,
          239408.4,
          240848.6,
          242288.8,
          243729,
          245169.2,
          246609.4,
          248049.6,
          249489.8,
          250930,
          252370.2,
          253810.4,
          255250.6,
          256690.8,
          258131,
          259571.2,
          261011.4,
          262451.6,
          263891.8,
          265332,
          266772.2,
          268212.4,
          269652.6,
          271092.8,
          272533,
          273973.2,
          275413.4,
          276853.6,
          278293.8,
          279734,
          281174.2,
          282614.4,
          284054.6,
          285494.8,
          286935,
          288375.2,
          289815.4,
          291255.6,
          292695.8,
          294136,
          295576.2,
          297016.4,
          298456.6,
          299896.8,
          301337,
          302777.2,
          304217.4,
          305657.6,
          307097.8,
          308538,
          309978.2,
          311418.4,
          312858.6,
          314298.8,
          315739,
          317179.2,
          318619.4,
          320059.6,
          321499.8,
          322940,
          324380.2,
          325820.4,
          327260.6,
          328700.8,
          330141,
          331581.2,
          333021.4,
          334461.6,
          335901.8,
          337342,
          338782.2,
          340222.4,
          341662.6,
          343102.8,
          344543,
          345983.2,
          347423.4,
          348863.6,
          350303.8,
          351744,
          353184.2,
          354624.4,
          356064.6,
          357504.8,
          358945,
          360385.2,
          361825.4,
          363265.6,
          364705.8,
          366146,
          367586.2,
          369026.4,
          370466.6,
          371906.8,
          373347,
          374787.2,
          376227.4,
          377667.6,
          379107.8,
          380548,
          381988.2,
          383428.4,
          384868.6,
          386308.8,
          387749,
          389189.2,
          390629.4,
          392069.6,
          393509.8,
          394950,
          396390.2,
          397830.4,
          399270.6,
          400710.8,
          402151,
          403591.2,
          405031.4,
          406471.6,
          407911.8,
          409352,
          410792.2,
          412232.4,
          413672.6,
          415112.8,
          416553,
          417993.2,
          419433.4,
          420873.6,
          422313.8,
          423754,
          425194.2,
          426634.4,
          428074.6,
          429514.8,
          430955,
          432395.2,
          433835.4,
          435275.6,
          436715.8,
          438156,
          439596.2,
          441036.4,
          442476.6,
          443916.8,
          445357,
          446797.2,
          448237.4,
          449677.6,
          451117.8,
          452558,
          453998.2,
          455438.4,
          456878.6,
          458318.8,
          459759,
          461199.2,
          462639.4,
          464079.6,
          465519.8,
          466960,
          468400.2,
          469840.4,
          471280.6,
          472720.8,
          474161,
          475601.2,
          477041.4,
          478481.6,
          479921.8,
          481362,
          482802.2,
          484242.4,
          485682.6,
          487122.8,
          488563,
          490003.2,
          491443.4,
          492883.6,
          494323.8,
          495764,
          497204.2,
          498644.4,
          500084.6,
          501524.8,
          502965,
          504405.2,
          505845.4,
          507285.6,
          508725.8,
          510166,
          511606.2,
          513046.4,
          514486.6,
          515926.8,
          517367,
          518807.2,
          520247.4,
          521687.6,
          523127.8,
          524568,
          526008.2,
          527448.4,
          528888.6,
          530328.8,
          531769,
          533209.2,
          534649.4,
          536089.6,
          537529.8,
          538970,
          540410.2,
          541850.4,
          543290.6,
          544730.8,
          546171,
          547611.2,
          549051.4,
          550491.6,
          551931.8,
          553372,
          554812.2,
          556252.4,
          557692.6,
          559132.8,
          560573,
          562013.2,
          563453.4,
          564893.6,
          566333.8,
          567774,
          569214.2,
          570654.4,
          572094.6,
          573534.8,
          574975,
          576415.2,
          577855.4,
          579295.6,
          580735.8,
          582176,
          583616.2,
          585056.4,
          586496.6,
          587936.8,
          589377,
          590817.2,
          592257.4,
          593697.6,
          595137.8,
          596578,
          598018.2,
          599458.4,
          600898.6,
          602338.8,
          603779,
          605219.2,
          606659.4,
          608099.6,
          609539.8,
          610980,
          612420.2,
          613860.4,
          615300.6,
          616740.8,
          618181,
          619621.2,
          621061.4,
          622501.6,
          623941.8,
          625382,
          626822.2,
          628262.4,
          629702.6,
          631142.8,
          632583,
          634023.2,
          635463.4,
          636903.6,
          638343.8,
          639784,
          641224.2,
          642664.4,
          644104.6,
          645544.8,
          646985,
          648425.2,
          649865.4,
          651305.6,
          652745.8,
          654186,
          655626.2,
          657066.4,
          658506.6,
          659946.8,
          661387,
          662827.2,
          664267.4,
          665707.6,
          667147.8,
          668588,
          670028.2,
          671468.4,
          672908.6,
          674348.8,
          675789,
          677229.2,
          678669.4,
          680109.6,
          681549.8,
          682990,
          684430.2,
          685870.4,
          687310.6,
          688750.8,
          690191,
          691631.2,
          693071.4,
          694511.6,
          695951.8,
          697392,
          698832.2,
          700272.4,
          701712.6,
          703152.8,
          704593,
          706033.2,
          707473.4,
          708913.6,
          710353.8,
          711794,
          713234.2,
          714674.4,
          716114.6,
          717554.8,
          718995,
          720435.2,
          721875.4,
          723315.6,
          724755.8,
          726196,
          727636.2,
          729076.4,
          730516.6,
          731956.8,
          733397,
          734837.2,
          736277.4,
          737717.6,
          739157.8,
          740598,
          742038.2,
          743478.4,
          744918.6,
          746358.8,
          747799,
          749239.2,
          750679.4,
          752119.6,
          753559.8
         ],
         "xaxis": "x",
         "y": [
          9.265475079809133E-7,
          9.57806581380589E-7,
          9.897946697535475E-7,
          1.0225147318731854E-6,
          1.0559690908312896E-6,
          1.0901594099208402E-6,
          1.1250866688281504E-6,
          1.1607511401921958E-6,
          1.197152366589987E-6,
          1.2342891380077753E-6,
          1.2721594698586124E-6,
          1.3107605816074444E-6,
          1.3500888760653876E-6,
          1.3901399194151924E-6,
          1.4309084220300603E-6,
          1.4723882201480384E-6,
          1.5145722584640155E-6,
          1.557452573701102E-6,
          1.601020279222626E-6,
          1.6452655507453554E-6,
          1.690177613213698E-6,
          1.7357447288935905E-6,
          1.7819541867436004E-6,
          1.8287922931193485E-6,
          1.8762443638657588E-6,
          1.924294717849914E-6,
          1.9729266719852646E-6,
          2.022122537795845E-6,
          2.0718636195667945E-6,
          2.1221302141249434E-6,
          2.1729016122905593E-6,
          2.2241561020384528E-6,
          2.275870973403582E-6,
          2.328022525163119E-6,
          2.380586073323512E-6,
          2.4335359614375908E-6,
          2.4868455727730503E-6,
          2.540487344349833E-6,
          2.594432782859981E-6,
          2.6486524824794367E-6,
          2.7031161445770888E-6,
          2.7577925993220513E-6,
          2.812649829185769E-6,
          2.8676549943310807E-6,
          2.92277445987581E-6,
          2.9779738250138476E-6,
          3.0332179539720523E-6,
          3.0884710087765924E-6,
          3.1436964837976574E-6,
          3.198857242036747E-6,
          3.253915553116057E-6,
          3.308833132924775E-6,
          3.363571184872467E-6,
          3.418090442695153E-6,
          3.472351214755093E-6,
          3.5263134297709223E-6,
          3.579936683910345E-6,
          3.6331802891734137E-6,
          3.686003322990245E-6,
          3.7383646789530692E-6,
          3.790223118598677E-6,
          3.841537324153621E-6,
          3.892265952151088E-6,
          3.942367687825032E-6,
          3.991801300184052E-6,
          4.0405256976646685E-6,
          4.08849998426093E-6,
          4.135683516024947E-6,
          4.18203595783072E-6,
          4.22751734029177E-6,
          4.27208811672143E-6,
          4.315709220023257E-6,
          4.358342119398018E-6,
          4.399948876752843E-6,
          4.4404922026976625E-6,
          4.479935512013874E-6,
          4.518242978480236E-6,
          4.555379588941439E-6,
          4.591311196505504E-6,
          4.6260045727571495E-6,
          4.659427458875667E-6,
          4.6915486155473795E-6,
          4.722337871564807E-6,
          4.751766171006789E-6,
          4.779805618896435E-6,
          4.806429525236526E-6,
          4.831612447325151E-6,
          4.855330230257692E-6,
          4.877560045524958E-6,
          4.8982804276211475E-6,
          4.917471308579488E-6,
          4.935114050357779E-6,
          4.9511914750007045E-6,
          4.96568789251057E-6,
          4.978589126363177E-6,
          4.989882536610768E-6,
          4.999557040519299E-6,
          5.007603130692923E-6,
          5.014012890644149E-6,
          5.0187800077740095E-6,
          5.021899783732434E-6,
          5.023369142135027E-6,
          5.0231866336185066E-6,
          5.021352438223174E-6,
          5.017868365096943E-6,
          5.012737849521591E-6,
          5.005965947268088E-6,
          4.9975593262939885E-6,
          4.987526255801956E-6,
          4.975876592684581E-6,
          4.962621765386562E-6,
          4.9477747552212665E-6,
          4.9313500751844145E-6,
          4.913363746313279E-6,
          4.8938332716453245E-6,
          4.872777607835523E-6,
          4.850217134496785E-6,
          4.826173621332883E-6,
          4.800670193138095E-6,
          4.7737312927423E-6,
          4.74538264198462E-6,
          4.715651200802819E-6,
          4.684565124529493E-6,
          4.652153719489679E-6,
          4.618447396997857E-6,
          4.583477625855307E-6,
          4.5472768834516115E-6,
          4.509878605576489E-6,
          4.471317135050359E-6,
          4.431627669283913E-6,
          4.390846206878466E-6,
          4.3490094933802515E-6,
          4.30615496630261E-6,
          4.262320699530817E-6,
          4.21754534722456E-6,
          4.171868087333088E-6,
          4.125328564837905E-6,
          4.077966834837152E-6,
          4.029823305585108E-6,
          3.980938681599037E-6,
          3.93135390694416E-6,
          3.881110108805899E-6,
          3.830248541456509E-6,
          3.7788105307210504E-6,
          3.726837419045148E-6,
          3.6743705112643113E-6,
          3.6214510211716445E-6,
          3.568120018977635E-6,
          3.5144183797523766E-6,
          3.460386732937059E-6,
          3.4060654130078136E-6,
          3.351494411371184E-6,
          3.2967133295664284E-6,
          3.2417613338457406E-6,
          3.186677111199193E-6,
          3.131498826886802E-6,
          3.076264083535712E-6,
          3.02100988185585E-6,
          2.965772583022899E-6,
          2.9105878727726996E-6,
          2.8554907272465556E-6,
          2.8005153806221673E-6,
          2.7456952945602533E-6,
          2.691063129492165E-6,
          2.636650717769162E-6,
          2.582489038689371E-6,
          2.5286081954138044E-6,
          2.4750373937783572E-6,
          2.421804923004194E-6,
          2.3689381383045617E-6,
          2.316463445381838E-6,
          2.2644062868043755E-6,
          2.2127911302487253E-6,
          2.1616414585888425E-6,
          2.1109797618101035E-6,
          2.0608275307223365E-6,
          2.0112052524425136E-6,
          1.9621324076144616E-6,
          1.9136274693297497E-6,
          1.8657079037108783E-6,
          1.8183901721151302E-6,
          1.771689734914666E-6,
          1.7256210568060933E-6,
          1.6801976136003587E-6,
          1.6354319004417255E-6,
          1.5913354414027102E-6,
          1.5479188004000514E-6,
          1.5051915933752999E-6,
          1.463162501682233E-6,
          1.4218392866221134E-6,
          1.3812288050668616E-6,
          1.341337026109359E-6,
          1.3021690486795152E-6,
          1.2637291200642693E-6,
          1.2260206552694072E-6,
          1.189046257161008E-6,
          1.1528077373243437E-6,
          1.1173061375783084E-6,
          1.0825417520838229E-6,
          1.0485141499851537E-6,
          1.0152221985237915E-6,
          9.826640865652836E-7,
          9.508373484803775E-7,
          9.197388883228785E-7,
          8.893650042477621E-7,
          8.597114131144118E-7,
          8.307732752211579E-7,
          8.025452191188277E-7,
          7.750213664525352E-7,
          7.481953567825877E-7,
          7.220603723371019E-7,
          6.966091626506737E-7,
          6.718340690453014E-7,
          6.477270489116201E-7,
          6.242796997504425E-7,
          6.014832829365604E-7,
          5.793287471687214E-7,
          5.57806751571745E-7,
          5.369076884187387E-7,
          5.166217054434025E-7,
          4.969387277144814E-7,
          4.778484790464049E-7,
          4.593405029222269E-7,
          4.414041829069455E-7,
          4.240287625312999E-7,
          4.072033646280909E-7,
          3.909170101050006E-7,
          3.751586361397957E-7,
          3.599171137856618E-7,
          3.451812649762148E-7,
          3.3093987892153643E-7,
          3.171817278882812E-7,
          3.038955823585834E-7,
          2.9107022556410975E-7,
          2.7869446739316116E-7,
          2.667571576702282E-7,
          2.552471988088373E-7,
          2.4415355783990894E-7,
          2.33465277819161E-7,
          2.2317148861832116E-7,
          2.132614171061196E-7,
          2.0372439672611874E-7,
          1.9454987647950313E-7,
          1.8572742932192242E-7,
          1.7724675998439866E-7,
          1.6909771222915366E-7,
          1.6127027555198594E-7,
          1.53754591343557E-7,
          1.4654095852258007E-7,
          1.3961983865450384E-7,
          1.3298186056980543E-7,
          1.2661782449646862E-7,
          1.205187057216323E-7,
          1.1467565779773992E-7,
          1.0908001530881403E-7,
          1.0372329621271734E-7,
          9.859720377544355E-8,
          9.369362811362479E-8,
          8.900464736152147E-8,
          8.452252847880629E-8,
          8.023972771545196E-8,
          7.614889074998505E-8,
          7.224285251728535E-8,
          6.851463674199389E-8,
          6.49574551934276E-8,
          6.156470667772054E-8,
          5.832997578268185E-8,
          5.524703139062252E-8,
          5.230982497412067E-8,
          4.951248868940278E-8,
          4.684933328169714E-8,
          4.431484581657377E-8,
          4.19036872509302E-8,
          3.9610689856908637E-8,
          3.7430854511640795E-8,
          3.5359347865321256E-8,
          3.3391499399695195E-8,
          3.152279838863446E-8,
          2.9748890772045155E-8,
          2.8065575953924487E-8,
          2.646880353494806E-8,
          2.495466998953288E-8,
          2.3519415296885614E-8,
          2.2159419535108407E-8,
          2.0871199446998446E-8,
          1.9651404985748222E-8,
          1.8496815848322195E-8,
          1.7404338003863665E-8,
          1.6371000224069442E-8,
          1.5393950622055834E-8,
          1.4470453205839929E-8,
          1.3597884452162509E-8,
          1.2773729905992908E-8,
          1.199558081068144E-8,
          1.1261130773354343E-8,
          1.056817246979395E-8,
          9.914594392697922E-9,
          9.298377646877643E-9,
          8.717592794634188E-9,
          8.170396754236011E-9,
          7.655029754125552E-9,
          7.169812345192416E-9,
          6.71314247317501E-9,
          6.283492612990506E-9,
          5.8794069665386425E-9,
          5.4994987252880275E-9,
          5.142447398723835E-9,
          4.806996209520548E-9,
          4.491949556099861E-9,
          4.196170543039819E-9,
          3.918578579621189E-9,
          3.6581470466260177E-9,
          3.413901031343876E-9,
          3.1849151305933166E-9,
          2.9703113214262988E-9,
          2.76925689905628E-9,
          2.580962481430983E-9,
          2.4046800797618394E-9,
          2.2397012342225018E-9,
          2.085355213936505E-9,
          1.9410072802921176E-9,
          1.8060570125470731E-9,
          1.6799366946188692E-9,
          1.5621097618970546E-9,
          1.4520693068607894E-9,
          1.349336642239765E-9,
          1.2534599204166879E-9,
          1.1640128077363525E-9,
          1.0805932123588694E-9,
          1.0028220642721183E-9,
          9.30342146061601E-10,
          8.628169730234815E-10,
          7.999297211985775E-10,
          7.413822019016928E-10,
          6.868938813204268E-10,
          6.362009437617878E-10,
          5.89055397131767E-10,
          5.452242192432554E-10,
          5.04488543560782E-10,
          4.66642883005879E-10,
          4.314943904649652E-10,
          3.988621546614891E-10,
          3.6857653007593103E-10,
          3.4047849962097316E-10,
          3.1441906880400745E-10,
          2.9025869013570445E-10,
          2.678667165707119E-10,
          2.4712088279518465E-10,
          2.2790681320501825E-10,
          2.1011755544869235E-10,
          1.9365313843913567E-10,
          1.7842015376987914E-10,
          1.6433135950203515E-10,
          1.5130530531995363E-10,
          1.3926597808485707E-10,
          1.2814246684722816E-10,
          1.178686464099642E-10,
          1.0838287856549649E-10,
          9.962773016090515E-11,
          9.15497071755811E-11,
          8.409900402616631E-11,
          7.722926734315063E-11,
          7.089737349275045E-11,
          6.506321914633505E-11,
          5.968952422776842E-11,
          5.474164659653554E-11,
          5.018740785135022E-11,
          4.599692966516399E-11,
          4.2142480087991324E-11,
          3.859832927879562E-11,
          3.534061415179815E-11,
          3.234721144595749E-11,
          2.9597618749054465E-11,
          2.7072843029754604E-11,
          2.475529625223982E-11,
          2.2628697668502466E-11,
          2.067798240315379E-11,
          1.8889215964660607E-11,
          1.7249514335264253E-11,
          1.5746969309476022E-11,
          1.4370578768002026E-11,
          1.3110181590216568E-11,
          1.195639692391578E-11,
          1.0900567546036274E-11,
          9.934707062339974E-12,
          9.05145070776591E-12,
          8.244009522232608E-12,
          7.506127689179556E-12,
          6.832042836058621E-12,
          6.216449107357315E-12,
          5.654462831568969E-12,
          5.141590613832791E-12,
          4.673699695777213E-12,
          4.246990433418911E-12,
          3.857970752824064E-12,
          3.5034324516414094E-12,
          3.180429222583506E-12,
          2.8862562824867682E-12,
          2.6184314977316246E-12,
          2.3746779035732354E-12,
          2.152907521335975E-12,
          1.951206383473975E-12,
          1.7678206822159212E-12,
          1.6011439629055221E-12,
          1.4497052882372076E-12,
          1.3121583043832123E-12,
          1.1872711445257933E-12,
          1.0739171095630285E-12,
          9.710660697584373E-13,
          8.777765348684266E-13,
          7.931883438182872E-13,
          7.165159283187211E-13,
          6.470421079327768E-13,
          5.841123770272099E-13,
          5.271296467840106E-13,
          4.755494080166528E-13,
          4.2887528294075817E-13,
          3.86654936300266E-13,
          3.4847631835544085E-13,
          3.139642142074168E-13,
          2.8277707577287266E-13,
          2.546041144394017E-13,
          2.2916263403463493E-13,
          2.0619558523677401E-13,
          1.854693239474595E-13,
          1.6677155744616316E-13,
          1.4990946335402082E-13,
          1.347079675602193E-13,
          1.210081683105903E-13,
          1.0866589463107011E-13,
          9.755038816292225E-14,
          8.754309832628017E-14,
          7.853658150815854E-14,
          7.043349569423236E-14,
          6.31456826343588E-14,
          5.6593330253394355E-14,
          5.07042085946368E-14,
          4.5412973116389365E-14,
          4.066052965549483E-14,
          3.6393455828046213E-14,
          3.2563474059398495E-14,
          2.912697182543509E-14,
          2.604456504712805E-14,
          2.328070091281001E-14,
          2.080329670925987E-14,
          1.8583411525551983E-14,
          1.6594947954320256E-14,
          1.4814381155302856E-14,
          1.3220512867234538E-14,
          1.1794248157757469E-14,
          1.051839288835209E-14,
          9.377470043535201E-15,
          8.357553231909587E-15,
          7.446115812099963E-15,
          6.631894230181291E-15,
          5.904764277802011E-15,
          5.2556290926720075E-15,
          4.6763178262240934E-15,
          4.159493997783214E-15,
          3.698572641180909E-15,
          3.287645429056176E-15,
          2.9214130326674635E-15,
          2.595124041449956E-15,
          2.304519827276948E-15,
          2.045784793891866E-15,
          1.8155015026906564E-15,
          1.6106102123450073E-15,
          1.4283724120317339E-15,
          1.2663379666033519E-15,
          1.1223155272107723E-15,
          9.943458929549004E-16,
          8.806780383605646E-16,
          7.7974754807709E-16,
          6.901572244344445E-16,
          6.10659655527732E-16,
          5.401415515535849E-16,
          4.776096753504555E-16,
          4.2217820966114935E-16,
          3.730574186835827E-16,
          3.2954347513886633E-16,
          2.9100933648619313E-16,
          2.56896565163119E-16,
          2.267079979307616E-16,
          2.0000117864923402E-16,
          1.7638247718552387E-16,
          1.5550182474234763E-16,
          1.3704800276365649E-16,
          1.2074442878637352E-16,
          1.0634538822797449E-16,
          9.363266618046353E-17,
          8.241253787293345E-17,
          7.251308061237439E-17,
          6.378177375739094E-17,
          5.608335665935839E-17,
          4.929791755476575E-17,
          4.331918914222584E-17,
          3.805302905616125E-17,
          3.341606568245363E-17,
          2.9334491772664476E-17,
          2.5742990124189455E-17
         ],
         "yaxis": "y"
        },
        {
         "legendgroup": "SalePrice",
         "marker": {
          "color": "red",
          "symbol": "line-ns-open"
         },
         "mode": "markers",
         "name": "SalePrice",
         "showlegend": false,
         "type": "scatter",
         "x": [
          208500,
          181500,
          223500,
          140000,
          250000,
          143000,
          307000,
          200000,
          129900,
          118000,
          129500,
          345000,
          144000,
          279500,
          157000,
          132000,
          149000,
          90000,
          159000,
          139000,
          325300,
          139400,
          230000,
          129900,
          154000,
          256300,
          134800,
          306000,
          207500,
          68500,
          40000,
          149350,
          179900,
          165500,
          277500,
          309000,
          145000,
          153000,
          109000,
          82000,
          160000,
          170000,
          144000,
          130250,
          141000,
          319900,
          239686,
          249700,
          113000,
          127000,
          177000,
          114500,
          110000,
          385000,
          130000,
          180500,
          172500,
          196500,
          438780,
          124900,
          158000,
          101000,
          202500,
          140000,
          219500,
          317000,
          180000,
          226000,
          80000,
          225000,
          244000,
          129500,
          185000,
          144900,
          107400,
          91000,
          135750,
          127000,
          136500,
          110000,
          193500,
          153500,
          245000,
          126500,
          168500,
          260000,
          174000,
          164500,
          85000,
          123600,
          109900,
          98600,
          163500,
          133900,
          204750,
          185000,
          214000,
          94750,
          83000,
          128950,
          205000,
          178000,
          118964,
          198900,
          169500,
          250000,
          100000,
          115000,
          115000,
          190000,
          136900,
          180000,
          383970,
          217000,
          259500,
          176000,
          139000,
          155000,
          320000,
          163990,
          180000,
          100000,
          136000,
          153900,
          181000,
          84500,
          128000,
          87000,
          155000,
          150000,
          226000,
          244000,
          150750,
          220000,
          180000,
          174000,
          143000,
          171000,
          230000,
          231500,
          115000,
          260000,
          166000,
          204000,
          125000,
          130000,
          105000,
          222500,
          141000,
          115000,
          122000,
          372402,
          190000,
          235000,
          125000,
          79000,
          109500,
          269500,
          254900,
          320000,
          162500,
          412500,
          220000,
          103200,
          152000,
          127500,
          190000,
          325624,
          183500,
          228000,
          128500,
          215000,
          239000,
          163000,
          184000,
          243000,
          211000,
          172500,
          501837,
          100000,
          177000,
          200100,
          120000,
          200000,
          127000,
          475000,
          173000,
          135000,
          153337,
          286000,
          315000,
          184000,
          192000,
          130000,
          127000,
          148500,
          311872,
          235000,
          104000,
          274900,
          140000,
          171500,
          112000,
          149000,
          110000,
          180500,
          143900,
          141000,
          277000,
          145000,
          98000,
          186000,
          252678,
          156000,
          161750,
          134450,
          210000,
          107000,
          311500,
          167240,
          204900,
          200000,
          179900,
          97000,
          386250,
          112000,
          290000,
          106000,
          125000,
          192500,
          148000,
          403000,
          94500,
          128200,
          216500,
          89500,
          185500,
          194500,
          318000,
          113000,
          262500,
          110500,
          79000,
          120000,
          205000,
          241500,
          137000,
          140000,
          180000,
          277000,
          76500,
          235000,
          173000,
          158000,
          145000,
          230000,
          207500,
          220000,
          231500,
          97000,
          176000,
          276000,
          151000,
          130000,
          73000,
          175500,
          185000,
          179500,
          120500,
          148000,
          266000,
          241500,
          290000,
          139000,
          124500,
          205000,
          201000,
          141000,
          415298,
          192000,
          228500,
          185000,
          207500,
          244600,
          179200,
          164700,
          159000,
          88000,
          122000,
          153575,
          233230,
          135900,
          131000,
          235000,
          167000,
          142500,
          152000,
          239000,
          175000,
          158500,
          157000,
          267000,
          205000,
          149900,
          295000,
          305900,
          225000,
          89500,
          82500,
          360000,
          165600,
          132000,
          119900,
          375000,
          178000,
          188500,
          260000,
          270000,
          260000,
          187500,
          342643,
          354000,
          301000,
          126175,
          242000,
          87000,
          324000,
          145250,
          214500,
          78000,
          119000,
          139000,
          284000,
          207000,
          192000,
          228950,
          377426,
          214000,
          202500,
          155000,
          202900,
          82000,
          87500,
          266000,
          85000,
          140200,
          151500,
          157500,
          154000,
          437154,
          318061,
          190000,
          95000,
          105900,
          140000,
          177500,
          173000,
          134000,
          130000,
          280000,
          156000,
          145000,
          198500,
          118000,
          190000,
          147000,
          159000,
          165000,
          132000,
          162000,
          172400,
          134432,
          125000,
          123000,
          219500,
          61000,
          148000,
          340000,
          394432,
          179000,
          127000,
          187750,
          213500,
          76000,
          240000,
          192000,
          81000,
          125000,
          191000,
          426000,
          119000,
          215000,
          106500,
          100000,
          109000,
          129000,
          123000,
          169500,
          67000,
          241000,
          245500,
          164990,
          108000,
          258000,
          168000,
          150000,
          115000,
          177000,
          280000,
          339750,
          60000,
          145000,
          222000,
          115000,
          228000,
          181134,
          149500,
          239000,
          126000,
          142000,
          206300,
          215000,
          113000,
          315000,
          139000,
          135000,
          275000,
          109008,
          195400,
          175000,
          85400,
          79900,
          122500,
          181000,
          81000,
          212000,
          116000,
          119000,
          90350,
          110000,
          555000,
          118000,
          162900,
          172500,
          210000,
          127500,
          190000,
          199900,
          119500,
          120000,
          110000,
          280000,
          204000,
          210000,
          188000,
          175500,
          98000,
          256000,
          161000,
          110000,
          263435,
          155000,
          62383,
          188700,
          124000,
          178740,
          167000,
          146500,
          250000,
          187000,
          212000,
          190000,
          148000,
          440000,
          251000,
          132500,
          208900,
          380000,
          297000,
          89471,
          326000,
          374000,
          155000,
          164000,
          132500,
          147000,
          156000,
          175000,
          160000,
          86000,
          115000,
          133000,
          172785,
          155000,
          91300,
          34900,
          430000,
          184000,
          130000,
          120000,
          113000,
          226700,
          140000,
          289000,
          147000,
          124500,
          215000,
          208300,
          161000,
          124500,
          164900,
          202665,
          129900,
          134000,
          96500,
          402861,
          158000,
          265000,
          211000,
          234000,
          106250,
          150000,
          159000,
          184750,
          315750,
          176000,
          132000,
          446261,
          86000,
          200624,
          175000,
          128000,
          107500,
          39300,
          178000,
          107500,
          188000,
          111250,
          158000,
          272000,
          315000,
          248000,
          213250,
          133000,
          179665,
          229000,
          210000,
          129500,
          125000,
          263000,
          140000,
          112500,
          255500,
          108000,
          284000,
          113000,
          141000,
          108000,
          175000,
          234000,
          121500,
          170000,
          108000,
          185000,
          268000,
          128000,
          325000,
          214000,
          316600,
          135960,
          142600,
          120000,
          224500,
          170000,
          139000,
          118500,
          145000,
          164500,
          146000,
          131500,
          181900,
          253293,
          118500,
          325000,
          133000,
          369900,
          130000,
          137000,
          143000,
          79500,
          185900,
          451950,
          138000,
          140000,
          110000,
          319000,
          114504,
          194201,
          217500,
          151000,
          275000,
          141000,
          220000,
          151000,
          221000,
          205000,
          152000,
          225000,
          359100,
          118500,
          313000,
          148000,
          261500,
          147000,
          75500,
          137500,
          183200,
          105500,
          314813,
          305000,
          67000,
          240000,
          135000,
          168500,
          165150,
          160000,
          139900,
          153000,
          135000,
          168500,
          124000,
          209500,
          82500,
          139400,
          144000,
          200000,
          60000,
          93000,
          85000,
          264561,
          274000,
          226000,
          345000,
          152000,
          370878,
          143250,
          98300,
          155000,
          155000,
          84500,
          205950,
          108000,
          191000,
          135000,
          350000,
          88000,
          145500,
          149000,
          97500,
          167000,
          197900,
          402000,
          110000,
          137500,
          423000,
          230500,
          129000,
          193500,
          168000,
          137500,
          173500,
          103600,
          165000,
          257500,
          140000,
          148500,
          87000,
          109500,
          372500,
          128500,
          143000,
          159434,
          173000,
          285000,
          221000,
          207500,
          227875,
          148800,
          392000,
          194700,
          141000,
          755000,
          335000,
          108480,
          141500,
          176000,
          89000,
          123500,
          138500,
          196000,
          312500,
          140000,
          361919,
          140000,
          213000,
          55000,
          302000,
          254000,
          179540,
          109900,
          52000,
          102776,
          189000,
          129000,
          130500,
          165000,
          159500,
          157000,
          341000,
          128500,
          275000,
          143000,
          124500,
          135000,
          320000,
          120500,
          222000,
          194500,
          110000,
          103000,
          236500,
          187500,
          222500,
          131400,
          108000,
          163000,
          93500,
          239900,
          179000,
          190000,
          132000,
          142000,
          179000,
          175000,
          180000,
          299800,
          236000,
          265979,
          260400,
          98000,
          96500,
          162000,
          217000,
          275500,
          156000,
          172500,
          212000,
          158900,
          179400,
          290000,
          127500,
          100000,
          215200,
          337000,
          270000,
          264132,
          196500,
          160000,
          216837,
          538000,
          134900,
          102000,
          107000,
          114500,
          395000,
          162000,
          221500,
          142500,
          144000,
          135000,
          176000,
          175900,
          187100,
          165500,
          128000,
          161500,
          139000,
          233000,
          107900,
          187500,
          160200,
          146800,
          269790,
          225000,
          194500,
          171000,
          143500,
          110000,
          485000,
          175000,
          200000,
          109900,
          189000,
          582933,
          118000,
          227680,
          135500,
          223500,
          159950,
          106000,
          181000,
          144500,
          55993,
          157900,
          116000,
          224900,
          137000,
          271000,
          155000,
          224000,
          183000,
          93000,
          225000,
          139500,
          232600,
          385000,
          109500,
          189000,
          185000,
          147400,
          166000,
          151000,
          237000,
          167000,
          139950,
          128000,
          153500,
          100000,
          144000,
          130500,
          140000,
          157500,
          174900,
          141000,
          153900,
          171000,
          213000,
          133500,
          240000,
          187000,
          131500,
          215000,
          164000,
          158000,
          170000,
          127000,
          147000,
          174000,
          152000,
          250000,
          189950,
          131500,
          152000,
          132500,
          250580,
          148500,
          248900,
          129000,
          169000,
          236000,
          109500,
          200500,
          116000,
          133000,
          66500,
          303477,
          132250,
          350000,
          148000,
          136500,
          157000,
          187500,
          178000,
          118500,
          100000,
          328900,
          145000,
          135500,
          268000,
          149500,
          122900,
          172500,
          154500,
          165000,
          118858,
          140000,
          106500,
          142953,
          611657,
          135000,
          110000,
          153000,
          180000,
          240000,
          125500,
          128000,
          255000,
          250000,
          131000,
          174000,
          154300,
          143500,
          88000,
          145000,
          173733,
          75000,
          35311,
          135000,
          238000,
          176500,
          201000,
          145900,
          169990,
          193000,
          207500,
          175000,
          285000,
          176000,
          236500,
          222000,
          201000,
          117500,
          320000,
          190000,
          242000,
          79900,
          184900,
          253000,
          239799,
          244400,
          150900,
          214000,
          150000,
          143000,
          137500,
          124900,
          143000,
          270000,
          192500,
          197500,
          129000,
          119900,
          133900,
          172000,
          127500,
          145000,
          124000,
          132000,
          185000,
          155000,
          116500,
          272000,
          155000,
          239000,
          214900,
          178900,
          160000,
          135000,
          37900,
          140000,
          135000,
          173000,
          99500,
          182000,
          167500,
          165000,
          85500,
          199900,
          110000,
          139000,
          178400,
          336000,
          159895,
          255900,
          126000,
          125000,
          117000,
          395192,
          195000,
          197000,
          348000,
          168000,
          187000,
          173900,
          337500,
          121600,
          136500,
          185000,
          91000,
          206000,
          82000,
          86000,
          232000,
          136905,
          181000,
          149900,
          163500,
          88000,
          240000,
          102000,
          135000,
          100000,
          165000,
          85000,
          119200,
          227000,
          203000,
          187500,
          160000,
          213490,
          176000,
          194000,
          87000,
          191000,
          287000,
          112500,
          167500,
          293077,
          105000,
          118000,
          160000,
          197000,
          310000,
          230000,
          119750,
          84000,
          315500,
          287000,
          97000,
          80000,
          155000,
          173000,
          196000,
          262280,
          278000,
          139600,
          556581,
          145000,
          115000,
          84900,
          176485,
          200141,
          165000,
          144500,
          255000,
          180000,
          185850,
          248000,
          335000,
          220000,
          213500,
          81000,
          90000,
          110500,
          154000,
          328000,
          178000,
          167900,
          151400,
          135000,
          135000,
          154000,
          91500,
          159500,
          194000,
          219500,
          170000,
          138800,
          155900,
          126000,
          145000,
          133000,
          192000,
          160000,
          187500,
          147000,
          83500,
          252000,
          137500,
          197000,
          92900,
          160000,
          136500,
          146000,
          129000,
          176432,
          127000,
          170000,
          128000,
          157000,
          60000,
          119500,
          135000,
          159500,
          106000,
          325000,
          179900,
          274725,
          181000,
          280000,
          188000,
          205000,
          129900,
          134500,
          117000,
          318000,
          184100,
          130000,
          140000,
          133700,
          118400,
          212900,
          112000,
          118000,
          163900,
          115000,
          174000,
          259000,
          215000,
          140000,
          135000,
          93500,
          117500,
          239500,
          169000,
          102000,
          119000,
          94000,
          196000,
          144000,
          139000,
          197500,
          424870,
          80000,
          80000,
          149000,
          180000,
          174500,
          116900,
          143000,
          124000,
          149900,
          230000,
          120500,
          201800,
          218000,
          179900,
          230000,
          235128,
          185000,
          146000,
          224000,
          129000,
          108959,
          194000,
          233170,
          245350,
          173000,
          235000,
          625000,
          171000,
          163000,
          171900,
          200500,
          239000,
          285000,
          119500,
          115000,
          154900,
          93000,
          250000,
          392500,
          745000,
          120000,
          186700,
          104900,
          95000,
          262000,
          195000,
          189000,
          168000,
          174000,
          125000,
          165000,
          158000,
          176000,
          219210,
          144000,
          178000,
          148000,
          116050,
          197900,
          117000,
          213000,
          153500,
          271900,
          107000,
          200000,
          140000,
          290000,
          189000,
          164000,
          113000,
          145000,
          134500,
          125000,
          112000,
          229456,
          80500,
          91500,
          115000,
          134000,
          143000,
          137900,
          184000,
          145000,
          214000,
          147000,
          367294,
          127000,
          190000,
          132500,
          101800,
          142000,
          130000,
          138887,
          175500,
          195000,
          142500,
          265900,
          224900,
          248328,
          170000,
          465000,
          230000,
          178000,
          186500,
          169900,
          129500,
          119000,
          244000,
          171750,
          130000,
          294000,
          165400,
          127500,
          301500,
          99900,
          190000,
          151000,
          181000,
          128900,
          161500,
          180500,
          181000,
          183900,
          122000,
          378500,
          381000,
          144000,
          260000,
          185750,
          137000,
          177000,
          139000,
          137000,
          162000,
          197900,
          237000,
          68400,
          227000,
          180000,
          150500,
          139000,
          169000,
          132500,
          143000,
          190000,
          278000,
          281000,
          180500,
          119500,
          107500,
          162900,
          115000,
          138500,
          155000,
          140000,
          160000,
          154000,
          225000,
          177500,
          290000,
          232000,
          130000,
          325000,
          202500,
          138000,
          147000,
          179200,
          335000,
          203000,
          302000,
          333168,
          119000,
          206900,
          295493,
          208900,
          275000,
          111000,
          156500,
          72500,
          190000,
          82500,
          147000,
          55000,
          79000,
          130500,
          256000,
          176500,
          227000,
          132500,
          100000,
          125500,
          125000,
          167900,
          135000,
          52500,
          200000,
          128500,
          123000,
          155000,
          228500,
          177000,
          155835,
          108500,
          262500,
          283463,
          215000,
          122000,
          200000,
          171000,
          134900,
          410000,
          235000,
          170000,
          110000,
          149900,
          177500,
          315000,
          189000,
          260000,
          104900,
          156932,
          144152,
          216000,
          193000,
          127000,
          144000,
          232000,
          105000,
          165500,
          274300,
          466500,
          250000,
          239000,
          91000,
          117000,
          83000,
          167500,
          58500,
          237500,
          157000,
          112000,
          105000,
          125500,
          250000,
          136000,
          377500,
          131000,
          235000,
          124000,
          123000,
          163000,
          246578,
          281213,
          160000,
          137500,
          138000,
          137450,
          120000,
          193000,
          193879,
          282922,
          105000,
          275000,
          133000,
          112000,
          125500,
          215000,
          230000,
          140000,
          90000,
          257000,
          207000,
          175900,
          122500,
          340000,
          124000,
          223000,
          179900,
          127500,
          136500,
          274970,
          144000,
          142000,
          271000,
          140000,
          119000,
          182900,
          192140,
          143750,
          64500,
          186500,
          160000,
          174000,
          120500,
          394617,
          149700,
          197000,
          191000,
          149300,
          310000,
          121000,
          179600,
          129000,
          157900,
          240000,
          112000,
          92000,
          136000,
          287090,
          145000,
          84500,
          185000,
          175000,
          210000,
          266500,
          142125,
          147500
         ],
         "xaxis": "x",
         "y": [
          "SalePrice",
          "SalePrice",
          "SalePrice",
          "SalePrice",
          "SalePrice",
          "SalePrice",
          "SalePrice",
          "SalePrice",
          "SalePrice",
          "SalePrice",
          "SalePrice",
          "SalePrice",
          "SalePrice",
          "SalePrice",
          "SalePrice",
          "SalePrice",
          "SalePrice",
          "SalePrice",
          "SalePrice",
          "SalePrice",
          "SalePrice",
          "SalePrice",
          "SalePrice",
          "SalePrice",
          "SalePrice",
          "SalePrice",
          "SalePrice",
          "SalePrice",
          "SalePrice",
          "SalePrice",
          "SalePrice",
          "SalePrice",
          "SalePrice",
          "SalePrice",
          "SalePrice",
          "SalePrice",
          "SalePrice",
          "SalePrice",
          "SalePrice",
          "SalePrice",
          "SalePrice",
          "SalePrice",
          "SalePrice",
          "SalePrice",
          "SalePrice",
          "SalePrice",
          "SalePrice",
          "SalePrice",
          "SalePrice",
          "SalePrice",
          "SalePrice",
          "SalePrice",
          "SalePrice",
          "SalePrice",
          "SalePrice",
          "SalePrice",
          "SalePrice",
          "SalePrice",
          "SalePrice",
          "SalePrice",
          "SalePrice",
          "SalePrice",
          "SalePrice",
          "SalePrice",
          "SalePrice",
          "SalePrice",
          "SalePrice",
          "SalePrice",
          "SalePrice",
          "SalePrice",
          "SalePrice",
          "SalePrice",
          "SalePrice",
          "SalePrice",
          "SalePrice",
          "SalePrice",
          "SalePrice",
          "SalePrice",
          "SalePrice",
          "SalePrice",
          "SalePrice",
          "SalePrice",
          "SalePrice",
          "SalePrice",
          "SalePrice",
          "SalePrice",
          "SalePrice",
          "SalePrice",
          "SalePrice",
          "SalePrice",
          "SalePrice",
          "SalePrice",
          "SalePrice",
          "SalePrice",
          "SalePrice",
          "SalePrice",
          "SalePrice",
          "SalePrice",
          "SalePrice",
          "SalePrice",
          "SalePrice",
          "SalePrice",
          "SalePrice",
          "SalePrice",
          "SalePrice",
          "SalePrice",
          "SalePrice",
          "SalePrice",
          "SalePrice",
          "SalePrice",
          "SalePrice",
          "SalePrice",
          "SalePrice",
          "SalePrice",
          "SalePrice",
          "SalePrice",
          "SalePrice",
          "SalePrice",
          "SalePrice",
          "SalePrice",
          "SalePrice",
          "SalePrice",
          "SalePrice",
          "SalePrice",
          "SalePrice",
          "SalePrice",
          "SalePrice",
          "SalePrice",
          "SalePrice",
          "SalePrice",
          "SalePrice",
          "SalePrice",
          "SalePrice",
          "SalePrice",
          "SalePrice",
          "SalePrice",
          "SalePrice",
          "SalePrice",
          "SalePrice",
          "SalePrice",
          "SalePrice",
          "SalePrice",
          "SalePrice",
          "SalePrice",
          "SalePrice",
          "SalePrice",
          "SalePrice",
          "SalePrice",
          "SalePrice",
          "SalePrice",
          "SalePrice",
          "SalePrice",
          "SalePrice",
          "SalePrice",
          "SalePrice",
          "SalePrice",
          "SalePrice",
          "SalePrice",
          "SalePrice",
          "SalePrice",
          "SalePrice",
          "SalePrice",
          "SalePrice",
          "SalePrice",
          "SalePrice",
          "SalePrice",
          "SalePrice",
          "SalePrice",
          "SalePrice",
          "SalePrice",
          "SalePrice",
          "SalePrice",
          "SalePrice",
          "SalePrice",
          "SalePrice",
          "SalePrice",
          "SalePrice",
          "SalePrice",
          "SalePrice",
          "SalePrice",
          "SalePrice",
          "SalePrice",
          "SalePrice",
          "SalePrice",
          "SalePrice",
          "SalePrice",
          "SalePrice",
          "SalePrice",
          "SalePrice",
          "SalePrice",
          "SalePrice",
          "SalePrice",
          "SalePrice",
          "SalePrice",
          "SalePrice",
          "SalePrice",
          "SalePrice",
          "SalePrice",
          "SalePrice",
          "SalePrice",
          "SalePrice",
          "SalePrice",
          "SalePrice",
          "SalePrice",
          "SalePrice",
          "SalePrice",
          "SalePrice",
          "SalePrice",
          "SalePrice",
          "SalePrice",
          "SalePrice",
          "SalePrice",
          "SalePrice",
          "SalePrice",
          "SalePrice",
          "SalePrice",
          "SalePrice",
          "SalePrice",
          "SalePrice",
          "SalePrice",
          "SalePrice",
          "SalePrice",
          "SalePrice",
          "SalePrice",
          "SalePrice",
          "SalePrice",
          "SalePrice",
          "SalePrice",
          "SalePrice",
          "SalePrice",
          "SalePrice",
          "SalePrice",
          "SalePrice",
          "SalePrice",
          "SalePrice",
          "SalePrice",
          "SalePrice",
          "SalePrice",
          "SalePrice",
          "SalePrice",
          "SalePrice",
          "SalePrice",
          "SalePrice",
          "SalePrice",
          "SalePrice",
          "SalePrice",
          "SalePrice",
          "SalePrice",
          "SalePrice",
          "SalePrice",
          "SalePrice",
          "SalePrice",
          "SalePrice",
          "SalePrice",
          "SalePrice",
          "SalePrice",
          "SalePrice",
          "SalePrice",
          "SalePrice",
          "SalePrice",
          "SalePrice",
          "SalePrice",
          "SalePrice",
          "SalePrice",
          "SalePrice",
          "SalePrice",
          "SalePrice",
          "SalePrice",
          "SalePrice",
          "SalePrice",
          "SalePrice",
          "SalePrice",
          "SalePrice",
          "SalePrice",
          "SalePrice",
          "SalePrice",
          "SalePrice",
          "SalePrice",
          "SalePrice",
          "SalePrice",
          "SalePrice",
          "SalePrice",
          "SalePrice",
          "SalePrice",
          "SalePrice",
          "SalePrice",
          "SalePrice",
          "SalePrice",
          "SalePrice",
          "SalePrice",
          "SalePrice",
          "SalePrice",
          "SalePrice",
          "SalePrice",
          "SalePrice",
          "SalePrice",
          "SalePrice",
          "SalePrice",
          "SalePrice",
          "SalePrice",
          "SalePrice",
          "SalePrice",
          "SalePrice",
          "SalePrice",
          "SalePrice",
          "SalePrice",
          "SalePrice",
          "SalePrice",
          "SalePrice",
          "SalePrice",
          "SalePrice",
          "SalePrice",
          "SalePrice",
          "SalePrice",
          "SalePrice",
          "SalePrice",
          "SalePrice",
          "SalePrice",
          "SalePrice",
          "SalePrice",
          "SalePrice",
          "SalePrice",
          "SalePrice",
          "SalePrice",
          "SalePrice",
          "SalePrice",
          "SalePrice",
          "SalePrice",
          "SalePrice",
          "SalePrice",
          "SalePrice",
          "SalePrice",
          "SalePrice",
          "SalePrice",
          "SalePrice",
          "SalePrice",
          "SalePrice",
          "SalePrice",
          "SalePrice",
          "SalePrice",
          "SalePrice",
          "SalePrice",
          "SalePrice",
          "SalePrice",
          "SalePrice",
          "SalePrice",
          "SalePrice",
          "SalePrice",
          "SalePrice",
          "SalePrice",
          "SalePrice",
          "SalePrice",
          "SalePrice",
          "SalePrice",
          "SalePrice",
          "SalePrice",
          "SalePrice",
          "SalePrice",
          "SalePrice",
          "SalePrice",
          "SalePrice",
          "SalePrice",
          "SalePrice",
          "SalePrice",
          "SalePrice",
          "SalePrice",
          "SalePrice",
          "SalePrice",
          "SalePrice",
          "SalePrice",
          "SalePrice",
          "SalePrice",
          "SalePrice",
          "SalePrice",
          "SalePrice",
          "SalePrice",
          "SalePrice",
          "SalePrice",
          "SalePrice",
          "SalePrice",
          "SalePrice",
          "SalePrice",
          "SalePrice",
          "SalePrice",
          "SalePrice",
          "SalePrice",
          "SalePrice",
          "SalePrice",
          "SalePrice",
          "SalePrice",
          "SalePrice",
          "SalePrice",
          "SalePrice",
          "SalePrice",
          "SalePrice",
          "SalePrice",
          "SalePrice",
          "SalePrice",
          "SalePrice",
          "SalePrice",
          "SalePrice",
          "SalePrice",
          "SalePrice",
          "SalePrice",
          "SalePrice",
          "SalePrice",
          "SalePrice",
          "SalePrice",
          "SalePrice",
          "SalePrice",
          "SalePrice",
          "SalePrice",
          "SalePrice",
          "SalePrice",
          "SalePrice",
          "SalePrice",
          "SalePrice",
          "SalePrice",
          "SalePrice",
          "SalePrice",
          "SalePrice",
          "SalePrice",
          "SalePrice",
          "SalePrice",
          "SalePrice",
          "SalePrice",
          "SalePrice",
          "SalePrice",
          "SalePrice",
          "SalePrice",
          "SalePrice",
          "SalePrice",
          "SalePrice",
          "SalePrice",
          "SalePrice",
          "SalePrice",
          "SalePrice",
          "SalePrice",
          "SalePrice",
          "SalePrice",
          "SalePrice",
          "SalePrice",
          "SalePrice",
          "SalePrice",
          "SalePrice",
          "SalePrice",
          "SalePrice",
          "SalePrice",
          "SalePrice",
          "SalePrice",
          "SalePrice",
          "SalePrice",
          "SalePrice",
          "SalePrice",
          "SalePrice",
          "SalePrice",
          "SalePrice",
          "SalePrice",
          "SalePrice",
          "SalePrice",
          "SalePrice",
          "SalePrice",
          "SalePrice",
          "SalePrice",
          "SalePrice",
          "SalePrice",
          "SalePrice",
          "SalePrice",
          "SalePrice",
          "SalePrice",
          "SalePrice",
          "SalePrice",
          "SalePrice",
          "SalePrice",
          "SalePrice",
          "SalePrice",
          "SalePrice",
          "SalePrice",
          "SalePrice",
          "SalePrice",
          "SalePrice",
          "SalePrice",
          "SalePrice",
          "SalePrice",
          "SalePrice",
          "SalePrice",
          "SalePrice",
          "SalePrice",
          "SalePrice",
          "SalePrice",
          "SalePrice",
          "SalePrice",
          "SalePrice",
          "SalePrice",
          "SalePrice",
          "SalePrice",
          "SalePrice",
          "SalePrice",
          "SalePrice",
          "SalePrice",
          "SalePrice",
          "SalePrice",
          "SalePrice",
          "SalePrice",
          "SalePrice",
          "SalePrice",
          "SalePrice",
          "SalePrice",
          "SalePrice",
          "SalePrice",
          "SalePrice",
          "SalePrice",
          "SalePrice",
          "SalePrice",
          "SalePrice",
          "SalePrice",
          "SalePrice",
          "SalePrice",
          "SalePrice",
          "SalePrice",
          "SalePrice",
          "SalePrice",
          "SalePrice",
          "SalePrice",
          "SalePrice",
          "SalePrice",
          "SalePrice",
          "SalePrice",
          "SalePrice",
          "SalePrice",
          "SalePrice",
          "SalePrice",
          "SalePrice",
          "SalePrice",
          "SalePrice",
          "SalePrice",
          "SalePrice",
          "SalePrice",
          "SalePrice",
          "SalePrice",
          "SalePrice",
          "SalePrice",
          "SalePrice",
          "SalePrice",
          "SalePrice",
          "SalePrice",
          "SalePrice",
          "SalePrice",
          "SalePrice",
          "SalePrice",
          "SalePrice",
          "SalePrice",
          "SalePrice",
          "SalePrice",
          "SalePrice",
          "SalePrice",
          "SalePrice",
          "SalePrice",
          "SalePrice",
          "SalePrice",
          "SalePrice",
          "SalePrice",
          "SalePrice",
          "SalePrice",
          "SalePrice",
          "SalePrice",
          "SalePrice",
          "SalePrice",
          "SalePrice",
          "SalePrice",
          "SalePrice",
          "SalePrice",
          "SalePrice",
          "SalePrice",
          "SalePrice",
          "SalePrice",
          "SalePrice",
          "SalePrice",
          "SalePrice",
          "SalePrice",
          "SalePrice",
          "SalePrice",
          "SalePrice",
          "SalePrice",
          "SalePrice",
          "SalePrice",
          "SalePrice",
          "SalePrice",
          "SalePrice",
          "SalePrice",
          "SalePrice",
          "SalePrice",
          "SalePrice",
          "SalePrice",
          "SalePrice",
          "SalePrice",
          "SalePrice",
          "SalePrice",
          "SalePrice",
          "SalePrice",
          "SalePrice",
          "SalePrice",
          "SalePrice",
          "SalePrice",
          "SalePrice",
          "SalePrice",
          "SalePrice",
          "SalePrice",
          "SalePrice",
          "SalePrice",
          "SalePrice",
          "SalePrice",
          "SalePrice",
          "SalePrice",
          "SalePrice",
          "SalePrice",
          "SalePrice",
          "SalePrice",
          "SalePrice",
          "SalePrice",
          "SalePrice",
          "SalePrice",
          "SalePrice",
          "SalePrice",
          "SalePrice",
          "SalePrice",
          "SalePrice",
          "SalePrice",
          "SalePrice",
          "SalePrice",
          "SalePrice",
          "SalePrice",
          "SalePrice",
          "SalePrice",
          "SalePrice",
          "SalePrice",
          "SalePrice",
          "SalePrice",
          "SalePrice",
          "SalePrice",
          "SalePrice",
          "SalePrice",
          "SalePrice",
          "SalePrice",
          "SalePrice",
          "SalePrice",
          "SalePrice",
          "SalePrice",
          "SalePrice",
          "SalePrice",
          "SalePrice",
          "SalePrice",
          "SalePrice",
          "SalePrice",
          "SalePrice",
          "SalePrice",
          "SalePrice",
          "SalePrice",
          "SalePrice",
          "SalePrice",
          "SalePrice",
          "SalePrice",
          "SalePrice",
          "SalePrice",
          "SalePrice",
          "SalePrice",
          "SalePrice",
          "SalePrice",
          "SalePrice",
          "SalePrice",
          "SalePrice",
          "SalePrice",
          "SalePrice",
          "SalePrice",
          "SalePrice",
          "SalePrice",
          "SalePrice",
          "SalePrice",
          "SalePrice",
          "SalePrice",
          "SalePrice",
          "SalePrice",
          "SalePrice",
          "SalePrice",
          "SalePrice",
          "SalePrice",
          "SalePrice",
          "SalePrice",
          "SalePrice",
          "SalePrice",
          "SalePrice",
          "SalePrice",
          "SalePrice",
          "SalePrice",
          "SalePrice",
          "SalePrice",
          "SalePrice",
          "SalePrice",
          "SalePrice",
          "SalePrice",
          "SalePrice",
          "SalePrice",
          "SalePrice",
          "SalePrice",
          "SalePrice",
          "SalePrice",
          "SalePrice",
          "SalePrice",
          "SalePrice",
          "SalePrice",
          "SalePrice",
          "SalePrice",
          "SalePrice",
          "SalePrice",
          "SalePrice",
          "SalePrice",
          "SalePrice",
          "SalePrice",
          "SalePrice",
          "SalePrice",
          "SalePrice",
          "SalePrice",
          "SalePrice",
          "SalePrice",
          "SalePrice",
          "SalePrice",
          "SalePrice",
          "SalePrice",
          "SalePrice",
          "SalePrice",
          "SalePrice",
          "SalePrice",
          "SalePrice",
          "SalePrice",
          "SalePrice",
          "SalePrice",
          "SalePrice",
          "SalePrice",
          "SalePrice",
          "SalePrice",
          "SalePrice",
          "SalePrice",
          "SalePrice",
          "SalePrice",
          "SalePrice",
          "SalePrice",
          "SalePrice",
          "SalePrice",
          "SalePrice",
          "SalePrice",
          "SalePrice",
          "SalePrice",
          "SalePrice",
          "SalePrice",
          "SalePrice",
          "SalePrice",
          "SalePrice",
          "SalePrice",
          "SalePrice",
          "SalePrice",
          "SalePrice",
          "SalePrice",
          "SalePrice",
          "SalePrice",
          "SalePrice",
          "SalePrice",
          "SalePrice",
          "SalePrice",
          "SalePrice",
          "SalePrice",
          "SalePrice",
          "SalePrice",
          "SalePrice",
          "SalePrice",
          "SalePrice",
          "SalePrice",
          "SalePrice",
          "SalePrice",
          "SalePrice",
          "SalePrice",
          "SalePrice",
          "SalePrice",
          "SalePrice",
          "SalePrice",
          "SalePrice",
          "SalePrice",
          "SalePrice",
          "SalePrice",
          "SalePrice",
          "SalePrice",
          "SalePrice",
          "SalePrice",
          "SalePrice",
          "SalePrice",
          "SalePrice",
          "SalePrice",
          "SalePrice",
          "SalePrice",
          "SalePrice",
          "SalePrice",
          "SalePrice",
          "SalePrice",
          "SalePrice",
          "SalePrice",
          "SalePrice",
          "SalePrice",
          "SalePrice",
          "SalePrice",
          "SalePrice",
          "SalePrice",
          "SalePrice",
          "SalePrice",
          "SalePrice",
          "SalePrice",
          "SalePrice",
          "SalePrice",
          "SalePrice",
          "SalePrice",
          "SalePrice",
          "SalePrice",
          "SalePrice",
          "SalePrice",
          "SalePrice",
          "SalePrice",
          "SalePrice",
          "SalePrice",
          "SalePrice",
          "SalePrice",
          "SalePrice",
          "SalePrice",
          "SalePrice",
          "SalePrice",
          "SalePrice",
          "SalePrice",
          "SalePrice",
          "SalePrice",
          "SalePrice",
          "SalePrice",
          "SalePrice",
          "SalePrice",
          "SalePrice",
          "SalePrice",
          "SalePrice",
          "SalePrice",
          "SalePrice",
          "SalePrice",
          "SalePrice",
          "SalePrice",
          "SalePrice",
          "SalePrice",
          "SalePrice",
          "SalePrice",
          "SalePrice",
          "SalePrice",
          "SalePrice",
          "SalePrice",
          "SalePrice",
          "SalePrice",
          "SalePrice",
          "SalePrice",
          "SalePrice",
          "SalePrice",
          "SalePrice",
          "SalePrice",
          "SalePrice",
          "SalePrice",
          "SalePrice",
          "SalePrice",
          "SalePrice",
          "SalePrice",
          "SalePrice",
          "SalePrice",
          "SalePrice",
          "SalePrice",
          "SalePrice",
          "SalePrice",
          "SalePrice",
          "SalePrice",
          "SalePrice",
          "SalePrice",
          "SalePrice",
          "SalePrice",
          "SalePrice",
          "SalePrice",
          "SalePrice",
          "SalePrice",
          "SalePrice",
          "SalePrice",
          "SalePrice",
          "SalePrice",
          "SalePrice",
          "SalePrice",
          "SalePrice",
          "SalePrice",
          "SalePrice",
          "SalePrice",
          "SalePrice",
          "SalePrice",
          "SalePrice",
          "SalePrice",
          "SalePrice",
          "SalePrice",
          "SalePrice",
          "SalePrice",
          "SalePrice",
          "SalePrice",
          "SalePrice",
          "SalePrice",
          "SalePrice",
          "SalePrice",
          "SalePrice",
          "SalePrice",
          "SalePrice",
          "SalePrice",
          "SalePrice",
          "SalePrice",
          "SalePrice",
          "SalePrice",
          "SalePrice",
          "SalePrice",
          "SalePrice",
          "SalePrice",
          "SalePrice",
          "SalePrice",
          "SalePrice",
          "SalePrice",
          "SalePrice",
          "SalePrice",
          "SalePrice",
          "SalePrice",
          "SalePrice",
          "SalePrice",
          "SalePrice",
          "SalePrice",
          "SalePrice",
          "SalePrice",
          "SalePrice",
          "SalePrice",
          "SalePrice",
          "SalePrice",
          "SalePrice",
          "SalePrice",
          "SalePrice",
          "SalePrice",
          "SalePrice",
          "SalePrice",
          "SalePrice",
          "SalePrice",
          "SalePrice",
          "SalePrice",
          "SalePrice",
          "SalePrice",
          "SalePrice",
          "SalePrice",
          "SalePrice",
          "SalePrice",
          "SalePrice",
          "SalePrice",
          "SalePrice",
          "SalePrice",
          "SalePrice",
          "SalePrice",
          "SalePrice",
          "SalePrice",
          "SalePrice",
          "SalePrice",
          "SalePrice",
          "SalePrice",
          "SalePrice",
          "SalePrice",
          "SalePrice",
          "SalePrice",
          "SalePrice",
          "SalePrice",
          "SalePrice",
          "SalePrice",
          "SalePrice",
          "SalePrice",
          "SalePrice",
          "SalePrice",
          "SalePrice",
          "SalePrice",
          "SalePrice",
          "SalePrice",
          "SalePrice",
          "SalePrice",
          "SalePrice",
          "SalePrice",
          "SalePrice",
          "SalePrice",
          "SalePrice",
          "SalePrice",
          "SalePrice",
          "SalePrice",
          "SalePrice",
          "SalePrice",
          "SalePrice",
          "SalePrice",
          "SalePrice",
          "SalePrice",
          "SalePrice",
          "SalePrice",
          "SalePrice",
          "SalePrice",
          "SalePrice",
          "SalePrice",
          "SalePrice",
          "SalePrice",
          "SalePrice",
          "SalePrice",
          "SalePrice",
          "SalePrice",
          "SalePrice",
          "SalePrice",
          "SalePrice",
          "SalePrice",
          "SalePrice",
          "SalePrice",
          "SalePrice",
          "SalePrice",
          "SalePrice",
          "SalePrice",
          "SalePrice",
          "SalePrice",
          "SalePrice",
          "SalePrice",
          "SalePrice",
          "SalePrice",
          "SalePrice",
          "SalePrice",
          "SalePrice",
          "SalePrice",
          "SalePrice",
          "SalePrice",
          "SalePrice",
          "SalePrice",
          "SalePrice",
          "SalePrice",
          "SalePrice",
          "SalePrice",
          "SalePrice",
          "SalePrice",
          "SalePrice",
          "SalePrice",
          "SalePrice",
          "SalePrice",
          "SalePrice",
          "SalePrice",
          "SalePrice",
          "SalePrice",
          "SalePrice",
          "SalePrice",
          "SalePrice",
          "SalePrice",
          "SalePrice",
          "SalePrice",
          "SalePrice",
          "SalePrice",
          "SalePrice",
          "SalePrice",
          "SalePrice",
          "SalePrice",
          "SalePrice",
          "SalePrice",
          "SalePrice",
          "SalePrice",
          "SalePrice",
          "SalePrice",
          "SalePrice",
          "SalePrice",
          "SalePrice",
          "SalePrice",
          "SalePrice",
          "SalePrice",
          "SalePrice",
          "SalePrice",
          "SalePrice",
          "SalePrice",
          "SalePrice",
          "SalePrice",
          "SalePrice",
          "SalePrice",
          "SalePrice",
          "SalePrice",
          "SalePrice",
          "SalePrice",
          "SalePrice",
          "SalePrice",
          "SalePrice",
          "SalePrice",
          "SalePrice",
          "SalePrice",
          "SalePrice",
          "SalePrice",
          "SalePrice",
          "SalePrice",
          "SalePrice",
          "SalePrice",
          "SalePrice",
          "SalePrice",
          "SalePrice",
          "SalePrice",
          "SalePrice",
          "SalePrice",
          "SalePrice",
          "SalePrice",
          "SalePrice",
          "SalePrice",
          "SalePrice",
          "SalePrice",
          "SalePrice",
          "SalePrice",
          "SalePrice",
          "SalePrice",
          "SalePrice",
          "SalePrice",
          "SalePrice",
          "SalePrice",
          "SalePrice",
          "SalePrice",
          "SalePrice",
          "SalePrice",
          "SalePrice",
          "SalePrice",
          "SalePrice",
          "SalePrice",
          "SalePrice",
          "SalePrice",
          "SalePrice",
          "SalePrice",
          "SalePrice",
          "SalePrice",
          "SalePrice",
          "SalePrice",
          "SalePrice",
          "SalePrice",
          "SalePrice",
          "SalePrice",
          "SalePrice",
          "SalePrice",
          "SalePrice",
          "SalePrice",
          "SalePrice",
          "SalePrice",
          "SalePrice",
          "SalePrice",
          "SalePrice",
          "SalePrice",
          "SalePrice",
          "SalePrice",
          "SalePrice",
          "SalePrice",
          "SalePrice",
          "SalePrice",
          "SalePrice",
          "SalePrice",
          "SalePrice",
          "SalePrice",
          "SalePrice",
          "SalePrice",
          "SalePrice",
          "SalePrice",
          "SalePrice",
          "SalePrice",
          "SalePrice",
          "SalePrice",
          "SalePrice",
          "SalePrice",
          "SalePrice",
          "SalePrice",
          "SalePrice",
          "SalePrice",
          "SalePrice",
          "SalePrice",
          "SalePrice",
          "SalePrice",
          "SalePrice",
          "SalePrice",
          "SalePrice",
          "SalePrice",
          "SalePrice",
          "SalePrice",
          "SalePrice",
          "SalePrice",
          "SalePrice",
          "SalePrice",
          "SalePrice",
          "SalePrice",
          "SalePrice",
          "SalePrice",
          "SalePrice",
          "SalePrice",
          "SalePrice",
          "SalePrice",
          "SalePrice",
          "SalePrice",
          "SalePrice",
          "SalePrice",
          "SalePrice",
          "SalePrice",
          "SalePrice",
          "SalePrice",
          "SalePrice",
          "SalePrice",
          "SalePrice",
          "SalePrice",
          "SalePrice",
          "SalePrice",
          "SalePrice",
          "SalePrice",
          "SalePrice",
          "SalePrice",
          "SalePrice",
          "SalePrice",
          "SalePrice",
          "SalePrice",
          "SalePrice",
          "SalePrice",
          "SalePrice",
          "SalePrice",
          "SalePrice",
          "SalePrice",
          "SalePrice",
          "SalePrice",
          "SalePrice",
          "SalePrice",
          "SalePrice",
          "SalePrice",
          "SalePrice",
          "SalePrice",
          "SalePrice",
          "SalePrice",
          "SalePrice",
          "SalePrice",
          "SalePrice",
          "SalePrice",
          "SalePrice",
          "SalePrice",
          "SalePrice",
          "SalePrice",
          "SalePrice",
          "SalePrice",
          "SalePrice",
          "SalePrice",
          "SalePrice",
          "SalePrice",
          "SalePrice",
          "SalePrice",
          "SalePrice",
          "SalePrice",
          "SalePrice",
          "SalePrice",
          "SalePrice",
          "SalePrice",
          "SalePrice",
          "SalePrice",
          "SalePrice",
          "SalePrice",
          "SalePrice",
          "SalePrice",
          "SalePrice",
          "SalePrice",
          "SalePrice",
          "SalePrice",
          "SalePrice",
          "SalePrice",
          "SalePrice",
          "SalePrice",
          "SalePrice",
          "SalePrice",
          "SalePrice",
          "SalePrice",
          "SalePrice",
          "SalePrice",
          "SalePrice",
          "SalePrice",
          "SalePrice",
          "SalePrice",
          "SalePrice",
          "SalePrice",
          "SalePrice",
          "SalePrice",
          "SalePrice",
          "SalePrice",
          "SalePrice",
          "SalePrice",
          "SalePrice",
          "SalePrice",
          "SalePrice",
          "SalePrice",
          "SalePrice",
          "SalePrice",
          "SalePrice",
          "SalePrice",
          "SalePrice",
          "SalePrice",
          "SalePrice",
          "SalePrice",
          "SalePrice",
          "SalePrice",
          "SalePrice",
          "SalePrice",
          "SalePrice",
          "SalePrice",
          "SalePrice",
          "SalePrice",
          "SalePrice",
          "SalePrice",
          "SalePrice",
          "SalePrice",
          "SalePrice",
          "SalePrice",
          "SalePrice",
          "SalePrice",
          "SalePrice",
          "SalePrice",
          "SalePrice",
          "SalePrice",
          "SalePrice",
          "SalePrice",
          "SalePrice",
          "SalePrice",
          "SalePrice",
          "SalePrice",
          "SalePrice",
          "SalePrice",
          "SalePrice",
          "SalePrice",
          "SalePrice",
          "SalePrice",
          "SalePrice",
          "SalePrice",
          "SalePrice",
          "SalePrice",
          "SalePrice",
          "SalePrice",
          "SalePrice",
          "SalePrice",
          "SalePrice",
          "SalePrice",
          "SalePrice",
          "SalePrice",
          "SalePrice",
          "SalePrice",
          "SalePrice",
          "SalePrice",
          "SalePrice",
          "SalePrice",
          "SalePrice",
          "SalePrice",
          "SalePrice",
          "SalePrice",
          "SalePrice",
          "SalePrice",
          "SalePrice",
          "SalePrice",
          "SalePrice",
          "SalePrice",
          "SalePrice",
          "SalePrice",
          "SalePrice",
          "SalePrice",
          "SalePrice",
          "SalePrice",
          "SalePrice",
          "SalePrice",
          "SalePrice",
          "SalePrice",
          "SalePrice",
          "SalePrice",
          "SalePrice",
          "SalePrice",
          "SalePrice",
          "SalePrice",
          "SalePrice",
          "SalePrice",
          "SalePrice",
          "SalePrice",
          "SalePrice",
          "SalePrice",
          "SalePrice",
          "SalePrice",
          "SalePrice",
          "SalePrice",
          "SalePrice",
          "SalePrice",
          "SalePrice",
          "SalePrice",
          "SalePrice",
          "SalePrice",
          "SalePrice",
          "SalePrice",
          "SalePrice",
          "SalePrice",
          "SalePrice",
          "SalePrice",
          "SalePrice",
          "SalePrice",
          "SalePrice",
          "SalePrice",
          "SalePrice",
          "SalePrice",
          "SalePrice",
          "SalePrice",
          "SalePrice",
          "SalePrice",
          "SalePrice",
          "SalePrice",
          "SalePrice",
          "SalePrice",
          "SalePrice",
          "SalePrice",
          "SalePrice",
          "SalePrice",
          "SalePrice",
          "SalePrice",
          "SalePrice",
          "SalePrice",
          "SalePrice",
          "SalePrice",
          "SalePrice",
          "SalePrice",
          "SalePrice",
          "SalePrice",
          "SalePrice",
          "SalePrice",
          "SalePrice",
          "SalePrice",
          "SalePrice",
          "SalePrice",
          "SalePrice",
          "SalePrice",
          "SalePrice",
          "SalePrice",
          "SalePrice",
          "SalePrice",
          "SalePrice",
          "SalePrice",
          "SalePrice",
          "SalePrice",
          "SalePrice",
          "SalePrice",
          "SalePrice",
          "SalePrice",
          "SalePrice",
          "SalePrice",
          "SalePrice",
          "SalePrice",
          "SalePrice",
          "SalePrice",
          "SalePrice",
          "SalePrice",
          "SalePrice",
          "SalePrice",
          "SalePrice",
          "SalePrice",
          "SalePrice",
          "SalePrice",
          "SalePrice",
          "SalePrice"
         ],
         "yaxis": "y2"
        },
        {
         "alignmentgroup": "True",
         "bingroup": "x",
         "hovertemplate": "SalePrice=%{x}<br>count=%{y}<extra></extra>",
         "legendgroup": "208500",
         "marker": {
          "color": "#1f77b4",
          "pattern": {
           "shape": ""
          }
         },
         "name": "histogram",
         "nbinsx": 80,
         "offsetgroup": "208500",
         "orientation": "v",
         "showlegend": true,
         "type": "histogram",
         "x": [
          208500
         ],
         "xaxis": "x",
         "yaxis": "y3"
        },
        {
         "alignmentgroup": "True",
         "bingroup": "x",
         "hovertemplate": "SalePrice=%{x}<br>count=%{y}<extra></extra>",
         "legendgroup": "181500",
         "marker": {
          "color": "#1f77b4",
          "pattern": {
           "shape": ""
          }
         },
         "name": "histogram",
         "nbinsx": 80,
         "offsetgroup": "181500",
         "orientation": "v",
         "showlegend": true,
         "type": "histogram",
         "x": [
          181500
         ],
         "xaxis": "x",
         "yaxis": "y3"
        },
        {
         "alignmentgroup": "True",
         "bingroup": "x",
         "hovertemplate": "SalePrice=%{x}<br>count=%{y}<extra></extra>",
         "legendgroup": "223500",
         "marker": {
          "color": "#1f77b4",
          "pattern": {
           "shape": ""
          }
         },
         "name": "histogram",
         "nbinsx": 80,
         "offsetgroup": "223500",
         "orientation": "v",
         "showlegend": true,
         "type": "histogram",
         "x": [
          223500,
          223500
         ],
         "xaxis": "x",
         "yaxis": "y3"
        },
        {
         "alignmentgroup": "True",
         "bingroup": "x",
         "hovertemplate": "SalePrice=%{x}<br>count=%{y}<extra></extra>",
         "legendgroup": "140000",
         "marker": {
          "color": "#1f77b4",
          "pattern": {
           "shape": ""
          }
         },
         "name": "histogram",
         "nbinsx": 80,
         "offsetgroup": "140000",
         "orientation": "v",
         "showlegend": true,
         "type": "histogram",
         "x": [
          140000,
          140000,
          140000,
          140000,
          140000,
          140000,
          140000,
          140000,
          140000,
          140000,
          140000,
          140000,
          140000,
          140000,
          140000,
          140000,
          140000,
          140000,
          140000,
          140000
         ],
         "xaxis": "x",
         "yaxis": "y3"
        },
        {
         "alignmentgroup": "True",
         "bingroup": "x",
         "hovertemplate": "SalePrice=%{x}<br>count=%{y}<extra></extra>",
         "legendgroup": "250000",
         "marker": {
          "color": "#1f77b4",
          "pattern": {
           "shape": ""
          }
         },
         "name": "histogram",
         "nbinsx": 80,
         "offsetgroup": "250000",
         "orientation": "v",
         "showlegend": true,
         "type": "histogram",
         "x": [
          250000,
          250000,
          250000,
          250000,
          250000,
          250000,
          250000,
          250000
         ],
         "xaxis": "x",
         "yaxis": "y3"
        },
        {
         "alignmentgroup": "True",
         "bingroup": "x",
         "hovertemplate": "SalePrice=%{x}<br>count=%{y}<extra></extra>",
         "legendgroup": "143000",
         "marker": {
          "color": "#1f77b4",
          "pattern": {
           "shape": ""
          }
         },
         "name": "histogram",
         "nbinsx": 80,
         "offsetgroup": "143000",
         "orientation": "v",
         "showlegend": true,
         "type": "histogram",
         "x": [
          143000,
          143000,
          143000,
          143000,
          143000,
          143000,
          143000,
          143000,
          143000,
          143000
         ],
         "xaxis": "x",
         "yaxis": "y3"
        },
        {
         "alignmentgroup": "True",
         "bingroup": "x",
         "hovertemplate": "SalePrice=%{x}<br>count=%{y}<extra></extra>",
         "legendgroup": "307000",
         "marker": {
          "color": "#1f77b4",
          "pattern": {
           "shape": ""
          }
         },
         "name": "histogram",
         "nbinsx": 80,
         "offsetgroup": "307000",
         "orientation": "v",
         "showlegend": true,
         "type": "histogram",
         "x": [
          307000
         ],
         "xaxis": "x",
         "yaxis": "y3"
        },
        {
         "alignmentgroup": "True",
         "bingroup": "x",
         "hovertemplate": "SalePrice=%{x}<br>count=%{y}<extra></extra>",
         "legendgroup": "200000",
         "marker": {
          "color": "#1f77b4",
          "pattern": {
           "shape": ""
          }
         },
         "name": "histogram",
         "nbinsx": 80,
         "offsetgroup": "200000",
         "orientation": "v",
         "showlegend": true,
         "type": "histogram",
         "x": [
          200000,
          200000,
          200000,
          200000,
          200000,
          200000,
          200000,
          200000
         ],
         "xaxis": "x",
         "yaxis": "y3"
        },
        {
         "alignmentgroup": "True",
         "bingroup": "x",
         "hovertemplate": "SalePrice=%{x}<br>count=%{y}<extra></extra>",
         "legendgroup": "129900",
         "marker": {
          "color": "#1f77b4",
          "pattern": {
           "shape": ""
          }
         },
         "name": "histogram",
         "nbinsx": 80,
         "offsetgroup": "129900",
         "orientation": "v",
         "showlegend": true,
         "type": "histogram",
         "x": [
          129900,
          129900,
          129900,
          129900
         ],
         "xaxis": "x",
         "yaxis": "y3"
        },
        {
         "alignmentgroup": "True",
         "bingroup": "x",
         "hovertemplate": "SalePrice=%{x}<br>count=%{y}<extra></extra>",
         "legendgroup": "118000",
         "marker": {
          "color": "#1f77b4",
          "pattern": {
           "shape": ""
          }
         },
         "name": "histogram",
         "nbinsx": 80,
         "offsetgroup": "118000",
         "orientation": "v",
         "showlegend": true,
         "type": "histogram",
         "x": [
          118000,
          118000,
          118000,
          118000,
          118000,
          118000
         ],
         "xaxis": "x",
         "yaxis": "y3"
        },
        {
         "alignmentgroup": "True",
         "bingroup": "x",
         "hovertemplate": "SalePrice=%{x}<br>count=%{y}<extra></extra>",
         "legendgroup": "129500",
         "marker": {
          "color": "#1f77b4",
          "pattern": {
           "shape": ""
          }
         },
         "name": "histogram",
         "nbinsx": 80,
         "offsetgroup": "129500",
         "orientation": "v",
         "showlegend": true,
         "type": "histogram",
         "x": [
          129500,
          129500,
          129500,
          129500
         ],
         "xaxis": "x",
         "yaxis": "y3"
        },
        {
         "alignmentgroup": "True",
         "bingroup": "x",
         "hovertemplate": "SalePrice=%{x}<br>count=%{y}<extra></extra>",
         "legendgroup": "345000",
         "marker": {
          "color": "#1f77b4",
          "pattern": {
           "shape": ""
          }
         },
         "name": "histogram",
         "nbinsx": 80,
         "offsetgroup": "345000",
         "orientation": "v",
         "showlegend": true,
         "type": "histogram",
         "x": [
          345000,
          345000
         ],
         "xaxis": "x",
         "yaxis": "y3"
        },
        {
         "alignmentgroup": "True",
         "bingroup": "x",
         "hovertemplate": "SalePrice=%{x}<br>count=%{y}<extra></extra>",
         "legendgroup": "144000",
         "marker": {
          "color": "#1f77b4",
          "pattern": {
           "shape": ""
          }
         },
         "name": "histogram",
         "nbinsx": 80,
         "offsetgroup": "144000",
         "orientation": "v",
         "showlegend": true,
         "type": "histogram",
         "x": [
          144000,
          144000,
          144000,
          144000,
          144000,
          144000,
          144000,
          144000,
          144000,
          144000
         ],
         "xaxis": "x",
         "yaxis": "y3"
        },
        {
         "alignmentgroup": "True",
         "bingroup": "x",
         "hovertemplate": "SalePrice=%{x}<br>count=%{y}<extra></extra>",
         "legendgroup": "279500",
         "marker": {
          "color": "#1f77b4",
          "pattern": {
           "shape": ""
          }
         },
         "name": "histogram",
         "nbinsx": 80,
         "offsetgroup": "279500",
         "orientation": "v",
         "showlegend": true,
         "type": "histogram",
         "x": [
          279500
         ],
         "xaxis": "x",
         "yaxis": "y3"
        },
        {
         "alignmentgroup": "True",
         "bingroup": "x",
         "hovertemplate": "SalePrice=%{x}<br>count=%{y}<extra></extra>",
         "legendgroup": "157000",
         "marker": {
          "color": "#1f77b4",
          "pattern": {
           "shape": ""
          }
         },
         "name": "histogram",
         "nbinsx": 80,
         "offsetgroup": "157000",
         "orientation": "v",
         "showlegend": true,
         "type": "histogram",
         "x": [
          157000,
          157000,
          157000,
          157000,
          157000,
          157000
         ],
         "xaxis": "x",
         "yaxis": "y3"
        },
        {
         "alignmentgroup": "True",
         "bingroup": "x",
         "hovertemplate": "SalePrice=%{x}<br>count=%{y}<extra></extra>",
         "legendgroup": "132000",
         "marker": {
          "color": "#1f77b4",
          "pattern": {
           "shape": ""
          }
         },
         "name": "histogram",
         "nbinsx": 80,
         "offsetgroup": "132000",
         "orientation": "v",
         "showlegend": true,
         "type": "histogram",
         "x": [
          132000,
          132000,
          132000,
          132000,
          132000,
          132000
         ],
         "xaxis": "x",
         "yaxis": "y3"
        },
        {
         "alignmentgroup": "True",
         "bingroup": "x",
         "hovertemplate": "SalePrice=%{x}<br>count=%{y}<extra></extra>",
         "legendgroup": "149000",
         "marker": {
          "color": "#1f77b4",
          "pattern": {
           "shape": ""
          }
         },
         "name": "histogram",
         "nbinsx": 80,
         "offsetgroup": "149000",
         "orientation": "v",
         "showlegend": true,
         "type": "histogram",
         "x": [
          149000,
          149000,
          149000,
          149000
         ],
         "xaxis": "x",
         "yaxis": "y3"
        },
        {
         "alignmentgroup": "True",
         "bingroup": "x",
         "hovertemplate": "SalePrice=%{x}<br>count=%{y}<extra></extra>",
         "legendgroup": "90000",
         "marker": {
          "color": "#1f77b4",
          "pattern": {
           "shape": ""
          }
         },
         "name": "histogram",
         "nbinsx": 80,
         "offsetgroup": "90000",
         "orientation": "v",
         "showlegend": true,
         "type": "histogram",
         "x": [
          90000,
          90000,
          90000
         ],
         "xaxis": "x",
         "yaxis": "y3"
        },
        {
         "alignmentgroup": "True",
         "bingroup": "x",
         "hovertemplate": "SalePrice=%{x}<br>count=%{y}<extra></extra>",
         "legendgroup": "159000",
         "marker": {
          "color": "#1f77b4",
          "pattern": {
           "shape": ""
          }
         },
         "name": "histogram",
         "nbinsx": 80,
         "offsetgroup": "159000",
         "orientation": "v",
         "showlegend": true,
         "type": "histogram",
         "x": [
          159000,
          159000,
          159000,
          159000
         ],
         "xaxis": "x",
         "yaxis": "y3"
        },
        {
         "alignmentgroup": "True",
         "bingroup": "x",
         "hovertemplate": "SalePrice=%{x}<br>count=%{y}<extra></extra>",
         "legendgroup": "139000",
         "marker": {
          "color": "#1f77b4",
          "pattern": {
           "shape": ""
          }
         },
         "name": "histogram",
         "nbinsx": 80,
         "offsetgroup": "139000",
         "orientation": "v",
         "showlegend": true,
         "type": "histogram",
         "x": [
          139000,
          139000,
          139000,
          139000,
          139000,
          139000,
          139000,
          139000,
          139000,
          139000,
          139000
         ],
         "xaxis": "x",
         "yaxis": "y3"
        },
        {
         "alignmentgroup": "True",
         "bingroup": "x",
         "hovertemplate": "SalePrice=%{x}<br>count=%{y}<extra></extra>",
         "legendgroup": "325300",
         "marker": {
          "color": "#1f77b4",
          "pattern": {
           "shape": ""
          }
         },
         "name": "histogram",
         "nbinsx": 80,
         "offsetgroup": "325300",
         "orientation": "v",
         "showlegend": true,
         "type": "histogram",
         "x": [
          325300
         ],
         "xaxis": "x",
         "yaxis": "y3"
        },
        {
         "alignmentgroup": "True",
         "bingroup": "x",
         "hovertemplate": "SalePrice=%{x}<br>count=%{y}<extra></extra>",
         "legendgroup": "139400",
         "marker": {
          "color": "#1f77b4",
          "pattern": {
           "shape": ""
          }
         },
         "name": "histogram",
         "nbinsx": 80,
         "offsetgroup": "139400",
         "orientation": "v",
         "showlegend": true,
         "type": "histogram",
         "x": [
          139400,
          139400
         ],
         "xaxis": "x",
         "yaxis": "y3"
        },
        {
         "alignmentgroup": "True",
         "bingroup": "x",
         "hovertemplate": "SalePrice=%{x}<br>count=%{y}<extra></extra>",
         "legendgroup": "230000",
         "marker": {
          "color": "#1f77b4",
          "pattern": {
           "shape": ""
          }
         },
         "name": "histogram",
         "nbinsx": 80,
         "offsetgroup": "230000",
         "orientation": "v",
         "showlegend": true,
         "type": "histogram",
         "x": [
          230000,
          230000,
          230000,
          230000,
          230000,
          230000,
          230000,
          230000
         ],
         "xaxis": "x",
         "yaxis": "y3"
        },
        {
         "alignmentgroup": "True",
         "bingroup": "x",
         "hovertemplate": "SalePrice=%{x}<br>count=%{y}<extra></extra>",
         "legendgroup": "154000",
         "marker": {
          "color": "#1f77b4",
          "pattern": {
           "shape": ""
          }
         },
         "name": "histogram",
         "nbinsx": 80,
         "offsetgroup": "154000",
         "orientation": "v",
         "showlegend": true,
         "type": "histogram",
         "x": [
          154000,
          154000,
          154000,
          154000,
          154000
         ],
         "xaxis": "x",
         "yaxis": "y3"
        },
        {
         "alignmentgroup": "True",
         "bingroup": "x",
         "hovertemplate": "SalePrice=%{x}<br>count=%{y}<extra></extra>",
         "legendgroup": "256300",
         "marker": {
          "color": "#1f77b4",
          "pattern": {
           "shape": ""
          }
         },
         "name": "histogram",
         "nbinsx": 80,
         "offsetgroup": "256300",
         "orientation": "v",
         "showlegend": true,
         "type": "histogram",
         "x": [
          256300
         ],
         "xaxis": "x",
         "yaxis": "y3"
        },
        {
         "alignmentgroup": "True",
         "bingroup": "x",
         "hovertemplate": "SalePrice=%{x}<br>count=%{y}<extra></extra>",
         "legendgroup": "134800",
         "marker": {
          "color": "#1f77b4",
          "pattern": {
           "shape": ""
          }
         },
         "name": "histogram",
         "nbinsx": 80,
         "offsetgroup": "134800",
         "orientation": "v",
         "showlegend": true,
         "type": "histogram",
         "x": [
          134800
         ],
         "xaxis": "x",
         "yaxis": "y3"
        },
        {
         "alignmentgroup": "True",
         "bingroup": "x",
         "hovertemplate": "SalePrice=%{x}<br>count=%{y}<extra></extra>",
         "legendgroup": "306000",
         "marker": {
          "color": "#1f77b4",
          "pattern": {
           "shape": ""
          }
         },
         "name": "histogram",
         "nbinsx": 80,
         "offsetgroup": "306000",
         "orientation": "v",
         "showlegend": true,
         "type": "histogram",
         "x": [
          306000
         ],
         "xaxis": "x",
         "yaxis": "y3"
        },
        {
         "alignmentgroup": "True",
         "bingroup": "x",
         "hovertemplate": "SalePrice=%{x}<br>count=%{y}<extra></extra>",
         "legendgroup": "207500",
         "marker": {
          "color": "#1f77b4",
          "pattern": {
           "shape": ""
          }
         },
         "name": "histogram",
         "nbinsx": 80,
         "offsetgroup": "207500",
         "orientation": "v",
         "showlegend": true,
         "type": "histogram",
         "x": [
          207500,
          207500,
          207500,
          207500,
          207500
         ],
         "xaxis": "x",
         "yaxis": "y3"
        },
        {
         "alignmentgroup": "True",
         "bingroup": "x",
         "hovertemplate": "SalePrice=%{x}<br>count=%{y}<extra></extra>",
         "legendgroup": "68500",
         "marker": {
          "color": "#1f77b4",
          "pattern": {
           "shape": ""
          }
         },
         "name": "histogram",
         "nbinsx": 80,
         "offsetgroup": "68500",
         "orientation": "v",
         "showlegend": true,
         "type": "histogram",
         "x": [
          68500
         ],
         "xaxis": "x",
         "yaxis": "y3"
        },
        {
         "alignmentgroup": "True",
         "bingroup": "x",
         "hovertemplate": "SalePrice=%{x}<br>count=%{y}<extra></extra>",
         "legendgroup": "40000",
         "marker": {
          "color": "#1f77b4",
          "pattern": {
           "shape": ""
          }
         },
         "name": "histogram",
         "nbinsx": 80,
         "offsetgroup": "40000",
         "orientation": "v",
         "showlegend": true,
         "type": "histogram",
         "x": [
          40000
         ],
         "xaxis": "x",
         "yaxis": "y3"
        },
        {
         "alignmentgroup": "True",
         "bingroup": "x",
         "hovertemplate": "SalePrice=%{x}<br>count=%{y}<extra></extra>",
         "legendgroup": "149350",
         "marker": {
          "color": "#1f77b4",
          "pattern": {
           "shape": ""
          }
         },
         "name": "histogram",
         "nbinsx": 80,
         "offsetgroup": "149350",
         "orientation": "v",
         "showlegend": true,
         "type": "histogram",
         "x": [
          149350
         ],
         "xaxis": "x",
         "yaxis": "y3"
        },
        {
         "alignmentgroup": "True",
         "bingroup": "x",
         "hovertemplate": "SalePrice=%{x}<br>count=%{y}<extra></extra>",
         "legendgroup": "179900",
         "marker": {
          "color": "#1f77b4",
          "pattern": {
           "shape": ""
          }
         },
         "name": "histogram",
         "nbinsx": 80,
         "offsetgroup": "179900",
         "orientation": "v",
         "showlegend": true,
         "type": "histogram",
         "x": [
          179900,
          179900,
          179900,
          179900,
          179900
         ],
         "xaxis": "x",
         "yaxis": "y3"
        },
        {
         "alignmentgroup": "True",
         "bingroup": "x",
         "hovertemplate": "SalePrice=%{x}<br>count=%{y}<extra></extra>",
         "legendgroup": "165500",
         "marker": {
          "color": "#1f77b4",
          "pattern": {
           "shape": ""
          }
         },
         "name": "histogram",
         "nbinsx": 80,
         "offsetgroup": "165500",
         "orientation": "v",
         "showlegend": true,
         "type": "histogram",
         "x": [
          165500,
          165500,
          165500
         ],
         "xaxis": "x",
         "yaxis": "y3"
        },
        {
         "alignmentgroup": "True",
         "bingroup": "x",
         "hovertemplate": "SalePrice=%{x}<br>count=%{y}<extra></extra>",
         "legendgroup": "277500",
         "marker": {
          "color": "#1f77b4",
          "pattern": {
           "shape": ""
          }
         },
         "name": "histogram",
         "nbinsx": 80,
         "offsetgroup": "277500",
         "orientation": "v",
         "showlegend": true,
         "type": "histogram",
         "x": [
          277500
         ],
         "xaxis": "x",
         "yaxis": "y3"
        },
        {
         "alignmentgroup": "True",
         "bingroup": "x",
         "hovertemplate": "SalePrice=%{x}<br>count=%{y}<extra></extra>",
         "legendgroup": "309000",
         "marker": {
          "color": "#1f77b4",
          "pattern": {
           "shape": ""
          }
         },
         "name": "histogram",
         "nbinsx": 80,
         "offsetgroup": "309000",
         "orientation": "v",
         "showlegend": true,
         "type": "histogram",
         "x": [
          309000
         ],
         "xaxis": "x",
         "yaxis": "y3"
        },
        {
         "alignmentgroup": "True",
         "bingroup": "x",
         "hovertemplate": "SalePrice=%{x}<br>count=%{y}<extra></extra>",
         "legendgroup": "145000",
         "marker": {
          "color": "#1f77b4",
          "pattern": {
           "shape": ""
          }
         },
         "name": "histogram",
         "nbinsx": 80,
         "offsetgroup": "145000",
         "orientation": "v",
         "showlegend": true,
         "type": "histogram",
         "x": [
          145000,
          145000,
          145000,
          145000,
          145000,
          145000,
          145000,
          145000,
          145000,
          145000,
          145000,
          145000,
          145000,
          145000
         ],
         "xaxis": "x",
         "yaxis": "y3"
        },
        {
         "alignmentgroup": "True",
         "bingroup": "x",
         "hovertemplate": "SalePrice=%{x}<br>count=%{y}<extra></extra>",
         "legendgroup": "153000",
         "marker": {
          "color": "#1f77b4",
          "pattern": {
           "shape": ""
          }
         },
         "name": "histogram",
         "nbinsx": 80,
         "offsetgroup": "153000",
         "orientation": "v",
         "showlegend": true,
         "type": "histogram",
         "x": [
          153000,
          153000,
          153000
         ],
         "xaxis": "x",
         "yaxis": "y3"
        },
        {
         "alignmentgroup": "True",
         "bingroup": "x",
         "hovertemplate": "SalePrice=%{x}<br>count=%{y}<extra></extra>",
         "legendgroup": "109000",
         "marker": {
          "color": "#1f77b4",
          "pattern": {
           "shape": ""
          }
         },
         "name": "histogram",
         "nbinsx": 80,
         "offsetgroup": "109000",
         "orientation": "v",
         "showlegend": true,
         "type": "histogram",
         "x": [
          109000,
          109000
         ],
         "xaxis": "x",
         "yaxis": "y3"
        },
        {
         "alignmentgroup": "True",
         "bingroup": "x",
         "hovertemplate": "SalePrice=%{x}<br>count=%{y}<extra></extra>",
         "legendgroup": "82000",
         "marker": {
          "color": "#1f77b4",
          "pattern": {
           "shape": ""
          }
         },
         "name": "histogram",
         "nbinsx": 80,
         "offsetgroup": "82000",
         "orientation": "v",
         "showlegend": true,
         "type": "histogram",
         "x": [
          82000,
          82000,
          82000
         ],
         "xaxis": "x",
         "yaxis": "y3"
        },
        {
         "alignmentgroup": "True",
         "bingroup": "x",
         "hovertemplate": "SalePrice=%{x}<br>count=%{y}<extra></extra>",
         "legendgroup": "160000",
         "marker": {
          "color": "#1f77b4",
          "pattern": {
           "shape": ""
          }
         },
         "name": "histogram",
         "nbinsx": 80,
         "offsetgroup": "160000",
         "orientation": "v",
         "showlegend": true,
         "type": "histogram",
         "x": [
          160000,
          160000,
          160000,
          160000,
          160000,
          160000,
          160000,
          160000,
          160000,
          160000,
          160000,
          160000
         ],
         "xaxis": "x",
         "yaxis": "y3"
        },
        {
         "alignmentgroup": "True",
         "bingroup": "x",
         "hovertemplate": "SalePrice=%{x}<br>count=%{y}<extra></extra>",
         "legendgroup": "170000",
         "marker": {
          "color": "#1f77b4",
          "pattern": {
           "shape": ""
          }
         },
         "name": "histogram",
         "nbinsx": 80,
         "offsetgroup": "170000",
         "orientation": "v",
         "showlegend": true,
         "type": "histogram",
         "x": [
          170000,
          170000,
          170000,
          170000,
          170000,
          170000,
          170000,
          170000
         ],
         "xaxis": "x",
         "yaxis": "y3"
        },
        {
         "alignmentgroup": "True",
         "bingroup": "x",
         "hovertemplate": "SalePrice=%{x}<br>count=%{y}<extra></extra>",
         "legendgroup": "130250",
         "marker": {
          "color": "#1f77b4",
          "pattern": {
           "shape": ""
          }
         },
         "name": "histogram",
         "nbinsx": 80,
         "offsetgroup": "130250",
         "orientation": "v",
         "showlegend": true,
         "type": "histogram",
         "x": [
          130250
         ],
         "xaxis": "x",
         "yaxis": "y3"
        },
        {
         "alignmentgroup": "True",
         "bingroup": "x",
         "hovertemplate": "SalePrice=%{x}<br>count=%{y}<extra></extra>",
         "legendgroup": "141000",
         "marker": {
          "color": "#1f77b4",
          "pattern": {
           "shape": ""
          }
         },
         "name": "histogram",
         "nbinsx": 80,
         "offsetgroup": "141000",
         "orientation": "v",
         "showlegend": true,
         "type": "histogram",
         "x": [
          141000,
          141000,
          141000,
          141000,
          141000,
          141000,
          141000,
          141000
         ],
         "xaxis": "x",
         "yaxis": "y3"
        },
        {
         "alignmentgroup": "True",
         "bingroup": "x",
         "hovertemplate": "SalePrice=%{x}<br>count=%{y}<extra></extra>",
         "legendgroup": "319900",
         "marker": {
          "color": "#1f77b4",
          "pattern": {
           "shape": ""
          }
         },
         "name": "histogram",
         "nbinsx": 80,
         "offsetgroup": "319900",
         "orientation": "v",
         "showlegend": true,
         "type": "histogram",
         "x": [
          319900
         ],
         "xaxis": "x",
         "yaxis": "y3"
        },
        {
         "alignmentgroup": "True",
         "bingroup": "x",
         "hovertemplate": "SalePrice=%{x}<br>count=%{y}<extra></extra>",
         "legendgroup": "239686",
         "marker": {
          "color": "#1f77b4",
          "pattern": {
           "shape": ""
          }
         },
         "name": "histogram",
         "nbinsx": 80,
         "offsetgroup": "239686",
         "orientation": "v",
         "showlegend": true,
         "type": "histogram",
         "x": [
          239686
         ],
         "xaxis": "x",
         "yaxis": "y3"
        },
        {
         "alignmentgroup": "True",
         "bingroup": "x",
         "hovertemplate": "SalePrice=%{x}<br>count=%{y}<extra></extra>",
         "legendgroup": "249700",
         "marker": {
          "color": "#1f77b4",
          "pattern": {
           "shape": ""
          }
         },
         "name": "histogram",
         "nbinsx": 80,
         "offsetgroup": "249700",
         "orientation": "v",
         "showlegend": true,
         "type": "histogram",
         "x": [
          249700
         ],
         "xaxis": "x",
         "yaxis": "y3"
        },
        {
         "alignmentgroup": "True",
         "bingroup": "x",
         "hovertemplate": "SalePrice=%{x}<br>count=%{y}<extra></extra>",
         "legendgroup": "113000",
         "marker": {
          "color": "#1f77b4",
          "pattern": {
           "shape": ""
          }
         },
         "name": "histogram",
         "nbinsx": 80,
         "offsetgroup": "113000",
         "orientation": "v",
         "showlegend": true,
         "type": "histogram",
         "x": [
          113000,
          113000,
          113000,
          113000,
          113000,
          113000
         ],
         "xaxis": "x",
         "yaxis": "y3"
        },
        {
         "alignmentgroup": "True",
         "bingroup": "x",
         "hovertemplate": "SalePrice=%{x}<br>count=%{y}<extra></extra>",
         "legendgroup": "127000",
         "marker": {
          "color": "#1f77b4",
          "pattern": {
           "shape": ""
          }
         },
         "name": "histogram",
         "nbinsx": 80,
         "offsetgroup": "127000",
         "orientation": "v",
         "showlegend": true,
         "type": "histogram",
         "x": [
          127000,
          127000,
          127000,
          127000,
          127000,
          127000,
          127000,
          127000,
          127000
         ],
         "xaxis": "x",
         "yaxis": "y3"
        },
        {
         "alignmentgroup": "True",
         "bingroup": "x",
         "hovertemplate": "SalePrice=%{x}<br>count=%{y}<extra></extra>",
         "legendgroup": "177000",
         "marker": {
          "color": "#1f77b4",
          "pattern": {
           "shape": ""
          }
         },
         "name": "histogram",
         "nbinsx": 80,
         "offsetgroup": "177000",
         "orientation": "v",
         "showlegend": true,
         "type": "histogram",
         "x": [
          177000,
          177000,
          177000,
          177000,
          177000
         ],
         "xaxis": "x",
         "yaxis": "y3"
        },
        {
         "alignmentgroup": "True",
         "bingroup": "x",
         "hovertemplate": "SalePrice=%{x}<br>count=%{y}<extra></extra>",
         "legendgroup": "114500",
         "marker": {
          "color": "#1f77b4",
          "pattern": {
           "shape": ""
          }
         },
         "name": "histogram",
         "nbinsx": 80,
         "offsetgroup": "114500",
         "orientation": "v",
         "showlegend": true,
         "type": "histogram",
         "x": [
          114500,
          114500
         ],
         "xaxis": "x",
         "yaxis": "y3"
        },
        {
         "alignmentgroup": "True",
         "bingroup": "x",
         "hovertemplate": "SalePrice=%{x}<br>count=%{y}<extra></extra>",
         "legendgroup": "110000",
         "marker": {
          "color": "#1f77b4",
          "pattern": {
           "shape": ""
          }
         },
         "name": "histogram",
         "nbinsx": 80,
         "offsetgroup": "110000",
         "orientation": "v",
         "showlegend": true,
         "type": "histogram",
         "x": [
          110000,
          110000,
          110000,
          110000,
          110000,
          110000,
          110000,
          110000,
          110000,
          110000,
          110000,
          110000,
          110000
         ],
         "xaxis": "x",
         "yaxis": "y3"
        },
        {
         "alignmentgroup": "True",
         "bingroup": "x",
         "hovertemplate": "SalePrice=%{x}<br>count=%{y}<extra></extra>",
         "legendgroup": "385000",
         "marker": {
          "color": "#1f77b4",
          "pattern": {
           "shape": ""
          }
         },
         "name": "histogram",
         "nbinsx": 80,
         "offsetgroup": "385000",
         "orientation": "v",
         "showlegend": true,
         "type": "histogram",
         "x": [
          385000,
          385000
         ],
         "xaxis": "x",
         "yaxis": "y3"
        },
        {
         "alignmentgroup": "True",
         "bingroup": "x",
         "hovertemplate": "SalePrice=%{x}<br>count=%{y}<extra></extra>",
         "legendgroup": "130000",
         "marker": {
          "color": "#1f77b4",
          "pattern": {
           "shape": ""
          }
         },
         "name": "histogram",
         "nbinsx": 80,
         "offsetgroup": "130000",
         "orientation": "v",
         "showlegend": true,
         "type": "histogram",
         "x": [
          130000,
          130000,
          130000,
          130000,
          130000,
          130000,
          130000,
          130000,
          130000,
          130000,
          130000
         ],
         "xaxis": "x",
         "yaxis": "y3"
        },
        {
         "alignmentgroup": "True",
         "bingroup": "x",
         "hovertemplate": "SalePrice=%{x}<br>count=%{y}<extra></extra>",
         "legendgroup": "180500",
         "marker": {
          "color": "#1f77b4",
          "pattern": {
           "shape": ""
          }
         },
         "name": "histogram",
         "nbinsx": 80,
         "offsetgroup": "180500",
         "orientation": "v",
         "showlegend": true,
         "type": "histogram",
         "x": [
          180500,
          180500,
          180500,
          180500
         ],
         "xaxis": "x",
         "yaxis": "y3"
        },
        {
         "alignmentgroup": "True",
         "bingroup": "x",
         "hovertemplate": "SalePrice=%{x}<br>count=%{y}<extra></extra>",
         "legendgroup": "172500",
         "marker": {
          "color": "#1f77b4",
          "pattern": {
           "shape": ""
          }
         },
         "name": "histogram",
         "nbinsx": 80,
         "offsetgroup": "172500",
         "orientation": "v",
         "showlegend": true,
         "type": "histogram",
         "x": [
          172500,
          172500,
          172500,
          172500,
          172500
         ],
         "xaxis": "x",
         "yaxis": "y3"
        },
        {
         "alignmentgroup": "True",
         "bingroup": "x",
         "hovertemplate": "SalePrice=%{x}<br>count=%{y}<extra></extra>",
         "legendgroup": "196500",
         "marker": {
          "color": "#1f77b4",
          "pattern": {
           "shape": ""
          }
         },
         "name": "histogram",
         "nbinsx": 80,
         "offsetgroup": "196500",
         "orientation": "v",
         "showlegend": true,
         "type": "histogram",
         "x": [
          196500,
          196500
         ],
         "xaxis": "x",
         "yaxis": "y3"
        },
        {
         "alignmentgroup": "True",
         "bingroup": "x",
         "hovertemplate": "SalePrice=%{x}<br>count=%{y}<extra></extra>",
         "legendgroup": "438780",
         "marker": {
          "color": "#1f77b4",
          "pattern": {
           "shape": ""
          }
         },
         "name": "histogram",
         "nbinsx": 80,
         "offsetgroup": "438780",
         "orientation": "v",
         "showlegend": true,
         "type": "histogram",
         "x": [
          438780
         ],
         "xaxis": "x",
         "yaxis": "y3"
        },
        {
         "alignmentgroup": "True",
         "bingroup": "x",
         "hovertemplate": "SalePrice=%{x}<br>count=%{y}<extra></extra>",
         "legendgroup": "124900",
         "marker": {
          "color": "#1f77b4",
          "pattern": {
           "shape": ""
          }
         },
         "name": "histogram",
         "nbinsx": 80,
         "offsetgroup": "124900",
         "orientation": "v",
         "showlegend": true,
         "type": "histogram",
         "x": [
          124900,
          124900
         ],
         "xaxis": "x",
         "yaxis": "y3"
        },
        {
         "alignmentgroup": "True",
         "bingroup": "x",
         "hovertemplate": "SalePrice=%{x}<br>count=%{y}<extra></extra>",
         "legendgroup": "158000",
         "marker": {
          "color": "#1f77b4",
          "pattern": {
           "shape": ""
          }
         },
         "name": "histogram",
         "nbinsx": 80,
         "offsetgroup": "158000",
         "orientation": "v",
         "showlegend": true,
         "type": "histogram",
         "x": [
          158000,
          158000,
          158000,
          158000,
          158000,
          158000
         ],
         "xaxis": "x",
         "yaxis": "y3"
        },
        {
         "alignmentgroup": "True",
         "bingroup": "x",
         "hovertemplate": "SalePrice=%{x}<br>count=%{y}<extra></extra>",
         "legendgroup": "101000",
         "marker": {
          "color": "#1f77b4",
          "pattern": {
           "shape": ""
          }
         },
         "name": "histogram",
         "nbinsx": 80,
         "offsetgroup": "101000",
         "orientation": "v",
         "showlegend": true,
         "type": "histogram",
         "x": [
          101000
         ],
         "xaxis": "x",
         "yaxis": "y3"
        },
        {
         "alignmentgroup": "True",
         "bingroup": "x",
         "hovertemplate": "SalePrice=%{x}<br>count=%{y}<extra></extra>",
         "legendgroup": "202500",
         "marker": {
          "color": "#1f77b4",
          "pattern": {
           "shape": ""
          }
         },
         "name": "histogram",
         "nbinsx": 80,
         "offsetgroup": "202500",
         "orientation": "v",
         "showlegend": true,
         "type": "histogram",
         "x": [
          202500,
          202500,
          202500
         ],
         "xaxis": "x",
         "yaxis": "y3"
        },
        {
         "alignmentgroup": "True",
         "bingroup": "x",
         "hovertemplate": "SalePrice=%{x}<br>count=%{y}<extra></extra>",
         "legendgroup": "219500",
         "marker": {
          "color": "#1f77b4",
          "pattern": {
           "shape": ""
          }
         },
         "name": "histogram",
         "nbinsx": 80,
         "offsetgroup": "219500",
         "orientation": "v",
         "showlegend": true,
         "type": "histogram",
         "x": [
          219500,
          219500,
          219500
         ],
         "xaxis": "x",
         "yaxis": "y3"
        },
        {
         "alignmentgroup": "True",
         "bingroup": "x",
         "hovertemplate": "SalePrice=%{x}<br>count=%{y}<extra></extra>",
         "legendgroup": "317000",
         "marker": {
          "color": "#1f77b4",
          "pattern": {
           "shape": ""
          }
         },
         "name": "histogram",
         "nbinsx": 80,
         "offsetgroup": "317000",
         "orientation": "v",
         "showlegend": true,
         "type": "histogram",
         "x": [
          317000
         ],
         "xaxis": "x",
         "yaxis": "y3"
        },
        {
         "alignmentgroup": "True",
         "bingroup": "x",
         "hovertemplate": "SalePrice=%{x}<br>count=%{y}<extra></extra>",
         "legendgroup": "180000",
         "marker": {
          "color": "#1f77b4",
          "pattern": {
           "shape": ""
          }
         },
         "name": "histogram",
         "nbinsx": 80,
         "offsetgroup": "180000",
         "orientation": "v",
         "showlegend": true,
         "type": "histogram",
         "x": [
          180000,
          180000,
          180000,
          180000,
          180000,
          180000,
          180000,
          180000,
          180000,
          180000
         ],
         "xaxis": "x",
         "yaxis": "y3"
        },
        {
         "alignmentgroup": "True",
         "bingroup": "x",
         "hovertemplate": "SalePrice=%{x}<br>count=%{y}<extra></extra>",
         "legendgroup": "226000",
         "marker": {
          "color": "#1f77b4",
          "pattern": {
           "shape": ""
          }
         },
         "name": "histogram",
         "nbinsx": 80,
         "offsetgroup": "226000",
         "orientation": "v",
         "showlegend": true,
         "type": "histogram",
         "x": [
          226000,
          226000,
          226000
         ],
         "xaxis": "x",
         "yaxis": "y3"
        },
        {
         "alignmentgroup": "True",
         "bingroup": "x",
         "hovertemplate": "SalePrice=%{x}<br>count=%{y}<extra></extra>",
         "legendgroup": "80000",
         "marker": {
          "color": "#1f77b4",
          "pattern": {
           "shape": ""
          }
         },
         "name": "histogram",
         "nbinsx": 80,
         "offsetgroup": "80000",
         "orientation": "v",
         "showlegend": true,
         "type": "histogram",
         "x": [
          80000,
          80000,
          80000,
          80000
         ],
         "xaxis": "x",
         "yaxis": "y3"
        },
        {
         "alignmentgroup": "True",
         "bingroup": "x",
         "hovertemplate": "SalePrice=%{x}<br>count=%{y}<extra></extra>",
         "legendgroup": "225000",
         "marker": {
          "color": "#1f77b4",
          "pattern": {
           "shape": ""
          }
         },
         "name": "histogram",
         "nbinsx": 80,
         "offsetgroup": "225000",
         "orientation": "v",
         "showlegend": true,
         "type": "histogram",
         "x": [
          225000,
          225000,
          225000,
          225000,
          225000,
          225000
         ],
         "xaxis": "x",
         "yaxis": "y3"
        },
        {
         "alignmentgroup": "True",
         "bingroup": "x",
         "hovertemplate": "SalePrice=%{x}<br>count=%{y}<extra></extra>",
         "legendgroup": "244000",
         "marker": {
          "color": "#1f77b4",
          "pattern": {
           "shape": ""
          }
         },
         "name": "histogram",
         "nbinsx": 80,
         "offsetgroup": "244000",
         "orientation": "v",
         "showlegend": true,
         "type": "histogram",
         "x": [
          244000,
          244000,
          244000
         ],
         "xaxis": "x",
         "yaxis": "y3"
        },
        {
         "alignmentgroup": "True",
         "bingroup": "x",
         "hovertemplate": "SalePrice=%{x}<br>count=%{y}<extra></extra>",
         "legendgroup": "185000",
         "marker": {
          "color": "#1f77b4",
          "pattern": {
           "shape": ""
          }
         },
         "name": "histogram",
         "nbinsx": 80,
         "offsetgroup": "185000",
         "orientation": "v",
         "showlegend": true,
         "type": "histogram",
         "x": [
          185000,
          185000,
          185000,
          185000,
          185000,
          185000,
          185000,
          185000,
          185000,
          185000
         ],
         "xaxis": "x",
         "yaxis": "y3"
        },
        {
         "alignmentgroup": "True",
         "bingroup": "x",
         "hovertemplate": "SalePrice=%{x}<br>count=%{y}<extra></extra>",
         "legendgroup": "144900",
         "marker": {
          "color": "#1f77b4",
          "pattern": {
           "shape": ""
          }
         },
         "name": "histogram",
         "nbinsx": 80,
         "offsetgroup": "144900",
         "orientation": "v",
         "showlegend": true,
         "type": "histogram",
         "x": [
          144900
         ],
         "xaxis": "x",
         "yaxis": "y3"
        },
        {
         "alignmentgroup": "True",
         "bingroup": "x",
         "hovertemplate": "SalePrice=%{x}<br>count=%{y}<extra></extra>",
         "legendgroup": "107400",
         "marker": {
          "color": "#1f77b4",
          "pattern": {
           "shape": ""
          }
         },
         "name": "histogram",
         "nbinsx": 80,
         "offsetgroup": "107400",
         "orientation": "v",
         "showlegend": true,
         "type": "histogram",
         "x": [
          107400
         ],
         "xaxis": "x",
         "yaxis": "y3"
        },
        {
         "alignmentgroup": "True",
         "bingroup": "x",
         "hovertemplate": "SalePrice=%{x}<br>count=%{y}<extra></extra>",
         "legendgroup": "91000",
         "marker": {
          "color": "#1f77b4",
          "pattern": {
           "shape": ""
          }
         },
         "name": "histogram",
         "nbinsx": 80,
         "offsetgroup": "91000",
         "orientation": "v",
         "showlegend": true,
         "type": "histogram",
         "x": [
          91000,
          91000,
          91000
         ],
         "xaxis": "x",
         "yaxis": "y3"
        },
        {
         "alignmentgroup": "True",
         "bingroup": "x",
         "hovertemplate": "SalePrice=%{x}<br>count=%{y}<extra></extra>",
         "legendgroup": "135750",
         "marker": {
          "color": "#1f77b4",
          "pattern": {
           "shape": ""
          }
         },
         "name": "histogram",
         "nbinsx": 80,
         "offsetgroup": "135750",
         "orientation": "v",
         "showlegend": true,
         "type": "histogram",
         "x": [
          135750
         ],
         "xaxis": "x",
         "yaxis": "y3"
        },
        {
         "alignmentgroup": "True",
         "bingroup": "x",
         "hovertemplate": "SalePrice=%{x}<br>count=%{y}<extra></extra>",
         "legendgroup": "136500",
         "marker": {
          "color": "#1f77b4",
          "pattern": {
           "shape": ""
          }
         },
         "name": "histogram",
         "nbinsx": 80,
         "offsetgroup": "136500",
         "orientation": "v",
         "showlegend": true,
         "type": "histogram",
         "x": [
          136500,
          136500,
          136500,
          136500,
          136500
         ],
         "xaxis": "x",
         "yaxis": "y3"
        },
        {
         "alignmentgroup": "True",
         "bingroup": "x",
         "hovertemplate": "SalePrice=%{x}<br>count=%{y}<extra></extra>",
         "legendgroup": "193500",
         "marker": {
          "color": "#1f77b4",
          "pattern": {
           "shape": ""
          }
         },
         "name": "histogram",
         "nbinsx": 80,
         "offsetgroup": "193500",
         "orientation": "v",
         "showlegend": true,
         "type": "histogram",
         "x": [
          193500,
          193500
         ],
         "xaxis": "x",
         "yaxis": "y3"
        },
        {
         "alignmentgroup": "True",
         "bingroup": "x",
         "hovertemplate": "SalePrice=%{x}<br>count=%{y}<extra></extra>",
         "legendgroup": "153500",
         "marker": {
          "color": "#1f77b4",
          "pattern": {
           "shape": ""
          }
         },
         "name": "histogram",
         "nbinsx": 80,
         "offsetgroup": "153500",
         "orientation": "v",
         "showlegend": true,
         "type": "histogram",
         "x": [
          153500,
          153500,
          153500
         ],
         "xaxis": "x",
         "yaxis": "y3"
        },
        {
         "alignmentgroup": "True",
         "bingroup": "x",
         "hovertemplate": "SalePrice=%{x}<br>count=%{y}<extra></extra>",
         "legendgroup": "245000",
         "marker": {
          "color": "#1f77b4",
          "pattern": {
           "shape": ""
          }
         },
         "name": "histogram",
         "nbinsx": 80,
         "offsetgroup": "245000",
         "orientation": "v",
         "showlegend": true,
         "type": "histogram",
         "x": [
          245000
         ],
         "xaxis": "x",
         "yaxis": "y3"
        },
        {
         "alignmentgroup": "True",
         "bingroup": "x",
         "hovertemplate": "SalePrice=%{x}<br>count=%{y}<extra></extra>",
         "legendgroup": "126500",
         "marker": {
          "color": "#1f77b4",
          "pattern": {
           "shape": ""
          }
         },
         "name": "histogram",
         "nbinsx": 80,
         "offsetgroup": "126500",
         "orientation": "v",
         "showlegend": true,
         "type": "histogram",
         "x": [
          126500
         ],
         "xaxis": "x",
         "yaxis": "y3"
        },
        {
         "alignmentgroup": "True",
         "bingroup": "x",
         "hovertemplate": "SalePrice=%{x}<br>count=%{y}<extra></extra>",
         "legendgroup": "168500",
         "marker": {
          "color": "#1f77b4",
          "pattern": {
           "shape": ""
          }
         },
         "name": "histogram",
         "nbinsx": 80,
         "offsetgroup": "168500",
         "orientation": "v",
         "showlegend": true,
         "type": "histogram",
         "x": [
          168500,
          168500,
          168500
         ],
         "xaxis": "x",
         "yaxis": "y3"
        },
        {
         "alignmentgroup": "True",
         "bingroup": "x",
         "hovertemplate": "SalePrice=%{x}<br>count=%{y}<extra></extra>",
         "legendgroup": "260000",
         "marker": {
          "color": "#1f77b4",
          "pattern": {
           "shape": ""
          }
         },
         "name": "histogram",
         "nbinsx": 80,
         "offsetgroup": "260000",
         "orientation": "v",
         "showlegend": true,
         "type": "histogram",
         "x": [
          260000,
          260000,
          260000,
          260000,
          260000,
          260000
         ],
         "xaxis": "x",
         "yaxis": "y3"
        },
        {
         "alignmentgroup": "True",
         "bingroup": "x",
         "hovertemplate": "SalePrice=%{x}<br>count=%{y}<extra></extra>",
         "legendgroup": "174000",
         "marker": {
          "color": "#1f77b4",
          "pattern": {
           "shape": ""
          }
         },
         "name": "histogram",
         "nbinsx": 80,
         "offsetgroup": "174000",
         "orientation": "v",
         "showlegend": true,
         "type": "histogram",
         "x": [
          174000,
          174000,
          174000,
          174000,
          174000,
          174000,
          174000
         ],
         "xaxis": "x",
         "yaxis": "y3"
        },
        {
         "alignmentgroup": "True",
         "bingroup": "x",
         "hovertemplate": "SalePrice=%{x}<br>count=%{y}<extra></extra>",
         "legendgroup": "164500",
         "marker": {
          "color": "#1f77b4",
          "pattern": {
           "shape": ""
          }
         },
         "name": "histogram",
         "nbinsx": 80,
         "offsetgroup": "164500",
         "orientation": "v",
         "showlegend": true,
         "type": "histogram",
         "x": [
          164500,
          164500
         ],
         "xaxis": "x",
         "yaxis": "y3"
        },
        {
         "alignmentgroup": "True",
         "bingroup": "x",
         "hovertemplate": "SalePrice=%{x}<br>count=%{y}<extra></extra>",
         "legendgroup": "85000",
         "marker": {
          "color": "#1f77b4",
          "pattern": {
           "shape": ""
          }
         },
         "name": "histogram",
         "nbinsx": 80,
         "offsetgroup": "85000",
         "orientation": "v",
         "showlegend": true,
         "type": "histogram",
         "x": [
          85000,
          85000,
          85000,
          85000
         ],
         "xaxis": "x",
         "yaxis": "y3"
        },
        {
         "alignmentgroup": "True",
         "bingroup": "x",
         "hovertemplate": "SalePrice=%{x}<br>count=%{y}<extra></extra>",
         "legendgroup": "123600",
         "marker": {
          "color": "#1f77b4",
          "pattern": {
           "shape": ""
          }
         },
         "name": "histogram",
         "nbinsx": 80,
         "offsetgroup": "123600",
         "orientation": "v",
         "showlegend": true,
         "type": "histogram",
         "x": [
          123600
         ],
         "xaxis": "x",
         "yaxis": "y3"
        },
        {
         "alignmentgroup": "True",
         "bingroup": "x",
         "hovertemplate": "SalePrice=%{x}<br>count=%{y}<extra></extra>",
         "legendgroup": "109900",
         "marker": {
          "color": "#1f77b4",
          "pattern": {
           "shape": ""
          }
         },
         "name": "histogram",
         "nbinsx": 80,
         "offsetgroup": "109900",
         "orientation": "v",
         "showlegend": true,
         "type": "histogram",
         "x": [
          109900,
          109900,
          109900
         ],
         "xaxis": "x",
         "yaxis": "y3"
        },
        {
         "alignmentgroup": "True",
         "bingroup": "x",
         "hovertemplate": "SalePrice=%{x}<br>count=%{y}<extra></extra>",
         "legendgroup": "98600",
         "marker": {
          "color": "#1f77b4",
          "pattern": {
           "shape": ""
          }
         },
         "name": "histogram",
         "nbinsx": 80,
         "offsetgroup": "98600",
         "orientation": "v",
         "showlegend": true,
         "type": "histogram",
         "x": [
          98600
         ],
         "xaxis": "x",
         "yaxis": "y3"
        },
        {
         "alignmentgroup": "True",
         "bingroup": "x",
         "hovertemplate": "SalePrice=%{x}<br>count=%{y}<extra></extra>",
         "legendgroup": "163500",
         "marker": {
          "color": "#1f77b4",
          "pattern": {
           "shape": ""
          }
         },
         "name": "histogram",
         "nbinsx": 80,
         "offsetgroup": "163500",
         "orientation": "v",
         "showlegend": true,
         "type": "histogram",
         "x": [
          163500,
          163500
         ],
         "xaxis": "x",
         "yaxis": "y3"
        },
        {
         "alignmentgroup": "True",
         "bingroup": "x",
         "hovertemplate": "SalePrice=%{x}<br>count=%{y}<extra></extra>",
         "legendgroup": "133900",
         "marker": {
          "color": "#1f77b4",
          "pattern": {
           "shape": ""
          }
         },
         "name": "histogram",
         "nbinsx": 80,
         "offsetgroup": "133900",
         "orientation": "v",
         "showlegend": true,
         "type": "histogram",
         "x": [
          133900,
          133900
         ],
         "xaxis": "x",
         "yaxis": "y3"
        },
        {
         "alignmentgroup": "True",
         "bingroup": "x",
         "hovertemplate": "SalePrice=%{x}<br>count=%{y}<extra></extra>",
         "legendgroup": "204750",
         "marker": {
          "color": "#1f77b4",
          "pattern": {
           "shape": ""
          }
         },
         "name": "histogram",
         "nbinsx": 80,
         "offsetgroup": "204750",
         "orientation": "v",
         "showlegend": true,
         "type": "histogram",
         "x": [
          204750
         ],
         "xaxis": "x",
         "yaxis": "y3"
        },
        {
         "alignmentgroup": "True",
         "bingroup": "x",
         "hovertemplate": "SalePrice=%{x}<br>count=%{y}<extra></extra>",
         "legendgroup": "214000",
         "marker": {
          "color": "#1f77b4",
          "pattern": {
           "shape": ""
          }
         },
         "name": "histogram",
         "nbinsx": 80,
         "offsetgroup": "214000",
         "orientation": "v",
         "showlegend": true,
         "type": "histogram",
         "x": [
          214000,
          214000,
          214000,
          214000,
          214000
         ],
         "xaxis": "x",
         "yaxis": "y3"
        },
        {
         "alignmentgroup": "True",
         "bingroup": "x",
         "hovertemplate": "SalePrice=%{x}<br>count=%{y}<extra></extra>",
         "legendgroup": "94750",
         "marker": {
          "color": "#1f77b4",
          "pattern": {
           "shape": ""
          }
         },
         "name": "histogram",
         "nbinsx": 80,
         "offsetgroup": "94750",
         "orientation": "v",
         "showlegend": true,
         "type": "histogram",
         "x": [
          94750
         ],
         "xaxis": "x",
         "yaxis": "y3"
        },
        {
         "alignmentgroup": "True",
         "bingroup": "x",
         "hovertemplate": "SalePrice=%{x}<br>count=%{y}<extra></extra>",
         "legendgroup": "83000",
         "marker": {
          "color": "#1f77b4",
          "pattern": {
           "shape": ""
          }
         },
         "name": "histogram",
         "nbinsx": 80,
         "offsetgroup": "83000",
         "orientation": "v",
         "showlegend": true,
         "type": "histogram",
         "x": [
          83000,
          83000
         ],
         "xaxis": "x",
         "yaxis": "y3"
        },
        {
         "alignmentgroup": "True",
         "bingroup": "x",
         "hovertemplate": "SalePrice=%{x}<br>count=%{y}<extra></extra>",
         "legendgroup": "128950",
         "marker": {
          "color": "#1f77b4",
          "pattern": {
           "shape": ""
          }
         },
         "name": "histogram",
         "nbinsx": 80,
         "offsetgroup": "128950",
         "orientation": "v",
         "showlegend": true,
         "type": "histogram",
         "x": [
          128950
         ],
         "xaxis": "x",
         "yaxis": "y3"
        },
        {
         "alignmentgroup": "True",
         "bingroup": "x",
         "hovertemplate": "SalePrice=%{x}<br>count=%{y}<extra></extra>",
         "legendgroup": "205000",
         "marker": {
          "color": "#1f77b4",
          "pattern": {
           "shape": ""
          }
         },
         "name": "histogram",
         "nbinsx": 80,
         "offsetgroup": "205000",
         "orientation": "v",
         "showlegend": true,
         "type": "histogram",
         "x": [
          205000,
          205000,
          205000,
          205000,
          205000,
          205000
         ],
         "xaxis": "x",
         "yaxis": "y3"
        },
        {
         "alignmentgroup": "True",
         "bingroup": "x",
         "hovertemplate": "SalePrice=%{x}<br>count=%{y}<extra></extra>",
         "legendgroup": "178000",
         "marker": {
          "color": "#1f77b4",
          "pattern": {
           "shape": ""
          }
         },
         "name": "histogram",
         "nbinsx": 80,
         "offsetgroup": "178000",
         "orientation": "v",
         "showlegend": true,
         "type": "histogram",
         "x": [
          178000,
          178000,
          178000,
          178000,
          178000,
          178000,
          178000
         ],
         "xaxis": "x",
         "yaxis": "y3"
        },
        {
         "alignmentgroup": "True",
         "bingroup": "x",
         "hovertemplate": "SalePrice=%{x}<br>count=%{y}<extra></extra>",
         "legendgroup": "118964",
         "marker": {
          "color": "#1f77b4",
          "pattern": {
           "shape": ""
          }
         },
         "name": "histogram",
         "nbinsx": 80,
         "offsetgroup": "118964",
         "orientation": "v",
         "showlegend": true,
         "type": "histogram",
         "x": [
          118964
         ],
         "xaxis": "x",
         "yaxis": "y3"
        },
        {
         "alignmentgroup": "True",
         "bingroup": "x",
         "hovertemplate": "SalePrice=%{x}<br>count=%{y}<extra></extra>",
         "legendgroup": "198900",
         "marker": {
          "color": "#1f77b4",
          "pattern": {
           "shape": ""
          }
         },
         "name": "histogram",
         "nbinsx": 80,
         "offsetgroup": "198900",
         "orientation": "v",
         "showlegend": true,
         "type": "histogram",
         "x": [
          198900
         ],
         "xaxis": "x",
         "yaxis": "y3"
        },
        {
         "alignmentgroup": "True",
         "bingroup": "x",
         "hovertemplate": "SalePrice=%{x}<br>count=%{y}<extra></extra>",
         "legendgroup": "169500",
         "marker": {
          "color": "#1f77b4",
          "pattern": {
           "shape": ""
          }
         },
         "name": "histogram",
         "nbinsx": 80,
         "offsetgroup": "169500",
         "orientation": "v",
         "showlegend": true,
         "type": "histogram",
         "x": [
          169500,
          169500
         ],
         "xaxis": "x",
         "yaxis": "y3"
        },
        {
         "alignmentgroup": "True",
         "bingroup": "x",
         "hovertemplate": "SalePrice=%{x}<br>count=%{y}<extra></extra>",
         "legendgroup": "100000",
         "marker": {
          "color": "#1f77b4",
          "pattern": {
           "shape": ""
          }
         },
         "name": "histogram",
         "nbinsx": 80,
         "offsetgroup": "100000",
         "orientation": "v",
         "showlegend": true,
         "type": "histogram",
         "x": [
          100000,
          100000,
          100000,
          100000,
          100000,
          100000,
          100000,
          100000,
          100000
         ],
         "xaxis": "x",
         "yaxis": "y3"
        },
        {
         "alignmentgroup": "True",
         "bingroup": "x",
         "hovertemplate": "SalePrice=%{x}<br>count=%{y}<extra></extra>",
         "legendgroup": "115000",
         "marker": {
          "color": "#1f77b4",
          "pattern": {
           "shape": ""
          }
         },
         "name": "histogram",
         "nbinsx": 80,
         "offsetgroup": "115000",
         "orientation": "v",
         "showlegend": true,
         "type": "histogram",
         "x": [
          115000,
          115000,
          115000,
          115000,
          115000,
          115000,
          115000,
          115000,
          115000,
          115000,
          115000,
          115000
         ],
         "xaxis": "x",
         "yaxis": "y3"
        },
        {
         "alignmentgroup": "True",
         "bingroup": "x",
         "hovertemplate": "SalePrice=%{x}<br>count=%{y}<extra></extra>",
         "legendgroup": "190000",
         "marker": {
          "color": "#1f77b4",
          "pattern": {
           "shape": ""
          }
         },
         "name": "histogram",
         "nbinsx": 80,
         "offsetgroup": "190000",
         "orientation": "v",
         "showlegend": true,
         "type": "histogram",
         "x": [
          190000,
          190000,
          190000,
          190000,
          190000,
          190000,
          190000,
          190000,
          190000,
          190000,
          190000,
          190000,
          190000
         ],
         "xaxis": "x",
         "yaxis": "y3"
        },
        {
         "alignmentgroup": "True",
         "bingroup": "x",
         "hovertemplate": "SalePrice=%{x}<br>count=%{y}<extra></extra>",
         "legendgroup": "136900",
         "marker": {
          "color": "#1f77b4",
          "pattern": {
           "shape": ""
          }
         },
         "name": "histogram",
         "nbinsx": 80,
         "offsetgroup": "136900",
         "orientation": "v",
         "showlegend": true,
         "type": "histogram",
         "x": [
          136900
         ],
         "xaxis": "x",
         "yaxis": "y3"
        },
        {
         "alignmentgroup": "True",
         "bingroup": "x",
         "hovertemplate": "SalePrice=%{x}<br>count=%{y}<extra></extra>",
         "legendgroup": "383970",
         "marker": {
          "color": "#1f77b4",
          "pattern": {
           "shape": ""
          }
         },
         "name": "histogram",
         "nbinsx": 80,
         "offsetgroup": "383970",
         "orientation": "v",
         "showlegend": true,
         "type": "histogram",
         "x": [
          383970
         ],
         "xaxis": "x",
         "yaxis": "y3"
        },
        {
         "alignmentgroup": "True",
         "bingroup": "x",
         "hovertemplate": "SalePrice=%{x}<br>count=%{y}<extra></extra>",
         "legendgroup": "217000",
         "marker": {
          "color": "#1f77b4",
          "pattern": {
           "shape": ""
          }
         },
         "name": "histogram",
         "nbinsx": 80,
         "offsetgroup": "217000",
         "orientation": "v",
         "showlegend": true,
         "type": "histogram",
         "x": [
          217000,
          217000
         ],
         "xaxis": "x",
         "yaxis": "y3"
        },
        {
         "alignmentgroup": "True",
         "bingroup": "x",
         "hovertemplate": "SalePrice=%{x}<br>count=%{y}<extra></extra>",
         "legendgroup": "259500",
         "marker": {
          "color": "#1f77b4",
          "pattern": {
           "shape": ""
          }
         },
         "name": "histogram",
         "nbinsx": 80,
         "offsetgroup": "259500",
         "orientation": "v",
         "showlegend": true,
         "type": "histogram",
         "x": [
          259500
         ],
         "xaxis": "x",
         "yaxis": "y3"
        },
        {
         "alignmentgroup": "True",
         "bingroup": "x",
         "hovertemplate": "SalePrice=%{x}<br>count=%{y}<extra></extra>",
         "legendgroup": "176000",
         "marker": {
          "color": "#1f77b4",
          "pattern": {
           "shape": ""
          }
         },
         "name": "histogram",
         "nbinsx": 80,
         "offsetgroup": "176000",
         "orientation": "v",
         "showlegend": true,
         "type": "histogram",
         "x": [
          176000,
          176000,
          176000,
          176000,
          176000,
          176000,
          176000,
          176000
         ],
         "xaxis": "x",
         "yaxis": "y3"
        },
        {
         "alignmentgroup": "True",
         "bingroup": "x",
         "hovertemplate": "SalePrice=%{x}<br>count=%{y}<extra></extra>",
         "legendgroup": "155000",
         "marker": {
          "color": "#1f77b4",
          "pattern": {
           "shape": ""
          }
         },
         "name": "histogram",
         "nbinsx": 80,
         "offsetgroup": "155000",
         "orientation": "v",
         "showlegend": true,
         "type": "histogram",
         "x": [
          155000,
          155000,
          155000,
          155000,
          155000,
          155000,
          155000,
          155000,
          155000,
          155000,
          155000,
          155000,
          155000,
          155000
         ],
         "xaxis": "x",
         "yaxis": "y3"
        },
        {
         "alignmentgroup": "True",
         "bingroup": "x",
         "hovertemplate": "SalePrice=%{x}<br>count=%{y}<extra></extra>",
         "legendgroup": "320000",
         "marker": {
          "color": "#1f77b4",
          "pattern": {
           "shape": ""
          }
         },
         "name": "histogram",
         "nbinsx": 80,
         "offsetgroup": "320000",
         "orientation": "v",
         "showlegend": true,
         "type": "histogram",
         "x": [
          320000,
          320000,
          320000,
          320000
         ],
         "xaxis": "x",
         "yaxis": "y3"
        },
        {
         "alignmentgroup": "True",
         "bingroup": "x",
         "hovertemplate": "SalePrice=%{x}<br>count=%{y}<extra></extra>",
         "legendgroup": "163990",
         "marker": {
          "color": "#1f77b4",
          "pattern": {
           "shape": ""
          }
         },
         "name": "histogram",
         "nbinsx": 80,
         "offsetgroup": "163990",
         "orientation": "v",
         "showlegend": true,
         "type": "histogram",
         "x": [
          163990
         ],
         "xaxis": "x",
         "yaxis": "y3"
        },
        {
         "alignmentgroup": "True",
         "bingroup": "x",
         "hovertemplate": "SalePrice=%{x}<br>count=%{y}<extra></extra>",
         "legendgroup": "136000",
         "marker": {
          "color": "#1f77b4",
          "pattern": {
           "shape": ""
          }
         },
         "name": "histogram",
         "nbinsx": 80,
         "offsetgroup": "136000",
         "orientation": "v",
         "showlegend": true,
         "type": "histogram",
         "x": [
          136000,
          136000,
          136000
         ],
         "xaxis": "x",
         "yaxis": "y3"
        },
        {
         "alignmentgroup": "True",
         "bingroup": "x",
         "hovertemplate": "SalePrice=%{x}<br>count=%{y}<extra></extra>",
         "legendgroup": "153900",
         "marker": {
          "color": "#1f77b4",
          "pattern": {
           "shape": ""
          }
         },
         "name": "histogram",
         "nbinsx": 80,
         "offsetgroup": "153900",
         "orientation": "v",
         "showlegend": true,
         "type": "histogram",
         "x": [
          153900,
          153900
         ],
         "xaxis": "x",
         "yaxis": "y3"
        },
        {
         "alignmentgroup": "True",
         "bingroup": "x",
         "hovertemplate": "SalePrice=%{x}<br>count=%{y}<extra></extra>",
         "legendgroup": "181000",
         "marker": {
          "color": "#1f77b4",
          "pattern": {
           "shape": ""
          }
         },
         "name": "histogram",
         "nbinsx": 80,
         "offsetgroup": "181000",
         "orientation": "v",
         "showlegend": true,
         "type": "histogram",
         "x": [
          181000,
          181000,
          181000,
          181000,
          181000,
          181000,
          181000
         ],
         "xaxis": "x",
         "yaxis": "y3"
        },
        {
         "alignmentgroup": "True",
         "bingroup": "x",
         "hovertemplate": "SalePrice=%{x}<br>count=%{y}<extra></extra>",
         "legendgroup": "84500",
         "marker": {
          "color": "#1f77b4",
          "pattern": {
           "shape": ""
          }
         },
         "name": "histogram",
         "nbinsx": 80,
         "offsetgroup": "84500",
         "orientation": "v",
         "showlegend": true,
         "type": "histogram",
         "x": [
          84500,
          84500,
          84500
         ],
         "xaxis": "x",
         "yaxis": "y3"
        },
        {
         "alignmentgroup": "True",
         "bingroup": "x",
         "hovertemplate": "SalePrice=%{x}<br>count=%{y}<extra></extra>",
         "legendgroup": "128000",
         "marker": {
          "color": "#1f77b4",
          "pattern": {
           "shape": ""
          }
         },
         "name": "histogram",
         "nbinsx": 80,
         "offsetgroup": "128000",
         "orientation": "v",
         "showlegend": true,
         "type": "histogram",
         "x": [
          128000,
          128000,
          128000,
          128000,
          128000,
          128000,
          128000
         ],
         "xaxis": "x",
         "yaxis": "y3"
        },
        {
         "alignmentgroup": "True",
         "bingroup": "x",
         "hovertemplate": "SalePrice=%{x}<br>count=%{y}<extra></extra>",
         "legendgroup": "87000",
         "marker": {
          "color": "#1f77b4",
          "pattern": {
           "shape": ""
          }
         },
         "name": "histogram",
         "nbinsx": 80,
         "offsetgroup": "87000",
         "orientation": "v",
         "showlegend": true,
         "type": "histogram",
         "x": [
          87000,
          87000,
          87000,
          87000
         ],
         "xaxis": "x",
         "yaxis": "y3"
        },
        {
         "alignmentgroup": "True",
         "bingroup": "x",
         "hovertemplate": "SalePrice=%{x}<br>count=%{y}<extra></extra>",
         "legendgroup": "150000",
         "marker": {
          "color": "#1f77b4",
          "pattern": {
           "shape": ""
          }
         },
         "name": "histogram",
         "nbinsx": 80,
         "offsetgroup": "150000",
         "orientation": "v",
         "showlegend": true,
         "type": "histogram",
         "x": [
          150000,
          150000,
          150000,
          150000
         ],
         "xaxis": "x",
         "yaxis": "y3"
        },
        {
         "alignmentgroup": "True",
         "bingroup": "x",
         "hovertemplate": "SalePrice=%{x}<br>count=%{y}<extra></extra>",
         "legendgroup": "150750",
         "marker": {
          "color": "#1f77b4",
          "pattern": {
           "shape": ""
          }
         },
         "name": "histogram",
         "nbinsx": 80,
         "offsetgroup": "150750",
         "orientation": "v",
         "showlegend": true,
         "type": "histogram",
         "x": [
          150750
         ],
         "xaxis": "x",
         "yaxis": "y3"
        },
        {
         "alignmentgroup": "True",
         "bingroup": "x",
         "hovertemplate": "SalePrice=%{x}<br>count=%{y}<extra></extra>",
         "legendgroup": "220000",
         "marker": {
          "color": "#1f77b4",
          "pattern": {
           "shape": ""
          }
         },
         "name": "histogram",
         "nbinsx": 80,
         "offsetgroup": "220000",
         "orientation": "v",
         "showlegend": true,
         "type": "histogram",
         "x": [
          220000,
          220000,
          220000,
          220000,
          220000
         ],
         "xaxis": "x",
         "yaxis": "y3"
        },
        {
         "alignmentgroup": "True",
         "bingroup": "x",
         "hovertemplate": "SalePrice=%{x}<br>count=%{y}<extra></extra>",
         "legendgroup": "171000",
         "marker": {
          "color": "#1f77b4",
          "pattern": {
           "shape": ""
          }
         },
         "name": "histogram",
         "nbinsx": 80,
         "offsetgroup": "171000",
         "orientation": "v",
         "showlegend": true,
         "type": "histogram",
         "x": [
          171000,
          171000,
          171000,
          171000,
          171000
         ],
         "xaxis": "x",
         "yaxis": "y3"
        },
        {
         "alignmentgroup": "True",
         "bingroup": "x",
         "hovertemplate": "SalePrice=%{x}<br>count=%{y}<extra></extra>",
         "legendgroup": "231500",
         "marker": {
          "color": "#1f77b4",
          "pattern": {
           "shape": ""
          }
         },
         "name": "histogram",
         "nbinsx": 80,
         "offsetgroup": "231500",
         "orientation": "v",
         "showlegend": true,
         "type": "histogram",
         "x": [
          231500,
          231500
         ],
         "xaxis": "x",
         "yaxis": "y3"
        },
        {
         "alignmentgroup": "True",
         "bingroup": "x",
         "hovertemplate": "SalePrice=%{x}<br>count=%{y}<extra></extra>",
         "legendgroup": "166000",
         "marker": {
          "color": "#1f77b4",
          "pattern": {
           "shape": ""
          }
         },
         "name": "histogram",
         "nbinsx": 80,
         "offsetgroup": "166000",
         "orientation": "v",
         "showlegend": true,
         "type": "histogram",
         "x": [
          166000,
          166000
         ],
         "xaxis": "x",
         "yaxis": "y3"
        },
        {
         "alignmentgroup": "True",
         "bingroup": "x",
         "hovertemplate": "SalePrice=%{x}<br>count=%{y}<extra></extra>",
         "legendgroup": "204000",
         "marker": {
          "color": "#1f77b4",
          "pattern": {
           "shape": ""
          }
         },
         "name": "histogram",
         "nbinsx": 80,
         "offsetgroup": "204000",
         "orientation": "v",
         "showlegend": true,
         "type": "histogram",
         "x": [
          204000,
          204000
         ],
         "xaxis": "x",
         "yaxis": "y3"
        },
        {
         "alignmentgroup": "True",
         "bingroup": "x",
         "hovertemplate": "SalePrice=%{x}<br>count=%{y}<extra></extra>",
         "legendgroup": "125000",
         "marker": {
          "color": "#1f77b4",
          "pattern": {
           "shape": ""
          }
         },
         "name": "histogram",
         "nbinsx": 80,
         "offsetgroup": "125000",
         "orientation": "v",
         "showlegend": true,
         "type": "histogram",
         "x": [
          125000,
          125000,
          125000,
          125000,
          125000,
          125000,
          125000,
          125000,
          125000,
          125000
         ],
         "xaxis": "x",
         "yaxis": "y3"
        },
        {
         "alignmentgroup": "True",
         "bingroup": "x",
         "hovertemplate": "SalePrice=%{x}<br>count=%{y}<extra></extra>",
         "legendgroup": "105000",
         "marker": {
          "color": "#1f77b4",
          "pattern": {
           "shape": ""
          }
         },
         "name": "histogram",
         "nbinsx": 80,
         "offsetgroup": "105000",
         "orientation": "v",
         "showlegend": true,
         "type": "histogram",
         "x": [
          105000,
          105000,
          105000,
          105000,
          105000
         ],
         "xaxis": "x",
         "yaxis": "y3"
        },
        {
         "alignmentgroup": "True",
         "bingroup": "x",
         "hovertemplate": "SalePrice=%{x}<br>count=%{y}<extra></extra>",
         "legendgroup": "222500",
         "marker": {
          "color": "#1f77b4",
          "pattern": {
           "shape": ""
          }
         },
         "name": "histogram",
         "nbinsx": 80,
         "offsetgroup": "222500",
         "orientation": "v",
         "showlegend": true,
         "type": "histogram",
         "x": [
          222500,
          222500
         ],
         "xaxis": "x",
         "yaxis": "y3"
        },
        {
         "alignmentgroup": "True",
         "bingroup": "x",
         "hovertemplate": "SalePrice=%{x}<br>count=%{y}<extra></extra>",
         "legendgroup": "122000",
         "marker": {
          "color": "#1f77b4",
          "pattern": {
           "shape": ""
          }
         },
         "name": "histogram",
         "nbinsx": 80,
         "offsetgroup": "122000",
         "orientation": "v",
         "showlegend": true,
         "type": "histogram",
         "x": [
          122000,
          122000,
          122000,
          122000
         ],
         "xaxis": "x",
         "yaxis": "y3"
        },
        {
         "alignmentgroup": "True",
         "bingroup": "x",
         "hovertemplate": "SalePrice=%{x}<br>count=%{y}<extra></extra>",
         "legendgroup": "372402",
         "marker": {
          "color": "#1f77b4",
          "pattern": {
           "shape": ""
          }
         },
         "name": "histogram",
         "nbinsx": 80,
         "offsetgroup": "372402",
         "orientation": "v",
         "showlegend": true,
         "type": "histogram",
         "x": [
          372402
         ],
         "xaxis": "x",
         "yaxis": "y3"
        },
        {
         "alignmentgroup": "True",
         "bingroup": "x",
         "hovertemplate": "SalePrice=%{x}<br>count=%{y}<extra></extra>",
         "legendgroup": "235000",
         "marker": {
          "color": "#1f77b4",
          "pattern": {
           "shape": ""
          }
         },
         "name": "histogram",
         "nbinsx": 80,
         "offsetgroup": "235000",
         "orientation": "v",
         "showlegend": true,
         "type": "histogram",
         "x": [
          235000,
          235000,
          235000,
          235000,
          235000,
          235000,
          235000
         ],
         "xaxis": "x",
         "yaxis": "y3"
        },
        {
         "alignmentgroup": "True",
         "bingroup": "x",
         "hovertemplate": "SalePrice=%{x}<br>count=%{y}<extra></extra>",
         "legendgroup": "79000",
         "marker": {
          "color": "#1f77b4",
          "pattern": {
           "shape": ""
          }
         },
         "name": "histogram",
         "nbinsx": 80,
         "offsetgroup": "79000",
         "orientation": "v",
         "showlegend": true,
         "type": "histogram",
         "x": [
          79000,
          79000,
          79000
         ],
         "xaxis": "x",
         "yaxis": "y3"
        },
        {
         "alignmentgroup": "True",
         "bingroup": "x",
         "hovertemplate": "SalePrice=%{x}<br>count=%{y}<extra></extra>",
         "legendgroup": "109500",
         "marker": {
          "color": "#1f77b4",
          "pattern": {
           "shape": ""
          }
         },
         "name": "histogram",
         "nbinsx": 80,
         "offsetgroup": "109500",
         "orientation": "v",
         "showlegend": true,
         "type": "histogram",
         "x": [
          109500,
          109500,
          109500,
          109500
         ],
         "xaxis": "x",
         "yaxis": "y3"
        },
        {
         "alignmentgroup": "True",
         "bingroup": "x",
         "hovertemplate": "SalePrice=%{x}<br>count=%{y}<extra></extra>",
         "legendgroup": "269500",
         "marker": {
          "color": "#1f77b4",
          "pattern": {
           "shape": ""
          }
         },
         "name": "histogram",
         "nbinsx": 80,
         "offsetgroup": "269500",
         "orientation": "v",
         "showlegend": true,
         "type": "histogram",
         "x": [
          269500
         ],
         "xaxis": "x",
         "yaxis": "y3"
        },
        {
         "alignmentgroup": "True",
         "bingroup": "x",
         "hovertemplate": "SalePrice=%{x}<br>count=%{y}<extra></extra>",
         "legendgroup": "254900",
         "marker": {
          "color": "#1f77b4",
          "pattern": {
           "shape": ""
          }
         },
         "name": "histogram",
         "nbinsx": 80,
         "offsetgroup": "254900",
         "orientation": "v",
         "showlegend": true,
         "type": "histogram",
         "x": [
          254900
         ],
         "xaxis": "x",
         "yaxis": "y3"
        },
        {
         "alignmentgroup": "True",
         "bingroup": "x",
         "hovertemplate": "SalePrice=%{x}<br>count=%{y}<extra></extra>",
         "legendgroup": "162500",
         "marker": {
          "color": "#1f77b4",
          "pattern": {
           "shape": ""
          }
         },
         "name": "histogram",
         "nbinsx": 80,
         "offsetgroup": "162500",
         "orientation": "v",
         "showlegend": true,
         "type": "histogram",
         "x": [
          162500
         ],
         "xaxis": "x",
         "yaxis": "y3"
        },
        {
         "alignmentgroup": "True",
         "bingroup": "x",
         "hovertemplate": "SalePrice=%{x}<br>count=%{y}<extra></extra>",
         "legendgroup": "412500",
         "marker": {
          "color": "#1f77b4",
          "pattern": {
           "shape": ""
          }
         },
         "name": "histogram",
         "nbinsx": 80,
         "offsetgroup": "412500",
         "orientation": "v",
         "showlegend": true,
         "type": "histogram",
         "x": [
          412500
         ],
         "xaxis": "x",
         "yaxis": "y3"
        },
        {
         "alignmentgroup": "True",
         "bingroup": "x",
         "hovertemplate": "SalePrice=%{x}<br>count=%{y}<extra></extra>",
         "legendgroup": "103200",
         "marker": {
          "color": "#1f77b4",
          "pattern": {
           "shape": ""
          }
         },
         "name": "histogram",
         "nbinsx": 80,
         "offsetgroup": "103200",
         "orientation": "v",
         "showlegend": true,
         "type": "histogram",
         "x": [
          103200
         ],
         "xaxis": "x",
         "yaxis": "y3"
        },
        {
         "alignmentgroup": "True",
         "bingroup": "x",
         "hovertemplate": "SalePrice=%{x}<br>count=%{y}<extra></extra>",
         "legendgroup": "152000",
         "marker": {
          "color": "#1f77b4",
          "pattern": {
           "shape": ""
          }
         },
         "name": "histogram",
         "nbinsx": 80,
         "offsetgroup": "152000",
         "orientation": "v",
         "showlegend": true,
         "type": "histogram",
         "x": [
          152000,
          152000,
          152000,
          152000,
          152000,
          152000
         ],
         "xaxis": "x",
         "yaxis": "y3"
        },
        {
         "alignmentgroup": "True",
         "bingroup": "x",
         "hovertemplate": "SalePrice=%{x}<br>count=%{y}<extra></extra>",
         "legendgroup": "127500",
         "marker": {
          "color": "#1f77b4",
          "pattern": {
           "shape": ""
          }
         },
         "name": "histogram",
         "nbinsx": 80,
         "offsetgroup": "127500",
         "orientation": "v",
         "showlegend": true,
         "type": "histogram",
         "x": [
          127500,
          127500,
          127500,
          127500,
          127500,
          127500
         ],
         "xaxis": "x",
         "yaxis": "y3"
        },
        {
         "alignmentgroup": "True",
         "bingroup": "x",
         "hovertemplate": "SalePrice=%{x}<br>count=%{y}<extra></extra>",
         "legendgroup": "325624",
         "marker": {
          "color": "#1f77b4",
          "pattern": {
           "shape": ""
          }
         },
         "name": "histogram",
         "nbinsx": 80,
         "offsetgroup": "325624",
         "orientation": "v",
         "showlegend": true,
         "type": "histogram",
         "x": [
          325624
         ],
         "xaxis": "x",
         "yaxis": "y3"
        },
        {
         "alignmentgroup": "True",
         "bingroup": "x",
         "hovertemplate": "SalePrice=%{x}<br>count=%{y}<extra></extra>",
         "legendgroup": "183500",
         "marker": {
          "color": "#1f77b4",
          "pattern": {
           "shape": ""
          }
         },
         "name": "histogram",
         "nbinsx": 80,
         "offsetgroup": "183500",
         "orientation": "v",
         "showlegend": true,
         "type": "histogram",
         "x": [
          183500
         ],
         "xaxis": "x",
         "yaxis": "y3"
        },
        {
         "alignmentgroup": "True",
         "bingroup": "x",
         "hovertemplate": "SalePrice=%{x}<br>count=%{y}<extra></extra>",
         "legendgroup": "228000",
         "marker": {
          "color": "#1f77b4",
          "pattern": {
           "shape": ""
          }
         },
         "name": "histogram",
         "nbinsx": 80,
         "offsetgroup": "228000",
         "orientation": "v",
         "showlegend": true,
         "type": "histogram",
         "x": [
          228000,
          228000
         ],
         "xaxis": "x",
         "yaxis": "y3"
        },
        {
         "alignmentgroup": "True",
         "bingroup": "x",
         "hovertemplate": "SalePrice=%{x}<br>count=%{y}<extra></extra>",
         "legendgroup": "128500",
         "marker": {
          "color": "#1f77b4",
          "pattern": {
           "shape": ""
          }
         },
         "name": "histogram",
         "nbinsx": 80,
         "offsetgroup": "128500",
         "orientation": "v",
         "showlegend": true,
         "type": "histogram",
         "x": [
          128500,
          128500,
          128500,
          128500
         ],
         "xaxis": "x",
         "yaxis": "y3"
        },
        {
         "alignmentgroup": "True",
         "bingroup": "x",
         "hovertemplate": "SalePrice=%{x}<br>count=%{y}<extra></extra>",
         "legendgroup": "215000",
         "marker": {
          "color": "#1f77b4",
          "pattern": {
           "shape": ""
          }
         },
         "name": "histogram",
         "nbinsx": 80,
         "offsetgroup": "215000",
         "orientation": "v",
         "showlegend": true,
         "type": "histogram",
         "x": [
          215000,
          215000,
          215000,
          215000,
          215000,
          215000,
          215000,
          215000
         ],
         "xaxis": "x",
         "yaxis": "y3"
        },
        {
         "alignmentgroup": "True",
         "bingroup": "x",
         "hovertemplate": "SalePrice=%{x}<br>count=%{y}<extra></extra>",
         "legendgroup": "239000",
         "marker": {
          "color": "#1f77b4",
          "pattern": {
           "shape": ""
          }
         },
         "name": "histogram",
         "nbinsx": 80,
         "offsetgroup": "239000",
         "orientation": "v",
         "showlegend": true,
         "type": "histogram",
         "x": [
          239000,
          239000,
          239000,
          239000,
          239000,
          239000
         ],
         "xaxis": "x",
         "yaxis": "y3"
        },
        {
         "alignmentgroup": "True",
         "bingroup": "x",
         "hovertemplate": "SalePrice=%{x}<br>count=%{y}<extra></extra>",
         "legendgroup": "163000",
         "marker": {
          "color": "#1f77b4",
          "pattern": {
           "shape": ""
          }
         },
         "name": "histogram",
         "nbinsx": 80,
         "offsetgroup": "163000",
         "orientation": "v",
         "showlegend": true,
         "type": "histogram",
         "x": [
          163000,
          163000,
          163000,
          163000
         ],
         "xaxis": "x",
         "yaxis": "y3"
        },
        {
         "alignmentgroup": "True",
         "bingroup": "x",
         "hovertemplate": "SalePrice=%{x}<br>count=%{y}<extra></extra>",
         "legendgroup": "184000",
         "marker": {
          "color": "#1f77b4",
          "pattern": {
           "shape": ""
          }
         },
         "name": "histogram",
         "nbinsx": 80,
         "offsetgroup": "184000",
         "orientation": "v",
         "showlegend": true,
         "type": "histogram",
         "x": [
          184000,
          184000,
          184000,
          184000
         ],
         "xaxis": "x",
         "yaxis": "y3"
        },
        {
         "alignmentgroup": "True",
         "bingroup": "x",
         "hovertemplate": "SalePrice=%{x}<br>count=%{y}<extra></extra>",
         "legendgroup": "243000",
         "marker": {
          "color": "#1f77b4",
          "pattern": {
           "shape": ""
          }
         },
         "name": "histogram",
         "nbinsx": 80,
         "offsetgroup": "243000",
         "orientation": "v",
         "showlegend": true,
         "type": "histogram",
         "x": [
          243000
         ],
         "xaxis": "x",
         "yaxis": "y3"
        },
        {
         "alignmentgroup": "True",
         "bingroup": "x",
         "hovertemplate": "SalePrice=%{x}<br>count=%{y}<extra></extra>",
         "legendgroup": "211000",
         "marker": {
          "color": "#1f77b4",
          "pattern": {
           "shape": ""
          }
         },
         "name": "histogram",
         "nbinsx": 80,
         "offsetgroup": "211000",
         "orientation": "v",
         "showlegend": true,
         "type": "histogram",
         "x": [
          211000,
          211000
         ],
         "xaxis": "x",
         "yaxis": "y3"
        },
        {
         "alignmentgroup": "True",
         "bingroup": "x",
         "hovertemplate": "SalePrice=%{x}<br>count=%{y}<extra></extra>",
         "legendgroup": "501837",
         "marker": {
          "color": "#1f77b4",
          "pattern": {
           "shape": ""
          }
         },
         "name": "histogram",
         "nbinsx": 80,
         "offsetgroup": "501837",
         "orientation": "v",
         "showlegend": true,
         "type": "histogram",
         "x": [
          501837
         ],
         "xaxis": "x",
         "yaxis": "y3"
        },
        {
         "alignmentgroup": "True",
         "bingroup": "x",
         "hovertemplate": "SalePrice=%{x}<br>count=%{y}<extra></extra>",
         "legendgroup": "200100",
         "marker": {
          "color": "#1f77b4",
          "pattern": {
           "shape": ""
          }
         },
         "name": "histogram",
         "nbinsx": 80,
         "offsetgroup": "200100",
         "orientation": "v",
         "showlegend": true,
         "type": "histogram",
         "x": [
          200100
         ],
         "xaxis": "x",
         "yaxis": "y3"
        },
        {
         "alignmentgroup": "True",
         "bingroup": "x",
         "hovertemplate": "SalePrice=%{x}<br>count=%{y}<extra></extra>",
         "legendgroup": "120000",
         "marker": {
          "color": "#1f77b4",
          "pattern": {
           "shape": ""
          }
         },
         "name": "histogram",
         "nbinsx": 80,
         "offsetgroup": "120000",
         "orientation": "v",
         "showlegend": true,
         "type": "histogram",
         "x": [
          120000,
          120000,
          120000,
          120000,
          120000,
          120000,
          120000
         ],
         "xaxis": "x",
         "yaxis": "y3"
        },
        {
         "alignmentgroup": "True",
         "bingroup": "x",
         "hovertemplate": "SalePrice=%{x}<br>count=%{y}<extra></extra>",
         "legendgroup": "475000",
         "marker": {
          "color": "#1f77b4",
          "pattern": {
           "shape": ""
          }
         },
         "name": "histogram",
         "nbinsx": 80,
         "offsetgroup": "475000",
         "orientation": "v",
         "showlegend": true,
         "type": "histogram",
         "x": [
          475000
         ],
         "xaxis": "x",
         "yaxis": "y3"
        },
        {
         "alignmentgroup": "True",
         "bingroup": "x",
         "hovertemplate": "SalePrice=%{x}<br>count=%{y}<extra></extra>",
         "legendgroup": "173000",
         "marker": {
          "color": "#1f77b4",
          "pattern": {
           "shape": ""
          }
         },
         "name": "histogram",
         "nbinsx": 80,
         "offsetgroup": "173000",
         "orientation": "v",
         "showlegend": true,
         "type": "histogram",
         "x": [
          173000,
          173000,
          173000,
          173000,
          173000,
          173000,
          173000
         ],
         "xaxis": "x",
         "yaxis": "y3"
        },
        {
         "alignmentgroup": "True",
         "bingroup": "x",
         "hovertemplate": "SalePrice=%{x}<br>count=%{y}<extra></extra>",
         "legendgroup": "135000",
         "marker": {
          "color": "#1f77b4",
          "pattern": {
           "shape": ""
          }
         },
         "name": "histogram",
         "nbinsx": 80,
         "offsetgroup": "135000",
         "orientation": "v",
         "showlegend": true,
         "type": "histogram",
         "x": [
          135000,
          135000,
          135000,
          135000,
          135000,
          135000,
          135000,
          135000,
          135000,
          135000,
          135000,
          135000,
          135000,
          135000,
          135000,
          135000,
          135000
         ],
         "xaxis": "x",
         "yaxis": "y3"
        },
        {
         "alignmentgroup": "True",
         "bingroup": "x",
         "hovertemplate": "SalePrice=%{x}<br>count=%{y}<extra></extra>",
         "legendgroup": "153337",
         "marker": {
          "color": "#1f77b4",
          "pattern": {
           "shape": ""
          }
         },
         "name": "histogram",
         "nbinsx": 80,
         "offsetgroup": "153337",
         "orientation": "v",
         "showlegend": true,
         "type": "histogram",
         "x": [
          153337
         ],
         "xaxis": "x",
         "yaxis": "y3"
        },
        {
         "alignmentgroup": "True",
         "bingroup": "x",
         "hovertemplate": "SalePrice=%{x}<br>count=%{y}<extra></extra>",
         "legendgroup": "286000",
         "marker": {
          "color": "#1f77b4",
          "pattern": {
           "shape": ""
          }
         },
         "name": "histogram",
         "nbinsx": 80,
         "offsetgroup": "286000",
         "orientation": "v",
         "showlegend": true,
         "type": "histogram",
         "x": [
          286000
         ],
         "xaxis": "x",
         "yaxis": "y3"
        },
        {
         "alignmentgroup": "True",
         "bingroup": "x",
         "hovertemplate": "SalePrice=%{x}<br>count=%{y}<extra></extra>",
         "legendgroup": "315000",
         "marker": {
          "color": "#1f77b4",
          "pattern": {
           "shape": ""
          }
         },
         "name": "histogram",
         "nbinsx": 80,
         "offsetgroup": "315000",
         "orientation": "v",
         "showlegend": true,
         "type": "histogram",
         "x": [
          315000,
          315000,
          315000,
          315000
         ],
         "xaxis": "x",
         "yaxis": "y3"
        },
        {
         "alignmentgroup": "True",
         "bingroup": "x",
         "hovertemplate": "SalePrice=%{x}<br>count=%{y}<extra></extra>",
         "legendgroup": "192000",
         "marker": {
          "color": "#1f77b4",
          "pattern": {
           "shape": ""
          }
         },
         "name": "histogram",
         "nbinsx": 80,
         "offsetgroup": "192000",
         "orientation": "v",
         "showlegend": true,
         "type": "histogram",
         "x": [
          192000,
          192000,
          192000,
          192000,
          192000
         ],
         "xaxis": "x",
         "yaxis": "y3"
        },
        {
         "alignmentgroup": "True",
         "bingroup": "x",
         "hovertemplate": "SalePrice=%{x}<br>count=%{y}<extra></extra>",
         "legendgroup": "148500",
         "marker": {
          "color": "#1f77b4",
          "pattern": {
           "shape": ""
          }
         },
         "name": "histogram",
         "nbinsx": 80,
         "offsetgroup": "148500",
         "orientation": "v",
         "showlegend": true,
         "type": "histogram",
         "x": [
          148500,
          148500,
          148500
         ],
         "xaxis": "x",
         "yaxis": "y3"
        },
        {
         "alignmentgroup": "True",
         "bingroup": "x",
         "hovertemplate": "SalePrice=%{x}<br>count=%{y}<extra></extra>",
         "legendgroup": "311872",
         "marker": {
          "color": "#1f77b4",
          "pattern": {
           "shape": ""
          }
         },
         "name": "histogram",
         "nbinsx": 80,
         "offsetgroup": "311872",
         "orientation": "v",
         "showlegend": true,
         "type": "histogram",
         "x": [
          311872
         ],
         "xaxis": "x",
         "yaxis": "y3"
        },
        {
         "alignmentgroup": "True",
         "bingroup": "x",
         "hovertemplate": "SalePrice=%{x}<br>count=%{y}<extra></extra>",
         "legendgroup": "104000",
         "marker": {
          "color": "#1f77b4",
          "pattern": {
           "shape": ""
          }
         },
         "name": "histogram",
         "nbinsx": 80,
         "offsetgroup": "104000",
         "orientation": "v",
         "showlegend": true,
         "type": "histogram",
         "x": [
          104000
         ],
         "xaxis": "x",
         "yaxis": "y3"
        },
        {
         "alignmentgroup": "True",
         "bingroup": "x",
         "hovertemplate": "SalePrice=%{x}<br>count=%{y}<extra></extra>",
         "legendgroup": "274900",
         "marker": {
          "color": "#1f77b4",
          "pattern": {
           "shape": ""
          }
         },
         "name": "histogram",
         "nbinsx": 80,
         "offsetgroup": "274900",
         "orientation": "v",
         "showlegend": true,
         "type": "histogram",
         "x": [
          274900
         ],
         "xaxis": "x",
         "yaxis": "y3"
        },
        {
         "alignmentgroup": "True",
         "bingroup": "x",
         "hovertemplate": "SalePrice=%{x}<br>count=%{y}<extra></extra>",
         "legendgroup": "171500",
         "marker": {
          "color": "#1f77b4",
          "pattern": {
           "shape": ""
          }
         },
         "name": "histogram",
         "nbinsx": 80,
         "offsetgroup": "171500",
         "orientation": "v",
         "showlegend": true,
         "type": "histogram",
         "x": [
          171500
         ],
         "xaxis": "x",
         "yaxis": "y3"
        },
        {
         "alignmentgroup": "True",
         "bingroup": "x",
         "hovertemplate": "SalePrice=%{x}<br>count=%{y}<extra></extra>",
         "legendgroup": "112000",
         "marker": {
          "color": "#1f77b4",
          "pattern": {
           "shape": ""
          }
         },
         "name": "histogram",
         "nbinsx": 80,
         "offsetgroup": "112000",
         "orientation": "v",
         "showlegend": true,
         "type": "histogram",
         "x": [
          112000,
          112000,
          112000,
          112000,
          112000,
          112000,
          112000
         ],
         "xaxis": "x",
         "yaxis": "y3"
        },
        {
         "alignmentgroup": "True",
         "bingroup": "x",
         "hovertemplate": "SalePrice=%{x}<br>count=%{y}<extra></extra>",
         "legendgroup": "143900",
         "marker": {
          "color": "#1f77b4",
          "pattern": {
           "shape": ""
          }
         },
         "name": "histogram",
         "nbinsx": 80,
         "offsetgroup": "143900",
         "orientation": "v",
         "showlegend": true,
         "type": "histogram",
         "x": [
          143900
         ],
         "xaxis": "x",
         "yaxis": "y3"
        },
        {
         "alignmentgroup": "True",
         "bingroup": "x",
         "hovertemplate": "SalePrice=%{x}<br>count=%{y}<extra></extra>",
         "legendgroup": "277000",
         "marker": {
          "color": "#1f77b4",
          "pattern": {
           "shape": ""
          }
         },
         "name": "histogram",
         "nbinsx": 80,
         "offsetgroup": "277000",
         "orientation": "v",
         "showlegend": true,
         "type": "histogram",
         "x": [
          277000,
          277000
         ],
         "xaxis": "x",
         "yaxis": "y3"
        },
        {
         "alignmentgroup": "True",
         "bingroup": "x",
         "hovertemplate": "SalePrice=%{x}<br>count=%{y}<extra></extra>",
         "legendgroup": "98000",
         "marker": {
          "color": "#1f77b4",
          "pattern": {
           "shape": ""
          }
         },
         "name": "histogram",
         "nbinsx": 80,
         "offsetgroup": "98000",
         "orientation": "v",
         "showlegend": true,
         "type": "histogram",
         "x": [
          98000,
          98000,
          98000
         ],
         "xaxis": "x",
         "yaxis": "y3"
        },
        {
         "alignmentgroup": "True",
         "bingroup": "x",
         "hovertemplate": "SalePrice=%{x}<br>count=%{y}<extra></extra>",
         "legendgroup": "186000",
         "marker": {
          "color": "#1f77b4",
          "pattern": {
           "shape": ""
          }
         },
         "name": "histogram",
         "nbinsx": 80,
         "offsetgroup": "186000",
         "orientation": "v",
         "showlegend": true,
         "type": "histogram",
         "x": [
          186000
         ],
         "xaxis": "x",
         "yaxis": "y3"
        },
        {
         "alignmentgroup": "True",
         "bingroup": "x",
         "hovertemplate": "SalePrice=%{x}<br>count=%{y}<extra></extra>",
         "legendgroup": "252678",
         "marker": {
          "color": "#1f77b4",
          "pattern": {
           "shape": ""
          }
         },
         "name": "histogram",
         "nbinsx": 80,
         "offsetgroup": "252678",
         "orientation": "v",
         "showlegend": true,
         "type": "histogram",
         "x": [
          252678
         ],
         "xaxis": "x",
         "yaxis": "y3"
        },
        {
         "alignmentgroup": "True",
         "bingroup": "x",
         "hovertemplate": "SalePrice=%{x}<br>count=%{y}<extra></extra>",
         "legendgroup": "156000",
         "marker": {
          "color": "#1f77b4",
          "pattern": {
           "shape": ""
          }
         },
         "name": "histogram",
         "nbinsx": 80,
         "offsetgroup": "156000",
         "orientation": "v",
         "showlegend": true,
         "type": "histogram",
         "x": [
          156000,
          156000,
          156000,
          156000
         ],
         "xaxis": "x",
         "yaxis": "y3"
        },
        {
         "alignmentgroup": "True",
         "bingroup": "x",
         "hovertemplate": "SalePrice=%{x}<br>count=%{y}<extra></extra>",
         "legendgroup": "161750",
         "marker": {
          "color": "#1f77b4",
          "pattern": {
           "shape": ""
          }
         },
         "name": "histogram",
         "nbinsx": 80,
         "offsetgroup": "161750",
         "orientation": "v",
         "showlegend": true,
         "type": "histogram",
         "x": [
          161750
         ],
         "xaxis": "x",
         "yaxis": "y3"
        },
        {
         "alignmentgroup": "True",
         "bingroup": "x",
         "hovertemplate": "SalePrice=%{x}<br>count=%{y}<extra></extra>",
         "legendgroup": "134450",
         "marker": {
          "color": "#1f77b4",
          "pattern": {
           "shape": ""
          }
         },
         "name": "histogram",
         "nbinsx": 80,
         "offsetgroup": "134450",
         "orientation": "v",
         "showlegend": true,
         "type": "histogram",
         "x": [
          134450
         ],
         "xaxis": "x",
         "yaxis": "y3"
        },
        {
         "alignmentgroup": "True",
         "bingroup": "x",
         "hovertemplate": "SalePrice=%{x}<br>count=%{y}<extra></extra>",
         "legendgroup": "210000",
         "marker": {
          "color": "#1f77b4",
          "pattern": {
           "shape": ""
          }
         },
         "name": "histogram",
         "nbinsx": 80,
         "offsetgroup": "210000",
         "orientation": "v",
         "showlegend": true,
         "type": "histogram",
         "x": [
          210000,
          210000,
          210000,
          210000,
          210000
         ],
         "xaxis": "x",
         "yaxis": "y3"
        },
        {
         "alignmentgroup": "True",
         "bingroup": "x",
         "hovertemplate": "SalePrice=%{x}<br>count=%{y}<extra></extra>",
         "legendgroup": "107000",
         "marker": {
          "color": "#1f77b4",
          "pattern": {
           "shape": ""
          }
         },
         "name": "histogram",
         "nbinsx": 80,
         "offsetgroup": "107000",
         "orientation": "v",
         "showlegend": true,
         "type": "histogram",
         "x": [
          107000,
          107000,
          107000
         ],
         "xaxis": "x",
         "yaxis": "y3"
        },
        {
         "alignmentgroup": "True",
         "bingroup": "x",
         "hovertemplate": "SalePrice=%{x}<br>count=%{y}<extra></extra>",
         "legendgroup": "311500",
         "marker": {
          "color": "#1f77b4",
          "pattern": {
           "shape": ""
          }
         },
         "name": "histogram",
         "nbinsx": 80,
         "offsetgroup": "311500",
         "orientation": "v",
         "showlegend": true,
         "type": "histogram",
         "x": [
          311500
         ],
         "xaxis": "x",
         "yaxis": "y3"
        },
        {
         "alignmentgroup": "True",
         "bingroup": "x",
         "hovertemplate": "SalePrice=%{x}<br>count=%{y}<extra></extra>",
         "legendgroup": "167240",
         "marker": {
          "color": "#1f77b4",
          "pattern": {
           "shape": ""
          }
         },
         "name": "histogram",
         "nbinsx": 80,
         "offsetgroup": "167240",
         "orientation": "v",
         "showlegend": true,
         "type": "histogram",
         "x": [
          167240
         ],
         "xaxis": "x",
         "yaxis": "y3"
        },
        {
         "alignmentgroup": "True",
         "bingroup": "x",
         "hovertemplate": "SalePrice=%{x}<br>count=%{y}<extra></extra>",
         "legendgroup": "204900",
         "marker": {
          "color": "#1f77b4",
          "pattern": {
           "shape": ""
          }
         },
         "name": "histogram",
         "nbinsx": 80,
         "offsetgroup": "204900",
         "orientation": "v",
         "showlegend": true,
         "type": "histogram",
         "x": [
          204900
         ],
         "xaxis": "x",
         "yaxis": "y3"
        },
        {
         "alignmentgroup": "True",
         "bingroup": "x",
         "hovertemplate": "SalePrice=%{x}<br>count=%{y}<extra></extra>",
         "legendgroup": "97000",
         "marker": {
          "color": "#1f77b4",
          "pattern": {
           "shape": ""
          }
         },
         "name": "histogram",
         "nbinsx": 80,
         "offsetgroup": "97000",
         "orientation": "v",
         "showlegend": true,
         "type": "histogram",
         "x": [
          97000,
          97000,
          97000
         ],
         "xaxis": "x",
         "yaxis": "y3"
        },
        {
         "alignmentgroup": "True",
         "bingroup": "x",
         "hovertemplate": "SalePrice=%{x}<br>count=%{y}<extra></extra>",
         "legendgroup": "386250",
         "marker": {
          "color": "#1f77b4",
          "pattern": {
           "shape": ""
          }
         },
         "name": "histogram",
         "nbinsx": 80,
         "offsetgroup": "386250",
         "orientation": "v",
         "showlegend": true,
         "type": "histogram",
         "x": [
          386250
         ],
         "xaxis": "x",
         "yaxis": "y3"
        },
        {
         "alignmentgroup": "True",
         "bingroup": "x",
         "hovertemplate": "SalePrice=%{x}<br>count=%{y}<extra></extra>",
         "legendgroup": "290000",
         "marker": {
          "color": "#1f77b4",
          "pattern": {
           "shape": ""
          }
         },
         "name": "histogram",
         "nbinsx": 80,
         "offsetgroup": "290000",
         "orientation": "v",
         "showlegend": true,
         "type": "histogram",
         "x": [
          290000,
          290000,
          290000,
          290000,
          290000
         ],
         "xaxis": "x",
         "yaxis": "y3"
        },
        {
         "alignmentgroup": "True",
         "bingroup": "x",
         "hovertemplate": "SalePrice=%{x}<br>count=%{y}<extra></extra>",
         "legendgroup": "106000",
         "marker": {
          "color": "#1f77b4",
          "pattern": {
           "shape": ""
          }
         },
         "name": "histogram",
         "nbinsx": 80,
         "offsetgroup": "106000",
         "orientation": "v",
         "showlegend": true,
         "type": "histogram",
         "x": [
          106000,
          106000,
          106000
         ],
         "xaxis": "x",
         "yaxis": "y3"
        },
        {
         "alignmentgroup": "True",
         "bingroup": "x",
         "hovertemplate": "SalePrice=%{x}<br>count=%{y}<extra></extra>",
         "legendgroup": "192500",
         "marker": {
          "color": "#1f77b4",
          "pattern": {
           "shape": ""
          }
         },
         "name": "histogram",
         "nbinsx": 80,
         "offsetgroup": "192500",
         "orientation": "v",
         "showlegend": true,
         "type": "histogram",
         "x": [
          192500,
          192500
         ],
         "xaxis": "x",
         "yaxis": "y3"
        },
        {
         "alignmentgroup": "True",
         "bingroup": "x",
         "hovertemplate": "SalePrice=%{x}<br>count=%{y}<extra></extra>",
         "legendgroup": "148000",
         "marker": {
          "color": "#1f77b4",
          "pattern": {
           "shape": ""
          }
         },
         "name": "histogram",
         "nbinsx": 80,
         "offsetgroup": "148000",
         "orientation": "v",
         "showlegend": true,
         "type": "histogram",
         "x": [
          148000,
          148000,
          148000,
          148000,
          148000,
          148000,
          148000
         ],
         "xaxis": "x",
         "yaxis": "y3"
        },
        {
         "alignmentgroup": "True",
         "bingroup": "x",
         "hovertemplate": "SalePrice=%{x}<br>count=%{y}<extra></extra>",
         "legendgroup": "403000",
         "marker": {
          "color": "#1f77b4",
          "pattern": {
           "shape": ""
          }
         },
         "name": "histogram",
         "nbinsx": 80,
         "offsetgroup": "403000",
         "orientation": "v",
         "showlegend": true,
         "type": "histogram",
         "x": [
          403000
         ],
         "xaxis": "x",
         "yaxis": "y3"
        },
        {
         "alignmentgroup": "True",
         "bingroup": "x",
         "hovertemplate": "SalePrice=%{x}<br>count=%{y}<extra></extra>",
         "legendgroup": "94500",
         "marker": {
          "color": "#1f77b4",
          "pattern": {
           "shape": ""
          }
         },
         "name": "histogram",
         "nbinsx": 80,
         "offsetgroup": "94500",
         "orientation": "v",
         "showlegend": true,
         "type": "histogram",
         "x": [
          94500
         ],
         "xaxis": "x",
         "yaxis": "y3"
        },
        {
         "alignmentgroup": "True",
         "bingroup": "x",
         "hovertemplate": "SalePrice=%{x}<br>count=%{y}<extra></extra>",
         "legendgroup": "128200",
         "marker": {
          "color": "#1f77b4",
          "pattern": {
           "shape": ""
          }
         },
         "name": "histogram",
         "nbinsx": 80,
         "offsetgroup": "128200",
         "orientation": "v",
         "showlegend": true,
         "type": "histogram",
         "x": [
          128200
         ],
         "xaxis": "x",
         "yaxis": "y3"
        },
        {
         "alignmentgroup": "True",
         "bingroup": "x",
         "hovertemplate": "SalePrice=%{x}<br>count=%{y}<extra></extra>",
         "legendgroup": "216500",
         "marker": {
          "color": "#1f77b4",
          "pattern": {
           "shape": ""
          }
         },
         "name": "histogram",
         "nbinsx": 80,
         "offsetgroup": "216500",
         "orientation": "v",
         "showlegend": true,
         "type": "histogram",
         "x": [
          216500
         ],
         "xaxis": "x",
         "yaxis": "y3"
        },
        {
         "alignmentgroup": "True",
         "bingroup": "x",
         "hovertemplate": "SalePrice=%{x}<br>count=%{y}<extra></extra>",
         "legendgroup": "89500",
         "marker": {
          "color": "#1f77b4",
          "pattern": {
           "shape": ""
          }
         },
         "name": "histogram",
         "nbinsx": 80,
         "offsetgroup": "89500",
         "orientation": "v",
         "showlegend": true,
         "type": "histogram",
         "x": [
          89500,
          89500
         ],
         "xaxis": "x",
         "yaxis": "y3"
        },
        {
         "alignmentgroup": "True",
         "bingroup": "x",
         "hovertemplate": "SalePrice=%{x}<br>count=%{y}<extra></extra>",
         "legendgroup": "185500",
         "marker": {
          "color": "#1f77b4",
          "pattern": {
           "shape": ""
          }
         },
         "name": "histogram",
         "nbinsx": 80,
         "offsetgroup": "185500",
         "orientation": "v",
         "showlegend": true,
         "type": "histogram",
         "x": [
          185500
         ],
         "xaxis": "x",
         "yaxis": "y3"
        },
        {
         "alignmentgroup": "True",
         "bingroup": "x",
         "hovertemplate": "SalePrice=%{x}<br>count=%{y}<extra></extra>",
         "legendgroup": "194500",
         "marker": {
          "color": "#1f77b4",
          "pattern": {
           "shape": ""
          }
         },
         "name": "histogram",
         "nbinsx": 80,
         "offsetgroup": "194500",
         "orientation": "v",
         "showlegend": true,
         "type": "histogram",
         "x": [
          194500,
          194500,
          194500
         ],
         "xaxis": "x",
         "yaxis": "y3"
        },
        {
         "alignmentgroup": "True",
         "bingroup": "x",
         "hovertemplate": "SalePrice=%{x}<br>count=%{y}<extra></extra>",
         "legendgroup": "318000",
         "marker": {
          "color": "#1f77b4",
          "pattern": {
           "shape": ""
          }
         },
         "name": "histogram",
         "nbinsx": 80,
         "offsetgroup": "318000",
         "orientation": "v",
         "showlegend": true,
         "type": "histogram",
         "x": [
          318000,
          318000
         ],
         "xaxis": "x",
         "yaxis": "y3"
        },
        {
         "alignmentgroup": "True",
         "bingroup": "x",
         "hovertemplate": "SalePrice=%{x}<br>count=%{y}<extra></extra>",
         "legendgroup": "262500",
         "marker": {
          "color": "#1f77b4",
          "pattern": {
           "shape": ""
          }
         },
         "name": "histogram",
         "nbinsx": 80,
         "offsetgroup": "262500",
         "orientation": "v",
         "showlegend": true,
         "type": "histogram",
         "x": [
          262500,
          262500
         ],
         "xaxis": "x",
         "yaxis": "y3"
        },
        {
         "alignmentgroup": "True",
         "bingroup": "x",
         "hovertemplate": "SalePrice=%{x}<br>count=%{y}<extra></extra>",
         "legendgroup": "110500",
         "marker": {
          "color": "#1f77b4",
          "pattern": {
           "shape": ""
          }
         },
         "name": "histogram",
         "nbinsx": 80,
         "offsetgroup": "110500",
         "orientation": "v",
         "showlegend": true,
         "type": "histogram",
         "x": [
          110500,
          110500
         ],
         "xaxis": "x",
         "yaxis": "y3"
        },
        {
         "alignmentgroup": "True",
         "bingroup": "x",
         "hovertemplate": "SalePrice=%{x}<br>count=%{y}<extra></extra>",
         "legendgroup": "241500",
         "marker": {
          "color": "#1f77b4",
          "pattern": {
           "shape": ""
          }
         },
         "name": "histogram",
         "nbinsx": 80,
         "offsetgroup": "241500",
         "orientation": "v",
         "showlegend": true,
         "type": "histogram",
         "x": [
          241500,
          241500
         ],
         "xaxis": "x",
         "yaxis": "y3"
        },
        {
         "alignmentgroup": "True",
         "bingroup": "x",
         "hovertemplate": "SalePrice=%{x}<br>count=%{y}<extra></extra>",
         "legendgroup": "137000",
         "marker": {
          "color": "#1f77b4",
          "pattern": {
           "shape": ""
          }
         },
         "name": "histogram",
         "nbinsx": 80,
         "offsetgroup": "137000",
         "orientation": "v",
         "showlegend": true,
         "type": "histogram",
         "x": [
          137000,
          137000,
          137000,
          137000,
          137000
         ],
         "xaxis": "x",
         "yaxis": "y3"
        },
        {
         "alignmentgroup": "True",
         "bingroup": "x",
         "hovertemplate": "SalePrice=%{x}<br>count=%{y}<extra></extra>",
         "legendgroup": "76500",
         "marker": {
          "color": "#1f77b4",
          "pattern": {
           "shape": ""
          }
         },
         "name": "histogram",
         "nbinsx": 80,
         "offsetgroup": "76500",
         "orientation": "v",
         "showlegend": true,
         "type": "histogram",
         "x": [
          76500
         ],
         "xaxis": "x",
         "yaxis": "y3"
        },
        {
         "alignmentgroup": "True",
         "bingroup": "x",
         "hovertemplate": "SalePrice=%{x}<br>count=%{y}<extra></extra>",
         "legendgroup": "276000",
         "marker": {
          "color": "#1f77b4",
          "pattern": {
           "shape": ""
          }
         },
         "name": "histogram",
         "nbinsx": 80,
         "offsetgroup": "276000",
         "orientation": "v",
         "showlegend": true,
         "type": "histogram",
         "x": [
          276000
         ],
         "xaxis": "x",
         "yaxis": "y3"
        },
        {
         "alignmentgroup": "True",
         "bingroup": "x",
         "hovertemplate": "SalePrice=%{x}<br>count=%{y}<extra></extra>",
         "legendgroup": "151000",
         "marker": {
          "color": "#1f77b4",
          "pattern": {
           "shape": ""
          }
         },
         "name": "histogram",
         "nbinsx": 80,
         "offsetgroup": "151000",
         "orientation": "v",
         "showlegend": true,
         "type": "histogram",
         "x": [
          151000,
          151000,
          151000,
          151000,
          151000
         ],
         "xaxis": "x",
         "yaxis": "y3"
        },
        {
         "alignmentgroup": "True",
         "bingroup": "x",
         "hovertemplate": "SalePrice=%{x}<br>count=%{y}<extra></extra>",
         "legendgroup": "73000",
         "marker": {
          "color": "#1f77b4",
          "pattern": {
           "shape": ""
          }
         },
         "name": "histogram",
         "nbinsx": 80,
         "offsetgroup": "73000",
         "orientation": "v",
         "showlegend": true,
         "type": "histogram",
         "x": [
          73000
         ],
         "xaxis": "x",
         "yaxis": "y3"
        },
        {
         "alignmentgroup": "True",
         "bingroup": "x",
         "hovertemplate": "SalePrice=%{x}<br>count=%{y}<extra></extra>",
         "legendgroup": "175500",
         "marker": {
          "color": "#1f77b4",
          "pattern": {
           "shape": ""
          }
         },
         "name": "histogram",
         "nbinsx": 80,
         "offsetgroup": "175500",
         "orientation": "v",
         "showlegend": true,
         "type": "histogram",
         "x": [
          175500,
          175500,
          175500
         ],
         "xaxis": "x",
         "yaxis": "y3"
        },
        {
         "alignmentgroup": "True",
         "bingroup": "x",
         "hovertemplate": "SalePrice=%{x}<br>count=%{y}<extra></extra>",
         "legendgroup": "179500",
         "marker": {
          "color": "#1f77b4",
          "pattern": {
           "shape": ""
          }
         },
         "name": "histogram",
         "nbinsx": 80,
         "offsetgroup": "179500",
         "orientation": "v",
         "showlegend": true,
         "type": "histogram",
         "x": [
          179500
         ],
         "xaxis": "x",
         "yaxis": "y3"
        },
        {
         "alignmentgroup": "True",
         "bingroup": "x",
         "hovertemplate": "SalePrice=%{x}<br>count=%{y}<extra></extra>",
         "legendgroup": "120500",
         "marker": {
          "color": "#1f77b4",
          "pattern": {
           "shape": ""
          }
         },
         "name": "histogram",
         "nbinsx": 80,
         "offsetgroup": "120500",
         "orientation": "v",
         "showlegend": true,
         "type": "histogram",
         "x": [
          120500,
          120500,
          120500,
          120500
         ],
         "xaxis": "x",
         "yaxis": "y3"
        },
        {
         "alignmentgroup": "True",
         "bingroup": "x",
         "hovertemplate": "SalePrice=%{x}<br>count=%{y}<extra></extra>",
         "legendgroup": "266000",
         "marker": {
          "color": "#1f77b4",
          "pattern": {
           "shape": ""
          }
         },
         "name": "histogram",
         "nbinsx": 80,
         "offsetgroup": "266000",
         "orientation": "v",
         "showlegend": true,
         "type": "histogram",
         "x": [
          266000,
          266000
         ],
         "xaxis": "x",
         "yaxis": "y3"
        },
        {
         "alignmentgroup": "True",
         "bingroup": "x",
         "hovertemplate": "SalePrice=%{x}<br>count=%{y}<extra></extra>",
         "legendgroup": "124500",
         "marker": {
          "color": "#1f77b4",
          "pattern": {
           "shape": ""
          }
         },
         "name": "histogram",
         "nbinsx": 80,
         "offsetgroup": "124500",
         "orientation": "v",
         "showlegend": true,
         "type": "histogram",
         "x": [
          124500,
          124500,
          124500,
          124500
         ],
         "xaxis": "x",
         "yaxis": "y3"
        },
        {
         "alignmentgroup": "True",
         "bingroup": "x",
         "hovertemplate": "SalePrice=%{x}<br>count=%{y}<extra></extra>",
         "legendgroup": "201000",
         "marker": {
          "color": "#1f77b4",
          "pattern": {
           "shape": ""
          }
         },
         "name": "histogram",
         "nbinsx": 80,
         "offsetgroup": "201000",
         "orientation": "v",
         "showlegend": true,
         "type": "histogram",
         "x": [
          201000,
          201000,
          201000
         ],
         "xaxis": "x",
         "yaxis": "y3"
        },
        {
         "alignmentgroup": "True",
         "bingroup": "x",
         "hovertemplate": "SalePrice=%{x}<br>count=%{y}<extra></extra>",
         "legendgroup": "415298",
         "marker": {
          "color": "#1f77b4",
          "pattern": {
           "shape": ""
          }
         },
         "name": "histogram",
         "nbinsx": 80,
         "offsetgroup": "415298",
         "orientation": "v",
         "showlegend": true,
         "type": "histogram",
         "x": [
          415298
         ],
         "xaxis": "x",
         "yaxis": "y3"
        },
        {
         "alignmentgroup": "True",
         "bingroup": "x",
         "hovertemplate": "SalePrice=%{x}<br>count=%{y}<extra></extra>",
         "legendgroup": "228500",
         "marker": {
          "color": "#1f77b4",
          "pattern": {
           "shape": ""
          }
         },
         "name": "histogram",
         "nbinsx": 80,
         "offsetgroup": "228500",
         "orientation": "v",
         "showlegend": true,
         "type": "histogram",
         "x": [
          228500,
          228500
         ],
         "xaxis": "x",
         "yaxis": "y3"
        },
        {
         "alignmentgroup": "True",
         "bingroup": "x",
         "hovertemplate": "SalePrice=%{x}<br>count=%{y}<extra></extra>",
         "legendgroup": "244600",
         "marker": {
          "color": "#1f77b4",
          "pattern": {
           "shape": ""
          }
         },
         "name": "histogram",
         "nbinsx": 80,
         "offsetgroup": "244600",
         "orientation": "v",
         "showlegend": true,
         "type": "histogram",
         "x": [
          244600
         ],
         "xaxis": "x",
         "yaxis": "y3"
        },
        {
         "alignmentgroup": "True",
         "bingroup": "x",
         "hovertemplate": "SalePrice=%{x}<br>count=%{y}<extra></extra>",
         "legendgroup": "179200",
         "marker": {
          "color": "#1f77b4",
          "pattern": {
           "shape": ""
          }
         },
         "name": "histogram",
         "nbinsx": 80,
         "offsetgroup": "179200",
         "orientation": "v",
         "showlegend": true,
         "type": "histogram",
         "x": [
          179200,
          179200
         ],
         "xaxis": "x",
         "yaxis": "y3"
        },
        {
         "alignmentgroup": "True",
         "bingroup": "x",
         "hovertemplate": "SalePrice=%{x}<br>count=%{y}<extra></extra>",
         "legendgroup": "164700",
         "marker": {
          "color": "#1f77b4",
          "pattern": {
           "shape": ""
          }
         },
         "name": "histogram",
         "nbinsx": 80,
         "offsetgroup": "164700",
         "orientation": "v",
         "showlegend": true,
         "type": "histogram",
         "x": [
          164700
         ],
         "xaxis": "x",
         "yaxis": "y3"
        },
        {
         "alignmentgroup": "True",
         "bingroup": "x",
         "hovertemplate": "SalePrice=%{x}<br>count=%{y}<extra></extra>",
         "legendgroup": "88000",
         "marker": {
          "color": "#1f77b4",
          "pattern": {
           "shape": ""
          }
         },
         "name": "histogram",
         "nbinsx": 80,
         "offsetgroup": "88000",
         "orientation": "v",
         "showlegend": true,
         "type": "histogram",
         "x": [
          88000,
          88000,
          88000,
          88000
         ],
         "xaxis": "x",
         "yaxis": "y3"
        },
        {
         "alignmentgroup": "True",
         "bingroup": "x",
         "hovertemplate": "SalePrice=%{x}<br>count=%{y}<extra></extra>",
         "legendgroup": "153575",
         "marker": {
          "color": "#1f77b4",
          "pattern": {
           "shape": ""
          }
         },
         "name": "histogram",
         "nbinsx": 80,
         "offsetgroup": "153575",
         "orientation": "v",
         "showlegend": true,
         "type": "histogram",
         "x": [
          153575
         ],
         "xaxis": "x",
         "yaxis": "y3"
        },
        {
         "alignmentgroup": "True",
         "bingroup": "x",
         "hovertemplate": "SalePrice=%{x}<br>count=%{y}<extra></extra>",
         "legendgroup": "233230",
         "marker": {
          "color": "#1f77b4",
          "pattern": {
           "shape": ""
          }
         },
         "name": "histogram",
         "nbinsx": 80,
         "offsetgroup": "233230",
         "orientation": "v",
         "showlegend": true,
         "type": "histogram",
         "x": [
          233230
         ],
         "xaxis": "x",
         "yaxis": "y3"
        },
        {
         "alignmentgroup": "True",
         "bingroup": "x",
         "hovertemplate": "SalePrice=%{x}<br>count=%{y}<extra></extra>",
         "legendgroup": "135900",
         "marker": {
          "color": "#1f77b4",
          "pattern": {
           "shape": ""
          }
         },
         "name": "histogram",
         "nbinsx": 80,
         "offsetgroup": "135900",
         "orientation": "v",
         "showlegend": true,
         "type": "histogram",
         "x": [
          135900
         ],
         "xaxis": "x",
         "yaxis": "y3"
        },
        {
         "alignmentgroup": "True",
         "bingroup": "x",
         "hovertemplate": "SalePrice=%{x}<br>count=%{y}<extra></extra>",
         "legendgroup": "131000",
         "marker": {
          "color": "#1f77b4",
          "pattern": {
           "shape": ""
          }
         },
         "name": "histogram",
         "nbinsx": 80,
         "offsetgroup": "131000",
         "orientation": "v",
         "showlegend": true,
         "type": "histogram",
         "x": [
          131000,
          131000,
          131000
         ],
         "xaxis": "x",
         "yaxis": "y3"
        },
        {
         "alignmentgroup": "True",
         "bingroup": "x",
         "hovertemplate": "SalePrice=%{x}<br>count=%{y}<extra></extra>",
         "legendgroup": "167000",
         "marker": {
          "color": "#1f77b4",
          "pattern": {
           "shape": ""
          }
         },
         "name": "histogram",
         "nbinsx": 80,
         "offsetgroup": "167000",
         "orientation": "v",
         "showlegend": true,
         "type": "histogram",
         "x": [
          167000,
          167000,
          167000,
          167000
         ],
         "xaxis": "x",
         "yaxis": "y3"
        },
        {
         "alignmentgroup": "True",
         "bingroup": "x",
         "hovertemplate": "SalePrice=%{x}<br>count=%{y}<extra></extra>",
         "legendgroup": "142500",
         "marker": {
          "color": "#1f77b4",
          "pattern": {
           "shape": ""
          }
         },
         "name": "histogram",
         "nbinsx": 80,
         "offsetgroup": "142500",
         "orientation": "v",
         "showlegend": true,
         "type": "histogram",
         "x": [
          142500,
          142500,
          142500
         ],
         "xaxis": "x",
         "yaxis": "y3"
        },
        {
         "alignmentgroup": "True",
         "bingroup": "x",
         "hovertemplate": "SalePrice=%{x}<br>count=%{y}<extra></extra>",
         "legendgroup": "175000",
         "marker": {
          "color": "#1f77b4",
          "pattern": {
           "shape": ""
          }
         },
         "name": "histogram",
         "nbinsx": 80,
         "offsetgroup": "175000",
         "orientation": "v",
         "showlegend": true,
         "type": "histogram",
         "x": [
          175000,
          175000,
          175000,
          175000,
          175000,
          175000,
          175000,
          175000,
          175000
         ],
         "xaxis": "x",
         "yaxis": "y3"
        },
        {
         "alignmentgroup": "True",
         "bingroup": "x",
         "hovertemplate": "SalePrice=%{x}<br>count=%{y}<extra></extra>",
         "legendgroup": "158500",
         "marker": {
          "color": "#1f77b4",
          "pattern": {
           "shape": ""
          }
         },
         "name": "histogram",
         "nbinsx": 80,
         "offsetgroup": "158500",
         "orientation": "v",
         "showlegend": true,
         "type": "histogram",
         "x": [
          158500
         ],
         "xaxis": "x",
         "yaxis": "y3"
        },
        {
         "alignmentgroup": "True",
         "bingroup": "x",
         "hovertemplate": "SalePrice=%{x}<br>count=%{y}<extra></extra>",
         "legendgroup": "267000",
         "marker": {
          "color": "#1f77b4",
          "pattern": {
           "shape": ""
          }
         },
         "name": "histogram",
         "nbinsx": 80,
         "offsetgroup": "267000",
         "orientation": "v",
         "showlegend": true,
         "type": "histogram",
         "x": [
          267000
         ],
         "xaxis": "x",
         "yaxis": "y3"
        },
        {
         "alignmentgroup": "True",
         "bingroup": "x",
         "hovertemplate": "SalePrice=%{x}<br>count=%{y}<extra></extra>",
         "legendgroup": "149900",
         "marker": {
          "color": "#1f77b4",
          "pattern": {
           "shape": ""
          }
         },
         "name": "histogram",
         "nbinsx": 80,
         "offsetgroup": "149900",
         "orientation": "v",
         "showlegend": true,
         "type": "histogram",
         "x": [
          149900,
          149900,
          149900,
          149900
         ],
         "xaxis": "x",
         "yaxis": "y3"
        },
        {
         "alignmentgroup": "True",
         "bingroup": "x",
         "hovertemplate": "SalePrice=%{x}<br>count=%{y}<extra></extra>",
         "legendgroup": "295000",
         "marker": {
          "color": "#1f77b4",
          "pattern": {
           "shape": ""
          }
         },
         "name": "histogram",
         "nbinsx": 80,
         "offsetgroup": "295000",
         "orientation": "v",
         "showlegend": true,
         "type": "histogram",
         "x": [
          295000
         ],
         "xaxis": "x",
         "yaxis": "y3"
        },
        {
         "alignmentgroup": "True",
         "bingroup": "x",
         "hovertemplate": "SalePrice=%{x}<br>count=%{y}<extra></extra>",
         "legendgroup": "305900",
         "marker": {
          "color": "#1f77b4",
          "pattern": {
           "shape": ""
          }
         },
         "name": "histogram",
         "nbinsx": 80,
         "offsetgroup": "305900",
         "orientation": "v",
         "showlegend": true,
         "type": "histogram",
         "x": [
          305900
         ],
         "xaxis": "x",
         "yaxis": "y3"
        },
        {
         "alignmentgroup": "True",
         "bingroup": "x",
         "hovertemplate": "SalePrice=%{x}<br>count=%{y}<extra></extra>",
         "legendgroup": "82500",
         "marker": {
          "color": "#1f77b4",
          "pattern": {
           "shape": ""
          }
         },
         "name": "histogram",
         "nbinsx": 80,
         "offsetgroup": "82500",
         "orientation": "v",
         "showlegend": true,
         "type": "histogram",
         "x": [
          82500,
          82500,
          82500
         ],
         "xaxis": "x",
         "yaxis": "y3"
        },
        {
         "alignmentgroup": "True",
         "bingroup": "x",
         "hovertemplate": "SalePrice=%{x}<br>count=%{y}<extra></extra>",
         "legendgroup": "360000",
         "marker": {
          "color": "#1f77b4",
          "pattern": {
           "shape": ""
          }
         },
         "name": "histogram",
         "nbinsx": 80,
         "offsetgroup": "360000",
         "orientation": "v",
         "showlegend": true,
         "type": "histogram",
         "x": [
          360000
         ],
         "xaxis": "x",
         "yaxis": "y3"
        },
        {
         "alignmentgroup": "True",
         "bingroup": "x",
         "hovertemplate": "SalePrice=%{x}<br>count=%{y}<extra></extra>",
         "legendgroup": "165600",
         "marker": {
          "color": "#1f77b4",
          "pattern": {
           "shape": ""
          }
         },
         "name": "histogram",
         "nbinsx": 80,
         "offsetgroup": "165600",
         "orientation": "v",
         "showlegend": true,
         "type": "histogram",
         "x": [
          165600
         ],
         "xaxis": "x",
         "yaxis": "y3"
        },
        {
         "alignmentgroup": "True",
         "bingroup": "x",
         "hovertemplate": "SalePrice=%{x}<br>count=%{y}<extra></extra>",
         "legendgroup": "119900",
         "marker": {
          "color": "#1f77b4",
          "pattern": {
           "shape": ""
          }
         },
         "name": "histogram",
         "nbinsx": 80,
         "offsetgroup": "119900",
         "orientation": "v",
         "showlegend": true,
         "type": "histogram",
         "x": [
          119900,
          119900
         ],
         "xaxis": "x",
         "yaxis": "y3"
        },
        {
         "alignmentgroup": "True",
         "bingroup": "x",
         "hovertemplate": "SalePrice=%{x}<br>count=%{y}<extra></extra>",
         "legendgroup": "375000",
         "marker": {
          "color": "#1f77b4",
          "pattern": {
           "shape": ""
          }
         },
         "name": "histogram",
         "nbinsx": 80,
         "offsetgroup": "375000",
         "orientation": "v",
         "showlegend": true,
         "type": "histogram",
         "x": [
          375000
         ],
         "xaxis": "x",
         "yaxis": "y3"
        },
        {
         "alignmentgroup": "True",
         "bingroup": "x",
         "hovertemplate": "SalePrice=%{x}<br>count=%{y}<extra></extra>",
         "legendgroup": "188500",
         "marker": {
          "color": "#1f77b4",
          "pattern": {
           "shape": ""
          }
         },
         "name": "histogram",
         "nbinsx": 80,
         "offsetgroup": "188500",
         "orientation": "v",
         "showlegend": true,
         "type": "histogram",
         "x": [
          188500
         ],
         "xaxis": "x",
         "yaxis": "y3"
        },
        {
         "alignmentgroup": "True",
         "bingroup": "x",
         "hovertemplate": "SalePrice=%{x}<br>count=%{y}<extra></extra>",
         "legendgroup": "270000",
         "marker": {
          "color": "#1f77b4",
          "pattern": {
           "shape": ""
          }
         },
         "name": "histogram",
         "nbinsx": 80,
         "offsetgroup": "270000",
         "orientation": "v",
         "showlegend": true,
         "type": "histogram",
         "x": [
          270000,
          270000,
          270000
         ],
         "xaxis": "x",
         "yaxis": "y3"
        },
        {
         "alignmentgroup": "True",
         "bingroup": "x",
         "hovertemplate": "SalePrice=%{x}<br>count=%{y}<extra></extra>",
         "legendgroup": "187500",
         "marker": {
          "color": "#1f77b4",
          "pattern": {
           "shape": ""
          }
         },
         "name": "histogram",
         "nbinsx": 80,
         "offsetgroup": "187500",
         "orientation": "v",
         "showlegend": true,
         "type": "histogram",
         "x": [
          187500,
          187500,
          187500,
          187500,
          187500,
          187500
         ],
         "xaxis": "x",
         "yaxis": "y3"
        },
        {
         "alignmentgroup": "True",
         "bingroup": "x",
         "hovertemplate": "SalePrice=%{x}<br>count=%{y}<extra></extra>",
         "legendgroup": "342643",
         "marker": {
          "color": "#1f77b4",
          "pattern": {
           "shape": ""
          }
         },
         "name": "histogram",
         "nbinsx": 80,
         "offsetgroup": "342643",
         "orientation": "v",
         "showlegend": true,
         "type": "histogram",
         "x": [
          342643
         ],
         "xaxis": "x",
         "yaxis": "y3"
        },
        {
         "alignmentgroup": "True",
         "bingroup": "x",
         "hovertemplate": "SalePrice=%{x}<br>count=%{y}<extra></extra>",
         "legendgroup": "354000",
         "marker": {
          "color": "#1f77b4",
          "pattern": {
           "shape": ""
          }
         },
         "name": "histogram",
         "nbinsx": 80,
         "offsetgroup": "354000",
         "orientation": "v",
         "showlegend": true,
         "type": "histogram",
         "x": [
          354000
         ],
         "xaxis": "x",
         "yaxis": "y3"
        },
        {
         "alignmentgroup": "True",
         "bingroup": "x",
         "hovertemplate": "SalePrice=%{x}<br>count=%{y}<extra></extra>",
         "legendgroup": "301000",
         "marker": {
          "color": "#1f77b4",
          "pattern": {
           "shape": ""
          }
         },
         "name": "histogram",
         "nbinsx": 80,
         "offsetgroup": "301000",
         "orientation": "v",
         "showlegend": true,
         "type": "histogram",
         "x": [
          301000
         ],
         "xaxis": "x",
         "yaxis": "y3"
        },
        {
         "alignmentgroup": "True",
         "bingroup": "x",
         "hovertemplate": "SalePrice=%{x}<br>count=%{y}<extra></extra>",
         "legendgroup": "126175",
         "marker": {
          "color": "#1f77b4",
          "pattern": {
           "shape": ""
          }
         },
         "name": "histogram",
         "nbinsx": 80,
         "offsetgroup": "126175",
         "orientation": "v",
         "showlegend": true,
         "type": "histogram",
         "x": [
          126175
         ],
         "xaxis": "x",
         "yaxis": "y3"
        },
        {
         "alignmentgroup": "True",
         "bingroup": "x",
         "hovertemplate": "SalePrice=%{x}<br>count=%{y}<extra></extra>",
         "legendgroup": "242000",
         "marker": {
          "color": "#1f77b4",
          "pattern": {
           "shape": ""
          }
         },
         "name": "histogram",
         "nbinsx": 80,
         "offsetgroup": "242000",
         "orientation": "v",
         "showlegend": true,
         "type": "histogram",
         "x": [
          242000,
          242000
         ],
         "xaxis": "x",
         "yaxis": "y3"
        },
        {
         "alignmentgroup": "True",
         "bingroup": "x",
         "hovertemplate": "SalePrice=%{x}<br>count=%{y}<extra></extra>",
         "legendgroup": "324000",
         "marker": {
          "color": "#1f77b4",
          "pattern": {
           "shape": ""
          }
         },
         "name": "histogram",
         "nbinsx": 80,
         "offsetgroup": "324000",
         "orientation": "v",
         "showlegend": true,
         "type": "histogram",
         "x": [
          324000
         ],
         "xaxis": "x",
         "yaxis": "y3"
        },
        {
         "alignmentgroup": "True",
         "bingroup": "x",
         "hovertemplate": "SalePrice=%{x}<br>count=%{y}<extra></extra>",
         "legendgroup": "145250",
         "marker": {
          "color": "#1f77b4",
          "pattern": {
           "shape": ""
          }
         },
         "name": "histogram",
         "nbinsx": 80,
         "offsetgroup": "145250",
         "orientation": "v",
         "showlegend": true,
         "type": "histogram",
         "x": [
          145250
         ],
         "xaxis": "x",
         "yaxis": "y3"
        },
        {
         "alignmentgroup": "True",
         "bingroup": "x",
         "hovertemplate": "SalePrice=%{x}<br>count=%{y}<extra></extra>",
         "legendgroup": "214500",
         "marker": {
          "color": "#1f77b4",
          "pattern": {
           "shape": ""
          }
         },
         "name": "histogram",
         "nbinsx": 80,
         "offsetgroup": "214500",
         "orientation": "v",
         "showlegend": true,
         "type": "histogram",
         "x": [
          214500
         ],
         "xaxis": "x",
         "yaxis": "y3"
        },
        {
         "alignmentgroup": "True",
         "bingroup": "x",
         "hovertemplate": "SalePrice=%{x}<br>count=%{y}<extra></extra>",
         "legendgroup": "78000",
         "marker": {
          "color": "#1f77b4",
          "pattern": {
           "shape": ""
          }
         },
         "name": "histogram",
         "nbinsx": 80,
         "offsetgroup": "78000",
         "orientation": "v",
         "showlegend": true,
         "type": "histogram",
         "x": [
          78000
         ],
         "xaxis": "x",
         "yaxis": "y3"
        },
        {
         "alignmentgroup": "True",
         "bingroup": "x",
         "hovertemplate": "SalePrice=%{x}<br>count=%{y}<extra></extra>",
         "legendgroup": "119000",
         "marker": {
          "color": "#1f77b4",
          "pattern": {
           "shape": ""
          }
         },
         "name": "histogram",
         "nbinsx": 80,
         "offsetgroup": "119000",
         "orientation": "v",
         "showlegend": true,
         "type": "histogram",
         "x": [
          119000,
          119000,
          119000,
          119000,
          119000,
          119000,
          119000
         ],
         "xaxis": "x",
         "yaxis": "y3"
        },
        {
         "alignmentgroup": "True",
         "bingroup": "x",
         "hovertemplate": "SalePrice=%{x}<br>count=%{y}<extra></extra>",
         "legendgroup": "284000",
         "marker": {
          "color": "#1f77b4",
          "pattern": {
           "shape": ""
          }
         },
         "name": "histogram",
         "nbinsx": 80,
         "offsetgroup": "284000",
         "orientation": "v",
         "showlegend": true,
         "type": "histogram",
         "x": [
          284000,
          284000
         ],
         "xaxis": "x",
         "yaxis": "y3"
        },
        {
         "alignmentgroup": "True",
         "bingroup": "x",
         "hovertemplate": "SalePrice=%{x}<br>count=%{y}<extra></extra>",
         "legendgroup": "207000",
         "marker": {
          "color": "#1f77b4",
          "pattern": {
           "shape": ""
          }
         },
         "name": "histogram",
         "nbinsx": 80,
         "offsetgroup": "207000",
         "orientation": "v",
         "showlegend": true,
         "type": "histogram",
         "x": [
          207000,
          207000
         ],
         "xaxis": "x",
         "yaxis": "y3"
        },
        {
         "alignmentgroup": "True",
         "bingroup": "x",
         "hovertemplate": "SalePrice=%{x}<br>count=%{y}<extra></extra>",
         "legendgroup": "228950",
         "marker": {
          "color": "#1f77b4",
          "pattern": {
           "shape": ""
          }
         },
         "name": "histogram",
         "nbinsx": 80,
         "offsetgroup": "228950",
         "orientation": "v",
         "showlegend": true,
         "type": "histogram",
         "x": [
          228950
         ],
         "xaxis": "x",
         "yaxis": "y3"
        },
        {
         "alignmentgroup": "True",
         "bingroup": "x",
         "hovertemplate": "SalePrice=%{x}<br>count=%{y}<extra></extra>",
         "legendgroup": "377426",
         "marker": {
          "color": "#1f77b4",
          "pattern": {
           "shape": ""
          }
         },
         "name": "histogram",
         "nbinsx": 80,
         "offsetgroup": "377426",
         "orientation": "v",
         "showlegend": true,
         "type": "histogram",
         "x": [
          377426
         ],
         "xaxis": "x",
         "yaxis": "y3"
        },
        {
         "alignmentgroup": "True",
         "bingroup": "x",
         "hovertemplate": "SalePrice=%{x}<br>count=%{y}<extra></extra>",
         "legendgroup": "202900",
         "marker": {
          "color": "#1f77b4",
          "pattern": {
           "shape": ""
          }
         },
         "name": "histogram",
         "nbinsx": 80,
         "offsetgroup": "202900",
         "orientation": "v",
         "showlegend": true,
         "type": "histogram",
         "x": [
          202900
         ],
         "xaxis": "x",
         "yaxis": "y3"
        },
        {
         "alignmentgroup": "True",
         "bingroup": "x",
         "hovertemplate": "SalePrice=%{x}<br>count=%{y}<extra></extra>",
         "legendgroup": "87500",
         "marker": {
          "color": "#1f77b4",
          "pattern": {
           "shape": ""
          }
         },
         "name": "histogram",
         "nbinsx": 80,
         "offsetgroup": "87500",
         "orientation": "v",
         "showlegend": true,
         "type": "histogram",
         "x": [
          87500
         ],
         "xaxis": "x",
         "yaxis": "y3"
        },
        {
         "alignmentgroup": "True",
         "bingroup": "x",
         "hovertemplate": "SalePrice=%{x}<br>count=%{y}<extra></extra>",
         "legendgroup": "140200",
         "marker": {
          "color": "#1f77b4",
          "pattern": {
           "shape": ""
          }
         },
         "name": "histogram",
         "nbinsx": 80,
         "offsetgroup": "140200",
         "orientation": "v",
         "showlegend": true,
         "type": "histogram",
         "x": [
          140200
         ],
         "xaxis": "x",
         "yaxis": "y3"
        },
        {
         "alignmentgroup": "True",
         "bingroup": "x",
         "hovertemplate": "SalePrice=%{x}<br>count=%{y}<extra></extra>",
         "legendgroup": "151500",
         "marker": {
          "color": "#1f77b4",
          "pattern": {
           "shape": ""
          }
         },
         "name": "histogram",
         "nbinsx": 80,
         "offsetgroup": "151500",
         "orientation": "v",
         "showlegend": true,
         "type": "histogram",
         "x": [
          151500
         ],
         "xaxis": "x",
         "yaxis": "y3"
        },
        {
         "alignmentgroup": "True",
         "bingroup": "x",
         "hovertemplate": "SalePrice=%{x}<br>count=%{y}<extra></extra>",
         "legendgroup": "157500",
         "marker": {
          "color": "#1f77b4",
          "pattern": {
           "shape": ""
          }
         },
         "name": "histogram",
         "nbinsx": 80,
         "offsetgroup": "157500",
         "orientation": "v",
         "showlegend": true,
         "type": "histogram",
         "x": [
          157500,
          157500
         ],
         "xaxis": "x",
         "yaxis": "y3"
        },
        {
         "alignmentgroup": "True",
         "bingroup": "x",
         "hovertemplate": "SalePrice=%{x}<br>count=%{y}<extra></extra>",
         "legendgroup": "437154",
         "marker": {
          "color": "#1f77b4",
          "pattern": {
           "shape": ""
          }
         },
         "name": "histogram",
         "nbinsx": 80,
         "offsetgroup": "437154",
         "orientation": "v",
         "showlegend": true,
         "type": "histogram",
         "x": [
          437154
         ],
         "xaxis": "x",
         "yaxis": "y3"
        },
        {
         "alignmentgroup": "True",
         "bingroup": "x",
         "hovertemplate": "SalePrice=%{x}<br>count=%{y}<extra></extra>",
         "legendgroup": "318061",
         "marker": {
          "color": "#1f77b4",
          "pattern": {
           "shape": ""
          }
         },
         "name": "histogram",
         "nbinsx": 80,
         "offsetgroup": "318061",
         "orientation": "v",
         "showlegend": true,
         "type": "histogram",
         "x": [
          318061
         ],
         "xaxis": "x",
         "yaxis": "y3"
        },
        {
         "alignmentgroup": "True",
         "bingroup": "x",
         "hovertemplate": "SalePrice=%{x}<br>count=%{y}<extra></extra>",
         "legendgroup": "95000",
         "marker": {
          "color": "#1f77b4",
          "pattern": {
           "shape": ""
          }
         },
         "name": "histogram",
         "nbinsx": 80,
         "offsetgroup": "95000",
         "orientation": "v",
         "showlegend": true,
         "type": "histogram",
         "x": [
          95000,
          95000
         ],
         "xaxis": "x",
         "yaxis": "y3"
        },
        {
         "alignmentgroup": "True",
         "bingroup": "x",
         "hovertemplate": "SalePrice=%{x}<br>count=%{y}<extra></extra>",
         "legendgroup": "105900",
         "marker": {
          "color": "#1f77b4",
          "pattern": {
           "shape": ""
          }
         },
         "name": "histogram",
         "nbinsx": 80,
         "offsetgroup": "105900",
         "orientation": "v",
         "showlegend": true,
         "type": "histogram",
         "x": [
          105900
         ],
         "xaxis": "x",
         "yaxis": "y3"
        },
        {
         "alignmentgroup": "True",
         "bingroup": "x",
         "hovertemplate": "SalePrice=%{x}<br>count=%{y}<extra></extra>",
         "legendgroup": "177500",
         "marker": {
          "color": "#1f77b4",
          "pattern": {
           "shape": ""
          }
         },
         "name": "histogram",
         "nbinsx": 80,
         "offsetgroup": "177500",
         "orientation": "v",
         "showlegend": true,
         "type": "histogram",
         "x": [
          177500,
          177500,
          177500
         ],
         "xaxis": "x",
         "yaxis": "y3"
        },
        {
         "alignmentgroup": "True",
         "bingroup": "x",
         "hovertemplate": "SalePrice=%{x}<br>count=%{y}<extra></extra>",
         "legendgroup": "134000",
         "marker": {
          "color": "#1f77b4",
          "pattern": {
           "shape": ""
          }
         },
         "name": "histogram",
         "nbinsx": 80,
         "offsetgroup": "134000",
         "orientation": "v",
         "showlegend": true,
         "type": "histogram",
         "x": [
          134000,
          134000,
          134000
         ],
         "xaxis": "x",
         "yaxis": "y3"
        },
        {
         "alignmentgroup": "True",
         "bingroup": "x",
         "hovertemplate": "SalePrice=%{x}<br>count=%{y}<extra></extra>",
         "legendgroup": "280000",
         "marker": {
          "color": "#1f77b4",
          "pattern": {
           "shape": ""
          }
         },
         "name": "histogram",
         "nbinsx": 80,
         "offsetgroup": "280000",
         "orientation": "v",
         "showlegend": true,
         "type": "histogram",
         "x": [
          280000,
          280000,
          280000,
          280000
         ],
         "xaxis": "x",
         "yaxis": "y3"
        },
        {
         "alignmentgroup": "True",
         "bingroup": "x",
         "hovertemplate": "SalePrice=%{x}<br>count=%{y}<extra></extra>",
         "legendgroup": "198500",
         "marker": {
          "color": "#1f77b4",
          "pattern": {
           "shape": ""
          }
         },
         "name": "histogram",
         "nbinsx": 80,
         "offsetgroup": "198500",
         "orientation": "v",
         "showlegend": true,
         "type": "histogram",
         "x": [
          198500
         ],
         "xaxis": "x",
         "yaxis": "y3"
        },
        {
         "alignmentgroup": "True",
         "bingroup": "x",
         "hovertemplate": "SalePrice=%{x}<br>count=%{y}<extra></extra>",
         "legendgroup": "147000",
         "marker": {
          "color": "#1f77b4",
          "pattern": {
           "shape": ""
          }
         },
         "name": "histogram",
         "nbinsx": 80,
         "offsetgroup": "147000",
         "orientation": "v",
         "showlegend": true,
         "type": "histogram",
         "x": [
          147000,
          147000,
          147000,
          147000,
          147000,
          147000,
          147000,
          147000,
          147000
         ],
         "xaxis": "x",
         "yaxis": "y3"
        },
        {
         "alignmentgroup": "True",
         "bingroup": "x",
         "hovertemplate": "SalePrice=%{x}<br>count=%{y}<extra></extra>",
         "legendgroup": "165000",
         "marker": {
          "color": "#1f77b4",
          "pattern": {
           "shape": ""
          }
         },
         "name": "histogram",
         "nbinsx": 80,
         "offsetgroup": "165000",
         "orientation": "v",
         "showlegend": true,
         "type": "histogram",
         "x": [
          165000,
          165000,
          165000,
          165000,
          165000,
          165000,
          165000,
          165000
         ],
         "xaxis": "x",
         "yaxis": "y3"
        },
        {
         "alignmentgroup": "True",
         "bingroup": "x",
         "hovertemplate": "SalePrice=%{x}<br>count=%{y}<extra></extra>",
         "legendgroup": "162000",
         "marker": {
          "color": "#1f77b4",
          "pattern": {
           "shape": ""
          }
         },
         "name": "histogram",
         "nbinsx": 80,
         "offsetgroup": "162000",
         "orientation": "v",
         "showlegend": true,
         "type": "histogram",
         "x": [
          162000,
          162000,
          162000,
          162000
         ],
         "xaxis": "x",
         "yaxis": "y3"
        },
        {
         "alignmentgroup": "True",
         "bingroup": "x",
         "hovertemplate": "SalePrice=%{x}<br>count=%{y}<extra></extra>",
         "legendgroup": "172400",
         "marker": {
          "color": "#1f77b4",
          "pattern": {
           "shape": ""
          }
         },
         "name": "histogram",
         "nbinsx": 80,
         "offsetgroup": "172400",
         "orientation": "v",
         "showlegend": true,
         "type": "histogram",
         "x": [
          172400
         ],
         "xaxis": "x",
         "yaxis": "y3"
        },
        {
         "alignmentgroup": "True",
         "bingroup": "x",
         "hovertemplate": "SalePrice=%{x}<br>count=%{y}<extra></extra>",
         "legendgroup": "134432",
         "marker": {
          "color": "#1f77b4",
          "pattern": {
           "shape": ""
          }
         },
         "name": "histogram",
         "nbinsx": 80,
         "offsetgroup": "134432",
         "orientation": "v",
         "showlegend": true,
         "type": "histogram",
         "x": [
          134432
         ],
         "xaxis": "x",
         "yaxis": "y3"
        },
        {
         "alignmentgroup": "True",
         "bingroup": "x",
         "hovertemplate": "SalePrice=%{x}<br>count=%{y}<extra></extra>",
         "legendgroup": "123000",
         "marker": {
          "color": "#1f77b4",
          "pattern": {
           "shape": ""
          }
         },
         "name": "histogram",
         "nbinsx": 80,
         "offsetgroup": "123000",
         "orientation": "v",
         "showlegend": true,
         "type": "histogram",
         "x": [
          123000,
          123000,
          123000,
          123000
         ],
         "xaxis": "x",
         "yaxis": "y3"
        },
        {
         "alignmentgroup": "True",
         "bingroup": "x",
         "hovertemplate": "SalePrice=%{x}<br>count=%{y}<extra></extra>",
         "legendgroup": "61000",
         "marker": {
          "color": "#1f77b4",
          "pattern": {
           "shape": ""
          }
         },
         "name": "histogram",
         "nbinsx": 80,
         "offsetgroup": "61000",
         "orientation": "v",
         "showlegend": true,
         "type": "histogram",
         "x": [
          61000
         ],
         "xaxis": "x",
         "yaxis": "y3"
        },
        {
         "alignmentgroup": "True",
         "bingroup": "x",
         "hovertemplate": "SalePrice=%{x}<br>count=%{y}<extra></extra>",
         "legendgroup": "340000",
         "marker": {
          "color": "#1f77b4",
          "pattern": {
           "shape": ""
          }
         },
         "name": "histogram",
         "nbinsx": 80,
         "offsetgroup": "340000",
         "orientation": "v",
         "showlegend": true,
         "type": "histogram",
         "x": [
          340000,
          340000
         ],
         "xaxis": "x",
         "yaxis": "y3"
        },
        {
         "alignmentgroup": "True",
         "bingroup": "x",
         "hovertemplate": "SalePrice=%{x}<br>count=%{y}<extra></extra>",
         "legendgroup": "394432",
         "marker": {
          "color": "#1f77b4",
          "pattern": {
           "shape": ""
          }
         },
         "name": "histogram",
         "nbinsx": 80,
         "offsetgroup": "394432",
         "orientation": "v",
         "showlegend": true,
         "type": "histogram",
         "x": [
          394432
         ],
         "xaxis": "x",
         "yaxis": "y3"
        },
        {
         "alignmentgroup": "True",
         "bingroup": "x",
         "hovertemplate": "SalePrice=%{x}<br>count=%{y}<extra></extra>",
         "legendgroup": "179000",
         "marker": {
          "color": "#1f77b4",
          "pattern": {
           "shape": ""
          }
         },
         "name": "histogram",
         "nbinsx": 80,
         "offsetgroup": "179000",
         "orientation": "v",
         "showlegend": true,
         "type": "histogram",
         "x": [
          179000,
          179000,
          179000
         ],
         "xaxis": "x",
         "yaxis": "y3"
        },
        {
         "alignmentgroup": "True",
         "bingroup": "x",
         "hovertemplate": "SalePrice=%{x}<br>count=%{y}<extra></extra>",
         "legendgroup": "187750",
         "marker": {
          "color": "#1f77b4",
          "pattern": {
           "shape": ""
          }
         },
         "name": "histogram",
         "nbinsx": 80,
         "offsetgroup": "187750",
         "orientation": "v",
         "showlegend": true,
         "type": "histogram",
         "x": [
          187750
         ],
         "xaxis": "x",
         "yaxis": "y3"
        },
        {
         "alignmentgroup": "True",
         "bingroup": "x",
         "hovertemplate": "SalePrice=%{x}<br>count=%{y}<extra></extra>",
         "legendgroup": "213500",
         "marker": {
          "color": "#1f77b4",
          "pattern": {
           "shape": ""
          }
         },
         "name": "histogram",
         "nbinsx": 80,
         "offsetgroup": "213500",
         "orientation": "v",
         "showlegend": true,
         "type": "histogram",
         "x": [
          213500,
          213500
         ],
         "xaxis": "x",
         "yaxis": "y3"
        },
        {
         "alignmentgroup": "True",
         "bingroup": "x",
         "hovertemplate": "SalePrice=%{x}<br>count=%{y}<extra></extra>",
         "legendgroup": "76000",
         "marker": {
          "color": "#1f77b4",
          "pattern": {
           "shape": ""
          }
         },
         "name": "histogram",
         "nbinsx": 80,
         "offsetgroup": "76000",
         "orientation": "v",
         "showlegend": true,
         "type": "histogram",
         "x": [
          76000
         ],
         "xaxis": "x",
         "yaxis": "y3"
        },
        {
         "alignmentgroup": "True",
         "bingroup": "x",
         "hovertemplate": "SalePrice=%{x}<br>count=%{y}<extra></extra>",
         "legendgroup": "240000",
         "marker": {
          "color": "#1f77b4",
          "pattern": {
           "shape": ""
          }
         },
         "name": "histogram",
         "nbinsx": 80,
         "offsetgroup": "240000",
         "orientation": "v",
         "showlegend": true,
         "type": "histogram",
         "x": [
          240000,
          240000,
          240000,
          240000,
          240000,
          240000
         ],
         "xaxis": "x",
         "yaxis": "y3"
        },
        {
         "alignmentgroup": "True",
         "bingroup": "x",
         "hovertemplate": "SalePrice=%{x}<br>count=%{y}<extra></extra>",
         "legendgroup": "81000",
         "marker": {
          "color": "#1f77b4",
          "pattern": {
           "shape": ""
          }
         },
         "name": "histogram",
         "nbinsx": 80,
         "offsetgroup": "81000",
         "orientation": "v",
         "showlegend": true,
         "type": "histogram",
         "x": [
          81000,
          81000,
          81000
         ],
         "xaxis": "x",
         "yaxis": "y3"
        },
        {
         "alignmentgroup": "True",
         "bingroup": "x",
         "hovertemplate": "SalePrice=%{x}<br>count=%{y}<extra></extra>",
         "legendgroup": "191000",
         "marker": {
          "color": "#1f77b4",
          "pattern": {
           "shape": ""
          }
         },
         "name": "histogram",
         "nbinsx": 80,
         "offsetgroup": "191000",
         "orientation": "v",
         "showlegend": true,
         "type": "histogram",
         "x": [
          191000,
          191000,
          191000,
          191000
         ],
         "xaxis": "x",
         "yaxis": "y3"
        },
        {
         "alignmentgroup": "True",
         "bingroup": "x",
         "hovertemplate": "SalePrice=%{x}<br>count=%{y}<extra></extra>",
         "legendgroup": "426000",
         "marker": {
          "color": "#1f77b4",
          "pattern": {
           "shape": ""
          }
         },
         "name": "histogram",
         "nbinsx": 80,
         "offsetgroup": "426000",
         "orientation": "v",
         "showlegend": true,
         "type": "histogram",
         "x": [
          426000
         ],
         "xaxis": "x",
         "yaxis": "y3"
        },
        {
         "alignmentgroup": "True",
         "bingroup": "x",
         "hovertemplate": "SalePrice=%{x}<br>count=%{y}<extra></extra>",
         "legendgroup": "106500",
         "marker": {
          "color": "#1f77b4",
          "pattern": {
           "shape": ""
          }
         },
         "name": "histogram",
         "nbinsx": 80,
         "offsetgroup": "106500",
         "orientation": "v",
         "showlegend": true,
         "type": "histogram",
         "x": [
          106500,
          106500
         ],
         "xaxis": "x",
         "yaxis": "y3"
        },
        {
         "alignmentgroup": "True",
         "bingroup": "x",
         "hovertemplate": "SalePrice=%{x}<br>count=%{y}<extra></extra>",
         "legendgroup": "129000",
         "marker": {
          "color": "#1f77b4",
          "pattern": {
           "shape": ""
          }
         },
         "name": "histogram",
         "nbinsx": 80,
         "offsetgroup": "129000",
         "orientation": "v",
         "showlegend": true,
         "type": "histogram",
         "x": [
          129000,
          129000,
          129000,
          129000,
          129000,
          129000,
          129000,
          129000
         ],
         "xaxis": "x",
         "yaxis": "y3"
        },
        {
         "alignmentgroup": "True",
         "bingroup": "x",
         "hovertemplate": "SalePrice=%{x}<br>count=%{y}<extra></extra>",
         "legendgroup": "67000",
         "marker": {
          "color": "#1f77b4",
          "pattern": {
           "shape": ""
          }
         },
         "name": "histogram",
         "nbinsx": 80,
         "offsetgroup": "67000",
         "orientation": "v",
         "showlegend": true,
         "type": "histogram",
         "x": [
          67000,
          67000
         ],
         "xaxis": "x",
         "yaxis": "y3"
        },
        {
         "alignmentgroup": "True",
         "bingroup": "x",
         "hovertemplate": "SalePrice=%{x}<br>count=%{y}<extra></extra>",
         "legendgroup": "241000",
         "marker": {
          "color": "#1f77b4",
          "pattern": {
           "shape": ""
          }
         },
         "name": "histogram",
         "nbinsx": 80,
         "offsetgroup": "241000",
         "orientation": "v",
         "showlegend": true,
         "type": "histogram",
         "x": [
          241000
         ],
         "xaxis": "x",
         "yaxis": "y3"
        },
        {
         "alignmentgroup": "True",
         "bingroup": "x",
         "hovertemplate": "SalePrice=%{x}<br>count=%{y}<extra></extra>",
         "legendgroup": "245500",
         "marker": {
          "color": "#1f77b4",
          "pattern": {
           "shape": ""
          }
         },
         "name": "histogram",
         "nbinsx": 80,
         "offsetgroup": "245500",
         "orientation": "v",
         "showlegend": true,
         "type": "histogram",
         "x": [
          245500
         ],
         "xaxis": "x",
         "yaxis": "y3"
        },
        {
         "alignmentgroup": "True",
         "bingroup": "x",
         "hovertemplate": "SalePrice=%{x}<br>count=%{y}<extra></extra>",
         "legendgroup": "164990",
         "marker": {
          "color": "#1f77b4",
          "pattern": {
           "shape": ""
          }
         },
         "name": "histogram",
         "nbinsx": 80,
         "offsetgroup": "164990",
         "orientation": "v",
         "showlegend": true,
         "type": "histogram",
         "x": [
          164990
         ],
         "xaxis": "x",
         "yaxis": "y3"
        },
        {
         "alignmentgroup": "True",
         "bingroup": "x",
         "hovertemplate": "SalePrice=%{x}<br>count=%{y}<extra></extra>",
         "legendgroup": "108000",
         "marker": {
          "color": "#1f77b4",
          "pattern": {
           "shape": ""
          }
         },
         "name": "histogram",
         "nbinsx": 80,
         "offsetgroup": "108000",
         "orientation": "v",
         "showlegend": true,
         "type": "histogram",
         "x": [
          108000,
          108000,
          108000,
          108000,
          108000,
          108000
         ],
         "xaxis": "x",
         "yaxis": "y3"
        },
        {
         "alignmentgroup": "True",
         "bingroup": "x",
         "hovertemplate": "SalePrice=%{x}<br>count=%{y}<extra></extra>",
         "legendgroup": "258000",
         "marker": {
          "color": "#1f77b4",
          "pattern": {
           "shape": ""
          }
         },
         "name": "histogram",
         "nbinsx": 80,
         "offsetgroup": "258000",
         "orientation": "v",
         "showlegend": true,
         "type": "histogram",
         "x": [
          258000
         ],
         "xaxis": "x",
         "yaxis": "y3"
        },
        {
         "alignmentgroup": "True",
         "bingroup": "x",
         "hovertemplate": "SalePrice=%{x}<br>count=%{y}<extra></extra>",
         "legendgroup": "168000",
         "marker": {
          "color": "#1f77b4",
          "pattern": {
           "shape": ""
          }
         },
         "name": "histogram",
         "nbinsx": 80,
         "offsetgroup": "168000",
         "orientation": "v",
         "showlegend": true,
         "type": "histogram",
         "x": [
          168000,
          168000,
          168000,
          168000
         ],
         "xaxis": "x",
         "yaxis": "y3"
        },
        {
         "alignmentgroup": "True",
         "bingroup": "x",
         "hovertemplate": "SalePrice=%{x}<br>count=%{y}<extra></extra>",
         "legendgroup": "339750",
         "marker": {
          "color": "#1f77b4",
          "pattern": {
           "shape": ""
          }
         },
         "name": "histogram",
         "nbinsx": 80,
         "offsetgroup": "339750",
         "orientation": "v",
         "showlegend": true,
         "type": "histogram",
         "x": [
          339750
         ],
         "xaxis": "x",
         "yaxis": "y3"
        },
        {
         "alignmentgroup": "True",
         "bingroup": "x",
         "hovertemplate": "SalePrice=%{x}<br>count=%{y}<extra></extra>",
         "legendgroup": "60000",
         "marker": {
          "color": "#1f77b4",
          "pattern": {
           "shape": ""
          }
         },
         "name": "histogram",
         "nbinsx": 80,
         "offsetgroup": "60000",
         "orientation": "v",
         "showlegend": true,
         "type": "histogram",
         "x": [
          60000,
          60000,
          60000
         ],
         "xaxis": "x",
         "yaxis": "y3"
        },
        {
         "alignmentgroup": "True",
         "bingroup": "x",
         "hovertemplate": "SalePrice=%{x}<br>count=%{y}<extra></extra>",
         "legendgroup": "222000",
         "marker": {
          "color": "#1f77b4",
          "pattern": {
           "shape": ""
          }
         },
         "name": "histogram",
         "nbinsx": 80,
         "offsetgroup": "222000",
         "orientation": "v",
         "showlegend": true,
         "type": "histogram",
         "x": [
          222000,
          222000,
          222000
         ],
         "xaxis": "x",
         "yaxis": "y3"
        },
        {
         "alignmentgroup": "True",
         "bingroup": "x",
         "hovertemplate": "SalePrice=%{x}<br>count=%{y}<extra></extra>",
         "legendgroup": "181134",
         "marker": {
          "color": "#1f77b4",
          "pattern": {
           "shape": ""
          }
         },
         "name": "histogram",
         "nbinsx": 80,
         "offsetgroup": "181134",
         "orientation": "v",
         "showlegend": true,
         "type": "histogram",
         "x": [
          181134
         ],
         "xaxis": "x",
         "yaxis": "y3"
        },
        {
         "alignmentgroup": "True",
         "bingroup": "x",
         "hovertemplate": "SalePrice=%{x}<br>count=%{y}<extra></extra>",
         "legendgroup": "149500",
         "marker": {
          "color": "#1f77b4",
          "pattern": {
           "shape": ""
          }
         },
         "name": "histogram",
         "nbinsx": 80,
         "offsetgroup": "149500",
         "orientation": "v",
         "showlegend": true,
         "type": "histogram",
         "x": [
          149500,
          149500
         ],
         "xaxis": "x",
         "yaxis": "y3"
        },
        {
         "alignmentgroup": "True",
         "bingroup": "x",
         "hovertemplate": "SalePrice=%{x}<br>count=%{y}<extra></extra>",
         "legendgroup": "126000",
         "marker": {
          "color": "#1f77b4",
          "pattern": {
           "shape": ""
          }
         },
         "name": "histogram",
         "nbinsx": 80,
         "offsetgroup": "126000",
         "orientation": "v",
         "showlegend": true,
         "type": "histogram",
         "x": [
          126000,
          126000,
          126000
         ],
         "xaxis": "x",
         "yaxis": "y3"
        },
        {
         "alignmentgroup": "True",
         "bingroup": "x",
         "hovertemplate": "SalePrice=%{x}<br>count=%{y}<extra></extra>",
         "legendgroup": "142000",
         "marker": {
          "color": "#1f77b4",
          "pattern": {
           "shape": ""
          }
         },
         "name": "histogram",
         "nbinsx": 80,
         "offsetgroup": "142000",
         "orientation": "v",
         "showlegend": true,
         "type": "histogram",
         "x": [
          142000,
          142000,
          142000,
          142000
         ],
         "xaxis": "x",
         "yaxis": "y3"
        },
        {
         "alignmentgroup": "True",
         "bingroup": "x",
         "hovertemplate": "SalePrice=%{x}<br>count=%{y}<extra></extra>",
         "legendgroup": "206300",
         "marker": {
          "color": "#1f77b4",
          "pattern": {
           "shape": ""
          }
         },
         "name": "histogram",
         "nbinsx": 80,
         "offsetgroup": "206300",
         "orientation": "v",
         "showlegend": true,
         "type": "histogram",
         "x": [
          206300
         ],
         "xaxis": "x",
         "yaxis": "y3"
        },
        {
         "alignmentgroup": "True",
         "bingroup": "x",
         "hovertemplate": "SalePrice=%{x}<br>count=%{y}<extra></extra>",
         "legendgroup": "275000",
         "marker": {
          "color": "#1f77b4",
          "pattern": {
           "shape": ""
          }
         },
         "name": "histogram",
         "nbinsx": 80,
         "offsetgroup": "275000",
         "orientation": "v",
         "showlegend": true,
         "type": "histogram",
         "x": [
          275000,
          275000,
          275000,
          275000,
          275000
         ],
         "xaxis": "x",
         "yaxis": "y3"
        },
        {
         "alignmentgroup": "True",
         "bingroup": "x",
         "hovertemplate": "SalePrice=%{x}<br>count=%{y}<extra></extra>",
         "legendgroup": "109008",
         "marker": {
          "color": "#1f77b4",
          "pattern": {
           "shape": ""
          }
         },
         "name": "histogram",
         "nbinsx": 80,
         "offsetgroup": "109008",
         "orientation": "v",
         "showlegend": true,
         "type": "histogram",
         "x": [
          109008
         ],
         "xaxis": "x",
         "yaxis": "y3"
        },
        {
         "alignmentgroup": "True",
         "bingroup": "x",
         "hovertemplate": "SalePrice=%{x}<br>count=%{y}<extra></extra>",
         "legendgroup": "195400",
         "marker": {
          "color": "#1f77b4",
          "pattern": {
           "shape": ""
          }
         },
         "name": "histogram",
         "nbinsx": 80,
         "offsetgroup": "195400",
         "orientation": "v",
         "showlegend": true,
         "type": "histogram",
         "x": [
          195400
         ],
         "xaxis": "x",
         "yaxis": "y3"
        },
        {
         "alignmentgroup": "True",
         "bingroup": "x",
         "hovertemplate": "SalePrice=%{x}<br>count=%{y}<extra></extra>",
         "legendgroup": "85400",
         "marker": {
          "color": "#1f77b4",
          "pattern": {
           "shape": ""
          }
         },
         "name": "histogram",
         "nbinsx": 80,
         "offsetgroup": "85400",
         "orientation": "v",
         "showlegend": true,
         "type": "histogram",
         "x": [
          85400
         ],
         "xaxis": "x",
         "yaxis": "y3"
        },
        {
         "alignmentgroup": "True",
         "bingroup": "x",
         "hovertemplate": "SalePrice=%{x}<br>count=%{y}<extra></extra>",
         "legendgroup": "79900",
         "marker": {
          "color": "#1f77b4",
          "pattern": {
           "shape": ""
          }
         },
         "name": "histogram",
         "nbinsx": 80,
         "offsetgroup": "79900",
         "orientation": "v",
         "showlegend": true,
         "type": "histogram",
         "x": [
          79900,
          79900
         ],
         "xaxis": "x",
         "yaxis": "y3"
        },
        {
         "alignmentgroup": "True",
         "bingroup": "x",
         "hovertemplate": "SalePrice=%{x}<br>count=%{y}<extra></extra>",
         "legendgroup": "122500",
         "marker": {
          "color": "#1f77b4",
          "pattern": {
           "shape": ""
          }
         },
         "name": "histogram",
         "nbinsx": 80,
         "offsetgroup": "122500",
         "orientation": "v",
         "showlegend": true,
         "type": "histogram",
         "x": [
          122500,
          122500
         ],
         "xaxis": "x",
         "yaxis": "y3"
        },
        {
         "alignmentgroup": "True",
         "bingroup": "x",
         "hovertemplate": "SalePrice=%{x}<br>count=%{y}<extra></extra>",
         "legendgroup": "212000",
         "marker": {
          "color": "#1f77b4",
          "pattern": {
           "shape": ""
          }
         },
         "name": "histogram",
         "nbinsx": 80,
         "offsetgroup": "212000",
         "orientation": "v",
         "showlegend": true,
         "type": "histogram",
         "x": [
          212000,
          212000,
          212000
         ],
         "xaxis": "x",
         "yaxis": "y3"
        },
        {
         "alignmentgroup": "True",
         "bingroup": "x",
         "hovertemplate": "SalePrice=%{x}<br>count=%{y}<extra></extra>",
         "legendgroup": "116000",
         "marker": {
          "color": "#1f77b4",
          "pattern": {
           "shape": ""
          }
         },
         "name": "histogram",
         "nbinsx": 80,
         "offsetgroup": "116000",
         "orientation": "v",
         "showlegend": true,
         "type": "histogram",
         "x": [
          116000,
          116000,
          116000
         ],
         "xaxis": "x",
         "yaxis": "y3"
        },
        {
         "alignmentgroup": "True",
         "bingroup": "x",
         "hovertemplate": "SalePrice=%{x}<br>count=%{y}<extra></extra>",
         "legendgroup": "90350",
         "marker": {
          "color": "#1f77b4",
          "pattern": {
           "shape": ""
          }
         },
         "name": "histogram",
         "nbinsx": 80,
         "offsetgroup": "90350",
         "orientation": "v",
         "showlegend": true,
         "type": "histogram",
         "x": [
          90350
         ],
         "xaxis": "x",
         "yaxis": "y3"
        },
        {
         "alignmentgroup": "True",
         "bingroup": "x",
         "hovertemplate": "SalePrice=%{x}<br>count=%{y}<extra></extra>",
         "legendgroup": "555000",
         "marker": {
          "color": "#1f77b4",
          "pattern": {
           "shape": ""
          }
         },
         "name": "histogram",
         "nbinsx": 80,
         "offsetgroup": "555000",
         "orientation": "v",
         "showlegend": true,
         "type": "histogram",
         "x": [
          555000
         ],
         "xaxis": "x",
         "yaxis": "y3"
        },
        {
         "alignmentgroup": "True",
         "bingroup": "x",
         "hovertemplate": "SalePrice=%{x}<br>count=%{y}<extra></extra>",
         "legendgroup": "162900",
         "marker": {
          "color": "#1f77b4",
          "pattern": {
           "shape": ""
          }
         },
         "name": "histogram",
         "nbinsx": 80,
         "offsetgroup": "162900",
         "orientation": "v",
         "showlegend": true,
         "type": "histogram",
         "x": [
          162900,
          162900
         ],
         "xaxis": "x",
         "yaxis": "y3"
        },
        {
         "alignmentgroup": "True",
         "bingroup": "x",
         "hovertemplate": "SalePrice=%{x}<br>count=%{y}<extra></extra>",
         "legendgroup": "199900",
         "marker": {
          "color": "#1f77b4",
          "pattern": {
           "shape": ""
          }
         },
         "name": "histogram",
         "nbinsx": 80,
         "offsetgroup": "199900",
         "orientation": "v",
         "showlegend": true,
         "type": "histogram",
         "x": [
          199900,
          199900
         ],
         "xaxis": "x",
         "yaxis": "y3"
        },
        {
         "alignmentgroup": "True",
         "bingroup": "x",
         "hovertemplate": "SalePrice=%{x}<br>count=%{y}<extra></extra>",
         "legendgroup": "119500",
         "marker": {
          "color": "#1f77b4",
          "pattern": {
           "shape": ""
          }
         },
         "name": "histogram",
         "nbinsx": 80,
         "offsetgroup": "119500",
         "orientation": "v",
         "showlegend": true,
         "type": "histogram",
         "x": [
          119500,
          119500,
          119500,
          119500
         ],
         "xaxis": "x",
         "yaxis": "y3"
        },
        {
         "alignmentgroup": "True",
         "bingroup": "x",
         "hovertemplate": "SalePrice=%{x}<br>count=%{y}<extra></extra>",
         "legendgroup": "188000",
         "marker": {
          "color": "#1f77b4",
          "pattern": {
           "shape": ""
          }
         },
         "name": "histogram",
         "nbinsx": 80,
         "offsetgroup": "188000",
         "orientation": "v",
         "showlegend": true,
         "type": "histogram",
         "x": [
          188000,
          188000,
          188000
         ],
         "xaxis": "x",
         "yaxis": "y3"
        },
        {
         "alignmentgroup": "True",
         "bingroup": "x",
         "hovertemplate": "SalePrice=%{x}<br>count=%{y}<extra></extra>",
         "legendgroup": "256000",
         "marker": {
          "color": "#1f77b4",
          "pattern": {
           "shape": ""
          }
         },
         "name": "histogram",
         "nbinsx": 80,
         "offsetgroup": "256000",
         "orientation": "v",
         "showlegend": true,
         "type": "histogram",
         "x": [
          256000,
          256000
         ],
         "xaxis": "x",
         "yaxis": "y3"
        },
        {
         "alignmentgroup": "True",
         "bingroup": "x",
         "hovertemplate": "SalePrice=%{x}<br>count=%{y}<extra></extra>",
         "legendgroup": "161000",
         "marker": {
          "color": "#1f77b4",
          "pattern": {
           "shape": ""
          }
         },
         "name": "histogram",
         "nbinsx": 80,
         "offsetgroup": "161000",
         "orientation": "v",
         "showlegend": true,
         "type": "histogram",
         "x": [
          161000,
          161000
         ],
         "xaxis": "x",
         "yaxis": "y3"
        },
        {
         "alignmentgroup": "True",
         "bingroup": "x",
         "hovertemplate": "SalePrice=%{x}<br>count=%{y}<extra></extra>",
         "legendgroup": "263435",
         "marker": {
          "color": "#1f77b4",
          "pattern": {
           "shape": ""
          }
         },
         "name": "histogram",
         "nbinsx": 80,
         "offsetgroup": "263435",
         "orientation": "v",
         "showlegend": true,
         "type": "histogram",
         "x": [
          263435
         ],
         "xaxis": "x",
         "yaxis": "y3"
        },
        {
         "alignmentgroup": "True",
         "bingroup": "x",
         "hovertemplate": "SalePrice=%{x}<br>count=%{y}<extra></extra>",
         "legendgroup": "62383",
         "marker": {
          "color": "#1f77b4",
          "pattern": {
           "shape": ""
          }
         },
         "name": "histogram",
         "nbinsx": 80,
         "offsetgroup": "62383",
         "orientation": "v",
         "showlegend": true,
         "type": "histogram",
         "x": [
          62383
         ],
         "xaxis": "x",
         "yaxis": "y3"
        },
        {
         "alignmentgroup": "True",
         "bingroup": "x",
         "hovertemplate": "SalePrice=%{x}<br>count=%{y}<extra></extra>",
         "legendgroup": "188700",
         "marker": {
          "color": "#1f77b4",
          "pattern": {
           "shape": ""
          }
         },
         "name": "histogram",
         "nbinsx": 80,
         "offsetgroup": "188700",
         "orientation": "v",
         "showlegend": true,
         "type": "histogram",
         "x": [
          188700
         ],
         "xaxis": "x",
         "yaxis": "y3"
        },
        {
         "alignmentgroup": "True",
         "bingroup": "x",
         "hovertemplate": "SalePrice=%{x}<br>count=%{y}<extra></extra>",
         "legendgroup": "124000",
         "marker": {
          "color": "#1f77b4",
          "pattern": {
           "shape": ""
          }
         },
         "name": "histogram",
         "nbinsx": 80,
         "offsetgroup": "124000",
         "orientation": "v",
         "showlegend": true,
         "type": "histogram",
         "x": [
          124000,
          124000,
          124000,
          124000,
          124000,
          124000
         ],
         "xaxis": "x",
         "yaxis": "y3"
        },
        {
         "alignmentgroup": "True",
         "bingroup": "x",
         "hovertemplate": "SalePrice=%{x}<br>count=%{y}<extra></extra>",
         "legendgroup": "178740",
         "marker": {
          "color": "#1f77b4",
          "pattern": {
           "shape": ""
          }
         },
         "name": "histogram",
         "nbinsx": 80,
         "offsetgroup": "178740",
         "orientation": "v",
         "showlegend": true,
         "type": "histogram",
         "x": [
          178740
         ],
         "xaxis": "x",
         "yaxis": "y3"
        },
        {
         "alignmentgroup": "True",
         "bingroup": "x",
         "hovertemplate": "SalePrice=%{x}<br>count=%{y}<extra></extra>",
         "legendgroup": "146500",
         "marker": {
          "color": "#1f77b4",
          "pattern": {
           "shape": ""
          }
         },
         "name": "histogram",
         "nbinsx": 80,
         "offsetgroup": "146500",
         "orientation": "v",
         "showlegend": true,
         "type": "histogram",
         "x": [
          146500
         ],
         "xaxis": "x",
         "yaxis": "y3"
        },
        {
         "alignmentgroup": "True",
         "bingroup": "x",
         "hovertemplate": "SalePrice=%{x}<br>count=%{y}<extra></extra>",
         "legendgroup": "187000",
         "marker": {
          "color": "#1f77b4",
          "pattern": {
           "shape": ""
          }
         },
         "name": "histogram",
         "nbinsx": 80,
         "offsetgroup": "187000",
         "orientation": "v",
         "showlegend": true,
         "type": "histogram",
         "x": [
          187000,
          187000,
          187000
         ],
         "xaxis": "x",
         "yaxis": "y3"
        },
        {
         "alignmentgroup": "True",
         "bingroup": "x",
         "hovertemplate": "SalePrice=%{x}<br>count=%{y}<extra></extra>",
         "legendgroup": "440000",
         "marker": {
          "color": "#1f77b4",
          "pattern": {
           "shape": ""
          }
         },
         "name": "histogram",
         "nbinsx": 80,
         "offsetgroup": "440000",
         "orientation": "v",
         "showlegend": true,
         "type": "histogram",
         "x": [
          440000
         ],
         "xaxis": "x",
         "yaxis": "y3"
        },
        {
         "alignmentgroup": "True",
         "bingroup": "x",
         "hovertemplate": "SalePrice=%{x}<br>count=%{y}<extra></extra>",
         "legendgroup": "251000",
         "marker": {
          "color": "#1f77b4",
          "pattern": {
           "shape": ""
          }
         },
         "name": "histogram",
         "nbinsx": 80,
         "offsetgroup": "251000",
         "orientation": "v",
         "showlegend": true,
         "type": "histogram",
         "x": [
          251000
         ],
         "xaxis": "x",
         "yaxis": "y3"
        },
        {
         "alignmentgroup": "True",
         "bingroup": "x",
         "hovertemplate": "SalePrice=%{x}<br>count=%{y}<extra></extra>",
         "legendgroup": "132500",
         "marker": {
          "color": "#1f77b4",
          "pattern": {
           "shape": ""
          }
         },
         "name": "histogram",
         "nbinsx": 80,
         "offsetgroup": "132500",
         "orientation": "v",
         "showlegend": true,
         "type": "histogram",
         "x": [
          132500,
          132500,
          132500,
          132500,
          132500,
          132500
         ],
         "xaxis": "x",
         "yaxis": "y3"
        },
        {
         "alignmentgroup": "True",
         "bingroup": "x",
         "hovertemplate": "SalePrice=%{x}<br>count=%{y}<extra></extra>",
         "legendgroup": "208900",
         "marker": {
          "color": "#1f77b4",
          "pattern": {
           "shape": ""
          }
         },
         "name": "histogram",
         "nbinsx": 80,
         "offsetgroup": "208900",
         "orientation": "v",
         "showlegend": true,
         "type": "histogram",
         "x": [
          208900,
          208900
         ],
         "xaxis": "x",
         "yaxis": "y3"
        },
        {
         "alignmentgroup": "True",
         "bingroup": "x",
         "hovertemplate": "SalePrice=%{x}<br>count=%{y}<extra></extra>",
         "legendgroup": "380000",
         "marker": {
          "color": "#1f77b4",
          "pattern": {
           "shape": ""
          }
         },
         "name": "histogram",
         "nbinsx": 80,
         "offsetgroup": "380000",
         "orientation": "v",
         "showlegend": true,
         "type": "histogram",
         "x": [
          380000
         ],
         "xaxis": "x",
         "yaxis": "y3"
        },
        {
         "alignmentgroup": "True",
         "bingroup": "x",
         "hovertemplate": "SalePrice=%{x}<br>count=%{y}<extra></extra>",
         "legendgroup": "297000",
         "marker": {
          "color": "#1f77b4",
          "pattern": {
           "shape": ""
          }
         },
         "name": "histogram",
         "nbinsx": 80,
         "offsetgroup": "297000",
         "orientation": "v",
         "showlegend": true,
         "type": "histogram",
         "x": [
          297000
         ],
         "xaxis": "x",
         "yaxis": "y3"
        },
        {
         "alignmentgroup": "True",
         "bingroup": "x",
         "hovertemplate": "SalePrice=%{x}<br>count=%{y}<extra></extra>",
         "legendgroup": "89471",
         "marker": {
          "color": "#1f77b4",
          "pattern": {
           "shape": ""
          }
         },
         "name": "histogram",
         "nbinsx": 80,
         "offsetgroup": "89471",
         "orientation": "v",
         "showlegend": true,
         "type": "histogram",
         "x": [
          89471
         ],
         "xaxis": "x",
         "yaxis": "y3"
        },
        {
         "alignmentgroup": "True",
         "bingroup": "x",
         "hovertemplate": "SalePrice=%{x}<br>count=%{y}<extra></extra>",
         "legendgroup": "326000",
         "marker": {
          "color": "#1f77b4",
          "pattern": {
           "shape": ""
          }
         },
         "name": "histogram",
         "nbinsx": 80,
         "offsetgroup": "326000",
         "orientation": "v",
         "showlegend": true,
         "type": "histogram",
         "x": [
          326000
         ],
         "xaxis": "x",
         "yaxis": "y3"
        },
        {
         "alignmentgroup": "True",
         "bingroup": "x",
         "hovertemplate": "SalePrice=%{x}<br>count=%{y}<extra></extra>",
         "legendgroup": "374000",
         "marker": {
          "color": "#1f77b4",
          "pattern": {
           "shape": ""
          }
         },
         "name": "histogram",
         "nbinsx": 80,
         "offsetgroup": "374000",
         "orientation": "v",
         "showlegend": true,
         "type": "histogram",
         "x": [
          374000
         ],
         "xaxis": "x",
         "yaxis": "y3"
        },
        {
         "alignmentgroup": "True",
         "bingroup": "x",
         "hovertemplate": "SalePrice=%{x}<br>count=%{y}<extra></extra>",
         "legendgroup": "164000",
         "marker": {
          "color": "#1f77b4",
          "pattern": {
           "shape": ""
          }
         },
         "name": "histogram",
         "nbinsx": 80,
         "offsetgroup": "164000",
         "orientation": "v",
         "showlegend": true,
         "type": "histogram",
         "x": [
          164000,
          164000,
          164000
         ],
         "xaxis": "x",
         "yaxis": "y3"
        },
        {
         "alignmentgroup": "True",
         "bingroup": "x",
         "hovertemplate": "SalePrice=%{x}<br>count=%{y}<extra></extra>",
         "legendgroup": "86000",
         "marker": {
          "color": "#1f77b4",
          "pattern": {
           "shape": ""
          }
         },
         "name": "histogram",
         "nbinsx": 80,
         "offsetgroup": "86000",
         "orientation": "v",
         "showlegend": true,
         "type": "histogram",
         "x": [
          86000,
          86000,
          86000
         ],
         "xaxis": "x",
         "yaxis": "y3"
        },
        {
         "alignmentgroup": "True",
         "bingroup": "x",
         "hovertemplate": "SalePrice=%{x}<br>count=%{y}<extra></extra>",
         "legendgroup": "133000",
         "marker": {
          "color": "#1f77b4",
          "pattern": {
           "shape": ""
          }
         },
         "name": "histogram",
         "nbinsx": 80,
         "offsetgroup": "133000",
         "orientation": "v",
         "showlegend": true,
         "type": "histogram",
         "x": [
          133000,
          133000,
          133000,
          133000,
          133000,
          133000
         ],
         "xaxis": "x",
         "yaxis": "y3"
        },
        {
         "alignmentgroup": "True",
         "bingroup": "x",
         "hovertemplate": "SalePrice=%{x}<br>count=%{y}<extra></extra>",
         "legendgroup": "172785",
         "marker": {
          "color": "#1f77b4",
          "pattern": {
           "shape": ""
          }
         },
         "name": "histogram",
         "nbinsx": 80,
         "offsetgroup": "172785",
         "orientation": "v",
         "showlegend": true,
         "type": "histogram",
         "x": [
          172785
         ],
         "xaxis": "x",
         "yaxis": "y3"
        },
        {
         "alignmentgroup": "True",
         "bingroup": "x",
         "hovertemplate": "SalePrice=%{x}<br>count=%{y}<extra></extra>",
         "legendgroup": "91300",
         "marker": {
          "color": "#1f77b4",
          "pattern": {
           "shape": ""
          }
         },
         "name": "histogram",
         "nbinsx": 80,
         "offsetgroup": "91300",
         "orientation": "v",
         "showlegend": true,
         "type": "histogram",
         "x": [
          91300
         ],
         "xaxis": "x",
         "yaxis": "y3"
        },
        {
         "alignmentgroup": "True",
         "bingroup": "x",
         "hovertemplate": "SalePrice=%{x}<br>count=%{y}<extra></extra>",
         "legendgroup": "34900",
         "marker": {
          "color": "#1f77b4",
          "pattern": {
           "shape": ""
          }
         },
         "name": "histogram",
         "nbinsx": 80,
         "offsetgroup": "34900",
         "orientation": "v",
         "showlegend": true,
         "type": "histogram",
         "x": [
          34900
         ],
         "xaxis": "x",
         "yaxis": "y3"
        },
        {
         "alignmentgroup": "True",
         "bingroup": "x",
         "hovertemplate": "SalePrice=%{x}<br>count=%{y}<extra></extra>",
         "legendgroup": "430000",
         "marker": {
          "color": "#1f77b4",
          "pattern": {
           "shape": ""
          }
         },
         "name": "histogram",
         "nbinsx": 80,
         "offsetgroup": "430000",
         "orientation": "v",
         "showlegend": true,
         "type": "histogram",
         "x": [
          430000
         ],
         "xaxis": "x",
         "yaxis": "y3"
        },
        {
         "alignmentgroup": "True",
         "bingroup": "x",
         "hovertemplate": "SalePrice=%{x}<br>count=%{y}<extra></extra>",
         "legendgroup": "226700",
         "marker": {
          "color": "#1f77b4",
          "pattern": {
           "shape": ""
          }
         },
         "name": "histogram",
         "nbinsx": 80,
         "offsetgroup": "226700",
         "orientation": "v",
         "showlegend": true,
         "type": "histogram",
         "x": [
          226700
         ],
         "xaxis": "x",
         "yaxis": "y3"
        },
        {
         "alignmentgroup": "True",
         "bingroup": "x",
         "hovertemplate": "SalePrice=%{x}<br>count=%{y}<extra></extra>",
         "legendgroup": "289000",
         "marker": {
          "color": "#1f77b4",
          "pattern": {
           "shape": ""
          }
         },
         "name": "histogram",
         "nbinsx": 80,
         "offsetgroup": "289000",
         "orientation": "v",
         "showlegend": true,
         "type": "histogram",
         "x": [
          289000
         ],
         "xaxis": "x",
         "yaxis": "y3"
        },
        {
         "alignmentgroup": "True",
         "bingroup": "x",
         "hovertemplate": "SalePrice=%{x}<br>count=%{y}<extra></extra>",
         "legendgroup": "208300",
         "marker": {
          "color": "#1f77b4",
          "pattern": {
           "shape": ""
          }
         },
         "name": "histogram",
         "nbinsx": 80,
         "offsetgroup": "208300",
         "orientation": "v",
         "showlegend": true,
         "type": "histogram",
         "x": [
          208300
         ],
         "xaxis": "x",
         "yaxis": "y3"
        },
        {
         "alignmentgroup": "True",
         "bingroup": "x",
         "hovertemplate": "SalePrice=%{x}<br>count=%{y}<extra></extra>",
         "legendgroup": "164900",
         "marker": {
          "color": "#1f77b4",
          "pattern": {
           "shape": ""
          }
         },
         "name": "histogram",
         "nbinsx": 80,
         "offsetgroup": "164900",
         "orientation": "v",
         "showlegend": true,
         "type": "histogram",
         "x": [
          164900
         ],
         "xaxis": "x",
         "yaxis": "y3"
        },
        {
         "alignmentgroup": "True",
         "bingroup": "x",
         "hovertemplate": "SalePrice=%{x}<br>count=%{y}<extra></extra>",
         "legendgroup": "202665",
         "marker": {
          "color": "#1f77b4",
          "pattern": {
           "shape": ""
          }
         },
         "name": "histogram",
         "nbinsx": 80,
         "offsetgroup": "202665",
         "orientation": "v",
         "showlegend": true,
         "type": "histogram",
         "x": [
          202665
         ],
         "xaxis": "x",
         "yaxis": "y3"
        },
        {
         "alignmentgroup": "True",
         "bingroup": "x",
         "hovertemplate": "SalePrice=%{x}<br>count=%{y}<extra></extra>",
         "legendgroup": "96500",
         "marker": {
          "color": "#1f77b4",
          "pattern": {
           "shape": ""
          }
         },
         "name": "histogram",
         "nbinsx": 80,
         "offsetgroup": "96500",
         "orientation": "v",
         "showlegend": true,
         "type": "histogram",
         "x": [
          96500,
          96500
         ],
         "xaxis": "x",
         "yaxis": "y3"
        },
        {
         "alignmentgroup": "True",
         "bingroup": "x",
         "hovertemplate": "SalePrice=%{x}<br>count=%{y}<extra></extra>",
         "legendgroup": "402861",
         "marker": {
          "color": "#1f77b4",
          "pattern": {
           "shape": ""
          }
         },
         "name": "histogram",
         "nbinsx": 80,
         "offsetgroup": "402861",
         "orientation": "v",
         "showlegend": true,
         "type": "histogram",
         "x": [
          402861
         ],
         "xaxis": "x",
         "yaxis": "y3"
        },
        {
         "alignmentgroup": "True",
         "bingroup": "x",
         "hovertemplate": "SalePrice=%{x}<br>count=%{y}<extra></extra>",
         "legendgroup": "265000",
         "marker": {
          "color": "#1f77b4",
          "pattern": {
           "shape": ""
          }
         },
         "name": "histogram",
         "nbinsx": 80,
         "offsetgroup": "265000",
         "orientation": "v",
         "showlegend": true,
         "type": "histogram",
         "x": [
          265000
         ],
         "xaxis": "x",
         "yaxis": "y3"
        },
        {
         "alignmentgroup": "True",
         "bingroup": "x",
         "hovertemplate": "SalePrice=%{x}<br>count=%{y}<extra></extra>",
         "legendgroup": "234000",
         "marker": {
          "color": "#1f77b4",
          "pattern": {
           "shape": ""
          }
         },
         "name": "histogram",
         "nbinsx": 80,
         "offsetgroup": "234000",
         "orientation": "v",
         "showlegend": true,
         "type": "histogram",
         "x": [
          234000,
          234000
         ],
         "xaxis": "x",
         "yaxis": "y3"
        },
        {
         "alignmentgroup": "True",
         "bingroup": "x",
         "hovertemplate": "SalePrice=%{x}<br>count=%{y}<extra></extra>",
         "legendgroup": "106250",
         "marker": {
          "color": "#1f77b4",
          "pattern": {
           "shape": ""
          }
         },
         "name": "histogram",
         "nbinsx": 80,
         "offsetgroup": "106250",
         "orientation": "v",
         "showlegend": true,
         "type": "histogram",
         "x": [
          106250
         ],
         "xaxis": "x",
         "yaxis": "y3"
        },
        {
         "alignmentgroup": "True",
         "bingroup": "x",
         "hovertemplate": "SalePrice=%{x}<br>count=%{y}<extra></extra>",
         "legendgroup": "184750",
         "marker": {
          "color": "#1f77b4",
          "pattern": {
           "shape": ""
          }
         },
         "name": "histogram",
         "nbinsx": 80,
         "offsetgroup": "184750",
         "orientation": "v",
         "showlegend": true,
         "type": "histogram",
         "x": [
          184750
         ],
         "xaxis": "x",
         "yaxis": "y3"
        },
        {
         "alignmentgroup": "True",
         "bingroup": "x",
         "hovertemplate": "SalePrice=%{x}<br>count=%{y}<extra></extra>",
         "legendgroup": "315750",
         "marker": {
          "color": "#1f77b4",
          "pattern": {
           "shape": ""
          }
         },
         "name": "histogram",
         "nbinsx": 80,
         "offsetgroup": "315750",
         "orientation": "v",
         "showlegend": true,
         "type": "histogram",
         "x": [
          315750
         ],
         "xaxis": "x",
         "yaxis": "y3"
        },
        {
         "alignmentgroup": "True",
         "bingroup": "x",
         "hovertemplate": "SalePrice=%{x}<br>count=%{y}<extra></extra>",
         "legendgroup": "446261",
         "marker": {
          "color": "#1f77b4",
          "pattern": {
           "shape": ""
          }
         },
         "name": "histogram",
         "nbinsx": 80,
         "offsetgroup": "446261",
         "orientation": "v",
         "showlegend": true,
         "type": "histogram",
         "x": [
          446261
         ],
         "xaxis": "x",
         "yaxis": "y3"
        },
        {
         "alignmentgroup": "True",
         "bingroup": "x",
         "hovertemplate": "SalePrice=%{x}<br>count=%{y}<extra></extra>",
         "legendgroup": "200624",
         "marker": {
          "color": "#1f77b4",
          "pattern": {
           "shape": ""
          }
         },
         "name": "histogram",
         "nbinsx": 80,
         "offsetgroup": "200624",
         "orientation": "v",
         "showlegend": true,
         "type": "histogram",
         "x": [
          200624
         ],
         "xaxis": "x",
         "yaxis": "y3"
        },
        {
         "alignmentgroup": "True",
         "bingroup": "x",
         "hovertemplate": "SalePrice=%{x}<br>count=%{y}<extra></extra>",
         "legendgroup": "107500",
         "marker": {
          "color": "#1f77b4",
          "pattern": {
           "shape": ""
          }
         },
         "name": "histogram",
         "nbinsx": 80,
         "offsetgroup": "107500",
         "orientation": "v",
         "showlegend": true,
         "type": "histogram",
         "x": [
          107500,
          107500,
          107500
         ],
         "xaxis": "x",
         "yaxis": "y3"
        },
        {
         "alignmentgroup": "True",
         "bingroup": "x",
         "hovertemplate": "SalePrice=%{x}<br>count=%{y}<extra></extra>",
         "legendgroup": "39300",
         "marker": {
          "color": "#1f77b4",
          "pattern": {
           "shape": ""
          }
         },
         "name": "histogram",
         "nbinsx": 80,
         "offsetgroup": "39300",
         "orientation": "v",
         "showlegend": true,
         "type": "histogram",
         "x": [
          39300
         ],
         "xaxis": "x",
         "yaxis": "y3"
        },
        {
         "alignmentgroup": "True",
         "bingroup": "x",
         "hovertemplate": "SalePrice=%{x}<br>count=%{y}<extra></extra>",
         "legendgroup": "111250",
         "marker": {
          "color": "#1f77b4",
          "pattern": {
           "shape": ""
          }
         },
         "name": "histogram",
         "nbinsx": 80,
         "offsetgroup": "111250",
         "orientation": "v",
         "showlegend": true,
         "type": "histogram",
         "x": [
          111250
         ],
         "xaxis": "x",
         "yaxis": "y3"
        },
        {
         "alignmentgroup": "True",
         "bingroup": "x",
         "hovertemplate": "SalePrice=%{x}<br>count=%{y}<extra></extra>",
         "legendgroup": "272000",
         "marker": {
          "color": "#1f77b4",
          "pattern": {
           "shape": ""
          }
         },
         "name": "histogram",
         "nbinsx": 80,
         "offsetgroup": "272000",
         "orientation": "v",
         "showlegend": true,
         "type": "histogram",
         "x": [
          272000,
          272000
         ],
         "xaxis": "x",
         "yaxis": "y3"
        },
        {
         "alignmentgroup": "True",
         "bingroup": "x",
         "hovertemplate": "SalePrice=%{x}<br>count=%{y}<extra></extra>",
         "legendgroup": "248000",
         "marker": {
          "color": "#1f77b4",
          "pattern": {
           "shape": ""
          }
         },
         "name": "histogram",
         "nbinsx": 80,
         "offsetgroup": "248000",
         "orientation": "v",
         "showlegend": true,
         "type": "histogram",
         "x": [
          248000,
          248000
         ],
         "xaxis": "x",
         "yaxis": "y3"
        },
        {
         "alignmentgroup": "True",
         "bingroup": "x",
         "hovertemplate": "SalePrice=%{x}<br>count=%{y}<extra></extra>",
         "legendgroup": "213250",
         "marker": {
          "color": "#1f77b4",
          "pattern": {
           "shape": ""
          }
         },
         "name": "histogram",
         "nbinsx": 80,
         "offsetgroup": "213250",
         "orientation": "v",
         "showlegend": true,
         "type": "histogram",
         "x": [
          213250
         ],
         "xaxis": "x",
         "yaxis": "y3"
        },
        {
         "alignmentgroup": "True",
         "bingroup": "x",
         "hovertemplate": "SalePrice=%{x}<br>count=%{y}<extra></extra>",
         "legendgroup": "179665",
         "marker": {
          "color": "#1f77b4",
          "pattern": {
           "shape": ""
          }
         },
         "name": "histogram",
         "nbinsx": 80,
         "offsetgroup": "179665",
         "orientation": "v",
         "showlegend": true,
         "type": "histogram",
         "x": [
          179665
         ],
         "xaxis": "x",
         "yaxis": "y3"
        },
        {
         "alignmentgroup": "True",
         "bingroup": "x",
         "hovertemplate": "SalePrice=%{x}<br>count=%{y}<extra></extra>",
         "legendgroup": "229000",
         "marker": {
          "color": "#1f77b4",
          "pattern": {
           "shape": ""
          }
         },
         "name": "histogram",
         "nbinsx": 80,
         "offsetgroup": "229000",
         "orientation": "v",
         "showlegend": true,
         "type": "histogram",
         "x": [
          229000
         ],
         "xaxis": "x",
         "yaxis": "y3"
        },
        {
         "alignmentgroup": "True",
         "bingroup": "x",
         "hovertemplate": "SalePrice=%{x}<br>count=%{y}<extra></extra>",
         "legendgroup": "263000",
         "marker": {
          "color": "#1f77b4",
          "pattern": {
           "shape": ""
          }
         },
         "name": "histogram",
         "nbinsx": 80,
         "offsetgroup": "263000",
         "orientation": "v",
         "showlegend": true,
         "type": "histogram",
         "x": [
          263000
         ],
         "xaxis": "x",
         "yaxis": "y3"
        },
        {
         "alignmentgroup": "True",
         "bingroup": "x",
         "hovertemplate": "SalePrice=%{x}<br>count=%{y}<extra></extra>",
         "legendgroup": "112500",
         "marker": {
          "color": "#1f77b4",
          "pattern": {
           "shape": ""
          }
         },
         "name": "histogram",
         "nbinsx": 80,
         "offsetgroup": "112500",
         "orientation": "v",
         "showlegend": true,
         "type": "histogram",
         "x": [
          112500,
          112500
         ],
         "xaxis": "x",
         "yaxis": "y3"
        },
        {
         "alignmentgroup": "True",
         "bingroup": "x",
         "hovertemplate": "SalePrice=%{x}<br>count=%{y}<extra></extra>",
         "legendgroup": "255500",
         "marker": {
          "color": "#1f77b4",
          "pattern": {
           "shape": ""
          }
         },
         "name": "histogram",
         "nbinsx": 80,
         "offsetgroup": "255500",
         "orientation": "v",
         "showlegend": true,
         "type": "histogram",
         "x": [
          255500
         ],
         "xaxis": "x",
         "yaxis": "y3"
        },
        {
         "alignmentgroup": "True",
         "bingroup": "x",
         "hovertemplate": "SalePrice=%{x}<br>count=%{y}<extra></extra>",
         "legendgroup": "121500",
         "marker": {
          "color": "#1f77b4",
          "pattern": {
           "shape": ""
          }
         },
         "name": "histogram",
         "nbinsx": 80,
         "offsetgroup": "121500",
         "orientation": "v",
         "showlegend": true,
         "type": "histogram",
         "x": [
          121500
         ],
         "xaxis": "x",
         "yaxis": "y3"
        },
        {
         "alignmentgroup": "True",
         "bingroup": "x",
         "hovertemplate": "SalePrice=%{x}<br>count=%{y}<extra></extra>",
         "legendgroup": "268000",
         "marker": {
          "color": "#1f77b4",
          "pattern": {
           "shape": ""
          }
         },
         "name": "histogram",
         "nbinsx": 80,
         "offsetgroup": "268000",
         "orientation": "v",
         "showlegend": true,
         "type": "histogram",
         "x": [
          268000,
          268000
         ],
         "xaxis": "x",
         "yaxis": "y3"
        },
        {
         "alignmentgroup": "True",
         "bingroup": "x",
         "hovertemplate": "SalePrice=%{x}<br>count=%{y}<extra></extra>",
         "legendgroup": "325000",
         "marker": {
          "color": "#1f77b4",
          "pattern": {
           "shape": ""
          }
         },
         "name": "histogram",
         "nbinsx": 80,
         "offsetgroup": "325000",
         "orientation": "v",
         "showlegend": true,
         "type": "histogram",
         "x": [
          325000,
          325000,
          325000,
          325000
         ],
         "xaxis": "x",
         "yaxis": "y3"
        },
        {
         "alignmentgroup": "True",
         "bingroup": "x",
         "hovertemplate": "SalePrice=%{x}<br>count=%{y}<extra></extra>",
         "legendgroup": "316600",
         "marker": {
          "color": "#1f77b4",
          "pattern": {
           "shape": ""
          }
         },
         "name": "histogram",
         "nbinsx": 80,
         "offsetgroup": "316600",
         "orientation": "v",
         "showlegend": true,
         "type": "histogram",
         "x": [
          316600
         ],
         "xaxis": "x",
         "yaxis": "y3"
        },
        {
         "alignmentgroup": "True",
         "bingroup": "x",
         "hovertemplate": "SalePrice=%{x}<br>count=%{y}<extra></extra>",
         "legendgroup": "135960",
         "marker": {
          "color": "#1f77b4",
          "pattern": {
           "shape": ""
          }
         },
         "name": "histogram",
         "nbinsx": 80,
         "offsetgroup": "135960",
         "orientation": "v",
         "showlegend": true,
         "type": "histogram",
         "x": [
          135960
         ],
         "xaxis": "x",
         "yaxis": "y3"
        },
        {
         "alignmentgroup": "True",
         "bingroup": "x",
         "hovertemplate": "SalePrice=%{x}<br>count=%{y}<extra></extra>",
         "legendgroup": "142600",
         "marker": {
          "color": "#1f77b4",
          "pattern": {
           "shape": ""
          }
         },
         "name": "histogram",
         "nbinsx": 80,
         "offsetgroup": "142600",
         "orientation": "v",
         "showlegend": true,
         "type": "histogram",
         "x": [
          142600
         ],
         "xaxis": "x",
         "yaxis": "y3"
        },
        {
         "alignmentgroup": "True",
         "bingroup": "x",
         "hovertemplate": "SalePrice=%{x}<br>count=%{y}<extra></extra>",
         "legendgroup": "224500",
         "marker": {
          "color": "#1f77b4",
          "pattern": {
           "shape": ""
          }
         },
         "name": "histogram",
         "nbinsx": 80,
         "offsetgroup": "224500",
         "orientation": "v",
         "showlegend": true,
         "type": "histogram",
         "x": [
          224500
         ],
         "xaxis": "x",
         "yaxis": "y3"
        },
        {
         "alignmentgroup": "True",
         "bingroup": "x",
         "hovertemplate": "SalePrice=%{x}<br>count=%{y}<extra></extra>",
         "legendgroup": "118500",
         "marker": {
          "color": "#1f77b4",
          "pattern": {
           "shape": ""
          }
         },
         "name": "histogram",
         "nbinsx": 80,
         "offsetgroup": "118500",
         "orientation": "v",
         "showlegend": true,
         "type": "histogram",
         "x": [
          118500,
          118500,
          118500,
          118500
         ],
         "xaxis": "x",
         "yaxis": "y3"
        },
        {
         "alignmentgroup": "True",
         "bingroup": "x",
         "hovertemplate": "SalePrice=%{x}<br>count=%{y}<extra></extra>",
         "legendgroup": "146000",
         "marker": {
          "color": "#1f77b4",
          "pattern": {
           "shape": ""
          }
         },
         "name": "histogram",
         "nbinsx": 80,
         "offsetgroup": "146000",
         "orientation": "v",
         "showlegend": true,
         "type": "histogram",
         "x": [
          146000,
          146000,
          146000
         ],
         "xaxis": "x",
         "yaxis": "y3"
        },
        {
         "alignmentgroup": "True",
         "bingroup": "x",
         "hovertemplate": "SalePrice=%{x}<br>count=%{y}<extra></extra>",
         "legendgroup": "131500",
         "marker": {
          "color": "#1f77b4",
          "pattern": {
           "shape": ""
          }
         },
         "name": "histogram",
         "nbinsx": 80,
         "offsetgroup": "131500",
         "orientation": "v",
         "showlegend": true,
         "type": "histogram",
         "x": [
          131500,
          131500,
          131500
         ],
         "xaxis": "x",
         "yaxis": "y3"
        },
        {
         "alignmentgroup": "True",
         "bingroup": "x",
         "hovertemplate": "SalePrice=%{x}<br>count=%{y}<extra></extra>",
         "legendgroup": "181900",
         "marker": {
          "color": "#1f77b4",
          "pattern": {
           "shape": ""
          }
         },
         "name": "histogram",
         "nbinsx": 80,
         "offsetgroup": "181900",
         "orientation": "v",
         "showlegend": true,
         "type": "histogram",
         "x": [
          181900
         ],
         "xaxis": "x",
         "yaxis": "y3"
        },
        {
         "alignmentgroup": "True",
         "bingroup": "x",
         "hovertemplate": "SalePrice=%{x}<br>count=%{y}<extra></extra>",
         "legendgroup": "253293",
         "marker": {
          "color": "#1f77b4",
          "pattern": {
           "shape": ""
          }
         },
         "name": "histogram",
         "nbinsx": 80,
         "offsetgroup": "253293",
         "orientation": "v",
         "showlegend": true,
         "type": "histogram",
         "x": [
          253293
         ],
         "xaxis": "x",
         "yaxis": "y3"
        },
        {
         "alignmentgroup": "True",
         "bingroup": "x",
         "hovertemplate": "SalePrice=%{x}<br>count=%{y}<extra></extra>",
         "legendgroup": "369900",
         "marker": {
          "color": "#1f77b4",
          "pattern": {
           "shape": ""
          }
         },
         "name": "histogram",
         "nbinsx": 80,
         "offsetgroup": "369900",
         "orientation": "v",
         "showlegend": true,
         "type": "histogram",
         "x": [
          369900
         ],
         "xaxis": "x",
         "yaxis": "y3"
        },
        {
         "alignmentgroup": "True",
         "bingroup": "x",
         "hovertemplate": "SalePrice=%{x}<br>count=%{y}<extra></extra>",
         "legendgroup": "79500",
         "marker": {
          "color": "#1f77b4",
          "pattern": {
           "shape": ""
          }
         },
         "name": "histogram",
         "nbinsx": 80,
         "offsetgroup": "79500",
         "orientation": "v",
         "showlegend": true,
         "type": "histogram",
         "x": [
          79500
         ],
         "xaxis": "x",
         "yaxis": "y3"
        },
        {
         "alignmentgroup": "True",
         "bingroup": "x",
         "hovertemplate": "SalePrice=%{x}<br>count=%{y}<extra></extra>",
         "legendgroup": "185900",
         "marker": {
          "color": "#1f77b4",
          "pattern": {
           "shape": ""
          }
         },
         "name": "histogram",
         "nbinsx": 80,
         "offsetgroup": "185900",
         "orientation": "v",
         "showlegend": true,
         "type": "histogram",
         "x": [
          185900
         ],
         "xaxis": "x",
         "yaxis": "y3"
        },
        {
         "alignmentgroup": "True",
         "bingroup": "x",
         "hovertemplate": "SalePrice=%{x}<br>count=%{y}<extra></extra>",
         "legendgroup": "451950",
         "marker": {
          "color": "#1f77b4",
          "pattern": {
           "shape": ""
          }
         },
         "name": "histogram",
         "nbinsx": 80,
         "offsetgroup": "451950",
         "orientation": "v",
         "showlegend": true,
         "type": "histogram",
         "x": [
          451950
         ],
         "xaxis": "x",
         "yaxis": "y3"
        },
        {
         "alignmentgroup": "True",
         "bingroup": "x",
         "hovertemplate": "SalePrice=%{x}<br>count=%{y}<extra></extra>",
         "legendgroup": "138000",
         "marker": {
          "color": "#1f77b4",
          "pattern": {
           "shape": ""
          }
         },
         "name": "histogram",
         "nbinsx": 80,
         "offsetgroup": "138000",
         "orientation": "v",
         "showlegend": true,
         "type": "histogram",
         "x": [
          138000,
          138000,
          138000
         ],
         "xaxis": "x",
         "yaxis": "y3"
        },
        {
         "alignmentgroup": "True",
         "bingroup": "x",
         "hovertemplate": "SalePrice=%{x}<br>count=%{y}<extra></extra>",
         "legendgroup": "319000",
         "marker": {
          "color": "#1f77b4",
          "pattern": {
           "shape": ""
          }
         },
         "name": "histogram",
         "nbinsx": 80,
         "offsetgroup": "319000",
         "orientation": "v",
         "showlegend": true,
         "type": "histogram",
         "x": [
          319000
         ],
         "xaxis": "x",
         "yaxis": "y3"
        },
        {
         "alignmentgroup": "True",
         "bingroup": "x",
         "hovertemplate": "SalePrice=%{x}<br>count=%{y}<extra></extra>",
         "legendgroup": "114504",
         "marker": {
          "color": "#1f77b4",
          "pattern": {
           "shape": ""
          }
         },
         "name": "histogram",
         "nbinsx": 80,
         "offsetgroup": "114504",
         "orientation": "v",
         "showlegend": true,
         "type": "histogram",
         "x": [
          114504
         ],
         "xaxis": "x",
         "yaxis": "y3"
        },
        {
         "alignmentgroup": "True",
         "bingroup": "x",
         "hovertemplate": "SalePrice=%{x}<br>count=%{y}<extra></extra>",
         "legendgroup": "194201",
         "marker": {
          "color": "#1f77b4",
          "pattern": {
           "shape": ""
          }
         },
         "name": "histogram",
         "nbinsx": 80,
         "offsetgroup": "194201",
         "orientation": "v",
         "showlegend": true,
         "type": "histogram",
         "x": [
          194201
         ],
         "xaxis": "x",
         "yaxis": "y3"
        },
        {
         "alignmentgroup": "True",
         "bingroup": "x",
         "hovertemplate": "SalePrice=%{x}<br>count=%{y}<extra></extra>",
         "legendgroup": "217500",
         "marker": {
          "color": "#1f77b4",
          "pattern": {
           "shape": ""
          }
         },
         "name": "histogram",
         "nbinsx": 80,
         "offsetgroup": "217500",
         "orientation": "v",
         "showlegend": true,
         "type": "histogram",
         "x": [
          217500
         ],
         "xaxis": "x",
         "yaxis": "y3"
        },
        {
         "alignmentgroup": "True",
         "bingroup": "x",
         "hovertemplate": "SalePrice=%{x}<br>count=%{y}<extra></extra>",
         "legendgroup": "221000",
         "marker": {
          "color": "#1f77b4",
          "pattern": {
           "shape": ""
          }
         },
         "name": "histogram",
         "nbinsx": 80,
         "offsetgroup": "221000",
         "orientation": "v",
         "showlegend": true,
         "type": "histogram",
         "x": [
          221000,
          221000
         ],
         "xaxis": "x",
         "yaxis": "y3"
        },
        {
         "alignmentgroup": "True",
         "bingroup": "x",
         "hovertemplate": "SalePrice=%{x}<br>count=%{y}<extra></extra>",
         "legendgroup": "359100",
         "marker": {
          "color": "#1f77b4",
          "pattern": {
           "shape": ""
          }
         },
         "name": "histogram",
         "nbinsx": 80,
         "offsetgroup": "359100",
         "orientation": "v",
         "showlegend": true,
         "type": "histogram",
         "x": [
          359100
         ],
         "xaxis": "x",
         "yaxis": "y3"
        },
        {
         "alignmentgroup": "True",
         "bingroup": "x",
         "hovertemplate": "SalePrice=%{x}<br>count=%{y}<extra></extra>",
         "legendgroup": "313000",
         "marker": {
          "color": "#1f77b4",
          "pattern": {
           "shape": ""
          }
         },
         "name": "histogram",
         "nbinsx": 80,
         "offsetgroup": "313000",
         "orientation": "v",
         "showlegend": true,
         "type": "histogram",
         "x": [
          313000
         ],
         "xaxis": "x",
         "yaxis": "y3"
        },
        {
         "alignmentgroup": "True",
         "bingroup": "x",
         "hovertemplate": "SalePrice=%{x}<br>count=%{y}<extra></extra>",
         "legendgroup": "261500",
         "marker": {
          "color": "#1f77b4",
          "pattern": {
           "shape": ""
          }
         },
         "name": "histogram",
         "nbinsx": 80,
         "offsetgroup": "261500",
         "orientation": "v",
         "showlegend": true,
         "type": "histogram",
         "x": [
          261500
         ],
         "xaxis": "x",
         "yaxis": "y3"
        },
        {
         "alignmentgroup": "True",
         "bingroup": "x",
         "hovertemplate": "SalePrice=%{x}<br>count=%{y}<extra></extra>",
         "legendgroup": "75500",
         "marker": {
          "color": "#1f77b4",
          "pattern": {
           "shape": ""
          }
         },
         "name": "histogram",
         "nbinsx": 80,
         "offsetgroup": "75500",
         "orientation": "v",
         "showlegend": true,
         "type": "histogram",
         "x": [
          75500
         ],
         "xaxis": "x",
         "yaxis": "y3"
        },
        {
         "alignmentgroup": "True",
         "bingroup": "x",
         "hovertemplate": "SalePrice=%{x}<br>count=%{y}<extra></extra>",
         "legendgroup": "137500",
         "marker": {
          "color": "#1f77b4",
          "pattern": {
           "shape": ""
          }
         },
         "name": "histogram",
         "nbinsx": 80,
         "offsetgroup": "137500",
         "orientation": "v",
         "showlegend": true,
         "type": "histogram",
         "x": [
          137500,
          137500,
          137500,
          137500,
          137500,
          137500
         ],
         "xaxis": "x",
         "yaxis": "y3"
        },
        {
         "alignmentgroup": "True",
         "bingroup": "x",
         "hovertemplate": "SalePrice=%{x}<br>count=%{y}<extra></extra>",
         "legendgroup": "183200",
         "marker": {
          "color": "#1f77b4",
          "pattern": {
           "shape": ""
          }
         },
         "name": "histogram",
         "nbinsx": 80,
         "offsetgroup": "183200",
         "orientation": "v",
         "showlegend": true,
         "type": "histogram",
         "x": [
          183200
         ],
         "xaxis": "x",
         "yaxis": "y3"
        },
        {
         "alignmentgroup": "True",
         "bingroup": "x",
         "hovertemplate": "SalePrice=%{x}<br>count=%{y}<extra></extra>",
         "legendgroup": "105500",
         "marker": {
          "color": "#1f77b4",
          "pattern": {
           "shape": ""
          }
         },
         "name": "histogram",
         "nbinsx": 80,
         "offsetgroup": "105500",
         "orientation": "v",
         "showlegend": true,
         "type": "histogram",
         "x": [
          105500
         ],
         "xaxis": "x",
         "yaxis": "y3"
        },
        {
         "alignmentgroup": "True",
         "bingroup": "x",
         "hovertemplate": "SalePrice=%{x}<br>count=%{y}<extra></extra>",
         "legendgroup": "314813",
         "marker": {
          "color": "#1f77b4",
          "pattern": {
           "shape": ""
          }
         },
         "name": "histogram",
         "nbinsx": 80,
         "offsetgroup": "314813",
         "orientation": "v",
         "showlegend": true,
         "type": "histogram",
         "x": [
          314813
         ],
         "xaxis": "x",
         "yaxis": "y3"
        },
        {
         "alignmentgroup": "True",
         "bingroup": "x",
         "hovertemplate": "SalePrice=%{x}<br>count=%{y}<extra></extra>",
         "legendgroup": "305000",
         "marker": {
          "color": "#1f77b4",
          "pattern": {
           "shape": ""
          }
         },
         "name": "histogram",
         "nbinsx": 80,
         "offsetgroup": "305000",
         "orientation": "v",
         "showlegend": true,
         "type": "histogram",
         "x": [
          305000
         ],
         "xaxis": "x",
         "yaxis": "y3"
        },
        {
         "alignmentgroup": "True",
         "bingroup": "x",
         "hovertemplate": "SalePrice=%{x}<br>count=%{y}<extra></extra>",
         "legendgroup": "165150",
         "marker": {
          "color": "#1f77b4",
          "pattern": {
           "shape": ""
          }
         },
         "name": "histogram",
         "nbinsx": 80,
         "offsetgroup": "165150",
         "orientation": "v",
         "showlegend": true,
         "type": "histogram",
         "x": [
          165150
         ],
         "xaxis": "x",
         "yaxis": "y3"
        },
        {
         "alignmentgroup": "True",
         "bingroup": "x",
         "hovertemplate": "SalePrice=%{x}<br>count=%{y}<extra></extra>",
         "legendgroup": "139900",
         "marker": {
          "color": "#1f77b4",
          "pattern": {
           "shape": ""
          }
         },
         "name": "histogram",
         "nbinsx": 80,
         "offsetgroup": "139900",
         "orientation": "v",
         "showlegend": true,
         "type": "histogram",
         "x": [
          139900
         ],
         "xaxis": "x",
         "yaxis": "y3"
        },
        {
         "alignmentgroup": "True",
         "bingroup": "x",
         "hovertemplate": "SalePrice=%{x}<br>count=%{y}<extra></extra>",
         "legendgroup": "209500",
         "marker": {
          "color": "#1f77b4",
          "pattern": {
           "shape": ""
          }
         },
         "name": "histogram",
         "nbinsx": 80,
         "offsetgroup": "209500",
         "orientation": "v",
         "showlegend": true,
         "type": "histogram",
         "x": [
          209500
         ],
         "xaxis": "x",
         "yaxis": "y3"
        },
        {
         "alignmentgroup": "True",
         "bingroup": "x",
         "hovertemplate": "SalePrice=%{x}<br>count=%{y}<extra></extra>",
         "legendgroup": "93000",
         "marker": {
          "color": "#1f77b4",
          "pattern": {
           "shape": ""
          }
         },
         "name": "histogram",
         "nbinsx": 80,
         "offsetgroup": "93000",
         "orientation": "v",
         "showlegend": true,
         "type": "histogram",
         "x": [
          93000,
          93000,
          93000
         ],
         "xaxis": "x",
         "yaxis": "y3"
        },
        {
         "alignmentgroup": "True",
         "bingroup": "x",
         "hovertemplate": "SalePrice=%{x}<br>count=%{y}<extra></extra>",
         "legendgroup": "264561",
         "marker": {
          "color": "#1f77b4",
          "pattern": {
           "shape": ""
          }
         },
         "name": "histogram",
         "nbinsx": 80,
         "offsetgroup": "264561",
         "orientation": "v",
         "showlegend": true,
         "type": "histogram",
         "x": [
          264561
         ],
         "xaxis": "x",
         "yaxis": "y3"
        },
        {
         "alignmentgroup": "True",
         "bingroup": "x",
         "hovertemplate": "SalePrice=%{x}<br>count=%{y}<extra></extra>",
         "legendgroup": "274000",
         "marker": {
          "color": "#1f77b4",
          "pattern": {
           "shape": ""
          }
         },
         "name": "histogram",
         "nbinsx": 80,
         "offsetgroup": "274000",
         "orientation": "v",
         "showlegend": true,
         "type": "histogram",
         "x": [
          274000
         ],
         "xaxis": "x",
         "yaxis": "y3"
        },
        {
         "alignmentgroup": "True",
         "bingroup": "x",
         "hovertemplate": "SalePrice=%{x}<br>count=%{y}<extra></extra>",
         "legendgroup": "370878",
         "marker": {
          "color": "#1f77b4",
          "pattern": {
           "shape": ""
          }
         },
         "name": "histogram",
         "nbinsx": 80,
         "offsetgroup": "370878",
         "orientation": "v",
         "showlegend": true,
         "type": "histogram",
         "x": [
          370878
         ],
         "xaxis": "x",
         "yaxis": "y3"
        },
        {
         "alignmentgroup": "True",
         "bingroup": "x",
         "hovertemplate": "SalePrice=%{x}<br>count=%{y}<extra></extra>",
         "legendgroup": "143250",
         "marker": {
          "color": "#1f77b4",
          "pattern": {
           "shape": ""
          }
         },
         "name": "histogram",
         "nbinsx": 80,
         "offsetgroup": "143250",
         "orientation": "v",
         "showlegend": true,
         "type": "histogram",
         "x": [
          143250
         ],
         "xaxis": "x",
         "yaxis": "y3"
        },
        {
         "alignmentgroup": "True",
         "bingroup": "x",
         "hovertemplate": "SalePrice=%{x}<br>count=%{y}<extra></extra>",
         "legendgroup": "98300",
         "marker": {
          "color": "#1f77b4",
          "pattern": {
           "shape": ""
          }
         },
         "name": "histogram",
         "nbinsx": 80,
         "offsetgroup": "98300",
         "orientation": "v",
         "showlegend": true,
         "type": "histogram",
         "x": [
          98300
         ],
         "xaxis": "x",
         "yaxis": "y3"
        },
        {
         "alignmentgroup": "True",
         "bingroup": "x",
         "hovertemplate": "SalePrice=%{x}<br>count=%{y}<extra></extra>",
         "legendgroup": "205950",
         "marker": {
          "color": "#1f77b4",
          "pattern": {
           "shape": ""
          }
         },
         "name": "histogram",
         "nbinsx": 80,
         "offsetgroup": "205950",
         "orientation": "v",
         "showlegend": true,
         "type": "histogram",
         "x": [
          205950
         ],
         "xaxis": "x",
         "yaxis": "y3"
        },
        {
         "alignmentgroup": "True",
         "bingroup": "x",
         "hovertemplate": "SalePrice=%{x}<br>count=%{y}<extra></extra>",
         "legendgroup": "350000",
         "marker": {
          "color": "#1f77b4",
          "pattern": {
           "shape": ""
          }
         },
         "name": "histogram",
         "nbinsx": 80,
         "offsetgroup": "350000",
         "orientation": "v",
         "showlegend": true,
         "type": "histogram",
         "x": [
          350000,
          350000
         ],
         "xaxis": "x",
         "yaxis": "y3"
        },
        {
         "alignmentgroup": "True",
         "bingroup": "x",
         "hovertemplate": "SalePrice=%{x}<br>count=%{y}<extra></extra>",
         "legendgroup": "145500",
         "marker": {
          "color": "#1f77b4",
          "pattern": {
           "shape": ""
          }
         },
         "name": "histogram",
         "nbinsx": 80,
         "offsetgroup": "145500",
         "orientation": "v",
         "showlegend": true,
         "type": "histogram",
         "x": [
          145500
         ],
         "xaxis": "x",
         "yaxis": "y3"
        },
        {
         "alignmentgroup": "True",
         "bingroup": "x",
         "hovertemplate": "SalePrice=%{x}<br>count=%{y}<extra></extra>",
         "legendgroup": "97500",
         "marker": {
          "color": "#1f77b4",
          "pattern": {
           "shape": ""
          }
         },
         "name": "histogram",
         "nbinsx": 80,
         "offsetgroup": "97500",
         "orientation": "v",
         "showlegend": true,
         "type": "histogram",
         "x": [
          97500
         ],
         "xaxis": "x",
         "yaxis": "y3"
        },
        {
         "alignmentgroup": "True",
         "bingroup": "x",
         "hovertemplate": "SalePrice=%{x}<br>count=%{y}<extra></extra>",
         "legendgroup": "197900",
         "marker": {
          "color": "#1f77b4",
          "pattern": {
           "shape": ""
          }
         },
         "name": "histogram",
         "nbinsx": 80,
         "offsetgroup": "197900",
         "orientation": "v",
         "showlegend": true,
         "type": "histogram",
         "x": [
          197900,
          197900,
          197900
         ],
         "xaxis": "x",
         "yaxis": "y3"
        },
        {
         "alignmentgroup": "True",
         "bingroup": "x",
         "hovertemplate": "SalePrice=%{x}<br>count=%{y}<extra></extra>",
         "legendgroup": "402000",
         "marker": {
          "color": "#1f77b4",
          "pattern": {
           "shape": ""
          }
         },
         "name": "histogram",
         "nbinsx": 80,
         "offsetgroup": "402000",
         "orientation": "v",
         "showlegend": true,
         "type": "histogram",
         "x": [
          402000
         ],
         "xaxis": "x",
         "yaxis": "y3"
        },
        {
         "alignmentgroup": "True",
         "bingroup": "x",
         "hovertemplate": "SalePrice=%{x}<br>count=%{y}<extra></extra>",
         "legendgroup": "423000",
         "marker": {
          "color": "#1f77b4",
          "pattern": {
           "shape": ""
          }
         },
         "name": "histogram",
         "nbinsx": 80,
         "offsetgroup": "423000",
         "orientation": "v",
         "showlegend": true,
         "type": "histogram",
         "x": [
          423000
         ],
         "xaxis": "x",
         "yaxis": "y3"
        },
        {
         "alignmentgroup": "True",
         "bingroup": "x",
         "hovertemplate": "SalePrice=%{x}<br>count=%{y}<extra></extra>",
         "legendgroup": "230500",
         "marker": {
          "color": "#1f77b4",
          "pattern": {
           "shape": ""
          }
         },
         "name": "histogram",
         "nbinsx": 80,
         "offsetgroup": "230500",
         "orientation": "v",
         "showlegend": true,
         "type": "histogram",
         "x": [
          230500
         ],
         "xaxis": "x",
         "yaxis": "y3"
        },
        {
         "alignmentgroup": "True",
         "bingroup": "x",
         "hovertemplate": "SalePrice=%{x}<br>count=%{y}<extra></extra>",
         "legendgroup": "173500",
         "marker": {
          "color": "#1f77b4",
          "pattern": {
           "shape": ""
          }
         },
         "name": "histogram",
         "nbinsx": 80,
         "offsetgroup": "173500",
         "orientation": "v",
         "showlegend": true,
         "type": "histogram",
         "x": [
          173500
         ],
         "xaxis": "x",
         "yaxis": "y3"
        },
        {
         "alignmentgroup": "True",
         "bingroup": "x",
         "hovertemplate": "SalePrice=%{x}<br>count=%{y}<extra></extra>",
         "legendgroup": "103600",
         "marker": {
          "color": "#1f77b4",
          "pattern": {
           "shape": ""
          }
         },
         "name": "histogram",
         "nbinsx": 80,
         "offsetgroup": "103600",
         "orientation": "v",
         "showlegend": true,
         "type": "histogram",
         "x": [
          103600
         ],
         "xaxis": "x",
         "yaxis": "y3"
        },
        {
         "alignmentgroup": "True",
         "bingroup": "x",
         "hovertemplate": "SalePrice=%{x}<br>count=%{y}<extra></extra>",
         "legendgroup": "257500",
         "marker": {
          "color": "#1f77b4",
          "pattern": {
           "shape": ""
          }
         },
         "name": "histogram",
         "nbinsx": 80,
         "offsetgroup": "257500",
         "orientation": "v",
         "showlegend": true,
         "type": "histogram",
         "x": [
          257500
         ],
         "xaxis": "x",
         "yaxis": "y3"
        },
        {
         "alignmentgroup": "True",
         "bingroup": "x",
         "hovertemplate": "SalePrice=%{x}<br>count=%{y}<extra></extra>",
         "legendgroup": "372500",
         "marker": {
          "color": "#1f77b4",
          "pattern": {
           "shape": ""
          }
         },
         "name": "histogram",
         "nbinsx": 80,
         "offsetgroup": "372500",
         "orientation": "v",
         "showlegend": true,
         "type": "histogram",
         "x": [
          372500
         ],
         "xaxis": "x",
         "yaxis": "y3"
        },
        {
         "alignmentgroup": "True",
         "bingroup": "x",
         "hovertemplate": "SalePrice=%{x}<br>count=%{y}<extra></extra>",
         "legendgroup": "159434",
         "marker": {
          "color": "#1f77b4",
          "pattern": {
           "shape": ""
          }
         },
         "name": "histogram",
         "nbinsx": 80,
         "offsetgroup": "159434",
         "orientation": "v",
         "showlegend": true,
         "type": "histogram",
         "x": [
          159434
         ],
         "xaxis": "x",
         "yaxis": "y3"
        },
        {
         "alignmentgroup": "True",
         "bingroup": "x",
         "hovertemplate": "SalePrice=%{x}<br>count=%{y}<extra></extra>",
         "legendgroup": "285000",
         "marker": {
          "color": "#1f77b4",
          "pattern": {
           "shape": ""
          }
         },
         "name": "histogram",
         "nbinsx": 80,
         "offsetgroup": "285000",
         "orientation": "v",
         "showlegend": true,
         "type": "histogram",
         "x": [
          285000,
          285000,
          285000
         ],
         "xaxis": "x",
         "yaxis": "y3"
        },
        {
         "alignmentgroup": "True",
         "bingroup": "x",
         "hovertemplate": "SalePrice=%{x}<br>count=%{y}<extra></extra>",
         "legendgroup": "227875",
         "marker": {
          "color": "#1f77b4",
          "pattern": {
           "shape": ""
          }
         },
         "name": "histogram",
         "nbinsx": 80,
         "offsetgroup": "227875",
         "orientation": "v",
         "showlegend": true,
         "type": "histogram",
         "x": [
          227875
         ],
         "xaxis": "x",
         "yaxis": "y3"
        },
        {
         "alignmentgroup": "True",
         "bingroup": "x",
         "hovertemplate": "SalePrice=%{x}<br>count=%{y}<extra></extra>",
         "legendgroup": "148800",
         "marker": {
          "color": "#1f77b4",
          "pattern": {
           "shape": ""
          }
         },
         "name": "histogram",
         "nbinsx": 80,
         "offsetgroup": "148800",
         "orientation": "v",
         "showlegend": true,
         "type": "histogram",
         "x": [
          148800
         ],
         "xaxis": "x",
         "yaxis": "y3"
        },
        {
         "alignmentgroup": "True",
         "bingroup": "x",
         "hovertemplate": "SalePrice=%{x}<br>count=%{y}<extra></extra>",
         "legendgroup": "392000",
         "marker": {
          "color": "#1f77b4",
          "pattern": {
           "shape": ""
          }
         },
         "name": "histogram",
         "nbinsx": 80,
         "offsetgroup": "392000",
         "orientation": "v",
         "showlegend": true,
         "type": "histogram",
         "x": [
          392000
         ],
         "xaxis": "x",
         "yaxis": "y3"
        },
        {
         "alignmentgroup": "True",
         "bingroup": "x",
         "hovertemplate": "SalePrice=%{x}<br>count=%{y}<extra></extra>",
         "legendgroup": "194700",
         "marker": {
          "color": "#1f77b4",
          "pattern": {
           "shape": ""
          }
         },
         "name": "histogram",
         "nbinsx": 80,
         "offsetgroup": "194700",
         "orientation": "v",
         "showlegend": true,
         "type": "histogram",
         "x": [
          194700
         ],
         "xaxis": "x",
         "yaxis": "y3"
        },
        {
         "alignmentgroup": "True",
         "bingroup": "x",
         "hovertemplate": "SalePrice=%{x}<br>count=%{y}<extra></extra>",
         "legendgroup": "755000",
         "marker": {
          "color": "#1f77b4",
          "pattern": {
           "shape": ""
          }
         },
         "name": "histogram",
         "nbinsx": 80,
         "offsetgroup": "755000",
         "orientation": "v",
         "showlegend": true,
         "type": "histogram",
         "x": [
          755000
         ],
         "xaxis": "x",
         "yaxis": "y3"
        },
        {
         "alignmentgroup": "True",
         "bingroup": "x",
         "hovertemplate": "SalePrice=%{x}<br>count=%{y}<extra></extra>",
         "legendgroup": "335000",
         "marker": {
          "color": "#1f77b4",
          "pattern": {
           "shape": ""
          }
         },
         "name": "histogram",
         "nbinsx": 80,
         "offsetgroup": "335000",
         "orientation": "v",
         "showlegend": true,
         "type": "histogram",
         "x": [
          335000,
          335000,
          335000
         ],
         "xaxis": "x",
         "yaxis": "y3"
        },
        {
         "alignmentgroup": "True",
         "bingroup": "x",
         "hovertemplate": "SalePrice=%{x}<br>count=%{y}<extra></extra>",
         "legendgroup": "108480",
         "marker": {
          "color": "#1f77b4",
          "pattern": {
           "shape": ""
          }
         },
         "name": "histogram",
         "nbinsx": 80,
         "offsetgroup": "108480",
         "orientation": "v",
         "showlegend": true,
         "type": "histogram",
         "x": [
          108480
         ],
         "xaxis": "x",
         "yaxis": "y3"
        },
        {
         "alignmentgroup": "True",
         "bingroup": "x",
         "hovertemplate": "SalePrice=%{x}<br>count=%{y}<extra></extra>",
         "legendgroup": "141500",
         "marker": {
          "color": "#1f77b4",
          "pattern": {
           "shape": ""
          }
         },
         "name": "histogram",
         "nbinsx": 80,
         "offsetgroup": "141500",
         "orientation": "v",
         "showlegend": true,
         "type": "histogram",
         "x": [
          141500
         ],
         "xaxis": "x",
         "yaxis": "y3"
        },
        {
         "alignmentgroup": "True",
         "bingroup": "x",
         "hovertemplate": "SalePrice=%{x}<br>count=%{y}<extra></extra>",
         "legendgroup": "89000",
         "marker": {
          "color": "#1f77b4",
          "pattern": {
           "shape": ""
          }
         },
         "name": "histogram",
         "nbinsx": 80,
         "offsetgroup": "89000",
         "orientation": "v",
         "showlegend": true,
         "type": "histogram",
         "x": [
          89000
         ],
         "xaxis": "x",
         "yaxis": "y3"
        },
        {
         "alignmentgroup": "True",
         "bingroup": "x",
         "hovertemplate": "SalePrice=%{x}<br>count=%{y}<extra></extra>",
         "legendgroup": "123500",
         "marker": {
          "color": "#1f77b4",
          "pattern": {
           "shape": ""
          }
         },
         "name": "histogram",
         "nbinsx": 80,
         "offsetgroup": "123500",
         "orientation": "v",
         "showlegend": true,
         "type": "histogram",
         "x": [
          123500
         ],
         "xaxis": "x",
         "yaxis": "y3"
        },
        {
         "alignmentgroup": "True",
         "bingroup": "x",
         "hovertemplate": "SalePrice=%{x}<br>count=%{y}<extra></extra>",
         "legendgroup": "138500",
         "marker": {
          "color": "#1f77b4",
          "pattern": {
           "shape": ""
          }
         },
         "name": "histogram",
         "nbinsx": 80,
         "offsetgroup": "138500",
         "orientation": "v",
         "showlegend": true,
         "type": "histogram",
         "x": [
          138500,
          138500
         ],
         "xaxis": "x",
         "yaxis": "y3"
        },
        {
         "alignmentgroup": "True",
         "bingroup": "x",
         "hovertemplate": "SalePrice=%{x}<br>count=%{y}<extra></extra>",
         "legendgroup": "196000",
         "marker": {
          "color": "#1f77b4",
          "pattern": {
           "shape": ""
          }
         },
         "name": "histogram",
         "nbinsx": 80,
         "offsetgroup": "196000",
         "orientation": "v",
         "showlegend": true,
         "type": "histogram",
         "x": [
          196000,
          196000,
          196000
         ],
         "xaxis": "x",
         "yaxis": "y3"
        },
        {
         "alignmentgroup": "True",
         "bingroup": "x",
         "hovertemplate": "SalePrice=%{x}<br>count=%{y}<extra></extra>",
         "legendgroup": "312500",
         "marker": {
          "color": "#1f77b4",
          "pattern": {
           "shape": ""
          }
         },
         "name": "histogram",
         "nbinsx": 80,
         "offsetgroup": "312500",
         "orientation": "v",
         "showlegend": true,
         "type": "histogram",
         "x": [
          312500
         ],
         "xaxis": "x",
         "yaxis": "y3"
        },
        {
         "alignmentgroup": "True",
         "bingroup": "x",
         "hovertemplate": "SalePrice=%{x}<br>count=%{y}<extra></extra>",
         "legendgroup": "361919",
         "marker": {
          "color": "#1f77b4",
          "pattern": {
           "shape": ""
          }
         },
         "name": "histogram",
         "nbinsx": 80,
         "offsetgroup": "361919",
         "orientation": "v",
         "showlegend": true,
         "type": "histogram",
         "x": [
          361919
         ],
         "xaxis": "x",
         "yaxis": "y3"
        },
        {
         "alignmentgroup": "True",
         "bingroup": "x",
         "hovertemplate": "SalePrice=%{x}<br>count=%{y}<extra></extra>",
         "legendgroup": "213000",
         "marker": {
          "color": "#1f77b4",
          "pattern": {
           "shape": ""
          }
         },
         "name": "histogram",
         "nbinsx": 80,
         "offsetgroup": "213000",
         "orientation": "v",
         "showlegend": true,
         "type": "histogram",
         "x": [
          213000,
          213000,
          213000
         ],
         "xaxis": "x",
         "yaxis": "y3"
        },
        {
         "alignmentgroup": "True",
         "bingroup": "x",
         "hovertemplate": "SalePrice=%{x}<br>count=%{y}<extra></extra>",
         "legendgroup": "55000",
         "marker": {
          "color": "#1f77b4",
          "pattern": {
           "shape": ""
          }
         },
         "name": "histogram",
         "nbinsx": 80,
         "offsetgroup": "55000",
         "orientation": "v",
         "showlegend": true,
         "type": "histogram",
         "x": [
          55000,
          55000
         ],
         "xaxis": "x",
         "yaxis": "y3"
        },
        {
         "alignmentgroup": "True",
         "bingroup": "x",
         "hovertemplate": "SalePrice=%{x}<br>count=%{y}<extra></extra>",
         "legendgroup": "302000",
         "marker": {
          "color": "#1f77b4",
          "pattern": {
           "shape": ""
          }
         },
         "name": "histogram",
         "nbinsx": 80,
         "offsetgroup": "302000",
         "orientation": "v",
         "showlegend": true,
         "type": "histogram",
         "x": [
          302000,
          302000
         ],
         "xaxis": "x",
         "yaxis": "y3"
        },
        {
         "alignmentgroup": "True",
         "bingroup": "x",
         "hovertemplate": "SalePrice=%{x}<br>count=%{y}<extra></extra>",
         "legendgroup": "254000",
         "marker": {
          "color": "#1f77b4",
          "pattern": {
           "shape": ""
          }
         },
         "name": "histogram",
         "nbinsx": 80,
         "offsetgroup": "254000",
         "orientation": "v",
         "showlegend": true,
         "type": "histogram",
         "x": [
          254000
         ],
         "xaxis": "x",
         "yaxis": "y3"
        },
        {
         "alignmentgroup": "True",
         "bingroup": "x",
         "hovertemplate": "SalePrice=%{x}<br>count=%{y}<extra></extra>",
         "legendgroup": "179540",
         "marker": {
          "color": "#1f77b4",
          "pattern": {
           "shape": ""
          }
         },
         "name": "histogram",
         "nbinsx": 80,
         "offsetgroup": "179540",
         "orientation": "v",
         "showlegend": true,
         "type": "histogram",
         "x": [
          179540
         ],
         "xaxis": "x",
         "yaxis": "y3"
        },
        {
         "alignmentgroup": "True",
         "bingroup": "x",
         "hovertemplate": "SalePrice=%{x}<br>count=%{y}<extra></extra>",
         "legendgroup": "52000",
         "marker": {
          "color": "#1f77b4",
          "pattern": {
           "shape": ""
          }
         },
         "name": "histogram",
         "nbinsx": 80,
         "offsetgroup": "52000",
         "orientation": "v",
         "showlegend": true,
         "type": "histogram",
         "x": [
          52000
         ],
         "xaxis": "x",
         "yaxis": "y3"
        },
        {
         "alignmentgroup": "True",
         "bingroup": "x",
         "hovertemplate": "SalePrice=%{x}<br>count=%{y}<extra></extra>",
         "legendgroup": "102776",
         "marker": {
          "color": "#1f77b4",
          "pattern": {
           "shape": ""
          }
         },
         "name": "histogram",
         "nbinsx": 80,
         "offsetgroup": "102776",
         "orientation": "v",
         "showlegend": true,
         "type": "histogram",
         "x": [
          102776
         ],
         "xaxis": "x",
         "yaxis": "y3"
        },
        {
         "alignmentgroup": "True",
         "bingroup": "x",
         "hovertemplate": "SalePrice=%{x}<br>count=%{y}<extra></extra>",
         "legendgroup": "189000",
         "marker": {
          "color": "#1f77b4",
          "pattern": {
           "shape": ""
          }
         },
         "name": "histogram",
         "nbinsx": 80,
         "offsetgroup": "189000",
         "orientation": "v",
         "showlegend": true,
         "type": "histogram",
         "x": [
          189000,
          189000,
          189000,
          189000,
          189000,
          189000
         ],
         "xaxis": "x",
         "yaxis": "y3"
        },
        {
         "alignmentgroup": "True",
         "bingroup": "x",
         "hovertemplate": "SalePrice=%{x}<br>count=%{y}<extra></extra>",
         "legendgroup": "130500",
         "marker": {
          "color": "#1f77b4",
          "pattern": {
           "shape": ""
          }
         },
         "name": "histogram",
         "nbinsx": 80,
         "offsetgroup": "130500",
         "orientation": "v",
         "showlegend": true,
         "type": "histogram",
         "x": [
          130500,
          130500,
          130500
         ],
         "xaxis": "x",
         "yaxis": "y3"
        },
        {
         "alignmentgroup": "True",
         "bingroup": "x",
         "hovertemplate": "SalePrice=%{x}<br>count=%{y}<extra></extra>",
         "legendgroup": "159500",
         "marker": {
          "color": "#1f77b4",
          "pattern": {
           "shape": ""
          }
         },
         "name": "histogram",
         "nbinsx": 80,
         "offsetgroup": "159500",
         "orientation": "v",
         "showlegend": true,
         "type": "histogram",
         "x": [
          159500,
          159500,
          159500
         ],
         "xaxis": "x",
         "yaxis": "y3"
        },
        {
         "alignmentgroup": "True",
         "bingroup": "x",
         "hovertemplate": "SalePrice=%{x}<br>count=%{y}<extra></extra>",
         "legendgroup": "341000",
         "marker": {
          "color": "#1f77b4",
          "pattern": {
           "shape": ""
          }
         },
         "name": "histogram",
         "nbinsx": 80,
         "offsetgroup": "341000",
         "orientation": "v",
         "showlegend": true,
         "type": "histogram",
         "x": [
          341000
         ],
         "xaxis": "x",
         "yaxis": "y3"
        },
        {
         "alignmentgroup": "True",
         "bingroup": "x",
         "hovertemplate": "SalePrice=%{x}<br>count=%{y}<extra></extra>",
         "legendgroup": "103000",
         "marker": {
          "color": "#1f77b4",
          "pattern": {
           "shape": ""
          }
         },
         "name": "histogram",
         "nbinsx": 80,
         "offsetgroup": "103000",
         "orientation": "v",
         "showlegend": true,
         "type": "histogram",
         "x": [
          103000
         ],
         "xaxis": "x",
         "yaxis": "y3"
        },
        {
         "alignmentgroup": "True",
         "bingroup": "x",
         "hovertemplate": "SalePrice=%{x}<br>count=%{y}<extra></extra>",
         "legendgroup": "236500",
         "marker": {
          "color": "#1f77b4",
          "pattern": {
           "shape": ""
          }
         },
         "name": "histogram",
         "nbinsx": 80,
         "offsetgroup": "236500",
         "orientation": "v",
         "showlegend": true,
         "type": "histogram",
         "x": [
          236500,
          236500
         ],
         "xaxis": "x",
         "yaxis": "y3"
        },
        {
         "alignmentgroup": "True",
         "bingroup": "x",
         "hovertemplate": "SalePrice=%{x}<br>count=%{y}<extra></extra>",
         "legendgroup": "131400",
         "marker": {
          "color": "#1f77b4",
          "pattern": {
           "shape": ""
          }
         },
         "name": "histogram",
         "nbinsx": 80,
         "offsetgroup": "131400",
         "orientation": "v",
         "showlegend": true,
         "type": "histogram",
         "x": [
          131400
         ],
         "xaxis": "x",
         "yaxis": "y3"
        },
        {
         "alignmentgroup": "True",
         "bingroup": "x",
         "hovertemplate": "SalePrice=%{x}<br>count=%{y}<extra></extra>",
         "legendgroup": "93500",
         "marker": {
          "color": "#1f77b4",
          "pattern": {
           "shape": ""
          }
         },
         "name": "histogram",
         "nbinsx": 80,
         "offsetgroup": "93500",
         "orientation": "v",
         "showlegend": true,
         "type": "histogram",
         "x": [
          93500,
          93500
         ],
         "xaxis": "x",
         "yaxis": "y3"
        },
        {
         "alignmentgroup": "True",
         "bingroup": "x",
         "hovertemplate": "SalePrice=%{x}<br>count=%{y}<extra></extra>",
         "legendgroup": "239900",
         "marker": {
          "color": "#1f77b4",
          "pattern": {
           "shape": ""
          }
         },
         "name": "histogram",
         "nbinsx": 80,
         "offsetgroup": "239900",
         "orientation": "v",
         "showlegend": true,
         "type": "histogram",
         "x": [
          239900
         ],
         "xaxis": "x",
         "yaxis": "y3"
        },
        {
         "alignmentgroup": "True",
         "bingroup": "x",
         "hovertemplate": "SalePrice=%{x}<br>count=%{y}<extra></extra>",
         "legendgroup": "299800",
         "marker": {
          "color": "#1f77b4",
          "pattern": {
           "shape": ""
          }
         },
         "name": "histogram",
         "nbinsx": 80,
         "offsetgroup": "299800",
         "orientation": "v",
         "showlegend": true,
         "type": "histogram",
         "x": [
          299800
         ],
         "xaxis": "x",
         "yaxis": "y3"
        },
        {
         "alignmentgroup": "True",
         "bingroup": "x",
         "hovertemplate": "SalePrice=%{x}<br>count=%{y}<extra></extra>",
         "legendgroup": "236000",
         "marker": {
          "color": "#1f77b4",
          "pattern": {
           "shape": ""
          }
         },
         "name": "histogram",
         "nbinsx": 80,
         "offsetgroup": "236000",
         "orientation": "v",
         "showlegend": true,
         "type": "histogram",
         "x": [
          236000,
          236000
         ],
         "xaxis": "x",
         "yaxis": "y3"
        },
        {
         "alignmentgroup": "True",
         "bingroup": "x",
         "hovertemplate": "SalePrice=%{x}<br>count=%{y}<extra></extra>",
         "legendgroup": "265979",
         "marker": {
          "color": "#1f77b4",
          "pattern": {
           "shape": ""
          }
         },
         "name": "histogram",
         "nbinsx": 80,
         "offsetgroup": "265979",
         "orientation": "v",
         "showlegend": true,
         "type": "histogram",
         "x": [
          265979
         ],
         "xaxis": "x",
         "yaxis": "y3"
        },
        {
         "alignmentgroup": "True",
         "bingroup": "x",
         "hovertemplate": "SalePrice=%{x}<br>count=%{y}<extra></extra>",
         "legendgroup": "260400",
         "marker": {
          "color": "#1f77b4",
          "pattern": {
           "shape": ""
          }
         },
         "name": "histogram",
         "nbinsx": 80,
         "offsetgroup": "260400",
         "orientation": "v",
         "showlegend": true,
         "type": "histogram",
         "x": [
          260400
         ],
         "xaxis": "x",
         "yaxis": "y3"
        },
        {
         "alignmentgroup": "True",
         "bingroup": "x",
         "hovertemplate": "SalePrice=%{x}<br>count=%{y}<extra></extra>",
         "legendgroup": "275500",
         "marker": {
          "color": "#1f77b4",
          "pattern": {
           "shape": ""
          }
         },
         "name": "histogram",
         "nbinsx": 80,
         "offsetgroup": "275500",
         "orientation": "v",
         "showlegend": true,
         "type": "histogram",
         "x": [
          275500
         ],
         "xaxis": "x",
         "yaxis": "y3"
        },
        {
         "alignmentgroup": "True",
         "bingroup": "x",
         "hovertemplate": "SalePrice=%{x}<br>count=%{y}<extra></extra>",
         "legendgroup": "158900",
         "marker": {
          "color": "#1f77b4",
          "pattern": {
           "shape": ""
          }
         },
         "name": "histogram",
         "nbinsx": 80,
         "offsetgroup": "158900",
         "orientation": "v",
         "showlegend": true,
         "type": "histogram",
         "x": [
          158900
         ],
         "xaxis": "x",
         "yaxis": "y3"
        },
        {
         "alignmentgroup": "True",
         "bingroup": "x",
         "hovertemplate": "SalePrice=%{x}<br>count=%{y}<extra></extra>",
         "legendgroup": "179400",
         "marker": {
          "color": "#1f77b4",
          "pattern": {
           "shape": ""
          }
         },
         "name": "histogram",
         "nbinsx": 80,
         "offsetgroup": "179400",
         "orientation": "v",
         "showlegend": true,
         "type": "histogram",
         "x": [
          179400
         ],
         "xaxis": "x",
         "yaxis": "y3"
        },
        {
         "alignmentgroup": "True",
         "bingroup": "x",
         "hovertemplate": "SalePrice=%{x}<br>count=%{y}<extra></extra>",
         "legendgroup": "215200",
         "marker": {
          "color": "#1f77b4",
          "pattern": {
           "shape": ""
          }
         },
         "name": "histogram",
         "nbinsx": 80,
         "offsetgroup": "215200",
         "orientation": "v",
         "showlegend": true,
         "type": "histogram",
         "x": [
          215200
         ],
         "xaxis": "x",
         "yaxis": "y3"
        },
        {
         "alignmentgroup": "True",
         "bingroup": "x",
         "hovertemplate": "SalePrice=%{x}<br>count=%{y}<extra></extra>",
         "legendgroup": "337000",
         "marker": {
          "color": "#1f77b4",
          "pattern": {
           "shape": ""
          }
         },
         "name": "histogram",
         "nbinsx": 80,
         "offsetgroup": "337000",
         "orientation": "v",
         "showlegend": true,
         "type": "histogram",
         "x": [
          337000
         ],
         "xaxis": "x",
         "yaxis": "y3"
        },
        {
         "alignmentgroup": "True",
         "bingroup": "x",
         "hovertemplate": "SalePrice=%{x}<br>count=%{y}<extra></extra>",
         "legendgroup": "264132",
         "marker": {
          "color": "#1f77b4",
          "pattern": {
           "shape": ""
          }
         },
         "name": "histogram",
         "nbinsx": 80,
         "offsetgroup": "264132",
         "orientation": "v",
         "showlegend": true,
         "type": "histogram",
         "x": [
          264132
         ],
         "xaxis": "x",
         "yaxis": "y3"
        },
        {
         "alignmentgroup": "True",
         "bingroup": "x",
         "hovertemplate": "SalePrice=%{x}<br>count=%{y}<extra></extra>",
         "legendgroup": "216837",
         "marker": {
          "color": "#1f77b4",
          "pattern": {
           "shape": ""
          }
         },
         "name": "histogram",
         "nbinsx": 80,
         "offsetgroup": "216837",
         "orientation": "v",
         "showlegend": true,
         "type": "histogram",
         "x": [
          216837
         ],
         "xaxis": "x",
         "yaxis": "y3"
        },
        {
         "alignmentgroup": "True",
         "bingroup": "x",
         "hovertemplate": "SalePrice=%{x}<br>count=%{y}<extra></extra>",
         "legendgroup": "538000",
         "marker": {
          "color": "#1f77b4",
          "pattern": {
           "shape": ""
          }
         },
         "name": "histogram",
         "nbinsx": 80,
         "offsetgroup": "538000",
         "orientation": "v",
         "showlegend": true,
         "type": "histogram",
         "x": [
          538000
         ],
         "xaxis": "x",
         "yaxis": "y3"
        },
        {
         "alignmentgroup": "True",
         "bingroup": "x",
         "hovertemplate": "SalePrice=%{x}<br>count=%{y}<extra></extra>",
         "legendgroup": "134900",
         "marker": {
          "color": "#1f77b4",
          "pattern": {
           "shape": ""
          }
         },
         "name": "histogram",
         "nbinsx": 80,
         "offsetgroup": "134900",
         "orientation": "v",
         "showlegend": true,
         "type": "histogram",
         "x": [
          134900,
          134900
         ],
         "xaxis": "x",
         "yaxis": "y3"
        },
        {
         "alignmentgroup": "True",
         "bingroup": "x",
         "hovertemplate": "SalePrice=%{x}<br>count=%{y}<extra></extra>",
         "legendgroup": "102000",
         "marker": {
          "color": "#1f77b4",
          "pattern": {
           "shape": ""
          }
         },
         "name": "histogram",
         "nbinsx": 80,
         "offsetgroup": "102000",
         "orientation": "v",
         "showlegend": true,
         "type": "histogram",
         "x": [
          102000,
          102000,
          102000
         ],
         "xaxis": "x",
         "yaxis": "y3"
        },
        {
         "alignmentgroup": "True",
         "bingroup": "x",
         "hovertemplate": "SalePrice=%{x}<br>count=%{y}<extra></extra>",
         "legendgroup": "395000",
         "marker": {
          "color": "#1f77b4",
          "pattern": {
           "shape": ""
          }
         },
         "name": "histogram",
         "nbinsx": 80,
         "offsetgroup": "395000",
         "orientation": "v",
         "showlegend": true,
         "type": "histogram",
         "x": [
          395000
         ],
         "xaxis": "x",
         "yaxis": "y3"
        },
        {
         "alignmentgroup": "True",
         "bingroup": "x",
         "hovertemplate": "SalePrice=%{x}<br>count=%{y}<extra></extra>",
         "legendgroup": "221500",
         "marker": {
          "color": "#1f77b4",
          "pattern": {
           "shape": ""
          }
         },
         "name": "histogram",
         "nbinsx": 80,
         "offsetgroup": "221500",
         "orientation": "v",
         "showlegend": true,
         "type": "histogram",
         "x": [
          221500
         ],
         "xaxis": "x",
         "yaxis": "y3"
        },
        {
         "alignmentgroup": "True",
         "bingroup": "x",
         "hovertemplate": "SalePrice=%{x}<br>count=%{y}<extra></extra>",
         "legendgroup": "175900",
         "marker": {
          "color": "#1f77b4",
          "pattern": {
           "shape": ""
          }
         },
         "name": "histogram",
         "nbinsx": 80,
         "offsetgroup": "175900",
         "orientation": "v",
         "showlegend": true,
         "type": "histogram",
         "x": [
          175900,
          175900
         ],
         "xaxis": "x",
         "yaxis": "y3"
        },
        {
         "alignmentgroup": "True",
         "bingroup": "x",
         "hovertemplate": "SalePrice=%{x}<br>count=%{y}<extra></extra>",
         "legendgroup": "187100",
         "marker": {
          "color": "#1f77b4",
          "pattern": {
           "shape": ""
          }
         },
         "name": "histogram",
         "nbinsx": 80,
         "offsetgroup": "187100",
         "orientation": "v",
         "showlegend": true,
         "type": "histogram",
         "x": [
          187100
         ],
         "xaxis": "x",
         "yaxis": "y3"
        },
        {
         "alignmentgroup": "True",
         "bingroup": "x",
         "hovertemplate": "SalePrice=%{x}<br>count=%{y}<extra></extra>",
         "legendgroup": "161500",
         "marker": {
          "color": "#1f77b4",
          "pattern": {
           "shape": ""
          }
         },
         "name": "histogram",
         "nbinsx": 80,
         "offsetgroup": "161500",
         "orientation": "v",
         "showlegend": true,
         "type": "histogram",
         "x": [
          161500,
          161500
         ],
         "xaxis": "x",
         "yaxis": "y3"
        },
        {
         "alignmentgroup": "True",
         "bingroup": "x",
         "hovertemplate": "SalePrice=%{x}<br>count=%{y}<extra></extra>",
         "legendgroup": "233000",
         "marker": {
          "color": "#1f77b4",
          "pattern": {
           "shape": ""
          }
         },
         "name": "histogram",
         "nbinsx": 80,
         "offsetgroup": "233000",
         "orientation": "v",
         "showlegend": true,
         "type": "histogram",
         "x": [
          233000
         ],
         "xaxis": "x",
         "yaxis": "y3"
        },
        {
         "alignmentgroup": "True",
         "bingroup": "x",
         "hovertemplate": "SalePrice=%{x}<br>count=%{y}<extra></extra>",
         "legendgroup": "107900",
         "marker": {
          "color": "#1f77b4",
          "pattern": {
           "shape": ""
          }
         },
         "name": "histogram",
         "nbinsx": 80,
         "offsetgroup": "107900",
         "orientation": "v",
         "showlegend": true,
         "type": "histogram",
         "x": [
          107900
         ],
         "xaxis": "x",
         "yaxis": "y3"
        },
        {
         "alignmentgroup": "True",
         "bingroup": "x",
         "hovertemplate": "SalePrice=%{x}<br>count=%{y}<extra></extra>",
         "legendgroup": "160200",
         "marker": {
          "color": "#1f77b4",
          "pattern": {
           "shape": ""
          }
         },
         "name": "histogram",
         "nbinsx": 80,
         "offsetgroup": "160200",
         "orientation": "v",
         "showlegend": true,
         "type": "histogram",
         "x": [
          160200
         ],
         "xaxis": "x",
         "yaxis": "y3"
        },
        {
         "alignmentgroup": "True",
         "bingroup": "x",
         "hovertemplate": "SalePrice=%{x}<br>count=%{y}<extra></extra>",
         "legendgroup": "146800",
         "marker": {
          "color": "#1f77b4",
          "pattern": {
           "shape": ""
          }
         },
         "name": "histogram",
         "nbinsx": 80,
         "offsetgroup": "146800",
         "orientation": "v",
         "showlegend": true,
         "type": "histogram",
         "x": [
          146800
         ],
         "xaxis": "x",
         "yaxis": "y3"
        },
        {
         "alignmentgroup": "True",
         "bingroup": "x",
         "hovertemplate": "SalePrice=%{x}<br>count=%{y}<extra></extra>",
         "legendgroup": "269790",
         "marker": {
          "color": "#1f77b4",
          "pattern": {
           "shape": ""
          }
         },
         "name": "histogram",
         "nbinsx": 80,
         "offsetgroup": "269790",
         "orientation": "v",
         "showlegend": true,
         "type": "histogram",
         "x": [
          269790
         ],
         "xaxis": "x",
         "yaxis": "y3"
        },
        {
         "alignmentgroup": "True",
         "bingroup": "x",
         "hovertemplate": "SalePrice=%{x}<br>count=%{y}<extra></extra>",
         "legendgroup": "143500",
         "marker": {
          "color": "#1f77b4",
          "pattern": {
           "shape": ""
          }
         },
         "name": "histogram",
         "nbinsx": 80,
         "offsetgroup": "143500",
         "orientation": "v",
         "showlegend": true,
         "type": "histogram",
         "x": [
          143500,
          143500
         ],
         "xaxis": "x",
         "yaxis": "y3"
        },
        {
         "alignmentgroup": "True",
         "bingroup": "x",
         "hovertemplate": "SalePrice=%{x}<br>count=%{y}<extra></extra>",
         "legendgroup": "485000",
         "marker": {
          "color": "#1f77b4",
          "pattern": {
           "shape": ""
          }
         },
         "name": "histogram",
         "nbinsx": 80,
         "offsetgroup": "485000",
         "orientation": "v",
         "showlegend": true,
         "type": "histogram",
         "x": [
          485000
         ],
         "xaxis": "x",
         "yaxis": "y3"
        },
        {
         "alignmentgroup": "True",
         "bingroup": "x",
         "hovertemplate": "SalePrice=%{x}<br>count=%{y}<extra></extra>",
         "legendgroup": "582933",
         "marker": {
          "color": "#1f77b4",
          "pattern": {
           "shape": ""
          }
         },
         "name": "histogram",
         "nbinsx": 80,
         "offsetgroup": "582933",
         "orientation": "v",
         "showlegend": true,
         "type": "histogram",
         "x": [
          582933
         ],
         "xaxis": "x",
         "yaxis": "y3"
        },
        {
         "alignmentgroup": "True",
         "bingroup": "x",
         "hovertemplate": "SalePrice=%{x}<br>count=%{y}<extra></extra>",
         "legendgroup": "227680",
         "marker": {
          "color": "#1f77b4",
          "pattern": {
           "shape": ""
          }
         },
         "name": "histogram",
         "nbinsx": 80,
         "offsetgroup": "227680",
         "orientation": "v",
         "showlegend": true,
         "type": "histogram",
         "x": [
          227680
         ],
         "xaxis": "x",
         "yaxis": "y3"
        },
        {
         "alignmentgroup": "True",
         "bingroup": "x",
         "hovertemplate": "SalePrice=%{x}<br>count=%{y}<extra></extra>",
         "legendgroup": "135500",
         "marker": {
          "color": "#1f77b4",
          "pattern": {
           "shape": ""
          }
         },
         "name": "histogram",
         "nbinsx": 80,
         "offsetgroup": "135500",
         "orientation": "v",
         "showlegend": true,
         "type": "histogram",
         "x": [
          135500,
          135500
         ],
         "xaxis": "x",
         "yaxis": "y3"
        },
        {
         "alignmentgroup": "True",
         "bingroup": "x",
         "hovertemplate": "SalePrice=%{x}<br>count=%{y}<extra></extra>",
         "legendgroup": "159950",
         "marker": {
          "color": "#1f77b4",
          "pattern": {
           "shape": ""
          }
         },
         "name": "histogram",
         "nbinsx": 80,
         "offsetgroup": "159950",
         "orientation": "v",
         "showlegend": true,
         "type": "histogram",
         "x": [
          159950
         ],
         "xaxis": "x",
         "yaxis": "y3"
        },
        {
         "alignmentgroup": "True",
         "bingroup": "x",
         "hovertemplate": "SalePrice=%{x}<br>count=%{y}<extra></extra>",
         "legendgroup": "144500",
         "marker": {
          "color": "#1f77b4",
          "pattern": {
           "shape": ""
          }
         },
         "name": "histogram",
         "nbinsx": 80,
         "offsetgroup": "144500",
         "orientation": "v",
         "showlegend": true,
         "type": "histogram",
         "x": [
          144500,
          144500
         ],
         "xaxis": "x",
         "yaxis": "y3"
        },
        {
         "alignmentgroup": "True",
         "bingroup": "x",
         "hovertemplate": "SalePrice=%{x}<br>count=%{y}<extra></extra>",
         "legendgroup": "55993",
         "marker": {
          "color": "#1f77b4",
          "pattern": {
           "shape": ""
          }
         },
         "name": "histogram",
         "nbinsx": 80,
         "offsetgroup": "55993",
         "orientation": "v",
         "showlegend": true,
         "type": "histogram",
         "x": [
          55993
         ],
         "xaxis": "x",
         "yaxis": "y3"
        },
        {
         "alignmentgroup": "True",
         "bingroup": "x",
         "hovertemplate": "SalePrice=%{x}<br>count=%{y}<extra></extra>",
         "legendgroup": "157900",
         "marker": {
          "color": "#1f77b4",
          "pattern": {
           "shape": ""
          }
         },
         "name": "histogram",
         "nbinsx": 80,
         "offsetgroup": "157900",
         "orientation": "v",
         "showlegend": true,
         "type": "histogram",
         "x": [
          157900,
          157900
         ],
         "xaxis": "x",
         "yaxis": "y3"
        },
        {
         "alignmentgroup": "True",
         "bingroup": "x",
         "hovertemplate": "SalePrice=%{x}<br>count=%{y}<extra></extra>",
         "legendgroup": "224900",
         "marker": {
          "color": "#1f77b4",
          "pattern": {
           "shape": ""
          }
         },
         "name": "histogram",
         "nbinsx": 80,
         "offsetgroup": "224900",
         "orientation": "v",
         "showlegend": true,
         "type": "histogram",
         "x": [
          224900,
          224900
         ],
         "xaxis": "x",
         "yaxis": "y3"
        },
        {
         "alignmentgroup": "True",
         "bingroup": "x",
         "hovertemplate": "SalePrice=%{x}<br>count=%{y}<extra></extra>",
         "legendgroup": "271000",
         "marker": {
          "color": "#1f77b4",
          "pattern": {
           "shape": ""
          }
         },
         "name": "histogram",
         "nbinsx": 80,
         "offsetgroup": "271000",
         "orientation": "v",
         "showlegend": true,
         "type": "histogram",
         "x": [
          271000,
          271000
         ],
         "xaxis": "x",
         "yaxis": "y3"
        },
        {
         "alignmentgroup": "True",
         "bingroup": "x",
         "hovertemplate": "SalePrice=%{x}<br>count=%{y}<extra></extra>",
         "legendgroup": "224000",
         "marker": {
          "color": "#1f77b4",
          "pattern": {
           "shape": ""
          }
         },
         "name": "histogram",
         "nbinsx": 80,
         "offsetgroup": "224000",
         "orientation": "v",
         "showlegend": true,
         "type": "histogram",
         "x": [
          224000,
          224000
         ],
         "xaxis": "x",
         "yaxis": "y3"
        },
        {
         "alignmentgroup": "True",
         "bingroup": "x",
         "hovertemplate": "SalePrice=%{x}<br>count=%{y}<extra></extra>",
         "legendgroup": "183000",
         "marker": {
          "color": "#1f77b4",
          "pattern": {
           "shape": ""
          }
         },
         "name": "histogram",
         "nbinsx": 80,
         "offsetgroup": "183000",
         "orientation": "v",
         "showlegend": true,
         "type": "histogram",
         "x": [
          183000
         ],
         "xaxis": "x",
         "yaxis": "y3"
        },
        {
         "alignmentgroup": "True",
         "bingroup": "x",
         "hovertemplate": "SalePrice=%{x}<br>count=%{y}<extra></extra>",
         "legendgroup": "139500",
         "marker": {
          "color": "#1f77b4",
          "pattern": {
           "shape": ""
          }
         },
         "name": "histogram",
         "nbinsx": 80,
         "offsetgroup": "139500",
         "orientation": "v",
         "showlegend": true,
         "type": "histogram",
         "x": [
          139500
         ],
         "xaxis": "x",
         "yaxis": "y3"
        },
        {
         "alignmentgroup": "True",
         "bingroup": "x",
         "hovertemplate": "SalePrice=%{x}<br>count=%{y}<extra></extra>",
         "legendgroup": "232600",
         "marker": {
          "color": "#1f77b4",
          "pattern": {
           "shape": ""
          }
         },
         "name": "histogram",
         "nbinsx": 80,
         "offsetgroup": "232600",
         "orientation": "v",
         "showlegend": true,
         "type": "histogram",
         "x": [
          232600
         ],
         "xaxis": "x",
         "yaxis": "y3"
        },
        {
         "alignmentgroup": "True",
         "bingroup": "x",
         "hovertemplate": "SalePrice=%{x}<br>count=%{y}<extra></extra>",
         "legendgroup": "147400",
         "marker": {
          "color": "#1f77b4",
          "pattern": {
           "shape": ""
          }
         },
         "name": "histogram",
         "nbinsx": 80,
         "offsetgroup": "147400",
         "orientation": "v",
         "showlegend": true,
         "type": "histogram",
         "x": [
          147400
         ],
         "xaxis": "x",
         "yaxis": "y3"
        },
        {
         "alignmentgroup": "True",
         "bingroup": "x",
         "hovertemplate": "SalePrice=%{x}<br>count=%{y}<extra></extra>",
         "legendgroup": "237000",
         "marker": {
          "color": "#1f77b4",
          "pattern": {
           "shape": ""
          }
         },
         "name": "histogram",
         "nbinsx": 80,
         "offsetgroup": "237000",
         "orientation": "v",
         "showlegend": true,
         "type": "histogram",
         "x": [
          237000,
          237000
         ],
         "xaxis": "x",
         "yaxis": "y3"
        },
        {
         "alignmentgroup": "True",
         "bingroup": "x",
         "hovertemplate": "SalePrice=%{x}<br>count=%{y}<extra></extra>",
         "legendgroup": "139950",
         "marker": {
          "color": "#1f77b4",
          "pattern": {
           "shape": ""
          }
         },
         "name": "histogram",
         "nbinsx": 80,
         "offsetgroup": "139950",
         "orientation": "v",
         "showlegend": true,
         "type": "histogram",
         "x": [
          139950
         ],
         "xaxis": "x",
         "yaxis": "y3"
        },
        {
         "alignmentgroup": "True",
         "bingroup": "x",
         "hovertemplate": "SalePrice=%{x}<br>count=%{y}<extra></extra>",
         "legendgroup": "174900",
         "marker": {
          "color": "#1f77b4",
          "pattern": {
           "shape": ""
          }
         },
         "name": "histogram",
         "nbinsx": 80,
         "offsetgroup": "174900",
         "orientation": "v",
         "showlegend": true,
         "type": "histogram",
         "x": [
          174900
         ],
         "xaxis": "x",
         "yaxis": "y3"
        },
        {
         "alignmentgroup": "True",
         "bingroup": "x",
         "hovertemplate": "SalePrice=%{x}<br>count=%{y}<extra></extra>",
         "legendgroup": "133500",
         "marker": {
          "color": "#1f77b4",
          "pattern": {
           "shape": ""
          }
         },
         "name": "histogram",
         "nbinsx": 80,
         "offsetgroup": "133500",
         "orientation": "v",
         "showlegend": true,
         "type": "histogram",
         "x": [
          133500
         ],
         "xaxis": "x",
         "yaxis": "y3"
        },
        {
         "alignmentgroup": "True",
         "bingroup": "x",
         "hovertemplate": "SalePrice=%{x}<br>count=%{y}<extra></extra>",
         "legendgroup": "189950",
         "marker": {
          "color": "#1f77b4",
          "pattern": {
           "shape": ""
          }
         },
         "name": "histogram",
         "nbinsx": 80,
         "offsetgroup": "189950",
         "orientation": "v",
         "showlegend": true,
         "type": "histogram",
         "x": [
          189950
         ],
         "xaxis": "x",
         "yaxis": "y3"
        },
        {
         "alignmentgroup": "True",
         "bingroup": "x",
         "hovertemplate": "SalePrice=%{x}<br>count=%{y}<extra></extra>",
         "legendgroup": "250580",
         "marker": {
          "color": "#1f77b4",
          "pattern": {
           "shape": ""
          }
         },
         "name": "histogram",
         "nbinsx": 80,
         "offsetgroup": "250580",
         "orientation": "v",
         "showlegend": true,
         "type": "histogram",
         "x": [
          250580
         ],
         "xaxis": "x",
         "yaxis": "y3"
        },
        {
         "alignmentgroup": "True",
         "bingroup": "x",
         "hovertemplate": "SalePrice=%{x}<br>count=%{y}<extra></extra>",
         "legendgroup": "248900",
         "marker": {
          "color": "#1f77b4",
          "pattern": {
           "shape": ""
          }
         },
         "name": "histogram",
         "nbinsx": 80,
         "offsetgroup": "248900",
         "orientation": "v",
         "showlegend": true,
         "type": "histogram",
         "x": [
          248900
         ],
         "xaxis": "x",
         "yaxis": "y3"
        },
        {
         "alignmentgroup": "True",
         "bingroup": "x",
         "hovertemplate": "SalePrice=%{x}<br>count=%{y}<extra></extra>",
         "legendgroup": "169000",
         "marker": {
          "color": "#1f77b4",
          "pattern": {
           "shape": ""
          }
         },
         "name": "histogram",
         "nbinsx": 80,
         "offsetgroup": "169000",
         "orientation": "v",
         "showlegend": true,
         "type": "histogram",
         "x": [
          169000,
          169000,
          169000
         ],
         "xaxis": "x",
         "yaxis": "y3"
        },
        {
         "alignmentgroup": "True",
         "bingroup": "x",
         "hovertemplate": "SalePrice=%{x}<br>count=%{y}<extra></extra>",
         "legendgroup": "200500",
         "marker": {
          "color": "#1f77b4",
          "pattern": {
           "shape": ""
          }
         },
         "name": "histogram",
         "nbinsx": 80,
         "offsetgroup": "200500",
         "orientation": "v",
         "showlegend": true,
         "type": "histogram",
         "x": [
          200500,
          200500
         ],
         "xaxis": "x",
         "yaxis": "y3"
        },
        {
         "alignmentgroup": "True",
         "bingroup": "x",
         "hovertemplate": "SalePrice=%{x}<br>count=%{y}<extra></extra>",
         "legendgroup": "66500",
         "marker": {
          "color": "#1f77b4",
          "pattern": {
           "shape": ""
          }
         },
         "name": "histogram",
         "nbinsx": 80,
         "offsetgroup": "66500",
         "orientation": "v",
         "showlegend": true,
         "type": "histogram",
         "x": [
          66500
         ],
         "xaxis": "x",
         "yaxis": "y3"
        },
        {
         "alignmentgroup": "True",
         "bingroup": "x",
         "hovertemplate": "SalePrice=%{x}<br>count=%{y}<extra></extra>",
         "legendgroup": "303477",
         "marker": {
          "color": "#1f77b4",
          "pattern": {
           "shape": ""
          }
         },
         "name": "histogram",
         "nbinsx": 80,
         "offsetgroup": "303477",
         "orientation": "v",
         "showlegend": true,
         "type": "histogram",
         "x": [
          303477
         ],
         "xaxis": "x",
         "yaxis": "y3"
        },
        {
         "alignmentgroup": "True",
         "bingroup": "x",
         "hovertemplate": "SalePrice=%{x}<br>count=%{y}<extra></extra>",
         "legendgroup": "132250",
         "marker": {
          "color": "#1f77b4",
          "pattern": {
           "shape": ""
          }
         },
         "name": "histogram",
         "nbinsx": 80,
         "offsetgroup": "132250",
         "orientation": "v",
         "showlegend": true,
         "type": "histogram",
         "x": [
          132250
         ],
         "xaxis": "x",
         "yaxis": "y3"
        },
        {
         "alignmentgroup": "True",
         "bingroup": "x",
         "hovertemplate": "SalePrice=%{x}<br>count=%{y}<extra></extra>",
         "legendgroup": "328900",
         "marker": {
          "color": "#1f77b4",
          "pattern": {
           "shape": ""
          }
         },
         "name": "histogram",
         "nbinsx": 80,
         "offsetgroup": "328900",
         "orientation": "v",
         "showlegend": true,
         "type": "histogram",
         "x": [
          328900
         ],
         "xaxis": "x",
         "yaxis": "y3"
        },
        {
         "alignmentgroup": "True",
         "bingroup": "x",
         "hovertemplate": "SalePrice=%{x}<br>count=%{y}<extra></extra>",
         "legendgroup": "122900",
         "marker": {
          "color": "#1f77b4",
          "pattern": {
           "shape": ""
          }
         },
         "name": "histogram",
         "nbinsx": 80,
         "offsetgroup": "122900",
         "orientation": "v",
         "showlegend": true,
         "type": "histogram",
         "x": [
          122900
         ],
         "xaxis": "x",
         "yaxis": "y3"
        },
        {
         "alignmentgroup": "True",
         "bingroup": "x",
         "hovertemplate": "SalePrice=%{x}<br>count=%{y}<extra></extra>",
         "legendgroup": "154500",
         "marker": {
          "color": "#1f77b4",
          "pattern": {
           "shape": ""
          }
         },
         "name": "histogram",
         "nbinsx": 80,
         "offsetgroup": "154500",
         "orientation": "v",
         "showlegend": true,
         "type": "histogram",
         "x": [
          154500
         ],
         "xaxis": "x",
         "yaxis": "y3"
        },
        {
         "alignmentgroup": "True",
         "bingroup": "x",
         "hovertemplate": "SalePrice=%{x}<br>count=%{y}<extra></extra>",
         "legendgroup": "118858",
         "marker": {
          "color": "#1f77b4",
          "pattern": {
           "shape": ""
          }
         },
         "name": "histogram",
         "nbinsx": 80,
         "offsetgroup": "118858",
         "orientation": "v",
         "showlegend": true,
         "type": "histogram",
         "x": [
          118858
         ],
         "xaxis": "x",
         "yaxis": "y3"
        },
        {
         "alignmentgroup": "True",
         "bingroup": "x",
         "hovertemplate": "SalePrice=%{x}<br>count=%{y}<extra></extra>",
         "legendgroup": "142953",
         "marker": {
          "color": "#1f77b4",
          "pattern": {
           "shape": ""
          }
         },
         "name": "histogram",
         "nbinsx": 80,
         "offsetgroup": "142953",
         "orientation": "v",
         "showlegend": true,
         "type": "histogram",
         "x": [
          142953
         ],
         "xaxis": "x",
         "yaxis": "y3"
        },
        {
         "alignmentgroup": "True",
         "bingroup": "x",
         "hovertemplate": "SalePrice=%{x}<br>count=%{y}<extra></extra>",
         "legendgroup": "611657",
         "marker": {
          "color": "#1f77b4",
          "pattern": {
           "shape": ""
          }
         },
         "name": "histogram",
         "nbinsx": 80,
         "offsetgroup": "611657",
         "orientation": "v",
         "showlegend": true,
         "type": "histogram",
         "x": [
          611657
         ],
         "xaxis": "x",
         "yaxis": "y3"
        },
        {
         "alignmentgroup": "True",
         "bingroup": "x",
         "hovertemplate": "SalePrice=%{x}<br>count=%{y}<extra></extra>",
         "legendgroup": "125500",
         "marker": {
          "color": "#1f77b4",
          "pattern": {
           "shape": ""
          }
         },
         "name": "histogram",
         "nbinsx": 80,
         "offsetgroup": "125500",
         "orientation": "v",
         "showlegend": true,
         "type": "histogram",
         "x": [
          125500,
          125500,
          125500,
          125500
         ],
         "xaxis": "x",
         "yaxis": "y3"
        },
        {
         "alignmentgroup": "True",
         "bingroup": "x",
         "hovertemplate": "SalePrice=%{x}<br>count=%{y}<extra></extra>",
         "legendgroup": "255000",
         "marker": {
          "color": "#1f77b4",
          "pattern": {
           "shape": ""
          }
         },
         "name": "histogram",
         "nbinsx": 80,
         "offsetgroup": "255000",
         "orientation": "v",
         "showlegend": true,
         "type": "histogram",
         "x": [
          255000,
          255000
         ],
         "xaxis": "x",
         "yaxis": "y3"
        },
        {
         "alignmentgroup": "True",
         "bingroup": "x",
         "hovertemplate": "SalePrice=%{x}<br>count=%{y}<extra></extra>",
         "legendgroup": "154300",
         "marker": {
          "color": "#1f77b4",
          "pattern": {
           "shape": ""
          }
         },
         "name": "histogram",
         "nbinsx": 80,
         "offsetgroup": "154300",
         "orientation": "v",
         "showlegend": true,
         "type": "histogram",
         "x": [
          154300
         ],
         "xaxis": "x",
         "yaxis": "y3"
        },
        {
         "alignmentgroup": "True",
         "bingroup": "x",
         "hovertemplate": "SalePrice=%{x}<br>count=%{y}<extra></extra>",
         "legendgroup": "173733",
         "marker": {
          "color": "#1f77b4",
          "pattern": {
           "shape": ""
          }
         },
         "name": "histogram",
         "nbinsx": 80,
         "offsetgroup": "173733",
         "orientation": "v",
         "showlegend": true,
         "type": "histogram",
         "x": [
          173733
         ],
         "xaxis": "x",
         "yaxis": "y3"
        },
        {
         "alignmentgroup": "True",
         "bingroup": "x",
         "hovertemplate": "SalePrice=%{x}<br>count=%{y}<extra></extra>",
         "legendgroup": "75000",
         "marker": {
          "color": "#1f77b4",
          "pattern": {
           "shape": ""
          }
         },
         "name": "histogram",
         "nbinsx": 80,
         "offsetgroup": "75000",
         "orientation": "v",
         "showlegend": true,
         "type": "histogram",
         "x": [
          75000
         ],
         "xaxis": "x",
         "yaxis": "y3"
        },
        {
         "alignmentgroup": "True",
         "bingroup": "x",
         "hovertemplate": "SalePrice=%{x}<br>count=%{y}<extra></extra>",
         "legendgroup": "35311",
         "marker": {
          "color": "#1f77b4",
          "pattern": {
           "shape": ""
          }
         },
         "name": "histogram",
         "nbinsx": 80,
         "offsetgroup": "35311",
         "orientation": "v",
         "showlegend": true,
         "type": "histogram",
         "x": [
          35311
         ],
         "xaxis": "x",
         "yaxis": "y3"
        },
        {
         "alignmentgroup": "True",
         "bingroup": "x",
         "hovertemplate": "SalePrice=%{x}<br>count=%{y}<extra></extra>",
         "legendgroup": "238000",
         "marker": {
          "color": "#1f77b4",
          "pattern": {
           "shape": ""
          }
         },
         "name": "histogram",
         "nbinsx": 80,
         "offsetgroup": "238000",
         "orientation": "v",
         "showlegend": true,
         "type": "histogram",
         "x": [
          238000
         ],
         "xaxis": "x",
         "yaxis": "y3"
        },
        {
         "alignmentgroup": "True",
         "bingroup": "x",
         "hovertemplate": "SalePrice=%{x}<br>count=%{y}<extra></extra>",
         "legendgroup": "176500",
         "marker": {
          "color": "#1f77b4",
          "pattern": {
           "shape": ""
          }
         },
         "name": "histogram",
         "nbinsx": 80,
         "offsetgroup": "176500",
         "orientation": "v",
         "showlegend": true,
         "type": "histogram",
         "x": [
          176500,
          176500
         ],
         "xaxis": "x",
         "yaxis": "y3"
        },
        {
         "alignmentgroup": "True",
         "bingroup": "x",
         "hovertemplate": "SalePrice=%{x}<br>count=%{y}<extra></extra>",
         "legendgroup": "145900",
         "marker": {
          "color": "#1f77b4",
          "pattern": {
           "shape": ""
          }
         },
         "name": "histogram",
         "nbinsx": 80,
         "offsetgroup": "145900",
         "orientation": "v",
         "showlegend": true,
         "type": "histogram",
         "x": [
          145900
         ],
         "xaxis": "x",
         "yaxis": "y3"
        },
        {
         "alignmentgroup": "True",
         "bingroup": "x",
         "hovertemplate": "SalePrice=%{x}<br>count=%{y}<extra></extra>",
         "legendgroup": "169990",
         "marker": {
          "color": "#1f77b4",
          "pattern": {
           "shape": ""
          }
         },
         "name": "histogram",
         "nbinsx": 80,
         "offsetgroup": "169990",
         "orientation": "v",
         "showlegend": true,
         "type": "histogram",
         "x": [
          169990
         ],
         "xaxis": "x",
         "yaxis": "y3"
        },
        {
         "alignmentgroup": "True",
         "bingroup": "x",
         "hovertemplate": "SalePrice=%{x}<br>count=%{y}<extra></extra>",
         "legendgroup": "193000",
         "marker": {
          "color": "#1f77b4",
          "pattern": {
           "shape": ""
          }
         },
         "name": "histogram",
         "nbinsx": 80,
         "offsetgroup": "193000",
         "orientation": "v",
         "showlegend": true,
         "type": "histogram",
         "x": [
          193000,
          193000,
          193000
         ],
         "xaxis": "x",
         "yaxis": "y3"
        },
        {
         "alignmentgroup": "True",
         "bingroup": "x",
         "hovertemplate": "SalePrice=%{x}<br>count=%{y}<extra></extra>",
         "legendgroup": "117500",
         "marker": {
          "color": "#1f77b4",
          "pattern": {
           "shape": ""
          }
         },
         "name": "histogram",
         "nbinsx": 80,
         "offsetgroup": "117500",
         "orientation": "v",
         "showlegend": true,
         "type": "histogram",
         "x": [
          117500,
          117500
         ],
         "xaxis": "x",
         "yaxis": "y3"
        },
        {
         "alignmentgroup": "True",
         "bingroup": "x",
         "hovertemplate": "SalePrice=%{x}<br>count=%{y}<extra></extra>",
         "legendgroup": "184900",
         "marker": {
          "color": "#1f77b4",
          "pattern": {
           "shape": ""
          }
         },
         "name": "histogram",
         "nbinsx": 80,
         "offsetgroup": "184900",
         "orientation": "v",
         "showlegend": true,
         "type": "histogram",
         "x": [
          184900
         ],
         "xaxis": "x",
         "yaxis": "y3"
        },
        {
         "alignmentgroup": "True",
         "bingroup": "x",
         "hovertemplate": "SalePrice=%{x}<br>count=%{y}<extra></extra>",
         "legendgroup": "253000",
         "marker": {
          "color": "#1f77b4",
          "pattern": {
           "shape": ""
          }
         },
         "name": "histogram",
         "nbinsx": 80,
         "offsetgroup": "253000",
         "orientation": "v",
         "showlegend": true,
         "type": "histogram",
         "x": [
          253000
         ],
         "xaxis": "x",
         "yaxis": "y3"
        },
        {
         "alignmentgroup": "True",
         "bingroup": "x",
         "hovertemplate": "SalePrice=%{x}<br>count=%{y}<extra></extra>",
         "legendgroup": "239799",
         "marker": {
          "color": "#1f77b4",
          "pattern": {
           "shape": ""
          }
         },
         "name": "histogram",
         "nbinsx": 80,
         "offsetgroup": "239799",
         "orientation": "v",
         "showlegend": true,
         "type": "histogram",
         "x": [
          239799
         ],
         "xaxis": "x",
         "yaxis": "y3"
        },
        {
         "alignmentgroup": "True",
         "bingroup": "x",
         "hovertemplate": "SalePrice=%{x}<br>count=%{y}<extra></extra>",
         "legendgroup": "244400",
         "marker": {
          "color": "#1f77b4",
          "pattern": {
           "shape": ""
          }
         },
         "name": "histogram",
         "nbinsx": 80,
         "offsetgroup": "244400",
         "orientation": "v",
         "showlegend": true,
         "type": "histogram",
         "x": [
          244400
         ],
         "xaxis": "x",
         "yaxis": "y3"
        },
        {
         "alignmentgroup": "True",
         "bingroup": "x",
         "hovertemplate": "SalePrice=%{x}<br>count=%{y}<extra></extra>",
         "legendgroup": "150900",
         "marker": {
          "color": "#1f77b4",
          "pattern": {
           "shape": ""
          }
         },
         "name": "histogram",
         "nbinsx": 80,
         "offsetgroup": "150900",
         "orientation": "v",
         "showlegend": true,
         "type": "histogram",
         "x": [
          150900
         ],
         "xaxis": "x",
         "yaxis": "y3"
        },
        {
         "alignmentgroup": "True",
         "bingroup": "x",
         "hovertemplate": "SalePrice=%{x}<br>count=%{y}<extra></extra>",
         "legendgroup": "197500",
         "marker": {
          "color": "#1f77b4",
          "pattern": {
           "shape": ""
          }
         },
         "name": "histogram",
         "nbinsx": 80,
         "offsetgroup": "197500",
         "orientation": "v",
         "showlegend": true,
         "type": "histogram",
         "x": [
          197500,
          197500
         ],
         "xaxis": "x",
         "yaxis": "y3"
        },
        {
         "alignmentgroup": "True",
         "bingroup": "x",
         "hovertemplate": "SalePrice=%{x}<br>count=%{y}<extra></extra>",
         "legendgroup": "172000",
         "marker": {
          "color": "#1f77b4",
          "pattern": {
           "shape": ""
          }
         },
         "name": "histogram",
         "nbinsx": 80,
         "offsetgroup": "172000",
         "orientation": "v",
         "showlegend": true,
         "type": "histogram",
         "x": [
          172000
         ],
         "xaxis": "x",
         "yaxis": "y3"
        },
        {
         "alignmentgroup": "True",
         "bingroup": "x",
         "hovertemplate": "SalePrice=%{x}<br>count=%{y}<extra></extra>",
         "legendgroup": "116500",
         "marker": {
          "color": "#1f77b4",
          "pattern": {
           "shape": ""
          }
         },
         "name": "histogram",
         "nbinsx": 80,
         "offsetgroup": "116500",
         "orientation": "v",
         "showlegend": true,
         "type": "histogram",
         "x": [
          116500
         ],
         "xaxis": "x",
         "yaxis": "y3"
        },
        {
         "alignmentgroup": "True",
         "bingroup": "x",
         "hovertemplate": "SalePrice=%{x}<br>count=%{y}<extra></extra>",
         "legendgroup": "214900",
         "marker": {
          "color": "#1f77b4",
          "pattern": {
           "shape": ""
          }
         },
         "name": "histogram",
         "nbinsx": 80,
         "offsetgroup": "214900",
         "orientation": "v",
         "showlegend": true,
         "type": "histogram",
         "x": [
          214900
         ],
         "xaxis": "x",
         "yaxis": "y3"
        },
        {
         "alignmentgroup": "True",
         "bingroup": "x",
         "hovertemplate": "SalePrice=%{x}<br>count=%{y}<extra></extra>",
         "legendgroup": "178900",
         "marker": {
          "color": "#1f77b4",
          "pattern": {
           "shape": ""
          }
         },
         "name": "histogram",
         "nbinsx": 80,
         "offsetgroup": "178900",
         "orientation": "v",
         "showlegend": true,
         "type": "histogram",
         "x": [
          178900
         ],
         "xaxis": "x",
         "yaxis": "y3"
        },
        {
         "alignmentgroup": "True",
         "bingroup": "x",
         "hovertemplate": "SalePrice=%{x}<br>count=%{y}<extra></extra>",
         "legendgroup": "37900",
         "marker": {
          "color": "#1f77b4",
          "pattern": {
           "shape": ""
          }
         },
         "name": "histogram",
         "nbinsx": 80,
         "offsetgroup": "37900",
         "orientation": "v",
         "showlegend": true,
         "type": "histogram",
         "x": [
          37900
         ],
         "xaxis": "x",
         "yaxis": "y3"
        },
        {
         "alignmentgroup": "True",
         "bingroup": "x",
         "hovertemplate": "SalePrice=%{x}<br>count=%{y}<extra></extra>",
         "legendgroup": "99500",
         "marker": {
          "color": "#1f77b4",
          "pattern": {
           "shape": ""
          }
         },
         "name": "histogram",
         "nbinsx": 80,
         "offsetgroup": "99500",
         "orientation": "v",
         "showlegend": true,
         "type": "histogram",
         "x": [
          99500
         ],
         "xaxis": "x",
         "yaxis": "y3"
        },
        {
         "alignmentgroup": "True",
         "bingroup": "x",
         "hovertemplate": "SalePrice=%{x}<br>count=%{y}<extra></extra>",
         "legendgroup": "182000",
         "marker": {
          "color": "#1f77b4",
          "pattern": {
           "shape": ""
          }
         },
         "name": "histogram",
         "nbinsx": 80,
         "offsetgroup": "182000",
         "orientation": "v",
         "showlegend": true,
         "type": "histogram",
         "x": [
          182000
         ],
         "xaxis": "x",
         "yaxis": "y3"
        },
        {
         "alignmentgroup": "True",
         "bingroup": "x",
         "hovertemplate": "SalePrice=%{x}<br>count=%{y}<extra></extra>",
         "legendgroup": "167500",
         "marker": {
          "color": "#1f77b4",
          "pattern": {
           "shape": ""
          }
         },
         "name": "histogram",
         "nbinsx": 80,
         "offsetgroup": "167500",
         "orientation": "v",
         "showlegend": true,
         "type": "histogram",
         "x": [
          167500,
          167500,
          167500
         ],
         "xaxis": "x",
         "yaxis": "y3"
        },
        {
         "alignmentgroup": "True",
         "bingroup": "x",
         "hovertemplate": "SalePrice=%{x}<br>count=%{y}<extra></extra>",
         "legendgroup": "85500",
         "marker": {
          "color": "#1f77b4",
          "pattern": {
           "shape": ""
          }
         },
         "name": "histogram",
         "nbinsx": 80,
         "offsetgroup": "85500",
         "orientation": "v",
         "showlegend": true,
         "type": "histogram",
         "x": [
          85500
         ],
         "xaxis": "x",
         "yaxis": "y3"
        },
        {
         "alignmentgroup": "True",
         "bingroup": "x",
         "hovertemplate": "SalePrice=%{x}<br>count=%{y}<extra></extra>",
         "legendgroup": "178400",
         "marker": {
          "color": "#1f77b4",
          "pattern": {
           "shape": ""
          }
         },
         "name": "histogram",
         "nbinsx": 80,
         "offsetgroup": "178400",
         "orientation": "v",
         "showlegend": true,
         "type": "histogram",
         "x": [
          178400
         ],
         "xaxis": "x",
         "yaxis": "y3"
        },
        {
         "alignmentgroup": "True",
         "bingroup": "x",
         "hovertemplate": "SalePrice=%{x}<br>count=%{y}<extra></extra>",
         "legendgroup": "336000",
         "marker": {
          "color": "#1f77b4",
          "pattern": {
           "shape": ""
          }
         },
         "name": "histogram",
         "nbinsx": 80,
         "offsetgroup": "336000",
         "orientation": "v",
         "showlegend": true,
         "type": "histogram",
         "x": [
          336000
         ],
         "xaxis": "x",
         "yaxis": "y3"
        },
        {
         "alignmentgroup": "True",
         "bingroup": "x",
         "hovertemplate": "SalePrice=%{x}<br>count=%{y}<extra></extra>",
         "legendgroup": "159895",
         "marker": {
          "color": "#1f77b4",
          "pattern": {
           "shape": ""
          }
         },
         "name": "histogram",
         "nbinsx": 80,
         "offsetgroup": "159895",
         "orientation": "v",
         "showlegend": true,
         "type": "histogram",
         "x": [
          159895
         ],
         "xaxis": "x",
         "yaxis": "y3"
        },
        {
         "alignmentgroup": "True",
         "bingroup": "x",
         "hovertemplate": "SalePrice=%{x}<br>count=%{y}<extra></extra>",
         "legendgroup": "255900",
         "marker": {
          "color": "#1f77b4",
          "pattern": {
           "shape": ""
          }
         },
         "name": "histogram",
         "nbinsx": 80,
         "offsetgroup": "255900",
         "orientation": "v",
         "showlegend": true,
         "type": "histogram",
         "x": [
          255900
         ],
         "xaxis": "x",
         "yaxis": "y3"
        },
        {
         "alignmentgroup": "True",
         "bingroup": "x",
         "hovertemplate": "SalePrice=%{x}<br>count=%{y}<extra></extra>",
         "legendgroup": "117000",
         "marker": {
          "color": "#1f77b4",
          "pattern": {
           "shape": ""
          }
         },
         "name": "histogram",
         "nbinsx": 80,
         "offsetgroup": "117000",
         "orientation": "v",
         "showlegend": true,
         "type": "histogram",
         "x": [
          117000,
          117000,
          117000,
          117000
         ],
         "xaxis": "x",
         "yaxis": "y3"
        },
        {
         "alignmentgroup": "True",
         "bingroup": "x",
         "hovertemplate": "SalePrice=%{x}<br>count=%{y}<extra></extra>",
         "legendgroup": "395192",
         "marker": {
          "color": "#1f77b4",
          "pattern": {
           "shape": ""
          }
         },
         "name": "histogram",
         "nbinsx": 80,
         "offsetgroup": "395192",
         "orientation": "v",
         "showlegend": true,
         "type": "histogram",
         "x": [
          395192
         ],
         "xaxis": "x",
         "yaxis": "y3"
        },
        {
         "alignmentgroup": "True",
         "bingroup": "x",
         "hovertemplate": "SalePrice=%{x}<br>count=%{y}<extra></extra>",
         "legendgroup": "195000",
         "marker": {
          "color": "#1f77b4",
          "pattern": {
           "shape": ""
          }
         },
         "name": "histogram",
         "nbinsx": 80,
         "offsetgroup": "195000",
         "orientation": "v",
         "showlegend": true,
         "type": "histogram",
         "x": [
          195000,
          195000,
          195000
         ],
         "xaxis": "x",
         "yaxis": "y3"
        },
        {
         "alignmentgroup": "True",
         "bingroup": "x",
         "hovertemplate": "SalePrice=%{x}<br>count=%{y}<extra></extra>",
         "legendgroup": "197000",
         "marker": {
          "color": "#1f77b4",
          "pattern": {
           "shape": ""
          }
         },
         "name": "histogram",
         "nbinsx": 80,
         "offsetgroup": "197000",
         "orientation": "v",
         "showlegend": true,
         "type": "histogram",
         "x": [
          197000,
          197000,
          197000,
          197000
         ],
         "xaxis": "x",
         "yaxis": "y3"
        },
        {
         "alignmentgroup": "True",
         "bingroup": "x",
         "hovertemplate": "SalePrice=%{x}<br>count=%{y}<extra></extra>",
         "legendgroup": "348000",
         "marker": {
          "color": "#1f77b4",
          "pattern": {
           "shape": ""
          }
         },
         "name": "histogram",
         "nbinsx": 80,
         "offsetgroup": "348000",
         "orientation": "v",
         "showlegend": true,
         "type": "histogram",
         "x": [
          348000
         ],
         "xaxis": "x",
         "yaxis": "y3"
        },
        {
         "alignmentgroup": "True",
         "bingroup": "x",
         "hovertemplate": "SalePrice=%{x}<br>count=%{y}<extra></extra>",
         "legendgroup": "173900",
         "marker": {
          "color": "#1f77b4",
          "pattern": {
           "shape": ""
          }
         },
         "name": "histogram",
         "nbinsx": 80,
         "offsetgroup": "173900",
         "orientation": "v",
         "showlegend": true,
         "type": "histogram",
         "x": [
          173900
         ],
         "xaxis": "x",
         "yaxis": "y3"
        },
        {
         "alignmentgroup": "True",
         "bingroup": "x",
         "hovertemplate": "SalePrice=%{x}<br>count=%{y}<extra></extra>",
         "legendgroup": "337500",
         "marker": {
          "color": "#1f77b4",
          "pattern": {
           "shape": ""
          }
         },
         "name": "histogram",
         "nbinsx": 80,
         "offsetgroup": "337500",
         "orientation": "v",
         "showlegend": true,
         "type": "histogram",
         "x": [
          337500
         ],
         "xaxis": "x",
         "yaxis": "y3"
        },
        {
         "alignmentgroup": "True",
         "bingroup": "x",
         "hovertemplate": "SalePrice=%{x}<br>count=%{y}<extra></extra>",
         "legendgroup": "121600",
         "marker": {
          "color": "#1f77b4",
          "pattern": {
           "shape": ""
          }
         },
         "name": "histogram",
         "nbinsx": 80,
         "offsetgroup": "121600",
         "orientation": "v",
         "showlegend": true,
         "type": "histogram",
         "x": [
          121600
         ],
         "xaxis": "x",
         "yaxis": "y3"
        },
        {
         "alignmentgroup": "True",
         "bingroup": "x",
         "hovertemplate": "SalePrice=%{x}<br>count=%{y}<extra></extra>",
         "legendgroup": "206000",
         "marker": {
          "color": "#1f77b4",
          "pattern": {
           "shape": ""
          }
         },
         "name": "histogram",
         "nbinsx": 80,
         "offsetgroup": "206000",
         "orientation": "v",
         "showlegend": true,
         "type": "histogram",
         "x": [
          206000
         ],
         "xaxis": "x",
         "yaxis": "y3"
        },
        {
         "alignmentgroup": "True",
         "bingroup": "x",
         "hovertemplate": "SalePrice=%{x}<br>count=%{y}<extra></extra>",
         "legendgroup": "232000",
         "marker": {
          "color": "#1f77b4",
          "pattern": {
           "shape": ""
          }
         },
         "name": "histogram",
         "nbinsx": 80,
         "offsetgroup": "232000",
         "orientation": "v",
         "showlegend": true,
         "type": "histogram",
         "x": [
          232000,
          232000,
          232000
         ],
         "xaxis": "x",
         "yaxis": "y3"
        },
        {
         "alignmentgroup": "True",
         "bingroup": "x",
         "hovertemplate": "SalePrice=%{x}<br>count=%{y}<extra></extra>",
         "legendgroup": "136905",
         "marker": {
          "color": "#1f77b4",
          "pattern": {
           "shape": ""
          }
         },
         "name": "histogram",
         "nbinsx": 80,
         "offsetgroup": "136905",
         "orientation": "v",
         "showlegend": true,
         "type": "histogram",
         "x": [
          136905
         ],
         "xaxis": "x",
         "yaxis": "y3"
        },
        {
         "alignmentgroup": "True",
         "bingroup": "x",
         "hovertemplate": "SalePrice=%{x}<br>count=%{y}<extra></extra>",
         "legendgroup": "119200",
         "marker": {
          "color": "#1f77b4",
          "pattern": {
           "shape": ""
          }
         },
         "name": "histogram",
         "nbinsx": 80,
         "offsetgroup": "119200",
         "orientation": "v",
         "showlegend": true,
         "type": "histogram",
         "x": [
          119200
         ],
         "xaxis": "x",
         "yaxis": "y3"
        },
        {
         "alignmentgroup": "True",
         "bingroup": "x",
         "hovertemplate": "SalePrice=%{x}<br>count=%{y}<extra></extra>",
         "legendgroup": "227000",
         "marker": {
          "color": "#1f77b4",
          "pattern": {
           "shape": ""
          }
         },
         "name": "histogram",
         "nbinsx": 80,
         "offsetgroup": "227000",
         "orientation": "v",
         "showlegend": true,
         "type": "histogram",
         "x": [
          227000,
          227000,
          227000
         ],
         "xaxis": "x",
         "yaxis": "y3"
        },
        {
         "alignmentgroup": "True",
         "bingroup": "x",
         "hovertemplate": "SalePrice=%{x}<br>count=%{y}<extra></extra>",
         "legendgroup": "203000",
         "marker": {
          "color": "#1f77b4",
          "pattern": {
           "shape": ""
          }
         },
         "name": "histogram",
         "nbinsx": 80,
         "offsetgroup": "203000",
         "orientation": "v",
         "showlegend": true,
         "type": "histogram",
         "x": [
          203000,
          203000
         ],
         "xaxis": "x",
         "yaxis": "y3"
        },
        {
         "alignmentgroup": "True",
         "bingroup": "x",
         "hovertemplate": "SalePrice=%{x}<br>count=%{y}<extra></extra>",
         "legendgroup": "213490",
         "marker": {
          "color": "#1f77b4",
          "pattern": {
           "shape": ""
          }
         },
         "name": "histogram",
         "nbinsx": 80,
         "offsetgroup": "213490",
         "orientation": "v",
         "showlegend": true,
         "type": "histogram",
         "x": [
          213490
         ],
         "xaxis": "x",
         "yaxis": "y3"
        },
        {
         "alignmentgroup": "True",
         "bingroup": "x",
         "hovertemplate": "SalePrice=%{x}<br>count=%{y}<extra></extra>",
         "legendgroup": "194000",
         "marker": {
          "color": "#1f77b4",
          "pattern": {
           "shape": ""
          }
         },
         "name": "histogram",
         "nbinsx": 80,
         "offsetgroup": "194000",
         "orientation": "v",
         "showlegend": true,
         "type": "histogram",
         "x": [
          194000,
          194000,
          194000
         ],
         "xaxis": "x",
         "yaxis": "y3"
        },
        {
         "alignmentgroup": "True",
         "bingroup": "x",
         "hovertemplate": "SalePrice=%{x}<br>count=%{y}<extra></extra>",
         "legendgroup": "287000",
         "marker": {
          "color": "#1f77b4",
          "pattern": {
           "shape": ""
          }
         },
         "name": "histogram",
         "nbinsx": 80,
         "offsetgroup": "287000",
         "orientation": "v",
         "showlegend": true,
         "type": "histogram",
         "x": [
          287000,
          287000
         ],
         "xaxis": "x",
         "yaxis": "y3"
        },
        {
         "alignmentgroup": "True",
         "bingroup": "x",
         "hovertemplate": "SalePrice=%{x}<br>count=%{y}<extra></extra>",
         "legendgroup": "293077",
         "marker": {
          "color": "#1f77b4",
          "pattern": {
           "shape": ""
          }
         },
         "name": "histogram",
         "nbinsx": 80,
         "offsetgroup": "293077",
         "orientation": "v",
         "showlegend": true,
         "type": "histogram",
         "x": [
          293077
         ],
         "xaxis": "x",
         "yaxis": "y3"
        },
        {
         "alignmentgroup": "True",
         "bingroup": "x",
         "hovertemplate": "SalePrice=%{x}<br>count=%{y}<extra></extra>",
         "legendgroup": "310000",
         "marker": {
          "color": "#1f77b4",
          "pattern": {
           "shape": ""
          }
         },
         "name": "histogram",
         "nbinsx": 80,
         "offsetgroup": "310000",
         "orientation": "v",
         "showlegend": true,
         "type": "histogram",
         "x": [
          310000,
          310000
         ],
         "xaxis": "x",
         "yaxis": "y3"
        },
        {
         "alignmentgroup": "True",
         "bingroup": "x",
         "hovertemplate": "SalePrice=%{x}<br>count=%{y}<extra></extra>",
         "legendgroup": "119750",
         "marker": {
          "color": "#1f77b4",
          "pattern": {
           "shape": ""
          }
         },
         "name": "histogram",
         "nbinsx": 80,
         "offsetgroup": "119750",
         "orientation": "v",
         "showlegend": true,
         "type": "histogram",
         "x": [
          119750
         ],
         "xaxis": "x",
         "yaxis": "y3"
        },
        {
         "alignmentgroup": "True",
         "bingroup": "x",
         "hovertemplate": "SalePrice=%{x}<br>count=%{y}<extra></extra>",
         "legendgroup": "84000",
         "marker": {
          "color": "#1f77b4",
          "pattern": {
           "shape": ""
          }
         },
         "name": "histogram",
         "nbinsx": 80,
         "offsetgroup": "84000",
         "orientation": "v",
         "showlegend": true,
         "type": "histogram",
         "x": [
          84000
         ],
         "xaxis": "x",
         "yaxis": "y3"
        },
        {
         "alignmentgroup": "True",
         "bingroup": "x",
         "hovertemplate": "SalePrice=%{x}<br>count=%{y}<extra></extra>",
         "legendgroup": "315500",
         "marker": {
          "color": "#1f77b4",
          "pattern": {
           "shape": ""
          }
         },
         "name": "histogram",
         "nbinsx": 80,
         "offsetgroup": "315500",
         "orientation": "v",
         "showlegend": true,
         "type": "histogram",
         "x": [
          315500
         ],
         "xaxis": "x",
         "yaxis": "y3"
        },
        {
         "alignmentgroup": "True",
         "bingroup": "x",
         "hovertemplate": "SalePrice=%{x}<br>count=%{y}<extra></extra>",
         "legendgroup": "262280",
         "marker": {
          "color": "#1f77b4",
          "pattern": {
           "shape": ""
          }
         },
         "name": "histogram",
         "nbinsx": 80,
         "offsetgroup": "262280",
         "orientation": "v",
         "showlegend": true,
         "type": "histogram",
         "x": [
          262280
         ],
         "xaxis": "x",
         "yaxis": "y3"
        },
        {
         "alignmentgroup": "True",
         "bingroup": "x",
         "hovertemplate": "SalePrice=%{x}<br>count=%{y}<extra></extra>",
         "legendgroup": "278000",
         "marker": {
          "color": "#1f77b4",
          "pattern": {
           "shape": ""
          }
         },
         "name": "histogram",
         "nbinsx": 80,
         "offsetgroup": "278000",
         "orientation": "v",
         "showlegend": true,
         "type": "histogram",
         "x": [
          278000,
          278000
         ],
         "xaxis": "x",
         "yaxis": "y3"
        },
        {
         "alignmentgroup": "True",
         "bingroup": "x",
         "hovertemplate": "SalePrice=%{x}<br>count=%{y}<extra></extra>",
         "legendgroup": "139600",
         "marker": {
          "color": "#1f77b4",
          "pattern": {
           "shape": ""
          }
         },
         "name": "histogram",
         "nbinsx": 80,
         "offsetgroup": "139600",
         "orientation": "v",
         "showlegend": true,
         "type": "histogram",
         "x": [
          139600
         ],
         "xaxis": "x",
         "yaxis": "y3"
        },
        {
         "alignmentgroup": "True",
         "bingroup": "x",
         "hovertemplate": "SalePrice=%{x}<br>count=%{y}<extra></extra>",
         "legendgroup": "556581",
         "marker": {
          "color": "#1f77b4",
          "pattern": {
           "shape": ""
          }
         },
         "name": "histogram",
         "nbinsx": 80,
         "offsetgroup": "556581",
         "orientation": "v",
         "showlegend": true,
         "type": "histogram",
         "x": [
          556581
         ],
         "xaxis": "x",
         "yaxis": "y3"
        },
        {
         "alignmentgroup": "True",
         "bingroup": "x",
         "hovertemplate": "SalePrice=%{x}<br>count=%{y}<extra></extra>",
         "legendgroup": "84900",
         "marker": {
          "color": "#1f77b4",
          "pattern": {
           "shape": ""
          }
         },
         "name": "histogram",
         "nbinsx": 80,
         "offsetgroup": "84900",
         "orientation": "v",
         "showlegend": true,
         "type": "histogram",
         "x": [
          84900
         ],
         "xaxis": "x",
         "yaxis": "y3"
        },
        {
         "alignmentgroup": "True",
         "bingroup": "x",
         "hovertemplate": "SalePrice=%{x}<br>count=%{y}<extra></extra>",
         "legendgroup": "176485",
         "marker": {
          "color": "#1f77b4",
          "pattern": {
           "shape": ""
          }
         },
         "name": "histogram",
         "nbinsx": 80,
         "offsetgroup": "176485",
         "orientation": "v",
         "showlegend": true,
         "type": "histogram",
         "x": [
          176485
         ],
         "xaxis": "x",
         "yaxis": "y3"
        },
        {
         "alignmentgroup": "True",
         "bingroup": "x",
         "hovertemplate": "SalePrice=%{x}<br>count=%{y}<extra></extra>",
         "legendgroup": "200141",
         "marker": {
          "color": "#1f77b4",
          "pattern": {
           "shape": ""
          }
         },
         "name": "histogram",
         "nbinsx": 80,
         "offsetgroup": "200141",
         "orientation": "v",
         "showlegend": true,
         "type": "histogram",
         "x": [
          200141
         ],
         "xaxis": "x",
         "yaxis": "y3"
        },
        {
         "alignmentgroup": "True",
         "bingroup": "x",
         "hovertemplate": "SalePrice=%{x}<br>count=%{y}<extra></extra>",
         "legendgroup": "185850",
         "marker": {
          "color": "#1f77b4",
          "pattern": {
           "shape": ""
          }
         },
         "name": "histogram",
         "nbinsx": 80,
         "offsetgroup": "185850",
         "orientation": "v",
         "showlegend": true,
         "type": "histogram",
         "x": [
          185850
         ],
         "xaxis": "x",
         "yaxis": "y3"
        },
        {
         "alignmentgroup": "True",
         "bingroup": "x",
         "hovertemplate": "SalePrice=%{x}<br>count=%{y}<extra></extra>",
         "legendgroup": "328000",
         "marker": {
          "color": "#1f77b4",
          "pattern": {
           "shape": ""
          }
         },
         "name": "histogram",
         "nbinsx": 80,
         "offsetgroup": "328000",
         "orientation": "v",
         "showlegend": true,
         "type": "histogram",
         "x": [
          328000
         ],
         "xaxis": "x",
         "yaxis": "y3"
        },
        {
         "alignmentgroup": "True",
         "bingroup": "x",
         "hovertemplate": "SalePrice=%{x}<br>count=%{y}<extra></extra>",
         "legendgroup": "167900",
         "marker": {
          "color": "#1f77b4",
          "pattern": {
           "shape": ""
          }
         },
         "name": "histogram",
         "nbinsx": 80,
         "offsetgroup": "167900",
         "orientation": "v",
         "showlegend": true,
         "type": "histogram",
         "x": [
          167900,
          167900
         ],
         "xaxis": "x",
         "yaxis": "y3"
        },
        {
         "alignmentgroup": "True",
         "bingroup": "x",
         "hovertemplate": "SalePrice=%{x}<br>count=%{y}<extra></extra>",
         "legendgroup": "151400",
         "marker": {
          "color": "#1f77b4",
          "pattern": {
           "shape": ""
          }
         },
         "name": "histogram",
         "nbinsx": 80,
         "offsetgroup": "151400",
         "orientation": "v",
         "showlegend": true,
         "type": "histogram",
         "x": [
          151400
         ],
         "xaxis": "x",
         "yaxis": "y3"
        },
        {
         "alignmentgroup": "True",
         "bingroup": "x",
         "hovertemplate": "SalePrice=%{x}<br>count=%{y}<extra></extra>",
         "legendgroup": "91500",
         "marker": {
          "color": "#1f77b4",
          "pattern": {
           "shape": ""
          }
         },
         "name": "histogram",
         "nbinsx": 80,
         "offsetgroup": "91500",
         "orientation": "v",
         "showlegend": true,
         "type": "histogram",
         "x": [
          91500,
          91500
         ],
         "xaxis": "x",
         "yaxis": "y3"
        },
        {
         "alignmentgroup": "True",
         "bingroup": "x",
         "hovertemplate": "SalePrice=%{x}<br>count=%{y}<extra></extra>",
         "legendgroup": "138800",
         "marker": {
          "color": "#1f77b4",
          "pattern": {
           "shape": ""
          }
         },
         "name": "histogram",
         "nbinsx": 80,
         "offsetgroup": "138800",
         "orientation": "v",
         "showlegend": true,
         "type": "histogram",
         "x": [
          138800
         ],
         "xaxis": "x",
         "yaxis": "y3"
        },
        {
         "alignmentgroup": "True",
         "bingroup": "x",
         "hovertemplate": "SalePrice=%{x}<br>count=%{y}<extra></extra>",
         "legendgroup": "155900",
         "marker": {
          "color": "#1f77b4",
          "pattern": {
           "shape": ""
          }
         },
         "name": "histogram",
         "nbinsx": 80,
         "offsetgroup": "155900",
         "orientation": "v",
         "showlegend": true,
         "type": "histogram",
         "x": [
          155900
         ],
         "xaxis": "x",
         "yaxis": "y3"
        },
        {
         "alignmentgroup": "True",
         "bingroup": "x",
         "hovertemplate": "SalePrice=%{x}<br>count=%{y}<extra></extra>",
         "legendgroup": "83500",
         "marker": {
          "color": "#1f77b4",
          "pattern": {
           "shape": ""
          }
         },
         "name": "histogram",
         "nbinsx": 80,
         "offsetgroup": "83500",
         "orientation": "v",
         "showlegend": true,
         "type": "histogram",
         "x": [
          83500
         ],
         "xaxis": "x",
         "yaxis": "y3"
        },
        {
         "alignmentgroup": "True",
         "bingroup": "x",
         "hovertemplate": "SalePrice=%{x}<br>count=%{y}<extra></extra>",
         "legendgroup": "252000",
         "marker": {
          "color": "#1f77b4",
          "pattern": {
           "shape": ""
          }
         },
         "name": "histogram",
         "nbinsx": 80,
         "offsetgroup": "252000",
         "orientation": "v",
         "showlegend": true,
         "type": "histogram",
         "x": [
          252000
         ],
         "xaxis": "x",
         "yaxis": "y3"
        },
        {
         "alignmentgroup": "True",
         "bingroup": "x",
         "hovertemplate": "SalePrice=%{x}<br>count=%{y}<extra></extra>",
         "legendgroup": "92900",
         "marker": {
          "color": "#1f77b4",
          "pattern": {
           "shape": ""
          }
         },
         "name": "histogram",
         "nbinsx": 80,
         "offsetgroup": "92900",
         "orientation": "v",
         "showlegend": true,
         "type": "histogram",
         "x": [
          92900
         ],
         "xaxis": "x",
         "yaxis": "y3"
        },
        {
         "alignmentgroup": "True",
         "bingroup": "x",
         "hovertemplate": "SalePrice=%{x}<br>count=%{y}<extra></extra>",
         "legendgroup": "176432",
         "marker": {
          "color": "#1f77b4",
          "pattern": {
           "shape": ""
          }
         },
         "name": "histogram",
         "nbinsx": 80,
         "offsetgroup": "176432",
         "orientation": "v",
         "showlegend": true,
         "type": "histogram",
         "x": [
          176432
         ],
         "xaxis": "x",
         "yaxis": "y3"
        },
        {
         "alignmentgroup": "True",
         "bingroup": "x",
         "hovertemplate": "SalePrice=%{x}<br>count=%{y}<extra></extra>",
         "legendgroup": "274725",
         "marker": {
          "color": "#1f77b4",
          "pattern": {
           "shape": ""
          }
         },
         "name": "histogram",
         "nbinsx": 80,
         "offsetgroup": "274725",
         "orientation": "v",
         "showlegend": true,
         "type": "histogram",
         "x": [
          274725
         ],
         "xaxis": "x",
         "yaxis": "y3"
        },
        {
         "alignmentgroup": "True",
         "bingroup": "x",
         "hovertemplate": "SalePrice=%{x}<br>count=%{y}<extra></extra>",
         "legendgroup": "134500",
         "marker": {
          "color": "#1f77b4",
          "pattern": {
           "shape": ""
          }
         },
         "name": "histogram",
         "nbinsx": 80,
         "offsetgroup": "134500",
         "orientation": "v",
         "showlegend": true,
         "type": "histogram",
         "x": [
          134500,
          134500
         ],
         "xaxis": "x",
         "yaxis": "y3"
        },
        {
         "alignmentgroup": "True",
         "bingroup": "x",
         "hovertemplate": "SalePrice=%{x}<br>count=%{y}<extra></extra>",
         "legendgroup": "184100",
         "marker": {
          "color": "#1f77b4",
          "pattern": {
           "shape": ""
          }
         },
         "name": "histogram",
         "nbinsx": 80,
         "offsetgroup": "184100",
         "orientation": "v",
         "showlegend": true,
         "type": "histogram",
         "x": [
          184100
         ],
         "xaxis": "x",
         "yaxis": "y3"
        },
        {
         "alignmentgroup": "True",
         "bingroup": "x",
         "hovertemplate": "SalePrice=%{x}<br>count=%{y}<extra></extra>",
         "legendgroup": "133700",
         "marker": {
          "color": "#1f77b4",
          "pattern": {
           "shape": ""
          }
         },
         "name": "histogram",
         "nbinsx": 80,
         "offsetgroup": "133700",
         "orientation": "v",
         "showlegend": true,
         "type": "histogram",
         "x": [
          133700
         ],
         "xaxis": "x",
         "yaxis": "y3"
        },
        {
         "alignmentgroup": "True",
         "bingroup": "x",
         "hovertemplate": "SalePrice=%{x}<br>count=%{y}<extra></extra>",
         "legendgroup": "118400",
         "marker": {
          "color": "#1f77b4",
          "pattern": {
           "shape": ""
          }
         },
         "name": "histogram",
         "nbinsx": 80,
         "offsetgroup": "118400",
         "orientation": "v",
         "showlegend": true,
         "type": "histogram",
         "x": [
          118400
         ],
         "xaxis": "x",
         "yaxis": "y3"
        },
        {
         "alignmentgroup": "True",
         "bingroup": "x",
         "hovertemplate": "SalePrice=%{x}<br>count=%{y}<extra></extra>",
         "legendgroup": "212900",
         "marker": {
          "color": "#1f77b4",
          "pattern": {
           "shape": ""
          }
         },
         "name": "histogram",
         "nbinsx": 80,
         "offsetgroup": "212900",
         "orientation": "v",
         "showlegend": true,
         "type": "histogram",
         "x": [
          212900
         ],
         "xaxis": "x",
         "yaxis": "y3"
        },
        {
         "alignmentgroup": "True",
         "bingroup": "x",
         "hovertemplate": "SalePrice=%{x}<br>count=%{y}<extra></extra>",
         "legendgroup": "163900",
         "marker": {
          "color": "#1f77b4",
          "pattern": {
           "shape": ""
          }
         },
         "name": "histogram",
         "nbinsx": 80,
         "offsetgroup": "163900",
         "orientation": "v",
         "showlegend": true,
         "type": "histogram",
         "x": [
          163900
         ],
         "xaxis": "x",
         "yaxis": "y3"
        },
        {
         "alignmentgroup": "True",
         "bingroup": "x",
         "hovertemplate": "SalePrice=%{x}<br>count=%{y}<extra></extra>",
         "legendgroup": "259000",
         "marker": {
          "color": "#1f77b4",
          "pattern": {
           "shape": ""
          }
         },
         "name": "histogram",
         "nbinsx": 80,
         "offsetgroup": "259000",
         "orientation": "v",
         "showlegend": true,
         "type": "histogram",
         "x": [
          259000
         ],
         "xaxis": "x",
         "yaxis": "y3"
        },
        {
         "alignmentgroup": "True",
         "bingroup": "x",
         "hovertemplate": "SalePrice=%{x}<br>count=%{y}<extra></extra>",
         "legendgroup": "239500",
         "marker": {
          "color": "#1f77b4",
          "pattern": {
           "shape": ""
          }
         },
         "name": "histogram",
         "nbinsx": 80,
         "offsetgroup": "239500",
         "orientation": "v",
         "showlegend": true,
         "type": "histogram",
         "x": [
          239500
         ],
         "xaxis": "x",
         "yaxis": "y3"
        },
        {
         "alignmentgroup": "True",
         "bingroup": "x",
         "hovertemplate": "SalePrice=%{x}<br>count=%{y}<extra></extra>",
         "legendgroup": "94000",
         "marker": {
          "color": "#1f77b4",
          "pattern": {
           "shape": ""
          }
         },
         "name": "histogram",
         "nbinsx": 80,
         "offsetgroup": "94000",
         "orientation": "v",
         "showlegend": true,
         "type": "histogram",
         "x": [
          94000
         ],
         "xaxis": "x",
         "yaxis": "y3"
        },
        {
         "alignmentgroup": "True",
         "bingroup": "x",
         "hovertemplate": "SalePrice=%{x}<br>count=%{y}<extra></extra>",
         "legendgroup": "424870",
         "marker": {
          "color": "#1f77b4",
          "pattern": {
           "shape": ""
          }
         },
         "name": "histogram",
         "nbinsx": 80,
         "offsetgroup": "424870",
         "orientation": "v",
         "showlegend": true,
         "type": "histogram",
         "x": [
          424870
         ],
         "xaxis": "x",
         "yaxis": "y3"
        },
        {
         "alignmentgroup": "True",
         "bingroup": "x",
         "hovertemplate": "SalePrice=%{x}<br>count=%{y}<extra></extra>",
         "legendgroup": "174500",
         "marker": {
          "color": "#1f77b4",
          "pattern": {
           "shape": ""
          }
         },
         "name": "histogram",
         "nbinsx": 80,
         "offsetgroup": "174500",
         "orientation": "v",
         "showlegend": true,
         "type": "histogram",
         "x": [
          174500
         ],
         "xaxis": "x",
         "yaxis": "y3"
        },
        {
         "alignmentgroup": "True",
         "bingroup": "x",
         "hovertemplate": "SalePrice=%{x}<br>count=%{y}<extra></extra>",
         "legendgroup": "116900",
         "marker": {
          "color": "#1f77b4",
          "pattern": {
           "shape": ""
          }
         },
         "name": "histogram",
         "nbinsx": 80,
         "offsetgroup": "116900",
         "orientation": "v",
         "showlegend": true,
         "type": "histogram",
         "x": [
          116900
         ],
         "xaxis": "x",
         "yaxis": "y3"
        },
        {
         "alignmentgroup": "True",
         "bingroup": "x",
         "hovertemplate": "SalePrice=%{x}<br>count=%{y}<extra></extra>",
         "legendgroup": "201800",
         "marker": {
          "color": "#1f77b4",
          "pattern": {
           "shape": ""
          }
         },
         "name": "histogram",
         "nbinsx": 80,
         "offsetgroup": "201800",
         "orientation": "v",
         "showlegend": true,
         "type": "histogram",
         "x": [
          201800
         ],
         "xaxis": "x",
         "yaxis": "y3"
        },
        {
         "alignmentgroup": "True",
         "bingroup": "x",
         "hovertemplate": "SalePrice=%{x}<br>count=%{y}<extra></extra>",
         "legendgroup": "218000",
         "marker": {
          "color": "#1f77b4",
          "pattern": {
           "shape": ""
          }
         },
         "name": "histogram",
         "nbinsx": 80,
         "offsetgroup": "218000",
         "orientation": "v",
         "showlegend": true,
         "type": "histogram",
         "x": [
          218000
         ],
         "xaxis": "x",
         "yaxis": "y3"
        },
        {
         "alignmentgroup": "True",
         "bingroup": "x",
         "hovertemplate": "SalePrice=%{x}<br>count=%{y}<extra></extra>",
         "legendgroup": "235128",
         "marker": {
          "color": "#1f77b4",
          "pattern": {
           "shape": ""
          }
         },
         "name": "histogram",
         "nbinsx": 80,
         "offsetgroup": "235128",
         "orientation": "v",
         "showlegend": true,
         "type": "histogram",
         "x": [
          235128
         ],
         "xaxis": "x",
         "yaxis": "y3"
        },
        {
         "alignmentgroup": "True",
         "bingroup": "x",
         "hovertemplate": "SalePrice=%{x}<br>count=%{y}<extra></extra>",
         "legendgroup": "108959",
         "marker": {
          "color": "#1f77b4",
          "pattern": {
           "shape": ""
          }
         },
         "name": "histogram",
         "nbinsx": 80,
         "offsetgroup": "108959",
         "orientation": "v",
         "showlegend": true,
         "type": "histogram",
         "x": [
          108959
         ],
         "xaxis": "x",
         "yaxis": "y3"
        },
        {
         "alignmentgroup": "True",
         "bingroup": "x",
         "hovertemplate": "SalePrice=%{x}<br>count=%{y}<extra></extra>",
         "legendgroup": "233170",
         "marker": {
          "color": "#1f77b4",
          "pattern": {
           "shape": ""
          }
         },
         "name": "histogram",
         "nbinsx": 80,
         "offsetgroup": "233170",
         "orientation": "v",
         "showlegend": true,
         "type": "histogram",
         "x": [
          233170
         ],
         "xaxis": "x",
         "yaxis": "y3"
        },
        {
         "alignmentgroup": "True",
         "bingroup": "x",
         "hovertemplate": "SalePrice=%{x}<br>count=%{y}<extra></extra>",
         "legendgroup": "245350",
         "marker": {
          "color": "#1f77b4",
          "pattern": {
           "shape": ""
          }
         },
         "name": "histogram",
         "nbinsx": 80,
         "offsetgroup": "245350",
         "orientation": "v",
         "showlegend": true,
         "type": "histogram",
         "x": [
          245350
         ],
         "xaxis": "x",
         "yaxis": "y3"
        },
        {
         "alignmentgroup": "True",
         "bingroup": "x",
         "hovertemplate": "SalePrice=%{x}<br>count=%{y}<extra></extra>",
         "legendgroup": "625000",
         "marker": {
          "color": "#1f77b4",
          "pattern": {
           "shape": ""
          }
         },
         "name": "histogram",
         "nbinsx": 80,
         "offsetgroup": "625000",
         "orientation": "v",
         "showlegend": true,
         "type": "histogram",
         "x": [
          625000
         ],
         "xaxis": "x",
         "yaxis": "y3"
        },
        {
         "alignmentgroup": "True",
         "bingroup": "x",
         "hovertemplate": "SalePrice=%{x}<br>count=%{y}<extra></extra>",
         "legendgroup": "171900",
         "marker": {
          "color": "#1f77b4",
          "pattern": {
           "shape": ""
          }
         },
         "name": "histogram",
         "nbinsx": 80,
         "offsetgroup": "171900",
         "orientation": "v",
         "showlegend": true,
         "type": "histogram",
         "x": [
          171900
         ],
         "xaxis": "x",
         "yaxis": "y3"
        },
        {
         "alignmentgroup": "True",
         "bingroup": "x",
         "hovertemplate": "SalePrice=%{x}<br>count=%{y}<extra></extra>",
         "legendgroup": "154900",
         "marker": {
          "color": "#1f77b4",
          "pattern": {
           "shape": ""
          }
         },
         "name": "histogram",
         "nbinsx": 80,
         "offsetgroup": "154900",
         "orientation": "v",
         "showlegend": true,
         "type": "histogram",
         "x": [
          154900
         ],
         "xaxis": "x",
         "yaxis": "y3"
        },
        {
         "alignmentgroup": "True",
         "bingroup": "x",
         "hovertemplate": "SalePrice=%{x}<br>count=%{y}<extra></extra>",
         "legendgroup": "392500",
         "marker": {
          "color": "#1f77b4",
          "pattern": {
           "shape": ""
          }
         },
         "name": "histogram",
         "nbinsx": 80,
         "offsetgroup": "392500",
         "orientation": "v",
         "showlegend": true,
         "type": "histogram",
         "x": [
          392500
         ],
         "xaxis": "x",
         "yaxis": "y3"
        },
        {
         "alignmentgroup": "True",
         "bingroup": "x",
         "hovertemplate": "SalePrice=%{x}<br>count=%{y}<extra></extra>",
         "legendgroup": "745000",
         "marker": {
          "color": "#1f77b4",
          "pattern": {
           "shape": ""
          }
         },
         "name": "histogram",
         "nbinsx": 80,
         "offsetgroup": "745000",
         "orientation": "v",
         "showlegend": true,
         "type": "histogram",
         "x": [
          745000
         ],
         "xaxis": "x",
         "yaxis": "y3"
        },
        {
         "alignmentgroup": "True",
         "bingroup": "x",
         "hovertemplate": "SalePrice=%{x}<br>count=%{y}<extra></extra>",
         "legendgroup": "186700",
         "marker": {
          "color": "#1f77b4",
          "pattern": {
           "shape": ""
          }
         },
         "name": "histogram",
         "nbinsx": 80,
         "offsetgroup": "186700",
         "orientation": "v",
         "showlegend": true,
         "type": "histogram",
         "x": [
          186700
         ],
         "xaxis": "x",
         "yaxis": "y3"
        },
        {
         "alignmentgroup": "True",
         "bingroup": "x",
         "hovertemplate": "SalePrice=%{x}<br>count=%{y}<extra></extra>",
         "legendgroup": "104900",
         "marker": {
          "color": "#1f77b4",
          "pattern": {
           "shape": ""
          }
         },
         "name": "histogram",
         "nbinsx": 80,
         "offsetgroup": "104900",
         "orientation": "v",
         "showlegend": true,
         "type": "histogram",
         "x": [
          104900,
          104900
         ],
         "xaxis": "x",
         "yaxis": "y3"
        },
        {
         "alignmentgroup": "True",
         "bingroup": "x",
         "hovertemplate": "SalePrice=%{x}<br>count=%{y}<extra></extra>",
         "legendgroup": "262000",
         "marker": {
          "color": "#1f77b4",
          "pattern": {
           "shape": ""
          }
         },
         "name": "histogram",
         "nbinsx": 80,
         "offsetgroup": "262000",
         "orientation": "v",
         "showlegend": true,
         "type": "histogram",
         "x": [
          262000
         ],
         "xaxis": "x",
         "yaxis": "y3"
        },
        {
         "alignmentgroup": "True",
         "bingroup": "x",
         "hovertemplate": "SalePrice=%{x}<br>count=%{y}<extra></extra>",
         "legendgroup": "219210",
         "marker": {
          "color": "#1f77b4",
          "pattern": {
           "shape": ""
          }
         },
         "name": "histogram",
         "nbinsx": 80,
         "offsetgroup": "219210",
         "orientation": "v",
         "showlegend": true,
         "type": "histogram",
         "x": [
          219210
         ],
         "xaxis": "x",
         "yaxis": "y3"
        },
        {
         "alignmentgroup": "True",
         "bingroup": "x",
         "hovertemplate": "SalePrice=%{x}<br>count=%{y}<extra></extra>",
         "legendgroup": "116050",
         "marker": {
          "color": "#1f77b4",
          "pattern": {
           "shape": ""
          }
         },
         "name": "histogram",
         "nbinsx": 80,
         "offsetgroup": "116050",
         "orientation": "v",
         "showlegend": true,
         "type": "histogram",
         "x": [
          116050
         ],
         "xaxis": "x",
         "yaxis": "y3"
        },
        {
         "alignmentgroup": "True",
         "bingroup": "x",
         "hovertemplate": "SalePrice=%{x}<br>count=%{y}<extra></extra>",
         "legendgroup": "271900",
         "marker": {
          "color": "#1f77b4",
          "pattern": {
           "shape": ""
          }
         },
         "name": "histogram",
         "nbinsx": 80,
         "offsetgroup": "271900",
         "orientation": "v",
         "showlegend": true,
         "type": "histogram",
         "x": [
          271900
         ],
         "xaxis": "x",
         "yaxis": "y3"
        },
        {
         "alignmentgroup": "True",
         "bingroup": "x",
         "hovertemplate": "SalePrice=%{x}<br>count=%{y}<extra></extra>",
         "legendgroup": "229456",
         "marker": {
          "color": "#1f77b4",
          "pattern": {
           "shape": ""
          }
         },
         "name": "histogram",
         "nbinsx": 80,
         "offsetgroup": "229456",
         "orientation": "v",
         "showlegend": true,
         "type": "histogram",
         "x": [
          229456
         ],
         "xaxis": "x",
         "yaxis": "y3"
        },
        {
         "alignmentgroup": "True",
         "bingroup": "x",
         "hovertemplate": "SalePrice=%{x}<br>count=%{y}<extra></extra>",
         "legendgroup": "80500",
         "marker": {
          "color": "#1f77b4",
          "pattern": {
           "shape": ""
          }
         },
         "name": "histogram",
         "nbinsx": 80,
         "offsetgroup": "80500",
         "orientation": "v",
         "showlegend": true,
         "type": "histogram",
         "x": [
          80500
         ],
         "xaxis": "x",
         "yaxis": "y3"
        },
        {
         "alignmentgroup": "True",
         "bingroup": "x",
         "hovertemplate": "SalePrice=%{x}<br>count=%{y}<extra></extra>",
         "legendgroup": "137900",
         "marker": {
          "color": "#1f77b4",
          "pattern": {
           "shape": ""
          }
         },
         "name": "histogram",
         "nbinsx": 80,
         "offsetgroup": "137900",
         "orientation": "v",
         "showlegend": true,
         "type": "histogram",
         "x": [
          137900
         ],
         "xaxis": "x",
         "yaxis": "y3"
        },
        {
         "alignmentgroup": "True",
         "bingroup": "x",
         "hovertemplate": "SalePrice=%{x}<br>count=%{y}<extra></extra>",
         "legendgroup": "367294",
         "marker": {
          "color": "#1f77b4",
          "pattern": {
           "shape": ""
          }
         },
         "name": "histogram",
         "nbinsx": 80,
         "offsetgroup": "367294",
         "orientation": "v",
         "showlegend": true,
         "type": "histogram",
         "x": [
          367294
         ],
         "xaxis": "x",
         "yaxis": "y3"
        },
        {
         "alignmentgroup": "True",
         "bingroup": "x",
         "hovertemplate": "SalePrice=%{x}<br>count=%{y}<extra></extra>",
         "legendgroup": "101800",
         "marker": {
          "color": "#1f77b4",
          "pattern": {
           "shape": ""
          }
         },
         "name": "histogram",
         "nbinsx": 80,
         "offsetgroup": "101800",
         "orientation": "v",
         "showlegend": true,
         "type": "histogram",
         "x": [
          101800
         ],
         "xaxis": "x",
         "yaxis": "y3"
        },
        {
         "alignmentgroup": "True",
         "bingroup": "x",
         "hovertemplate": "SalePrice=%{x}<br>count=%{y}<extra></extra>",
         "legendgroup": "138887",
         "marker": {
          "color": "#1f77b4",
          "pattern": {
           "shape": ""
          }
         },
         "name": "histogram",
         "nbinsx": 80,
         "offsetgroup": "138887",
         "orientation": "v",
         "showlegend": true,
         "type": "histogram",
         "x": [
          138887
         ],
         "xaxis": "x",
         "yaxis": "y3"
        },
        {
         "alignmentgroup": "True",
         "bingroup": "x",
         "hovertemplate": "SalePrice=%{x}<br>count=%{y}<extra></extra>",
         "legendgroup": "265900",
         "marker": {
          "color": "#1f77b4",
          "pattern": {
           "shape": ""
          }
         },
         "name": "histogram",
         "nbinsx": 80,
         "offsetgroup": "265900",
         "orientation": "v",
         "showlegend": true,
         "type": "histogram",
         "x": [
          265900
         ],
         "xaxis": "x",
         "yaxis": "y3"
        },
        {
         "alignmentgroup": "True",
         "bingroup": "x",
         "hovertemplate": "SalePrice=%{x}<br>count=%{y}<extra></extra>",
         "legendgroup": "248328",
         "marker": {
          "color": "#1f77b4",
          "pattern": {
           "shape": ""
          }
         },
         "name": "histogram",
         "nbinsx": 80,
         "offsetgroup": "248328",
         "orientation": "v",
         "showlegend": true,
         "type": "histogram",
         "x": [
          248328
         ],
         "xaxis": "x",
         "yaxis": "y3"
        },
        {
         "alignmentgroup": "True",
         "bingroup": "x",
         "hovertemplate": "SalePrice=%{x}<br>count=%{y}<extra></extra>",
         "legendgroup": "465000",
         "marker": {
          "color": "#1f77b4",
          "pattern": {
           "shape": ""
          }
         },
         "name": "histogram",
         "nbinsx": 80,
         "offsetgroup": "465000",
         "orientation": "v",
         "showlegend": true,
         "type": "histogram",
         "x": [
          465000
         ],
         "xaxis": "x",
         "yaxis": "y3"
        },
        {
         "alignmentgroup": "True",
         "bingroup": "x",
         "hovertemplate": "SalePrice=%{x}<br>count=%{y}<extra></extra>",
         "legendgroup": "186500",
         "marker": {
          "color": "#1f77b4",
          "pattern": {
           "shape": ""
          }
         },
         "name": "histogram",
         "nbinsx": 80,
         "offsetgroup": "186500",
         "orientation": "v",
         "showlegend": true,
         "type": "histogram",
         "x": [
          186500,
          186500
         ],
         "xaxis": "x",
         "yaxis": "y3"
        },
        {
         "alignmentgroup": "True",
         "bingroup": "x",
         "hovertemplate": "SalePrice=%{x}<br>count=%{y}<extra></extra>",
         "legendgroup": "169900",
         "marker": {
          "color": "#1f77b4",
          "pattern": {
           "shape": ""
          }
         },
         "name": "histogram",
         "nbinsx": 80,
         "offsetgroup": "169900",
         "orientation": "v",
         "showlegend": true,
         "type": "histogram",
         "x": [
          169900
         ],
         "xaxis": "x",
         "yaxis": "y3"
        },
        {
         "alignmentgroup": "True",
         "bingroup": "x",
         "hovertemplate": "SalePrice=%{x}<br>count=%{y}<extra></extra>",
         "legendgroup": "171750",
         "marker": {
          "color": "#1f77b4",
          "pattern": {
           "shape": ""
          }
         },
         "name": "histogram",
         "nbinsx": 80,
         "offsetgroup": "171750",
         "orientation": "v",
         "showlegend": true,
         "type": "histogram",
         "x": [
          171750
         ],
         "xaxis": "x",
         "yaxis": "y3"
        },
        {
         "alignmentgroup": "True",
         "bingroup": "x",
         "hovertemplate": "SalePrice=%{x}<br>count=%{y}<extra></extra>",
         "legendgroup": "294000",
         "marker": {
          "color": "#1f77b4",
          "pattern": {
           "shape": ""
          }
         },
         "name": "histogram",
         "nbinsx": 80,
         "offsetgroup": "294000",
         "orientation": "v",
         "showlegend": true,
         "type": "histogram",
         "x": [
          294000
         ],
         "xaxis": "x",
         "yaxis": "y3"
        },
        {
         "alignmentgroup": "True",
         "bingroup": "x",
         "hovertemplate": "SalePrice=%{x}<br>count=%{y}<extra></extra>",
         "legendgroup": "165400",
         "marker": {
          "color": "#1f77b4",
          "pattern": {
           "shape": ""
          }
         },
         "name": "histogram",
         "nbinsx": 80,
         "offsetgroup": "165400",
         "orientation": "v",
         "showlegend": true,
         "type": "histogram",
         "x": [
          165400
         ],
         "xaxis": "x",
         "yaxis": "y3"
        },
        {
         "alignmentgroup": "True",
         "bingroup": "x",
         "hovertemplate": "SalePrice=%{x}<br>count=%{y}<extra></extra>",
         "legendgroup": "301500",
         "marker": {
          "color": "#1f77b4",
          "pattern": {
           "shape": ""
          }
         },
         "name": "histogram",
         "nbinsx": 80,
         "offsetgroup": "301500",
         "orientation": "v",
         "showlegend": true,
         "type": "histogram",
         "x": [
          301500
         ],
         "xaxis": "x",
         "yaxis": "y3"
        },
        {
         "alignmentgroup": "True",
         "bingroup": "x",
         "hovertemplate": "SalePrice=%{x}<br>count=%{y}<extra></extra>",
         "legendgroup": "99900",
         "marker": {
          "color": "#1f77b4",
          "pattern": {
           "shape": ""
          }
         },
         "name": "histogram",
         "nbinsx": 80,
         "offsetgroup": "99900",
         "orientation": "v",
         "showlegend": true,
         "type": "histogram",
         "x": [
          99900
         ],
         "xaxis": "x",
         "yaxis": "y3"
        },
        {
         "alignmentgroup": "True",
         "bingroup": "x",
         "hovertemplate": "SalePrice=%{x}<br>count=%{y}<extra></extra>",
         "legendgroup": "128900",
         "marker": {
          "color": "#1f77b4",
          "pattern": {
           "shape": ""
          }
         },
         "name": "histogram",
         "nbinsx": 80,
         "offsetgroup": "128900",
         "orientation": "v",
         "showlegend": true,
         "type": "histogram",
         "x": [
          128900
         ],
         "xaxis": "x",
         "yaxis": "y3"
        },
        {
         "alignmentgroup": "True",
         "bingroup": "x",
         "hovertemplate": "SalePrice=%{x}<br>count=%{y}<extra></extra>",
         "legendgroup": "183900",
         "marker": {
          "color": "#1f77b4",
          "pattern": {
           "shape": ""
          }
         },
         "name": "histogram",
         "nbinsx": 80,
         "offsetgroup": "183900",
         "orientation": "v",
         "showlegend": true,
         "type": "histogram",
         "x": [
          183900
         ],
         "xaxis": "x",
         "yaxis": "y3"
        },
        {
         "alignmentgroup": "True",
         "bingroup": "x",
         "hovertemplate": "SalePrice=%{x}<br>count=%{y}<extra></extra>",
         "legendgroup": "378500",
         "marker": {
          "color": "#1f77b4",
          "pattern": {
           "shape": ""
          }
         },
         "name": "histogram",
         "nbinsx": 80,
         "offsetgroup": "378500",
         "orientation": "v",
         "showlegend": true,
         "type": "histogram",
         "x": [
          378500
         ],
         "xaxis": "x",
         "yaxis": "y3"
        },
        {
         "alignmentgroup": "True",
         "bingroup": "x",
         "hovertemplate": "SalePrice=%{x}<br>count=%{y}<extra></extra>",
         "legendgroup": "381000",
         "marker": {
          "color": "#1f77b4",
          "pattern": {
           "shape": ""
          }
         },
         "name": "histogram",
         "nbinsx": 80,
         "offsetgroup": "381000",
         "orientation": "v",
         "showlegend": true,
         "type": "histogram",
         "x": [
          381000
         ],
         "xaxis": "x",
         "yaxis": "y3"
        },
        {
         "alignmentgroup": "True",
         "bingroup": "x",
         "hovertemplate": "SalePrice=%{x}<br>count=%{y}<extra></extra>",
         "legendgroup": "185750",
         "marker": {
          "color": "#1f77b4",
          "pattern": {
           "shape": ""
          }
         },
         "name": "histogram",
         "nbinsx": 80,
         "offsetgroup": "185750",
         "orientation": "v",
         "showlegend": true,
         "type": "histogram",
         "x": [
          185750
         ],
         "xaxis": "x",
         "yaxis": "y3"
        },
        {
         "alignmentgroup": "True",
         "bingroup": "x",
         "hovertemplate": "SalePrice=%{x}<br>count=%{y}<extra></extra>",
         "legendgroup": "68400",
         "marker": {
          "color": "#1f77b4",
          "pattern": {
           "shape": ""
          }
         },
         "name": "histogram",
         "nbinsx": 80,
         "offsetgroup": "68400",
         "orientation": "v",
         "showlegend": true,
         "type": "histogram",
         "x": [
          68400
         ],
         "xaxis": "x",
         "yaxis": "y3"
        },
        {
         "alignmentgroup": "True",
         "bingroup": "x",
         "hovertemplate": "SalePrice=%{x}<br>count=%{y}<extra></extra>",
         "legendgroup": "150500",
         "marker": {
          "color": "#1f77b4",
          "pattern": {
           "shape": ""
          }
         },
         "name": "histogram",
         "nbinsx": 80,
         "offsetgroup": "150500",
         "orientation": "v",
         "showlegend": true,
         "type": "histogram",
         "x": [
          150500
         ],
         "xaxis": "x",
         "yaxis": "y3"
        },
        {
         "alignmentgroup": "True",
         "bingroup": "x",
         "hovertemplate": "SalePrice=%{x}<br>count=%{y}<extra></extra>",
         "legendgroup": "281000",
         "marker": {
          "color": "#1f77b4",
          "pattern": {
           "shape": ""
          }
         },
         "name": "histogram",
         "nbinsx": 80,
         "offsetgroup": "281000",
         "orientation": "v",
         "showlegend": true,
         "type": "histogram",
         "x": [
          281000
         ],
         "xaxis": "x",
         "yaxis": "y3"
        },
        {
         "alignmentgroup": "True",
         "bingroup": "x",
         "hovertemplate": "SalePrice=%{x}<br>count=%{y}<extra></extra>",
         "legendgroup": "333168",
         "marker": {
          "color": "#1f77b4",
          "pattern": {
           "shape": ""
          }
         },
         "name": "histogram",
         "nbinsx": 80,
         "offsetgroup": "333168",
         "orientation": "v",
         "showlegend": true,
         "type": "histogram",
         "x": [
          333168
         ],
         "xaxis": "x",
         "yaxis": "y3"
        },
        {
         "alignmentgroup": "True",
         "bingroup": "x",
         "hovertemplate": "SalePrice=%{x}<br>count=%{y}<extra></extra>",
         "legendgroup": "206900",
         "marker": {
          "color": "#1f77b4",
          "pattern": {
           "shape": ""
          }
         },
         "name": "histogram",
         "nbinsx": 80,
         "offsetgroup": "206900",
         "orientation": "v",
         "showlegend": true,
         "type": "histogram",
         "x": [
          206900
         ],
         "xaxis": "x",
         "yaxis": "y3"
        },
        {
         "alignmentgroup": "True",
         "bingroup": "x",
         "hovertemplate": "SalePrice=%{x}<br>count=%{y}<extra></extra>",
         "legendgroup": "295493",
         "marker": {
          "color": "#1f77b4",
          "pattern": {
           "shape": ""
          }
         },
         "name": "histogram",
         "nbinsx": 80,
         "offsetgroup": "295493",
         "orientation": "v",
         "showlegend": true,
         "type": "histogram",
         "x": [
          295493
         ],
         "xaxis": "x",
         "yaxis": "y3"
        },
        {
         "alignmentgroup": "True",
         "bingroup": "x",
         "hovertemplate": "SalePrice=%{x}<br>count=%{y}<extra></extra>",
         "legendgroup": "111000",
         "marker": {
          "color": "#1f77b4",
          "pattern": {
           "shape": ""
          }
         },
         "name": "histogram",
         "nbinsx": 80,
         "offsetgroup": "111000",
         "orientation": "v",
         "showlegend": true,
         "type": "histogram",
         "x": [
          111000
         ],
         "xaxis": "x",
         "yaxis": "y3"
        },
        {
         "alignmentgroup": "True",
         "bingroup": "x",
         "hovertemplate": "SalePrice=%{x}<br>count=%{y}<extra></extra>",
         "legendgroup": "156500",
         "marker": {
          "color": "#1f77b4",
          "pattern": {
           "shape": ""
          }
         },
         "name": "histogram",
         "nbinsx": 80,
         "offsetgroup": "156500",
         "orientation": "v",
         "showlegend": true,
         "type": "histogram",
         "x": [
          156500
         ],
         "xaxis": "x",
         "yaxis": "y3"
        },
        {
         "alignmentgroup": "True",
         "bingroup": "x",
         "hovertemplate": "SalePrice=%{x}<br>count=%{y}<extra></extra>",
         "legendgroup": "72500",
         "marker": {
          "color": "#1f77b4",
          "pattern": {
           "shape": ""
          }
         },
         "name": "histogram",
         "nbinsx": 80,
         "offsetgroup": "72500",
         "orientation": "v",
         "showlegend": true,
         "type": "histogram",
         "x": [
          72500
         ],
         "xaxis": "x",
         "yaxis": "y3"
        },
        {
         "alignmentgroup": "True",
         "bingroup": "x",
         "hovertemplate": "SalePrice=%{x}<br>count=%{y}<extra></extra>",
         "legendgroup": "52500",
         "marker": {
          "color": "#1f77b4",
          "pattern": {
           "shape": ""
          }
         },
         "name": "histogram",
         "nbinsx": 80,
         "offsetgroup": "52500",
         "orientation": "v",
         "showlegend": true,
         "type": "histogram",
         "x": [
          52500
         ],
         "xaxis": "x",
         "yaxis": "y3"
        },
        {
         "alignmentgroup": "True",
         "bingroup": "x",
         "hovertemplate": "SalePrice=%{x}<br>count=%{y}<extra></extra>",
         "legendgroup": "155835",
         "marker": {
          "color": "#1f77b4",
          "pattern": {
           "shape": ""
          }
         },
         "name": "histogram",
         "nbinsx": 80,
         "offsetgroup": "155835",
         "orientation": "v",
         "showlegend": true,
         "type": "histogram",
         "x": [
          155835
         ],
         "xaxis": "x",
         "yaxis": "y3"
        },
        {
         "alignmentgroup": "True",
         "bingroup": "x",
         "hovertemplate": "SalePrice=%{x}<br>count=%{y}<extra></extra>",
         "legendgroup": "108500",
         "marker": {
          "color": "#1f77b4",
          "pattern": {
           "shape": ""
          }
         },
         "name": "histogram",
         "nbinsx": 80,
         "offsetgroup": "108500",
         "orientation": "v",
         "showlegend": true,
         "type": "histogram",
         "x": [
          108500
         ],
         "xaxis": "x",
         "yaxis": "y3"
        },
        {
         "alignmentgroup": "True",
         "bingroup": "x",
         "hovertemplate": "SalePrice=%{x}<br>count=%{y}<extra></extra>",
         "legendgroup": "283463",
         "marker": {
          "color": "#1f77b4",
          "pattern": {
           "shape": ""
          }
         },
         "name": "histogram",
         "nbinsx": 80,
         "offsetgroup": "283463",
         "orientation": "v",
         "showlegend": true,
         "type": "histogram",
         "x": [
          283463
         ],
         "xaxis": "x",
         "yaxis": "y3"
        },
        {
         "alignmentgroup": "True",
         "bingroup": "x",
         "hovertemplate": "SalePrice=%{x}<br>count=%{y}<extra></extra>",
         "legendgroup": "410000",
         "marker": {
          "color": "#1f77b4",
          "pattern": {
           "shape": ""
          }
         },
         "name": "histogram",
         "nbinsx": 80,
         "offsetgroup": "410000",
         "orientation": "v",
         "showlegend": true,
         "type": "histogram",
         "x": [
          410000
         ],
         "xaxis": "x",
         "yaxis": "y3"
        },
        {
         "alignmentgroup": "True",
         "bingroup": "x",
         "hovertemplate": "SalePrice=%{x}<br>count=%{y}<extra></extra>",
         "legendgroup": "156932",
         "marker": {
          "color": "#1f77b4",
          "pattern": {
           "shape": ""
          }
         },
         "name": "histogram",
         "nbinsx": 80,
         "offsetgroup": "156932",
         "orientation": "v",
         "showlegend": true,
         "type": "histogram",
         "x": [
          156932
         ],
         "xaxis": "x",
         "yaxis": "y3"
        },
        {
         "alignmentgroup": "True",
         "bingroup": "x",
         "hovertemplate": "SalePrice=%{x}<br>count=%{y}<extra></extra>",
         "legendgroup": "144152",
         "marker": {
          "color": "#1f77b4",
          "pattern": {
           "shape": ""
          }
         },
         "name": "histogram",
         "nbinsx": 80,
         "offsetgroup": "144152",
         "orientation": "v",
         "showlegend": true,
         "type": "histogram",
         "x": [
          144152
         ],
         "xaxis": "x",
         "yaxis": "y3"
        },
        {
         "alignmentgroup": "True",
         "bingroup": "x",
         "hovertemplate": "SalePrice=%{x}<br>count=%{y}<extra></extra>",
         "legendgroup": "216000",
         "marker": {
          "color": "#1f77b4",
          "pattern": {
           "shape": ""
          }
         },
         "name": "histogram",
         "nbinsx": 80,
         "offsetgroup": "216000",
         "orientation": "v",
         "showlegend": true,
         "type": "histogram",
         "x": [
          216000
         ],
         "xaxis": "x",
         "yaxis": "y3"
        },
        {
         "alignmentgroup": "True",
         "bingroup": "x",
         "hovertemplate": "SalePrice=%{x}<br>count=%{y}<extra></extra>",
         "legendgroup": "274300",
         "marker": {
          "color": "#1f77b4",
          "pattern": {
           "shape": ""
          }
         },
         "name": "histogram",
         "nbinsx": 80,
         "offsetgroup": "274300",
         "orientation": "v",
         "showlegend": true,
         "type": "histogram",
         "x": [
          274300
         ],
         "xaxis": "x",
         "yaxis": "y3"
        },
        {
         "alignmentgroup": "True",
         "bingroup": "x",
         "hovertemplate": "SalePrice=%{x}<br>count=%{y}<extra></extra>",
         "legendgroup": "466500",
         "marker": {
          "color": "#1f77b4",
          "pattern": {
           "shape": ""
          }
         },
         "name": "histogram",
         "nbinsx": 80,
         "offsetgroup": "466500",
         "orientation": "v",
         "showlegend": true,
         "type": "histogram",
         "x": [
          466500
         ],
         "xaxis": "x",
         "yaxis": "y3"
        },
        {
         "alignmentgroup": "True",
         "bingroup": "x",
         "hovertemplate": "SalePrice=%{x}<br>count=%{y}<extra></extra>",
         "legendgroup": "58500",
         "marker": {
          "color": "#1f77b4",
          "pattern": {
           "shape": ""
          }
         },
         "name": "histogram",
         "nbinsx": 80,
         "offsetgroup": "58500",
         "orientation": "v",
         "showlegend": true,
         "type": "histogram",
         "x": [
          58500
         ],
         "xaxis": "x",
         "yaxis": "y3"
        },
        {
         "alignmentgroup": "True",
         "bingroup": "x",
         "hovertemplate": "SalePrice=%{x}<br>count=%{y}<extra></extra>",
         "legendgroup": "237500",
         "marker": {
          "color": "#1f77b4",
          "pattern": {
           "shape": ""
          }
         },
         "name": "histogram",
         "nbinsx": 80,
         "offsetgroup": "237500",
         "orientation": "v",
         "showlegend": true,
         "type": "histogram",
         "x": [
          237500
         ],
         "xaxis": "x",
         "yaxis": "y3"
        },
        {
         "alignmentgroup": "True",
         "bingroup": "x",
         "hovertemplate": "SalePrice=%{x}<br>count=%{y}<extra></extra>",
         "legendgroup": "377500",
         "marker": {
          "color": "#1f77b4",
          "pattern": {
           "shape": ""
          }
         },
         "name": "histogram",
         "nbinsx": 80,
         "offsetgroup": "377500",
         "orientation": "v",
         "showlegend": true,
         "type": "histogram",
         "x": [
          377500
         ],
         "xaxis": "x",
         "yaxis": "y3"
        },
        {
         "alignmentgroup": "True",
         "bingroup": "x",
         "hovertemplate": "SalePrice=%{x}<br>count=%{y}<extra></extra>",
         "legendgroup": "246578",
         "marker": {
          "color": "#1f77b4",
          "pattern": {
           "shape": ""
          }
         },
         "name": "histogram",
         "nbinsx": 80,
         "offsetgroup": "246578",
         "orientation": "v",
         "showlegend": true,
         "type": "histogram",
         "x": [
          246578
         ],
         "xaxis": "x",
         "yaxis": "y3"
        },
        {
         "alignmentgroup": "True",
         "bingroup": "x",
         "hovertemplate": "SalePrice=%{x}<br>count=%{y}<extra></extra>",
         "legendgroup": "281213",
         "marker": {
          "color": "#1f77b4",
          "pattern": {
           "shape": ""
          }
         },
         "name": "histogram",
         "nbinsx": 80,
         "offsetgroup": "281213",
         "orientation": "v",
         "showlegend": true,
         "type": "histogram",
         "x": [
          281213
         ],
         "xaxis": "x",
         "yaxis": "y3"
        },
        {
         "alignmentgroup": "True",
         "bingroup": "x",
         "hovertemplate": "SalePrice=%{x}<br>count=%{y}<extra></extra>",
         "legendgroup": "137450",
         "marker": {
          "color": "#1f77b4",
          "pattern": {
           "shape": ""
          }
         },
         "name": "histogram",
         "nbinsx": 80,
         "offsetgroup": "137450",
         "orientation": "v",
         "showlegend": true,
         "type": "histogram",
         "x": [
          137450
         ],
         "xaxis": "x",
         "yaxis": "y3"
        },
        {
         "alignmentgroup": "True",
         "bingroup": "x",
         "hovertemplate": "SalePrice=%{x}<br>count=%{y}<extra></extra>",
         "legendgroup": "193879",
         "marker": {
          "color": "#1f77b4",
          "pattern": {
           "shape": ""
          }
         },
         "name": "histogram",
         "nbinsx": 80,
         "offsetgroup": "193879",
         "orientation": "v",
         "showlegend": true,
         "type": "histogram",
         "x": [
          193879
         ],
         "xaxis": "x",
         "yaxis": "y3"
        },
        {
         "alignmentgroup": "True",
         "bingroup": "x",
         "hovertemplate": "SalePrice=%{x}<br>count=%{y}<extra></extra>",
         "legendgroup": "282922",
         "marker": {
          "color": "#1f77b4",
          "pattern": {
           "shape": ""
          }
         },
         "name": "histogram",
         "nbinsx": 80,
         "offsetgroup": "282922",
         "orientation": "v",
         "showlegend": true,
         "type": "histogram",
         "x": [
          282922
         ],
         "xaxis": "x",
         "yaxis": "y3"
        },
        {
         "alignmentgroup": "True",
         "bingroup": "x",
         "hovertemplate": "SalePrice=%{x}<br>count=%{y}<extra></extra>",
         "legendgroup": "257000",
         "marker": {
          "color": "#1f77b4",
          "pattern": {
           "shape": ""
          }
         },
         "name": "histogram",
         "nbinsx": 80,
         "offsetgroup": "257000",
         "orientation": "v",
         "showlegend": true,
         "type": "histogram",
         "x": [
          257000
         ],
         "xaxis": "x",
         "yaxis": "y3"
        },
        {
         "alignmentgroup": "True",
         "bingroup": "x",
         "hovertemplate": "SalePrice=%{x}<br>count=%{y}<extra></extra>",
         "legendgroup": "223000",
         "marker": {
          "color": "#1f77b4",
          "pattern": {
           "shape": ""
          }
         },
         "name": "histogram",
         "nbinsx": 80,
         "offsetgroup": "223000",
         "orientation": "v",
         "showlegend": true,
         "type": "histogram",
         "x": [
          223000
         ],
         "xaxis": "x",
         "yaxis": "y3"
        },
        {
         "alignmentgroup": "True",
         "bingroup": "x",
         "hovertemplate": "SalePrice=%{x}<br>count=%{y}<extra></extra>",
         "legendgroup": "274970",
         "marker": {
          "color": "#1f77b4",
          "pattern": {
           "shape": ""
          }
         },
         "name": "histogram",
         "nbinsx": 80,
         "offsetgroup": "274970",
         "orientation": "v",
         "showlegend": true,
         "type": "histogram",
         "x": [
          274970
         ],
         "xaxis": "x",
         "yaxis": "y3"
        },
        {
         "alignmentgroup": "True",
         "bingroup": "x",
         "hovertemplate": "SalePrice=%{x}<br>count=%{y}<extra></extra>",
         "legendgroup": "182900",
         "marker": {
          "color": "#1f77b4",
          "pattern": {
           "shape": ""
          }
         },
         "name": "histogram",
         "nbinsx": 80,
         "offsetgroup": "182900",
         "orientation": "v",
         "showlegend": true,
         "type": "histogram",
         "x": [
          182900
         ],
         "xaxis": "x",
         "yaxis": "y3"
        },
        {
         "alignmentgroup": "True",
         "bingroup": "x",
         "hovertemplate": "SalePrice=%{x}<br>count=%{y}<extra></extra>",
         "legendgroup": "192140",
         "marker": {
          "color": "#1f77b4",
          "pattern": {
           "shape": ""
          }
         },
         "name": "histogram",
         "nbinsx": 80,
         "offsetgroup": "192140",
         "orientation": "v",
         "showlegend": true,
         "type": "histogram",
         "x": [
          192140
         ],
         "xaxis": "x",
         "yaxis": "y3"
        },
        {
         "alignmentgroup": "True",
         "bingroup": "x",
         "hovertemplate": "SalePrice=%{x}<br>count=%{y}<extra></extra>",
         "legendgroup": "143750",
         "marker": {
          "color": "#1f77b4",
          "pattern": {
           "shape": ""
          }
         },
         "name": "histogram",
         "nbinsx": 80,
         "offsetgroup": "143750",
         "orientation": "v",
         "showlegend": true,
         "type": "histogram",
         "x": [
          143750
         ],
         "xaxis": "x",
         "yaxis": "y3"
        },
        {
         "alignmentgroup": "True",
         "bingroup": "x",
         "hovertemplate": "SalePrice=%{x}<br>count=%{y}<extra></extra>",
         "legendgroup": "64500",
         "marker": {
          "color": "#1f77b4",
          "pattern": {
           "shape": ""
          }
         },
         "name": "histogram",
         "nbinsx": 80,
         "offsetgroup": "64500",
         "orientation": "v",
         "showlegend": true,
         "type": "histogram",
         "x": [
          64500
         ],
         "xaxis": "x",
         "yaxis": "y3"
        },
        {
         "alignmentgroup": "True",
         "bingroup": "x",
         "hovertemplate": "SalePrice=%{x}<br>count=%{y}<extra></extra>",
         "legendgroup": "394617",
         "marker": {
          "color": "#1f77b4",
          "pattern": {
           "shape": ""
          }
         },
         "name": "histogram",
         "nbinsx": 80,
         "offsetgroup": "394617",
         "orientation": "v",
         "showlegend": true,
         "type": "histogram",
         "x": [
          394617
         ],
         "xaxis": "x",
         "yaxis": "y3"
        },
        {
         "alignmentgroup": "True",
         "bingroup": "x",
         "hovertemplate": "SalePrice=%{x}<br>count=%{y}<extra></extra>",
         "legendgroup": "149700",
         "marker": {
          "color": "#1f77b4",
          "pattern": {
           "shape": ""
          }
         },
         "name": "histogram",
         "nbinsx": 80,
         "offsetgroup": "149700",
         "orientation": "v",
         "showlegend": true,
         "type": "histogram",
         "x": [
          149700
         ],
         "xaxis": "x",
         "yaxis": "y3"
        },
        {
         "alignmentgroup": "True",
         "bingroup": "x",
         "hovertemplate": "SalePrice=%{x}<br>count=%{y}<extra></extra>",
         "legendgroup": "149300",
         "marker": {
          "color": "#1f77b4",
          "pattern": {
           "shape": ""
          }
         },
         "name": "histogram",
         "nbinsx": 80,
         "offsetgroup": "149300",
         "orientation": "v",
         "showlegend": true,
         "type": "histogram",
         "x": [
          149300
         ],
         "xaxis": "x",
         "yaxis": "y3"
        },
        {
         "alignmentgroup": "True",
         "bingroup": "x",
         "hovertemplate": "SalePrice=%{x}<br>count=%{y}<extra></extra>",
         "legendgroup": "121000",
         "marker": {
          "color": "#1f77b4",
          "pattern": {
           "shape": ""
          }
         },
         "name": "histogram",
         "nbinsx": 80,
         "offsetgroup": "121000",
         "orientation": "v",
         "showlegend": true,
         "type": "histogram",
         "x": [
          121000
         ],
         "xaxis": "x",
         "yaxis": "y3"
        },
        {
         "alignmentgroup": "True",
         "bingroup": "x",
         "hovertemplate": "SalePrice=%{x}<br>count=%{y}<extra></extra>",
         "legendgroup": "179600",
         "marker": {
          "color": "#1f77b4",
          "pattern": {
           "shape": ""
          }
         },
         "name": "histogram",
         "nbinsx": 80,
         "offsetgroup": "179600",
         "orientation": "v",
         "showlegend": true,
         "type": "histogram",
         "x": [
          179600
         ],
         "xaxis": "x",
         "yaxis": "y3"
        },
        {
         "alignmentgroup": "True",
         "bingroup": "x",
         "hovertemplate": "SalePrice=%{x}<br>count=%{y}<extra></extra>",
         "legendgroup": "92000",
         "marker": {
          "color": "#1f77b4",
          "pattern": {
           "shape": ""
          }
         },
         "name": "histogram",
         "nbinsx": 80,
         "offsetgroup": "92000",
         "orientation": "v",
         "showlegend": true,
         "type": "histogram",
         "x": [
          92000
         ],
         "xaxis": "x",
         "yaxis": "y3"
        },
        {
         "alignmentgroup": "True",
         "bingroup": "x",
         "hovertemplate": "SalePrice=%{x}<br>count=%{y}<extra></extra>",
         "legendgroup": "287090",
         "marker": {
          "color": "#1f77b4",
          "pattern": {
           "shape": ""
          }
         },
         "name": "histogram",
         "nbinsx": 80,
         "offsetgroup": "287090",
         "orientation": "v",
         "showlegend": true,
         "type": "histogram",
         "x": [
          287090
         ],
         "xaxis": "x",
         "yaxis": "y3"
        },
        {
         "alignmentgroup": "True",
         "bingroup": "x",
         "hovertemplate": "SalePrice=%{x}<br>count=%{y}<extra></extra>",
         "legendgroup": "266500",
         "marker": {
          "color": "#1f77b4",
          "pattern": {
           "shape": ""
          }
         },
         "name": "histogram",
         "nbinsx": 80,
         "offsetgroup": "266500",
         "orientation": "v",
         "showlegend": true,
         "type": "histogram",
         "x": [
          266500
         ],
         "xaxis": "x",
         "yaxis": "y3"
        },
        {
         "alignmentgroup": "True",
         "bingroup": "x",
         "hovertemplate": "SalePrice=%{x}<br>count=%{y}<extra></extra>",
         "legendgroup": "142125",
         "marker": {
          "color": "#1f77b4",
          "pattern": {
           "shape": ""
          }
         },
         "name": "histogram",
         "nbinsx": 80,
         "offsetgroup": "142125",
         "orientation": "v",
         "showlegend": true,
         "type": "histogram",
         "x": [
          142125
         ],
         "xaxis": "x",
         "yaxis": "y3"
        },
        {
         "alignmentgroup": "True",
         "bingroup": "x",
         "hovertemplate": "SalePrice=%{x}<br>count=%{y}<extra></extra>",
         "legendgroup": "147500",
         "marker": {
          "color": "#1f77b4",
          "pattern": {
           "shape": ""
          }
         },
         "name": "histogram",
         "nbinsx": 80,
         "offsetgroup": "147500",
         "orientation": "v",
         "showlegend": true,
         "type": "histogram",
         "x": [
          147500
         ],
         "xaxis": "x",
         "yaxis": "y3"
        }
       ],
       "layout": {
        "barmode": "overlay",
        "font": {
         "color": "black"
        },
        "hovermode": "closest",
        "legend": {
         "traceorder": "reversed"
        },
        "paper_bgcolor": "rgba(0,0,0,0)",
        "plot_bgcolor": "rgba(0,0,0,0)",
        "showlegend": false,
        "template": {
         "data": {
          "bar": [
           {
            "error_x": {
             "color": "#2a3f5f"
            },
            "error_y": {
             "color": "#2a3f5f"
            },
            "marker": {
             "line": {
              "color": "#E5ECF6",
              "width": 0.5
             },
             "pattern": {
              "fillmode": "overlay",
              "size": 10,
              "solidity": 0.2
             }
            },
            "type": "bar"
           }
          ],
          "barpolar": [
           {
            "marker": {
             "line": {
              "color": "#E5ECF6",
              "width": 0.5
             },
             "pattern": {
              "fillmode": "overlay",
              "size": 10,
              "solidity": 0.2
             }
            },
            "type": "barpolar"
           }
          ],
          "carpet": [
           {
            "aaxis": {
             "endlinecolor": "#2a3f5f",
             "gridcolor": "white",
             "linecolor": "white",
             "minorgridcolor": "white",
             "startlinecolor": "#2a3f5f"
            },
            "baxis": {
             "endlinecolor": "#2a3f5f",
             "gridcolor": "white",
             "linecolor": "white",
             "minorgridcolor": "white",
             "startlinecolor": "#2a3f5f"
            },
            "type": "carpet"
           }
          ],
          "choropleth": [
           {
            "colorbar": {
             "outlinewidth": 0,
             "ticks": ""
            },
            "type": "choropleth"
           }
          ],
          "contour": [
           {
            "colorbar": {
             "outlinewidth": 0,
             "ticks": ""
            },
            "colorscale": [
             [
              0,
              "#0d0887"
             ],
             [
              0.1111111111111111,
              "#46039f"
             ],
             [
              0.2222222222222222,
              "#7201a8"
             ],
             [
              0.3333333333333333,
              "#9c179e"
             ],
             [
              0.4444444444444444,
              "#bd3786"
             ],
             [
              0.5555555555555556,
              "#d8576b"
             ],
             [
              0.6666666666666666,
              "#ed7953"
             ],
             [
              0.7777777777777778,
              "#fb9f3a"
             ],
             [
              0.8888888888888888,
              "#fdca26"
             ],
             [
              1,
              "#f0f921"
             ]
            ],
            "type": "contour"
           }
          ],
          "contourcarpet": [
           {
            "colorbar": {
             "outlinewidth": 0,
             "ticks": ""
            },
            "type": "contourcarpet"
           }
          ],
          "heatmap": [
           {
            "colorbar": {
             "outlinewidth": 0,
             "ticks": ""
            },
            "colorscale": [
             [
              0,
              "#0d0887"
             ],
             [
              0.1111111111111111,
              "#46039f"
             ],
             [
              0.2222222222222222,
              "#7201a8"
             ],
             [
              0.3333333333333333,
              "#9c179e"
             ],
             [
              0.4444444444444444,
              "#bd3786"
             ],
             [
              0.5555555555555556,
              "#d8576b"
             ],
             [
              0.6666666666666666,
              "#ed7953"
             ],
             [
              0.7777777777777778,
              "#fb9f3a"
             ],
             [
              0.8888888888888888,
              "#fdca26"
             ],
             [
              1,
              "#f0f921"
             ]
            ],
            "type": "heatmap"
           }
          ],
          "heatmapgl": [
           {
            "colorbar": {
             "outlinewidth": 0,
             "ticks": ""
            },
            "colorscale": [
             [
              0,
              "#0d0887"
             ],
             [
              0.1111111111111111,
              "#46039f"
             ],
             [
              0.2222222222222222,
              "#7201a8"
             ],
             [
              0.3333333333333333,
              "#9c179e"
             ],
             [
              0.4444444444444444,
              "#bd3786"
             ],
             [
              0.5555555555555556,
              "#d8576b"
             ],
             [
              0.6666666666666666,
              "#ed7953"
             ],
             [
              0.7777777777777778,
              "#fb9f3a"
             ],
             [
              0.8888888888888888,
              "#fdca26"
             ],
             [
              1,
              "#f0f921"
             ]
            ],
            "type": "heatmapgl"
           }
          ],
          "histogram": [
           {
            "marker": {
             "pattern": {
              "fillmode": "overlay",
              "size": 10,
              "solidity": 0.2
             }
            },
            "type": "histogram"
           }
          ],
          "histogram2d": [
           {
            "colorbar": {
             "outlinewidth": 0,
             "ticks": ""
            },
            "colorscale": [
             [
              0,
              "#0d0887"
             ],
             [
              0.1111111111111111,
              "#46039f"
             ],
             [
              0.2222222222222222,
              "#7201a8"
             ],
             [
              0.3333333333333333,
              "#9c179e"
             ],
             [
              0.4444444444444444,
              "#bd3786"
             ],
             [
              0.5555555555555556,
              "#d8576b"
             ],
             [
              0.6666666666666666,
              "#ed7953"
             ],
             [
              0.7777777777777778,
              "#fb9f3a"
             ],
             [
              0.8888888888888888,
              "#fdca26"
             ],
             [
              1,
              "#f0f921"
             ]
            ],
            "type": "histogram2d"
           }
          ],
          "histogram2dcontour": [
           {
            "colorbar": {
             "outlinewidth": 0,
             "ticks": ""
            },
            "colorscale": [
             [
              0,
              "#0d0887"
             ],
             [
              0.1111111111111111,
              "#46039f"
             ],
             [
              0.2222222222222222,
              "#7201a8"
             ],
             [
              0.3333333333333333,
              "#9c179e"
             ],
             [
              0.4444444444444444,
              "#bd3786"
             ],
             [
              0.5555555555555556,
              "#d8576b"
             ],
             [
              0.6666666666666666,
              "#ed7953"
             ],
             [
              0.7777777777777778,
              "#fb9f3a"
             ],
             [
              0.8888888888888888,
              "#fdca26"
             ],
             [
              1,
              "#f0f921"
             ]
            ],
            "type": "histogram2dcontour"
           }
          ],
          "mesh3d": [
           {
            "colorbar": {
             "outlinewidth": 0,
             "ticks": ""
            },
            "type": "mesh3d"
           }
          ],
          "parcoords": [
           {
            "line": {
             "colorbar": {
              "outlinewidth": 0,
              "ticks": ""
             }
            },
            "type": "parcoords"
           }
          ],
          "pie": [
           {
            "automargin": true,
            "type": "pie"
           }
          ],
          "scatter": [
           {
            "fillpattern": {
             "fillmode": "overlay",
             "size": 10,
             "solidity": 0.2
            },
            "type": "scatter"
           }
          ],
          "scatter3d": [
           {
            "line": {
             "colorbar": {
              "outlinewidth": 0,
              "ticks": ""
             }
            },
            "marker": {
             "colorbar": {
              "outlinewidth": 0,
              "ticks": ""
             }
            },
            "type": "scatter3d"
           }
          ],
          "scattercarpet": [
           {
            "marker": {
             "colorbar": {
              "outlinewidth": 0,
              "ticks": ""
             }
            },
            "type": "scattercarpet"
           }
          ],
          "scattergeo": [
           {
            "marker": {
             "colorbar": {
              "outlinewidth": 0,
              "ticks": ""
             }
            },
            "type": "scattergeo"
           }
          ],
          "scattergl": [
           {
            "marker": {
             "colorbar": {
              "outlinewidth": 0,
              "ticks": ""
             }
            },
            "type": "scattergl"
           }
          ],
          "scattermapbox": [
           {
            "marker": {
             "colorbar": {
              "outlinewidth": 0,
              "ticks": ""
             }
            },
            "type": "scattermapbox"
           }
          ],
          "scatterpolar": [
           {
            "marker": {
             "colorbar": {
              "outlinewidth": 0,
              "ticks": ""
             }
            },
            "type": "scatterpolar"
           }
          ],
          "scatterpolargl": [
           {
            "marker": {
             "colorbar": {
              "outlinewidth": 0,
              "ticks": ""
             }
            },
            "type": "scatterpolargl"
           }
          ],
          "scatterternary": [
           {
            "marker": {
             "colorbar": {
              "outlinewidth": 0,
              "ticks": ""
             }
            },
            "type": "scatterternary"
           }
          ],
          "surface": [
           {
            "colorbar": {
             "outlinewidth": 0,
             "ticks": ""
            },
            "colorscale": [
             [
              0,
              "#0d0887"
             ],
             [
              0.1111111111111111,
              "#46039f"
             ],
             [
              0.2222222222222222,
              "#7201a8"
             ],
             [
              0.3333333333333333,
              "#9c179e"
             ],
             [
              0.4444444444444444,
              "#bd3786"
             ],
             [
              0.5555555555555556,
              "#d8576b"
             ],
             [
              0.6666666666666666,
              "#ed7953"
             ],
             [
              0.7777777777777778,
              "#fb9f3a"
             ],
             [
              0.8888888888888888,
              "#fdca26"
             ],
             [
              1,
              "#f0f921"
             ]
            ],
            "type": "surface"
           }
          ],
          "table": [
           {
            "cells": {
             "fill": {
              "color": "#EBF0F8"
             },
             "line": {
              "color": "white"
             }
            },
            "header": {
             "fill": {
              "color": "#C8D4E3"
             },
             "line": {
              "color": "white"
             }
            },
            "type": "table"
           }
          ]
         },
         "layout": {
          "annotationdefaults": {
           "arrowcolor": "#2a3f5f",
           "arrowhead": 0,
           "arrowwidth": 1
          },
          "autotypenumbers": "strict",
          "coloraxis": {
           "colorbar": {
            "outlinewidth": 0,
            "ticks": ""
           }
          },
          "colorscale": {
           "diverging": [
            [
             0,
             "#8e0152"
            ],
            [
             0.1,
             "#c51b7d"
            ],
            [
             0.2,
             "#de77ae"
            ],
            [
             0.3,
             "#f1b6da"
            ],
            [
             0.4,
             "#fde0ef"
            ],
            [
             0.5,
             "#f7f7f7"
            ],
            [
             0.6,
             "#e6f5d0"
            ],
            [
             0.7,
             "#b8e186"
            ],
            [
             0.8,
             "#7fbc41"
            ],
            [
             0.9,
             "#4d9221"
            ],
            [
             1,
             "#276419"
            ]
           ],
           "sequential": [
            [
             0,
             "#0d0887"
            ],
            [
             0.1111111111111111,
             "#46039f"
            ],
            [
             0.2222222222222222,
             "#7201a8"
            ],
            [
             0.3333333333333333,
             "#9c179e"
            ],
            [
             0.4444444444444444,
             "#bd3786"
            ],
            [
             0.5555555555555556,
             "#d8576b"
            ],
            [
             0.6666666666666666,
             "#ed7953"
            ],
            [
             0.7777777777777778,
             "#fb9f3a"
            ],
            [
             0.8888888888888888,
             "#fdca26"
            ],
            [
             1,
             "#f0f921"
            ]
           ],
           "sequentialminus": [
            [
             0,
             "#0d0887"
            ],
            [
             0.1111111111111111,
             "#46039f"
            ],
            [
             0.2222222222222222,
             "#7201a8"
            ],
            [
             0.3333333333333333,
             "#9c179e"
            ],
            [
             0.4444444444444444,
             "#bd3786"
            ],
            [
             0.5555555555555556,
             "#d8576b"
            ],
            [
             0.6666666666666666,
             "#ed7953"
            ],
            [
             0.7777777777777778,
             "#fb9f3a"
            ],
            [
             0.8888888888888888,
             "#fdca26"
            ],
            [
             1,
             "#f0f921"
            ]
           ]
          },
          "colorway": [
           "#636efa",
           "#EF553B",
           "#00cc96",
           "#ab63fa",
           "#FFA15A",
           "#19d3f3",
           "#FF6692",
           "#B6E880",
           "#FF97FF",
           "#FECB52"
          ],
          "font": {
           "color": "#2a3f5f"
          },
          "geo": {
           "bgcolor": "white",
           "lakecolor": "white",
           "landcolor": "#E5ECF6",
           "showlakes": true,
           "showland": true,
           "subunitcolor": "white"
          },
          "hoverlabel": {
           "align": "left"
          },
          "hovermode": "closest",
          "mapbox": {
           "style": "light"
          },
          "paper_bgcolor": "white",
          "plot_bgcolor": "#E5ECF6",
          "polar": {
           "angularaxis": {
            "gridcolor": "white",
            "linecolor": "white",
            "ticks": ""
           },
           "bgcolor": "#E5ECF6",
           "radialaxis": {
            "gridcolor": "white",
            "linecolor": "white",
            "ticks": ""
           }
          },
          "scene": {
           "xaxis": {
            "backgroundcolor": "#E5ECF6",
            "gridcolor": "white",
            "gridwidth": 2,
            "linecolor": "white",
            "showbackground": true,
            "ticks": "",
            "zerolinecolor": "white"
           },
           "yaxis": {
            "backgroundcolor": "#E5ECF6",
            "gridcolor": "white",
            "gridwidth": 2,
            "linecolor": "white",
            "showbackground": true,
            "ticks": "",
            "zerolinecolor": "white"
           },
           "zaxis": {
            "backgroundcolor": "#E5ECF6",
            "gridcolor": "white",
            "gridwidth": 2,
            "linecolor": "white",
            "showbackground": true,
            "ticks": "",
            "zerolinecolor": "white"
           }
          },
          "shapedefaults": {
           "line": {
            "color": "#2a3f5f"
           }
          },
          "ternary": {
           "aaxis": {
            "gridcolor": "white",
            "linecolor": "white",
            "ticks": ""
           },
           "baxis": {
            "gridcolor": "white",
            "linecolor": "white",
            "ticks": ""
           },
           "bgcolor": "#E5ECF6",
           "caxis": {
            "gridcolor": "white",
            "linecolor": "white",
            "ticks": ""
           }
          },
          "title": {
           "x": 0.05
          },
          "xaxis": {
           "automargin": true,
           "gridcolor": "white",
           "linecolor": "white",
           "ticks": "",
           "title": {
            "standoff": 15
           },
           "zerolinecolor": "white",
           "zerolinewidth": 2
          },
          "yaxis": {
           "automargin": true,
           "gridcolor": "white",
           "linecolor": "white",
           "ticks": "",
           "title": {
            "standoff": 15
           },
           "zerolinecolor": "white",
           "zerolinewidth": 2
          }
         }
        },
        "title": {
         "font": {
          "size": 30
         },
         "text": "Rozkład zmiennej SalePrice",
         "x": 0.5
        },
        "xaxis": {
         "anchor": "y2",
         "domain": [
          0,
          1
         ],
         "title": {
          "text": "Cena"
         },
         "zeroline": false
        },
        "yaxis": {
         "anchor": "free",
         "domain": [
          0.35,
          1
         ],
         "position": 0,
         "showgrid": false,
         "title": {
          "text": "Częstotliwość"
         },
         "visible": false
        },
        "yaxis2": {
         "anchor": "x",
         "domain": [
          0,
          0.25
         ],
         "dtick": 1,
         "showgrid": false,
         "showticklabels": false
        },
        "yaxis3": {
         "overlaying": "y",
         "showgrid": false,
         "side": "left"
        }
       }
      },
      "text/html": [
       "<div>                            <div id=\"c058270c-39e7-49ee-a5a6-74b23e8715ae\" class=\"plotly-graph-div\" style=\"height:525px; width:100%;\"></div>            <script type=\"text/javascript\">                require([\"plotly\"], function(Plotly) {                    window.PLOTLYENV=window.PLOTLYENV || {};                                    if (document.getElementById(\"c058270c-39e7-49ee-a5a6-74b23e8715ae\")) {                    Plotly.newPlot(                        \"c058270c-39e7-49ee-a5a6-74b23e8715ae\",                        [{\"legendgroup\":\"SalePrice\",\"marker\":{\"color\":\"red\"},\"mode\":\"lines\",\"name\":\"SalePrice\",\"showlegend\":true,\"x\":[34900.0,36340.2,37780.4,39220.6,40660.8,42101.0,43541.2,44981.4,46421.6,47861.8,49302.0,50742.2,52182.4,53622.6,55062.8,56503.0,57943.2,59383.4,60823.6,62263.8,63704.0,65144.2,66584.4,68024.6,69464.8,70905.0,72345.2,73785.4,75225.6,76665.8,78106.0,79546.2,80986.4,82426.6,83866.8,85307.0,86747.2,88187.4,89627.6,91067.8,92508.0,93948.2,95388.4,96828.6,98268.8,99709.0,101149.2,102589.4,104029.6,105469.8,106910.0,108350.2,109790.4,111230.6,112670.8,114111.0,115551.2,116991.4,118431.6,119871.8,121312.0,122752.2,124192.4,125632.6,127072.8,128513.0,129953.2,131393.4,132833.6,134273.8,135714.0,137154.2,138594.4,140034.6,141474.8,142915.0,144355.2,145795.4,147235.6,148675.8,150116.0,151556.2,152996.4,154436.6,155876.8,157317.0,158757.2,160197.4,161637.6,163077.8,164518.0,165958.2,167398.4,168838.6,170278.8,171719.0,173159.2,174599.4,176039.6,177479.8,178920.0,180360.2,181800.4,183240.6,184680.8,186121.0,187561.2,189001.4,190441.6,191881.8,193322.0,194762.2,196202.4,197642.6,199082.8,200523.0,201963.2,203403.4,204843.6,206283.8,207724.0,209164.2,210604.4,212044.6,213484.8,214925.0,216365.2,217805.4,219245.6,220685.8,222126.0,223566.2,225006.4,226446.6,227886.8,229327.0,230767.2,232207.4,233647.6,235087.8,236528.0,237968.2,239408.4,240848.6,242288.8,243729.0,245169.2,246609.4,248049.6,249489.8,250930.0,252370.2,253810.4,255250.6,256690.8,258131.0,259571.2,261011.4,262451.6,263891.8,265332.0,266772.2,268212.4,269652.6,271092.8,272533.0,273973.2,275413.4,276853.6,278293.8,279734.0,281174.2,282614.4,284054.6,285494.8,286935.0,288375.2,289815.4,291255.6,292695.8,294136.0,295576.2,297016.4,298456.6,299896.8,301337.0,302777.2,304217.4,305657.6,307097.8,308538.0,309978.2,311418.4,312858.6,314298.8,315739.0,317179.2,318619.4,320059.6,321499.8,322940.0,324380.2,325820.4,327260.6,328700.8,330141.0,331581.2,333021.4,334461.6,335901.8,337342.0,338782.2,340222.4,341662.6,343102.8,344543.0,345983.2,347423.4,348863.6,350303.8,351744.0,353184.2,354624.4,356064.6,357504.8,358945.0,360385.2,361825.4,363265.6,364705.8,366146.0,367586.2,369026.4,370466.6,371906.8,373347.0,374787.2,376227.4,377667.6,379107.8,380548.0,381988.2,383428.4,384868.6,386308.8,387749.0,389189.2,390629.4,392069.6,393509.8,394950.0,396390.2,397830.4,399270.6,400710.8,402151.0,403591.2,405031.4,406471.6,407911.8,409352.0,410792.2,412232.4,413672.6,415112.8,416553.0,417993.2,419433.4,420873.6,422313.8,423754.0,425194.2,426634.4,428074.6,429514.8,430955.0,432395.2,433835.4,435275.6,436715.8,438156.0,439596.2,441036.4,442476.6,443916.8,445357.0,446797.2,448237.4,449677.6,451117.8,452558.0,453998.2,455438.4,456878.6,458318.8,459759.0,461199.2,462639.4,464079.6,465519.8,466960.0,468400.2,469840.4,471280.6,472720.8,474161.0,475601.2,477041.4,478481.6,479921.8,481362.0,482802.2,484242.4,485682.6,487122.8,488563.0,490003.2,491443.4,492883.6,494323.8,495764.0,497204.2,498644.4,500084.6,501524.8,502965.0,504405.2,505845.4,507285.6,508725.8,510166.0,511606.2,513046.4,514486.6,515926.8,517367.0,518807.2,520247.4,521687.6,523127.8,524568.0,526008.2,527448.4,528888.6,530328.8,531769.0,533209.2,534649.4,536089.6,537529.8,538970.0,540410.2,541850.4,543290.6,544730.8,546171.0,547611.2,549051.4,550491.6,551931.8,553372.0,554812.2,556252.4,557692.6,559132.8,560573.0,562013.2,563453.4,564893.6,566333.8,567774.0,569214.2,570654.4,572094.6,573534.8,574975.0,576415.2,577855.4,579295.6,580735.8,582176.0,583616.2,585056.4,586496.6,587936.8,589377.0,590817.2,592257.4,593697.6,595137.8,596578.0,598018.2,599458.4,600898.6,602338.8,603779.0,605219.2,606659.4,608099.6,609539.8,610980.0,612420.2,613860.4,615300.6,616740.8,618181.0,619621.2,621061.4,622501.6,623941.8,625382.0,626822.2,628262.4,629702.6,631142.8,632583.0,634023.2,635463.4,636903.6,638343.8,639784.0,641224.2,642664.4,644104.6,645544.8,646985.0,648425.2,649865.4,651305.6,652745.8,654186.0,655626.2,657066.4,658506.6,659946.8,661387.0,662827.2,664267.4,665707.6,667147.8,668588.0,670028.2,671468.4,672908.6,674348.8,675789.0,677229.2,678669.4,680109.6,681549.8,682990.0,684430.2,685870.4,687310.6,688750.8,690191.0,691631.2,693071.4,694511.6,695951.8,697392.0,698832.2,700272.4,701712.6,703152.8,704593.0,706033.2,707473.4,708913.6,710353.8,711794.0,713234.2,714674.4,716114.6,717554.8,718995.0,720435.2,721875.4,723315.6,724755.8,726196.0,727636.2,729076.4,730516.6,731956.8,733397.0,734837.2,736277.4,737717.6,739157.8,740598.0,742038.2,743478.4,744918.6,746358.8,747799.0,749239.2,750679.4,752119.6,753559.8],\"xaxis\":\"x\",\"y\":[9.265475079809133e-07,9.57806581380589e-07,9.897946697535475e-07,1.0225147318731854e-06,1.0559690908312896e-06,1.0901594099208402e-06,1.1250866688281504e-06,1.1607511401921958e-06,1.197152366589987e-06,1.2342891380077753e-06,1.2721594698586124e-06,1.3107605816074444e-06,1.3500888760653876e-06,1.3901399194151924e-06,1.4309084220300603e-06,1.4723882201480384e-06,1.5145722584640155e-06,1.557452573701102e-06,1.601020279222626e-06,1.6452655507453554e-06,1.690177613213698e-06,1.7357447288935905e-06,1.7819541867436004e-06,1.8287922931193485e-06,1.8762443638657588e-06,1.924294717849914e-06,1.9729266719852646e-06,2.022122537795845e-06,2.0718636195667945e-06,2.1221302141249434e-06,2.1729016122905593e-06,2.2241561020384528e-06,2.275870973403582e-06,2.328022525163119e-06,2.380586073323512e-06,2.4335359614375908e-06,2.4868455727730503e-06,2.540487344349833e-06,2.594432782859981e-06,2.6486524824794367e-06,2.7031161445770888e-06,2.7577925993220513e-06,2.812649829185769e-06,2.8676549943310807e-06,2.92277445987581e-06,2.9779738250138476e-06,3.0332179539720523e-06,3.0884710087765924e-06,3.1436964837976574e-06,3.198857242036747e-06,3.253915553116057e-06,3.308833132924775e-06,3.363571184872467e-06,3.418090442695153e-06,3.472351214755093e-06,3.5263134297709223e-06,3.579936683910345e-06,3.6331802891734137e-06,3.686003322990245e-06,3.7383646789530692e-06,3.790223118598677e-06,3.841537324153621e-06,3.892265952151088e-06,3.942367687825032e-06,3.991801300184052e-06,4.0405256976646685e-06,4.08849998426093e-06,4.135683516024947e-06,4.18203595783072e-06,4.22751734029177e-06,4.27208811672143e-06,4.315709220023257e-06,4.358342119398018e-06,4.399948876752843e-06,4.4404922026976625e-06,4.479935512013874e-06,4.518242978480236e-06,4.555379588941439e-06,4.591311196505504e-06,4.6260045727571495e-06,4.659427458875667e-06,4.6915486155473795e-06,4.722337871564807e-06,4.751766171006789e-06,4.779805618896435e-06,4.806429525236526e-06,4.831612447325151e-06,4.855330230257692e-06,4.877560045524958e-06,4.8982804276211475e-06,4.917471308579488e-06,4.935114050357779e-06,4.9511914750007045e-06,4.96568789251057e-06,4.978589126363177e-06,4.989882536610768e-06,4.999557040519299e-06,5.007603130692923e-06,5.014012890644149e-06,5.0187800077740095e-06,5.021899783732434e-06,5.023369142135027e-06,5.0231866336185066e-06,5.021352438223174e-06,5.017868365096943e-06,5.012737849521591e-06,5.005965947268088e-06,4.9975593262939885e-06,4.987526255801956e-06,4.975876592684581e-06,4.962621765386562e-06,4.9477747552212665e-06,4.9313500751844145e-06,4.913363746313279e-06,4.8938332716453245e-06,4.872777607835523e-06,4.850217134496785e-06,4.826173621332883e-06,4.800670193138095e-06,4.7737312927423e-06,4.74538264198462e-06,4.715651200802819e-06,4.684565124529493e-06,4.652153719489679e-06,4.618447396997857e-06,4.583477625855307e-06,4.5472768834516115e-06,4.509878605576489e-06,4.471317135050359e-06,4.431627669283913e-06,4.390846206878466e-06,4.3490094933802515e-06,4.30615496630261e-06,4.262320699530817e-06,4.21754534722456e-06,4.171868087333088e-06,4.125328564837905e-06,4.077966834837152e-06,4.029823305585108e-06,3.980938681599037e-06,3.93135390694416e-06,3.881110108805899e-06,3.830248541456509e-06,3.7788105307210504e-06,3.726837419045148e-06,3.6743705112643113e-06,3.6214510211716445e-06,3.568120018977635e-06,3.5144183797523766e-06,3.460386732937059e-06,3.4060654130078136e-06,3.351494411371184e-06,3.2967133295664284e-06,3.2417613338457406e-06,3.186677111199193e-06,3.131498826886802e-06,3.076264083535712e-06,3.02100988185585e-06,2.965772583022899e-06,2.9105878727726996e-06,2.8554907272465556e-06,2.8005153806221673e-06,2.7456952945602533e-06,2.691063129492165e-06,2.636650717769162e-06,2.582489038689371e-06,2.5286081954138044e-06,2.4750373937783572e-06,2.421804923004194e-06,2.3689381383045617e-06,2.316463445381838e-06,2.2644062868043755e-06,2.2127911302487253e-06,2.1616414585888425e-06,2.1109797618101035e-06,2.0608275307223365e-06,2.0112052524425136e-06,1.9621324076144616e-06,1.9136274693297497e-06,1.8657079037108783e-06,1.8183901721151302e-06,1.771689734914666e-06,1.7256210568060933e-06,1.6801976136003587e-06,1.6354319004417255e-06,1.5913354414027102e-06,1.5479188004000514e-06,1.5051915933752999e-06,1.463162501682233e-06,1.4218392866221134e-06,1.3812288050668616e-06,1.341337026109359e-06,1.3021690486795152e-06,1.2637291200642693e-06,1.2260206552694072e-06,1.189046257161008e-06,1.1528077373243437e-06,1.1173061375783084e-06,1.0825417520838229e-06,1.0485141499851537e-06,1.0152221985237915e-06,9.826640865652836e-07,9.508373484803775e-07,9.197388883228785e-07,8.893650042477621e-07,8.597114131144118e-07,8.307732752211579e-07,8.025452191188277e-07,7.750213664525352e-07,7.481953567825877e-07,7.220603723371019e-07,6.966091626506737e-07,6.718340690453014e-07,6.477270489116201e-07,6.242796997504425e-07,6.014832829365604e-07,5.793287471687214e-07,5.57806751571745e-07,5.369076884187387e-07,5.166217054434025e-07,4.969387277144814e-07,4.778484790464049e-07,4.593405029222269e-07,4.414041829069455e-07,4.240287625312999e-07,4.072033646280909e-07,3.909170101050006e-07,3.751586361397957e-07,3.599171137856618e-07,3.451812649762148e-07,3.3093987892153643e-07,3.171817278882812e-07,3.038955823585834e-07,2.9107022556410975e-07,2.7869446739316116e-07,2.667571576702282e-07,2.552471988088373e-07,2.4415355783990894e-07,2.33465277819161e-07,2.2317148861832116e-07,2.132614171061196e-07,2.0372439672611874e-07,1.9454987647950313e-07,1.8572742932192242e-07,1.7724675998439866e-07,1.6909771222915366e-07,1.6127027555198594e-07,1.53754591343557e-07,1.4654095852258007e-07,1.3961983865450384e-07,1.3298186056980543e-07,1.2661782449646862e-07,1.205187057216323e-07,1.1467565779773992e-07,1.0908001530881403e-07,1.0372329621271734e-07,9.859720377544355e-08,9.369362811362479e-08,8.900464736152147e-08,8.452252847880629e-08,8.023972771545196e-08,7.614889074998505e-08,7.224285251728535e-08,6.851463674199389e-08,6.49574551934276e-08,6.156470667772054e-08,5.832997578268185e-08,5.524703139062252e-08,5.230982497412067e-08,4.951248868940278e-08,4.684933328169714e-08,4.431484581657377e-08,4.19036872509302e-08,3.9610689856908637e-08,3.7430854511640795e-08,3.5359347865321256e-08,3.3391499399695195e-08,3.152279838863446e-08,2.9748890772045155e-08,2.8065575953924487e-08,2.646880353494806e-08,2.495466998953288e-08,2.3519415296885614e-08,2.2159419535108407e-08,2.0871199446998446e-08,1.9651404985748222e-08,1.8496815848322195e-08,1.7404338003863665e-08,1.6371000224069442e-08,1.5393950622055834e-08,1.4470453205839929e-08,1.3597884452162509e-08,1.2773729905992908e-08,1.199558081068144e-08,1.1261130773354343e-08,1.056817246979395e-08,9.914594392697922e-09,9.298377646877643e-09,8.717592794634188e-09,8.170396754236011e-09,7.655029754125552e-09,7.169812345192416e-09,6.71314247317501e-09,6.283492612990506e-09,5.8794069665386425e-09,5.4994987252880275e-09,5.142447398723835e-09,4.806996209520548e-09,4.491949556099861e-09,4.196170543039819e-09,3.918578579621189e-09,3.6581470466260177e-09,3.413901031343876e-09,3.1849151305933166e-09,2.9703113214262988e-09,2.76925689905628e-09,2.580962481430983e-09,2.4046800797618394e-09,2.2397012342225018e-09,2.085355213936505e-09,1.9410072802921176e-09,1.8060570125470731e-09,1.6799366946188692e-09,1.5621097618970546e-09,1.4520693068607894e-09,1.349336642239765e-09,1.2534599204166879e-09,1.1640128077363525e-09,1.0805932123588694e-09,1.0028220642721183e-09,9.30342146061601e-10,8.628169730234815e-10,7.999297211985775e-10,7.413822019016928e-10,6.868938813204268e-10,6.362009437617878e-10,5.89055397131767e-10,5.452242192432554e-10,5.04488543560782e-10,4.66642883005879e-10,4.314943904649652e-10,3.988621546614891e-10,3.6857653007593103e-10,3.4047849962097316e-10,3.1441906880400745e-10,2.9025869013570445e-10,2.678667165707119e-10,2.4712088279518465e-10,2.2790681320501825e-10,2.1011755544869235e-10,1.9365313843913567e-10,1.7842015376987914e-10,1.6433135950203515e-10,1.5130530531995363e-10,1.3926597808485707e-10,1.2814246684722816e-10,1.178686464099642e-10,1.0838287856549649e-10,9.962773016090515e-11,9.15497071755811e-11,8.409900402616631e-11,7.722926734315063e-11,7.089737349275045e-11,6.506321914633505e-11,5.968952422776842e-11,5.474164659653554e-11,5.018740785135022e-11,4.599692966516399e-11,4.2142480087991324e-11,3.859832927879562e-11,3.534061415179815e-11,3.234721144595749e-11,2.9597618749054465e-11,2.7072843029754604e-11,2.475529625223982e-11,2.2628697668502466e-11,2.067798240315379e-11,1.8889215964660607e-11,1.7249514335264253e-11,1.5746969309476022e-11,1.4370578768002026e-11,1.3110181590216568e-11,1.195639692391578e-11,1.0900567546036274e-11,9.934707062339974e-12,9.05145070776591e-12,8.244009522232608e-12,7.506127689179556e-12,6.832042836058621e-12,6.216449107357315e-12,5.654462831568969e-12,5.141590613832791e-12,4.673699695777213e-12,4.246990433418911e-12,3.857970752824064e-12,3.5034324516414094e-12,3.180429222583506e-12,2.8862562824867682e-12,2.6184314977316246e-12,2.3746779035732354e-12,2.152907521335975e-12,1.951206383473975e-12,1.7678206822159212e-12,1.6011439629055221e-12,1.4497052882372076e-12,1.3121583043832123e-12,1.1872711445257933e-12,1.0739171095630285e-12,9.710660697584373e-13,8.777765348684266e-13,7.931883438182872e-13,7.165159283187211e-13,6.470421079327768e-13,5.841123770272099e-13,5.271296467840106e-13,4.755494080166528e-13,4.2887528294075817e-13,3.86654936300266e-13,3.4847631835544085e-13,3.139642142074168e-13,2.8277707577287266e-13,2.546041144394017e-13,2.2916263403463493e-13,2.0619558523677401e-13,1.854693239474595e-13,1.6677155744616316e-13,1.4990946335402082e-13,1.347079675602193e-13,1.210081683105903e-13,1.0866589463107011e-13,9.755038816292225e-14,8.754309832628017e-14,7.853658150815854e-14,7.043349569423236e-14,6.31456826343588e-14,5.6593330253394355e-14,5.07042085946368e-14,4.5412973116389365e-14,4.066052965549483e-14,3.6393455828046213e-14,3.2563474059398495e-14,2.912697182543509e-14,2.604456504712805e-14,2.328070091281001e-14,2.080329670925987e-14,1.8583411525551983e-14,1.6594947954320256e-14,1.4814381155302856e-14,1.3220512867234538e-14,1.1794248157757469e-14,1.051839288835209e-14,9.377470043535201e-15,8.357553231909587e-15,7.446115812099963e-15,6.631894230181291e-15,5.904764277802011e-15,5.2556290926720075e-15,4.6763178262240934e-15,4.159493997783214e-15,3.698572641180909e-15,3.287645429056176e-15,2.9214130326674635e-15,2.595124041449956e-15,2.304519827276948e-15,2.045784793891866e-15,1.8155015026906564e-15,1.6106102123450073e-15,1.4283724120317339e-15,1.2663379666033519e-15,1.1223155272107723e-15,9.943458929549004e-16,8.806780383605646e-16,7.7974754807709e-16,6.901572244344445e-16,6.10659655527732e-16,5.401415515535849e-16,4.776096753504555e-16,4.2217820966114935e-16,3.730574186835827e-16,3.2954347513886633e-16,2.9100933648619313e-16,2.56896565163119e-16,2.267079979307616e-16,2.0000117864923402e-16,1.7638247718552387e-16,1.5550182474234763e-16,1.3704800276365649e-16,1.2074442878637352e-16,1.0634538822797449e-16,9.363266618046353e-17,8.241253787293345e-17,7.251308061237439e-17,6.378177375739094e-17,5.608335665935839e-17,4.929791755476575e-17,4.331918914222584e-17,3.805302905616125e-17,3.341606568245363e-17,2.9334491772664476e-17,2.5742990124189455e-17],\"yaxis\":\"y\",\"type\":\"scatter\"},{\"legendgroup\":\"SalePrice\",\"marker\":{\"color\":\"red\",\"symbol\":\"line-ns-open\"},\"mode\":\"markers\",\"name\":\"SalePrice\",\"showlegend\":false,\"x\":[208500,181500,223500,140000,250000,143000,307000,200000,129900,118000,129500,345000,144000,279500,157000,132000,149000,90000,159000,139000,325300,139400,230000,129900,154000,256300,134800,306000,207500,68500,40000,149350,179900,165500,277500,309000,145000,153000,109000,82000,160000,170000,144000,130250,141000,319900,239686,249700,113000,127000,177000,114500,110000,385000,130000,180500,172500,196500,438780,124900,158000,101000,202500,140000,219500,317000,180000,226000,80000,225000,244000,129500,185000,144900,107400,91000,135750,127000,136500,110000,193500,153500,245000,126500,168500,260000,174000,164500,85000,123600,109900,98600,163500,133900,204750,185000,214000,94750,83000,128950,205000,178000,118964,198900,169500,250000,100000,115000,115000,190000,136900,180000,383970,217000,259500,176000,139000,155000,320000,163990,180000,100000,136000,153900,181000,84500,128000,87000,155000,150000,226000,244000,150750,220000,180000,174000,143000,171000,230000,231500,115000,260000,166000,204000,125000,130000,105000,222500,141000,115000,122000,372402,190000,235000,125000,79000,109500,269500,254900,320000,162500,412500,220000,103200,152000,127500,190000,325624,183500,228000,128500,215000,239000,163000,184000,243000,211000,172500,501837,100000,177000,200100,120000,200000,127000,475000,173000,135000,153337,286000,315000,184000,192000,130000,127000,148500,311872,235000,104000,274900,140000,171500,112000,149000,110000,180500,143900,141000,277000,145000,98000,186000,252678,156000,161750,134450,210000,107000,311500,167240,204900,200000,179900,97000,386250,112000,290000,106000,125000,192500,148000,403000,94500,128200,216500,89500,185500,194500,318000,113000,262500,110500,79000,120000,205000,241500,137000,140000,180000,277000,76500,235000,173000,158000,145000,230000,207500,220000,231500,97000,176000,276000,151000,130000,73000,175500,185000,179500,120500,148000,266000,241500,290000,139000,124500,205000,201000,141000,415298,192000,228500,185000,207500,244600,179200,164700,159000,88000,122000,153575,233230,135900,131000,235000,167000,142500,152000,239000,175000,158500,157000,267000,205000,149900,295000,305900,225000,89500,82500,360000,165600,132000,119900,375000,178000,188500,260000,270000,260000,187500,342643,354000,301000,126175,242000,87000,324000,145250,214500,78000,119000,139000,284000,207000,192000,228950,377426,214000,202500,155000,202900,82000,87500,266000,85000,140200,151500,157500,154000,437154,318061,190000,95000,105900,140000,177500,173000,134000,130000,280000,156000,145000,198500,118000,190000,147000,159000,165000,132000,162000,172400,134432,125000,123000,219500,61000,148000,340000,394432,179000,127000,187750,213500,76000,240000,192000,81000,125000,191000,426000,119000,215000,106500,100000,109000,129000,123000,169500,67000,241000,245500,164990,108000,258000,168000,150000,115000,177000,280000,339750,60000,145000,222000,115000,228000,181134,149500,239000,126000,142000,206300,215000,113000,315000,139000,135000,275000,109008,195400,175000,85400,79900,122500,181000,81000,212000,116000,119000,90350,110000,555000,118000,162900,172500,210000,127500,190000,199900,119500,120000,110000,280000,204000,210000,188000,175500,98000,256000,161000,110000,263435,155000,62383,188700,124000,178740,167000,146500,250000,187000,212000,190000,148000,440000,251000,132500,208900,380000,297000,89471,326000,374000,155000,164000,132500,147000,156000,175000,160000,86000,115000,133000,172785,155000,91300,34900,430000,184000,130000,120000,113000,226700,140000,289000,147000,124500,215000,208300,161000,124500,164900,202665,129900,134000,96500,402861,158000,265000,211000,234000,106250,150000,159000,184750,315750,176000,132000,446261,86000,200624,175000,128000,107500,39300,178000,107500,188000,111250,158000,272000,315000,248000,213250,133000,179665,229000,210000,129500,125000,263000,140000,112500,255500,108000,284000,113000,141000,108000,175000,234000,121500,170000,108000,185000,268000,128000,325000,214000,316600,135960,142600,120000,224500,170000,139000,118500,145000,164500,146000,131500,181900,253293,118500,325000,133000,369900,130000,137000,143000,79500,185900,451950,138000,140000,110000,319000,114504,194201,217500,151000,275000,141000,220000,151000,221000,205000,152000,225000,359100,118500,313000,148000,261500,147000,75500,137500,183200,105500,314813,305000,67000,240000,135000,168500,165150,160000,139900,153000,135000,168500,124000,209500,82500,139400,144000,200000,60000,93000,85000,264561,274000,226000,345000,152000,370878,143250,98300,155000,155000,84500,205950,108000,191000,135000,350000,88000,145500,149000,97500,167000,197900,402000,110000,137500,423000,230500,129000,193500,168000,137500,173500,103600,165000,257500,140000,148500,87000,109500,372500,128500,143000,159434,173000,285000,221000,207500,227875,148800,392000,194700,141000,755000,335000,108480,141500,176000,89000,123500,138500,196000,312500,140000,361919,140000,213000,55000,302000,254000,179540,109900,52000,102776,189000,129000,130500,165000,159500,157000,341000,128500,275000,143000,124500,135000,320000,120500,222000,194500,110000,103000,236500,187500,222500,131400,108000,163000,93500,239900,179000,190000,132000,142000,179000,175000,180000,299800,236000,265979,260400,98000,96500,162000,217000,275500,156000,172500,212000,158900,179400,290000,127500,100000,215200,337000,270000,264132,196500,160000,216837,538000,134900,102000,107000,114500,395000,162000,221500,142500,144000,135000,176000,175900,187100,165500,128000,161500,139000,233000,107900,187500,160200,146800,269790,225000,194500,171000,143500,110000,485000,175000,200000,109900,189000,582933,118000,227680,135500,223500,159950,106000,181000,144500,55993,157900,116000,224900,137000,271000,155000,224000,183000,93000,225000,139500,232600,385000,109500,189000,185000,147400,166000,151000,237000,167000,139950,128000,153500,100000,144000,130500,140000,157500,174900,141000,153900,171000,213000,133500,240000,187000,131500,215000,164000,158000,170000,127000,147000,174000,152000,250000,189950,131500,152000,132500,250580,148500,248900,129000,169000,236000,109500,200500,116000,133000,66500,303477,132250,350000,148000,136500,157000,187500,178000,118500,100000,328900,145000,135500,268000,149500,122900,172500,154500,165000,118858,140000,106500,142953,611657,135000,110000,153000,180000,240000,125500,128000,255000,250000,131000,174000,154300,143500,88000,145000,173733,75000,35311,135000,238000,176500,201000,145900,169990,193000,207500,175000,285000,176000,236500,222000,201000,117500,320000,190000,242000,79900,184900,253000,239799,244400,150900,214000,150000,143000,137500,124900,143000,270000,192500,197500,129000,119900,133900,172000,127500,145000,124000,132000,185000,155000,116500,272000,155000,239000,214900,178900,160000,135000,37900,140000,135000,173000,99500,182000,167500,165000,85500,199900,110000,139000,178400,336000,159895,255900,126000,125000,117000,395192,195000,197000,348000,168000,187000,173900,337500,121600,136500,185000,91000,206000,82000,86000,232000,136905,181000,149900,163500,88000,240000,102000,135000,100000,165000,85000,119200,227000,203000,187500,160000,213490,176000,194000,87000,191000,287000,112500,167500,293077,105000,118000,160000,197000,310000,230000,119750,84000,315500,287000,97000,80000,155000,173000,196000,262280,278000,139600,556581,145000,115000,84900,176485,200141,165000,144500,255000,180000,185850,248000,335000,220000,213500,81000,90000,110500,154000,328000,178000,167900,151400,135000,135000,154000,91500,159500,194000,219500,170000,138800,155900,126000,145000,133000,192000,160000,187500,147000,83500,252000,137500,197000,92900,160000,136500,146000,129000,176432,127000,170000,128000,157000,60000,119500,135000,159500,106000,325000,179900,274725,181000,280000,188000,205000,129900,134500,117000,318000,184100,130000,140000,133700,118400,212900,112000,118000,163900,115000,174000,259000,215000,140000,135000,93500,117500,239500,169000,102000,119000,94000,196000,144000,139000,197500,424870,80000,80000,149000,180000,174500,116900,143000,124000,149900,230000,120500,201800,218000,179900,230000,235128,185000,146000,224000,129000,108959,194000,233170,245350,173000,235000,625000,171000,163000,171900,200500,239000,285000,119500,115000,154900,93000,250000,392500,745000,120000,186700,104900,95000,262000,195000,189000,168000,174000,125000,165000,158000,176000,219210,144000,178000,148000,116050,197900,117000,213000,153500,271900,107000,200000,140000,290000,189000,164000,113000,145000,134500,125000,112000,229456,80500,91500,115000,134000,143000,137900,184000,145000,214000,147000,367294,127000,190000,132500,101800,142000,130000,138887,175500,195000,142500,265900,224900,248328,170000,465000,230000,178000,186500,169900,129500,119000,244000,171750,130000,294000,165400,127500,301500,99900,190000,151000,181000,128900,161500,180500,181000,183900,122000,378500,381000,144000,260000,185750,137000,177000,139000,137000,162000,197900,237000,68400,227000,180000,150500,139000,169000,132500,143000,190000,278000,281000,180500,119500,107500,162900,115000,138500,155000,140000,160000,154000,225000,177500,290000,232000,130000,325000,202500,138000,147000,179200,335000,203000,302000,333168,119000,206900,295493,208900,275000,111000,156500,72500,190000,82500,147000,55000,79000,130500,256000,176500,227000,132500,100000,125500,125000,167900,135000,52500,200000,128500,123000,155000,228500,177000,155835,108500,262500,283463,215000,122000,200000,171000,134900,410000,235000,170000,110000,149900,177500,315000,189000,260000,104900,156932,144152,216000,193000,127000,144000,232000,105000,165500,274300,466500,250000,239000,91000,117000,83000,167500,58500,237500,157000,112000,105000,125500,250000,136000,377500,131000,235000,124000,123000,163000,246578,281213,160000,137500,138000,137450,120000,193000,193879,282922,105000,275000,133000,112000,125500,215000,230000,140000,90000,257000,207000,175900,122500,340000,124000,223000,179900,127500,136500,274970,144000,142000,271000,140000,119000,182900,192140,143750,64500,186500,160000,174000,120500,394617,149700,197000,191000,149300,310000,121000,179600,129000,157900,240000,112000,92000,136000,287090,145000,84500,185000,175000,210000,266500,142125,147500],\"xaxis\":\"x\",\"y\":[\"SalePrice\",\"SalePrice\",\"SalePrice\",\"SalePrice\",\"SalePrice\",\"SalePrice\",\"SalePrice\",\"SalePrice\",\"SalePrice\",\"SalePrice\",\"SalePrice\",\"SalePrice\",\"SalePrice\",\"SalePrice\",\"SalePrice\",\"SalePrice\",\"SalePrice\",\"SalePrice\",\"SalePrice\",\"SalePrice\",\"SalePrice\",\"SalePrice\",\"SalePrice\",\"SalePrice\",\"SalePrice\",\"SalePrice\",\"SalePrice\",\"SalePrice\",\"SalePrice\",\"SalePrice\",\"SalePrice\",\"SalePrice\",\"SalePrice\",\"SalePrice\",\"SalePrice\",\"SalePrice\",\"SalePrice\",\"SalePrice\",\"SalePrice\",\"SalePrice\",\"SalePrice\",\"SalePrice\",\"SalePrice\",\"SalePrice\",\"SalePrice\",\"SalePrice\",\"SalePrice\",\"SalePrice\",\"SalePrice\",\"SalePrice\",\"SalePrice\",\"SalePrice\",\"SalePrice\",\"SalePrice\",\"SalePrice\",\"SalePrice\",\"SalePrice\",\"SalePrice\",\"SalePrice\",\"SalePrice\",\"SalePrice\",\"SalePrice\",\"SalePrice\",\"SalePrice\",\"SalePrice\",\"SalePrice\",\"SalePrice\",\"SalePrice\",\"SalePrice\",\"SalePrice\",\"SalePrice\",\"SalePrice\",\"SalePrice\",\"SalePrice\",\"SalePrice\",\"SalePrice\",\"SalePrice\",\"SalePrice\",\"SalePrice\",\"SalePrice\",\"SalePrice\",\"SalePrice\",\"SalePrice\",\"SalePrice\",\"SalePrice\",\"SalePrice\",\"SalePrice\",\"SalePrice\",\"SalePrice\",\"SalePrice\",\"SalePrice\",\"SalePrice\",\"SalePrice\",\"SalePrice\",\"SalePrice\",\"SalePrice\",\"SalePrice\",\"SalePrice\",\"SalePrice\",\"SalePrice\",\"SalePrice\",\"SalePrice\",\"SalePrice\",\"SalePrice\",\"SalePrice\",\"SalePrice\",\"SalePrice\",\"SalePrice\",\"SalePrice\",\"SalePrice\",\"SalePrice\",\"SalePrice\",\"SalePrice\",\"SalePrice\",\"SalePrice\",\"SalePrice\",\"SalePrice\",\"SalePrice\",\"SalePrice\",\"SalePrice\",\"SalePrice\",\"SalePrice\",\"SalePrice\",\"SalePrice\",\"SalePrice\",\"SalePrice\",\"SalePrice\",\"SalePrice\",\"SalePrice\",\"SalePrice\",\"SalePrice\",\"SalePrice\",\"SalePrice\",\"SalePrice\",\"SalePrice\",\"SalePrice\",\"SalePrice\",\"SalePrice\",\"SalePrice\",\"SalePrice\",\"SalePrice\",\"SalePrice\",\"SalePrice\",\"SalePrice\",\"SalePrice\",\"SalePrice\",\"SalePrice\",\"SalePrice\",\"SalePrice\",\"SalePrice\",\"SalePrice\",\"SalePrice\",\"SalePrice\",\"SalePrice\",\"SalePrice\",\"SalePrice\",\"SalePrice\",\"SalePrice\",\"SalePrice\",\"SalePrice\",\"SalePrice\",\"SalePrice\",\"SalePrice\",\"SalePrice\",\"SalePrice\",\"SalePrice\",\"SalePrice\",\"SalePrice\",\"SalePrice\",\"SalePrice\",\"SalePrice\",\"SalePrice\",\"SalePrice\",\"SalePrice\",\"SalePrice\",\"SalePrice\",\"SalePrice\",\"SalePrice\",\"SalePrice\",\"SalePrice\",\"SalePrice\",\"SalePrice\",\"SalePrice\",\"SalePrice\",\"SalePrice\",\"SalePrice\",\"SalePrice\",\"SalePrice\",\"SalePrice\",\"SalePrice\",\"SalePrice\",\"SalePrice\",\"SalePrice\",\"SalePrice\",\"SalePrice\",\"SalePrice\",\"SalePrice\",\"SalePrice\",\"SalePrice\",\"SalePrice\",\"SalePrice\",\"SalePrice\",\"SalePrice\",\"SalePrice\",\"SalePrice\",\"SalePrice\",\"SalePrice\",\"SalePrice\",\"SalePrice\",\"SalePrice\",\"SalePrice\",\"SalePrice\",\"SalePrice\",\"SalePrice\",\"SalePrice\",\"SalePrice\",\"SalePrice\",\"SalePrice\",\"SalePrice\",\"SalePrice\",\"SalePrice\",\"SalePrice\",\"SalePrice\",\"SalePrice\",\"SalePrice\",\"SalePrice\",\"SalePrice\",\"SalePrice\",\"SalePrice\",\"SalePrice\",\"SalePrice\",\"SalePrice\",\"SalePrice\",\"SalePrice\",\"SalePrice\",\"SalePrice\",\"SalePrice\",\"SalePrice\",\"SalePrice\",\"SalePrice\",\"SalePrice\",\"SalePrice\",\"SalePrice\",\"SalePrice\",\"SalePrice\",\"SalePrice\",\"SalePrice\",\"SalePrice\",\"SalePrice\",\"SalePrice\",\"SalePrice\",\"SalePrice\",\"SalePrice\",\"SalePrice\",\"SalePrice\",\"SalePrice\",\"SalePrice\",\"SalePrice\",\"SalePrice\",\"SalePrice\",\"SalePrice\",\"SalePrice\",\"SalePrice\",\"SalePrice\",\"SalePrice\",\"SalePrice\",\"SalePrice\",\"SalePrice\",\"SalePrice\",\"SalePrice\",\"SalePrice\",\"SalePrice\",\"SalePrice\",\"SalePrice\",\"SalePrice\",\"SalePrice\",\"SalePrice\",\"SalePrice\",\"SalePrice\",\"SalePrice\",\"SalePrice\",\"SalePrice\",\"SalePrice\",\"SalePrice\",\"SalePrice\",\"SalePrice\",\"SalePrice\",\"SalePrice\",\"SalePrice\",\"SalePrice\",\"SalePrice\",\"SalePrice\",\"SalePrice\",\"SalePrice\",\"SalePrice\",\"SalePrice\",\"SalePrice\",\"SalePrice\",\"SalePrice\",\"SalePrice\",\"SalePrice\",\"SalePrice\",\"SalePrice\",\"SalePrice\",\"SalePrice\",\"SalePrice\",\"SalePrice\",\"SalePrice\",\"SalePrice\",\"SalePrice\",\"SalePrice\",\"SalePrice\",\"SalePrice\",\"SalePrice\",\"SalePrice\",\"SalePrice\",\"SalePrice\",\"SalePrice\",\"SalePrice\",\"SalePrice\",\"SalePrice\",\"SalePrice\",\"SalePrice\",\"SalePrice\",\"SalePrice\",\"SalePrice\",\"SalePrice\",\"SalePrice\",\"SalePrice\",\"SalePrice\",\"SalePrice\",\"SalePrice\",\"SalePrice\",\"SalePrice\",\"SalePrice\",\"SalePrice\",\"SalePrice\",\"SalePrice\",\"SalePrice\",\"SalePrice\",\"SalePrice\",\"SalePrice\",\"SalePrice\",\"SalePrice\",\"SalePrice\",\"SalePrice\",\"SalePrice\",\"SalePrice\",\"SalePrice\",\"SalePrice\",\"SalePrice\",\"SalePrice\",\"SalePrice\",\"SalePrice\",\"SalePrice\",\"SalePrice\",\"SalePrice\",\"SalePrice\",\"SalePrice\",\"SalePrice\",\"SalePrice\",\"SalePrice\",\"SalePrice\",\"SalePrice\",\"SalePrice\",\"SalePrice\",\"SalePrice\",\"SalePrice\",\"SalePrice\",\"SalePrice\",\"SalePrice\",\"SalePrice\",\"SalePrice\",\"SalePrice\",\"SalePrice\",\"SalePrice\",\"SalePrice\",\"SalePrice\",\"SalePrice\",\"SalePrice\",\"SalePrice\",\"SalePrice\",\"SalePrice\",\"SalePrice\",\"SalePrice\",\"SalePrice\",\"SalePrice\",\"SalePrice\",\"SalePrice\",\"SalePrice\",\"SalePrice\",\"SalePrice\",\"SalePrice\",\"SalePrice\",\"SalePrice\",\"SalePrice\",\"SalePrice\",\"SalePrice\",\"SalePrice\",\"SalePrice\",\"SalePrice\",\"SalePrice\",\"SalePrice\",\"SalePrice\",\"SalePrice\",\"SalePrice\",\"SalePrice\",\"SalePrice\",\"SalePrice\",\"SalePrice\",\"SalePrice\",\"SalePrice\",\"SalePrice\",\"SalePrice\",\"SalePrice\",\"SalePrice\",\"SalePrice\",\"SalePrice\",\"SalePrice\",\"SalePrice\",\"SalePrice\",\"SalePrice\",\"SalePrice\",\"SalePrice\",\"SalePrice\",\"SalePrice\",\"SalePrice\",\"SalePrice\",\"SalePrice\",\"SalePrice\",\"SalePrice\",\"SalePrice\",\"SalePrice\",\"SalePrice\",\"SalePrice\",\"SalePrice\",\"SalePrice\",\"SalePrice\",\"SalePrice\",\"SalePrice\",\"SalePrice\",\"SalePrice\",\"SalePrice\",\"SalePrice\",\"SalePrice\",\"SalePrice\",\"SalePrice\",\"SalePrice\",\"SalePrice\",\"SalePrice\",\"SalePrice\",\"SalePrice\",\"SalePrice\",\"SalePrice\",\"SalePrice\",\"SalePrice\",\"SalePrice\",\"SalePrice\",\"SalePrice\",\"SalePrice\",\"SalePrice\",\"SalePrice\",\"SalePrice\",\"SalePrice\",\"SalePrice\",\"SalePrice\",\"SalePrice\",\"SalePrice\",\"SalePrice\",\"SalePrice\",\"SalePrice\",\"SalePrice\",\"SalePrice\",\"SalePrice\",\"SalePrice\",\"SalePrice\",\"SalePrice\",\"SalePrice\",\"SalePrice\",\"SalePrice\",\"SalePrice\",\"SalePrice\",\"SalePrice\",\"SalePrice\",\"SalePrice\",\"SalePrice\",\"SalePrice\",\"SalePrice\",\"SalePrice\",\"SalePrice\",\"SalePrice\",\"SalePrice\",\"SalePrice\",\"SalePrice\",\"SalePrice\",\"SalePrice\",\"SalePrice\",\"SalePrice\",\"SalePrice\",\"SalePrice\",\"SalePrice\",\"SalePrice\",\"SalePrice\",\"SalePrice\",\"SalePrice\",\"SalePrice\",\"SalePrice\",\"SalePrice\",\"SalePrice\",\"SalePrice\",\"SalePrice\",\"SalePrice\",\"SalePrice\",\"SalePrice\",\"SalePrice\",\"SalePrice\",\"SalePrice\",\"SalePrice\",\"SalePrice\",\"SalePrice\",\"SalePrice\",\"SalePrice\",\"SalePrice\",\"SalePrice\",\"SalePrice\",\"SalePrice\",\"SalePrice\",\"SalePrice\",\"SalePrice\",\"SalePrice\",\"SalePrice\",\"SalePrice\",\"SalePrice\",\"SalePrice\",\"SalePrice\",\"SalePrice\",\"SalePrice\",\"SalePrice\",\"SalePrice\",\"SalePrice\",\"SalePrice\",\"SalePrice\",\"SalePrice\",\"SalePrice\",\"SalePrice\",\"SalePrice\",\"SalePrice\",\"SalePrice\",\"SalePrice\",\"SalePrice\",\"SalePrice\",\"SalePrice\",\"SalePrice\",\"SalePrice\",\"SalePrice\",\"SalePrice\",\"SalePrice\",\"SalePrice\",\"SalePrice\",\"SalePrice\",\"SalePrice\",\"SalePrice\",\"SalePrice\",\"SalePrice\",\"SalePrice\",\"SalePrice\",\"SalePrice\",\"SalePrice\",\"SalePrice\",\"SalePrice\",\"SalePrice\",\"SalePrice\",\"SalePrice\",\"SalePrice\",\"SalePrice\",\"SalePrice\",\"SalePrice\",\"SalePrice\",\"SalePrice\",\"SalePrice\",\"SalePrice\",\"SalePrice\",\"SalePrice\",\"SalePrice\",\"SalePrice\",\"SalePrice\",\"SalePrice\",\"SalePrice\",\"SalePrice\",\"SalePrice\",\"SalePrice\",\"SalePrice\",\"SalePrice\",\"SalePrice\",\"SalePrice\",\"SalePrice\",\"SalePrice\",\"SalePrice\",\"SalePrice\",\"SalePrice\",\"SalePrice\",\"SalePrice\",\"SalePrice\",\"SalePrice\",\"SalePrice\",\"SalePrice\",\"SalePrice\",\"SalePrice\",\"SalePrice\",\"SalePrice\",\"SalePrice\",\"SalePrice\",\"SalePrice\",\"SalePrice\",\"SalePrice\",\"SalePrice\",\"SalePrice\",\"SalePrice\",\"SalePrice\",\"SalePrice\",\"SalePrice\",\"SalePrice\",\"SalePrice\",\"SalePrice\",\"SalePrice\",\"SalePrice\",\"SalePrice\",\"SalePrice\",\"SalePrice\",\"SalePrice\",\"SalePrice\",\"SalePrice\",\"SalePrice\",\"SalePrice\",\"SalePrice\",\"SalePrice\",\"SalePrice\",\"SalePrice\",\"SalePrice\",\"SalePrice\",\"SalePrice\",\"SalePrice\",\"SalePrice\",\"SalePrice\",\"SalePrice\",\"SalePrice\",\"SalePrice\",\"SalePrice\",\"SalePrice\",\"SalePrice\",\"SalePrice\",\"SalePrice\",\"SalePrice\",\"SalePrice\",\"SalePrice\",\"SalePrice\",\"SalePrice\",\"SalePrice\",\"SalePrice\",\"SalePrice\",\"SalePrice\",\"SalePrice\",\"SalePrice\",\"SalePrice\",\"SalePrice\",\"SalePrice\",\"SalePrice\",\"SalePrice\",\"SalePrice\",\"SalePrice\",\"SalePrice\",\"SalePrice\",\"SalePrice\",\"SalePrice\",\"SalePrice\",\"SalePrice\",\"SalePrice\",\"SalePrice\",\"SalePrice\",\"SalePrice\",\"SalePrice\",\"SalePrice\",\"SalePrice\",\"SalePrice\",\"SalePrice\",\"SalePrice\",\"SalePrice\",\"SalePrice\",\"SalePrice\",\"SalePrice\",\"SalePrice\",\"SalePrice\",\"SalePrice\",\"SalePrice\",\"SalePrice\",\"SalePrice\",\"SalePrice\",\"SalePrice\",\"SalePrice\",\"SalePrice\",\"SalePrice\",\"SalePrice\",\"SalePrice\",\"SalePrice\",\"SalePrice\",\"SalePrice\",\"SalePrice\",\"SalePrice\",\"SalePrice\",\"SalePrice\",\"SalePrice\",\"SalePrice\",\"SalePrice\",\"SalePrice\",\"SalePrice\",\"SalePrice\",\"SalePrice\",\"SalePrice\",\"SalePrice\",\"SalePrice\",\"SalePrice\",\"SalePrice\",\"SalePrice\",\"SalePrice\",\"SalePrice\",\"SalePrice\",\"SalePrice\",\"SalePrice\",\"SalePrice\",\"SalePrice\",\"SalePrice\",\"SalePrice\",\"SalePrice\",\"SalePrice\",\"SalePrice\",\"SalePrice\",\"SalePrice\",\"SalePrice\",\"SalePrice\",\"SalePrice\",\"SalePrice\",\"SalePrice\",\"SalePrice\",\"SalePrice\",\"SalePrice\",\"SalePrice\",\"SalePrice\",\"SalePrice\",\"SalePrice\",\"SalePrice\",\"SalePrice\",\"SalePrice\",\"SalePrice\",\"SalePrice\",\"SalePrice\",\"SalePrice\",\"SalePrice\",\"SalePrice\",\"SalePrice\",\"SalePrice\",\"SalePrice\",\"SalePrice\",\"SalePrice\",\"SalePrice\",\"SalePrice\",\"SalePrice\",\"SalePrice\",\"SalePrice\",\"SalePrice\",\"SalePrice\",\"SalePrice\",\"SalePrice\",\"SalePrice\",\"SalePrice\",\"SalePrice\",\"SalePrice\",\"SalePrice\",\"SalePrice\",\"SalePrice\",\"SalePrice\",\"SalePrice\",\"SalePrice\",\"SalePrice\",\"SalePrice\",\"SalePrice\",\"SalePrice\",\"SalePrice\",\"SalePrice\",\"SalePrice\",\"SalePrice\",\"SalePrice\",\"SalePrice\",\"SalePrice\",\"SalePrice\",\"SalePrice\",\"SalePrice\",\"SalePrice\",\"SalePrice\",\"SalePrice\",\"SalePrice\",\"SalePrice\",\"SalePrice\",\"SalePrice\",\"SalePrice\",\"SalePrice\",\"SalePrice\",\"SalePrice\",\"SalePrice\",\"SalePrice\",\"SalePrice\",\"SalePrice\",\"SalePrice\",\"SalePrice\",\"SalePrice\",\"SalePrice\",\"SalePrice\",\"SalePrice\",\"SalePrice\",\"SalePrice\",\"SalePrice\",\"SalePrice\",\"SalePrice\",\"SalePrice\",\"SalePrice\",\"SalePrice\",\"SalePrice\",\"SalePrice\",\"SalePrice\",\"SalePrice\",\"SalePrice\",\"SalePrice\",\"SalePrice\",\"SalePrice\",\"SalePrice\",\"SalePrice\",\"SalePrice\",\"SalePrice\",\"SalePrice\",\"SalePrice\",\"SalePrice\",\"SalePrice\",\"SalePrice\",\"SalePrice\",\"SalePrice\",\"SalePrice\",\"SalePrice\",\"SalePrice\",\"SalePrice\",\"SalePrice\",\"SalePrice\",\"SalePrice\",\"SalePrice\",\"SalePrice\",\"SalePrice\",\"SalePrice\",\"SalePrice\",\"SalePrice\",\"SalePrice\",\"SalePrice\",\"SalePrice\",\"SalePrice\",\"SalePrice\",\"SalePrice\",\"SalePrice\",\"SalePrice\",\"SalePrice\",\"SalePrice\",\"SalePrice\",\"SalePrice\",\"SalePrice\",\"SalePrice\",\"SalePrice\",\"SalePrice\",\"SalePrice\",\"SalePrice\",\"SalePrice\",\"SalePrice\",\"SalePrice\",\"SalePrice\",\"SalePrice\",\"SalePrice\",\"SalePrice\",\"SalePrice\",\"SalePrice\",\"SalePrice\",\"SalePrice\",\"SalePrice\",\"SalePrice\",\"SalePrice\",\"SalePrice\",\"SalePrice\",\"SalePrice\",\"SalePrice\",\"SalePrice\",\"SalePrice\",\"SalePrice\",\"SalePrice\",\"SalePrice\",\"SalePrice\",\"SalePrice\",\"SalePrice\",\"SalePrice\",\"SalePrice\",\"SalePrice\",\"SalePrice\",\"SalePrice\",\"SalePrice\",\"SalePrice\",\"SalePrice\",\"SalePrice\",\"SalePrice\",\"SalePrice\",\"SalePrice\",\"SalePrice\",\"SalePrice\",\"SalePrice\",\"SalePrice\",\"SalePrice\",\"SalePrice\",\"SalePrice\",\"SalePrice\",\"SalePrice\",\"SalePrice\",\"SalePrice\",\"SalePrice\",\"SalePrice\",\"SalePrice\",\"SalePrice\",\"SalePrice\",\"SalePrice\",\"SalePrice\",\"SalePrice\",\"SalePrice\",\"SalePrice\",\"SalePrice\",\"SalePrice\",\"SalePrice\",\"SalePrice\",\"SalePrice\",\"SalePrice\",\"SalePrice\",\"SalePrice\",\"SalePrice\",\"SalePrice\",\"SalePrice\",\"SalePrice\",\"SalePrice\",\"SalePrice\",\"SalePrice\",\"SalePrice\",\"SalePrice\",\"SalePrice\",\"SalePrice\",\"SalePrice\",\"SalePrice\",\"SalePrice\",\"SalePrice\",\"SalePrice\",\"SalePrice\",\"SalePrice\",\"SalePrice\",\"SalePrice\",\"SalePrice\",\"SalePrice\",\"SalePrice\",\"SalePrice\",\"SalePrice\",\"SalePrice\",\"SalePrice\",\"SalePrice\",\"SalePrice\",\"SalePrice\",\"SalePrice\",\"SalePrice\",\"SalePrice\",\"SalePrice\",\"SalePrice\",\"SalePrice\",\"SalePrice\",\"SalePrice\",\"SalePrice\",\"SalePrice\",\"SalePrice\",\"SalePrice\",\"SalePrice\",\"SalePrice\",\"SalePrice\",\"SalePrice\",\"SalePrice\",\"SalePrice\",\"SalePrice\",\"SalePrice\",\"SalePrice\",\"SalePrice\",\"SalePrice\",\"SalePrice\",\"SalePrice\",\"SalePrice\",\"SalePrice\",\"SalePrice\",\"SalePrice\",\"SalePrice\",\"SalePrice\",\"SalePrice\",\"SalePrice\",\"SalePrice\",\"SalePrice\",\"SalePrice\",\"SalePrice\",\"SalePrice\",\"SalePrice\",\"SalePrice\",\"SalePrice\",\"SalePrice\",\"SalePrice\",\"SalePrice\",\"SalePrice\",\"SalePrice\",\"SalePrice\",\"SalePrice\",\"SalePrice\",\"SalePrice\",\"SalePrice\",\"SalePrice\",\"SalePrice\",\"SalePrice\",\"SalePrice\",\"SalePrice\",\"SalePrice\",\"SalePrice\",\"SalePrice\",\"SalePrice\",\"SalePrice\",\"SalePrice\",\"SalePrice\",\"SalePrice\",\"SalePrice\",\"SalePrice\",\"SalePrice\",\"SalePrice\",\"SalePrice\",\"SalePrice\",\"SalePrice\",\"SalePrice\",\"SalePrice\",\"SalePrice\",\"SalePrice\",\"SalePrice\",\"SalePrice\",\"SalePrice\",\"SalePrice\",\"SalePrice\",\"SalePrice\",\"SalePrice\",\"SalePrice\",\"SalePrice\",\"SalePrice\",\"SalePrice\",\"SalePrice\",\"SalePrice\",\"SalePrice\",\"SalePrice\",\"SalePrice\",\"SalePrice\",\"SalePrice\",\"SalePrice\",\"SalePrice\",\"SalePrice\",\"SalePrice\",\"SalePrice\",\"SalePrice\",\"SalePrice\",\"SalePrice\",\"SalePrice\",\"SalePrice\",\"SalePrice\",\"SalePrice\",\"SalePrice\",\"SalePrice\",\"SalePrice\",\"SalePrice\",\"SalePrice\",\"SalePrice\",\"SalePrice\",\"SalePrice\",\"SalePrice\",\"SalePrice\",\"SalePrice\",\"SalePrice\",\"SalePrice\",\"SalePrice\",\"SalePrice\",\"SalePrice\",\"SalePrice\",\"SalePrice\",\"SalePrice\",\"SalePrice\",\"SalePrice\",\"SalePrice\",\"SalePrice\",\"SalePrice\",\"SalePrice\",\"SalePrice\",\"SalePrice\",\"SalePrice\",\"SalePrice\",\"SalePrice\",\"SalePrice\",\"SalePrice\",\"SalePrice\",\"SalePrice\",\"SalePrice\",\"SalePrice\",\"SalePrice\",\"SalePrice\",\"SalePrice\",\"SalePrice\",\"SalePrice\",\"SalePrice\",\"SalePrice\",\"SalePrice\",\"SalePrice\",\"SalePrice\",\"SalePrice\",\"SalePrice\",\"SalePrice\",\"SalePrice\",\"SalePrice\",\"SalePrice\",\"SalePrice\",\"SalePrice\",\"SalePrice\",\"SalePrice\",\"SalePrice\",\"SalePrice\",\"SalePrice\",\"SalePrice\",\"SalePrice\",\"SalePrice\",\"SalePrice\",\"SalePrice\",\"SalePrice\",\"SalePrice\",\"SalePrice\",\"SalePrice\",\"SalePrice\",\"SalePrice\",\"SalePrice\",\"SalePrice\",\"SalePrice\",\"SalePrice\",\"SalePrice\",\"SalePrice\",\"SalePrice\",\"SalePrice\",\"SalePrice\",\"SalePrice\",\"SalePrice\",\"SalePrice\",\"SalePrice\",\"SalePrice\",\"SalePrice\",\"SalePrice\",\"SalePrice\",\"SalePrice\",\"SalePrice\",\"SalePrice\",\"SalePrice\",\"SalePrice\",\"SalePrice\",\"SalePrice\",\"SalePrice\",\"SalePrice\",\"SalePrice\",\"SalePrice\",\"SalePrice\",\"SalePrice\",\"SalePrice\",\"SalePrice\",\"SalePrice\",\"SalePrice\",\"SalePrice\",\"SalePrice\",\"SalePrice\",\"SalePrice\",\"SalePrice\",\"SalePrice\",\"SalePrice\",\"SalePrice\",\"SalePrice\",\"SalePrice\",\"SalePrice\",\"SalePrice\",\"SalePrice\",\"SalePrice\",\"SalePrice\",\"SalePrice\",\"SalePrice\",\"SalePrice\",\"SalePrice\",\"SalePrice\",\"SalePrice\",\"SalePrice\",\"SalePrice\",\"SalePrice\",\"SalePrice\",\"SalePrice\",\"SalePrice\",\"SalePrice\",\"SalePrice\",\"SalePrice\",\"SalePrice\",\"SalePrice\",\"SalePrice\",\"SalePrice\",\"SalePrice\",\"SalePrice\",\"SalePrice\",\"SalePrice\",\"SalePrice\",\"SalePrice\",\"SalePrice\",\"SalePrice\",\"SalePrice\",\"SalePrice\",\"SalePrice\",\"SalePrice\",\"SalePrice\",\"SalePrice\",\"SalePrice\",\"SalePrice\",\"SalePrice\",\"SalePrice\",\"SalePrice\",\"SalePrice\",\"SalePrice\",\"SalePrice\",\"SalePrice\",\"SalePrice\",\"SalePrice\",\"SalePrice\",\"SalePrice\",\"SalePrice\",\"SalePrice\",\"SalePrice\",\"SalePrice\",\"SalePrice\",\"SalePrice\",\"SalePrice\",\"SalePrice\",\"SalePrice\",\"SalePrice\",\"SalePrice\",\"SalePrice\",\"SalePrice\",\"SalePrice\",\"SalePrice\",\"SalePrice\",\"SalePrice\",\"SalePrice\",\"SalePrice\",\"SalePrice\",\"SalePrice\",\"SalePrice\",\"SalePrice\",\"SalePrice\",\"SalePrice\",\"SalePrice\",\"SalePrice\",\"SalePrice\",\"SalePrice\",\"SalePrice\",\"SalePrice\",\"SalePrice\",\"SalePrice\",\"SalePrice\",\"SalePrice\",\"SalePrice\",\"SalePrice\",\"SalePrice\",\"SalePrice\",\"SalePrice\",\"SalePrice\",\"SalePrice\",\"SalePrice\",\"SalePrice\",\"SalePrice\",\"SalePrice\",\"SalePrice\",\"SalePrice\",\"SalePrice\",\"SalePrice\",\"SalePrice\",\"SalePrice\",\"SalePrice\",\"SalePrice\",\"SalePrice\",\"SalePrice\",\"SalePrice\",\"SalePrice\",\"SalePrice\",\"SalePrice\",\"SalePrice\",\"SalePrice\",\"SalePrice\",\"SalePrice\",\"SalePrice\",\"SalePrice\",\"SalePrice\",\"SalePrice\",\"SalePrice\",\"SalePrice\",\"SalePrice\",\"SalePrice\",\"SalePrice\",\"SalePrice\",\"SalePrice\",\"SalePrice\",\"SalePrice\",\"SalePrice\",\"SalePrice\",\"SalePrice\",\"SalePrice\",\"SalePrice\",\"SalePrice\",\"SalePrice\",\"SalePrice\",\"SalePrice\",\"SalePrice\",\"SalePrice\",\"SalePrice\",\"SalePrice\",\"SalePrice\",\"SalePrice\",\"SalePrice\",\"SalePrice\",\"SalePrice\",\"SalePrice\",\"SalePrice\",\"SalePrice\",\"SalePrice\",\"SalePrice\",\"SalePrice\",\"SalePrice\",\"SalePrice\",\"SalePrice\",\"SalePrice\",\"SalePrice\",\"SalePrice\",\"SalePrice\",\"SalePrice\",\"SalePrice\",\"SalePrice\",\"SalePrice\",\"SalePrice\",\"SalePrice\",\"SalePrice\",\"SalePrice\",\"SalePrice\",\"SalePrice\",\"SalePrice\",\"SalePrice\",\"SalePrice\",\"SalePrice\",\"SalePrice\",\"SalePrice\",\"SalePrice\",\"SalePrice\",\"SalePrice\",\"SalePrice\",\"SalePrice\",\"SalePrice\",\"SalePrice\",\"SalePrice\",\"SalePrice\",\"SalePrice\",\"SalePrice\",\"SalePrice\",\"SalePrice\",\"SalePrice\",\"SalePrice\",\"SalePrice\",\"SalePrice\",\"SalePrice\",\"SalePrice\",\"SalePrice\",\"SalePrice\",\"SalePrice\",\"SalePrice\",\"SalePrice\",\"SalePrice\",\"SalePrice\",\"SalePrice\",\"SalePrice\",\"SalePrice\",\"SalePrice\",\"SalePrice\",\"SalePrice\",\"SalePrice\",\"SalePrice\",\"SalePrice\",\"SalePrice\",\"SalePrice\",\"SalePrice\",\"SalePrice\",\"SalePrice\",\"SalePrice\",\"SalePrice\",\"SalePrice\",\"SalePrice\",\"SalePrice\",\"SalePrice\",\"SalePrice\",\"SalePrice\",\"SalePrice\",\"SalePrice\",\"SalePrice\",\"SalePrice\",\"SalePrice\",\"SalePrice\",\"SalePrice\",\"SalePrice\",\"SalePrice\",\"SalePrice\",\"SalePrice\",\"SalePrice\",\"SalePrice\",\"SalePrice\",\"SalePrice\",\"SalePrice\",\"SalePrice\",\"SalePrice\",\"SalePrice\",\"SalePrice\",\"SalePrice\",\"SalePrice\",\"SalePrice\",\"SalePrice\",\"SalePrice\",\"SalePrice\",\"SalePrice\",\"SalePrice\",\"SalePrice\",\"SalePrice\",\"SalePrice\",\"SalePrice\",\"SalePrice\",\"SalePrice\",\"SalePrice\",\"SalePrice\",\"SalePrice\",\"SalePrice\",\"SalePrice\",\"SalePrice\",\"SalePrice\",\"SalePrice\",\"SalePrice\",\"SalePrice\",\"SalePrice\",\"SalePrice\"],\"yaxis\":\"y2\",\"type\":\"scatter\"},{\"alignmentgroup\":\"True\",\"bingroup\":\"x\",\"hovertemplate\":\"SalePrice=%{x}<br>count=%{y}<extra></extra>\",\"legendgroup\":\"208500\",\"marker\":{\"color\":\"#1f77b4\",\"pattern\":{\"shape\":\"\"}},\"name\":\"histogram\",\"nbinsx\":80,\"offsetgroup\":\"208500\",\"orientation\":\"v\",\"showlegend\":true,\"x\":[208500],\"xaxis\":\"x\",\"yaxis\":\"y3\",\"type\":\"histogram\"},{\"alignmentgroup\":\"True\",\"bingroup\":\"x\",\"hovertemplate\":\"SalePrice=%{x}<br>count=%{y}<extra></extra>\",\"legendgroup\":\"181500\",\"marker\":{\"color\":\"#1f77b4\",\"pattern\":{\"shape\":\"\"}},\"name\":\"histogram\",\"nbinsx\":80,\"offsetgroup\":\"181500\",\"orientation\":\"v\",\"showlegend\":true,\"x\":[181500],\"xaxis\":\"x\",\"yaxis\":\"y3\",\"type\":\"histogram\"},{\"alignmentgroup\":\"True\",\"bingroup\":\"x\",\"hovertemplate\":\"SalePrice=%{x}<br>count=%{y}<extra></extra>\",\"legendgroup\":\"223500\",\"marker\":{\"color\":\"#1f77b4\",\"pattern\":{\"shape\":\"\"}},\"name\":\"histogram\",\"nbinsx\":80,\"offsetgroup\":\"223500\",\"orientation\":\"v\",\"showlegend\":true,\"x\":[223500,223500],\"xaxis\":\"x\",\"yaxis\":\"y3\",\"type\":\"histogram\"},{\"alignmentgroup\":\"True\",\"bingroup\":\"x\",\"hovertemplate\":\"SalePrice=%{x}<br>count=%{y}<extra></extra>\",\"legendgroup\":\"140000\",\"marker\":{\"color\":\"#1f77b4\",\"pattern\":{\"shape\":\"\"}},\"name\":\"histogram\",\"nbinsx\":80,\"offsetgroup\":\"140000\",\"orientation\":\"v\",\"showlegend\":true,\"x\":[140000,140000,140000,140000,140000,140000,140000,140000,140000,140000,140000,140000,140000,140000,140000,140000,140000,140000,140000,140000],\"xaxis\":\"x\",\"yaxis\":\"y3\",\"type\":\"histogram\"},{\"alignmentgroup\":\"True\",\"bingroup\":\"x\",\"hovertemplate\":\"SalePrice=%{x}<br>count=%{y}<extra></extra>\",\"legendgroup\":\"250000\",\"marker\":{\"color\":\"#1f77b4\",\"pattern\":{\"shape\":\"\"}},\"name\":\"histogram\",\"nbinsx\":80,\"offsetgroup\":\"250000\",\"orientation\":\"v\",\"showlegend\":true,\"x\":[250000,250000,250000,250000,250000,250000,250000,250000],\"xaxis\":\"x\",\"yaxis\":\"y3\",\"type\":\"histogram\"},{\"alignmentgroup\":\"True\",\"bingroup\":\"x\",\"hovertemplate\":\"SalePrice=%{x}<br>count=%{y}<extra></extra>\",\"legendgroup\":\"143000\",\"marker\":{\"color\":\"#1f77b4\",\"pattern\":{\"shape\":\"\"}},\"name\":\"histogram\",\"nbinsx\":80,\"offsetgroup\":\"143000\",\"orientation\":\"v\",\"showlegend\":true,\"x\":[143000,143000,143000,143000,143000,143000,143000,143000,143000,143000],\"xaxis\":\"x\",\"yaxis\":\"y3\",\"type\":\"histogram\"},{\"alignmentgroup\":\"True\",\"bingroup\":\"x\",\"hovertemplate\":\"SalePrice=%{x}<br>count=%{y}<extra></extra>\",\"legendgroup\":\"307000\",\"marker\":{\"color\":\"#1f77b4\",\"pattern\":{\"shape\":\"\"}},\"name\":\"histogram\",\"nbinsx\":80,\"offsetgroup\":\"307000\",\"orientation\":\"v\",\"showlegend\":true,\"x\":[307000],\"xaxis\":\"x\",\"yaxis\":\"y3\",\"type\":\"histogram\"},{\"alignmentgroup\":\"True\",\"bingroup\":\"x\",\"hovertemplate\":\"SalePrice=%{x}<br>count=%{y}<extra></extra>\",\"legendgroup\":\"200000\",\"marker\":{\"color\":\"#1f77b4\",\"pattern\":{\"shape\":\"\"}},\"name\":\"histogram\",\"nbinsx\":80,\"offsetgroup\":\"200000\",\"orientation\":\"v\",\"showlegend\":true,\"x\":[200000,200000,200000,200000,200000,200000,200000,200000],\"xaxis\":\"x\",\"yaxis\":\"y3\",\"type\":\"histogram\"},{\"alignmentgroup\":\"True\",\"bingroup\":\"x\",\"hovertemplate\":\"SalePrice=%{x}<br>count=%{y}<extra></extra>\",\"legendgroup\":\"129900\",\"marker\":{\"color\":\"#1f77b4\",\"pattern\":{\"shape\":\"\"}},\"name\":\"histogram\",\"nbinsx\":80,\"offsetgroup\":\"129900\",\"orientation\":\"v\",\"showlegend\":true,\"x\":[129900,129900,129900,129900],\"xaxis\":\"x\",\"yaxis\":\"y3\",\"type\":\"histogram\"},{\"alignmentgroup\":\"True\",\"bingroup\":\"x\",\"hovertemplate\":\"SalePrice=%{x}<br>count=%{y}<extra></extra>\",\"legendgroup\":\"118000\",\"marker\":{\"color\":\"#1f77b4\",\"pattern\":{\"shape\":\"\"}},\"name\":\"histogram\",\"nbinsx\":80,\"offsetgroup\":\"118000\",\"orientation\":\"v\",\"showlegend\":true,\"x\":[118000,118000,118000,118000,118000,118000],\"xaxis\":\"x\",\"yaxis\":\"y3\",\"type\":\"histogram\"},{\"alignmentgroup\":\"True\",\"bingroup\":\"x\",\"hovertemplate\":\"SalePrice=%{x}<br>count=%{y}<extra></extra>\",\"legendgroup\":\"129500\",\"marker\":{\"color\":\"#1f77b4\",\"pattern\":{\"shape\":\"\"}},\"name\":\"histogram\",\"nbinsx\":80,\"offsetgroup\":\"129500\",\"orientation\":\"v\",\"showlegend\":true,\"x\":[129500,129500,129500,129500],\"xaxis\":\"x\",\"yaxis\":\"y3\",\"type\":\"histogram\"},{\"alignmentgroup\":\"True\",\"bingroup\":\"x\",\"hovertemplate\":\"SalePrice=%{x}<br>count=%{y}<extra></extra>\",\"legendgroup\":\"345000\",\"marker\":{\"color\":\"#1f77b4\",\"pattern\":{\"shape\":\"\"}},\"name\":\"histogram\",\"nbinsx\":80,\"offsetgroup\":\"345000\",\"orientation\":\"v\",\"showlegend\":true,\"x\":[345000,345000],\"xaxis\":\"x\",\"yaxis\":\"y3\",\"type\":\"histogram\"},{\"alignmentgroup\":\"True\",\"bingroup\":\"x\",\"hovertemplate\":\"SalePrice=%{x}<br>count=%{y}<extra></extra>\",\"legendgroup\":\"144000\",\"marker\":{\"color\":\"#1f77b4\",\"pattern\":{\"shape\":\"\"}},\"name\":\"histogram\",\"nbinsx\":80,\"offsetgroup\":\"144000\",\"orientation\":\"v\",\"showlegend\":true,\"x\":[144000,144000,144000,144000,144000,144000,144000,144000,144000,144000],\"xaxis\":\"x\",\"yaxis\":\"y3\",\"type\":\"histogram\"},{\"alignmentgroup\":\"True\",\"bingroup\":\"x\",\"hovertemplate\":\"SalePrice=%{x}<br>count=%{y}<extra></extra>\",\"legendgroup\":\"279500\",\"marker\":{\"color\":\"#1f77b4\",\"pattern\":{\"shape\":\"\"}},\"name\":\"histogram\",\"nbinsx\":80,\"offsetgroup\":\"279500\",\"orientation\":\"v\",\"showlegend\":true,\"x\":[279500],\"xaxis\":\"x\",\"yaxis\":\"y3\",\"type\":\"histogram\"},{\"alignmentgroup\":\"True\",\"bingroup\":\"x\",\"hovertemplate\":\"SalePrice=%{x}<br>count=%{y}<extra></extra>\",\"legendgroup\":\"157000\",\"marker\":{\"color\":\"#1f77b4\",\"pattern\":{\"shape\":\"\"}},\"name\":\"histogram\",\"nbinsx\":80,\"offsetgroup\":\"157000\",\"orientation\":\"v\",\"showlegend\":true,\"x\":[157000,157000,157000,157000,157000,157000],\"xaxis\":\"x\",\"yaxis\":\"y3\",\"type\":\"histogram\"},{\"alignmentgroup\":\"True\",\"bingroup\":\"x\",\"hovertemplate\":\"SalePrice=%{x}<br>count=%{y}<extra></extra>\",\"legendgroup\":\"132000\",\"marker\":{\"color\":\"#1f77b4\",\"pattern\":{\"shape\":\"\"}},\"name\":\"histogram\",\"nbinsx\":80,\"offsetgroup\":\"132000\",\"orientation\":\"v\",\"showlegend\":true,\"x\":[132000,132000,132000,132000,132000,132000],\"xaxis\":\"x\",\"yaxis\":\"y3\",\"type\":\"histogram\"},{\"alignmentgroup\":\"True\",\"bingroup\":\"x\",\"hovertemplate\":\"SalePrice=%{x}<br>count=%{y}<extra></extra>\",\"legendgroup\":\"149000\",\"marker\":{\"color\":\"#1f77b4\",\"pattern\":{\"shape\":\"\"}},\"name\":\"histogram\",\"nbinsx\":80,\"offsetgroup\":\"149000\",\"orientation\":\"v\",\"showlegend\":true,\"x\":[149000,149000,149000,149000],\"xaxis\":\"x\",\"yaxis\":\"y3\",\"type\":\"histogram\"},{\"alignmentgroup\":\"True\",\"bingroup\":\"x\",\"hovertemplate\":\"SalePrice=%{x}<br>count=%{y}<extra></extra>\",\"legendgroup\":\"90000\",\"marker\":{\"color\":\"#1f77b4\",\"pattern\":{\"shape\":\"\"}},\"name\":\"histogram\",\"nbinsx\":80,\"offsetgroup\":\"90000\",\"orientation\":\"v\",\"showlegend\":true,\"x\":[90000,90000,90000],\"xaxis\":\"x\",\"yaxis\":\"y3\",\"type\":\"histogram\"},{\"alignmentgroup\":\"True\",\"bingroup\":\"x\",\"hovertemplate\":\"SalePrice=%{x}<br>count=%{y}<extra></extra>\",\"legendgroup\":\"159000\",\"marker\":{\"color\":\"#1f77b4\",\"pattern\":{\"shape\":\"\"}},\"name\":\"histogram\",\"nbinsx\":80,\"offsetgroup\":\"159000\",\"orientation\":\"v\",\"showlegend\":true,\"x\":[159000,159000,159000,159000],\"xaxis\":\"x\",\"yaxis\":\"y3\",\"type\":\"histogram\"},{\"alignmentgroup\":\"True\",\"bingroup\":\"x\",\"hovertemplate\":\"SalePrice=%{x}<br>count=%{y}<extra></extra>\",\"legendgroup\":\"139000\",\"marker\":{\"color\":\"#1f77b4\",\"pattern\":{\"shape\":\"\"}},\"name\":\"histogram\",\"nbinsx\":80,\"offsetgroup\":\"139000\",\"orientation\":\"v\",\"showlegend\":true,\"x\":[139000,139000,139000,139000,139000,139000,139000,139000,139000,139000,139000],\"xaxis\":\"x\",\"yaxis\":\"y3\",\"type\":\"histogram\"},{\"alignmentgroup\":\"True\",\"bingroup\":\"x\",\"hovertemplate\":\"SalePrice=%{x}<br>count=%{y}<extra></extra>\",\"legendgroup\":\"325300\",\"marker\":{\"color\":\"#1f77b4\",\"pattern\":{\"shape\":\"\"}},\"name\":\"histogram\",\"nbinsx\":80,\"offsetgroup\":\"325300\",\"orientation\":\"v\",\"showlegend\":true,\"x\":[325300],\"xaxis\":\"x\",\"yaxis\":\"y3\",\"type\":\"histogram\"},{\"alignmentgroup\":\"True\",\"bingroup\":\"x\",\"hovertemplate\":\"SalePrice=%{x}<br>count=%{y}<extra></extra>\",\"legendgroup\":\"139400\",\"marker\":{\"color\":\"#1f77b4\",\"pattern\":{\"shape\":\"\"}},\"name\":\"histogram\",\"nbinsx\":80,\"offsetgroup\":\"139400\",\"orientation\":\"v\",\"showlegend\":true,\"x\":[139400,139400],\"xaxis\":\"x\",\"yaxis\":\"y3\",\"type\":\"histogram\"},{\"alignmentgroup\":\"True\",\"bingroup\":\"x\",\"hovertemplate\":\"SalePrice=%{x}<br>count=%{y}<extra></extra>\",\"legendgroup\":\"230000\",\"marker\":{\"color\":\"#1f77b4\",\"pattern\":{\"shape\":\"\"}},\"name\":\"histogram\",\"nbinsx\":80,\"offsetgroup\":\"230000\",\"orientation\":\"v\",\"showlegend\":true,\"x\":[230000,230000,230000,230000,230000,230000,230000,230000],\"xaxis\":\"x\",\"yaxis\":\"y3\",\"type\":\"histogram\"},{\"alignmentgroup\":\"True\",\"bingroup\":\"x\",\"hovertemplate\":\"SalePrice=%{x}<br>count=%{y}<extra></extra>\",\"legendgroup\":\"154000\",\"marker\":{\"color\":\"#1f77b4\",\"pattern\":{\"shape\":\"\"}},\"name\":\"histogram\",\"nbinsx\":80,\"offsetgroup\":\"154000\",\"orientation\":\"v\",\"showlegend\":true,\"x\":[154000,154000,154000,154000,154000],\"xaxis\":\"x\",\"yaxis\":\"y3\",\"type\":\"histogram\"},{\"alignmentgroup\":\"True\",\"bingroup\":\"x\",\"hovertemplate\":\"SalePrice=%{x}<br>count=%{y}<extra></extra>\",\"legendgroup\":\"256300\",\"marker\":{\"color\":\"#1f77b4\",\"pattern\":{\"shape\":\"\"}},\"name\":\"histogram\",\"nbinsx\":80,\"offsetgroup\":\"256300\",\"orientation\":\"v\",\"showlegend\":true,\"x\":[256300],\"xaxis\":\"x\",\"yaxis\":\"y3\",\"type\":\"histogram\"},{\"alignmentgroup\":\"True\",\"bingroup\":\"x\",\"hovertemplate\":\"SalePrice=%{x}<br>count=%{y}<extra></extra>\",\"legendgroup\":\"134800\",\"marker\":{\"color\":\"#1f77b4\",\"pattern\":{\"shape\":\"\"}},\"name\":\"histogram\",\"nbinsx\":80,\"offsetgroup\":\"134800\",\"orientation\":\"v\",\"showlegend\":true,\"x\":[134800],\"xaxis\":\"x\",\"yaxis\":\"y3\",\"type\":\"histogram\"},{\"alignmentgroup\":\"True\",\"bingroup\":\"x\",\"hovertemplate\":\"SalePrice=%{x}<br>count=%{y}<extra></extra>\",\"legendgroup\":\"306000\",\"marker\":{\"color\":\"#1f77b4\",\"pattern\":{\"shape\":\"\"}},\"name\":\"histogram\",\"nbinsx\":80,\"offsetgroup\":\"306000\",\"orientation\":\"v\",\"showlegend\":true,\"x\":[306000],\"xaxis\":\"x\",\"yaxis\":\"y3\",\"type\":\"histogram\"},{\"alignmentgroup\":\"True\",\"bingroup\":\"x\",\"hovertemplate\":\"SalePrice=%{x}<br>count=%{y}<extra></extra>\",\"legendgroup\":\"207500\",\"marker\":{\"color\":\"#1f77b4\",\"pattern\":{\"shape\":\"\"}},\"name\":\"histogram\",\"nbinsx\":80,\"offsetgroup\":\"207500\",\"orientation\":\"v\",\"showlegend\":true,\"x\":[207500,207500,207500,207500,207500],\"xaxis\":\"x\",\"yaxis\":\"y3\",\"type\":\"histogram\"},{\"alignmentgroup\":\"True\",\"bingroup\":\"x\",\"hovertemplate\":\"SalePrice=%{x}<br>count=%{y}<extra></extra>\",\"legendgroup\":\"68500\",\"marker\":{\"color\":\"#1f77b4\",\"pattern\":{\"shape\":\"\"}},\"name\":\"histogram\",\"nbinsx\":80,\"offsetgroup\":\"68500\",\"orientation\":\"v\",\"showlegend\":true,\"x\":[68500],\"xaxis\":\"x\",\"yaxis\":\"y3\",\"type\":\"histogram\"},{\"alignmentgroup\":\"True\",\"bingroup\":\"x\",\"hovertemplate\":\"SalePrice=%{x}<br>count=%{y}<extra></extra>\",\"legendgroup\":\"40000\",\"marker\":{\"color\":\"#1f77b4\",\"pattern\":{\"shape\":\"\"}},\"name\":\"histogram\",\"nbinsx\":80,\"offsetgroup\":\"40000\",\"orientation\":\"v\",\"showlegend\":true,\"x\":[40000],\"xaxis\":\"x\",\"yaxis\":\"y3\",\"type\":\"histogram\"},{\"alignmentgroup\":\"True\",\"bingroup\":\"x\",\"hovertemplate\":\"SalePrice=%{x}<br>count=%{y}<extra></extra>\",\"legendgroup\":\"149350\",\"marker\":{\"color\":\"#1f77b4\",\"pattern\":{\"shape\":\"\"}},\"name\":\"histogram\",\"nbinsx\":80,\"offsetgroup\":\"149350\",\"orientation\":\"v\",\"showlegend\":true,\"x\":[149350],\"xaxis\":\"x\",\"yaxis\":\"y3\",\"type\":\"histogram\"},{\"alignmentgroup\":\"True\",\"bingroup\":\"x\",\"hovertemplate\":\"SalePrice=%{x}<br>count=%{y}<extra></extra>\",\"legendgroup\":\"179900\",\"marker\":{\"color\":\"#1f77b4\",\"pattern\":{\"shape\":\"\"}},\"name\":\"histogram\",\"nbinsx\":80,\"offsetgroup\":\"179900\",\"orientation\":\"v\",\"showlegend\":true,\"x\":[179900,179900,179900,179900,179900],\"xaxis\":\"x\",\"yaxis\":\"y3\",\"type\":\"histogram\"},{\"alignmentgroup\":\"True\",\"bingroup\":\"x\",\"hovertemplate\":\"SalePrice=%{x}<br>count=%{y}<extra></extra>\",\"legendgroup\":\"165500\",\"marker\":{\"color\":\"#1f77b4\",\"pattern\":{\"shape\":\"\"}},\"name\":\"histogram\",\"nbinsx\":80,\"offsetgroup\":\"165500\",\"orientation\":\"v\",\"showlegend\":true,\"x\":[165500,165500,165500],\"xaxis\":\"x\",\"yaxis\":\"y3\",\"type\":\"histogram\"},{\"alignmentgroup\":\"True\",\"bingroup\":\"x\",\"hovertemplate\":\"SalePrice=%{x}<br>count=%{y}<extra></extra>\",\"legendgroup\":\"277500\",\"marker\":{\"color\":\"#1f77b4\",\"pattern\":{\"shape\":\"\"}},\"name\":\"histogram\",\"nbinsx\":80,\"offsetgroup\":\"277500\",\"orientation\":\"v\",\"showlegend\":true,\"x\":[277500],\"xaxis\":\"x\",\"yaxis\":\"y3\",\"type\":\"histogram\"},{\"alignmentgroup\":\"True\",\"bingroup\":\"x\",\"hovertemplate\":\"SalePrice=%{x}<br>count=%{y}<extra></extra>\",\"legendgroup\":\"309000\",\"marker\":{\"color\":\"#1f77b4\",\"pattern\":{\"shape\":\"\"}},\"name\":\"histogram\",\"nbinsx\":80,\"offsetgroup\":\"309000\",\"orientation\":\"v\",\"showlegend\":true,\"x\":[309000],\"xaxis\":\"x\",\"yaxis\":\"y3\",\"type\":\"histogram\"},{\"alignmentgroup\":\"True\",\"bingroup\":\"x\",\"hovertemplate\":\"SalePrice=%{x}<br>count=%{y}<extra></extra>\",\"legendgroup\":\"145000\",\"marker\":{\"color\":\"#1f77b4\",\"pattern\":{\"shape\":\"\"}},\"name\":\"histogram\",\"nbinsx\":80,\"offsetgroup\":\"145000\",\"orientation\":\"v\",\"showlegend\":true,\"x\":[145000,145000,145000,145000,145000,145000,145000,145000,145000,145000,145000,145000,145000,145000],\"xaxis\":\"x\",\"yaxis\":\"y3\",\"type\":\"histogram\"},{\"alignmentgroup\":\"True\",\"bingroup\":\"x\",\"hovertemplate\":\"SalePrice=%{x}<br>count=%{y}<extra></extra>\",\"legendgroup\":\"153000\",\"marker\":{\"color\":\"#1f77b4\",\"pattern\":{\"shape\":\"\"}},\"name\":\"histogram\",\"nbinsx\":80,\"offsetgroup\":\"153000\",\"orientation\":\"v\",\"showlegend\":true,\"x\":[153000,153000,153000],\"xaxis\":\"x\",\"yaxis\":\"y3\",\"type\":\"histogram\"},{\"alignmentgroup\":\"True\",\"bingroup\":\"x\",\"hovertemplate\":\"SalePrice=%{x}<br>count=%{y}<extra></extra>\",\"legendgroup\":\"109000\",\"marker\":{\"color\":\"#1f77b4\",\"pattern\":{\"shape\":\"\"}},\"name\":\"histogram\",\"nbinsx\":80,\"offsetgroup\":\"109000\",\"orientation\":\"v\",\"showlegend\":true,\"x\":[109000,109000],\"xaxis\":\"x\",\"yaxis\":\"y3\",\"type\":\"histogram\"},{\"alignmentgroup\":\"True\",\"bingroup\":\"x\",\"hovertemplate\":\"SalePrice=%{x}<br>count=%{y}<extra></extra>\",\"legendgroup\":\"82000\",\"marker\":{\"color\":\"#1f77b4\",\"pattern\":{\"shape\":\"\"}},\"name\":\"histogram\",\"nbinsx\":80,\"offsetgroup\":\"82000\",\"orientation\":\"v\",\"showlegend\":true,\"x\":[82000,82000,82000],\"xaxis\":\"x\",\"yaxis\":\"y3\",\"type\":\"histogram\"},{\"alignmentgroup\":\"True\",\"bingroup\":\"x\",\"hovertemplate\":\"SalePrice=%{x}<br>count=%{y}<extra></extra>\",\"legendgroup\":\"160000\",\"marker\":{\"color\":\"#1f77b4\",\"pattern\":{\"shape\":\"\"}},\"name\":\"histogram\",\"nbinsx\":80,\"offsetgroup\":\"160000\",\"orientation\":\"v\",\"showlegend\":true,\"x\":[160000,160000,160000,160000,160000,160000,160000,160000,160000,160000,160000,160000],\"xaxis\":\"x\",\"yaxis\":\"y3\",\"type\":\"histogram\"},{\"alignmentgroup\":\"True\",\"bingroup\":\"x\",\"hovertemplate\":\"SalePrice=%{x}<br>count=%{y}<extra></extra>\",\"legendgroup\":\"170000\",\"marker\":{\"color\":\"#1f77b4\",\"pattern\":{\"shape\":\"\"}},\"name\":\"histogram\",\"nbinsx\":80,\"offsetgroup\":\"170000\",\"orientation\":\"v\",\"showlegend\":true,\"x\":[170000,170000,170000,170000,170000,170000,170000,170000],\"xaxis\":\"x\",\"yaxis\":\"y3\",\"type\":\"histogram\"},{\"alignmentgroup\":\"True\",\"bingroup\":\"x\",\"hovertemplate\":\"SalePrice=%{x}<br>count=%{y}<extra></extra>\",\"legendgroup\":\"130250\",\"marker\":{\"color\":\"#1f77b4\",\"pattern\":{\"shape\":\"\"}},\"name\":\"histogram\",\"nbinsx\":80,\"offsetgroup\":\"130250\",\"orientation\":\"v\",\"showlegend\":true,\"x\":[130250],\"xaxis\":\"x\",\"yaxis\":\"y3\",\"type\":\"histogram\"},{\"alignmentgroup\":\"True\",\"bingroup\":\"x\",\"hovertemplate\":\"SalePrice=%{x}<br>count=%{y}<extra></extra>\",\"legendgroup\":\"141000\",\"marker\":{\"color\":\"#1f77b4\",\"pattern\":{\"shape\":\"\"}},\"name\":\"histogram\",\"nbinsx\":80,\"offsetgroup\":\"141000\",\"orientation\":\"v\",\"showlegend\":true,\"x\":[141000,141000,141000,141000,141000,141000,141000,141000],\"xaxis\":\"x\",\"yaxis\":\"y3\",\"type\":\"histogram\"},{\"alignmentgroup\":\"True\",\"bingroup\":\"x\",\"hovertemplate\":\"SalePrice=%{x}<br>count=%{y}<extra></extra>\",\"legendgroup\":\"319900\",\"marker\":{\"color\":\"#1f77b4\",\"pattern\":{\"shape\":\"\"}},\"name\":\"histogram\",\"nbinsx\":80,\"offsetgroup\":\"319900\",\"orientation\":\"v\",\"showlegend\":true,\"x\":[319900],\"xaxis\":\"x\",\"yaxis\":\"y3\",\"type\":\"histogram\"},{\"alignmentgroup\":\"True\",\"bingroup\":\"x\",\"hovertemplate\":\"SalePrice=%{x}<br>count=%{y}<extra></extra>\",\"legendgroup\":\"239686\",\"marker\":{\"color\":\"#1f77b4\",\"pattern\":{\"shape\":\"\"}},\"name\":\"histogram\",\"nbinsx\":80,\"offsetgroup\":\"239686\",\"orientation\":\"v\",\"showlegend\":true,\"x\":[239686],\"xaxis\":\"x\",\"yaxis\":\"y3\",\"type\":\"histogram\"},{\"alignmentgroup\":\"True\",\"bingroup\":\"x\",\"hovertemplate\":\"SalePrice=%{x}<br>count=%{y}<extra></extra>\",\"legendgroup\":\"249700\",\"marker\":{\"color\":\"#1f77b4\",\"pattern\":{\"shape\":\"\"}},\"name\":\"histogram\",\"nbinsx\":80,\"offsetgroup\":\"249700\",\"orientation\":\"v\",\"showlegend\":true,\"x\":[249700],\"xaxis\":\"x\",\"yaxis\":\"y3\",\"type\":\"histogram\"},{\"alignmentgroup\":\"True\",\"bingroup\":\"x\",\"hovertemplate\":\"SalePrice=%{x}<br>count=%{y}<extra></extra>\",\"legendgroup\":\"113000\",\"marker\":{\"color\":\"#1f77b4\",\"pattern\":{\"shape\":\"\"}},\"name\":\"histogram\",\"nbinsx\":80,\"offsetgroup\":\"113000\",\"orientation\":\"v\",\"showlegend\":true,\"x\":[113000,113000,113000,113000,113000,113000],\"xaxis\":\"x\",\"yaxis\":\"y3\",\"type\":\"histogram\"},{\"alignmentgroup\":\"True\",\"bingroup\":\"x\",\"hovertemplate\":\"SalePrice=%{x}<br>count=%{y}<extra></extra>\",\"legendgroup\":\"127000\",\"marker\":{\"color\":\"#1f77b4\",\"pattern\":{\"shape\":\"\"}},\"name\":\"histogram\",\"nbinsx\":80,\"offsetgroup\":\"127000\",\"orientation\":\"v\",\"showlegend\":true,\"x\":[127000,127000,127000,127000,127000,127000,127000,127000,127000],\"xaxis\":\"x\",\"yaxis\":\"y3\",\"type\":\"histogram\"},{\"alignmentgroup\":\"True\",\"bingroup\":\"x\",\"hovertemplate\":\"SalePrice=%{x}<br>count=%{y}<extra></extra>\",\"legendgroup\":\"177000\",\"marker\":{\"color\":\"#1f77b4\",\"pattern\":{\"shape\":\"\"}},\"name\":\"histogram\",\"nbinsx\":80,\"offsetgroup\":\"177000\",\"orientation\":\"v\",\"showlegend\":true,\"x\":[177000,177000,177000,177000,177000],\"xaxis\":\"x\",\"yaxis\":\"y3\",\"type\":\"histogram\"},{\"alignmentgroup\":\"True\",\"bingroup\":\"x\",\"hovertemplate\":\"SalePrice=%{x}<br>count=%{y}<extra></extra>\",\"legendgroup\":\"114500\",\"marker\":{\"color\":\"#1f77b4\",\"pattern\":{\"shape\":\"\"}},\"name\":\"histogram\",\"nbinsx\":80,\"offsetgroup\":\"114500\",\"orientation\":\"v\",\"showlegend\":true,\"x\":[114500,114500],\"xaxis\":\"x\",\"yaxis\":\"y3\",\"type\":\"histogram\"},{\"alignmentgroup\":\"True\",\"bingroup\":\"x\",\"hovertemplate\":\"SalePrice=%{x}<br>count=%{y}<extra></extra>\",\"legendgroup\":\"110000\",\"marker\":{\"color\":\"#1f77b4\",\"pattern\":{\"shape\":\"\"}},\"name\":\"histogram\",\"nbinsx\":80,\"offsetgroup\":\"110000\",\"orientation\":\"v\",\"showlegend\":true,\"x\":[110000,110000,110000,110000,110000,110000,110000,110000,110000,110000,110000,110000,110000],\"xaxis\":\"x\",\"yaxis\":\"y3\",\"type\":\"histogram\"},{\"alignmentgroup\":\"True\",\"bingroup\":\"x\",\"hovertemplate\":\"SalePrice=%{x}<br>count=%{y}<extra></extra>\",\"legendgroup\":\"385000\",\"marker\":{\"color\":\"#1f77b4\",\"pattern\":{\"shape\":\"\"}},\"name\":\"histogram\",\"nbinsx\":80,\"offsetgroup\":\"385000\",\"orientation\":\"v\",\"showlegend\":true,\"x\":[385000,385000],\"xaxis\":\"x\",\"yaxis\":\"y3\",\"type\":\"histogram\"},{\"alignmentgroup\":\"True\",\"bingroup\":\"x\",\"hovertemplate\":\"SalePrice=%{x}<br>count=%{y}<extra></extra>\",\"legendgroup\":\"130000\",\"marker\":{\"color\":\"#1f77b4\",\"pattern\":{\"shape\":\"\"}},\"name\":\"histogram\",\"nbinsx\":80,\"offsetgroup\":\"130000\",\"orientation\":\"v\",\"showlegend\":true,\"x\":[130000,130000,130000,130000,130000,130000,130000,130000,130000,130000,130000],\"xaxis\":\"x\",\"yaxis\":\"y3\",\"type\":\"histogram\"},{\"alignmentgroup\":\"True\",\"bingroup\":\"x\",\"hovertemplate\":\"SalePrice=%{x}<br>count=%{y}<extra></extra>\",\"legendgroup\":\"180500\",\"marker\":{\"color\":\"#1f77b4\",\"pattern\":{\"shape\":\"\"}},\"name\":\"histogram\",\"nbinsx\":80,\"offsetgroup\":\"180500\",\"orientation\":\"v\",\"showlegend\":true,\"x\":[180500,180500,180500,180500],\"xaxis\":\"x\",\"yaxis\":\"y3\",\"type\":\"histogram\"},{\"alignmentgroup\":\"True\",\"bingroup\":\"x\",\"hovertemplate\":\"SalePrice=%{x}<br>count=%{y}<extra></extra>\",\"legendgroup\":\"172500\",\"marker\":{\"color\":\"#1f77b4\",\"pattern\":{\"shape\":\"\"}},\"name\":\"histogram\",\"nbinsx\":80,\"offsetgroup\":\"172500\",\"orientation\":\"v\",\"showlegend\":true,\"x\":[172500,172500,172500,172500,172500],\"xaxis\":\"x\",\"yaxis\":\"y3\",\"type\":\"histogram\"},{\"alignmentgroup\":\"True\",\"bingroup\":\"x\",\"hovertemplate\":\"SalePrice=%{x}<br>count=%{y}<extra></extra>\",\"legendgroup\":\"196500\",\"marker\":{\"color\":\"#1f77b4\",\"pattern\":{\"shape\":\"\"}},\"name\":\"histogram\",\"nbinsx\":80,\"offsetgroup\":\"196500\",\"orientation\":\"v\",\"showlegend\":true,\"x\":[196500,196500],\"xaxis\":\"x\",\"yaxis\":\"y3\",\"type\":\"histogram\"},{\"alignmentgroup\":\"True\",\"bingroup\":\"x\",\"hovertemplate\":\"SalePrice=%{x}<br>count=%{y}<extra></extra>\",\"legendgroup\":\"438780\",\"marker\":{\"color\":\"#1f77b4\",\"pattern\":{\"shape\":\"\"}},\"name\":\"histogram\",\"nbinsx\":80,\"offsetgroup\":\"438780\",\"orientation\":\"v\",\"showlegend\":true,\"x\":[438780],\"xaxis\":\"x\",\"yaxis\":\"y3\",\"type\":\"histogram\"},{\"alignmentgroup\":\"True\",\"bingroup\":\"x\",\"hovertemplate\":\"SalePrice=%{x}<br>count=%{y}<extra></extra>\",\"legendgroup\":\"124900\",\"marker\":{\"color\":\"#1f77b4\",\"pattern\":{\"shape\":\"\"}},\"name\":\"histogram\",\"nbinsx\":80,\"offsetgroup\":\"124900\",\"orientation\":\"v\",\"showlegend\":true,\"x\":[124900,124900],\"xaxis\":\"x\",\"yaxis\":\"y3\",\"type\":\"histogram\"},{\"alignmentgroup\":\"True\",\"bingroup\":\"x\",\"hovertemplate\":\"SalePrice=%{x}<br>count=%{y}<extra></extra>\",\"legendgroup\":\"158000\",\"marker\":{\"color\":\"#1f77b4\",\"pattern\":{\"shape\":\"\"}},\"name\":\"histogram\",\"nbinsx\":80,\"offsetgroup\":\"158000\",\"orientation\":\"v\",\"showlegend\":true,\"x\":[158000,158000,158000,158000,158000,158000],\"xaxis\":\"x\",\"yaxis\":\"y3\",\"type\":\"histogram\"},{\"alignmentgroup\":\"True\",\"bingroup\":\"x\",\"hovertemplate\":\"SalePrice=%{x}<br>count=%{y}<extra></extra>\",\"legendgroup\":\"101000\",\"marker\":{\"color\":\"#1f77b4\",\"pattern\":{\"shape\":\"\"}},\"name\":\"histogram\",\"nbinsx\":80,\"offsetgroup\":\"101000\",\"orientation\":\"v\",\"showlegend\":true,\"x\":[101000],\"xaxis\":\"x\",\"yaxis\":\"y3\",\"type\":\"histogram\"},{\"alignmentgroup\":\"True\",\"bingroup\":\"x\",\"hovertemplate\":\"SalePrice=%{x}<br>count=%{y}<extra></extra>\",\"legendgroup\":\"202500\",\"marker\":{\"color\":\"#1f77b4\",\"pattern\":{\"shape\":\"\"}},\"name\":\"histogram\",\"nbinsx\":80,\"offsetgroup\":\"202500\",\"orientation\":\"v\",\"showlegend\":true,\"x\":[202500,202500,202500],\"xaxis\":\"x\",\"yaxis\":\"y3\",\"type\":\"histogram\"},{\"alignmentgroup\":\"True\",\"bingroup\":\"x\",\"hovertemplate\":\"SalePrice=%{x}<br>count=%{y}<extra></extra>\",\"legendgroup\":\"219500\",\"marker\":{\"color\":\"#1f77b4\",\"pattern\":{\"shape\":\"\"}},\"name\":\"histogram\",\"nbinsx\":80,\"offsetgroup\":\"219500\",\"orientation\":\"v\",\"showlegend\":true,\"x\":[219500,219500,219500],\"xaxis\":\"x\",\"yaxis\":\"y3\",\"type\":\"histogram\"},{\"alignmentgroup\":\"True\",\"bingroup\":\"x\",\"hovertemplate\":\"SalePrice=%{x}<br>count=%{y}<extra></extra>\",\"legendgroup\":\"317000\",\"marker\":{\"color\":\"#1f77b4\",\"pattern\":{\"shape\":\"\"}},\"name\":\"histogram\",\"nbinsx\":80,\"offsetgroup\":\"317000\",\"orientation\":\"v\",\"showlegend\":true,\"x\":[317000],\"xaxis\":\"x\",\"yaxis\":\"y3\",\"type\":\"histogram\"},{\"alignmentgroup\":\"True\",\"bingroup\":\"x\",\"hovertemplate\":\"SalePrice=%{x}<br>count=%{y}<extra></extra>\",\"legendgroup\":\"180000\",\"marker\":{\"color\":\"#1f77b4\",\"pattern\":{\"shape\":\"\"}},\"name\":\"histogram\",\"nbinsx\":80,\"offsetgroup\":\"180000\",\"orientation\":\"v\",\"showlegend\":true,\"x\":[180000,180000,180000,180000,180000,180000,180000,180000,180000,180000],\"xaxis\":\"x\",\"yaxis\":\"y3\",\"type\":\"histogram\"},{\"alignmentgroup\":\"True\",\"bingroup\":\"x\",\"hovertemplate\":\"SalePrice=%{x}<br>count=%{y}<extra></extra>\",\"legendgroup\":\"226000\",\"marker\":{\"color\":\"#1f77b4\",\"pattern\":{\"shape\":\"\"}},\"name\":\"histogram\",\"nbinsx\":80,\"offsetgroup\":\"226000\",\"orientation\":\"v\",\"showlegend\":true,\"x\":[226000,226000,226000],\"xaxis\":\"x\",\"yaxis\":\"y3\",\"type\":\"histogram\"},{\"alignmentgroup\":\"True\",\"bingroup\":\"x\",\"hovertemplate\":\"SalePrice=%{x}<br>count=%{y}<extra></extra>\",\"legendgroup\":\"80000\",\"marker\":{\"color\":\"#1f77b4\",\"pattern\":{\"shape\":\"\"}},\"name\":\"histogram\",\"nbinsx\":80,\"offsetgroup\":\"80000\",\"orientation\":\"v\",\"showlegend\":true,\"x\":[80000,80000,80000,80000],\"xaxis\":\"x\",\"yaxis\":\"y3\",\"type\":\"histogram\"},{\"alignmentgroup\":\"True\",\"bingroup\":\"x\",\"hovertemplate\":\"SalePrice=%{x}<br>count=%{y}<extra></extra>\",\"legendgroup\":\"225000\",\"marker\":{\"color\":\"#1f77b4\",\"pattern\":{\"shape\":\"\"}},\"name\":\"histogram\",\"nbinsx\":80,\"offsetgroup\":\"225000\",\"orientation\":\"v\",\"showlegend\":true,\"x\":[225000,225000,225000,225000,225000,225000],\"xaxis\":\"x\",\"yaxis\":\"y3\",\"type\":\"histogram\"},{\"alignmentgroup\":\"True\",\"bingroup\":\"x\",\"hovertemplate\":\"SalePrice=%{x}<br>count=%{y}<extra></extra>\",\"legendgroup\":\"244000\",\"marker\":{\"color\":\"#1f77b4\",\"pattern\":{\"shape\":\"\"}},\"name\":\"histogram\",\"nbinsx\":80,\"offsetgroup\":\"244000\",\"orientation\":\"v\",\"showlegend\":true,\"x\":[244000,244000,244000],\"xaxis\":\"x\",\"yaxis\":\"y3\",\"type\":\"histogram\"},{\"alignmentgroup\":\"True\",\"bingroup\":\"x\",\"hovertemplate\":\"SalePrice=%{x}<br>count=%{y}<extra></extra>\",\"legendgroup\":\"185000\",\"marker\":{\"color\":\"#1f77b4\",\"pattern\":{\"shape\":\"\"}},\"name\":\"histogram\",\"nbinsx\":80,\"offsetgroup\":\"185000\",\"orientation\":\"v\",\"showlegend\":true,\"x\":[185000,185000,185000,185000,185000,185000,185000,185000,185000,185000],\"xaxis\":\"x\",\"yaxis\":\"y3\",\"type\":\"histogram\"},{\"alignmentgroup\":\"True\",\"bingroup\":\"x\",\"hovertemplate\":\"SalePrice=%{x}<br>count=%{y}<extra></extra>\",\"legendgroup\":\"144900\",\"marker\":{\"color\":\"#1f77b4\",\"pattern\":{\"shape\":\"\"}},\"name\":\"histogram\",\"nbinsx\":80,\"offsetgroup\":\"144900\",\"orientation\":\"v\",\"showlegend\":true,\"x\":[144900],\"xaxis\":\"x\",\"yaxis\":\"y3\",\"type\":\"histogram\"},{\"alignmentgroup\":\"True\",\"bingroup\":\"x\",\"hovertemplate\":\"SalePrice=%{x}<br>count=%{y}<extra></extra>\",\"legendgroup\":\"107400\",\"marker\":{\"color\":\"#1f77b4\",\"pattern\":{\"shape\":\"\"}},\"name\":\"histogram\",\"nbinsx\":80,\"offsetgroup\":\"107400\",\"orientation\":\"v\",\"showlegend\":true,\"x\":[107400],\"xaxis\":\"x\",\"yaxis\":\"y3\",\"type\":\"histogram\"},{\"alignmentgroup\":\"True\",\"bingroup\":\"x\",\"hovertemplate\":\"SalePrice=%{x}<br>count=%{y}<extra></extra>\",\"legendgroup\":\"91000\",\"marker\":{\"color\":\"#1f77b4\",\"pattern\":{\"shape\":\"\"}},\"name\":\"histogram\",\"nbinsx\":80,\"offsetgroup\":\"91000\",\"orientation\":\"v\",\"showlegend\":true,\"x\":[91000,91000,91000],\"xaxis\":\"x\",\"yaxis\":\"y3\",\"type\":\"histogram\"},{\"alignmentgroup\":\"True\",\"bingroup\":\"x\",\"hovertemplate\":\"SalePrice=%{x}<br>count=%{y}<extra></extra>\",\"legendgroup\":\"135750\",\"marker\":{\"color\":\"#1f77b4\",\"pattern\":{\"shape\":\"\"}},\"name\":\"histogram\",\"nbinsx\":80,\"offsetgroup\":\"135750\",\"orientation\":\"v\",\"showlegend\":true,\"x\":[135750],\"xaxis\":\"x\",\"yaxis\":\"y3\",\"type\":\"histogram\"},{\"alignmentgroup\":\"True\",\"bingroup\":\"x\",\"hovertemplate\":\"SalePrice=%{x}<br>count=%{y}<extra></extra>\",\"legendgroup\":\"136500\",\"marker\":{\"color\":\"#1f77b4\",\"pattern\":{\"shape\":\"\"}},\"name\":\"histogram\",\"nbinsx\":80,\"offsetgroup\":\"136500\",\"orientation\":\"v\",\"showlegend\":true,\"x\":[136500,136500,136500,136500,136500],\"xaxis\":\"x\",\"yaxis\":\"y3\",\"type\":\"histogram\"},{\"alignmentgroup\":\"True\",\"bingroup\":\"x\",\"hovertemplate\":\"SalePrice=%{x}<br>count=%{y}<extra></extra>\",\"legendgroup\":\"193500\",\"marker\":{\"color\":\"#1f77b4\",\"pattern\":{\"shape\":\"\"}},\"name\":\"histogram\",\"nbinsx\":80,\"offsetgroup\":\"193500\",\"orientation\":\"v\",\"showlegend\":true,\"x\":[193500,193500],\"xaxis\":\"x\",\"yaxis\":\"y3\",\"type\":\"histogram\"},{\"alignmentgroup\":\"True\",\"bingroup\":\"x\",\"hovertemplate\":\"SalePrice=%{x}<br>count=%{y}<extra></extra>\",\"legendgroup\":\"153500\",\"marker\":{\"color\":\"#1f77b4\",\"pattern\":{\"shape\":\"\"}},\"name\":\"histogram\",\"nbinsx\":80,\"offsetgroup\":\"153500\",\"orientation\":\"v\",\"showlegend\":true,\"x\":[153500,153500,153500],\"xaxis\":\"x\",\"yaxis\":\"y3\",\"type\":\"histogram\"},{\"alignmentgroup\":\"True\",\"bingroup\":\"x\",\"hovertemplate\":\"SalePrice=%{x}<br>count=%{y}<extra></extra>\",\"legendgroup\":\"245000\",\"marker\":{\"color\":\"#1f77b4\",\"pattern\":{\"shape\":\"\"}},\"name\":\"histogram\",\"nbinsx\":80,\"offsetgroup\":\"245000\",\"orientation\":\"v\",\"showlegend\":true,\"x\":[245000],\"xaxis\":\"x\",\"yaxis\":\"y3\",\"type\":\"histogram\"},{\"alignmentgroup\":\"True\",\"bingroup\":\"x\",\"hovertemplate\":\"SalePrice=%{x}<br>count=%{y}<extra></extra>\",\"legendgroup\":\"126500\",\"marker\":{\"color\":\"#1f77b4\",\"pattern\":{\"shape\":\"\"}},\"name\":\"histogram\",\"nbinsx\":80,\"offsetgroup\":\"126500\",\"orientation\":\"v\",\"showlegend\":true,\"x\":[126500],\"xaxis\":\"x\",\"yaxis\":\"y3\",\"type\":\"histogram\"},{\"alignmentgroup\":\"True\",\"bingroup\":\"x\",\"hovertemplate\":\"SalePrice=%{x}<br>count=%{y}<extra></extra>\",\"legendgroup\":\"168500\",\"marker\":{\"color\":\"#1f77b4\",\"pattern\":{\"shape\":\"\"}},\"name\":\"histogram\",\"nbinsx\":80,\"offsetgroup\":\"168500\",\"orientation\":\"v\",\"showlegend\":true,\"x\":[168500,168500,168500],\"xaxis\":\"x\",\"yaxis\":\"y3\",\"type\":\"histogram\"},{\"alignmentgroup\":\"True\",\"bingroup\":\"x\",\"hovertemplate\":\"SalePrice=%{x}<br>count=%{y}<extra></extra>\",\"legendgroup\":\"260000\",\"marker\":{\"color\":\"#1f77b4\",\"pattern\":{\"shape\":\"\"}},\"name\":\"histogram\",\"nbinsx\":80,\"offsetgroup\":\"260000\",\"orientation\":\"v\",\"showlegend\":true,\"x\":[260000,260000,260000,260000,260000,260000],\"xaxis\":\"x\",\"yaxis\":\"y3\",\"type\":\"histogram\"},{\"alignmentgroup\":\"True\",\"bingroup\":\"x\",\"hovertemplate\":\"SalePrice=%{x}<br>count=%{y}<extra></extra>\",\"legendgroup\":\"174000\",\"marker\":{\"color\":\"#1f77b4\",\"pattern\":{\"shape\":\"\"}},\"name\":\"histogram\",\"nbinsx\":80,\"offsetgroup\":\"174000\",\"orientation\":\"v\",\"showlegend\":true,\"x\":[174000,174000,174000,174000,174000,174000,174000],\"xaxis\":\"x\",\"yaxis\":\"y3\",\"type\":\"histogram\"},{\"alignmentgroup\":\"True\",\"bingroup\":\"x\",\"hovertemplate\":\"SalePrice=%{x}<br>count=%{y}<extra></extra>\",\"legendgroup\":\"164500\",\"marker\":{\"color\":\"#1f77b4\",\"pattern\":{\"shape\":\"\"}},\"name\":\"histogram\",\"nbinsx\":80,\"offsetgroup\":\"164500\",\"orientation\":\"v\",\"showlegend\":true,\"x\":[164500,164500],\"xaxis\":\"x\",\"yaxis\":\"y3\",\"type\":\"histogram\"},{\"alignmentgroup\":\"True\",\"bingroup\":\"x\",\"hovertemplate\":\"SalePrice=%{x}<br>count=%{y}<extra></extra>\",\"legendgroup\":\"85000\",\"marker\":{\"color\":\"#1f77b4\",\"pattern\":{\"shape\":\"\"}},\"name\":\"histogram\",\"nbinsx\":80,\"offsetgroup\":\"85000\",\"orientation\":\"v\",\"showlegend\":true,\"x\":[85000,85000,85000,85000],\"xaxis\":\"x\",\"yaxis\":\"y3\",\"type\":\"histogram\"},{\"alignmentgroup\":\"True\",\"bingroup\":\"x\",\"hovertemplate\":\"SalePrice=%{x}<br>count=%{y}<extra></extra>\",\"legendgroup\":\"123600\",\"marker\":{\"color\":\"#1f77b4\",\"pattern\":{\"shape\":\"\"}},\"name\":\"histogram\",\"nbinsx\":80,\"offsetgroup\":\"123600\",\"orientation\":\"v\",\"showlegend\":true,\"x\":[123600],\"xaxis\":\"x\",\"yaxis\":\"y3\",\"type\":\"histogram\"},{\"alignmentgroup\":\"True\",\"bingroup\":\"x\",\"hovertemplate\":\"SalePrice=%{x}<br>count=%{y}<extra></extra>\",\"legendgroup\":\"109900\",\"marker\":{\"color\":\"#1f77b4\",\"pattern\":{\"shape\":\"\"}},\"name\":\"histogram\",\"nbinsx\":80,\"offsetgroup\":\"109900\",\"orientation\":\"v\",\"showlegend\":true,\"x\":[109900,109900,109900],\"xaxis\":\"x\",\"yaxis\":\"y3\",\"type\":\"histogram\"},{\"alignmentgroup\":\"True\",\"bingroup\":\"x\",\"hovertemplate\":\"SalePrice=%{x}<br>count=%{y}<extra></extra>\",\"legendgroup\":\"98600\",\"marker\":{\"color\":\"#1f77b4\",\"pattern\":{\"shape\":\"\"}},\"name\":\"histogram\",\"nbinsx\":80,\"offsetgroup\":\"98600\",\"orientation\":\"v\",\"showlegend\":true,\"x\":[98600],\"xaxis\":\"x\",\"yaxis\":\"y3\",\"type\":\"histogram\"},{\"alignmentgroup\":\"True\",\"bingroup\":\"x\",\"hovertemplate\":\"SalePrice=%{x}<br>count=%{y}<extra></extra>\",\"legendgroup\":\"163500\",\"marker\":{\"color\":\"#1f77b4\",\"pattern\":{\"shape\":\"\"}},\"name\":\"histogram\",\"nbinsx\":80,\"offsetgroup\":\"163500\",\"orientation\":\"v\",\"showlegend\":true,\"x\":[163500,163500],\"xaxis\":\"x\",\"yaxis\":\"y3\",\"type\":\"histogram\"},{\"alignmentgroup\":\"True\",\"bingroup\":\"x\",\"hovertemplate\":\"SalePrice=%{x}<br>count=%{y}<extra></extra>\",\"legendgroup\":\"133900\",\"marker\":{\"color\":\"#1f77b4\",\"pattern\":{\"shape\":\"\"}},\"name\":\"histogram\",\"nbinsx\":80,\"offsetgroup\":\"133900\",\"orientation\":\"v\",\"showlegend\":true,\"x\":[133900,133900],\"xaxis\":\"x\",\"yaxis\":\"y3\",\"type\":\"histogram\"},{\"alignmentgroup\":\"True\",\"bingroup\":\"x\",\"hovertemplate\":\"SalePrice=%{x}<br>count=%{y}<extra></extra>\",\"legendgroup\":\"204750\",\"marker\":{\"color\":\"#1f77b4\",\"pattern\":{\"shape\":\"\"}},\"name\":\"histogram\",\"nbinsx\":80,\"offsetgroup\":\"204750\",\"orientation\":\"v\",\"showlegend\":true,\"x\":[204750],\"xaxis\":\"x\",\"yaxis\":\"y3\",\"type\":\"histogram\"},{\"alignmentgroup\":\"True\",\"bingroup\":\"x\",\"hovertemplate\":\"SalePrice=%{x}<br>count=%{y}<extra></extra>\",\"legendgroup\":\"214000\",\"marker\":{\"color\":\"#1f77b4\",\"pattern\":{\"shape\":\"\"}},\"name\":\"histogram\",\"nbinsx\":80,\"offsetgroup\":\"214000\",\"orientation\":\"v\",\"showlegend\":true,\"x\":[214000,214000,214000,214000,214000],\"xaxis\":\"x\",\"yaxis\":\"y3\",\"type\":\"histogram\"},{\"alignmentgroup\":\"True\",\"bingroup\":\"x\",\"hovertemplate\":\"SalePrice=%{x}<br>count=%{y}<extra></extra>\",\"legendgroup\":\"94750\",\"marker\":{\"color\":\"#1f77b4\",\"pattern\":{\"shape\":\"\"}},\"name\":\"histogram\",\"nbinsx\":80,\"offsetgroup\":\"94750\",\"orientation\":\"v\",\"showlegend\":true,\"x\":[94750],\"xaxis\":\"x\",\"yaxis\":\"y3\",\"type\":\"histogram\"},{\"alignmentgroup\":\"True\",\"bingroup\":\"x\",\"hovertemplate\":\"SalePrice=%{x}<br>count=%{y}<extra></extra>\",\"legendgroup\":\"83000\",\"marker\":{\"color\":\"#1f77b4\",\"pattern\":{\"shape\":\"\"}},\"name\":\"histogram\",\"nbinsx\":80,\"offsetgroup\":\"83000\",\"orientation\":\"v\",\"showlegend\":true,\"x\":[83000,83000],\"xaxis\":\"x\",\"yaxis\":\"y3\",\"type\":\"histogram\"},{\"alignmentgroup\":\"True\",\"bingroup\":\"x\",\"hovertemplate\":\"SalePrice=%{x}<br>count=%{y}<extra></extra>\",\"legendgroup\":\"128950\",\"marker\":{\"color\":\"#1f77b4\",\"pattern\":{\"shape\":\"\"}},\"name\":\"histogram\",\"nbinsx\":80,\"offsetgroup\":\"128950\",\"orientation\":\"v\",\"showlegend\":true,\"x\":[128950],\"xaxis\":\"x\",\"yaxis\":\"y3\",\"type\":\"histogram\"},{\"alignmentgroup\":\"True\",\"bingroup\":\"x\",\"hovertemplate\":\"SalePrice=%{x}<br>count=%{y}<extra></extra>\",\"legendgroup\":\"205000\",\"marker\":{\"color\":\"#1f77b4\",\"pattern\":{\"shape\":\"\"}},\"name\":\"histogram\",\"nbinsx\":80,\"offsetgroup\":\"205000\",\"orientation\":\"v\",\"showlegend\":true,\"x\":[205000,205000,205000,205000,205000,205000],\"xaxis\":\"x\",\"yaxis\":\"y3\",\"type\":\"histogram\"},{\"alignmentgroup\":\"True\",\"bingroup\":\"x\",\"hovertemplate\":\"SalePrice=%{x}<br>count=%{y}<extra></extra>\",\"legendgroup\":\"178000\",\"marker\":{\"color\":\"#1f77b4\",\"pattern\":{\"shape\":\"\"}},\"name\":\"histogram\",\"nbinsx\":80,\"offsetgroup\":\"178000\",\"orientation\":\"v\",\"showlegend\":true,\"x\":[178000,178000,178000,178000,178000,178000,178000],\"xaxis\":\"x\",\"yaxis\":\"y3\",\"type\":\"histogram\"},{\"alignmentgroup\":\"True\",\"bingroup\":\"x\",\"hovertemplate\":\"SalePrice=%{x}<br>count=%{y}<extra></extra>\",\"legendgroup\":\"118964\",\"marker\":{\"color\":\"#1f77b4\",\"pattern\":{\"shape\":\"\"}},\"name\":\"histogram\",\"nbinsx\":80,\"offsetgroup\":\"118964\",\"orientation\":\"v\",\"showlegend\":true,\"x\":[118964],\"xaxis\":\"x\",\"yaxis\":\"y3\",\"type\":\"histogram\"},{\"alignmentgroup\":\"True\",\"bingroup\":\"x\",\"hovertemplate\":\"SalePrice=%{x}<br>count=%{y}<extra></extra>\",\"legendgroup\":\"198900\",\"marker\":{\"color\":\"#1f77b4\",\"pattern\":{\"shape\":\"\"}},\"name\":\"histogram\",\"nbinsx\":80,\"offsetgroup\":\"198900\",\"orientation\":\"v\",\"showlegend\":true,\"x\":[198900],\"xaxis\":\"x\",\"yaxis\":\"y3\",\"type\":\"histogram\"},{\"alignmentgroup\":\"True\",\"bingroup\":\"x\",\"hovertemplate\":\"SalePrice=%{x}<br>count=%{y}<extra></extra>\",\"legendgroup\":\"169500\",\"marker\":{\"color\":\"#1f77b4\",\"pattern\":{\"shape\":\"\"}},\"name\":\"histogram\",\"nbinsx\":80,\"offsetgroup\":\"169500\",\"orientation\":\"v\",\"showlegend\":true,\"x\":[169500,169500],\"xaxis\":\"x\",\"yaxis\":\"y3\",\"type\":\"histogram\"},{\"alignmentgroup\":\"True\",\"bingroup\":\"x\",\"hovertemplate\":\"SalePrice=%{x}<br>count=%{y}<extra></extra>\",\"legendgroup\":\"100000\",\"marker\":{\"color\":\"#1f77b4\",\"pattern\":{\"shape\":\"\"}},\"name\":\"histogram\",\"nbinsx\":80,\"offsetgroup\":\"100000\",\"orientation\":\"v\",\"showlegend\":true,\"x\":[100000,100000,100000,100000,100000,100000,100000,100000,100000],\"xaxis\":\"x\",\"yaxis\":\"y3\",\"type\":\"histogram\"},{\"alignmentgroup\":\"True\",\"bingroup\":\"x\",\"hovertemplate\":\"SalePrice=%{x}<br>count=%{y}<extra></extra>\",\"legendgroup\":\"115000\",\"marker\":{\"color\":\"#1f77b4\",\"pattern\":{\"shape\":\"\"}},\"name\":\"histogram\",\"nbinsx\":80,\"offsetgroup\":\"115000\",\"orientation\":\"v\",\"showlegend\":true,\"x\":[115000,115000,115000,115000,115000,115000,115000,115000,115000,115000,115000,115000],\"xaxis\":\"x\",\"yaxis\":\"y3\",\"type\":\"histogram\"},{\"alignmentgroup\":\"True\",\"bingroup\":\"x\",\"hovertemplate\":\"SalePrice=%{x}<br>count=%{y}<extra></extra>\",\"legendgroup\":\"190000\",\"marker\":{\"color\":\"#1f77b4\",\"pattern\":{\"shape\":\"\"}},\"name\":\"histogram\",\"nbinsx\":80,\"offsetgroup\":\"190000\",\"orientation\":\"v\",\"showlegend\":true,\"x\":[190000,190000,190000,190000,190000,190000,190000,190000,190000,190000,190000,190000,190000],\"xaxis\":\"x\",\"yaxis\":\"y3\",\"type\":\"histogram\"},{\"alignmentgroup\":\"True\",\"bingroup\":\"x\",\"hovertemplate\":\"SalePrice=%{x}<br>count=%{y}<extra></extra>\",\"legendgroup\":\"136900\",\"marker\":{\"color\":\"#1f77b4\",\"pattern\":{\"shape\":\"\"}},\"name\":\"histogram\",\"nbinsx\":80,\"offsetgroup\":\"136900\",\"orientation\":\"v\",\"showlegend\":true,\"x\":[136900],\"xaxis\":\"x\",\"yaxis\":\"y3\",\"type\":\"histogram\"},{\"alignmentgroup\":\"True\",\"bingroup\":\"x\",\"hovertemplate\":\"SalePrice=%{x}<br>count=%{y}<extra></extra>\",\"legendgroup\":\"383970\",\"marker\":{\"color\":\"#1f77b4\",\"pattern\":{\"shape\":\"\"}},\"name\":\"histogram\",\"nbinsx\":80,\"offsetgroup\":\"383970\",\"orientation\":\"v\",\"showlegend\":true,\"x\":[383970],\"xaxis\":\"x\",\"yaxis\":\"y3\",\"type\":\"histogram\"},{\"alignmentgroup\":\"True\",\"bingroup\":\"x\",\"hovertemplate\":\"SalePrice=%{x}<br>count=%{y}<extra></extra>\",\"legendgroup\":\"217000\",\"marker\":{\"color\":\"#1f77b4\",\"pattern\":{\"shape\":\"\"}},\"name\":\"histogram\",\"nbinsx\":80,\"offsetgroup\":\"217000\",\"orientation\":\"v\",\"showlegend\":true,\"x\":[217000,217000],\"xaxis\":\"x\",\"yaxis\":\"y3\",\"type\":\"histogram\"},{\"alignmentgroup\":\"True\",\"bingroup\":\"x\",\"hovertemplate\":\"SalePrice=%{x}<br>count=%{y}<extra></extra>\",\"legendgroup\":\"259500\",\"marker\":{\"color\":\"#1f77b4\",\"pattern\":{\"shape\":\"\"}},\"name\":\"histogram\",\"nbinsx\":80,\"offsetgroup\":\"259500\",\"orientation\":\"v\",\"showlegend\":true,\"x\":[259500],\"xaxis\":\"x\",\"yaxis\":\"y3\",\"type\":\"histogram\"},{\"alignmentgroup\":\"True\",\"bingroup\":\"x\",\"hovertemplate\":\"SalePrice=%{x}<br>count=%{y}<extra></extra>\",\"legendgroup\":\"176000\",\"marker\":{\"color\":\"#1f77b4\",\"pattern\":{\"shape\":\"\"}},\"name\":\"histogram\",\"nbinsx\":80,\"offsetgroup\":\"176000\",\"orientation\":\"v\",\"showlegend\":true,\"x\":[176000,176000,176000,176000,176000,176000,176000,176000],\"xaxis\":\"x\",\"yaxis\":\"y3\",\"type\":\"histogram\"},{\"alignmentgroup\":\"True\",\"bingroup\":\"x\",\"hovertemplate\":\"SalePrice=%{x}<br>count=%{y}<extra></extra>\",\"legendgroup\":\"155000\",\"marker\":{\"color\":\"#1f77b4\",\"pattern\":{\"shape\":\"\"}},\"name\":\"histogram\",\"nbinsx\":80,\"offsetgroup\":\"155000\",\"orientation\":\"v\",\"showlegend\":true,\"x\":[155000,155000,155000,155000,155000,155000,155000,155000,155000,155000,155000,155000,155000,155000],\"xaxis\":\"x\",\"yaxis\":\"y3\",\"type\":\"histogram\"},{\"alignmentgroup\":\"True\",\"bingroup\":\"x\",\"hovertemplate\":\"SalePrice=%{x}<br>count=%{y}<extra></extra>\",\"legendgroup\":\"320000\",\"marker\":{\"color\":\"#1f77b4\",\"pattern\":{\"shape\":\"\"}},\"name\":\"histogram\",\"nbinsx\":80,\"offsetgroup\":\"320000\",\"orientation\":\"v\",\"showlegend\":true,\"x\":[320000,320000,320000,320000],\"xaxis\":\"x\",\"yaxis\":\"y3\",\"type\":\"histogram\"},{\"alignmentgroup\":\"True\",\"bingroup\":\"x\",\"hovertemplate\":\"SalePrice=%{x}<br>count=%{y}<extra></extra>\",\"legendgroup\":\"163990\",\"marker\":{\"color\":\"#1f77b4\",\"pattern\":{\"shape\":\"\"}},\"name\":\"histogram\",\"nbinsx\":80,\"offsetgroup\":\"163990\",\"orientation\":\"v\",\"showlegend\":true,\"x\":[163990],\"xaxis\":\"x\",\"yaxis\":\"y3\",\"type\":\"histogram\"},{\"alignmentgroup\":\"True\",\"bingroup\":\"x\",\"hovertemplate\":\"SalePrice=%{x}<br>count=%{y}<extra></extra>\",\"legendgroup\":\"136000\",\"marker\":{\"color\":\"#1f77b4\",\"pattern\":{\"shape\":\"\"}},\"name\":\"histogram\",\"nbinsx\":80,\"offsetgroup\":\"136000\",\"orientation\":\"v\",\"showlegend\":true,\"x\":[136000,136000,136000],\"xaxis\":\"x\",\"yaxis\":\"y3\",\"type\":\"histogram\"},{\"alignmentgroup\":\"True\",\"bingroup\":\"x\",\"hovertemplate\":\"SalePrice=%{x}<br>count=%{y}<extra></extra>\",\"legendgroup\":\"153900\",\"marker\":{\"color\":\"#1f77b4\",\"pattern\":{\"shape\":\"\"}},\"name\":\"histogram\",\"nbinsx\":80,\"offsetgroup\":\"153900\",\"orientation\":\"v\",\"showlegend\":true,\"x\":[153900,153900],\"xaxis\":\"x\",\"yaxis\":\"y3\",\"type\":\"histogram\"},{\"alignmentgroup\":\"True\",\"bingroup\":\"x\",\"hovertemplate\":\"SalePrice=%{x}<br>count=%{y}<extra></extra>\",\"legendgroup\":\"181000\",\"marker\":{\"color\":\"#1f77b4\",\"pattern\":{\"shape\":\"\"}},\"name\":\"histogram\",\"nbinsx\":80,\"offsetgroup\":\"181000\",\"orientation\":\"v\",\"showlegend\":true,\"x\":[181000,181000,181000,181000,181000,181000,181000],\"xaxis\":\"x\",\"yaxis\":\"y3\",\"type\":\"histogram\"},{\"alignmentgroup\":\"True\",\"bingroup\":\"x\",\"hovertemplate\":\"SalePrice=%{x}<br>count=%{y}<extra></extra>\",\"legendgroup\":\"84500\",\"marker\":{\"color\":\"#1f77b4\",\"pattern\":{\"shape\":\"\"}},\"name\":\"histogram\",\"nbinsx\":80,\"offsetgroup\":\"84500\",\"orientation\":\"v\",\"showlegend\":true,\"x\":[84500,84500,84500],\"xaxis\":\"x\",\"yaxis\":\"y3\",\"type\":\"histogram\"},{\"alignmentgroup\":\"True\",\"bingroup\":\"x\",\"hovertemplate\":\"SalePrice=%{x}<br>count=%{y}<extra></extra>\",\"legendgroup\":\"128000\",\"marker\":{\"color\":\"#1f77b4\",\"pattern\":{\"shape\":\"\"}},\"name\":\"histogram\",\"nbinsx\":80,\"offsetgroup\":\"128000\",\"orientation\":\"v\",\"showlegend\":true,\"x\":[128000,128000,128000,128000,128000,128000,128000],\"xaxis\":\"x\",\"yaxis\":\"y3\",\"type\":\"histogram\"},{\"alignmentgroup\":\"True\",\"bingroup\":\"x\",\"hovertemplate\":\"SalePrice=%{x}<br>count=%{y}<extra></extra>\",\"legendgroup\":\"87000\",\"marker\":{\"color\":\"#1f77b4\",\"pattern\":{\"shape\":\"\"}},\"name\":\"histogram\",\"nbinsx\":80,\"offsetgroup\":\"87000\",\"orientation\":\"v\",\"showlegend\":true,\"x\":[87000,87000,87000,87000],\"xaxis\":\"x\",\"yaxis\":\"y3\",\"type\":\"histogram\"},{\"alignmentgroup\":\"True\",\"bingroup\":\"x\",\"hovertemplate\":\"SalePrice=%{x}<br>count=%{y}<extra></extra>\",\"legendgroup\":\"150000\",\"marker\":{\"color\":\"#1f77b4\",\"pattern\":{\"shape\":\"\"}},\"name\":\"histogram\",\"nbinsx\":80,\"offsetgroup\":\"150000\",\"orientation\":\"v\",\"showlegend\":true,\"x\":[150000,150000,150000,150000],\"xaxis\":\"x\",\"yaxis\":\"y3\",\"type\":\"histogram\"},{\"alignmentgroup\":\"True\",\"bingroup\":\"x\",\"hovertemplate\":\"SalePrice=%{x}<br>count=%{y}<extra></extra>\",\"legendgroup\":\"150750\",\"marker\":{\"color\":\"#1f77b4\",\"pattern\":{\"shape\":\"\"}},\"name\":\"histogram\",\"nbinsx\":80,\"offsetgroup\":\"150750\",\"orientation\":\"v\",\"showlegend\":true,\"x\":[150750],\"xaxis\":\"x\",\"yaxis\":\"y3\",\"type\":\"histogram\"},{\"alignmentgroup\":\"True\",\"bingroup\":\"x\",\"hovertemplate\":\"SalePrice=%{x}<br>count=%{y}<extra></extra>\",\"legendgroup\":\"220000\",\"marker\":{\"color\":\"#1f77b4\",\"pattern\":{\"shape\":\"\"}},\"name\":\"histogram\",\"nbinsx\":80,\"offsetgroup\":\"220000\",\"orientation\":\"v\",\"showlegend\":true,\"x\":[220000,220000,220000,220000,220000],\"xaxis\":\"x\",\"yaxis\":\"y3\",\"type\":\"histogram\"},{\"alignmentgroup\":\"True\",\"bingroup\":\"x\",\"hovertemplate\":\"SalePrice=%{x}<br>count=%{y}<extra></extra>\",\"legendgroup\":\"171000\",\"marker\":{\"color\":\"#1f77b4\",\"pattern\":{\"shape\":\"\"}},\"name\":\"histogram\",\"nbinsx\":80,\"offsetgroup\":\"171000\",\"orientation\":\"v\",\"showlegend\":true,\"x\":[171000,171000,171000,171000,171000],\"xaxis\":\"x\",\"yaxis\":\"y3\",\"type\":\"histogram\"},{\"alignmentgroup\":\"True\",\"bingroup\":\"x\",\"hovertemplate\":\"SalePrice=%{x}<br>count=%{y}<extra></extra>\",\"legendgroup\":\"231500\",\"marker\":{\"color\":\"#1f77b4\",\"pattern\":{\"shape\":\"\"}},\"name\":\"histogram\",\"nbinsx\":80,\"offsetgroup\":\"231500\",\"orientation\":\"v\",\"showlegend\":true,\"x\":[231500,231500],\"xaxis\":\"x\",\"yaxis\":\"y3\",\"type\":\"histogram\"},{\"alignmentgroup\":\"True\",\"bingroup\":\"x\",\"hovertemplate\":\"SalePrice=%{x}<br>count=%{y}<extra></extra>\",\"legendgroup\":\"166000\",\"marker\":{\"color\":\"#1f77b4\",\"pattern\":{\"shape\":\"\"}},\"name\":\"histogram\",\"nbinsx\":80,\"offsetgroup\":\"166000\",\"orientation\":\"v\",\"showlegend\":true,\"x\":[166000,166000],\"xaxis\":\"x\",\"yaxis\":\"y3\",\"type\":\"histogram\"},{\"alignmentgroup\":\"True\",\"bingroup\":\"x\",\"hovertemplate\":\"SalePrice=%{x}<br>count=%{y}<extra></extra>\",\"legendgroup\":\"204000\",\"marker\":{\"color\":\"#1f77b4\",\"pattern\":{\"shape\":\"\"}},\"name\":\"histogram\",\"nbinsx\":80,\"offsetgroup\":\"204000\",\"orientation\":\"v\",\"showlegend\":true,\"x\":[204000,204000],\"xaxis\":\"x\",\"yaxis\":\"y3\",\"type\":\"histogram\"},{\"alignmentgroup\":\"True\",\"bingroup\":\"x\",\"hovertemplate\":\"SalePrice=%{x}<br>count=%{y}<extra></extra>\",\"legendgroup\":\"125000\",\"marker\":{\"color\":\"#1f77b4\",\"pattern\":{\"shape\":\"\"}},\"name\":\"histogram\",\"nbinsx\":80,\"offsetgroup\":\"125000\",\"orientation\":\"v\",\"showlegend\":true,\"x\":[125000,125000,125000,125000,125000,125000,125000,125000,125000,125000],\"xaxis\":\"x\",\"yaxis\":\"y3\",\"type\":\"histogram\"},{\"alignmentgroup\":\"True\",\"bingroup\":\"x\",\"hovertemplate\":\"SalePrice=%{x}<br>count=%{y}<extra></extra>\",\"legendgroup\":\"105000\",\"marker\":{\"color\":\"#1f77b4\",\"pattern\":{\"shape\":\"\"}},\"name\":\"histogram\",\"nbinsx\":80,\"offsetgroup\":\"105000\",\"orientation\":\"v\",\"showlegend\":true,\"x\":[105000,105000,105000,105000,105000],\"xaxis\":\"x\",\"yaxis\":\"y3\",\"type\":\"histogram\"},{\"alignmentgroup\":\"True\",\"bingroup\":\"x\",\"hovertemplate\":\"SalePrice=%{x}<br>count=%{y}<extra></extra>\",\"legendgroup\":\"222500\",\"marker\":{\"color\":\"#1f77b4\",\"pattern\":{\"shape\":\"\"}},\"name\":\"histogram\",\"nbinsx\":80,\"offsetgroup\":\"222500\",\"orientation\":\"v\",\"showlegend\":true,\"x\":[222500,222500],\"xaxis\":\"x\",\"yaxis\":\"y3\",\"type\":\"histogram\"},{\"alignmentgroup\":\"True\",\"bingroup\":\"x\",\"hovertemplate\":\"SalePrice=%{x}<br>count=%{y}<extra></extra>\",\"legendgroup\":\"122000\",\"marker\":{\"color\":\"#1f77b4\",\"pattern\":{\"shape\":\"\"}},\"name\":\"histogram\",\"nbinsx\":80,\"offsetgroup\":\"122000\",\"orientation\":\"v\",\"showlegend\":true,\"x\":[122000,122000,122000,122000],\"xaxis\":\"x\",\"yaxis\":\"y3\",\"type\":\"histogram\"},{\"alignmentgroup\":\"True\",\"bingroup\":\"x\",\"hovertemplate\":\"SalePrice=%{x}<br>count=%{y}<extra></extra>\",\"legendgroup\":\"372402\",\"marker\":{\"color\":\"#1f77b4\",\"pattern\":{\"shape\":\"\"}},\"name\":\"histogram\",\"nbinsx\":80,\"offsetgroup\":\"372402\",\"orientation\":\"v\",\"showlegend\":true,\"x\":[372402],\"xaxis\":\"x\",\"yaxis\":\"y3\",\"type\":\"histogram\"},{\"alignmentgroup\":\"True\",\"bingroup\":\"x\",\"hovertemplate\":\"SalePrice=%{x}<br>count=%{y}<extra></extra>\",\"legendgroup\":\"235000\",\"marker\":{\"color\":\"#1f77b4\",\"pattern\":{\"shape\":\"\"}},\"name\":\"histogram\",\"nbinsx\":80,\"offsetgroup\":\"235000\",\"orientation\":\"v\",\"showlegend\":true,\"x\":[235000,235000,235000,235000,235000,235000,235000],\"xaxis\":\"x\",\"yaxis\":\"y3\",\"type\":\"histogram\"},{\"alignmentgroup\":\"True\",\"bingroup\":\"x\",\"hovertemplate\":\"SalePrice=%{x}<br>count=%{y}<extra></extra>\",\"legendgroup\":\"79000\",\"marker\":{\"color\":\"#1f77b4\",\"pattern\":{\"shape\":\"\"}},\"name\":\"histogram\",\"nbinsx\":80,\"offsetgroup\":\"79000\",\"orientation\":\"v\",\"showlegend\":true,\"x\":[79000,79000,79000],\"xaxis\":\"x\",\"yaxis\":\"y3\",\"type\":\"histogram\"},{\"alignmentgroup\":\"True\",\"bingroup\":\"x\",\"hovertemplate\":\"SalePrice=%{x}<br>count=%{y}<extra></extra>\",\"legendgroup\":\"109500\",\"marker\":{\"color\":\"#1f77b4\",\"pattern\":{\"shape\":\"\"}},\"name\":\"histogram\",\"nbinsx\":80,\"offsetgroup\":\"109500\",\"orientation\":\"v\",\"showlegend\":true,\"x\":[109500,109500,109500,109500],\"xaxis\":\"x\",\"yaxis\":\"y3\",\"type\":\"histogram\"},{\"alignmentgroup\":\"True\",\"bingroup\":\"x\",\"hovertemplate\":\"SalePrice=%{x}<br>count=%{y}<extra></extra>\",\"legendgroup\":\"269500\",\"marker\":{\"color\":\"#1f77b4\",\"pattern\":{\"shape\":\"\"}},\"name\":\"histogram\",\"nbinsx\":80,\"offsetgroup\":\"269500\",\"orientation\":\"v\",\"showlegend\":true,\"x\":[269500],\"xaxis\":\"x\",\"yaxis\":\"y3\",\"type\":\"histogram\"},{\"alignmentgroup\":\"True\",\"bingroup\":\"x\",\"hovertemplate\":\"SalePrice=%{x}<br>count=%{y}<extra></extra>\",\"legendgroup\":\"254900\",\"marker\":{\"color\":\"#1f77b4\",\"pattern\":{\"shape\":\"\"}},\"name\":\"histogram\",\"nbinsx\":80,\"offsetgroup\":\"254900\",\"orientation\":\"v\",\"showlegend\":true,\"x\":[254900],\"xaxis\":\"x\",\"yaxis\":\"y3\",\"type\":\"histogram\"},{\"alignmentgroup\":\"True\",\"bingroup\":\"x\",\"hovertemplate\":\"SalePrice=%{x}<br>count=%{y}<extra></extra>\",\"legendgroup\":\"162500\",\"marker\":{\"color\":\"#1f77b4\",\"pattern\":{\"shape\":\"\"}},\"name\":\"histogram\",\"nbinsx\":80,\"offsetgroup\":\"162500\",\"orientation\":\"v\",\"showlegend\":true,\"x\":[162500],\"xaxis\":\"x\",\"yaxis\":\"y3\",\"type\":\"histogram\"},{\"alignmentgroup\":\"True\",\"bingroup\":\"x\",\"hovertemplate\":\"SalePrice=%{x}<br>count=%{y}<extra></extra>\",\"legendgroup\":\"412500\",\"marker\":{\"color\":\"#1f77b4\",\"pattern\":{\"shape\":\"\"}},\"name\":\"histogram\",\"nbinsx\":80,\"offsetgroup\":\"412500\",\"orientation\":\"v\",\"showlegend\":true,\"x\":[412500],\"xaxis\":\"x\",\"yaxis\":\"y3\",\"type\":\"histogram\"},{\"alignmentgroup\":\"True\",\"bingroup\":\"x\",\"hovertemplate\":\"SalePrice=%{x}<br>count=%{y}<extra></extra>\",\"legendgroup\":\"103200\",\"marker\":{\"color\":\"#1f77b4\",\"pattern\":{\"shape\":\"\"}},\"name\":\"histogram\",\"nbinsx\":80,\"offsetgroup\":\"103200\",\"orientation\":\"v\",\"showlegend\":true,\"x\":[103200],\"xaxis\":\"x\",\"yaxis\":\"y3\",\"type\":\"histogram\"},{\"alignmentgroup\":\"True\",\"bingroup\":\"x\",\"hovertemplate\":\"SalePrice=%{x}<br>count=%{y}<extra></extra>\",\"legendgroup\":\"152000\",\"marker\":{\"color\":\"#1f77b4\",\"pattern\":{\"shape\":\"\"}},\"name\":\"histogram\",\"nbinsx\":80,\"offsetgroup\":\"152000\",\"orientation\":\"v\",\"showlegend\":true,\"x\":[152000,152000,152000,152000,152000,152000],\"xaxis\":\"x\",\"yaxis\":\"y3\",\"type\":\"histogram\"},{\"alignmentgroup\":\"True\",\"bingroup\":\"x\",\"hovertemplate\":\"SalePrice=%{x}<br>count=%{y}<extra></extra>\",\"legendgroup\":\"127500\",\"marker\":{\"color\":\"#1f77b4\",\"pattern\":{\"shape\":\"\"}},\"name\":\"histogram\",\"nbinsx\":80,\"offsetgroup\":\"127500\",\"orientation\":\"v\",\"showlegend\":true,\"x\":[127500,127500,127500,127500,127500,127500],\"xaxis\":\"x\",\"yaxis\":\"y3\",\"type\":\"histogram\"},{\"alignmentgroup\":\"True\",\"bingroup\":\"x\",\"hovertemplate\":\"SalePrice=%{x}<br>count=%{y}<extra></extra>\",\"legendgroup\":\"325624\",\"marker\":{\"color\":\"#1f77b4\",\"pattern\":{\"shape\":\"\"}},\"name\":\"histogram\",\"nbinsx\":80,\"offsetgroup\":\"325624\",\"orientation\":\"v\",\"showlegend\":true,\"x\":[325624],\"xaxis\":\"x\",\"yaxis\":\"y3\",\"type\":\"histogram\"},{\"alignmentgroup\":\"True\",\"bingroup\":\"x\",\"hovertemplate\":\"SalePrice=%{x}<br>count=%{y}<extra></extra>\",\"legendgroup\":\"183500\",\"marker\":{\"color\":\"#1f77b4\",\"pattern\":{\"shape\":\"\"}},\"name\":\"histogram\",\"nbinsx\":80,\"offsetgroup\":\"183500\",\"orientation\":\"v\",\"showlegend\":true,\"x\":[183500],\"xaxis\":\"x\",\"yaxis\":\"y3\",\"type\":\"histogram\"},{\"alignmentgroup\":\"True\",\"bingroup\":\"x\",\"hovertemplate\":\"SalePrice=%{x}<br>count=%{y}<extra></extra>\",\"legendgroup\":\"228000\",\"marker\":{\"color\":\"#1f77b4\",\"pattern\":{\"shape\":\"\"}},\"name\":\"histogram\",\"nbinsx\":80,\"offsetgroup\":\"228000\",\"orientation\":\"v\",\"showlegend\":true,\"x\":[228000,228000],\"xaxis\":\"x\",\"yaxis\":\"y3\",\"type\":\"histogram\"},{\"alignmentgroup\":\"True\",\"bingroup\":\"x\",\"hovertemplate\":\"SalePrice=%{x}<br>count=%{y}<extra></extra>\",\"legendgroup\":\"128500\",\"marker\":{\"color\":\"#1f77b4\",\"pattern\":{\"shape\":\"\"}},\"name\":\"histogram\",\"nbinsx\":80,\"offsetgroup\":\"128500\",\"orientation\":\"v\",\"showlegend\":true,\"x\":[128500,128500,128500,128500],\"xaxis\":\"x\",\"yaxis\":\"y3\",\"type\":\"histogram\"},{\"alignmentgroup\":\"True\",\"bingroup\":\"x\",\"hovertemplate\":\"SalePrice=%{x}<br>count=%{y}<extra></extra>\",\"legendgroup\":\"215000\",\"marker\":{\"color\":\"#1f77b4\",\"pattern\":{\"shape\":\"\"}},\"name\":\"histogram\",\"nbinsx\":80,\"offsetgroup\":\"215000\",\"orientation\":\"v\",\"showlegend\":true,\"x\":[215000,215000,215000,215000,215000,215000,215000,215000],\"xaxis\":\"x\",\"yaxis\":\"y3\",\"type\":\"histogram\"},{\"alignmentgroup\":\"True\",\"bingroup\":\"x\",\"hovertemplate\":\"SalePrice=%{x}<br>count=%{y}<extra></extra>\",\"legendgroup\":\"239000\",\"marker\":{\"color\":\"#1f77b4\",\"pattern\":{\"shape\":\"\"}},\"name\":\"histogram\",\"nbinsx\":80,\"offsetgroup\":\"239000\",\"orientation\":\"v\",\"showlegend\":true,\"x\":[239000,239000,239000,239000,239000,239000],\"xaxis\":\"x\",\"yaxis\":\"y3\",\"type\":\"histogram\"},{\"alignmentgroup\":\"True\",\"bingroup\":\"x\",\"hovertemplate\":\"SalePrice=%{x}<br>count=%{y}<extra></extra>\",\"legendgroup\":\"163000\",\"marker\":{\"color\":\"#1f77b4\",\"pattern\":{\"shape\":\"\"}},\"name\":\"histogram\",\"nbinsx\":80,\"offsetgroup\":\"163000\",\"orientation\":\"v\",\"showlegend\":true,\"x\":[163000,163000,163000,163000],\"xaxis\":\"x\",\"yaxis\":\"y3\",\"type\":\"histogram\"},{\"alignmentgroup\":\"True\",\"bingroup\":\"x\",\"hovertemplate\":\"SalePrice=%{x}<br>count=%{y}<extra></extra>\",\"legendgroup\":\"184000\",\"marker\":{\"color\":\"#1f77b4\",\"pattern\":{\"shape\":\"\"}},\"name\":\"histogram\",\"nbinsx\":80,\"offsetgroup\":\"184000\",\"orientation\":\"v\",\"showlegend\":true,\"x\":[184000,184000,184000,184000],\"xaxis\":\"x\",\"yaxis\":\"y3\",\"type\":\"histogram\"},{\"alignmentgroup\":\"True\",\"bingroup\":\"x\",\"hovertemplate\":\"SalePrice=%{x}<br>count=%{y}<extra></extra>\",\"legendgroup\":\"243000\",\"marker\":{\"color\":\"#1f77b4\",\"pattern\":{\"shape\":\"\"}},\"name\":\"histogram\",\"nbinsx\":80,\"offsetgroup\":\"243000\",\"orientation\":\"v\",\"showlegend\":true,\"x\":[243000],\"xaxis\":\"x\",\"yaxis\":\"y3\",\"type\":\"histogram\"},{\"alignmentgroup\":\"True\",\"bingroup\":\"x\",\"hovertemplate\":\"SalePrice=%{x}<br>count=%{y}<extra></extra>\",\"legendgroup\":\"211000\",\"marker\":{\"color\":\"#1f77b4\",\"pattern\":{\"shape\":\"\"}},\"name\":\"histogram\",\"nbinsx\":80,\"offsetgroup\":\"211000\",\"orientation\":\"v\",\"showlegend\":true,\"x\":[211000,211000],\"xaxis\":\"x\",\"yaxis\":\"y3\",\"type\":\"histogram\"},{\"alignmentgroup\":\"True\",\"bingroup\":\"x\",\"hovertemplate\":\"SalePrice=%{x}<br>count=%{y}<extra></extra>\",\"legendgroup\":\"501837\",\"marker\":{\"color\":\"#1f77b4\",\"pattern\":{\"shape\":\"\"}},\"name\":\"histogram\",\"nbinsx\":80,\"offsetgroup\":\"501837\",\"orientation\":\"v\",\"showlegend\":true,\"x\":[501837],\"xaxis\":\"x\",\"yaxis\":\"y3\",\"type\":\"histogram\"},{\"alignmentgroup\":\"True\",\"bingroup\":\"x\",\"hovertemplate\":\"SalePrice=%{x}<br>count=%{y}<extra></extra>\",\"legendgroup\":\"200100\",\"marker\":{\"color\":\"#1f77b4\",\"pattern\":{\"shape\":\"\"}},\"name\":\"histogram\",\"nbinsx\":80,\"offsetgroup\":\"200100\",\"orientation\":\"v\",\"showlegend\":true,\"x\":[200100],\"xaxis\":\"x\",\"yaxis\":\"y3\",\"type\":\"histogram\"},{\"alignmentgroup\":\"True\",\"bingroup\":\"x\",\"hovertemplate\":\"SalePrice=%{x}<br>count=%{y}<extra></extra>\",\"legendgroup\":\"120000\",\"marker\":{\"color\":\"#1f77b4\",\"pattern\":{\"shape\":\"\"}},\"name\":\"histogram\",\"nbinsx\":80,\"offsetgroup\":\"120000\",\"orientation\":\"v\",\"showlegend\":true,\"x\":[120000,120000,120000,120000,120000,120000,120000],\"xaxis\":\"x\",\"yaxis\":\"y3\",\"type\":\"histogram\"},{\"alignmentgroup\":\"True\",\"bingroup\":\"x\",\"hovertemplate\":\"SalePrice=%{x}<br>count=%{y}<extra></extra>\",\"legendgroup\":\"475000\",\"marker\":{\"color\":\"#1f77b4\",\"pattern\":{\"shape\":\"\"}},\"name\":\"histogram\",\"nbinsx\":80,\"offsetgroup\":\"475000\",\"orientation\":\"v\",\"showlegend\":true,\"x\":[475000],\"xaxis\":\"x\",\"yaxis\":\"y3\",\"type\":\"histogram\"},{\"alignmentgroup\":\"True\",\"bingroup\":\"x\",\"hovertemplate\":\"SalePrice=%{x}<br>count=%{y}<extra></extra>\",\"legendgroup\":\"173000\",\"marker\":{\"color\":\"#1f77b4\",\"pattern\":{\"shape\":\"\"}},\"name\":\"histogram\",\"nbinsx\":80,\"offsetgroup\":\"173000\",\"orientation\":\"v\",\"showlegend\":true,\"x\":[173000,173000,173000,173000,173000,173000,173000],\"xaxis\":\"x\",\"yaxis\":\"y3\",\"type\":\"histogram\"},{\"alignmentgroup\":\"True\",\"bingroup\":\"x\",\"hovertemplate\":\"SalePrice=%{x}<br>count=%{y}<extra></extra>\",\"legendgroup\":\"135000\",\"marker\":{\"color\":\"#1f77b4\",\"pattern\":{\"shape\":\"\"}},\"name\":\"histogram\",\"nbinsx\":80,\"offsetgroup\":\"135000\",\"orientation\":\"v\",\"showlegend\":true,\"x\":[135000,135000,135000,135000,135000,135000,135000,135000,135000,135000,135000,135000,135000,135000,135000,135000,135000],\"xaxis\":\"x\",\"yaxis\":\"y3\",\"type\":\"histogram\"},{\"alignmentgroup\":\"True\",\"bingroup\":\"x\",\"hovertemplate\":\"SalePrice=%{x}<br>count=%{y}<extra></extra>\",\"legendgroup\":\"153337\",\"marker\":{\"color\":\"#1f77b4\",\"pattern\":{\"shape\":\"\"}},\"name\":\"histogram\",\"nbinsx\":80,\"offsetgroup\":\"153337\",\"orientation\":\"v\",\"showlegend\":true,\"x\":[153337],\"xaxis\":\"x\",\"yaxis\":\"y3\",\"type\":\"histogram\"},{\"alignmentgroup\":\"True\",\"bingroup\":\"x\",\"hovertemplate\":\"SalePrice=%{x}<br>count=%{y}<extra></extra>\",\"legendgroup\":\"286000\",\"marker\":{\"color\":\"#1f77b4\",\"pattern\":{\"shape\":\"\"}},\"name\":\"histogram\",\"nbinsx\":80,\"offsetgroup\":\"286000\",\"orientation\":\"v\",\"showlegend\":true,\"x\":[286000],\"xaxis\":\"x\",\"yaxis\":\"y3\",\"type\":\"histogram\"},{\"alignmentgroup\":\"True\",\"bingroup\":\"x\",\"hovertemplate\":\"SalePrice=%{x}<br>count=%{y}<extra></extra>\",\"legendgroup\":\"315000\",\"marker\":{\"color\":\"#1f77b4\",\"pattern\":{\"shape\":\"\"}},\"name\":\"histogram\",\"nbinsx\":80,\"offsetgroup\":\"315000\",\"orientation\":\"v\",\"showlegend\":true,\"x\":[315000,315000,315000,315000],\"xaxis\":\"x\",\"yaxis\":\"y3\",\"type\":\"histogram\"},{\"alignmentgroup\":\"True\",\"bingroup\":\"x\",\"hovertemplate\":\"SalePrice=%{x}<br>count=%{y}<extra></extra>\",\"legendgroup\":\"192000\",\"marker\":{\"color\":\"#1f77b4\",\"pattern\":{\"shape\":\"\"}},\"name\":\"histogram\",\"nbinsx\":80,\"offsetgroup\":\"192000\",\"orientation\":\"v\",\"showlegend\":true,\"x\":[192000,192000,192000,192000,192000],\"xaxis\":\"x\",\"yaxis\":\"y3\",\"type\":\"histogram\"},{\"alignmentgroup\":\"True\",\"bingroup\":\"x\",\"hovertemplate\":\"SalePrice=%{x}<br>count=%{y}<extra></extra>\",\"legendgroup\":\"148500\",\"marker\":{\"color\":\"#1f77b4\",\"pattern\":{\"shape\":\"\"}},\"name\":\"histogram\",\"nbinsx\":80,\"offsetgroup\":\"148500\",\"orientation\":\"v\",\"showlegend\":true,\"x\":[148500,148500,148500],\"xaxis\":\"x\",\"yaxis\":\"y3\",\"type\":\"histogram\"},{\"alignmentgroup\":\"True\",\"bingroup\":\"x\",\"hovertemplate\":\"SalePrice=%{x}<br>count=%{y}<extra></extra>\",\"legendgroup\":\"311872\",\"marker\":{\"color\":\"#1f77b4\",\"pattern\":{\"shape\":\"\"}},\"name\":\"histogram\",\"nbinsx\":80,\"offsetgroup\":\"311872\",\"orientation\":\"v\",\"showlegend\":true,\"x\":[311872],\"xaxis\":\"x\",\"yaxis\":\"y3\",\"type\":\"histogram\"},{\"alignmentgroup\":\"True\",\"bingroup\":\"x\",\"hovertemplate\":\"SalePrice=%{x}<br>count=%{y}<extra></extra>\",\"legendgroup\":\"104000\",\"marker\":{\"color\":\"#1f77b4\",\"pattern\":{\"shape\":\"\"}},\"name\":\"histogram\",\"nbinsx\":80,\"offsetgroup\":\"104000\",\"orientation\":\"v\",\"showlegend\":true,\"x\":[104000],\"xaxis\":\"x\",\"yaxis\":\"y3\",\"type\":\"histogram\"},{\"alignmentgroup\":\"True\",\"bingroup\":\"x\",\"hovertemplate\":\"SalePrice=%{x}<br>count=%{y}<extra></extra>\",\"legendgroup\":\"274900\",\"marker\":{\"color\":\"#1f77b4\",\"pattern\":{\"shape\":\"\"}},\"name\":\"histogram\",\"nbinsx\":80,\"offsetgroup\":\"274900\",\"orientation\":\"v\",\"showlegend\":true,\"x\":[274900],\"xaxis\":\"x\",\"yaxis\":\"y3\",\"type\":\"histogram\"},{\"alignmentgroup\":\"True\",\"bingroup\":\"x\",\"hovertemplate\":\"SalePrice=%{x}<br>count=%{y}<extra></extra>\",\"legendgroup\":\"171500\",\"marker\":{\"color\":\"#1f77b4\",\"pattern\":{\"shape\":\"\"}},\"name\":\"histogram\",\"nbinsx\":80,\"offsetgroup\":\"171500\",\"orientation\":\"v\",\"showlegend\":true,\"x\":[171500],\"xaxis\":\"x\",\"yaxis\":\"y3\",\"type\":\"histogram\"},{\"alignmentgroup\":\"True\",\"bingroup\":\"x\",\"hovertemplate\":\"SalePrice=%{x}<br>count=%{y}<extra></extra>\",\"legendgroup\":\"112000\",\"marker\":{\"color\":\"#1f77b4\",\"pattern\":{\"shape\":\"\"}},\"name\":\"histogram\",\"nbinsx\":80,\"offsetgroup\":\"112000\",\"orientation\":\"v\",\"showlegend\":true,\"x\":[112000,112000,112000,112000,112000,112000,112000],\"xaxis\":\"x\",\"yaxis\":\"y3\",\"type\":\"histogram\"},{\"alignmentgroup\":\"True\",\"bingroup\":\"x\",\"hovertemplate\":\"SalePrice=%{x}<br>count=%{y}<extra></extra>\",\"legendgroup\":\"143900\",\"marker\":{\"color\":\"#1f77b4\",\"pattern\":{\"shape\":\"\"}},\"name\":\"histogram\",\"nbinsx\":80,\"offsetgroup\":\"143900\",\"orientation\":\"v\",\"showlegend\":true,\"x\":[143900],\"xaxis\":\"x\",\"yaxis\":\"y3\",\"type\":\"histogram\"},{\"alignmentgroup\":\"True\",\"bingroup\":\"x\",\"hovertemplate\":\"SalePrice=%{x}<br>count=%{y}<extra></extra>\",\"legendgroup\":\"277000\",\"marker\":{\"color\":\"#1f77b4\",\"pattern\":{\"shape\":\"\"}},\"name\":\"histogram\",\"nbinsx\":80,\"offsetgroup\":\"277000\",\"orientation\":\"v\",\"showlegend\":true,\"x\":[277000,277000],\"xaxis\":\"x\",\"yaxis\":\"y3\",\"type\":\"histogram\"},{\"alignmentgroup\":\"True\",\"bingroup\":\"x\",\"hovertemplate\":\"SalePrice=%{x}<br>count=%{y}<extra></extra>\",\"legendgroup\":\"98000\",\"marker\":{\"color\":\"#1f77b4\",\"pattern\":{\"shape\":\"\"}},\"name\":\"histogram\",\"nbinsx\":80,\"offsetgroup\":\"98000\",\"orientation\":\"v\",\"showlegend\":true,\"x\":[98000,98000,98000],\"xaxis\":\"x\",\"yaxis\":\"y3\",\"type\":\"histogram\"},{\"alignmentgroup\":\"True\",\"bingroup\":\"x\",\"hovertemplate\":\"SalePrice=%{x}<br>count=%{y}<extra></extra>\",\"legendgroup\":\"186000\",\"marker\":{\"color\":\"#1f77b4\",\"pattern\":{\"shape\":\"\"}},\"name\":\"histogram\",\"nbinsx\":80,\"offsetgroup\":\"186000\",\"orientation\":\"v\",\"showlegend\":true,\"x\":[186000],\"xaxis\":\"x\",\"yaxis\":\"y3\",\"type\":\"histogram\"},{\"alignmentgroup\":\"True\",\"bingroup\":\"x\",\"hovertemplate\":\"SalePrice=%{x}<br>count=%{y}<extra></extra>\",\"legendgroup\":\"252678\",\"marker\":{\"color\":\"#1f77b4\",\"pattern\":{\"shape\":\"\"}},\"name\":\"histogram\",\"nbinsx\":80,\"offsetgroup\":\"252678\",\"orientation\":\"v\",\"showlegend\":true,\"x\":[252678],\"xaxis\":\"x\",\"yaxis\":\"y3\",\"type\":\"histogram\"},{\"alignmentgroup\":\"True\",\"bingroup\":\"x\",\"hovertemplate\":\"SalePrice=%{x}<br>count=%{y}<extra></extra>\",\"legendgroup\":\"156000\",\"marker\":{\"color\":\"#1f77b4\",\"pattern\":{\"shape\":\"\"}},\"name\":\"histogram\",\"nbinsx\":80,\"offsetgroup\":\"156000\",\"orientation\":\"v\",\"showlegend\":true,\"x\":[156000,156000,156000,156000],\"xaxis\":\"x\",\"yaxis\":\"y3\",\"type\":\"histogram\"},{\"alignmentgroup\":\"True\",\"bingroup\":\"x\",\"hovertemplate\":\"SalePrice=%{x}<br>count=%{y}<extra></extra>\",\"legendgroup\":\"161750\",\"marker\":{\"color\":\"#1f77b4\",\"pattern\":{\"shape\":\"\"}},\"name\":\"histogram\",\"nbinsx\":80,\"offsetgroup\":\"161750\",\"orientation\":\"v\",\"showlegend\":true,\"x\":[161750],\"xaxis\":\"x\",\"yaxis\":\"y3\",\"type\":\"histogram\"},{\"alignmentgroup\":\"True\",\"bingroup\":\"x\",\"hovertemplate\":\"SalePrice=%{x}<br>count=%{y}<extra></extra>\",\"legendgroup\":\"134450\",\"marker\":{\"color\":\"#1f77b4\",\"pattern\":{\"shape\":\"\"}},\"name\":\"histogram\",\"nbinsx\":80,\"offsetgroup\":\"134450\",\"orientation\":\"v\",\"showlegend\":true,\"x\":[134450],\"xaxis\":\"x\",\"yaxis\":\"y3\",\"type\":\"histogram\"},{\"alignmentgroup\":\"True\",\"bingroup\":\"x\",\"hovertemplate\":\"SalePrice=%{x}<br>count=%{y}<extra></extra>\",\"legendgroup\":\"210000\",\"marker\":{\"color\":\"#1f77b4\",\"pattern\":{\"shape\":\"\"}},\"name\":\"histogram\",\"nbinsx\":80,\"offsetgroup\":\"210000\",\"orientation\":\"v\",\"showlegend\":true,\"x\":[210000,210000,210000,210000,210000],\"xaxis\":\"x\",\"yaxis\":\"y3\",\"type\":\"histogram\"},{\"alignmentgroup\":\"True\",\"bingroup\":\"x\",\"hovertemplate\":\"SalePrice=%{x}<br>count=%{y}<extra></extra>\",\"legendgroup\":\"107000\",\"marker\":{\"color\":\"#1f77b4\",\"pattern\":{\"shape\":\"\"}},\"name\":\"histogram\",\"nbinsx\":80,\"offsetgroup\":\"107000\",\"orientation\":\"v\",\"showlegend\":true,\"x\":[107000,107000,107000],\"xaxis\":\"x\",\"yaxis\":\"y3\",\"type\":\"histogram\"},{\"alignmentgroup\":\"True\",\"bingroup\":\"x\",\"hovertemplate\":\"SalePrice=%{x}<br>count=%{y}<extra></extra>\",\"legendgroup\":\"311500\",\"marker\":{\"color\":\"#1f77b4\",\"pattern\":{\"shape\":\"\"}},\"name\":\"histogram\",\"nbinsx\":80,\"offsetgroup\":\"311500\",\"orientation\":\"v\",\"showlegend\":true,\"x\":[311500],\"xaxis\":\"x\",\"yaxis\":\"y3\",\"type\":\"histogram\"},{\"alignmentgroup\":\"True\",\"bingroup\":\"x\",\"hovertemplate\":\"SalePrice=%{x}<br>count=%{y}<extra></extra>\",\"legendgroup\":\"167240\",\"marker\":{\"color\":\"#1f77b4\",\"pattern\":{\"shape\":\"\"}},\"name\":\"histogram\",\"nbinsx\":80,\"offsetgroup\":\"167240\",\"orientation\":\"v\",\"showlegend\":true,\"x\":[167240],\"xaxis\":\"x\",\"yaxis\":\"y3\",\"type\":\"histogram\"},{\"alignmentgroup\":\"True\",\"bingroup\":\"x\",\"hovertemplate\":\"SalePrice=%{x}<br>count=%{y}<extra></extra>\",\"legendgroup\":\"204900\",\"marker\":{\"color\":\"#1f77b4\",\"pattern\":{\"shape\":\"\"}},\"name\":\"histogram\",\"nbinsx\":80,\"offsetgroup\":\"204900\",\"orientation\":\"v\",\"showlegend\":true,\"x\":[204900],\"xaxis\":\"x\",\"yaxis\":\"y3\",\"type\":\"histogram\"},{\"alignmentgroup\":\"True\",\"bingroup\":\"x\",\"hovertemplate\":\"SalePrice=%{x}<br>count=%{y}<extra></extra>\",\"legendgroup\":\"97000\",\"marker\":{\"color\":\"#1f77b4\",\"pattern\":{\"shape\":\"\"}},\"name\":\"histogram\",\"nbinsx\":80,\"offsetgroup\":\"97000\",\"orientation\":\"v\",\"showlegend\":true,\"x\":[97000,97000,97000],\"xaxis\":\"x\",\"yaxis\":\"y3\",\"type\":\"histogram\"},{\"alignmentgroup\":\"True\",\"bingroup\":\"x\",\"hovertemplate\":\"SalePrice=%{x}<br>count=%{y}<extra></extra>\",\"legendgroup\":\"386250\",\"marker\":{\"color\":\"#1f77b4\",\"pattern\":{\"shape\":\"\"}},\"name\":\"histogram\",\"nbinsx\":80,\"offsetgroup\":\"386250\",\"orientation\":\"v\",\"showlegend\":true,\"x\":[386250],\"xaxis\":\"x\",\"yaxis\":\"y3\",\"type\":\"histogram\"},{\"alignmentgroup\":\"True\",\"bingroup\":\"x\",\"hovertemplate\":\"SalePrice=%{x}<br>count=%{y}<extra></extra>\",\"legendgroup\":\"290000\",\"marker\":{\"color\":\"#1f77b4\",\"pattern\":{\"shape\":\"\"}},\"name\":\"histogram\",\"nbinsx\":80,\"offsetgroup\":\"290000\",\"orientation\":\"v\",\"showlegend\":true,\"x\":[290000,290000,290000,290000,290000],\"xaxis\":\"x\",\"yaxis\":\"y3\",\"type\":\"histogram\"},{\"alignmentgroup\":\"True\",\"bingroup\":\"x\",\"hovertemplate\":\"SalePrice=%{x}<br>count=%{y}<extra></extra>\",\"legendgroup\":\"106000\",\"marker\":{\"color\":\"#1f77b4\",\"pattern\":{\"shape\":\"\"}},\"name\":\"histogram\",\"nbinsx\":80,\"offsetgroup\":\"106000\",\"orientation\":\"v\",\"showlegend\":true,\"x\":[106000,106000,106000],\"xaxis\":\"x\",\"yaxis\":\"y3\",\"type\":\"histogram\"},{\"alignmentgroup\":\"True\",\"bingroup\":\"x\",\"hovertemplate\":\"SalePrice=%{x}<br>count=%{y}<extra></extra>\",\"legendgroup\":\"192500\",\"marker\":{\"color\":\"#1f77b4\",\"pattern\":{\"shape\":\"\"}},\"name\":\"histogram\",\"nbinsx\":80,\"offsetgroup\":\"192500\",\"orientation\":\"v\",\"showlegend\":true,\"x\":[192500,192500],\"xaxis\":\"x\",\"yaxis\":\"y3\",\"type\":\"histogram\"},{\"alignmentgroup\":\"True\",\"bingroup\":\"x\",\"hovertemplate\":\"SalePrice=%{x}<br>count=%{y}<extra></extra>\",\"legendgroup\":\"148000\",\"marker\":{\"color\":\"#1f77b4\",\"pattern\":{\"shape\":\"\"}},\"name\":\"histogram\",\"nbinsx\":80,\"offsetgroup\":\"148000\",\"orientation\":\"v\",\"showlegend\":true,\"x\":[148000,148000,148000,148000,148000,148000,148000],\"xaxis\":\"x\",\"yaxis\":\"y3\",\"type\":\"histogram\"},{\"alignmentgroup\":\"True\",\"bingroup\":\"x\",\"hovertemplate\":\"SalePrice=%{x}<br>count=%{y}<extra></extra>\",\"legendgroup\":\"403000\",\"marker\":{\"color\":\"#1f77b4\",\"pattern\":{\"shape\":\"\"}},\"name\":\"histogram\",\"nbinsx\":80,\"offsetgroup\":\"403000\",\"orientation\":\"v\",\"showlegend\":true,\"x\":[403000],\"xaxis\":\"x\",\"yaxis\":\"y3\",\"type\":\"histogram\"},{\"alignmentgroup\":\"True\",\"bingroup\":\"x\",\"hovertemplate\":\"SalePrice=%{x}<br>count=%{y}<extra></extra>\",\"legendgroup\":\"94500\",\"marker\":{\"color\":\"#1f77b4\",\"pattern\":{\"shape\":\"\"}},\"name\":\"histogram\",\"nbinsx\":80,\"offsetgroup\":\"94500\",\"orientation\":\"v\",\"showlegend\":true,\"x\":[94500],\"xaxis\":\"x\",\"yaxis\":\"y3\",\"type\":\"histogram\"},{\"alignmentgroup\":\"True\",\"bingroup\":\"x\",\"hovertemplate\":\"SalePrice=%{x}<br>count=%{y}<extra></extra>\",\"legendgroup\":\"128200\",\"marker\":{\"color\":\"#1f77b4\",\"pattern\":{\"shape\":\"\"}},\"name\":\"histogram\",\"nbinsx\":80,\"offsetgroup\":\"128200\",\"orientation\":\"v\",\"showlegend\":true,\"x\":[128200],\"xaxis\":\"x\",\"yaxis\":\"y3\",\"type\":\"histogram\"},{\"alignmentgroup\":\"True\",\"bingroup\":\"x\",\"hovertemplate\":\"SalePrice=%{x}<br>count=%{y}<extra></extra>\",\"legendgroup\":\"216500\",\"marker\":{\"color\":\"#1f77b4\",\"pattern\":{\"shape\":\"\"}},\"name\":\"histogram\",\"nbinsx\":80,\"offsetgroup\":\"216500\",\"orientation\":\"v\",\"showlegend\":true,\"x\":[216500],\"xaxis\":\"x\",\"yaxis\":\"y3\",\"type\":\"histogram\"},{\"alignmentgroup\":\"True\",\"bingroup\":\"x\",\"hovertemplate\":\"SalePrice=%{x}<br>count=%{y}<extra></extra>\",\"legendgroup\":\"89500\",\"marker\":{\"color\":\"#1f77b4\",\"pattern\":{\"shape\":\"\"}},\"name\":\"histogram\",\"nbinsx\":80,\"offsetgroup\":\"89500\",\"orientation\":\"v\",\"showlegend\":true,\"x\":[89500,89500],\"xaxis\":\"x\",\"yaxis\":\"y3\",\"type\":\"histogram\"},{\"alignmentgroup\":\"True\",\"bingroup\":\"x\",\"hovertemplate\":\"SalePrice=%{x}<br>count=%{y}<extra></extra>\",\"legendgroup\":\"185500\",\"marker\":{\"color\":\"#1f77b4\",\"pattern\":{\"shape\":\"\"}},\"name\":\"histogram\",\"nbinsx\":80,\"offsetgroup\":\"185500\",\"orientation\":\"v\",\"showlegend\":true,\"x\":[185500],\"xaxis\":\"x\",\"yaxis\":\"y3\",\"type\":\"histogram\"},{\"alignmentgroup\":\"True\",\"bingroup\":\"x\",\"hovertemplate\":\"SalePrice=%{x}<br>count=%{y}<extra></extra>\",\"legendgroup\":\"194500\",\"marker\":{\"color\":\"#1f77b4\",\"pattern\":{\"shape\":\"\"}},\"name\":\"histogram\",\"nbinsx\":80,\"offsetgroup\":\"194500\",\"orientation\":\"v\",\"showlegend\":true,\"x\":[194500,194500,194500],\"xaxis\":\"x\",\"yaxis\":\"y3\",\"type\":\"histogram\"},{\"alignmentgroup\":\"True\",\"bingroup\":\"x\",\"hovertemplate\":\"SalePrice=%{x}<br>count=%{y}<extra></extra>\",\"legendgroup\":\"318000\",\"marker\":{\"color\":\"#1f77b4\",\"pattern\":{\"shape\":\"\"}},\"name\":\"histogram\",\"nbinsx\":80,\"offsetgroup\":\"318000\",\"orientation\":\"v\",\"showlegend\":true,\"x\":[318000,318000],\"xaxis\":\"x\",\"yaxis\":\"y3\",\"type\":\"histogram\"},{\"alignmentgroup\":\"True\",\"bingroup\":\"x\",\"hovertemplate\":\"SalePrice=%{x}<br>count=%{y}<extra></extra>\",\"legendgroup\":\"262500\",\"marker\":{\"color\":\"#1f77b4\",\"pattern\":{\"shape\":\"\"}},\"name\":\"histogram\",\"nbinsx\":80,\"offsetgroup\":\"262500\",\"orientation\":\"v\",\"showlegend\":true,\"x\":[262500,262500],\"xaxis\":\"x\",\"yaxis\":\"y3\",\"type\":\"histogram\"},{\"alignmentgroup\":\"True\",\"bingroup\":\"x\",\"hovertemplate\":\"SalePrice=%{x}<br>count=%{y}<extra></extra>\",\"legendgroup\":\"110500\",\"marker\":{\"color\":\"#1f77b4\",\"pattern\":{\"shape\":\"\"}},\"name\":\"histogram\",\"nbinsx\":80,\"offsetgroup\":\"110500\",\"orientation\":\"v\",\"showlegend\":true,\"x\":[110500,110500],\"xaxis\":\"x\",\"yaxis\":\"y3\",\"type\":\"histogram\"},{\"alignmentgroup\":\"True\",\"bingroup\":\"x\",\"hovertemplate\":\"SalePrice=%{x}<br>count=%{y}<extra></extra>\",\"legendgroup\":\"241500\",\"marker\":{\"color\":\"#1f77b4\",\"pattern\":{\"shape\":\"\"}},\"name\":\"histogram\",\"nbinsx\":80,\"offsetgroup\":\"241500\",\"orientation\":\"v\",\"showlegend\":true,\"x\":[241500,241500],\"xaxis\":\"x\",\"yaxis\":\"y3\",\"type\":\"histogram\"},{\"alignmentgroup\":\"True\",\"bingroup\":\"x\",\"hovertemplate\":\"SalePrice=%{x}<br>count=%{y}<extra></extra>\",\"legendgroup\":\"137000\",\"marker\":{\"color\":\"#1f77b4\",\"pattern\":{\"shape\":\"\"}},\"name\":\"histogram\",\"nbinsx\":80,\"offsetgroup\":\"137000\",\"orientation\":\"v\",\"showlegend\":true,\"x\":[137000,137000,137000,137000,137000],\"xaxis\":\"x\",\"yaxis\":\"y3\",\"type\":\"histogram\"},{\"alignmentgroup\":\"True\",\"bingroup\":\"x\",\"hovertemplate\":\"SalePrice=%{x}<br>count=%{y}<extra></extra>\",\"legendgroup\":\"76500\",\"marker\":{\"color\":\"#1f77b4\",\"pattern\":{\"shape\":\"\"}},\"name\":\"histogram\",\"nbinsx\":80,\"offsetgroup\":\"76500\",\"orientation\":\"v\",\"showlegend\":true,\"x\":[76500],\"xaxis\":\"x\",\"yaxis\":\"y3\",\"type\":\"histogram\"},{\"alignmentgroup\":\"True\",\"bingroup\":\"x\",\"hovertemplate\":\"SalePrice=%{x}<br>count=%{y}<extra></extra>\",\"legendgroup\":\"276000\",\"marker\":{\"color\":\"#1f77b4\",\"pattern\":{\"shape\":\"\"}},\"name\":\"histogram\",\"nbinsx\":80,\"offsetgroup\":\"276000\",\"orientation\":\"v\",\"showlegend\":true,\"x\":[276000],\"xaxis\":\"x\",\"yaxis\":\"y3\",\"type\":\"histogram\"},{\"alignmentgroup\":\"True\",\"bingroup\":\"x\",\"hovertemplate\":\"SalePrice=%{x}<br>count=%{y}<extra></extra>\",\"legendgroup\":\"151000\",\"marker\":{\"color\":\"#1f77b4\",\"pattern\":{\"shape\":\"\"}},\"name\":\"histogram\",\"nbinsx\":80,\"offsetgroup\":\"151000\",\"orientation\":\"v\",\"showlegend\":true,\"x\":[151000,151000,151000,151000,151000],\"xaxis\":\"x\",\"yaxis\":\"y3\",\"type\":\"histogram\"},{\"alignmentgroup\":\"True\",\"bingroup\":\"x\",\"hovertemplate\":\"SalePrice=%{x}<br>count=%{y}<extra></extra>\",\"legendgroup\":\"73000\",\"marker\":{\"color\":\"#1f77b4\",\"pattern\":{\"shape\":\"\"}},\"name\":\"histogram\",\"nbinsx\":80,\"offsetgroup\":\"73000\",\"orientation\":\"v\",\"showlegend\":true,\"x\":[73000],\"xaxis\":\"x\",\"yaxis\":\"y3\",\"type\":\"histogram\"},{\"alignmentgroup\":\"True\",\"bingroup\":\"x\",\"hovertemplate\":\"SalePrice=%{x}<br>count=%{y}<extra></extra>\",\"legendgroup\":\"175500\",\"marker\":{\"color\":\"#1f77b4\",\"pattern\":{\"shape\":\"\"}},\"name\":\"histogram\",\"nbinsx\":80,\"offsetgroup\":\"175500\",\"orientation\":\"v\",\"showlegend\":true,\"x\":[175500,175500,175500],\"xaxis\":\"x\",\"yaxis\":\"y3\",\"type\":\"histogram\"},{\"alignmentgroup\":\"True\",\"bingroup\":\"x\",\"hovertemplate\":\"SalePrice=%{x}<br>count=%{y}<extra></extra>\",\"legendgroup\":\"179500\",\"marker\":{\"color\":\"#1f77b4\",\"pattern\":{\"shape\":\"\"}},\"name\":\"histogram\",\"nbinsx\":80,\"offsetgroup\":\"179500\",\"orientation\":\"v\",\"showlegend\":true,\"x\":[179500],\"xaxis\":\"x\",\"yaxis\":\"y3\",\"type\":\"histogram\"},{\"alignmentgroup\":\"True\",\"bingroup\":\"x\",\"hovertemplate\":\"SalePrice=%{x}<br>count=%{y}<extra></extra>\",\"legendgroup\":\"120500\",\"marker\":{\"color\":\"#1f77b4\",\"pattern\":{\"shape\":\"\"}},\"name\":\"histogram\",\"nbinsx\":80,\"offsetgroup\":\"120500\",\"orientation\":\"v\",\"showlegend\":true,\"x\":[120500,120500,120500,120500],\"xaxis\":\"x\",\"yaxis\":\"y3\",\"type\":\"histogram\"},{\"alignmentgroup\":\"True\",\"bingroup\":\"x\",\"hovertemplate\":\"SalePrice=%{x}<br>count=%{y}<extra></extra>\",\"legendgroup\":\"266000\",\"marker\":{\"color\":\"#1f77b4\",\"pattern\":{\"shape\":\"\"}},\"name\":\"histogram\",\"nbinsx\":80,\"offsetgroup\":\"266000\",\"orientation\":\"v\",\"showlegend\":true,\"x\":[266000,266000],\"xaxis\":\"x\",\"yaxis\":\"y3\",\"type\":\"histogram\"},{\"alignmentgroup\":\"True\",\"bingroup\":\"x\",\"hovertemplate\":\"SalePrice=%{x}<br>count=%{y}<extra></extra>\",\"legendgroup\":\"124500\",\"marker\":{\"color\":\"#1f77b4\",\"pattern\":{\"shape\":\"\"}},\"name\":\"histogram\",\"nbinsx\":80,\"offsetgroup\":\"124500\",\"orientation\":\"v\",\"showlegend\":true,\"x\":[124500,124500,124500,124500],\"xaxis\":\"x\",\"yaxis\":\"y3\",\"type\":\"histogram\"},{\"alignmentgroup\":\"True\",\"bingroup\":\"x\",\"hovertemplate\":\"SalePrice=%{x}<br>count=%{y}<extra></extra>\",\"legendgroup\":\"201000\",\"marker\":{\"color\":\"#1f77b4\",\"pattern\":{\"shape\":\"\"}},\"name\":\"histogram\",\"nbinsx\":80,\"offsetgroup\":\"201000\",\"orientation\":\"v\",\"showlegend\":true,\"x\":[201000,201000,201000],\"xaxis\":\"x\",\"yaxis\":\"y3\",\"type\":\"histogram\"},{\"alignmentgroup\":\"True\",\"bingroup\":\"x\",\"hovertemplate\":\"SalePrice=%{x}<br>count=%{y}<extra></extra>\",\"legendgroup\":\"415298\",\"marker\":{\"color\":\"#1f77b4\",\"pattern\":{\"shape\":\"\"}},\"name\":\"histogram\",\"nbinsx\":80,\"offsetgroup\":\"415298\",\"orientation\":\"v\",\"showlegend\":true,\"x\":[415298],\"xaxis\":\"x\",\"yaxis\":\"y3\",\"type\":\"histogram\"},{\"alignmentgroup\":\"True\",\"bingroup\":\"x\",\"hovertemplate\":\"SalePrice=%{x}<br>count=%{y}<extra></extra>\",\"legendgroup\":\"228500\",\"marker\":{\"color\":\"#1f77b4\",\"pattern\":{\"shape\":\"\"}},\"name\":\"histogram\",\"nbinsx\":80,\"offsetgroup\":\"228500\",\"orientation\":\"v\",\"showlegend\":true,\"x\":[228500,228500],\"xaxis\":\"x\",\"yaxis\":\"y3\",\"type\":\"histogram\"},{\"alignmentgroup\":\"True\",\"bingroup\":\"x\",\"hovertemplate\":\"SalePrice=%{x}<br>count=%{y}<extra></extra>\",\"legendgroup\":\"244600\",\"marker\":{\"color\":\"#1f77b4\",\"pattern\":{\"shape\":\"\"}},\"name\":\"histogram\",\"nbinsx\":80,\"offsetgroup\":\"244600\",\"orientation\":\"v\",\"showlegend\":true,\"x\":[244600],\"xaxis\":\"x\",\"yaxis\":\"y3\",\"type\":\"histogram\"},{\"alignmentgroup\":\"True\",\"bingroup\":\"x\",\"hovertemplate\":\"SalePrice=%{x}<br>count=%{y}<extra></extra>\",\"legendgroup\":\"179200\",\"marker\":{\"color\":\"#1f77b4\",\"pattern\":{\"shape\":\"\"}},\"name\":\"histogram\",\"nbinsx\":80,\"offsetgroup\":\"179200\",\"orientation\":\"v\",\"showlegend\":true,\"x\":[179200,179200],\"xaxis\":\"x\",\"yaxis\":\"y3\",\"type\":\"histogram\"},{\"alignmentgroup\":\"True\",\"bingroup\":\"x\",\"hovertemplate\":\"SalePrice=%{x}<br>count=%{y}<extra></extra>\",\"legendgroup\":\"164700\",\"marker\":{\"color\":\"#1f77b4\",\"pattern\":{\"shape\":\"\"}},\"name\":\"histogram\",\"nbinsx\":80,\"offsetgroup\":\"164700\",\"orientation\":\"v\",\"showlegend\":true,\"x\":[164700],\"xaxis\":\"x\",\"yaxis\":\"y3\",\"type\":\"histogram\"},{\"alignmentgroup\":\"True\",\"bingroup\":\"x\",\"hovertemplate\":\"SalePrice=%{x}<br>count=%{y}<extra></extra>\",\"legendgroup\":\"88000\",\"marker\":{\"color\":\"#1f77b4\",\"pattern\":{\"shape\":\"\"}},\"name\":\"histogram\",\"nbinsx\":80,\"offsetgroup\":\"88000\",\"orientation\":\"v\",\"showlegend\":true,\"x\":[88000,88000,88000,88000],\"xaxis\":\"x\",\"yaxis\":\"y3\",\"type\":\"histogram\"},{\"alignmentgroup\":\"True\",\"bingroup\":\"x\",\"hovertemplate\":\"SalePrice=%{x}<br>count=%{y}<extra></extra>\",\"legendgroup\":\"153575\",\"marker\":{\"color\":\"#1f77b4\",\"pattern\":{\"shape\":\"\"}},\"name\":\"histogram\",\"nbinsx\":80,\"offsetgroup\":\"153575\",\"orientation\":\"v\",\"showlegend\":true,\"x\":[153575],\"xaxis\":\"x\",\"yaxis\":\"y3\",\"type\":\"histogram\"},{\"alignmentgroup\":\"True\",\"bingroup\":\"x\",\"hovertemplate\":\"SalePrice=%{x}<br>count=%{y}<extra></extra>\",\"legendgroup\":\"233230\",\"marker\":{\"color\":\"#1f77b4\",\"pattern\":{\"shape\":\"\"}},\"name\":\"histogram\",\"nbinsx\":80,\"offsetgroup\":\"233230\",\"orientation\":\"v\",\"showlegend\":true,\"x\":[233230],\"xaxis\":\"x\",\"yaxis\":\"y3\",\"type\":\"histogram\"},{\"alignmentgroup\":\"True\",\"bingroup\":\"x\",\"hovertemplate\":\"SalePrice=%{x}<br>count=%{y}<extra></extra>\",\"legendgroup\":\"135900\",\"marker\":{\"color\":\"#1f77b4\",\"pattern\":{\"shape\":\"\"}},\"name\":\"histogram\",\"nbinsx\":80,\"offsetgroup\":\"135900\",\"orientation\":\"v\",\"showlegend\":true,\"x\":[135900],\"xaxis\":\"x\",\"yaxis\":\"y3\",\"type\":\"histogram\"},{\"alignmentgroup\":\"True\",\"bingroup\":\"x\",\"hovertemplate\":\"SalePrice=%{x}<br>count=%{y}<extra></extra>\",\"legendgroup\":\"131000\",\"marker\":{\"color\":\"#1f77b4\",\"pattern\":{\"shape\":\"\"}},\"name\":\"histogram\",\"nbinsx\":80,\"offsetgroup\":\"131000\",\"orientation\":\"v\",\"showlegend\":true,\"x\":[131000,131000,131000],\"xaxis\":\"x\",\"yaxis\":\"y3\",\"type\":\"histogram\"},{\"alignmentgroup\":\"True\",\"bingroup\":\"x\",\"hovertemplate\":\"SalePrice=%{x}<br>count=%{y}<extra></extra>\",\"legendgroup\":\"167000\",\"marker\":{\"color\":\"#1f77b4\",\"pattern\":{\"shape\":\"\"}},\"name\":\"histogram\",\"nbinsx\":80,\"offsetgroup\":\"167000\",\"orientation\":\"v\",\"showlegend\":true,\"x\":[167000,167000,167000,167000],\"xaxis\":\"x\",\"yaxis\":\"y3\",\"type\":\"histogram\"},{\"alignmentgroup\":\"True\",\"bingroup\":\"x\",\"hovertemplate\":\"SalePrice=%{x}<br>count=%{y}<extra></extra>\",\"legendgroup\":\"142500\",\"marker\":{\"color\":\"#1f77b4\",\"pattern\":{\"shape\":\"\"}},\"name\":\"histogram\",\"nbinsx\":80,\"offsetgroup\":\"142500\",\"orientation\":\"v\",\"showlegend\":true,\"x\":[142500,142500,142500],\"xaxis\":\"x\",\"yaxis\":\"y3\",\"type\":\"histogram\"},{\"alignmentgroup\":\"True\",\"bingroup\":\"x\",\"hovertemplate\":\"SalePrice=%{x}<br>count=%{y}<extra></extra>\",\"legendgroup\":\"175000\",\"marker\":{\"color\":\"#1f77b4\",\"pattern\":{\"shape\":\"\"}},\"name\":\"histogram\",\"nbinsx\":80,\"offsetgroup\":\"175000\",\"orientation\":\"v\",\"showlegend\":true,\"x\":[175000,175000,175000,175000,175000,175000,175000,175000,175000],\"xaxis\":\"x\",\"yaxis\":\"y3\",\"type\":\"histogram\"},{\"alignmentgroup\":\"True\",\"bingroup\":\"x\",\"hovertemplate\":\"SalePrice=%{x}<br>count=%{y}<extra></extra>\",\"legendgroup\":\"158500\",\"marker\":{\"color\":\"#1f77b4\",\"pattern\":{\"shape\":\"\"}},\"name\":\"histogram\",\"nbinsx\":80,\"offsetgroup\":\"158500\",\"orientation\":\"v\",\"showlegend\":true,\"x\":[158500],\"xaxis\":\"x\",\"yaxis\":\"y3\",\"type\":\"histogram\"},{\"alignmentgroup\":\"True\",\"bingroup\":\"x\",\"hovertemplate\":\"SalePrice=%{x}<br>count=%{y}<extra></extra>\",\"legendgroup\":\"267000\",\"marker\":{\"color\":\"#1f77b4\",\"pattern\":{\"shape\":\"\"}},\"name\":\"histogram\",\"nbinsx\":80,\"offsetgroup\":\"267000\",\"orientation\":\"v\",\"showlegend\":true,\"x\":[267000],\"xaxis\":\"x\",\"yaxis\":\"y3\",\"type\":\"histogram\"},{\"alignmentgroup\":\"True\",\"bingroup\":\"x\",\"hovertemplate\":\"SalePrice=%{x}<br>count=%{y}<extra></extra>\",\"legendgroup\":\"149900\",\"marker\":{\"color\":\"#1f77b4\",\"pattern\":{\"shape\":\"\"}},\"name\":\"histogram\",\"nbinsx\":80,\"offsetgroup\":\"149900\",\"orientation\":\"v\",\"showlegend\":true,\"x\":[149900,149900,149900,149900],\"xaxis\":\"x\",\"yaxis\":\"y3\",\"type\":\"histogram\"},{\"alignmentgroup\":\"True\",\"bingroup\":\"x\",\"hovertemplate\":\"SalePrice=%{x}<br>count=%{y}<extra></extra>\",\"legendgroup\":\"295000\",\"marker\":{\"color\":\"#1f77b4\",\"pattern\":{\"shape\":\"\"}},\"name\":\"histogram\",\"nbinsx\":80,\"offsetgroup\":\"295000\",\"orientation\":\"v\",\"showlegend\":true,\"x\":[295000],\"xaxis\":\"x\",\"yaxis\":\"y3\",\"type\":\"histogram\"},{\"alignmentgroup\":\"True\",\"bingroup\":\"x\",\"hovertemplate\":\"SalePrice=%{x}<br>count=%{y}<extra></extra>\",\"legendgroup\":\"305900\",\"marker\":{\"color\":\"#1f77b4\",\"pattern\":{\"shape\":\"\"}},\"name\":\"histogram\",\"nbinsx\":80,\"offsetgroup\":\"305900\",\"orientation\":\"v\",\"showlegend\":true,\"x\":[305900],\"xaxis\":\"x\",\"yaxis\":\"y3\",\"type\":\"histogram\"},{\"alignmentgroup\":\"True\",\"bingroup\":\"x\",\"hovertemplate\":\"SalePrice=%{x}<br>count=%{y}<extra></extra>\",\"legendgroup\":\"82500\",\"marker\":{\"color\":\"#1f77b4\",\"pattern\":{\"shape\":\"\"}},\"name\":\"histogram\",\"nbinsx\":80,\"offsetgroup\":\"82500\",\"orientation\":\"v\",\"showlegend\":true,\"x\":[82500,82500,82500],\"xaxis\":\"x\",\"yaxis\":\"y3\",\"type\":\"histogram\"},{\"alignmentgroup\":\"True\",\"bingroup\":\"x\",\"hovertemplate\":\"SalePrice=%{x}<br>count=%{y}<extra></extra>\",\"legendgroup\":\"360000\",\"marker\":{\"color\":\"#1f77b4\",\"pattern\":{\"shape\":\"\"}},\"name\":\"histogram\",\"nbinsx\":80,\"offsetgroup\":\"360000\",\"orientation\":\"v\",\"showlegend\":true,\"x\":[360000],\"xaxis\":\"x\",\"yaxis\":\"y3\",\"type\":\"histogram\"},{\"alignmentgroup\":\"True\",\"bingroup\":\"x\",\"hovertemplate\":\"SalePrice=%{x}<br>count=%{y}<extra></extra>\",\"legendgroup\":\"165600\",\"marker\":{\"color\":\"#1f77b4\",\"pattern\":{\"shape\":\"\"}},\"name\":\"histogram\",\"nbinsx\":80,\"offsetgroup\":\"165600\",\"orientation\":\"v\",\"showlegend\":true,\"x\":[165600],\"xaxis\":\"x\",\"yaxis\":\"y3\",\"type\":\"histogram\"},{\"alignmentgroup\":\"True\",\"bingroup\":\"x\",\"hovertemplate\":\"SalePrice=%{x}<br>count=%{y}<extra></extra>\",\"legendgroup\":\"119900\",\"marker\":{\"color\":\"#1f77b4\",\"pattern\":{\"shape\":\"\"}},\"name\":\"histogram\",\"nbinsx\":80,\"offsetgroup\":\"119900\",\"orientation\":\"v\",\"showlegend\":true,\"x\":[119900,119900],\"xaxis\":\"x\",\"yaxis\":\"y3\",\"type\":\"histogram\"},{\"alignmentgroup\":\"True\",\"bingroup\":\"x\",\"hovertemplate\":\"SalePrice=%{x}<br>count=%{y}<extra></extra>\",\"legendgroup\":\"375000\",\"marker\":{\"color\":\"#1f77b4\",\"pattern\":{\"shape\":\"\"}},\"name\":\"histogram\",\"nbinsx\":80,\"offsetgroup\":\"375000\",\"orientation\":\"v\",\"showlegend\":true,\"x\":[375000],\"xaxis\":\"x\",\"yaxis\":\"y3\",\"type\":\"histogram\"},{\"alignmentgroup\":\"True\",\"bingroup\":\"x\",\"hovertemplate\":\"SalePrice=%{x}<br>count=%{y}<extra></extra>\",\"legendgroup\":\"188500\",\"marker\":{\"color\":\"#1f77b4\",\"pattern\":{\"shape\":\"\"}},\"name\":\"histogram\",\"nbinsx\":80,\"offsetgroup\":\"188500\",\"orientation\":\"v\",\"showlegend\":true,\"x\":[188500],\"xaxis\":\"x\",\"yaxis\":\"y3\",\"type\":\"histogram\"},{\"alignmentgroup\":\"True\",\"bingroup\":\"x\",\"hovertemplate\":\"SalePrice=%{x}<br>count=%{y}<extra></extra>\",\"legendgroup\":\"270000\",\"marker\":{\"color\":\"#1f77b4\",\"pattern\":{\"shape\":\"\"}},\"name\":\"histogram\",\"nbinsx\":80,\"offsetgroup\":\"270000\",\"orientation\":\"v\",\"showlegend\":true,\"x\":[270000,270000,270000],\"xaxis\":\"x\",\"yaxis\":\"y3\",\"type\":\"histogram\"},{\"alignmentgroup\":\"True\",\"bingroup\":\"x\",\"hovertemplate\":\"SalePrice=%{x}<br>count=%{y}<extra></extra>\",\"legendgroup\":\"187500\",\"marker\":{\"color\":\"#1f77b4\",\"pattern\":{\"shape\":\"\"}},\"name\":\"histogram\",\"nbinsx\":80,\"offsetgroup\":\"187500\",\"orientation\":\"v\",\"showlegend\":true,\"x\":[187500,187500,187500,187500,187500,187500],\"xaxis\":\"x\",\"yaxis\":\"y3\",\"type\":\"histogram\"},{\"alignmentgroup\":\"True\",\"bingroup\":\"x\",\"hovertemplate\":\"SalePrice=%{x}<br>count=%{y}<extra></extra>\",\"legendgroup\":\"342643\",\"marker\":{\"color\":\"#1f77b4\",\"pattern\":{\"shape\":\"\"}},\"name\":\"histogram\",\"nbinsx\":80,\"offsetgroup\":\"342643\",\"orientation\":\"v\",\"showlegend\":true,\"x\":[342643],\"xaxis\":\"x\",\"yaxis\":\"y3\",\"type\":\"histogram\"},{\"alignmentgroup\":\"True\",\"bingroup\":\"x\",\"hovertemplate\":\"SalePrice=%{x}<br>count=%{y}<extra></extra>\",\"legendgroup\":\"354000\",\"marker\":{\"color\":\"#1f77b4\",\"pattern\":{\"shape\":\"\"}},\"name\":\"histogram\",\"nbinsx\":80,\"offsetgroup\":\"354000\",\"orientation\":\"v\",\"showlegend\":true,\"x\":[354000],\"xaxis\":\"x\",\"yaxis\":\"y3\",\"type\":\"histogram\"},{\"alignmentgroup\":\"True\",\"bingroup\":\"x\",\"hovertemplate\":\"SalePrice=%{x}<br>count=%{y}<extra></extra>\",\"legendgroup\":\"301000\",\"marker\":{\"color\":\"#1f77b4\",\"pattern\":{\"shape\":\"\"}},\"name\":\"histogram\",\"nbinsx\":80,\"offsetgroup\":\"301000\",\"orientation\":\"v\",\"showlegend\":true,\"x\":[301000],\"xaxis\":\"x\",\"yaxis\":\"y3\",\"type\":\"histogram\"},{\"alignmentgroup\":\"True\",\"bingroup\":\"x\",\"hovertemplate\":\"SalePrice=%{x}<br>count=%{y}<extra></extra>\",\"legendgroup\":\"126175\",\"marker\":{\"color\":\"#1f77b4\",\"pattern\":{\"shape\":\"\"}},\"name\":\"histogram\",\"nbinsx\":80,\"offsetgroup\":\"126175\",\"orientation\":\"v\",\"showlegend\":true,\"x\":[126175],\"xaxis\":\"x\",\"yaxis\":\"y3\",\"type\":\"histogram\"},{\"alignmentgroup\":\"True\",\"bingroup\":\"x\",\"hovertemplate\":\"SalePrice=%{x}<br>count=%{y}<extra></extra>\",\"legendgroup\":\"242000\",\"marker\":{\"color\":\"#1f77b4\",\"pattern\":{\"shape\":\"\"}},\"name\":\"histogram\",\"nbinsx\":80,\"offsetgroup\":\"242000\",\"orientation\":\"v\",\"showlegend\":true,\"x\":[242000,242000],\"xaxis\":\"x\",\"yaxis\":\"y3\",\"type\":\"histogram\"},{\"alignmentgroup\":\"True\",\"bingroup\":\"x\",\"hovertemplate\":\"SalePrice=%{x}<br>count=%{y}<extra></extra>\",\"legendgroup\":\"324000\",\"marker\":{\"color\":\"#1f77b4\",\"pattern\":{\"shape\":\"\"}},\"name\":\"histogram\",\"nbinsx\":80,\"offsetgroup\":\"324000\",\"orientation\":\"v\",\"showlegend\":true,\"x\":[324000],\"xaxis\":\"x\",\"yaxis\":\"y3\",\"type\":\"histogram\"},{\"alignmentgroup\":\"True\",\"bingroup\":\"x\",\"hovertemplate\":\"SalePrice=%{x}<br>count=%{y}<extra></extra>\",\"legendgroup\":\"145250\",\"marker\":{\"color\":\"#1f77b4\",\"pattern\":{\"shape\":\"\"}},\"name\":\"histogram\",\"nbinsx\":80,\"offsetgroup\":\"145250\",\"orientation\":\"v\",\"showlegend\":true,\"x\":[145250],\"xaxis\":\"x\",\"yaxis\":\"y3\",\"type\":\"histogram\"},{\"alignmentgroup\":\"True\",\"bingroup\":\"x\",\"hovertemplate\":\"SalePrice=%{x}<br>count=%{y}<extra></extra>\",\"legendgroup\":\"214500\",\"marker\":{\"color\":\"#1f77b4\",\"pattern\":{\"shape\":\"\"}},\"name\":\"histogram\",\"nbinsx\":80,\"offsetgroup\":\"214500\",\"orientation\":\"v\",\"showlegend\":true,\"x\":[214500],\"xaxis\":\"x\",\"yaxis\":\"y3\",\"type\":\"histogram\"},{\"alignmentgroup\":\"True\",\"bingroup\":\"x\",\"hovertemplate\":\"SalePrice=%{x}<br>count=%{y}<extra></extra>\",\"legendgroup\":\"78000\",\"marker\":{\"color\":\"#1f77b4\",\"pattern\":{\"shape\":\"\"}},\"name\":\"histogram\",\"nbinsx\":80,\"offsetgroup\":\"78000\",\"orientation\":\"v\",\"showlegend\":true,\"x\":[78000],\"xaxis\":\"x\",\"yaxis\":\"y3\",\"type\":\"histogram\"},{\"alignmentgroup\":\"True\",\"bingroup\":\"x\",\"hovertemplate\":\"SalePrice=%{x}<br>count=%{y}<extra></extra>\",\"legendgroup\":\"119000\",\"marker\":{\"color\":\"#1f77b4\",\"pattern\":{\"shape\":\"\"}},\"name\":\"histogram\",\"nbinsx\":80,\"offsetgroup\":\"119000\",\"orientation\":\"v\",\"showlegend\":true,\"x\":[119000,119000,119000,119000,119000,119000,119000],\"xaxis\":\"x\",\"yaxis\":\"y3\",\"type\":\"histogram\"},{\"alignmentgroup\":\"True\",\"bingroup\":\"x\",\"hovertemplate\":\"SalePrice=%{x}<br>count=%{y}<extra></extra>\",\"legendgroup\":\"284000\",\"marker\":{\"color\":\"#1f77b4\",\"pattern\":{\"shape\":\"\"}},\"name\":\"histogram\",\"nbinsx\":80,\"offsetgroup\":\"284000\",\"orientation\":\"v\",\"showlegend\":true,\"x\":[284000,284000],\"xaxis\":\"x\",\"yaxis\":\"y3\",\"type\":\"histogram\"},{\"alignmentgroup\":\"True\",\"bingroup\":\"x\",\"hovertemplate\":\"SalePrice=%{x}<br>count=%{y}<extra></extra>\",\"legendgroup\":\"207000\",\"marker\":{\"color\":\"#1f77b4\",\"pattern\":{\"shape\":\"\"}},\"name\":\"histogram\",\"nbinsx\":80,\"offsetgroup\":\"207000\",\"orientation\":\"v\",\"showlegend\":true,\"x\":[207000,207000],\"xaxis\":\"x\",\"yaxis\":\"y3\",\"type\":\"histogram\"},{\"alignmentgroup\":\"True\",\"bingroup\":\"x\",\"hovertemplate\":\"SalePrice=%{x}<br>count=%{y}<extra></extra>\",\"legendgroup\":\"228950\",\"marker\":{\"color\":\"#1f77b4\",\"pattern\":{\"shape\":\"\"}},\"name\":\"histogram\",\"nbinsx\":80,\"offsetgroup\":\"228950\",\"orientation\":\"v\",\"showlegend\":true,\"x\":[228950],\"xaxis\":\"x\",\"yaxis\":\"y3\",\"type\":\"histogram\"},{\"alignmentgroup\":\"True\",\"bingroup\":\"x\",\"hovertemplate\":\"SalePrice=%{x}<br>count=%{y}<extra></extra>\",\"legendgroup\":\"377426\",\"marker\":{\"color\":\"#1f77b4\",\"pattern\":{\"shape\":\"\"}},\"name\":\"histogram\",\"nbinsx\":80,\"offsetgroup\":\"377426\",\"orientation\":\"v\",\"showlegend\":true,\"x\":[377426],\"xaxis\":\"x\",\"yaxis\":\"y3\",\"type\":\"histogram\"},{\"alignmentgroup\":\"True\",\"bingroup\":\"x\",\"hovertemplate\":\"SalePrice=%{x}<br>count=%{y}<extra></extra>\",\"legendgroup\":\"202900\",\"marker\":{\"color\":\"#1f77b4\",\"pattern\":{\"shape\":\"\"}},\"name\":\"histogram\",\"nbinsx\":80,\"offsetgroup\":\"202900\",\"orientation\":\"v\",\"showlegend\":true,\"x\":[202900],\"xaxis\":\"x\",\"yaxis\":\"y3\",\"type\":\"histogram\"},{\"alignmentgroup\":\"True\",\"bingroup\":\"x\",\"hovertemplate\":\"SalePrice=%{x}<br>count=%{y}<extra></extra>\",\"legendgroup\":\"87500\",\"marker\":{\"color\":\"#1f77b4\",\"pattern\":{\"shape\":\"\"}},\"name\":\"histogram\",\"nbinsx\":80,\"offsetgroup\":\"87500\",\"orientation\":\"v\",\"showlegend\":true,\"x\":[87500],\"xaxis\":\"x\",\"yaxis\":\"y3\",\"type\":\"histogram\"},{\"alignmentgroup\":\"True\",\"bingroup\":\"x\",\"hovertemplate\":\"SalePrice=%{x}<br>count=%{y}<extra></extra>\",\"legendgroup\":\"140200\",\"marker\":{\"color\":\"#1f77b4\",\"pattern\":{\"shape\":\"\"}},\"name\":\"histogram\",\"nbinsx\":80,\"offsetgroup\":\"140200\",\"orientation\":\"v\",\"showlegend\":true,\"x\":[140200],\"xaxis\":\"x\",\"yaxis\":\"y3\",\"type\":\"histogram\"},{\"alignmentgroup\":\"True\",\"bingroup\":\"x\",\"hovertemplate\":\"SalePrice=%{x}<br>count=%{y}<extra></extra>\",\"legendgroup\":\"151500\",\"marker\":{\"color\":\"#1f77b4\",\"pattern\":{\"shape\":\"\"}},\"name\":\"histogram\",\"nbinsx\":80,\"offsetgroup\":\"151500\",\"orientation\":\"v\",\"showlegend\":true,\"x\":[151500],\"xaxis\":\"x\",\"yaxis\":\"y3\",\"type\":\"histogram\"},{\"alignmentgroup\":\"True\",\"bingroup\":\"x\",\"hovertemplate\":\"SalePrice=%{x}<br>count=%{y}<extra></extra>\",\"legendgroup\":\"157500\",\"marker\":{\"color\":\"#1f77b4\",\"pattern\":{\"shape\":\"\"}},\"name\":\"histogram\",\"nbinsx\":80,\"offsetgroup\":\"157500\",\"orientation\":\"v\",\"showlegend\":true,\"x\":[157500,157500],\"xaxis\":\"x\",\"yaxis\":\"y3\",\"type\":\"histogram\"},{\"alignmentgroup\":\"True\",\"bingroup\":\"x\",\"hovertemplate\":\"SalePrice=%{x}<br>count=%{y}<extra></extra>\",\"legendgroup\":\"437154\",\"marker\":{\"color\":\"#1f77b4\",\"pattern\":{\"shape\":\"\"}},\"name\":\"histogram\",\"nbinsx\":80,\"offsetgroup\":\"437154\",\"orientation\":\"v\",\"showlegend\":true,\"x\":[437154],\"xaxis\":\"x\",\"yaxis\":\"y3\",\"type\":\"histogram\"},{\"alignmentgroup\":\"True\",\"bingroup\":\"x\",\"hovertemplate\":\"SalePrice=%{x}<br>count=%{y}<extra></extra>\",\"legendgroup\":\"318061\",\"marker\":{\"color\":\"#1f77b4\",\"pattern\":{\"shape\":\"\"}},\"name\":\"histogram\",\"nbinsx\":80,\"offsetgroup\":\"318061\",\"orientation\":\"v\",\"showlegend\":true,\"x\":[318061],\"xaxis\":\"x\",\"yaxis\":\"y3\",\"type\":\"histogram\"},{\"alignmentgroup\":\"True\",\"bingroup\":\"x\",\"hovertemplate\":\"SalePrice=%{x}<br>count=%{y}<extra></extra>\",\"legendgroup\":\"95000\",\"marker\":{\"color\":\"#1f77b4\",\"pattern\":{\"shape\":\"\"}},\"name\":\"histogram\",\"nbinsx\":80,\"offsetgroup\":\"95000\",\"orientation\":\"v\",\"showlegend\":true,\"x\":[95000,95000],\"xaxis\":\"x\",\"yaxis\":\"y3\",\"type\":\"histogram\"},{\"alignmentgroup\":\"True\",\"bingroup\":\"x\",\"hovertemplate\":\"SalePrice=%{x}<br>count=%{y}<extra></extra>\",\"legendgroup\":\"105900\",\"marker\":{\"color\":\"#1f77b4\",\"pattern\":{\"shape\":\"\"}},\"name\":\"histogram\",\"nbinsx\":80,\"offsetgroup\":\"105900\",\"orientation\":\"v\",\"showlegend\":true,\"x\":[105900],\"xaxis\":\"x\",\"yaxis\":\"y3\",\"type\":\"histogram\"},{\"alignmentgroup\":\"True\",\"bingroup\":\"x\",\"hovertemplate\":\"SalePrice=%{x}<br>count=%{y}<extra></extra>\",\"legendgroup\":\"177500\",\"marker\":{\"color\":\"#1f77b4\",\"pattern\":{\"shape\":\"\"}},\"name\":\"histogram\",\"nbinsx\":80,\"offsetgroup\":\"177500\",\"orientation\":\"v\",\"showlegend\":true,\"x\":[177500,177500,177500],\"xaxis\":\"x\",\"yaxis\":\"y3\",\"type\":\"histogram\"},{\"alignmentgroup\":\"True\",\"bingroup\":\"x\",\"hovertemplate\":\"SalePrice=%{x}<br>count=%{y}<extra></extra>\",\"legendgroup\":\"134000\",\"marker\":{\"color\":\"#1f77b4\",\"pattern\":{\"shape\":\"\"}},\"name\":\"histogram\",\"nbinsx\":80,\"offsetgroup\":\"134000\",\"orientation\":\"v\",\"showlegend\":true,\"x\":[134000,134000,134000],\"xaxis\":\"x\",\"yaxis\":\"y3\",\"type\":\"histogram\"},{\"alignmentgroup\":\"True\",\"bingroup\":\"x\",\"hovertemplate\":\"SalePrice=%{x}<br>count=%{y}<extra></extra>\",\"legendgroup\":\"280000\",\"marker\":{\"color\":\"#1f77b4\",\"pattern\":{\"shape\":\"\"}},\"name\":\"histogram\",\"nbinsx\":80,\"offsetgroup\":\"280000\",\"orientation\":\"v\",\"showlegend\":true,\"x\":[280000,280000,280000,280000],\"xaxis\":\"x\",\"yaxis\":\"y3\",\"type\":\"histogram\"},{\"alignmentgroup\":\"True\",\"bingroup\":\"x\",\"hovertemplate\":\"SalePrice=%{x}<br>count=%{y}<extra></extra>\",\"legendgroup\":\"198500\",\"marker\":{\"color\":\"#1f77b4\",\"pattern\":{\"shape\":\"\"}},\"name\":\"histogram\",\"nbinsx\":80,\"offsetgroup\":\"198500\",\"orientation\":\"v\",\"showlegend\":true,\"x\":[198500],\"xaxis\":\"x\",\"yaxis\":\"y3\",\"type\":\"histogram\"},{\"alignmentgroup\":\"True\",\"bingroup\":\"x\",\"hovertemplate\":\"SalePrice=%{x}<br>count=%{y}<extra></extra>\",\"legendgroup\":\"147000\",\"marker\":{\"color\":\"#1f77b4\",\"pattern\":{\"shape\":\"\"}},\"name\":\"histogram\",\"nbinsx\":80,\"offsetgroup\":\"147000\",\"orientation\":\"v\",\"showlegend\":true,\"x\":[147000,147000,147000,147000,147000,147000,147000,147000,147000],\"xaxis\":\"x\",\"yaxis\":\"y3\",\"type\":\"histogram\"},{\"alignmentgroup\":\"True\",\"bingroup\":\"x\",\"hovertemplate\":\"SalePrice=%{x}<br>count=%{y}<extra></extra>\",\"legendgroup\":\"165000\",\"marker\":{\"color\":\"#1f77b4\",\"pattern\":{\"shape\":\"\"}},\"name\":\"histogram\",\"nbinsx\":80,\"offsetgroup\":\"165000\",\"orientation\":\"v\",\"showlegend\":true,\"x\":[165000,165000,165000,165000,165000,165000,165000,165000],\"xaxis\":\"x\",\"yaxis\":\"y3\",\"type\":\"histogram\"},{\"alignmentgroup\":\"True\",\"bingroup\":\"x\",\"hovertemplate\":\"SalePrice=%{x}<br>count=%{y}<extra></extra>\",\"legendgroup\":\"162000\",\"marker\":{\"color\":\"#1f77b4\",\"pattern\":{\"shape\":\"\"}},\"name\":\"histogram\",\"nbinsx\":80,\"offsetgroup\":\"162000\",\"orientation\":\"v\",\"showlegend\":true,\"x\":[162000,162000,162000,162000],\"xaxis\":\"x\",\"yaxis\":\"y3\",\"type\":\"histogram\"},{\"alignmentgroup\":\"True\",\"bingroup\":\"x\",\"hovertemplate\":\"SalePrice=%{x}<br>count=%{y}<extra></extra>\",\"legendgroup\":\"172400\",\"marker\":{\"color\":\"#1f77b4\",\"pattern\":{\"shape\":\"\"}},\"name\":\"histogram\",\"nbinsx\":80,\"offsetgroup\":\"172400\",\"orientation\":\"v\",\"showlegend\":true,\"x\":[172400],\"xaxis\":\"x\",\"yaxis\":\"y3\",\"type\":\"histogram\"},{\"alignmentgroup\":\"True\",\"bingroup\":\"x\",\"hovertemplate\":\"SalePrice=%{x}<br>count=%{y}<extra></extra>\",\"legendgroup\":\"134432\",\"marker\":{\"color\":\"#1f77b4\",\"pattern\":{\"shape\":\"\"}},\"name\":\"histogram\",\"nbinsx\":80,\"offsetgroup\":\"134432\",\"orientation\":\"v\",\"showlegend\":true,\"x\":[134432],\"xaxis\":\"x\",\"yaxis\":\"y3\",\"type\":\"histogram\"},{\"alignmentgroup\":\"True\",\"bingroup\":\"x\",\"hovertemplate\":\"SalePrice=%{x}<br>count=%{y}<extra></extra>\",\"legendgroup\":\"123000\",\"marker\":{\"color\":\"#1f77b4\",\"pattern\":{\"shape\":\"\"}},\"name\":\"histogram\",\"nbinsx\":80,\"offsetgroup\":\"123000\",\"orientation\":\"v\",\"showlegend\":true,\"x\":[123000,123000,123000,123000],\"xaxis\":\"x\",\"yaxis\":\"y3\",\"type\":\"histogram\"},{\"alignmentgroup\":\"True\",\"bingroup\":\"x\",\"hovertemplate\":\"SalePrice=%{x}<br>count=%{y}<extra></extra>\",\"legendgroup\":\"61000\",\"marker\":{\"color\":\"#1f77b4\",\"pattern\":{\"shape\":\"\"}},\"name\":\"histogram\",\"nbinsx\":80,\"offsetgroup\":\"61000\",\"orientation\":\"v\",\"showlegend\":true,\"x\":[61000],\"xaxis\":\"x\",\"yaxis\":\"y3\",\"type\":\"histogram\"},{\"alignmentgroup\":\"True\",\"bingroup\":\"x\",\"hovertemplate\":\"SalePrice=%{x}<br>count=%{y}<extra></extra>\",\"legendgroup\":\"340000\",\"marker\":{\"color\":\"#1f77b4\",\"pattern\":{\"shape\":\"\"}},\"name\":\"histogram\",\"nbinsx\":80,\"offsetgroup\":\"340000\",\"orientation\":\"v\",\"showlegend\":true,\"x\":[340000,340000],\"xaxis\":\"x\",\"yaxis\":\"y3\",\"type\":\"histogram\"},{\"alignmentgroup\":\"True\",\"bingroup\":\"x\",\"hovertemplate\":\"SalePrice=%{x}<br>count=%{y}<extra></extra>\",\"legendgroup\":\"394432\",\"marker\":{\"color\":\"#1f77b4\",\"pattern\":{\"shape\":\"\"}},\"name\":\"histogram\",\"nbinsx\":80,\"offsetgroup\":\"394432\",\"orientation\":\"v\",\"showlegend\":true,\"x\":[394432],\"xaxis\":\"x\",\"yaxis\":\"y3\",\"type\":\"histogram\"},{\"alignmentgroup\":\"True\",\"bingroup\":\"x\",\"hovertemplate\":\"SalePrice=%{x}<br>count=%{y}<extra></extra>\",\"legendgroup\":\"179000\",\"marker\":{\"color\":\"#1f77b4\",\"pattern\":{\"shape\":\"\"}},\"name\":\"histogram\",\"nbinsx\":80,\"offsetgroup\":\"179000\",\"orientation\":\"v\",\"showlegend\":true,\"x\":[179000,179000,179000],\"xaxis\":\"x\",\"yaxis\":\"y3\",\"type\":\"histogram\"},{\"alignmentgroup\":\"True\",\"bingroup\":\"x\",\"hovertemplate\":\"SalePrice=%{x}<br>count=%{y}<extra></extra>\",\"legendgroup\":\"187750\",\"marker\":{\"color\":\"#1f77b4\",\"pattern\":{\"shape\":\"\"}},\"name\":\"histogram\",\"nbinsx\":80,\"offsetgroup\":\"187750\",\"orientation\":\"v\",\"showlegend\":true,\"x\":[187750],\"xaxis\":\"x\",\"yaxis\":\"y3\",\"type\":\"histogram\"},{\"alignmentgroup\":\"True\",\"bingroup\":\"x\",\"hovertemplate\":\"SalePrice=%{x}<br>count=%{y}<extra></extra>\",\"legendgroup\":\"213500\",\"marker\":{\"color\":\"#1f77b4\",\"pattern\":{\"shape\":\"\"}},\"name\":\"histogram\",\"nbinsx\":80,\"offsetgroup\":\"213500\",\"orientation\":\"v\",\"showlegend\":true,\"x\":[213500,213500],\"xaxis\":\"x\",\"yaxis\":\"y3\",\"type\":\"histogram\"},{\"alignmentgroup\":\"True\",\"bingroup\":\"x\",\"hovertemplate\":\"SalePrice=%{x}<br>count=%{y}<extra></extra>\",\"legendgroup\":\"76000\",\"marker\":{\"color\":\"#1f77b4\",\"pattern\":{\"shape\":\"\"}},\"name\":\"histogram\",\"nbinsx\":80,\"offsetgroup\":\"76000\",\"orientation\":\"v\",\"showlegend\":true,\"x\":[76000],\"xaxis\":\"x\",\"yaxis\":\"y3\",\"type\":\"histogram\"},{\"alignmentgroup\":\"True\",\"bingroup\":\"x\",\"hovertemplate\":\"SalePrice=%{x}<br>count=%{y}<extra></extra>\",\"legendgroup\":\"240000\",\"marker\":{\"color\":\"#1f77b4\",\"pattern\":{\"shape\":\"\"}},\"name\":\"histogram\",\"nbinsx\":80,\"offsetgroup\":\"240000\",\"orientation\":\"v\",\"showlegend\":true,\"x\":[240000,240000,240000,240000,240000,240000],\"xaxis\":\"x\",\"yaxis\":\"y3\",\"type\":\"histogram\"},{\"alignmentgroup\":\"True\",\"bingroup\":\"x\",\"hovertemplate\":\"SalePrice=%{x}<br>count=%{y}<extra></extra>\",\"legendgroup\":\"81000\",\"marker\":{\"color\":\"#1f77b4\",\"pattern\":{\"shape\":\"\"}},\"name\":\"histogram\",\"nbinsx\":80,\"offsetgroup\":\"81000\",\"orientation\":\"v\",\"showlegend\":true,\"x\":[81000,81000,81000],\"xaxis\":\"x\",\"yaxis\":\"y3\",\"type\":\"histogram\"},{\"alignmentgroup\":\"True\",\"bingroup\":\"x\",\"hovertemplate\":\"SalePrice=%{x}<br>count=%{y}<extra></extra>\",\"legendgroup\":\"191000\",\"marker\":{\"color\":\"#1f77b4\",\"pattern\":{\"shape\":\"\"}},\"name\":\"histogram\",\"nbinsx\":80,\"offsetgroup\":\"191000\",\"orientation\":\"v\",\"showlegend\":true,\"x\":[191000,191000,191000,191000],\"xaxis\":\"x\",\"yaxis\":\"y3\",\"type\":\"histogram\"},{\"alignmentgroup\":\"True\",\"bingroup\":\"x\",\"hovertemplate\":\"SalePrice=%{x}<br>count=%{y}<extra></extra>\",\"legendgroup\":\"426000\",\"marker\":{\"color\":\"#1f77b4\",\"pattern\":{\"shape\":\"\"}},\"name\":\"histogram\",\"nbinsx\":80,\"offsetgroup\":\"426000\",\"orientation\":\"v\",\"showlegend\":true,\"x\":[426000],\"xaxis\":\"x\",\"yaxis\":\"y3\",\"type\":\"histogram\"},{\"alignmentgroup\":\"True\",\"bingroup\":\"x\",\"hovertemplate\":\"SalePrice=%{x}<br>count=%{y}<extra></extra>\",\"legendgroup\":\"106500\",\"marker\":{\"color\":\"#1f77b4\",\"pattern\":{\"shape\":\"\"}},\"name\":\"histogram\",\"nbinsx\":80,\"offsetgroup\":\"106500\",\"orientation\":\"v\",\"showlegend\":true,\"x\":[106500,106500],\"xaxis\":\"x\",\"yaxis\":\"y3\",\"type\":\"histogram\"},{\"alignmentgroup\":\"True\",\"bingroup\":\"x\",\"hovertemplate\":\"SalePrice=%{x}<br>count=%{y}<extra></extra>\",\"legendgroup\":\"129000\",\"marker\":{\"color\":\"#1f77b4\",\"pattern\":{\"shape\":\"\"}},\"name\":\"histogram\",\"nbinsx\":80,\"offsetgroup\":\"129000\",\"orientation\":\"v\",\"showlegend\":true,\"x\":[129000,129000,129000,129000,129000,129000,129000,129000],\"xaxis\":\"x\",\"yaxis\":\"y3\",\"type\":\"histogram\"},{\"alignmentgroup\":\"True\",\"bingroup\":\"x\",\"hovertemplate\":\"SalePrice=%{x}<br>count=%{y}<extra></extra>\",\"legendgroup\":\"67000\",\"marker\":{\"color\":\"#1f77b4\",\"pattern\":{\"shape\":\"\"}},\"name\":\"histogram\",\"nbinsx\":80,\"offsetgroup\":\"67000\",\"orientation\":\"v\",\"showlegend\":true,\"x\":[67000,67000],\"xaxis\":\"x\",\"yaxis\":\"y3\",\"type\":\"histogram\"},{\"alignmentgroup\":\"True\",\"bingroup\":\"x\",\"hovertemplate\":\"SalePrice=%{x}<br>count=%{y}<extra></extra>\",\"legendgroup\":\"241000\",\"marker\":{\"color\":\"#1f77b4\",\"pattern\":{\"shape\":\"\"}},\"name\":\"histogram\",\"nbinsx\":80,\"offsetgroup\":\"241000\",\"orientation\":\"v\",\"showlegend\":true,\"x\":[241000],\"xaxis\":\"x\",\"yaxis\":\"y3\",\"type\":\"histogram\"},{\"alignmentgroup\":\"True\",\"bingroup\":\"x\",\"hovertemplate\":\"SalePrice=%{x}<br>count=%{y}<extra></extra>\",\"legendgroup\":\"245500\",\"marker\":{\"color\":\"#1f77b4\",\"pattern\":{\"shape\":\"\"}},\"name\":\"histogram\",\"nbinsx\":80,\"offsetgroup\":\"245500\",\"orientation\":\"v\",\"showlegend\":true,\"x\":[245500],\"xaxis\":\"x\",\"yaxis\":\"y3\",\"type\":\"histogram\"},{\"alignmentgroup\":\"True\",\"bingroup\":\"x\",\"hovertemplate\":\"SalePrice=%{x}<br>count=%{y}<extra></extra>\",\"legendgroup\":\"164990\",\"marker\":{\"color\":\"#1f77b4\",\"pattern\":{\"shape\":\"\"}},\"name\":\"histogram\",\"nbinsx\":80,\"offsetgroup\":\"164990\",\"orientation\":\"v\",\"showlegend\":true,\"x\":[164990],\"xaxis\":\"x\",\"yaxis\":\"y3\",\"type\":\"histogram\"},{\"alignmentgroup\":\"True\",\"bingroup\":\"x\",\"hovertemplate\":\"SalePrice=%{x}<br>count=%{y}<extra></extra>\",\"legendgroup\":\"108000\",\"marker\":{\"color\":\"#1f77b4\",\"pattern\":{\"shape\":\"\"}},\"name\":\"histogram\",\"nbinsx\":80,\"offsetgroup\":\"108000\",\"orientation\":\"v\",\"showlegend\":true,\"x\":[108000,108000,108000,108000,108000,108000],\"xaxis\":\"x\",\"yaxis\":\"y3\",\"type\":\"histogram\"},{\"alignmentgroup\":\"True\",\"bingroup\":\"x\",\"hovertemplate\":\"SalePrice=%{x}<br>count=%{y}<extra></extra>\",\"legendgroup\":\"258000\",\"marker\":{\"color\":\"#1f77b4\",\"pattern\":{\"shape\":\"\"}},\"name\":\"histogram\",\"nbinsx\":80,\"offsetgroup\":\"258000\",\"orientation\":\"v\",\"showlegend\":true,\"x\":[258000],\"xaxis\":\"x\",\"yaxis\":\"y3\",\"type\":\"histogram\"},{\"alignmentgroup\":\"True\",\"bingroup\":\"x\",\"hovertemplate\":\"SalePrice=%{x}<br>count=%{y}<extra></extra>\",\"legendgroup\":\"168000\",\"marker\":{\"color\":\"#1f77b4\",\"pattern\":{\"shape\":\"\"}},\"name\":\"histogram\",\"nbinsx\":80,\"offsetgroup\":\"168000\",\"orientation\":\"v\",\"showlegend\":true,\"x\":[168000,168000,168000,168000],\"xaxis\":\"x\",\"yaxis\":\"y3\",\"type\":\"histogram\"},{\"alignmentgroup\":\"True\",\"bingroup\":\"x\",\"hovertemplate\":\"SalePrice=%{x}<br>count=%{y}<extra></extra>\",\"legendgroup\":\"339750\",\"marker\":{\"color\":\"#1f77b4\",\"pattern\":{\"shape\":\"\"}},\"name\":\"histogram\",\"nbinsx\":80,\"offsetgroup\":\"339750\",\"orientation\":\"v\",\"showlegend\":true,\"x\":[339750],\"xaxis\":\"x\",\"yaxis\":\"y3\",\"type\":\"histogram\"},{\"alignmentgroup\":\"True\",\"bingroup\":\"x\",\"hovertemplate\":\"SalePrice=%{x}<br>count=%{y}<extra></extra>\",\"legendgroup\":\"60000\",\"marker\":{\"color\":\"#1f77b4\",\"pattern\":{\"shape\":\"\"}},\"name\":\"histogram\",\"nbinsx\":80,\"offsetgroup\":\"60000\",\"orientation\":\"v\",\"showlegend\":true,\"x\":[60000,60000,60000],\"xaxis\":\"x\",\"yaxis\":\"y3\",\"type\":\"histogram\"},{\"alignmentgroup\":\"True\",\"bingroup\":\"x\",\"hovertemplate\":\"SalePrice=%{x}<br>count=%{y}<extra></extra>\",\"legendgroup\":\"222000\",\"marker\":{\"color\":\"#1f77b4\",\"pattern\":{\"shape\":\"\"}},\"name\":\"histogram\",\"nbinsx\":80,\"offsetgroup\":\"222000\",\"orientation\":\"v\",\"showlegend\":true,\"x\":[222000,222000,222000],\"xaxis\":\"x\",\"yaxis\":\"y3\",\"type\":\"histogram\"},{\"alignmentgroup\":\"True\",\"bingroup\":\"x\",\"hovertemplate\":\"SalePrice=%{x}<br>count=%{y}<extra></extra>\",\"legendgroup\":\"181134\",\"marker\":{\"color\":\"#1f77b4\",\"pattern\":{\"shape\":\"\"}},\"name\":\"histogram\",\"nbinsx\":80,\"offsetgroup\":\"181134\",\"orientation\":\"v\",\"showlegend\":true,\"x\":[181134],\"xaxis\":\"x\",\"yaxis\":\"y3\",\"type\":\"histogram\"},{\"alignmentgroup\":\"True\",\"bingroup\":\"x\",\"hovertemplate\":\"SalePrice=%{x}<br>count=%{y}<extra></extra>\",\"legendgroup\":\"149500\",\"marker\":{\"color\":\"#1f77b4\",\"pattern\":{\"shape\":\"\"}},\"name\":\"histogram\",\"nbinsx\":80,\"offsetgroup\":\"149500\",\"orientation\":\"v\",\"showlegend\":true,\"x\":[149500,149500],\"xaxis\":\"x\",\"yaxis\":\"y3\",\"type\":\"histogram\"},{\"alignmentgroup\":\"True\",\"bingroup\":\"x\",\"hovertemplate\":\"SalePrice=%{x}<br>count=%{y}<extra></extra>\",\"legendgroup\":\"126000\",\"marker\":{\"color\":\"#1f77b4\",\"pattern\":{\"shape\":\"\"}},\"name\":\"histogram\",\"nbinsx\":80,\"offsetgroup\":\"126000\",\"orientation\":\"v\",\"showlegend\":true,\"x\":[126000,126000,126000],\"xaxis\":\"x\",\"yaxis\":\"y3\",\"type\":\"histogram\"},{\"alignmentgroup\":\"True\",\"bingroup\":\"x\",\"hovertemplate\":\"SalePrice=%{x}<br>count=%{y}<extra></extra>\",\"legendgroup\":\"142000\",\"marker\":{\"color\":\"#1f77b4\",\"pattern\":{\"shape\":\"\"}},\"name\":\"histogram\",\"nbinsx\":80,\"offsetgroup\":\"142000\",\"orientation\":\"v\",\"showlegend\":true,\"x\":[142000,142000,142000,142000],\"xaxis\":\"x\",\"yaxis\":\"y3\",\"type\":\"histogram\"},{\"alignmentgroup\":\"True\",\"bingroup\":\"x\",\"hovertemplate\":\"SalePrice=%{x}<br>count=%{y}<extra></extra>\",\"legendgroup\":\"206300\",\"marker\":{\"color\":\"#1f77b4\",\"pattern\":{\"shape\":\"\"}},\"name\":\"histogram\",\"nbinsx\":80,\"offsetgroup\":\"206300\",\"orientation\":\"v\",\"showlegend\":true,\"x\":[206300],\"xaxis\":\"x\",\"yaxis\":\"y3\",\"type\":\"histogram\"},{\"alignmentgroup\":\"True\",\"bingroup\":\"x\",\"hovertemplate\":\"SalePrice=%{x}<br>count=%{y}<extra></extra>\",\"legendgroup\":\"275000\",\"marker\":{\"color\":\"#1f77b4\",\"pattern\":{\"shape\":\"\"}},\"name\":\"histogram\",\"nbinsx\":80,\"offsetgroup\":\"275000\",\"orientation\":\"v\",\"showlegend\":true,\"x\":[275000,275000,275000,275000,275000],\"xaxis\":\"x\",\"yaxis\":\"y3\",\"type\":\"histogram\"},{\"alignmentgroup\":\"True\",\"bingroup\":\"x\",\"hovertemplate\":\"SalePrice=%{x}<br>count=%{y}<extra></extra>\",\"legendgroup\":\"109008\",\"marker\":{\"color\":\"#1f77b4\",\"pattern\":{\"shape\":\"\"}},\"name\":\"histogram\",\"nbinsx\":80,\"offsetgroup\":\"109008\",\"orientation\":\"v\",\"showlegend\":true,\"x\":[109008],\"xaxis\":\"x\",\"yaxis\":\"y3\",\"type\":\"histogram\"},{\"alignmentgroup\":\"True\",\"bingroup\":\"x\",\"hovertemplate\":\"SalePrice=%{x}<br>count=%{y}<extra></extra>\",\"legendgroup\":\"195400\",\"marker\":{\"color\":\"#1f77b4\",\"pattern\":{\"shape\":\"\"}},\"name\":\"histogram\",\"nbinsx\":80,\"offsetgroup\":\"195400\",\"orientation\":\"v\",\"showlegend\":true,\"x\":[195400],\"xaxis\":\"x\",\"yaxis\":\"y3\",\"type\":\"histogram\"},{\"alignmentgroup\":\"True\",\"bingroup\":\"x\",\"hovertemplate\":\"SalePrice=%{x}<br>count=%{y}<extra></extra>\",\"legendgroup\":\"85400\",\"marker\":{\"color\":\"#1f77b4\",\"pattern\":{\"shape\":\"\"}},\"name\":\"histogram\",\"nbinsx\":80,\"offsetgroup\":\"85400\",\"orientation\":\"v\",\"showlegend\":true,\"x\":[85400],\"xaxis\":\"x\",\"yaxis\":\"y3\",\"type\":\"histogram\"},{\"alignmentgroup\":\"True\",\"bingroup\":\"x\",\"hovertemplate\":\"SalePrice=%{x}<br>count=%{y}<extra></extra>\",\"legendgroup\":\"79900\",\"marker\":{\"color\":\"#1f77b4\",\"pattern\":{\"shape\":\"\"}},\"name\":\"histogram\",\"nbinsx\":80,\"offsetgroup\":\"79900\",\"orientation\":\"v\",\"showlegend\":true,\"x\":[79900,79900],\"xaxis\":\"x\",\"yaxis\":\"y3\",\"type\":\"histogram\"},{\"alignmentgroup\":\"True\",\"bingroup\":\"x\",\"hovertemplate\":\"SalePrice=%{x}<br>count=%{y}<extra></extra>\",\"legendgroup\":\"122500\",\"marker\":{\"color\":\"#1f77b4\",\"pattern\":{\"shape\":\"\"}},\"name\":\"histogram\",\"nbinsx\":80,\"offsetgroup\":\"122500\",\"orientation\":\"v\",\"showlegend\":true,\"x\":[122500,122500],\"xaxis\":\"x\",\"yaxis\":\"y3\",\"type\":\"histogram\"},{\"alignmentgroup\":\"True\",\"bingroup\":\"x\",\"hovertemplate\":\"SalePrice=%{x}<br>count=%{y}<extra></extra>\",\"legendgroup\":\"212000\",\"marker\":{\"color\":\"#1f77b4\",\"pattern\":{\"shape\":\"\"}},\"name\":\"histogram\",\"nbinsx\":80,\"offsetgroup\":\"212000\",\"orientation\":\"v\",\"showlegend\":true,\"x\":[212000,212000,212000],\"xaxis\":\"x\",\"yaxis\":\"y3\",\"type\":\"histogram\"},{\"alignmentgroup\":\"True\",\"bingroup\":\"x\",\"hovertemplate\":\"SalePrice=%{x}<br>count=%{y}<extra></extra>\",\"legendgroup\":\"116000\",\"marker\":{\"color\":\"#1f77b4\",\"pattern\":{\"shape\":\"\"}},\"name\":\"histogram\",\"nbinsx\":80,\"offsetgroup\":\"116000\",\"orientation\":\"v\",\"showlegend\":true,\"x\":[116000,116000,116000],\"xaxis\":\"x\",\"yaxis\":\"y3\",\"type\":\"histogram\"},{\"alignmentgroup\":\"True\",\"bingroup\":\"x\",\"hovertemplate\":\"SalePrice=%{x}<br>count=%{y}<extra></extra>\",\"legendgroup\":\"90350\",\"marker\":{\"color\":\"#1f77b4\",\"pattern\":{\"shape\":\"\"}},\"name\":\"histogram\",\"nbinsx\":80,\"offsetgroup\":\"90350\",\"orientation\":\"v\",\"showlegend\":true,\"x\":[90350],\"xaxis\":\"x\",\"yaxis\":\"y3\",\"type\":\"histogram\"},{\"alignmentgroup\":\"True\",\"bingroup\":\"x\",\"hovertemplate\":\"SalePrice=%{x}<br>count=%{y}<extra></extra>\",\"legendgroup\":\"555000\",\"marker\":{\"color\":\"#1f77b4\",\"pattern\":{\"shape\":\"\"}},\"name\":\"histogram\",\"nbinsx\":80,\"offsetgroup\":\"555000\",\"orientation\":\"v\",\"showlegend\":true,\"x\":[555000],\"xaxis\":\"x\",\"yaxis\":\"y3\",\"type\":\"histogram\"},{\"alignmentgroup\":\"True\",\"bingroup\":\"x\",\"hovertemplate\":\"SalePrice=%{x}<br>count=%{y}<extra></extra>\",\"legendgroup\":\"162900\",\"marker\":{\"color\":\"#1f77b4\",\"pattern\":{\"shape\":\"\"}},\"name\":\"histogram\",\"nbinsx\":80,\"offsetgroup\":\"162900\",\"orientation\":\"v\",\"showlegend\":true,\"x\":[162900,162900],\"xaxis\":\"x\",\"yaxis\":\"y3\",\"type\":\"histogram\"},{\"alignmentgroup\":\"True\",\"bingroup\":\"x\",\"hovertemplate\":\"SalePrice=%{x}<br>count=%{y}<extra></extra>\",\"legendgroup\":\"199900\",\"marker\":{\"color\":\"#1f77b4\",\"pattern\":{\"shape\":\"\"}},\"name\":\"histogram\",\"nbinsx\":80,\"offsetgroup\":\"199900\",\"orientation\":\"v\",\"showlegend\":true,\"x\":[199900,199900],\"xaxis\":\"x\",\"yaxis\":\"y3\",\"type\":\"histogram\"},{\"alignmentgroup\":\"True\",\"bingroup\":\"x\",\"hovertemplate\":\"SalePrice=%{x}<br>count=%{y}<extra></extra>\",\"legendgroup\":\"119500\",\"marker\":{\"color\":\"#1f77b4\",\"pattern\":{\"shape\":\"\"}},\"name\":\"histogram\",\"nbinsx\":80,\"offsetgroup\":\"119500\",\"orientation\":\"v\",\"showlegend\":true,\"x\":[119500,119500,119500,119500],\"xaxis\":\"x\",\"yaxis\":\"y3\",\"type\":\"histogram\"},{\"alignmentgroup\":\"True\",\"bingroup\":\"x\",\"hovertemplate\":\"SalePrice=%{x}<br>count=%{y}<extra></extra>\",\"legendgroup\":\"188000\",\"marker\":{\"color\":\"#1f77b4\",\"pattern\":{\"shape\":\"\"}},\"name\":\"histogram\",\"nbinsx\":80,\"offsetgroup\":\"188000\",\"orientation\":\"v\",\"showlegend\":true,\"x\":[188000,188000,188000],\"xaxis\":\"x\",\"yaxis\":\"y3\",\"type\":\"histogram\"},{\"alignmentgroup\":\"True\",\"bingroup\":\"x\",\"hovertemplate\":\"SalePrice=%{x}<br>count=%{y}<extra></extra>\",\"legendgroup\":\"256000\",\"marker\":{\"color\":\"#1f77b4\",\"pattern\":{\"shape\":\"\"}},\"name\":\"histogram\",\"nbinsx\":80,\"offsetgroup\":\"256000\",\"orientation\":\"v\",\"showlegend\":true,\"x\":[256000,256000],\"xaxis\":\"x\",\"yaxis\":\"y3\",\"type\":\"histogram\"},{\"alignmentgroup\":\"True\",\"bingroup\":\"x\",\"hovertemplate\":\"SalePrice=%{x}<br>count=%{y}<extra></extra>\",\"legendgroup\":\"161000\",\"marker\":{\"color\":\"#1f77b4\",\"pattern\":{\"shape\":\"\"}},\"name\":\"histogram\",\"nbinsx\":80,\"offsetgroup\":\"161000\",\"orientation\":\"v\",\"showlegend\":true,\"x\":[161000,161000],\"xaxis\":\"x\",\"yaxis\":\"y3\",\"type\":\"histogram\"},{\"alignmentgroup\":\"True\",\"bingroup\":\"x\",\"hovertemplate\":\"SalePrice=%{x}<br>count=%{y}<extra></extra>\",\"legendgroup\":\"263435\",\"marker\":{\"color\":\"#1f77b4\",\"pattern\":{\"shape\":\"\"}},\"name\":\"histogram\",\"nbinsx\":80,\"offsetgroup\":\"263435\",\"orientation\":\"v\",\"showlegend\":true,\"x\":[263435],\"xaxis\":\"x\",\"yaxis\":\"y3\",\"type\":\"histogram\"},{\"alignmentgroup\":\"True\",\"bingroup\":\"x\",\"hovertemplate\":\"SalePrice=%{x}<br>count=%{y}<extra></extra>\",\"legendgroup\":\"62383\",\"marker\":{\"color\":\"#1f77b4\",\"pattern\":{\"shape\":\"\"}},\"name\":\"histogram\",\"nbinsx\":80,\"offsetgroup\":\"62383\",\"orientation\":\"v\",\"showlegend\":true,\"x\":[62383],\"xaxis\":\"x\",\"yaxis\":\"y3\",\"type\":\"histogram\"},{\"alignmentgroup\":\"True\",\"bingroup\":\"x\",\"hovertemplate\":\"SalePrice=%{x}<br>count=%{y}<extra></extra>\",\"legendgroup\":\"188700\",\"marker\":{\"color\":\"#1f77b4\",\"pattern\":{\"shape\":\"\"}},\"name\":\"histogram\",\"nbinsx\":80,\"offsetgroup\":\"188700\",\"orientation\":\"v\",\"showlegend\":true,\"x\":[188700],\"xaxis\":\"x\",\"yaxis\":\"y3\",\"type\":\"histogram\"},{\"alignmentgroup\":\"True\",\"bingroup\":\"x\",\"hovertemplate\":\"SalePrice=%{x}<br>count=%{y}<extra></extra>\",\"legendgroup\":\"124000\",\"marker\":{\"color\":\"#1f77b4\",\"pattern\":{\"shape\":\"\"}},\"name\":\"histogram\",\"nbinsx\":80,\"offsetgroup\":\"124000\",\"orientation\":\"v\",\"showlegend\":true,\"x\":[124000,124000,124000,124000,124000,124000],\"xaxis\":\"x\",\"yaxis\":\"y3\",\"type\":\"histogram\"},{\"alignmentgroup\":\"True\",\"bingroup\":\"x\",\"hovertemplate\":\"SalePrice=%{x}<br>count=%{y}<extra></extra>\",\"legendgroup\":\"178740\",\"marker\":{\"color\":\"#1f77b4\",\"pattern\":{\"shape\":\"\"}},\"name\":\"histogram\",\"nbinsx\":80,\"offsetgroup\":\"178740\",\"orientation\":\"v\",\"showlegend\":true,\"x\":[178740],\"xaxis\":\"x\",\"yaxis\":\"y3\",\"type\":\"histogram\"},{\"alignmentgroup\":\"True\",\"bingroup\":\"x\",\"hovertemplate\":\"SalePrice=%{x}<br>count=%{y}<extra></extra>\",\"legendgroup\":\"146500\",\"marker\":{\"color\":\"#1f77b4\",\"pattern\":{\"shape\":\"\"}},\"name\":\"histogram\",\"nbinsx\":80,\"offsetgroup\":\"146500\",\"orientation\":\"v\",\"showlegend\":true,\"x\":[146500],\"xaxis\":\"x\",\"yaxis\":\"y3\",\"type\":\"histogram\"},{\"alignmentgroup\":\"True\",\"bingroup\":\"x\",\"hovertemplate\":\"SalePrice=%{x}<br>count=%{y}<extra></extra>\",\"legendgroup\":\"187000\",\"marker\":{\"color\":\"#1f77b4\",\"pattern\":{\"shape\":\"\"}},\"name\":\"histogram\",\"nbinsx\":80,\"offsetgroup\":\"187000\",\"orientation\":\"v\",\"showlegend\":true,\"x\":[187000,187000,187000],\"xaxis\":\"x\",\"yaxis\":\"y3\",\"type\":\"histogram\"},{\"alignmentgroup\":\"True\",\"bingroup\":\"x\",\"hovertemplate\":\"SalePrice=%{x}<br>count=%{y}<extra></extra>\",\"legendgroup\":\"440000\",\"marker\":{\"color\":\"#1f77b4\",\"pattern\":{\"shape\":\"\"}},\"name\":\"histogram\",\"nbinsx\":80,\"offsetgroup\":\"440000\",\"orientation\":\"v\",\"showlegend\":true,\"x\":[440000],\"xaxis\":\"x\",\"yaxis\":\"y3\",\"type\":\"histogram\"},{\"alignmentgroup\":\"True\",\"bingroup\":\"x\",\"hovertemplate\":\"SalePrice=%{x}<br>count=%{y}<extra></extra>\",\"legendgroup\":\"251000\",\"marker\":{\"color\":\"#1f77b4\",\"pattern\":{\"shape\":\"\"}},\"name\":\"histogram\",\"nbinsx\":80,\"offsetgroup\":\"251000\",\"orientation\":\"v\",\"showlegend\":true,\"x\":[251000],\"xaxis\":\"x\",\"yaxis\":\"y3\",\"type\":\"histogram\"},{\"alignmentgroup\":\"True\",\"bingroup\":\"x\",\"hovertemplate\":\"SalePrice=%{x}<br>count=%{y}<extra></extra>\",\"legendgroup\":\"132500\",\"marker\":{\"color\":\"#1f77b4\",\"pattern\":{\"shape\":\"\"}},\"name\":\"histogram\",\"nbinsx\":80,\"offsetgroup\":\"132500\",\"orientation\":\"v\",\"showlegend\":true,\"x\":[132500,132500,132500,132500,132500,132500],\"xaxis\":\"x\",\"yaxis\":\"y3\",\"type\":\"histogram\"},{\"alignmentgroup\":\"True\",\"bingroup\":\"x\",\"hovertemplate\":\"SalePrice=%{x}<br>count=%{y}<extra></extra>\",\"legendgroup\":\"208900\",\"marker\":{\"color\":\"#1f77b4\",\"pattern\":{\"shape\":\"\"}},\"name\":\"histogram\",\"nbinsx\":80,\"offsetgroup\":\"208900\",\"orientation\":\"v\",\"showlegend\":true,\"x\":[208900,208900],\"xaxis\":\"x\",\"yaxis\":\"y3\",\"type\":\"histogram\"},{\"alignmentgroup\":\"True\",\"bingroup\":\"x\",\"hovertemplate\":\"SalePrice=%{x}<br>count=%{y}<extra></extra>\",\"legendgroup\":\"380000\",\"marker\":{\"color\":\"#1f77b4\",\"pattern\":{\"shape\":\"\"}},\"name\":\"histogram\",\"nbinsx\":80,\"offsetgroup\":\"380000\",\"orientation\":\"v\",\"showlegend\":true,\"x\":[380000],\"xaxis\":\"x\",\"yaxis\":\"y3\",\"type\":\"histogram\"},{\"alignmentgroup\":\"True\",\"bingroup\":\"x\",\"hovertemplate\":\"SalePrice=%{x}<br>count=%{y}<extra></extra>\",\"legendgroup\":\"297000\",\"marker\":{\"color\":\"#1f77b4\",\"pattern\":{\"shape\":\"\"}},\"name\":\"histogram\",\"nbinsx\":80,\"offsetgroup\":\"297000\",\"orientation\":\"v\",\"showlegend\":true,\"x\":[297000],\"xaxis\":\"x\",\"yaxis\":\"y3\",\"type\":\"histogram\"},{\"alignmentgroup\":\"True\",\"bingroup\":\"x\",\"hovertemplate\":\"SalePrice=%{x}<br>count=%{y}<extra></extra>\",\"legendgroup\":\"89471\",\"marker\":{\"color\":\"#1f77b4\",\"pattern\":{\"shape\":\"\"}},\"name\":\"histogram\",\"nbinsx\":80,\"offsetgroup\":\"89471\",\"orientation\":\"v\",\"showlegend\":true,\"x\":[89471],\"xaxis\":\"x\",\"yaxis\":\"y3\",\"type\":\"histogram\"},{\"alignmentgroup\":\"True\",\"bingroup\":\"x\",\"hovertemplate\":\"SalePrice=%{x}<br>count=%{y}<extra></extra>\",\"legendgroup\":\"326000\",\"marker\":{\"color\":\"#1f77b4\",\"pattern\":{\"shape\":\"\"}},\"name\":\"histogram\",\"nbinsx\":80,\"offsetgroup\":\"326000\",\"orientation\":\"v\",\"showlegend\":true,\"x\":[326000],\"xaxis\":\"x\",\"yaxis\":\"y3\",\"type\":\"histogram\"},{\"alignmentgroup\":\"True\",\"bingroup\":\"x\",\"hovertemplate\":\"SalePrice=%{x}<br>count=%{y}<extra></extra>\",\"legendgroup\":\"374000\",\"marker\":{\"color\":\"#1f77b4\",\"pattern\":{\"shape\":\"\"}},\"name\":\"histogram\",\"nbinsx\":80,\"offsetgroup\":\"374000\",\"orientation\":\"v\",\"showlegend\":true,\"x\":[374000],\"xaxis\":\"x\",\"yaxis\":\"y3\",\"type\":\"histogram\"},{\"alignmentgroup\":\"True\",\"bingroup\":\"x\",\"hovertemplate\":\"SalePrice=%{x}<br>count=%{y}<extra></extra>\",\"legendgroup\":\"164000\",\"marker\":{\"color\":\"#1f77b4\",\"pattern\":{\"shape\":\"\"}},\"name\":\"histogram\",\"nbinsx\":80,\"offsetgroup\":\"164000\",\"orientation\":\"v\",\"showlegend\":true,\"x\":[164000,164000,164000],\"xaxis\":\"x\",\"yaxis\":\"y3\",\"type\":\"histogram\"},{\"alignmentgroup\":\"True\",\"bingroup\":\"x\",\"hovertemplate\":\"SalePrice=%{x}<br>count=%{y}<extra></extra>\",\"legendgroup\":\"86000\",\"marker\":{\"color\":\"#1f77b4\",\"pattern\":{\"shape\":\"\"}},\"name\":\"histogram\",\"nbinsx\":80,\"offsetgroup\":\"86000\",\"orientation\":\"v\",\"showlegend\":true,\"x\":[86000,86000,86000],\"xaxis\":\"x\",\"yaxis\":\"y3\",\"type\":\"histogram\"},{\"alignmentgroup\":\"True\",\"bingroup\":\"x\",\"hovertemplate\":\"SalePrice=%{x}<br>count=%{y}<extra></extra>\",\"legendgroup\":\"133000\",\"marker\":{\"color\":\"#1f77b4\",\"pattern\":{\"shape\":\"\"}},\"name\":\"histogram\",\"nbinsx\":80,\"offsetgroup\":\"133000\",\"orientation\":\"v\",\"showlegend\":true,\"x\":[133000,133000,133000,133000,133000,133000],\"xaxis\":\"x\",\"yaxis\":\"y3\",\"type\":\"histogram\"},{\"alignmentgroup\":\"True\",\"bingroup\":\"x\",\"hovertemplate\":\"SalePrice=%{x}<br>count=%{y}<extra></extra>\",\"legendgroup\":\"172785\",\"marker\":{\"color\":\"#1f77b4\",\"pattern\":{\"shape\":\"\"}},\"name\":\"histogram\",\"nbinsx\":80,\"offsetgroup\":\"172785\",\"orientation\":\"v\",\"showlegend\":true,\"x\":[172785],\"xaxis\":\"x\",\"yaxis\":\"y3\",\"type\":\"histogram\"},{\"alignmentgroup\":\"True\",\"bingroup\":\"x\",\"hovertemplate\":\"SalePrice=%{x}<br>count=%{y}<extra></extra>\",\"legendgroup\":\"91300\",\"marker\":{\"color\":\"#1f77b4\",\"pattern\":{\"shape\":\"\"}},\"name\":\"histogram\",\"nbinsx\":80,\"offsetgroup\":\"91300\",\"orientation\":\"v\",\"showlegend\":true,\"x\":[91300],\"xaxis\":\"x\",\"yaxis\":\"y3\",\"type\":\"histogram\"},{\"alignmentgroup\":\"True\",\"bingroup\":\"x\",\"hovertemplate\":\"SalePrice=%{x}<br>count=%{y}<extra></extra>\",\"legendgroup\":\"34900\",\"marker\":{\"color\":\"#1f77b4\",\"pattern\":{\"shape\":\"\"}},\"name\":\"histogram\",\"nbinsx\":80,\"offsetgroup\":\"34900\",\"orientation\":\"v\",\"showlegend\":true,\"x\":[34900],\"xaxis\":\"x\",\"yaxis\":\"y3\",\"type\":\"histogram\"},{\"alignmentgroup\":\"True\",\"bingroup\":\"x\",\"hovertemplate\":\"SalePrice=%{x}<br>count=%{y}<extra></extra>\",\"legendgroup\":\"430000\",\"marker\":{\"color\":\"#1f77b4\",\"pattern\":{\"shape\":\"\"}},\"name\":\"histogram\",\"nbinsx\":80,\"offsetgroup\":\"430000\",\"orientation\":\"v\",\"showlegend\":true,\"x\":[430000],\"xaxis\":\"x\",\"yaxis\":\"y3\",\"type\":\"histogram\"},{\"alignmentgroup\":\"True\",\"bingroup\":\"x\",\"hovertemplate\":\"SalePrice=%{x}<br>count=%{y}<extra></extra>\",\"legendgroup\":\"226700\",\"marker\":{\"color\":\"#1f77b4\",\"pattern\":{\"shape\":\"\"}},\"name\":\"histogram\",\"nbinsx\":80,\"offsetgroup\":\"226700\",\"orientation\":\"v\",\"showlegend\":true,\"x\":[226700],\"xaxis\":\"x\",\"yaxis\":\"y3\",\"type\":\"histogram\"},{\"alignmentgroup\":\"True\",\"bingroup\":\"x\",\"hovertemplate\":\"SalePrice=%{x}<br>count=%{y}<extra></extra>\",\"legendgroup\":\"289000\",\"marker\":{\"color\":\"#1f77b4\",\"pattern\":{\"shape\":\"\"}},\"name\":\"histogram\",\"nbinsx\":80,\"offsetgroup\":\"289000\",\"orientation\":\"v\",\"showlegend\":true,\"x\":[289000],\"xaxis\":\"x\",\"yaxis\":\"y3\",\"type\":\"histogram\"},{\"alignmentgroup\":\"True\",\"bingroup\":\"x\",\"hovertemplate\":\"SalePrice=%{x}<br>count=%{y}<extra></extra>\",\"legendgroup\":\"208300\",\"marker\":{\"color\":\"#1f77b4\",\"pattern\":{\"shape\":\"\"}},\"name\":\"histogram\",\"nbinsx\":80,\"offsetgroup\":\"208300\",\"orientation\":\"v\",\"showlegend\":true,\"x\":[208300],\"xaxis\":\"x\",\"yaxis\":\"y3\",\"type\":\"histogram\"},{\"alignmentgroup\":\"True\",\"bingroup\":\"x\",\"hovertemplate\":\"SalePrice=%{x}<br>count=%{y}<extra></extra>\",\"legendgroup\":\"164900\",\"marker\":{\"color\":\"#1f77b4\",\"pattern\":{\"shape\":\"\"}},\"name\":\"histogram\",\"nbinsx\":80,\"offsetgroup\":\"164900\",\"orientation\":\"v\",\"showlegend\":true,\"x\":[164900],\"xaxis\":\"x\",\"yaxis\":\"y3\",\"type\":\"histogram\"},{\"alignmentgroup\":\"True\",\"bingroup\":\"x\",\"hovertemplate\":\"SalePrice=%{x}<br>count=%{y}<extra></extra>\",\"legendgroup\":\"202665\",\"marker\":{\"color\":\"#1f77b4\",\"pattern\":{\"shape\":\"\"}},\"name\":\"histogram\",\"nbinsx\":80,\"offsetgroup\":\"202665\",\"orientation\":\"v\",\"showlegend\":true,\"x\":[202665],\"xaxis\":\"x\",\"yaxis\":\"y3\",\"type\":\"histogram\"},{\"alignmentgroup\":\"True\",\"bingroup\":\"x\",\"hovertemplate\":\"SalePrice=%{x}<br>count=%{y}<extra></extra>\",\"legendgroup\":\"96500\",\"marker\":{\"color\":\"#1f77b4\",\"pattern\":{\"shape\":\"\"}},\"name\":\"histogram\",\"nbinsx\":80,\"offsetgroup\":\"96500\",\"orientation\":\"v\",\"showlegend\":true,\"x\":[96500,96500],\"xaxis\":\"x\",\"yaxis\":\"y3\",\"type\":\"histogram\"},{\"alignmentgroup\":\"True\",\"bingroup\":\"x\",\"hovertemplate\":\"SalePrice=%{x}<br>count=%{y}<extra></extra>\",\"legendgroup\":\"402861\",\"marker\":{\"color\":\"#1f77b4\",\"pattern\":{\"shape\":\"\"}},\"name\":\"histogram\",\"nbinsx\":80,\"offsetgroup\":\"402861\",\"orientation\":\"v\",\"showlegend\":true,\"x\":[402861],\"xaxis\":\"x\",\"yaxis\":\"y3\",\"type\":\"histogram\"},{\"alignmentgroup\":\"True\",\"bingroup\":\"x\",\"hovertemplate\":\"SalePrice=%{x}<br>count=%{y}<extra></extra>\",\"legendgroup\":\"265000\",\"marker\":{\"color\":\"#1f77b4\",\"pattern\":{\"shape\":\"\"}},\"name\":\"histogram\",\"nbinsx\":80,\"offsetgroup\":\"265000\",\"orientation\":\"v\",\"showlegend\":true,\"x\":[265000],\"xaxis\":\"x\",\"yaxis\":\"y3\",\"type\":\"histogram\"},{\"alignmentgroup\":\"True\",\"bingroup\":\"x\",\"hovertemplate\":\"SalePrice=%{x}<br>count=%{y}<extra></extra>\",\"legendgroup\":\"234000\",\"marker\":{\"color\":\"#1f77b4\",\"pattern\":{\"shape\":\"\"}},\"name\":\"histogram\",\"nbinsx\":80,\"offsetgroup\":\"234000\",\"orientation\":\"v\",\"showlegend\":true,\"x\":[234000,234000],\"xaxis\":\"x\",\"yaxis\":\"y3\",\"type\":\"histogram\"},{\"alignmentgroup\":\"True\",\"bingroup\":\"x\",\"hovertemplate\":\"SalePrice=%{x}<br>count=%{y}<extra></extra>\",\"legendgroup\":\"106250\",\"marker\":{\"color\":\"#1f77b4\",\"pattern\":{\"shape\":\"\"}},\"name\":\"histogram\",\"nbinsx\":80,\"offsetgroup\":\"106250\",\"orientation\":\"v\",\"showlegend\":true,\"x\":[106250],\"xaxis\":\"x\",\"yaxis\":\"y3\",\"type\":\"histogram\"},{\"alignmentgroup\":\"True\",\"bingroup\":\"x\",\"hovertemplate\":\"SalePrice=%{x}<br>count=%{y}<extra></extra>\",\"legendgroup\":\"184750\",\"marker\":{\"color\":\"#1f77b4\",\"pattern\":{\"shape\":\"\"}},\"name\":\"histogram\",\"nbinsx\":80,\"offsetgroup\":\"184750\",\"orientation\":\"v\",\"showlegend\":true,\"x\":[184750],\"xaxis\":\"x\",\"yaxis\":\"y3\",\"type\":\"histogram\"},{\"alignmentgroup\":\"True\",\"bingroup\":\"x\",\"hovertemplate\":\"SalePrice=%{x}<br>count=%{y}<extra></extra>\",\"legendgroup\":\"315750\",\"marker\":{\"color\":\"#1f77b4\",\"pattern\":{\"shape\":\"\"}},\"name\":\"histogram\",\"nbinsx\":80,\"offsetgroup\":\"315750\",\"orientation\":\"v\",\"showlegend\":true,\"x\":[315750],\"xaxis\":\"x\",\"yaxis\":\"y3\",\"type\":\"histogram\"},{\"alignmentgroup\":\"True\",\"bingroup\":\"x\",\"hovertemplate\":\"SalePrice=%{x}<br>count=%{y}<extra></extra>\",\"legendgroup\":\"446261\",\"marker\":{\"color\":\"#1f77b4\",\"pattern\":{\"shape\":\"\"}},\"name\":\"histogram\",\"nbinsx\":80,\"offsetgroup\":\"446261\",\"orientation\":\"v\",\"showlegend\":true,\"x\":[446261],\"xaxis\":\"x\",\"yaxis\":\"y3\",\"type\":\"histogram\"},{\"alignmentgroup\":\"True\",\"bingroup\":\"x\",\"hovertemplate\":\"SalePrice=%{x}<br>count=%{y}<extra></extra>\",\"legendgroup\":\"200624\",\"marker\":{\"color\":\"#1f77b4\",\"pattern\":{\"shape\":\"\"}},\"name\":\"histogram\",\"nbinsx\":80,\"offsetgroup\":\"200624\",\"orientation\":\"v\",\"showlegend\":true,\"x\":[200624],\"xaxis\":\"x\",\"yaxis\":\"y3\",\"type\":\"histogram\"},{\"alignmentgroup\":\"True\",\"bingroup\":\"x\",\"hovertemplate\":\"SalePrice=%{x}<br>count=%{y}<extra></extra>\",\"legendgroup\":\"107500\",\"marker\":{\"color\":\"#1f77b4\",\"pattern\":{\"shape\":\"\"}},\"name\":\"histogram\",\"nbinsx\":80,\"offsetgroup\":\"107500\",\"orientation\":\"v\",\"showlegend\":true,\"x\":[107500,107500,107500],\"xaxis\":\"x\",\"yaxis\":\"y3\",\"type\":\"histogram\"},{\"alignmentgroup\":\"True\",\"bingroup\":\"x\",\"hovertemplate\":\"SalePrice=%{x}<br>count=%{y}<extra></extra>\",\"legendgroup\":\"39300\",\"marker\":{\"color\":\"#1f77b4\",\"pattern\":{\"shape\":\"\"}},\"name\":\"histogram\",\"nbinsx\":80,\"offsetgroup\":\"39300\",\"orientation\":\"v\",\"showlegend\":true,\"x\":[39300],\"xaxis\":\"x\",\"yaxis\":\"y3\",\"type\":\"histogram\"},{\"alignmentgroup\":\"True\",\"bingroup\":\"x\",\"hovertemplate\":\"SalePrice=%{x}<br>count=%{y}<extra></extra>\",\"legendgroup\":\"111250\",\"marker\":{\"color\":\"#1f77b4\",\"pattern\":{\"shape\":\"\"}},\"name\":\"histogram\",\"nbinsx\":80,\"offsetgroup\":\"111250\",\"orientation\":\"v\",\"showlegend\":true,\"x\":[111250],\"xaxis\":\"x\",\"yaxis\":\"y3\",\"type\":\"histogram\"},{\"alignmentgroup\":\"True\",\"bingroup\":\"x\",\"hovertemplate\":\"SalePrice=%{x}<br>count=%{y}<extra></extra>\",\"legendgroup\":\"272000\",\"marker\":{\"color\":\"#1f77b4\",\"pattern\":{\"shape\":\"\"}},\"name\":\"histogram\",\"nbinsx\":80,\"offsetgroup\":\"272000\",\"orientation\":\"v\",\"showlegend\":true,\"x\":[272000,272000],\"xaxis\":\"x\",\"yaxis\":\"y3\",\"type\":\"histogram\"},{\"alignmentgroup\":\"True\",\"bingroup\":\"x\",\"hovertemplate\":\"SalePrice=%{x}<br>count=%{y}<extra></extra>\",\"legendgroup\":\"248000\",\"marker\":{\"color\":\"#1f77b4\",\"pattern\":{\"shape\":\"\"}},\"name\":\"histogram\",\"nbinsx\":80,\"offsetgroup\":\"248000\",\"orientation\":\"v\",\"showlegend\":true,\"x\":[248000,248000],\"xaxis\":\"x\",\"yaxis\":\"y3\",\"type\":\"histogram\"},{\"alignmentgroup\":\"True\",\"bingroup\":\"x\",\"hovertemplate\":\"SalePrice=%{x}<br>count=%{y}<extra></extra>\",\"legendgroup\":\"213250\",\"marker\":{\"color\":\"#1f77b4\",\"pattern\":{\"shape\":\"\"}},\"name\":\"histogram\",\"nbinsx\":80,\"offsetgroup\":\"213250\",\"orientation\":\"v\",\"showlegend\":true,\"x\":[213250],\"xaxis\":\"x\",\"yaxis\":\"y3\",\"type\":\"histogram\"},{\"alignmentgroup\":\"True\",\"bingroup\":\"x\",\"hovertemplate\":\"SalePrice=%{x}<br>count=%{y}<extra></extra>\",\"legendgroup\":\"179665\",\"marker\":{\"color\":\"#1f77b4\",\"pattern\":{\"shape\":\"\"}},\"name\":\"histogram\",\"nbinsx\":80,\"offsetgroup\":\"179665\",\"orientation\":\"v\",\"showlegend\":true,\"x\":[179665],\"xaxis\":\"x\",\"yaxis\":\"y3\",\"type\":\"histogram\"},{\"alignmentgroup\":\"True\",\"bingroup\":\"x\",\"hovertemplate\":\"SalePrice=%{x}<br>count=%{y}<extra></extra>\",\"legendgroup\":\"229000\",\"marker\":{\"color\":\"#1f77b4\",\"pattern\":{\"shape\":\"\"}},\"name\":\"histogram\",\"nbinsx\":80,\"offsetgroup\":\"229000\",\"orientation\":\"v\",\"showlegend\":true,\"x\":[229000],\"xaxis\":\"x\",\"yaxis\":\"y3\",\"type\":\"histogram\"},{\"alignmentgroup\":\"True\",\"bingroup\":\"x\",\"hovertemplate\":\"SalePrice=%{x}<br>count=%{y}<extra></extra>\",\"legendgroup\":\"263000\",\"marker\":{\"color\":\"#1f77b4\",\"pattern\":{\"shape\":\"\"}},\"name\":\"histogram\",\"nbinsx\":80,\"offsetgroup\":\"263000\",\"orientation\":\"v\",\"showlegend\":true,\"x\":[263000],\"xaxis\":\"x\",\"yaxis\":\"y3\",\"type\":\"histogram\"},{\"alignmentgroup\":\"True\",\"bingroup\":\"x\",\"hovertemplate\":\"SalePrice=%{x}<br>count=%{y}<extra></extra>\",\"legendgroup\":\"112500\",\"marker\":{\"color\":\"#1f77b4\",\"pattern\":{\"shape\":\"\"}},\"name\":\"histogram\",\"nbinsx\":80,\"offsetgroup\":\"112500\",\"orientation\":\"v\",\"showlegend\":true,\"x\":[112500,112500],\"xaxis\":\"x\",\"yaxis\":\"y3\",\"type\":\"histogram\"},{\"alignmentgroup\":\"True\",\"bingroup\":\"x\",\"hovertemplate\":\"SalePrice=%{x}<br>count=%{y}<extra></extra>\",\"legendgroup\":\"255500\",\"marker\":{\"color\":\"#1f77b4\",\"pattern\":{\"shape\":\"\"}},\"name\":\"histogram\",\"nbinsx\":80,\"offsetgroup\":\"255500\",\"orientation\":\"v\",\"showlegend\":true,\"x\":[255500],\"xaxis\":\"x\",\"yaxis\":\"y3\",\"type\":\"histogram\"},{\"alignmentgroup\":\"True\",\"bingroup\":\"x\",\"hovertemplate\":\"SalePrice=%{x}<br>count=%{y}<extra></extra>\",\"legendgroup\":\"121500\",\"marker\":{\"color\":\"#1f77b4\",\"pattern\":{\"shape\":\"\"}},\"name\":\"histogram\",\"nbinsx\":80,\"offsetgroup\":\"121500\",\"orientation\":\"v\",\"showlegend\":true,\"x\":[121500],\"xaxis\":\"x\",\"yaxis\":\"y3\",\"type\":\"histogram\"},{\"alignmentgroup\":\"True\",\"bingroup\":\"x\",\"hovertemplate\":\"SalePrice=%{x}<br>count=%{y}<extra></extra>\",\"legendgroup\":\"268000\",\"marker\":{\"color\":\"#1f77b4\",\"pattern\":{\"shape\":\"\"}},\"name\":\"histogram\",\"nbinsx\":80,\"offsetgroup\":\"268000\",\"orientation\":\"v\",\"showlegend\":true,\"x\":[268000,268000],\"xaxis\":\"x\",\"yaxis\":\"y3\",\"type\":\"histogram\"},{\"alignmentgroup\":\"True\",\"bingroup\":\"x\",\"hovertemplate\":\"SalePrice=%{x}<br>count=%{y}<extra></extra>\",\"legendgroup\":\"325000\",\"marker\":{\"color\":\"#1f77b4\",\"pattern\":{\"shape\":\"\"}},\"name\":\"histogram\",\"nbinsx\":80,\"offsetgroup\":\"325000\",\"orientation\":\"v\",\"showlegend\":true,\"x\":[325000,325000,325000,325000],\"xaxis\":\"x\",\"yaxis\":\"y3\",\"type\":\"histogram\"},{\"alignmentgroup\":\"True\",\"bingroup\":\"x\",\"hovertemplate\":\"SalePrice=%{x}<br>count=%{y}<extra></extra>\",\"legendgroup\":\"316600\",\"marker\":{\"color\":\"#1f77b4\",\"pattern\":{\"shape\":\"\"}},\"name\":\"histogram\",\"nbinsx\":80,\"offsetgroup\":\"316600\",\"orientation\":\"v\",\"showlegend\":true,\"x\":[316600],\"xaxis\":\"x\",\"yaxis\":\"y3\",\"type\":\"histogram\"},{\"alignmentgroup\":\"True\",\"bingroup\":\"x\",\"hovertemplate\":\"SalePrice=%{x}<br>count=%{y}<extra></extra>\",\"legendgroup\":\"135960\",\"marker\":{\"color\":\"#1f77b4\",\"pattern\":{\"shape\":\"\"}},\"name\":\"histogram\",\"nbinsx\":80,\"offsetgroup\":\"135960\",\"orientation\":\"v\",\"showlegend\":true,\"x\":[135960],\"xaxis\":\"x\",\"yaxis\":\"y3\",\"type\":\"histogram\"},{\"alignmentgroup\":\"True\",\"bingroup\":\"x\",\"hovertemplate\":\"SalePrice=%{x}<br>count=%{y}<extra></extra>\",\"legendgroup\":\"142600\",\"marker\":{\"color\":\"#1f77b4\",\"pattern\":{\"shape\":\"\"}},\"name\":\"histogram\",\"nbinsx\":80,\"offsetgroup\":\"142600\",\"orientation\":\"v\",\"showlegend\":true,\"x\":[142600],\"xaxis\":\"x\",\"yaxis\":\"y3\",\"type\":\"histogram\"},{\"alignmentgroup\":\"True\",\"bingroup\":\"x\",\"hovertemplate\":\"SalePrice=%{x}<br>count=%{y}<extra></extra>\",\"legendgroup\":\"224500\",\"marker\":{\"color\":\"#1f77b4\",\"pattern\":{\"shape\":\"\"}},\"name\":\"histogram\",\"nbinsx\":80,\"offsetgroup\":\"224500\",\"orientation\":\"v\",\"showlegend\":true,\"x\":[224500],\"xaxis\":\"x\",\"yaxis\":\"y3\",\"type\":\"histogram\"},{\"alignmentgroup\":\"True\",\"bingroup\":\"x\",\"hovertemplate\":\"SalePrice=%{x}<br>count=%{y}<extra></extra>\",\"legendgroup\":\"118500\",\"marker\":{\"color\":\"#1f77b4\",\"pattern\":{\"shape\":\"\"}},\"name\":\"histogram\",\"nbinsx\":80,\"offsetgroup\":\"118500\",\"orientation\":\"v\",\"showlegend\":true,\"x\":[118500,118500,118500,118500],\"xaxis\":\"x\",\"yaxis\":\"y3\",\"type\":\"histogram\"},{\"alignmentgroup\":\"True\",\"bingroup\":\"x\",\"hovertemplate\":\"SalePrice=%{x}<br>count=%{y}<extra></extra>\",\"legendgroup\":\"146000\",\"marker\":{\"color\":\"#1f77b4\",\"pattern\":{\"shape\":\"\"}},\"name\":\"histogram\",\"nbinsx\":80,\"offsetgroup\":\"146000\",\"orientation\":\"v\",\"showlegend\":true,\"x\":[146000,146000,146000],\"xaxis\":\"x\",\"yaxis\":\"y3\",\"type\":\"histogram\"},{\"alignmentgroup\":\"True\",\"bingroup\":\"x\",\"hovertemplate\":\"SalePrice=%{x}<br>count=%{y}<extra></extra>\",\"legendgroup\":\"131500\",\"marker\":{\"color\":\"#1f77b4\",\"pattern\":{\"shape\":\"\"}},\"name\":\"histogram\",\"nbinsx\":80,\"offsetgroup\":\"131500\",\"orientation\":\"v\",\"showlegend\":true,\"x\":[131500,131500,131500],\"xaxis\":\"x\",\"yaxis\":\"y3\",\"type\":\"histogram\"},{\"alignmentgroup\":\"True\",\"bingroup\":\"x\",\"hovertemplate\":\"SalePrice=%{x}<br>count=%{y}<extra></extra>\",\"legendgroup\":\"181900\",\"marker\":{\"color\":\"#1f77b4\",\"pattern\":{\"shape\":\"\"}},\"name\":\"histogram\",\"nbinsx\":80,\"offsetgroup\":\"181900\",\"orientation\":\"v\",\"showlegend\":true,\"x\":[181900],\"xaxis\":\"x\",\"yaxis\":\"y3\",\"type\":\"histogram\"},{\"alignmentgroup\":\"True\",\"bingroup\":\"x\",\"hovertemplate\":\"SalePrice=%{x}<br>count=%{y}<extra></extra>\",\"legendgroup\":\"253293\",\"marker\":{\"color\":\"#1f77b4\",\"pattern\":{\"shape\":\"\"}},\"name\":\"histogram\",\"nbinsx\":80,\"offsetgroup\":\"253293\",\"orientation\":\"v\",\"showlegend\":true,\"x\":[253293],\"xaxis\":\"x\",\"yaxis\":\"y3\",\"type\":\"histogram\"},{\"alignmentgroup\":\"True\",\"bingroup\":\"x\",\"hovertemplate\":\"SalePrice=%{x}<br>count=%{y}<extra></extra>\",\"legendgroup\":\"369900\",\"marker\":{\"color\":\"#1f77b4\",\"pattern\":{\"shape\":\"\"}},\"name\":\"histogram\",\"nbinsx\":80,\"offsetgroup\":\"369900\",\"orientation\":\"v\",\"showlegend\":true,\"x\":[369900],\"xaxis\":\"x\",\"yaxis\":\"y3\",\"type\":\"histogram\"},{\"alignmentgroup\":\"True\",\"bingroup\":\"x\",\"hovertemplate\":\"SalePrice=%{x}<br>count=%{y}<extra></extra>\",\"legendgroup\":\"79500\",\"marker\":{\"color\":\"#1f77b4\",\"pattern\":{\"shape\":\"\"}},\"name\":\"histogram\",\"nbinsx\":80,\"offsetgroup\":\"79500\",\"orientation\":\"v\",\"showlegend\":true,\"x\":[79500],\"xaxis\":\"x\",\"yaxis\":\"y3\",\"type\":\"histogram\"},{\"alignmentgroup\":\"True\",\"bingroup\":\"x\",\"hovertemplate\":\"SalePrice=%{x}<br>count=%{y}<extra></extra>\",\"legendgroup\":\"185900\",\"marker\":{\"color\":\"#1f77b4\",\"pattern\":{\"shape\":\"\"}},\"name\":\"histogram\",\"nbinsx\":80,\"offsetgroup\":\"185900\",\"orientation\":\"v\",\"showlegend\":true,\"x\":[185900],\"xaxis\":\"x\",\"yaxis\":\"y3\",\"type\":\"histogram\"},{\"alignmentgroup\":\"True\",\"bingroup\":\"x\",\"hovertemplate\":\"SalePrice=%{x}<br>count=%{y}<extra></extra>\",\"legendgroup\":\"451950\",\"marker\":{\"color\":\"#1f77b4\",\"pattern\":{\"shape\":\"\"}},\"name\":\"histogram\",\"nbinsx\":80,\"offsetgroup\":\"451950\",\"orientation\":\"v\",\"showlegend\":true,\"x\":[451950],\"xaxis\":\"x\",\"yaxis\":\"y3\",\"type\":\"histogram\"},{\"alignmentgroup\":\"True\",\"bingroup\":\"x\",\"hovertemplate\":\"SalePrice=%{x}<br>count=%{y}<extra></extra>\",\"legendgroup\":\"138000\",\"marker\":{\"color\":\"#1f77b4\",\"pattern\":{\"shape\":\"\"}},\"name\":\"histogram\",\"nbinsx\":80,\"offsetgroup\":\"138000\",\"orientation\":\"v\",\"showlegend\":true,\"x\":[138000,138000,138000],\"xaxis\":\"x\",\"yaxis\":\"y3\",\"type\":\"histogram\"},{\"alignmentgroup\":\"True\",\"bingroup\":\"x\",\"hovertemplate\":\"SalePrice=%{x}<br>count=%{y}<extra></extra>\",\"legendgroup\":\"319000\",\"marker\":{\"color\":\"#1f77b4\",\"pattern\":{\"shape\":\"\"}},\"name\":\"histogram\",\"nbinsx\":80,\"offsetgroup\":\"319000\",\"orientation\":\"v\",\"showlegend\":true,\"x\":[319000],\"xaxis\":\"x\",\"yaxis\":\"y3\",\"type\":\"histogram\"},{\"alignmentgroup\":\"True\",\"bingroup\":\"x\",\"hovertemplate\":\"SalePrice=%{x}<br>count=%{y}<extra></extra>\",\"legendgroup\":\"114504\",\"marker\":{\"color\":\"#1f77b4\",\"pattern\":{\"shape\":\"\"}},\"name\":\"histogram\",\"nbinsx\":80,\"offsetgroup\":\"114504\",\"orientation\":\"v\",\"showlegend\":true,\"x\":[114504],\"xaxis\":\"x\",\"yaxis\":\"y3\",\"type\":\"histogram\"},{\"alignmentgroup\":\"True\",\"bingroup\":\"x\",\"hovertemplate\":\"SalePrice=%{x}<br>count=%{y}<extra></extra>\",\"legendgroup\":\"194201\",\"marker\":{\"color\":\"#1f77b4\",\"pattern\":{\"shape\":\"\"}},\"name\":\"histogram\",\"nbinsx\":80,\"offsetgroup\":\"194201\",\"orientation\":\"v\",\"showlegend\":true,\"x\":[194201],\"xaxis\":\"x\",\"yaxis\":\"y3\",\"type\":\"histogram\"},{\"alignmentgroup\":\"True\",\"bingroup\":\"x\",\"hovertemplate\":\"SalePrice=%{x}<br>count=%{y}<extra></extra>\",\"legendgroup\":\"217500\",\"marker\":{\"color\":\"#1f77b4\",\"pattern\":{\"shape\":\"\"}},\"name\":\"histogram\",\"nbinsx\":80,\"offsetgroup\":\"217500\",\"orientation\":\"v\",\"showlegend\":true,\"x\":[217500],\"xaxis\":\"x\",\"yaxis\":\"y3\",\"type\":\"histogram\"},{\"alignmentgroup\":\"True\",\"bingroup\":\"x\",\"hovertemplate\":\"SalePrice=%{x}<br>count=%{y}<extra></extra>\",\"legendgroup\":\"221000\",\"marker\":{\"color\":\"#1f77b4\",\"pattern\":{\"shape\":\"\"}},\"name\":\"histogram\",\"nbinsx\":80,\"offsetgroup\":\"221000\",\"orientation\":\"v\",\"showlegend\":true,\"x\":[221000,221000],\"xaxis\":\"x\",\"yaxis\":\"y3\",\"type\":\"histogram\"},{\"alignmentgroup\":\"True\",\"bingroup\":\"x\",\"hovertemplate\":\"SalePrice=%{x}<br>count=%{y}<extra></extra>\",\"legendgroup\":\"359100\",\"marker\":{\"color\":\"#1f77b4\",\"pattern\":{\"shape\":\"\"}},\"name\":\"histogram\",\"nbinsx\":80,\"offsetgroup\":\"359100\",\"orientation\":\"v\",\"showlegend\":true,\"x\":[359100],\"xaxis\":\"x\",\"yaxis\":\"y3\",\"type\":\"histogram\"},{\"alignmentgroup\":\"True\",\"bingroup\":\"x\",\"hovertemplate\":\"SalePrice=%{x}<br>count=%{y}<extra></extra>\",\"legendgroup\":\"313000\",\"marker\":{\"color\":\"#1f77b4\",\"pattern\":{\"shape\":\"\"}},\"name\":\"histogram\",\"nbinsx\":80,\"offsetgroup\":\"313000\",\"orientation\":\"v\",\"showlegend\":true,\"x\":[313000],\"xaxis\":\"x\",\"yaxis\":\"y3\",\"type\":\"histogram\"},{\"alignmentgroup\":\"True\",\"bingroup\":\"x\",\"hovertemplate\":\"SalePrice=%{x}<br>count=%{y}<extra></extra>\",\"legendgroup\":\"261500\",\"marker\":{\"color\":\"#1f77b4\",\"pattern\":{\"shape\":\"\"}},\"name\":\"histogram\",\"nbinsx\":80,\"offsetgroup\":\"261500\",\"orientation\":\"v\",\"showlegend\":true,\"x\":[261500],\"xaxis\":\"x\",\"yaxis\":\"y3\",\"type\":\"histogram\"},{\"alignmentgroup\":\"True\",\"bingroup\":\"x\",\"hovertemplate\":\"SalePrice=%{x}<br>count=%{y}<extra></extra>\",\"legendgroup\":\"75500\",\"marker\":{\"color\":\"#1f77b4\",\"pattern\":{\"shape\":\"\"}},\"name\":\"histogram\",\"nbinsx\":80,\"offsetgroup\":\"75500\",\"orientation\":\"v\",\"showlegend\":true,\"x\":[75500],\"xaxis\":\"x\",\"yaxis\":\"y3\",\"type\":\"histogram\"},{\"alignmentgroup\":\"True\",\"bingroup\":\"x\",\"hovertemplate\":\"SalePrice=%{x}<br>count=%{y}<extra></extra>\",\"legendgroup\":\"137500\",\"marker\":{\"color\":\"#1f77b4\",\"pattern\":{\"shape\":\"\"}},\"name\":\"histogram\",\"nbinsx\":80,\"offsetgroup\":\"137500\",\"orientation\":\"v\",\"showlegend\":true,\"x\":[137500,137500,137500,137500,137500,137500],\"xaxis\":\"x\",\"yaxis\":\"y3\",\"type\":\"histogram\"},{\"alignmentgroup\":\"True\",\"bingroup\":\"x\",\"hovertemplate\":\"SalePrice=%{x}<br>count=%{y}<extra></extra>\",\"legendgroup\":\"183200\",\"marker\":{\"color\":\"#1f77b4\",\"pattern\":{\"shape\":\"\"}},\"name\":\"histogram\",\"nbinsx\":80,\"offsetgroup\":\"183200\",\"orientation\":\"v\",\"showlegend\":true,\"x\":[183200],\"xaxis\":\"x\",\"yaxis\":\"y3\",\"type\":\"histogram\"},{\"alignmentgroup\":\"True\",\"bingroup\":\"x\",\"hovertemplate\":\"SalePrice=%{x}<br>count=%{y}<extra></extra>\",\"legendgroup\":\"105500\",\"marker\":{\"color\":\"#1f77b4\",\"pattern\":{\"shape\":\"\"}},\"name\":\"histogram\",\"nbinsx\":80,\"offsetgroup\":\"105500\",\"orientation\":\"v\",\"showlegend\":true,\"x\":[105500],\"xaxis\":\"x\",\"yaxis\":\"y3\",\"type\":\"histogram\"},{\"alignmentgroup\":\"True\",\"bingroup\":\"x\",\"hovertemplate\":\"SalePrice=%{x}<br>count=%{y}<extra></extra>\",\"legendgroup\":\"314813\",\"marker\":{\"color\":\"#1f77b4\",\"pattern\":{\"shape\":\"\"}},\"name\":\"histogram\",\"nbinsx\":80,\"offsetgroup\":\"314813\",\"orientation\":\"v\",\"showlegend\":true,\"x\":[314813],\"xaxis\":\"x\",\"yaxis\":\"y3\",\"type\":\"histogram\"},{\"alignmentgroup\":\"True\",\"bingroup\":\"x\",\"hovertemplate\":\"SalePrice=%{x}<br>count=%{y}<extra></extra>\",\"legendgroup\":\"305000\",\"marker\":{\"color\":\"#1f77b4\",\"pattern\":{\"shape\":\"\"}},\"name\":\"histogram\",\"nbinsx\":80,\"offsetgroup\":\"305000\",\"orientation\":\"v\",\"showlegend\":true,\"x\":[305000],\"xaxis\":\"x\",\"yaxis\":\"y3\",\"type\":\"histogram\"},{\"alignmentgroup\":\"True\",\"bingroup\":\"x\",\"hovertemplate\":\"SalePrice=%{x}<br>count=%{y}<extra></extra>\",\"legendgroup\":\"165150\",\"marker\":{\"color\":\"#1f77b4\",\"pattern\":{\"shape\":\"\"}},\"name\":\"histogram\",\"nbinsx\":80,\"offsetgroup\":\"165150\",\"orientation\":\"v\",\"showlegend\":true,\"x\":[165150],\"xaxis\":\"x\",\"yaxis\":\"y3\",\"type\":\"histogram\"},{\"alignmentgroup\":\"True\",\"bingroup\":\"x\",\"hovertemplate\":\"SalePrice=%{x}<br>count=%{y}<extra></extra>\",\"legendgroup\":\"139900\",\"marker\":{\"color\":\"#1f77b4\",\"pattern\":{\"shape\":\"\"}},\"name\":\"histogram\",\"nbinsx\":80,\"offsetgroup\":\"139900\",\"orientation\":\"v\",\"showlegend\":true,\"x\":[139900],\"xaxis\":\"x\",\"yaxis\":\"y3\",\"type\":\"histogram\"},{\"alignmentgroup\":\"True\",\"bingroup\":\"x\",\"hovertemplate\":\"SalePrice=%{x}<br>count=%{y}<extra></extra>\",\"legendgroup\":\"209500\",\"marker\":{\"color\":\"#1f77b4\",\"pattern\":{\"shape\":\"\"}},\"name\":\"histogram\",\"nbinsx\":80,\"offsetgroup\":\"209500\",\"orientation\":\"v\",\"showlegend\":true,\"x\":[209500],\"xaxis\":\"x\",\"yaxis\":\"y3\",\"type\":\"histogram\"},{\"alignmentgroup\":\"True\",\"bingroup\":\"x\",\"hovertemplate\":\"SalePrice=%{x}<br>count=%{y}<extra></extra>\",\"legendgroup\":\"93000\",\"marker\":{\"color\":\"#1f77b4\",\"pattern\":{\"shape\":\"\"}},\"name\":\"histogram\",\"nbinsx\":80,\"offsetgroup\":\"93000\",\"orientation\":\"v\",\"showlegend\":true,\"x\":[93000,93000,93000],\"xaxis\":\"x\",\"yaxis\":\"y3\",\"type\":\"histogram\"},{\"alignmentgroup\":\"True\",\"bingroup\":\"x\",\"hovertemplate\":\"SalePrice=%{x}<br>count=%{y}<extra></extra>\",\"legendgroup\":\"264561\",\"marker\":{\"color\":\"#1f77b4\",\"pattern\":{\"shape\":\"\"}},\"name\":\"histogram\",\"nbinsx\":80,\"offsetgroup\":\"264561\",\"orientation\":\"v\",\"showlegend\":true,\"x\":[264561],\"xaxis\":\"x\",\"yaxis\":\"y3\",\"type\":\"histogram\"},{\"alignmentgroup\":\"True\",\"bingroup\":\"x\",\"hovertemplate\":\"SalePrice=%{x}<br>count=%{y}<extra></extra>\",\"legendgroup\":\"274000\",\"marker\":{\"color\":\"#1f77b4\",\"pattern\":{\"shape\":\"\"}},\"name\":\"histogram\",\"nbinsx\":80,\"offsetgroup\":\"274000\",\"orientation\":\"v\",\"showlegend\":true,\"x\":[274000],\"xaxis\":\"x\",\"yaxis\":\"y3\",\"type\":\"histogram\"},{\"alignmentgroup\":\"True\",\"bingroup\":\"x\",\"hovertemplate\":\"SalePrice=%{x}<br>count=%{y}<extra></extra>\",\"legendgroup\":\"370878\",\"marker\":{\"color\":\"#1f77b4\",\"pattern\":{\"shape\":\"\"}},\"name\":\"histogram\",\"nbinsx\":80,\"offsetgroup\":\"370878\",\"orientation\":\"v\",\"showlegend\":true,\"x\":[370878],\"xaxis\":\"x\",\"yaxis\":\"y3\",\"type\":\"histogram\"},{\"alignmentgroup\":\"True\",\"bingroup\":\"x\",\"hovertemplate\":\"SalePrice=%{x}<br>count=%{y}<extra></extra>\",\"legendgroup\":\"143250\",\"marker\":{\"color\":\"#1f77b4\",\"pattern\":{\"shape\":\"\"}},\"name\":\"histogram\",\"nbinsx\":80,\"offsetgroup\":\"143250\",\"orientation\":\"v\",\"showlegend\":true,\"x\":[143250],\"xaxis\":\"x\",\"yaxis\":\"y3\",\"type\":\"histogram\"},{\"alignmentgroup\":\"True\",\"bingroup\":\"x\",\"hovertemplate\":\"SalePrice=%{x}<br>count=%{y}<extra></extra>\",\"legendgroup\":\"98300\",\"marker\":{\"color\":\"#1f77b4\",\"pattern\":{\"shape\":\"\"}},\"name\":\"histogram\",\"nbinsx\":80,\"offsetgroup\":\"98300\",\"orientation\":\"v\",\"showlegend\":true,\"x\":[98300],\"xaxis\":\"x\",\"yaxis\":\"y3\",\"type\":\"histogram\"},{\"alignmentgroup\":\"True\",\"bingroup\":\"x\",\"hovertemplate\":\"SalePrice=%{x}<br>count=%{y}<extra></extra>\",\"legendgroup\":\"205950\",\"marker\":{\"color\":\"#1f77b4\",\"pattern\":{\"shape\":\"\"}},\"name\":\"histogram\",\"nbinsx\":80,\"offsetgroup\":\"205950\",\"orientation\":\"v\",\"showlegend\":true,\"x\":[205950],\"xaxis\":\"x\",\"yaxis\":\"y3\",\"type\":\"histogram\"},{\"alignmentgroup\":\"True\",\"bingroup\":\"x\",\"hovertemplate\":\"SalePrice=%{x}<br>count=%{y}<extra></extra>\",\"legendgroup\":\"350000\",\"marker\":{\"color\":\"#1f77b4\",\"pattern\":{\"shape\":\"\"}},\"name\":\"histogram\",\"nbinsx\":80,\"offsetgroup\":\"350000\",\"orientation\":\"v\",\"showlegend\":true,\"x\":[350000,350000],\"xaxis\":\"x\",\"yaxis\":\"y3\",\"type\":\"histogram\"},{\"alignmentgroup\":\"True\",\"bingroup\":\"x\",\"hovertemplate\":\"SalePrice=%{x}<br>count=%{y}<extra></extra>\",\"legendgroup\":\"145500\",\"marker\":{\"color\":\"#1f77b4\",\"pattern\":{\"shape\":\"\"}},\"name\":\"histogram\",\"nbinsx\":80,\"offsetgroup\":\"145500\",\"orientation\":\"v\",\"showlegend\":true,\"x\":[145500],\"xaxis\":\"x\",\"yaxis\":\"y3\",\"type\":\"histogram\"},{\"alignmentgroup\":\"True\",\"bingroup\":\"x\",\"hovertemplate\":\"SalePrice=%{x}<br>count=%{y}<extra></extra>\",\"legendgroup\":\"97500\",\"marker\":{\"color\":\"#1f77b4\",\"pattern\":{\"shape\":\"\"}},\"name\":\"histogram\",\"nbinsx\":80,\"offsetgroup\":\"97500\",\"orientation\":\"v\",\"showlegend\":true,\"x\":[97500],\"xaxis\":\"x\",\"yaxis\":\"y3\",\"type\":\"histogram\"},{\"alignmentgroup\":\"True\",\"bingroup\":\"x\",\"hovertemplate\":\"SalePrice=%{x}<br>count=%{y}<extra></extra>\",\"legendgroup\":\"197900\",\"marker\":{\"color\":\"#1f77b4\",\"pattern\":{\"shape\":\"\"}},\"name\":\"histogram\",\"nbinsx\":80,\"offsetgroup\":\"197900\",\"orientation\":\"v\",\"showlegend\":true,\"x\":[197900,197900,197900],\"xaxis\":\"x\",\"yaxis\":\"y3\",\"type\":\"histogram\"},{\"alignmentgroup\":\"True\",\"bingroup\":\"x\",\"hovertemplate\":\"SalePrice=%{x}<br>count=%{y}<extra></extra>\",\"legendgroup\":\"402000\",\"marker\":{\"color\":\"#1f77b4\",\"pattern\":{\"shape\":\"\"}},\"name\":\"histogram\",\"nbinsx\":80,\"offsetgroup\":\"402000\",\"orientation\":\"v\",\"showlegend\":true,\"x\":[402000],\"xaxis\":\"x\",\"yaxis\":\"y3\",\"type\":\"histogram\"},{\"alignmentgroup\":\"True\",\"bingroup\":\"x\",\"hovertemplate\":\"SalePrice=%{x}<br>count=%{y}<extra></extra>\",\"legendgroup\":\"423000\",\"marker\":{\"color\":\"#1f77b4\",\"pattern\":{\"shape\":\"\"}},\"name\":\"histogram\",\"nbinsx\":80,\"offsetgroup\":\"423000\",\"orientation\":\"v\",\"showlegend\":true,\"x\":[423000],\"xaxis\":\"x\",\"yaxis\":\"y3\",\"type\":\"histogram\"},{\"alignmentgroup\":\"True\",\"bingroup\":\"x\",\"hovertemplate\":\"SalePrice=%{x}<br>count=%{y}<extra></extra>\",\"legendgroup\":\"230500\",\"marker\":{\"color\":\"#1f77b4\",\"pattern\":{\"shape\":\"\"}},\"name\":\"histogram\",\"nbinsx\":80,\"offsetgroup\":\"230500\",\"orientation\":\"v\",\"showlegend\":true,\"x\":[230500],\"xaxis\":\"x\",\"yaxis\":\"y3\",\"type\":\"histogram\"},{\"alignmentgroup\":\"True\",\"bingroup\":\"x\",\"hovertemplate\":\"SalePrice=%{x}<br>count=%{y}<extra></extra>\",\"legendgroup\":\"173500\",\"marker\":{\"color\":\"#1f77b4\",\"pattern\":{\"shape\":\"\"}},\"name\":\"histogram\",\"nbinsx\":80,\"offsetgroup\":\"173500\",\"orientation\":\"v\",\"showlegend\":true,\"x\":[173500],\"xaxis\":\"x\",\"yaxis\":\"y3\",\"type\":\"histogram\"},{\"alignmentgroup\":\"True\",\"bingroup\":\"x\",\"hovertemplate\":\"SalePrice=%{x}<br>count=%{y}<extra></extra>\",\"legendgroup\":\"103600\",\"marker\":{\"color\":\"#1f77b4\",\"pattern\":{\"shape\":\"\"}},\"name\":\"histogram\",\"nbinsx\":80,\"offsetgroup\":\"103600\",\"orientation\":\"v\",\"showlegend\":true,\"x\":[103600],\"xaxis\":\"x\",\"yaxis\":\"y3\",\"type\":\"histogram\"},{\"alignmentgroup\":\"True\",\"bingroup\":\"x\",\"hovertemplate\":\"SalePrice=%{x}<br>count=%{y}<extra></extra>\",\"legendgroup\":\"257500\",\"marker\":{\"color\":\"#1f77b4\",\"pattern\":{\"shape\":\"\"}},\"name\":\"histogram\",\"nbinsx\":80,\"offsetgroup\":\"257500\",\"orientation\":\"v\",\"showlegend\":true,\"x\":[257500],\"xaxis\":\"x\",\"yaxis\":\"y3\",\"type\":\"histogram\"},{\"alignmentgroup\":\"True\",\"bingroup\":\"x\",\"hovertemplate\":\"SalePrice=%{x}<br>count=%{y}<extra></extra>\",\"legendgroup\":\"372500\",\"marker\":{\"color\":\"#1f77b4\",\"pattern\":{\"shape\":\"\"}},\"name\":\"histogram\",\"nbinsx\":80,\"offsetgroup\":\"372500\",\"orientation\":\"v\",\"showlegend\":true,\"x\":[372500],\"xaxis\":\"x\",\"yaxis\":\"y3\",\"type\":\"histogram\"},{\"alignmentgroup\":\"True\",\"bingroup\":\"x\",\"hovertemplate\":\"SalePrice=%{x}<br>count=%{y}<extra></extra>\",\"legendgroup\":\"159434\",\"marker\":{\"color\":\"#1f77b4\",\"pattern\":{\"shape\":\"\"}},\"name\":\"histogram\",\"nbinsx\":80,\"offsetgroup\":\"159434\",\"orientation\":\"v\",\"showlegend\":true,\"x\":[159434],\"xaxis\":\"x\",\"yaxis\":\"y3\",\"type\":\"histogram\"},{\"alignmentgroup\":\"True\",\"bingroup\":\"x\",\"hovertemplate\":\"SalePrice=%{x}<br>count=%{y}<extra></extra>\",\"legendgroup\":\"285000\",\"marker\":{\"color\":\"#1f77b4\",\"pattern\":{\"shape\":\"\"}},\"name\":\"histogram\",\"nbinsx\":80,\"offsetgroup\":\"285000\",\"orientation\":\"v\",\"showlegend\":true,\"x\":[285000,285000,285000],\"xaxis\":\"x\",\"yaxis\":\"y3\",\"type\":\"histogram\"},{\"alignmentgroup\":\"True\",\"bingroup\":\"x\",\"hovertemplate\":\"SalePrice=%{x}<br>count=%{y}<extra></extra>\",\"legendgroup\":\"227875\",\"marker\":{\"color\":\"#1f77b4\",\"pattern\":{\"shape\":\"\"}},\"name\":\"histogram\",\"nbinsx\":80,\"offsetgroup\":\"227875\",\"orientation\":\"v\",\"showlegend\":true,\"x\":[227875],\"xaxis\":\"x\",\"yaxis\":\"y3\",\"type\":\"histogram\"},{\"alignmentgroup\":\"True\",\"bingroup\":\"x\",\"hovertemplate\":\"SalePrice=%{x}<br>count=%{y}<extra></extra>\",\"legendgroup\":\"148800\",\"marker\":{\"color\":\"#1f77b4\",\"pattern\":{\"shape\":\"\"}},\"name\":\"histogram\",\"nbinsx\":80,\"offsetgroup\":\"148800\",\"orientation\":\"v\",\"showlegend\":true,\"x\":[148800],\"xaxis\":\"x\",\"yaxis\":\"y3\",\"type\":\"histogram\"},{\"alignmentgroup\":\"True\",\"bingroup\":\"x\",\"hovertemplate\":\"SalePrice=%{x}<br>count=%{y}<extra></extra>\",\"legendgroup\":\"392000\",\"marker\":{\"color\":\"#1f77b4\",\"pattern\":{\"shape\":\"\"}},\"name\":\"histogram\",\"nbinsx\":80,\"offsetgroup\":\"392000\",\"orientation\":\"v\",\"showlegend\":true,\"x\":[392000],\"xaxis\":\"x\",\"yaxis\":\"y3\",\"type\":\"histogram\"},{\"alignmentgroup\":\"True\",\"bingroup\":\"x\",\"hovertemplate\":\"SalePrice=%{x}<br>count=%{y}<extra></extra>\",\"legendgroup\":\"194700\",\"marker\":{\"color\":\"#1f77b4\",\"pattern\":{\"shape\":\"\"}},\"name\":\"histogram\",\"nbinsx\":80,\"offsetgroup\":\"194700\",\"orientation\":\"v\",\"showlegend\":true,\"x\":[194700],\"xaxis\":\"x\",\"yaxis\":\"y3\",\"type\":\"histogram\"},{\"alignmentgroup\":\"True\",\"bingroup\":\"x\",\"hovertemplate\":\"SalePrice=%{x}<br>count=%{y}<extra></extra>\",\"legendgroup\":\"755000\",\"marker\":{\"color\":\"#1f77b4\",\"pattern\":{\"shape\":\"\"}},\"name\":\"histogram\",\"nbinsx\":80,\"offsetgroup\":\"755000\",\"orientation\":\"v\",\"showlegend\":true,\"x\":[755000],\"xaxis\":\"x\",\"yaxis\":\"y3\",\"type\":\"histogram\"},{\"alignmentgroup\":\"True\",\"bingroup\":\"x\",\"hovertemplate\":\"SalePrice=%{x}<br>count=%{y}<extra></extra>\",\"legendgroup\":\"335000\",\"marker\":{\"color\":\"#1f77b4\",\"pattern\":{\"shape\":\"\"}},\"name\":\"histogram\",\"nbinsx\":80,\"offsetgroup\":\"335000\",\"orientation\":\"v\",\"showlegend\":true,\"x\":[335000,335000,335000],\"xaxis\":\"x\",\"yaxis\":\"y3\",\"type\":\"histogram\"},{\"alignmentgroup\":\"True\",\"bingroup\":\"x\",\"hovertemplate\":\"SalePrice=%{x}<br>count=%{y}<extra></extra>\",\"legendgroup\":\"108480\",\"marker\":{\"color\":\"#1f77b4\",\"pattern\":{\"shape\":\"\"}},\"name\":\"histogram\",\"nbinsx\":80,\"offsetgroup\":\"108480\",\"orientation\":\"v\",\"showlegend\":true,\"x\":[108480],\"xaxis\":\"x\",\"yaxis\":\"y3\",\"type\":\"histogram\"},{\"alignmentgroup\":\"True\",\"bingroup\":\"x\",\"hovertemplate\":\"SalePrice=%{x}<br>count=%{y}<extra></extra>\",\"legendgroup\":\"141500\",\"marker\":{\"color\":\"#1f77b4\",\"pattern\":{\"shape\":\"\"}},\"name\":\"histogram\",\"nbinsx\":80,\"offsetgroup\":\"141500\",\"orientation\":\"v\",\"showlegend\":true,\"x\":[141500],\"xaxis\":\"x\",\"yaxis\":\"y3\",\"type\":\"histogram\"},{\"alignmentgroup\":\"True\",\"bingroup\":\"x\",\"hovertemplate\":\"SalePrice=%{x}<br>count=%{y}<extra></extra>\",\"legendgroup\":\"89000\",\"marker\":{\"color\":\"#1f77b4\",\"pattern\":{\"shape\":\"\"}},\"name\":\"histogram\",\"nbinsx\":80,\"offsetgroup\":\"89000\",\"orientation\":\"v\",\"showlegend\":true,\"x\":[89000],\"xaxis\":\"x\",\"yaxis\":\"y3\",\"type\":\"histogram\"},{\"alignmentgroup\":\"True\",\"bingroup\":\"x\",\"hovertemplate\":\"SalePrice=%{x}<br>count=%{y}<extra></extra>\",\"legendgroup\":\"123500\",\"marker\":{\"color\":\"#1f77b4\",\"pattern\":{\"shape\":\"\"}},\"name\":\"histogram\",\"nbinsx\":80,\"offsetgroup\":\"123500\",\"orientation\":\"v\",\"showlegend\":true,\"x\":[123500],\"xaxis\":\"x\",\"yaxis\":\"y3\",\"type\":\"histogram\"},{\"alignmentgroup\":\"True\",\"bingroup\":\"x\",\"hovertemplate\":\"SalePrice=%{x}<br>count=%{y}<extra></extra>\",\"legendgroup\":\"138500\",\"marker\":{\"color\":\"#1f77b4\",\"pattern\":{\"shape\":\"\"}},\"name\":\"histogram\",\"nbinsx\":80,\"offsetgroup\":\"138500\",\"orientation\":\"v\",\"showlegend\":true,\"x\":[138500,138500],\"xaxis\":\"x\",\"yaxis\":\"y3\",\"type\":\"histogram\"},{\"alignmentgroup\":\"True\",\"bingroup\":\"x\",\"hovertemplate\":\"SalePrice=%{x}<br>count=%{y}<extra></extra>\",\"legendgroup\":\"196000\",\"marker\":{\"color\":\"#1f77b4\",\"pattern\":{\"shape\":\"\"}},\"name\":\"histogram\",\"nbinsx\":80,\"offsetgroup\":\"196000\",\"orientation\":\"v\",\"showlegend\":true,\"x\":[196000,196000,196000],\"xaxis\":\"x\",\"yaxis\":\"y3\",\"type\":\"histogram\"},{\"alignmentgroup\":\"True\",\"bingroup\":\"x\",\"hovertemplate\":\"SalePrice=%{x}<br>count=%{y}<extra></extra>\",\"legendgroup\":\"312500\",\"marker\":{\"color\":\"#1f77b4\",\"pattern\":{\"shape\":\"\"}},\"name\":\"histogram\",\"nbinsx\":80,\"offsetgroup\":\"312500\",\"orientation\":\"v\",\"showlegend\":true,\"x\":[312500],\"xaxis\":\"x\",\"yaxis\":\"y3\",\"type\":\"histogram\"},{\"alignmentgroup\":\"True\",\"bingroup\":\"x\",\"hovertemplate\":\"SalePrice=%{x}<br>count=%{y}<extra></extra>\",\"legendgroup\":\"361919\",\"marker\":{\"color\":\"#1f77b4\",\"pattern\":{\"shape\":\"\"}},\"name\":\"histogram\",\"nbinsx\":80,\"offsetgroup\":\"361919\",\"orientation\":\"v\",\"showlegend\":true,\"x\":[361919],\"xaxis\":\"x\",\"yaxis\":\"y3\",\"type\":\"histogram\"},{\"alignmentgroup\":\"True\",\"bingroup\":\"x\",\"hovertemplate\":\"SalePrice=%{x}<br>count=%{y}<extra></extra>\",\"legendgroup\":\"213000\",\"marker\":{\"color\":\"#1f77b4\",\"pattern\":{\"shape\":\"\"}},\"name\":\"histogram\",\"nbinsx\":80,\"offsetgroup\":\"213000\",\"orientation\":\"v\",\"showlegend\":true,\"x\":[213000,213000,213000],\"xaxis\":\"x\",\"yaxis\":\"y3\",\"type\":\"histogram\"},{\"alignmentgroup\":\"True\",\"bingroup\":\"x\",\"hovertemplate\":\"SalePrice=%{x}<br>count=%{y}<extra></extra>\",\"legendgroup\":\"55000\",\"marker\":{\"color\":\"#1f77b4\",\"pattern\":{\"shape\":\"\"}},\"name\":\"histogram\",\"nbinsx\":80,\"offsetgroup\":\"55000\",\"orientation\":\"v\",\"showlegend\":true,\"x\":[55000,55000],\"xaxis\":\"x\",\"yaxis\":\"y3\",\"type\":\"histogram\"},{\"alignmentgroup\":\"True\",\"bingroup\":\"x\",\"hovertemplate\":\"SalePrice=%{x}<br>count=%{y}<extra></extra>\",\"legendgroup\":\"302000\",\"marker\":{\"color\":\"#1f77b4\",\"pattern\":{\"shape\":\"\"}},\"name\":\"histogram\",\"nbinsx\":80,\"offsetgroup\":\"302000\",\"orientation\":\"v\",\"showlegend\":true,\"x\":[302000,302000],\"xaxis\":\"x\",\"yaxis\":\"y3\",\"type\":\"histogram\"},{\"alignmentgroup\":\"True\",\"bingroup\":\"x\",\"hovertemplate\":\"SalePrice=%{x}<br>count=%{y}<extra></extra>\",\"legendgroup\":\"254000\",\"marker\":{\"color\":\"#1f77b4\",\"pattern\":{\"shape\":\"\"}},\"name\":\"histogram\",\"nbinsx\":80,\"offsetgroup\":\"254000\",\"orientation\":\"v\",\"showlegend\":true,\"x\":[254000],\"xaxis\":\"x\",\"yaxis\":\"y3\",\"type\":\"histogram\"},{\"alignmentgroup\":\"True\",\"bingroup\":\"x\",\"hovertemplate\":\"SalePrice=%{x}<br>count=%{y}<extra></extra>\",\"legendgroup\":\"179540\",\"marker\":{\"color\":\"#1f77b4\",\"pattern\":{\"shape\":\"\"}},\"name\":\"histogram\",\"nbinsx\":80,\"offsetgroup\":\"179540\",\"orientation\":\"v\",\"showlegend\":true,\"x\":[179540],\"xaxis\":\"x\",\"yaxis\":\"y3\",\"type\":\"histogram\"},{\"alignmentgroup\":\"True\",\"bingroup\":\"x\",\"hovertemplate\":\"SalePrice=%{x}<br>count=%{y}<extra></extra>\",\"legendgroup\":\"52000\",\"marker\":{\"color\":\"#1f77b4\",\"pattern\":{\"shape\":\"\"}},\"name\":\"histogram\",\"nbinsx\":80,\"offsetgroup\":\"52000\",\"orientation\":\"v\",\"showlegend\":true,\"x\":[52000],\"xaxis\":\"x\",\"yaxis\":\"y3\",\"type\":\"histogram\"},{\"alignmentgroup\":\"True\",\"bingroup\":\"x\",\"hovertemplate\":\"SalePrice=%{x}<br>count=%{y}<extra></extra>\",\"legendgroup\":\"102776\",\"marker\":{\"color\":\"#1f77b4\",\"pattern\":{\"shape\":\"\"}},\"name\":\"histogram\",\"nbinsx\":80,\"offsetgroup\":\"102776\",\"orientation\":\"v\",\"showlegend\":true,\"x\":[102776],\"xaxis\":\"x\",\"yaxis\":\"y3\",\"type\":\"histogram\"},{\"alignmentgroup\":\"True\",\"bingroup\":\"x\",\"hovertemplate\":\"SalePrice=%{x}<br>count=%{y}<extra></extra>\",\"legendgroup\":\"189000\",\"marker\":{\"color\":\"#1f77b4\",\"pattern\":{\"shape\":\"\"}},\"name\":\"histogram\",\"nbinsx\":80,\"offsetgroup\":\"189000\",\"orientation\":\"v\",\"showlegend\":true,\"x\":[189000,189000,189000,189000,189000,189000],\"xaxis\":\"x\",\"yaxis\":\"y3\",\"type\":\"histogram\"},{\"alignmentgroup\":\"True\",\"bingroup\":\"x\",\"hovertemplate\":\"SalePrice=%{x}<br>count=%{y}<extra></extra>\",\"legendgroup\":\"130500\",\"marker\":{\"color\":\"#1f77b4\",\"pattern\":{\"shape\":\"\"}},\"name\":\"histogram\",\"nbinsx\":80,\"offsetgroup\":\"130500\",\"orientation\":\"v\",\"showlegend\":true,\"x\":[130500,130500,130500],\"xaxis\":\"x\",\"yaxis\":\"y3\",\"type\":\"histogram\"},{\"alignmentgroup\":\"True\",\"bingroup\":\"x\",\"hovertemplate\":\"SalePrice=%{x}<br>count=%{y}<extra></extra>\",\"legendgroup\":\"159500\",\"marker\":{\"color\":\"#1f77b4\",\"pattern\":{\"shape\":\"\"}},\"name\":\"histogram\",\"nbinsx\":80,\"offsetgroup\":\"159500\",\"orientation\":\"v\",\"showlegend\":true,\"x\":[159500,159500,159500],\"xaxis\":\"x\",\"yaxis\":\"y3\",\"type\":\"histogram\"},{\"alignmentgroup\":\"True\",\"bingroup\":\"x\",\"hovertemplate\":\"SalePrice=%{x}<br>count=%{y}<extra></extra>\",\"legendgroup\":\"341000\",\"marker\":{\"color\":\"#1f77b4\",\"pattern\":{\"shape\":\"\"}},\"name\":\"histogram\",\"nbinsx\":80,\"offsetgroup\":\"341000\",\"orientation\":\"v\",\"showlegend\":true,\"x\":[341000],\"xaxis\":\"x\",\"yaxis\":\"y3\",\"type\":\"histogram\"},{\"alignmentgroup\":\"True\",\"bingroup\":\"x\",\"hovertemplate\":\"SalePrice=%{x}<br>count=%{y}<extra></extra>\",\"legendgroup\":\"103000\",\"marker\":{\"color\":\"#1f77b4\",\"pattern\":{\"shape\":\"\"}},\"name\":\"histogram\",\"nbinsx\":80,\"offsetgroup\":\"103000\",\"orientation\":\"v\",\"showlegend\":true,\"x\":[103000],\"xaxis\":\"x\",\"yaxis\":\"y3\",\"type\":\"histogram\"},{\"alignmentgroup\":\"True\",\"bingroup\":\"x\",\"hovertemplate\":\"SalePrice=%{x}<br>count=%{y}<extra></extra>\",\"legendgroup\":\"236500\",\"marker\":{\"color\":\"#1f77b4\",\"pattern\":{\"shape\":\"\"}},\"name\":\"histogram\",\"nbinsx\":80,\"offsetgroup\":\"236500\",\"orientation\":\"v\",\"showlegend\":true,\"x\":[236500,236500],\"xaxis\":\"x\",\"yaxis\":\"y3\",\"type\":\"histogram\"},{\"alignmentgroup\":\"True\",\"bingroup\":\"x\",\"hovertemplate\":\"SalePrice=%{x}<br>count=%{y}<extra></extra>\",\"legendgroup\":\"131400\",\"marker\":{\"color\":\"#1f77b4\",\"pattern\":{\"shape\":\"\"}},\"name\":\"histogram\",\"nbinsx\":80,\"offsetgroup\":\"131400\",\"orientation\":\"v\",\"showlegend\":true,\"x\":[131400],\"xaxis\":\"x\",\"yaxis\":\"y3\",\"type\":\"histogram\"},{\"alignmentgroup\":\"True\",\"bingroup\":\"x\",\"hovertemplate\":\"SalePrice=%{x}<br>count=%{y}<extra></extra>\",\"legendgroup\":\"93500\",\"marker\":{\"color\":\"#1f77b4\",\"pattern\":{\"shape\":\"\"}},\"name\":\"histogram\",\"nbinsx\":80,\"offsetgroup\":\"93500\",\"orientation\":\"v\",\"showlegend\":true,\"x\":[93500,93500],\"xaxis\":\"x\",\"yaxis\":\"y3\",\"type\":\"histogram\"},{\"alignmentgroup\":\"True\",\"bingroup\":\"x\",\"hovertemplate\":\"SalePrice=%{x}<br>count=%{y}<extra></extra>\",\"legendgroup\":\"239900\",\"marker\":{\"color\":\"#1f77b4\",\"pattern\":{\"shape\":\"\"}},\"name\":\"histogram\",\"nbinsx\":80,\"offsetgroup\":\"239900\",\"orientation\":\"v\",\"showlegend\":true,\"x\":[239900],\"xaxis\":\"x\",\"yaxis\":\"y3\",\"type\":\"histogram\"},{\"alignmentgroup\":\"True\",\"bingroup\":\"x\",\"hovertemplate\":\"SalePrice=%{x}<br>count=%{y}<extra></extra>\",\"legendgroup\":\"299800\",\"marker\":{\"color\":\"#1f77b4\",\"pattern\":{\"shape\":\"\"}},\"name\":\"histogram\",\"nbinsx\":80,\"offsetgroup\":\"299800\",\"orientation\":\"v\",\"showlegend\":true,\"x\":[299800],\"xaxis\":\"x\",\"yaxis\":\"y3\",\"type\":\"histogram\"},{\"alignmentgroup\":\"True\",\"bingroup\":\"x\",\"hovertemplate\":\"SalePrice=%{x}<br>count=%{y}<extra></extra>\",\"legendgroup\":\"236000\",\"marker\":{\"color\":\"#1f77b4\",\"pattern\":{\"shape\":\"\"}},\"name\":\"histogram\",\"nbinsx\":80,\"offsetgroup\":\"236000\",\"orientation\":\"v\",\"showlegend\":true,\"x\":[236000,236000],\"xaxis\":\"x\",\"yaxis\":\"y3\",\"type\":\"histogram\"},{\"alignmentgroup\":\"True\",\"bingroup\":\"x\",\"hovertemplate\":\"SalePrice=%{x}<br>count=%{y}<extra></extra>\",\"legendgroup\":\"265979\",\"marker\":{\"color\":\"#1f77b4\",\"pattern\":{\"shape\":\"\"}},\"name\":\"histogram\",\"nbinsx\":80,\"offsetgroup\":\"265979\",\"orientation\":\"v\",\"showlegend\":true,\"x\":[265979],\"xaxis\":\"x\",\"yaxis\":\"y3\",\"type\":\"histogram\"},{\"alignmentgroup\":\"True\",\"bingroup\":\"x\",\"hovertemplate\":\"SalePrice=%{x}<br>count=%{y}<extra></extra>\",\"legendgroup\":\"260400\",\"marker\":{\"color\":\"#1f77b4\",\"pattern\":{\"shape\":\"\"}},\"name\":\"histogram\",\"nbinsx\":80,\"offsetgroup\":\"260400\",\"orientation\":\"v\",\"showlegend\":true,\"x\":[260400],\"xaxis\":\"x\",\"yaxis\":\"y3\",\"type\":\"histogram\"},{\"alignmentgroup\":\"True\",\"bingroup\":\"x\",\"hovertemplate\":\"SalePrice=%{x}<br>count=%{y}<extra></extra>\",\"legendgroup\":\"275500\",\"marker\":{\"color\":\"#1f77b4\",\"pattern\":{\"shape\":\"\"}},\"name\":\"histogram\",\"nbinsx\":80,\"offsetgroup\":\"275500\",\"orientation\":\"v\",\"showlegend\":true,\"x\":[275500],\"xaxis\":\"x\",\"yaxis\":\"y3\",\"type\":\"histogram\"},{\"alignmentgroup\":\"True\",\"bingroup\":\"x\",\"hovertemplate\":\"SalePrice=%{x}<br>count=%{y}<extra></extra>\",\"legendgroup\":\"158900\",\"marker\":{\"color\":\"#1f77b4\",\"pattern\":{\"shape\":\"\"}},\"name\":\"histogram\",\"nbinsx\":80,\"offsetgroup\":\"158900\",\"orientation\":\"v\",\"showlegend\":true,\"x\":[158900],\"xaxis\":\"x\",\"yaxis\":\"y3\",\"type\":\"histogram\"},{\"alignmentgroup\":\"True\",\"bingroup\":\"x\",\"hovertemplate\":\"SalePrice=%{x}<br>count=%{y}<extra></extra>\",\"legendgroup\":\"179400\",\"marker\":{\"color\":\"#1f77b4\",\"pattern\":{\"shape\":\"\"}},\"name\":\"histogram\",\"nbinsx\":80,\"offsetgroup\":\"179400\",\"orientation\":\"v\",\"showlegend\":true,\"x\":[179400],\"xaxis\":\"x\",\"yaxis\":\"y3\",\"type\":\"histogram\"},{\"alignmentgroup\":\"True\",\"bingroup\":\"x\",\"hovertemplate\":\"SalePrice=%{x}<br>count=%{y}<extra></extra>\",\"legendgroup\":\"215200\",\"marker\":{\"color\":\"#1f77b4\",\"pattern\":{\"shape\":\"\"}},\"name\":\"histogram\",\"nbinsx\":80,\"offsetgroup\":\"215200\",\"orientation\":\"v\",\"showlegend\":true,\"x\":[215200],\"xaxis\":\"x\",\"yaxis\":\"y3\",\"type\":\"histogram\"},{\"alignmentgroup\":\"True\",\"bingroup\":\"x\",\"hovertemplate\":\"SalePrice=%{x}<br>count=%{y}<extra></extra>\",\"legendgroup\":\"337000\",\"marker\":{\"color\":\"#1f77b4\",\"pattern\":{\"shape\":\"\"}},\"name\":\"histogram\",\"nbinsx\":80,\"offsetgroup\":\"337000\",\"orientation\":\"v\",\"showlegend\":true,\"x\":[337000],\"xaxis\":\"x\",\"yaxis\":\"y3\",\"type\":\"histogram\"},{\"alignmentgroup\":\"True\",\"bingroup\":\"x\",\"hovertemplate\":\"SalePrice=%{x}<br>count=%{y}<extra></extra>\",\"legendgroup\":\"264132\",\"marker\":{\"color\":\"#1f77b4\",\"pattern\":{\"shape\":\"\"}},\"name\":\"histogram\",\"nbinsx\":80,\"offsetgroup\":\"264132\",\"orientation\":\"v\",\"showlegend\":true,\"x\":[264132],\"xaxis\":\"x\",\"yaxis\":\"y3\",\"type\":\"histogram\"},{\"alignmentgroup\":\"True\",\"bingroup\":\"x\",\"hovertemplate\":\"SalePrice=%{x}<br>count=%{y}<extra></extra>\",\"legendgroup\":\"216837\",\"marker\":{\"color\":\"#1f77b4\",\"pattern\":{\"shape\":\"\"}},\"name\":\"histogram\",\"nbinsx\":80,\"offsetgroup\":\"216837\",\"orientation\":\"v\",\"showlegend\":true,\"x\":[216837],\"xaxis\":\"x\",\"yaxis\":\"y3\",\"type\":\"histogram\"},{\"alignmentgroup\":\"True\",\"bingroup\":\"x\",\"hovertemplate\":\"SalePrice=%{x}<br>count=%{y}<extra></extra>\",\"legendgroup\":\"538000\",\"marker\":{\"color\":\"#1f77b4\",\"pattern\":{\"shape\":\"\"}},\"name\":\"histogram\",\"nbinsx\":80,\"offsetgroup\":\"538000\",\"orientation\":\"v\",\"showlegend\":true,\"x\":[538000],\"xaxis\":\"x\",\"yaxis\":\"y3\",\"type\":\"histogram\"},{\"alignmentgroup\":\"True\",\"bingroup\":\"x\",\"hovertemplate\":\"SalePrice=%{x}<br>count=%{y}<extra></extra>\",\"legendgroup\":\"134900\",\"marker\":{\"color\":\"#1f77b4\",\"pattern\":{\"shape\":\"\"}},\"name\":\"histogram\",\"nbinsx\":80,\"offsetgroup\":\"134900\",\"orientation\":\"v\",\"showlegend\":true,\"x\":[134900,134900],\"xaxis\":\"x\",\"yaxis\":\"y3\",\"type\":\"histogram\"},{\"alignmentgroup\":\"True\",\"bingroup\":\"x\",\"hovertemplate\":\"SalePrice=%{x}<br>count=%{y}<extra></extra>\",\"legendgroup\":\"102000\",\"marker\":{\"color\":\"#1f77b4\",\"pattern\":{\"shape\":\"\"}},\"name\":\"histogram\",\"nbinsx\":80,\"offsetgroup\":\"102000\",\"orientation\":\"v\",\"showlegend\":true,\"x\":[102000,102000,102000],\"xaxis\":\"x\",\"yaxis\":\"y3\",\"type\":\"histogram\"},{\"alignmentgroup\":\"True\",\"bingroup\":\"x\",\"hovertemplate\":\"SalePrice=%{x}<br>count=%{y}<extra></extra>\",\"legendgroup\":\"395000\",\"marker\":{\"color\":\"#1f77b4\",\"pattern\":{\"shape\":\"\"}},\"name\":\"histogram\",\"nbinsx\":80,\"offsetgroup\":\"395000\",\"orientation\":\"v\",\"showlegend\":true,\"x\":[395000],\"xaxis\":\"x\",\"yaxis\":\"y3\",\"type\":\"histogram\"},{\"alignmentgroup\":\"True\",\"bingroup\":\"x\",\"hovertemplate\":\"SalePrice=%{x}<br>count=%{y}<extra></extra>\",\"legendgroup\":\"221500\",\"marker\":{\"color\":\"#1f77b4\",\"pattern\":{\"shape\":\"\"}},\"name\":\"histogram\",\"nbinsx\":80,\"offsetgroup\":\"221500\",\"orientation\":\"v\",\"showlegend\":true,\"x\":[221500],\"xaxis\":\"x\",\"yaxis\":\"y3\",\"type\":\"histogram\"},{\"alignmentgroup\":\"True\",\"bingroup\":\"x\",\"hovertemplate\":\"SalePrice=%{x}<br>count=%{y}<extra></extra>\",\"legendgroup\":\"175900\",\"marker\":{\"color\":\"#1f77b4\",\"pattern\":{\"shape\":\"\"}},\"name\":\"histogram\",\"nbinsx\":80,\"offsetgroup\":\"175900\",\"orientation\":\"v\",\"showlegend\":true,\"x\":[175900,175900],\"xaxis\":\"x\",\"yaxis\":\"y3\",\"type\":\"histogram\"},{\"alignmentgroup\":\"True\",\"bingroup\":\"x\",\"hovertemplate\":\"SalePrice=%{x}<br>count=%{y}<extra></extra>\",\"legendgroup\":\"187100\",\"marker\":{\"color\":\"#1f77b4\",\"pattern\":{\"shape\":\"\"}},\"name\":\"histogram\",\"nbinsx\":80,\"offsetgroup\":\"187100\",\"orientation\":\"v\",\"showlegend\":true,\"x\":[187100],\"xaxis\":\"x\",\"yaxis\":\"y3\",\"type\":\"histogram\"},{\"alignmentgroup\":\"True\",\"bingroup\":\"x\",\"hovertemplate\":\"SalePrice=%{x}<br>count=%{y}<extra></extra>\",\"legendgroup\":\"161500\",\"marker\":{\"color\":\"#1f77b4\",\"pattern\":{\"shape\":\"\"}},\"name\":\"histogram\",\"nbinsx\":80,\"offsetgroup\":\"161500\",\"orientation\":\"v\",\"showlegend\":true,\"x\":[161500,161500],\"xaxis\":\"x\",\"yaxis\":\"y3\",\"type\":\"histogram\"},{\"alignmentgroup\":\"True\",\"bingroup\":\"x\",\"hovertemplate\":\"SalePrice=%{x}<br>count=%{y}<extra></extra>\",\"legendgroup\":\"233000\",\"marker\":{\"color\":\"#1f77b4\",\"pattern\":{\"shape\":\"\"}},\"name\":\"histogram\",\"nbinsx\":80,\"offsetgroup\":\"233000\",\"orientation\":\"v\",\"showlegend\":true,\"x\":[233000],\"xaxis\":\"x\",\"yaxis\":\"y3\",\"type\":\"histogram\"},{\"alignmentgroup\":\"True\",\"bingroup\":\"x\",\"hovertemplate\":\"SalePrice=%{x}<br>count=%{y}<extra></extra>\",\"legendgroup\":\"107900\",\"marker\":{\"color\":\"#1f77b4\",\"pattern\":{\"shape\":\"\"}},\"name\":\"histogram\",\"nbinsx\":80,\"offsetgroup\":\"107900\",\"orientation\":\"v\",\"showlegend\":true,\"x\":[107900],\"xaxis\":\"x\",\"yaxis\":\"y3\",\"type\":\"histogram\"},{\"alignmentgroup\":\"True\",\"bingroup\":\"x\",\"hovertemplate\":\"SalePrice=%{x}<br>count=%{y}<extra></extra>\",\"legendgroup\":\"160200\",\"marker\":{\"color\":\"#1f77b4\",\"pattern\":{\"shape\":\"\"}},\"name\":\"histogram\",\"nbinsx\":80,\"offsetgroup\":\"160200\",\"orientation\":\"v\",\"showlegend\":true,\"x\":[160200],\"xaxis\":\"x\",\"yaxis\":\"y3\",\"type\":\"histogram\"},{\"alignmentgroup\":\"True\",\"bingroup\":\"x\",\"hovertemplate\":\"SalePrice=%{x}<br>count=%{y}<extra></extra>\",\"legendgroup\":\"146800\",\"marker\":{\"color\":\"#1f77b4\",\"pattern\":{\"shape\":\"\"}},\"name\":\"histogram\",\"nbinsx\":80,\"offsetgroup\":\"146800\",\"orientation\":\"v\",\"showlegend\":true,\"x\":[146800],\"xaxis\":\"x\",\"yaxis\":\"y3\",\"type\":\"histogram\"},{\"alignmentgroup\":\"True\",\"bingroup\":\"x\",\"hovertemplate\":\"SalePrice=%{x}<br>count=%{y}<extra></extra>\",\"legendgroup\":\"269790\",\"marker\":{\"color\":\"#1f77b4\",\"pattern\":{\"shape\":\"\"}},\"name\":\"histogram\",\"nbinsx\":80,\"offsetgroup\":\"269790\",\"orientation\":\"v\",\"showlegend\":true,\"x\":[269790],\"xaxis\":\"x\",\"yaxis\":\"y3\",\"type\":\"histogram\"},{\"alignmentgroup\":\"True\",\"bingroup\":\"x\",\"hovertemplate\":\"SalePrice=%{x}<br>count=%{y}<extra></extra>\",\"legendgroup\":\"143500\",\"marker\":{\"color\":\"#1f77b4\",\"pattern\":{\"shape\":\"\"}},\"name\":\"histogram\",\"nbinsx\":80,\"offsetgroup\":\"143500\",\"orientation\":\"v\",\"showlegend\":true,\"x\":[143500,143500],\"xaxis\":\"x\",\"yaxis\":\"y3\",\"type\":\"histogram\"},{\"alignmentgroup\":\"True\",\"bingroup\":\"x\",\"hovertemplate\":\"SalePrice=%{x}<br>count=%{y}<extra></extra>\",\"legendgroup\":\"485000\",\"marker\":{\"color\":\"#1f77b4\",\"pattern\":{\"shape\":\"\"}},\"name\":\"histogram\",\"nbinsx\":80,\"offsetgroup\":\"485000\",\"orientation\":\"v\",\"showlegend\":true,\"x\":[485000],\"xaxis\":\"x\",\"yaxis\":\"y3\",\"type\":\"histogram\"},{\"alignmentgroup\":\"True\",\"bingroup\":\"x\",\"hovertemplate\":\"SalePrice=%{x}<br>count=%{y}<extra></extra>\",\"legendgroup\":\"582933\",\"marker\":{\"color\":\"#1f77b4\",\"pattern\":{\"shape\":\"\"}},\"name\":\"histogram\",\"nbinsx\":80,\"offsetgroup\":\"582933\",\"orientation\":\"v\",\"showlegend\":true,\"x\":[582933],\"xaxis\":\"x\",\"yaxis\":\"y3\",\"type\":\"histogram\"},{\"alignmentgroup\":\"True\",\"bingroup\":\"x\",\"hovertemplate\":\"SalePrice=%{x}<br>count=%{y}<extra></extra>\",\"legendgroup\":\"227680\",\"marker\":{\"color\":\"#1f77b4\",\"pattern\":{\"shape\":\"\"}},\"name\":\"histogram\",\"nbinsx\":80,\"offsetgroup\":\"227680\",\"orientation\":\"v\",\"showlegend\":true,\"x\":[227680],\"xaxis\":\"x\",\"yaxis\":\"y3\",\"type\":\"histogram\"},{\"alignmentgroup\":\"True\",\"bingroup\":\"x\",\"hovertemplate\":\"SalePrice=%{x}<br>count=%{y}<extra></extra>\",\"legendgroup\":\"135500\",\"marker\":{\"color\":\"#1f77b4\",\"pattern\":{\"shape\":\"\"}},\"name\":\"histogram\",\"nbinsx\":80,\"offsetgroup\":\"135500\",\"orientation\":\"v\",\"showlegend\":true,\"x\":[135500,135500],\"xaxis\":\"x\",\"yaxis\":\"y3\",\"type\":\"histogram\"},{\"alignmentgroup\":\"True\",\"bingroup\":\"x\",\"hovertemplate\":\"SalePrice=%{x}<br>count=%{y}<extra></extra>\",\"legendgroup\":\"159950\",\"marker\":{\"color\":\"#1f77b4\",\"pattern\":{\"shape\":\"\"}},\"name\":\"histogram\",\"nbinsx\":80,\"offsetgroup\":\"159950\",\"orientation\":\"v\",\"showlegend\":true,\"x\":[159950],\"xaxis\":\"x\",\"yaxis\":\"y3\",\"type\":\"histogram\"},{\"alignmentgroup\":\"True\",\"bingroup\":\"x\",\"hovertemplate\":\"SalePrice=%{x}<br>count=%{y}<extra></extra>\",\"legendgroup\":\"144500\",\"marker\":{\"color\":\"#1f77b4\",\"pattern\":{\"shape\":\"\"}},\"name\":\"histogram\",\"nbinsx\":80,\"offsetgroup\":\"144500\",\"orientation\":\"v\",\"showlegend\":true,\"x\":[144500,144500],\"xaxis\":\"x\",\"yaxis\":\"y3\",\"type\":\"histogram\"},{\"alignmentgroup\":\"True\",\"bingroup\":\"x\",\"hovertemplate\":\"SalePrice=%{x}<br>count=%{y}<extra></extra>\",\"legendgroup\":\"55993\",\"marker\":{\"color\":\"#1f77b4\",\"pattern\":{\"shape\":\"\"}},\"name\":\"histogram\",\"nbinsx\":80,\"offsetgroup\":\"55993\",\"orientation\":\"v\",\"showlegend\":true,\"x\":[55993],\"xaxis\":\"x\",\"yaxis\":\"y3\",\"type\":\"histogram\"},{\"alignmentgroup\":\"True\",\"bingroup\":\"x\",\"hovertemplate\":\"SalePrice=%{x}<br>count=%{y}<extra></extra>\",\"legendgroup\":\"157900\",\"marker\":{\"color\":\"#1f77b4\",\"pattern\":{\"shape\":\"\"}},\"name\":\"histogram\",\"nbinsx\":80,\"offsetgroup\":\"157900\",\"orientation\":\"v\",\"showlegend\":true,\"x\":[157900,157900],\"xaxis\":\"x\",\"yaxis\":\"y3\",\"type\":\"histogram\"},{\"alignmentgroup\":\"True\",\"bingroup\":\"x\",\"hovertemplate\":\"SalePrice=%{x}<br>count=%{y}<extra></extra>\",\"legendgroup\":\"224900\",\"marker\":{\"color\":\"#1f77b4\",\"pattern\":{\"shape\":\"\"}},\"name\":\"histogram\",\"nbinsx\":80,\"offsetgroup\":\"224900\",\"orientation\":\"v\",\"showlegend\":true,\"x\":[224900,224900],\"xaxis\":\"x\",\"yaxis\":\"y3\",\"type\":\"histogram\"},{\"alignmentgroup\":\"True\",\"bingroup\":\"x\",\"hovertemplate\":\"SalePrice=%{x}<br>count=%{y}<extra></extra>\",\"legendgroup\":\"271000\",\"marker\":{\"color\":\"#1f77b4\",\"pattern\":{\"shape\":\"\"}},\"name\":\"histogram\",\"nbinsx\":80,\"offsetgroup\":\"271000\",\"orientation\":\"v\",\"showlegend\":true,\"x\":[271000,271000],\"xaxis\":\"x\",\"yaxis\":\"y3\",\"type\":\"histogram\"},{\"alignmentgroup\":\"True\",\"bingroup\":\"x\",\"hovertemplate\":\"SalePrice=%{x}<br>count=%{y}<extra></extra>\",\"legendgroup\":\"224000\",\"marker\":{\"color\":\"#1f77b4\",\"pattern\":{\"shape\":\"\"}},\"name\":\"histogram\",\"nbinsx\":80,\"offsetgroup\":\"224000\",\"orientation\":\"v\",\"showlegend\":true,\"x\":[224000,224000],\"xaxis\":\"x\",\"yaxis\":\"y3\",\"type\":\"histogram\"},{\"alignmentgroup\":\"True\",\"bingroup\":\"x\",\"hovertemplate\":\"SalePrice=%{x}<br>count=%{y}<extra></extra>\",\"legendgroup\":\"183000\",\"marker\":{\"color\":\"#1f77b4\",\"pattern\":{\"shape\":\"\"}},\"name\":\"histogram\",\"nbinsx\":80,\"offsetgroup\":\"183000\",\"orientation\":\"v\",\"showlegend\":true,\"x\":[183000],\"xaxis\":\"x\",\"yaxis\":\"y3\",\"type\":\"histogram\"},{\"alignmentgroup\":\"True\",\"bingroup\":\"x\",\"hovertemplate\":\"SalePrice=%{x}<br>count=%{y}<extra></extra>\",\"legendgroup\":\"139500\",\"marker\":{\"color\":\"#1f77b4\",\"pattern\":{\"shape\":\"\"}},\"name\":\"histogram\",\"nbinsx\":80,\"offsetgroup\":\"139500\",\"orientation\":\"v\",\"showlegend\":true,\"x\":[139500],\"xaxis\":\"x\",\"yaxis\":\"y3\",\"type\":\"histogram\"},{\"alignmentgroup\":\"True\",\"bingroup\":\"x\",\"hovertemplate\":\"SalePrice=%{x}<br>count=%{y}<extra></extra>\",\"legendgroup\":\"232600\",\"marker\":{\"color\":\"#1f77b4\",\"pattern\":{\"shape\":\"\"}},\"name\":\"histogram\",\"nbinsx\":80,\"offsetgroup\":\"232600\",\"orientation\":\"v\",\"showlegend\":true,\"x\":[232600],\"xaxis\":\"x\",\"yaxis\":\"y3\",\"type\":\"histogram\"},{\"alignmentgroup\":\"True\",\"bingroup\":\"x\",\"hovertemplate\":\"SalePrice=%{x}<br>count=%{y}<extra></extra>\",\"legendgroup\":\"147400\",\"marker\":{\"color\":\"#1f77b4\",\"pattern\":{\"shape\":\"\"}},\"name\":\"histogram\",\"nbinsx\":80,\"offsetgroup\":\"147400\",\"orientation\":\"v\",\"showlegend\":true,\"x\":[147400],\"xaxis\":\"x\",\"yaxis\":\"y3\",\"type\":\"histogram\"},{\"alignmentgroup\":\"True\",\"bingroup\":\"x\",\"hovertemplate\":\"SalePrice=%{x}<br>count=%{y}<extra></extra>\",\"legendgroup\":\"237000\",\"marker\":{\"color\":\"#1f77b4\",\"pattern\":{\"shape\":\"\"}},\"name\":\"histogram\",\"nbinsx\":80,\"offsetgroup\":\"237000\",\"orientation\":\"v\",\"showlegend\":true,\"x\":[237000,237000],\"xaxis\":\"x\",\"yaxis\":\"y3\",\"type\":\"histogram\"},{\"alignmentgroup\":\"True\",\"bingroup\":\"x\",\"hovertemplate\":\"SalePrice=%{x}<br>count=%{y}<extra></extra>\",\"legendgroup\":\"139950\",\"marker\":{\"color\":\"#1f77b4\",\"pattern\":{\"shape\":\"\"}},\"name\":\"histogram\",\"nbinsx\":80,\"offsetgroup\":\"139950\",\"orientation\":\"v\",\"showlegend\":true,\"x\":[139950],\"xaxis\":\"x\",\"yaxis\":\"y3\",\"type\":\"histogram\"},{\"alignmentgroup\":\"True\",\"bingroup\":\"x\",\"hovertemplate\":\"SalePrice=%{x}<br>count=%{y}<extra></extra>\",\"legendgroup\":\"174900\",\"marker\":{\"color\":\"#1f77b4\",\"pattern\":{\"shape\":\"\"}},\"name\":\"histogram\",\"nbinsx\":80,\"offsetgroup\":\"174900\",\"orientation\":\"v\",\"showlegend\":true,\"x\":[174900],\"xaxis\":\"x\",\"yaxis\":\"y3\",\"type\":\"histogram\"},{\"alignmentgroup\":\"True\",\"bingroup\":\"x\",\"hovertemplate\":\"SalePrice=%{x}<br>count=%{y}<extra></extra>\",\"legendgroup\":\"133500\",\"marker\":{\"color\":\"#1f77b4\",\"pattern\":{\"shape\":\"\"}},\"name\":\"histogram\",\"nbinsx\":80,\"offsetgroup\":\"133500\",\"orientation\":\"v\",\"showlegend\":true,\"x\":[133500],\"xaxis\":\"x\",\"yaxis\":\"y3\",\"type\":\"histogram\"},{\"alignmentgroup\":\"True\",\"bingroup\":\"x\",\"hovertemplate\":\"SalePrice=%{x}<br>count=%{y}<extra></extra>\",\"legendgroup\":\"189950\",\"marker\":{\"color\":\"#1f77b4\",\"pattern\":{\"shape\":\"\"}},\"name\":\"histogram\",\"nbinsx\":80,\"offsetgroup\":\"189950\",\"orientation\":\"v\",\"showlegend\":true,\"x\":[189950],\"xaxis\":\"x\",\"yaxis\":\"y3\",\"type\":\"histogram\"},{\"alignmentgroup\":\"True\",\"bingroup\":\"x\",\"hovertemplate\":\"SalePrice=%{x}<br>count=%{y}<extra></extra>\",\"legendgroup\":\"250580\",\"marker\":{\"color\":\"#1f77b4\",\"pattern\":{\"shape\":\"\"}},\"name\":\"histogram\",\"nbinsx\":80,\"offsetgroup\":\"250580\",\"orientation\":\"v\",\"showlegend\":true,\"x\":[250580],\"xaxis\":\"x\",\"yaxis\":\"y3\",\"type\":\"histogram\"},{\"alignmentgroup\":\"True\",\"bingroup\":\"x\",\"hovertemplate\":\"SalePrice=%{x}<br>count=%{y}<extra></extra>\",\"legendgroup\":\"248900\",\"marker\":{\"color\":\"#1f77b4\",\"pattern\":{\"shape\":\"\"}},\"name\":\"histogram\",\"nbinsx\":80,\"offsetgroup\":\"248900\",\"orientation\":\"v\",\"showlegend\":true,\"x\":[248900],\"xaxis\":\"x\",\"yaxis\":\"y3\",\"type\":\"histogram\"},{\"alignmentgroup\":\"True\",\"bingroup\":\"x\",\"hovertemplate\":\"SalePrice=%{x}<br>count=%{y}<extra></extra>\",\"legendgroup\":\"169000\",\"marker\":{\"color\":\"#1f77b4\",\"pattern\":{\"shape\":\"\"}},\"name\":\"histogram\",\"nbinsx\":80,\"offsetgroup\":\"169000\",\"orientation\":\"v\",\"showlegend\":true,\"x\":[169000,169000,169000],\"xaxis\":\"x\",\"yaxis\":\"y3\",\"type\":\"histogram\"},{\"alignmentgroup\":\"True\",\"bingroup\":\"x\",\"hovertemplate\":\"SalePrice=%{x}<br>count=%{y}<extra></extra>\",\"legendgroup\":\"200500\",\"marker\":{\"color\":\"#1f77b4\",\"pattern\":{\"shape\":\"\"}},\"name\":\"histogram\",\"nbinsx\":80,\"offsetgroup\":\"200500\",\"orientation\":\"v\",\"showlegend\":true,\"x\":[200500,200500],\"xaxis\":\"x\",\"yaxis\":\"y3\",\"type\":\"histogram\"},{\"alignmentgroup\":\"True\",\"bingroup\":\"x\",\"hovertemplate\":\"SalePrice=%{x}<br>count=%{y}<extra></extra>\",\"legendgroup\":\"66500\",\"marker\":{\"color\":\"#1f77b4\",\"pattern\":{\"shape\":\"\"}},\"name\":\"histogram\",\"nbinsx\":80,\"offsetgroup\":\"66500\",\"orientation\":\"v\",\"showlegend\":true,\"x\":[66500],\"xaxis\":\"x\",\"yaxis\":\"y3\",\"type\":\"histogram\"},{\"alignmentgroup\":\"True\",\"bingroup\":\"x\",\"hovertemplate\":\"SalePrice=%{x}<br>count=%{y}<extra></extra>\",\"legendgroup\":\"303477\",\"marker\":{\"color\":\"#1f77b4\",\"pattern\":{\"shape\":\"\"}},\"name\":\"histogram\",\"nbinsx\":80,\"offsetgroup\":\"303477\",\"orientation\":\"v\",\"showlegend\":true,\"x\":[303477],\"xaxis\":\"x\",\"yaxis\":\"y3\",\"type\":\"histogram\"},{\"alignmentgroup\":\"True\",\"bingroup\":\"x\",\"hovertemplate\":\"SalePrice=%{x}<br>count=%{y}<extra></extra>\",\"legendgroup\":\"132250\",\"marker\":{\"color\":\"#1f77b4\",\"pattern\":{\"shape\":\"\"}},\"name\":\"histogram\",\"nbinsx\":80,\"offsetgroup\":\"132250\",\"orientation\":\"v\",\"showlegend\":true,\"x\":[132250],\"xaxis\":\"x\",\"yaxis\":\"y3\",\"type\":\"histogram\"},{\"alignmentgroup\":\"True\",\"bingroup\":\"x\",\"hovertemplate\":\"SalePrice=%{x}<br>count=%{y}<extra></extra>\",\"legendgroup\":\"328900\",\"marker\":{\"color\":\"#1f77b4\",\"pattern\":{\"shape\":\"\"}},\"name\":\"histogram\",\"nbinsx\":80,\"offsetgroup\":\"328900\",\"orientation\":\"v\",\"showlegend\":true,\"x\":[328900],\"xaxis\":\"x\",\"yaxis\":\"y3\",\"type\":\"histogram\"},{\"alignmentgroup\":\"True\",\"bingroup\":\"x\",\"hovertemplate\":\"SalePrice=%{x}<br>count=%{y}<extra></extra>\",\"legendgroup\":\"122900\",\"marker\":{\"color\":\"#1f77b4\",\"pattern\":{\"shape\":\"\"}},\"name\":\"histogram\",\"nbinsx\":80,\"offsetgroup\":\"122900\",\"orientation\":\"v\",\"showlegend\":true,\"x\":[122900],\"xaxis\":\"x\",\"yaxis\":\"y3\",\"type\":\"histogram\"},{\"alignmentgroup\":\"True\",\"bingroup\":\"x\",\"hovertemplate\":\"SalePrice=%{x}<br>count=%{y}<extra></extra>\",\"legendgroup\":\"154500\",\"marker\":{\"color\":\"#1f77b4\",\"pattern\":{\"shape\":\"\"}},\"name\":\"histogram\",\"nbinsx\":80,\"offsetgroup\":\"154500\",\"orientation\":\"v\",\"showlegend\":true,\"x\":[154500],\"xaxis\":\"x\",\"yaxis\":\"y3\",\"type\":\"histogram\"},{\"alignmentgroup\":\"True\",\"bingroup\":\"x\",\"hovertemplate\":\"SalePrice=%{x}<br>count=%{y}<extra></extra>\",\"legendgroup\":\"118858\",\"marker\":{\"color\":\"#1f77b4\",\"pattern\":{\"shape\":\"\"}},\"name\":\"histogram\",\"nbinsx\":80,\"offsetgroup\":\"118858\",\"orientation\":\"v\",\"showlegend\":true,\"x\":[118858],\"xaxis\":\"x\",\"yaxis\":\"y3\",\"type\":\"histogram\"},{\"alignmentgroup\":\"True\",\"bingroup\":\"x\",\"hovertemplate\":\"SalePrice=%{x}<br>count=%{y}<extra></extra>\",\"legendgroup\":\"142953\",\"marker\":{\"color\":\"#1f77b4\",\"pattern\":{\"shape\":\"\"}},\"name\":\"histogram\",\"nbinsx\":80,\"offsetgroup\":\"142953\",\"orientation\":\"v\",\"showlegend\":true,\"x\":[142953],\"xaxis\":\"x\",\"yaxis\":\"y3\",\"type\":\"histogram\"},{\"alignmentgroup\":\"True\",\"bingroup\":\"x\",\"hovertemplate\":\"SalePrice=%{x}<br>count=%{y}<extra></extra>\",\"legendgroup\":\"611657\",\"marker\":{\"color\":\"#1f77b4\",\"pattern\":{\"shape\":\"\"}},\"name\":\"histogram\",\"nbinsx\":80,\"offsetgroup\":\"611657\",\"orientation\":\"v\",\"showlegend\":true,\"x\":[611657],\"xaxis\":\"x\",\"yaxis\":\"y3\",\"type\":\"histogram\"},{\"alignmentgroup\":\"True\",\"bingroup\":\"x\",\"hovertemplate\":\"SalePrice=%{x}<br>count=%{y}<extra></extra>\",\"legendgroup\":\"125500\",\"marker\":{\"color\":\"#1f77b4\",\"pattern\":{\"shape\":\"\"}},\"name\":\"histogram\",\"nbinsx\":80,\"offsetgroup\":\"125500\",\"orientation\":\"v\",\"showlegend\":true,\"x\":[125500,125500,125500,125500],\"xaxis\":\"x\",\"yaxis\":\"y3\",\"type\":\"histogram\"},{\"alignmentgroup\":\"True\",\"bingroup\":\"x\",\"hovertemplate\":\"SalePrice=%{x}<br>count=%{y}<extra></extra>\",\"legendgroup\":\"255000\",\"marker\":{\"color\":\"#1f77b4\",\"pattern\":{\"shape\":\"\"}},\"name\":\"histogram\",\"nbinsx\":80,\"offsetgroup\":\"255000\",\"orientation\":\"v\",\"showlegend\":true,\"x\":[255000,255000],\"xaxis\":\"x\",\"yaxis\":\"y3\",\"type\":\"histogram\"},{\"alignmentgroup\":\"True\",\"bingroup\":\"x\",\"hovertemplate\":\"SalePrice=%{x}<br>count=%{y}<extra></extra>\",\"legendgroup\":\"154300\",\"marker\":{\"color\":\"#1f77b4\",\"pattern\":{\"shape\":\"\"}},\"name\":\"histogram\",\"nbinsx\":80,\"offsetgroup\":\"154300\",\"orientation\":\"v\",\"showlegend\":true,\"x\":[154300],\"xaxis\":\"x\",\"yaxis\":\"y3\",\"type\":\"histogram\"},{\"alignmentgroup\":\"True\",\"bingroup\":\"x\",\"hovertemplate\":\"SalePrice=%{x}<br>count=%{y}<extra></extra>\",\"legendgroup\":\"173733\",\"marker\":{\"color\":\"#1f77b4\",\"pattern\":{\"shape\":\"\"}},\"name\":\"histogram\",\"nbinsx\":80,\"offsetgroup\":\"173733\",\"orientation\":\"v\",\"showlegend\":true,\"x\":[173733],\"xaxis\":\"x\",\"yaxis\":\"y3\",\"type\":\"histogram\"},{\"alignmentgroup\":\"True\",\"bingroup\":\"x\",\"hovertemplate\":\"SalePrice=%{x}<br>count=%{y}<extra></extra>\",\"legendgroup\":\"75000\",\"marker\":{\"color\":\"#1f77b4\",\"pattern\":{\"shape\":\"\"}},\"name\":\"histogram\",\"nbinsx\":80,\"offsetgroup\":\"75000\",\"orientation\":\"v\",\"showlegend\":true,\"x\":[75000],\"xaxis\":\"x\",\"yaxis\":\"y3\",\"type\":\"histogram\"},{\"alignmentgroup\":\"True\",\"bingroup\":\"x\",\"hovertemplate\":\"SalePrice=%{x}<br>count=%{y}<extra></extra>\",\"legendgroup\":\"35311\",\"marker\":{\"color\":\"#1f77b4\",\"pattern\":{\"shape\":\"\"}},\"name\":\"histogram\",\"nbinsx\":80,\"offsetgroup\":\"35311\",\"orientation\":\"v\",\"showlegend\":true,\"x\":[35311],\"xaxis\":\"x\",\"yaxis\":\"y3\",\"type\":\"histogram\"},{\"alignmentgroup\":\"True\",\"bingroup\":\"x\",\"hovertemplate\":\"SalePrice=%{x}<br>count=%{y}<extra></extra>\",\"legendgroup\":\"238000\",\"marker\":{\"color\":\"#1f77b4\",\"pattern\":{\"shape\":\"\"}},\"name\":\"histogram\",\"nbinsx\":80,\"offsetgroup\":\"238000\",\"orientation\":\"v\",\"showlegend\":true,\"x\":[238000],\"xaxis\":\"x\",\"yaxis\":\"y3\",\"type\":\"histogram\"},{\"alignmentgroup\":\"True\",\"bingroup\":\"x\",\"hovertemplate\":\"SalePrice=%{x}<br>count=%{y}<extra></extra>\",\"legendgroup\":\"176500\",\"marker\":{\"color\":\"#1f77b4\",\"pattern\":{\"shape\":\"\"}},\"name\":\"histogram\",\"nbinsx\":80,\"offsetgroup\":\"176500\",\"orientation\":\"v\",\"showlegend\":true,\"x\":[176500,176500],\"xaxis\":\"x\",\"yaxis\":\"y3\",\"type\":\"histogram\"},{\"alignmentgroup\":\"True\",\"bingroup\":\"x\",\"hovertemplate\":\"SalePrice=%{x}<br>count=%{y}<extra></extra>\",\"legendgroup\":\"145900\",\"marker\":{\"color\":\"#1f77b4\",\"pattern\":{\"shape\":\"\"}},\"name\":\"histogram\",\"nbinsx\":80,\"offsetgroup\":\"145900\",\"orientation\":\"v\",\"showlegend\":true,\"x\":[145900],\"xaxis\":\"x\",\"yaxis\":\"y3\",\"type\":\"histogram\"},{\"alignmentgroup\":\"True\",\"bingroup\":\"x\",\"hovertemplate\":\"SalePrice=%{x}<br>count=%{y}<extra></extra>\",\"legendgroup\":\"169990\",\"marker\":{\"color\":\"#1f77b4\",\"pattern\":{\"shape\":\"\"}},\"name\":\"histogram\",\"nbinsx\":80,\"offsetgroup\":\"169990\",\"orientation\":\"v\",\"showlegend\":true,\"x\":[169990],\"xaxis\":\"x\",\"yaxis\":\"y3\",\"type\":\"histogram\"},{\"alignmentgroup\":\"True\",\"bingroup\":\"x\",\"hovertemplate\":\"SalePrice=%{x}<br>count=%{y}<extra></extra>\",\"legendgroup\":\"193000\",\"marker\":{\"color\":\"#1f77b4\",\"pattern\":{\"shape\":\"\"}},\"name\":\"histogram\",\"nbinsx\":80,\"offsetgroup\":\"193000\",\"orientation\":\"v\",\"showlegend\":true,\"x\":[193000,193000,193000],\"xaxis\":\"x\",\"yaxis\":\"y3\",\"type\":\"histogram\"},{\"alignmentgroup\":\"True\",\"bingroup\":\"x\",\"hovertemplate\":\"SalePrice=%{x}<br>count=%{y}<extra></extra>\",\"legendgroup\":\"117500\",\"marker\":{\"color\":\"#1f77b4\",\"pattern\":{\"shape\":\"\"}},\"name\":\"histogram\",\"nbinsx\":80,\"offsetgroup\":\"117500\",\"orientation\":\"v\",\"showlegend\":true,\"x\":[117500,117500],\"xaxis\":\"x\",\"yaxis\":\"y3\",\"type\":\"histogram\"},{\"alignmentgroup\":\"True\",\"bingroup\":\"x\",\"hovertemplate\":\"SalePrice=%{x}<br>count=%{y}<extra></extra>\",\"legendgroup\":\"184900\",\"marker\":{\"color\":\"#1f77b4\",\"pattern\":{\"shape\":\"\"}},\"name\":\"histogram\",\"nbinsx\":80,\"offsetgroup\":\"184900\",\"orientation\":\"v\",\"showlegend\":true,\"x\":[184900],\"xaxis\":\"x\",\"yaxis\":\"y3\",\"type\":\"histogram\"},{\"alignmentgroup\":\"True\",\"bingroup\":\"x\",\"hovertemplate\":\"SalePrice=%{x}<br>count=%{y}<extra></extra>\",\"legendgroup\":\"253000\",\"marker\":{\"color\":\"#1f77b4\",\"pattern\":{\"shape\":\"\"}},\"name\":\"histogram\",\"nbinsx\":80,\"offsetgroup\":\"253000\",\"orientation\":\"v\",\"showlegend\":true,\"x\":[253000],\"xaxis\":\"x\",\"yaxis\":\"y3\",\"type\":\"histogram\"},{\"alignmentgroup\":\"True\",\"bingroup\":\"x\",\"hovertemplate\":\"SalePrice=%{x}<br>count=%{y}<extra></extra>\",\"legendgroup\":\"239799\",\"marker\":{\"color\":\"#1f77b4\",\"pattern\":{\"shape\":\"\"}},\"name\":\"histogram\",\"nbinsx\":80,\"offsetgroup\":\"239799\",\"orientation\":\"v\",\"showlegend\":true,\"x\":[239799],\"xaxis\":\"x\",\"yaxis\":\"y3\",\"type\":\"histogram\"},{\"alignmentgroup\":\"True\",\"bingroup\":\"x\",\"hovertemplate\":\"SalePrice=%{x}<br>count=%{y}<extra></extra>\",\"legendgroup\":\"244400\",\"marker\":{\"color\":\"#1f77b4\",\"pattern\":{\"shape\":\"\"}},\"name\":\"histogram\",\"nbinsx\":80,\"offsetgroup\":\"244400\",\"orientation\":\"v\",\"showlegend\":true,\"x\":[244400],\"xaxis\":\"x\",\"yaxis\":\"y3\",\"type\":\"histogram\"},{\"alignmentgroup\":\"True\",\"bingroup\":\"x\",\"hovertemplate\":\"SalePrice=%{x}<br>count=%{y}<extra></extra>\",\"legendgroup\":\"150900\",\"marker\":{\"color\":\"#1f77b4\",\"pattern\":{\"shape\":\"\"}},\"name\":\"histogram\",\"nbinsx\":80,\"offsetgroup\":\"150900\",\"orientation\":\"v\",\"showlegend\":true,\"x\":[150900],\"xaxis\":\"x\",\"yaxis\":\"y3\",\"type\":\"histogram\"},{\"alignmentgroup\":\"True\",\"bingroup\":\"x\",\"hovertemplate\":\"SalePrice=%{x}<br>count=%{y}<extra></extra>\",\"legendgroup\":\"197500\",\"marker\":{\"color\":\"#1f77b4\",\"pattern\":{\"shape\":\"\"}},\"name\":\"histogram\",\"nbinsx\":80,\"offsetgroup\":\"197500\",\"orientation\":\"v\",\"showlegend\":true,\"x\":[197500,197500],\"xaxis\":\"x\",\"yaxis\":\"y3\",\"type\":\"histogram\"},{\"alignmentgroup\":\"True\",\"bingroup\":\"x\",\"hovertemplate\":\"SalePrice=%{x}<br>count=%{y}<extra></extra>\",\"legendgroup\":\"172000\",\"marker\":{\"color\":\"#1f77b4\",\"pattern\":{\"shape\":\"\"}},\"name\":\"histogram\",\"nbinsx\":80,\"offsetgroup\":\"172000\",\"orientation\":\"v\",\"showlegend\":true,\"x\":[172000],\"xaxis\":\"x\",\"yaxis\":\"y3\",\"type\":\"histogram\"},{\"alignmentgroup\":\"True\",\"bingroup\":\"x\",\"hovertemplate\":\"SalePrice=%{x}<br>count=%{y}<extra></extra>\",\"legendgroup\":\"116500\",\"marker\":{\"color\":\"#1f77b4\",\"pattern\":{\"shape\":\"\"}},\"name\":\"histogram\",\"nbinsx\":80,\"offsetgroup\":\"116500\",\"orientation\":\"v\",\"showlegend\":true,\"x\":[116500],\"xaxis\":\"x\",\"yaxis\":\"y3\",\"type\":\"histogram\"},{\"alignmentgroup\":\"True\",\"bingroup\":\"x\",\"hovertemplate\":\"SalePrice=%{x}<br>count=%{y}<extra></extra>\",\"legendgroup\":\"214900\",\"marker\":{\"color\":\"#1f77b4\",\"pattern\":{\"shape\":\"\"}},\"name\":\"histogram\",\"nbinsx\":80,\"offsetgroup\":\"214900\",\"orientation\":\"v\",\"showlegend\":true,\"x\":[214900],\"xaxis\":\"x\",\"yaxis\":\"y3\",\"type\":\"histogram\"},{\"alignmentgroup\":\"True\",\"bingroup\":\"x\",\"hovertemplate\":\"SalePrice=%{x}<br>count=%{y}<extra></extra>\",\"legendgroup\":\"178900\",\"marker\":{\"color\":\"#1f77b4\",\"pattern\":{\"shape\":\"\"}},\"name\":\"histogram\",\"nbinsx\":80,\"offsetgroup\":\"178900\",\"orientation\":\"v\",\"showlegend\":true,\"x\":[178900],\"xaxis\":\"x\",\"yaxis\":\"y3\",\"type\":\"histogram\"},{\"alignmentgroup\":\"True\",\"bingroup\":\"x\",\"hovertemplate\":\"SalePrice=%{x}<br>count=%{y}<extra></extra>\",\"legendgroup\":\"37900\",\"marker\":{\"color\":\"#1f77b4\",\"pattern\":{\"shape\":\"\"}},\"name\":\"histogram\",\"nbinsx\":80,\"offsetgroup\":\"37900\",\"orientation\":\"v\",\"showlegend\":true,\"x\":[37900],\"xaxis\":\"x\",\"yaxis\":\"y3\",\"type\":\"histogram\"},{\"alignmentgroup\":\"True\",\"bingroup\":\"x\",\"hovertemplate\":\"SalePrice=%{x}<br>count=%{y}<extra></extra>\",\"legendgroup\":\"99500\",\"marker\":{\"color\":\"#1f77b4\",\"pattern\":{\"shape\":\"\"}},\"name\":\"histogram\",\"nbinsx\":80,\"offsetgroup\":\"99500\",\"orientation\":\"v\",\"showlegend\":true,\"x\":[99500],\"xaxis\":\"x\",\"yaxis\":\"y3\",\"type\":\"histogram\"},{\"alignmentgroup\":\"True\",\"bingroup\":\"x\",\"hovertemplate\":\"SalePrice=%{x}<br>count=%{y}<extra></extra>\",\"legendgroup\":\"182000\",\"marker\":{\"color\":\"#1f77b4\",\"pattern\":{\"shape\":\"\"}},\"name\":\"histogram\",\"nbinsx\":80,\"offsetgroup\":\"182000\",\"orientation\":\"v\",\"showlegend\":true,\"x\":[182000],\"xaxis\":\"x\",\"yaxis\":\"y3\",\"type\":\"histogram\"},{\"alignmentgroup\":\"True\",\"bingroup\":\"x\",\"hovertemplate\":\"SalePrice=%{x}<br>count=%{y}<extra></extra>\",\"legendgroup\":\"167500\",\"marker\":{\"color\":\"#1f77b4\",\"pattern\":{\"shape\":\"\"}},\"name\":\"histogram\",\"nbinsx\":80,\"offsetgroup\":\"167500\",\"orientation\":\"v\",\"showlegend\":true,\"x\":[167500,167500,167500],\"xaxis\":\"x\",\"yaxis\":\"y3\",\"type\":\"histogram\"},{\"alignmentgroup\":\"True\",\"bingroup\":\"x\",\"hovertemplate\":\"SalePrice=%{x}<br>count=%{y}<extra></extra>\",\"legendgroup\":\"85500\",\"marker\":{\"color\":\"#1f77b4\",\"pattern\":{\"shape\":\"\"}},\"name\":\"histogram\",\"nbinsx\":80,\"offsetgroup\":\"85500\",\"orientation\":\"v\",\"showlegend\":true,\"x\":[85500],\"xaxis\":\"x\",\"yaxis\":\"y3\",\"type\":\"histogram\"},{\"alignmentgroup\":\"True\",\"bingroup\":\"x\",\"hovertemplate\":\"SalePrice=%{x}<br>count=%{y}<extra></extra>\",\"legendgroup\":\"178400\",\"marker\":{\"color\":\"#1f77b4\",\"pattern\":{\"shape\":\"\"}},\"name\":\"histogram\",\"nbinsx\":80,\"offsetgroup\":\"178400\",\"orientation\":\"v\",\"showlegend\":true,\"x\":[178400],\"xaxis\":\"x\",\"yaxis\":\"y3\",\"type\":\"histogram\"},{\"alignmentgroup\":\"True\",\"bingroup\":\"x\",\"hovertemplate\":\"SalePrice=%{x}<br>count=%{y}<extra></extra>\",\"legendgroup\":\"336000\",\"marker\":{\"color\":\"#1f77b4\",\"pattern\":{\"shape\":\"\"}},\"name\":\"histogram\",\"nbinsx\":80,\"offsetgroup\":\"336000\",\"orientation\":\"v\",\"showlegend\":true,\"x\":[336000],\"xaxis\":\"x\",\"yaxis\":\"y3\",\"type\":\"histogram\"},{\"alignmentgroup\":\"True\",\"bingroup\":\"x\",\"hovertemplate\":\"SalePrice=%{x}<br>count=%{y}<extra></extra>\",\"legendgroup\":\"159895\",\"marker\":{\"color\":\"#1f77b4\",\"pattern\":{\"shape\":\"\"}},\"name\":\"histogram\",\"nbinsx\":80,\"offsetgroup\":\"159895\",\"orientation\":\"v\",\"showlegend\":true,\"x\":[159895],\"xaxis\":\"x\",\"yaxis\":\"y3\",\"type\":\"histogram\"},{\"alignmentgroup\":\"True\",\"bingroup\":\"x\",\"hovertemplate\":\"SalePrice=%{x}<br>count=%{y}<extra></extra>\",\"legendgroup\":\"255900\",\"marker\":{\"color\":\"#1f77b4\",\"pattern\":{\"shape\":\"\"}},\"name\":\"histogram\",\"nbinsx\":80,\"offsetgroup\":\"255900\",\"orientation\":\"v\",\"showlegend\":true,\"x\":[255900],\"xaxis\":\"x\",\"yaxis\":\"y3\",\"type\":\"histogram\"},{\"alignmentgroup\":\"True\",\"bingroup\":\"x\",\"hovertemplate\":\"SalePrice=%{x}<br>count=%{y}<extra></extra>\",\"legendgroup\":\"117000\",\"marker\":{\"color\":\"#1f77b4\",\"pattern\":{\"shape\":\"\"}},\"name\":\"histogram\",\"nbinsx\":80,\"offsetgroup\":\"117000\",\"orientation\":\"v\",\"showlegend\":true,\"x\":[117000,117000,117000,117000],\"xaxis\":\"x\",\"yaxis\":\"y3\",\"type\":\"histogram\"},{\"alignmentgroup\":\"True\",\"bingroup\":\"x\",\"hovertemplate\":\"SalePrice=%{x}<br>count=%{y}<extra></extra>\",\"legendgroup\":\"395192\",\"marker\":{\"color\":\"#1f77b4\",\"pattern\":{\"shape\":\"\"}},\"name\":\"histogram\",\"nbinsx\":80,\"offsetgroup\":\"395192\",\"orientation\":\"v\",\"showlegend\":true,\"x\":[395192],\"xaxis\":\"x\",\"yaxis\":\"y3\",\"type\":\"histogram\"},{\"alignmentgroup\":\"True\",\"bingroup\":\"x\",\"hovertemplate\":\"SalePrice=%{x}<br>count=%{y}<extra></extra>\",\"legendgroup\":\"195000\",\"marker\":{\"color\":\"#1f77b4\",\"pattern\":{\"shape\":\"\"}},\"name\":\"histogram\",\"nbinsx\":80,\"offsetgroup\":\"195000\",\"orientation\":\"v\",\"showlegend\":true,\"x\":[195000,195000,195000],\"xaxis\":\"x\",\"yaxis\":\"y3\",\"type\":\"histogram\"},{\"alignmentgroup\":\"True\",\"bingroup\":\"x\",\"hovertemplate\":\"SalePrice=%{x}<br>count=%{y}<extra></extra>\",\"legendgroup\":\"197000\",\"marker\":{\"color\":\"#1f77b4\",\"pattern\":{\"shape\":\"\"}},\"name\":\"histogram\",\"nbinsx\":80,\"offsetgroup\":\"197000\",\"orientation\":\"v\",\"showlegend\":true,\"x\":[197000,197000,197000,197000],\"xaxis\":\"x\",\"yaxis\":\"y3\",\"type\":\"histogram\"},{\"alignmentgroup\":\"True\",\"bingroup\":\"x\",\"hovertemplate\":\"SalePrice=%{x}<br>count=%{y}<extra></extra>\",\"legendgroup\":\"348000\",\"marker\":{\"color\":\"#1f77b4\",\"pattern\":{\"shape\":\"\"}},\"name\":\"histogram\",\"nbinsx\":80,\"offsetgroup\":\"348000\",\"orientation\":\"v\",\"showlegend\":true,\"x\":[348000],\"xaxis\":\"x\",\"yaxis\":\"y3\",\"type\":\"histogram\"},{\"alignmentgroup\":\"True\",\"bingroup\":\"x\",\"hovertemplate\":\"SalePrice=%{x}<br>count=%{y}<extra></extra>\",\"legendgroup\":\"173900\",\"marker\":{\"color\":\"#1f77b4\",\"pattern\":{\"shape\":\"\"}},\"name\":\"histogram\",\"nbinsx\":80,\"offsetgroup\":\"173900\",\"orientation\":\"v\",\"showlegend\":true,\"x\":[173900],\"xaxis\":\"x\",\"yaxis\":\"y3\",\"type\":\"histogram\"},{\"alignmentgroup\":\"True\",\"bingroup\":\"x\",\"hovertemplate\":\"SalePrice=%{x}<br>count=%{y}<extra></extra>\",\"legendgroup\":\"337500\",\"marker\":{\"color\":\"#1f77b4\",\"pattern\":{\"shape\":\"\"}},\"name\":\"histogram\",\"nbinsx\":80,\"offsetgroup\":\"337500\",\"orientation\":\"v\",\"showlegend\":true,\"x\":[337500],\"xaxis\":\"x\",\"yaxis\":\"y3\",\"type\":\"histogram\"},{\"alignmentgroup\":\"True\",\"bingroup\":\"x\",\"hovertemplate\":\"SalePrice=%{x}<br>count=%{y}<extra></extra>\",\"legendgroup\":\"121600\",\"marker\":{\"color\":\"#1f77b4\",\"pattern\":{\"shape\":\"\"}},\"name\":\"histogram\",\"nbinsx\":80,\"offsetgroup\":\"121600\",\"orientation\":\"v\",\"showlegend\":true,\"x\":[121600],\"xaxis\":\"x\",\"yaxis\":\"y3\",\"type\":\"histogram\"},{\"alignmentgroup\":\"True\",\"bingroup\":\"x\",\"hovertemplate\":\"SalePrice=%{x}<br>count=%{y}<extra></extra>\",\"legendgroup\":\"206000\",\"marker\":{\"color\":\"#1f77b4\",\"pattern\":{\"shape\":\"\"}},\"name\":\"histogram\",\"nbinsx\":80,\"offsetgroup\":\"206000\",\"orientation\":\"v\",\"showlegend\":true,\"x\":[206000],\"xaxis\":\"x\",\"yaxis\":\"y3\",\"type\":\"histogram\"},{\"alignmentgroup\":\"True\",\"bingroup\":\"x\",\"hovertemplate\":\"SalePrice=%{x}<br>count=%{y}<extra></extra>\",\"legendgroup\":\"232000\",\"marker\":{\"color\":\"#1f77b4\",\"pattern\":{\"shape\":\"\"}},\"name\":\"histogram\",\"nbinsx\":80,\"offsetgroup\":\"232000\",\"orientation\":\"v\",\"showlegend\":true,\"x\":[232000,232000,232000],\"xaxis\":\"x\",\"yaxis\":\"y3\",\"type\":\"histogram\"},{\"alignmentgroup\":\"True\",\"bingroup\":\"x\",\"hovertemplate\":\"SalePrice=%{x}<br>count=%{y}<extra></extra>\",\"legendgroup\":\"136905\",\"marker\":{\"color\":\"#1f77b4\",\"pattern\":{\"shape\":\"\"}},\"name\":\"histogram\",\"nbinsx\":80,\"offsetgroup\":\"136905\",\"orientation\":\"v\",\"showlegend\":true,\"x\":[136905],\"xaxis\":\"x\",\"yaxis\":\"y3\",\"type\":\"histogram\"},{\"alignmentgroup\":\"True\",\"bingroup\":\"x\",\"hovertemplate\":\"SalePrice=%{x}<br>count=%{y}<extra></extra>\",\"legendgroup\":\"119200\",\"marker\":{\"color\":\"#1f77b4\",\"pattern\":{\"shape\":\"\"}},\"name\":\"histogram\",\"nbinsx\":80,\"offsetgroup\":\"119200\",\"orientation\":\"v\",\"showlegend\":true,\"x\":[119200],\"xaxis\":\"x\",\"yaxis\":\"y3\",\"type\":\"histogram\"},{\"alignmentgroup\":\"True\",\"bingroup\":\"x\",\"hovertemplate\":\"SalePrice=%{x}<br>count=%{y}<extra></extra>\",\"legendgroup\":\"227000\",\"marker\":{\"color\":\"#1f77b4\",\"pattern\":{\"shape\":\"\"}},\"name\":\"histogram\",\"nbinsx\":80,\"offsetgroup\":\"227000\",\"orientation\":\"v\",\"showlegend\":true,\"x\":[227000,227000,227000],\"xaxis\":\"x\",\"yaxis\":\"y3\",\"type\":\"histogram\"},{\"alignmentgroup\":\"True\",\"bingroup\":\"x\",\"hovertemplate\":\"SalePrice=%{x}<br>count=%{y}<extra></extra>\",\"legendgroup\":\"203000\",\"marker\":{\"color\":\"#1f77b4\",\"pattern\":{\"shape\":\"\"}},\"name\":\"histogram\",\"nbinsx\":80,\"offsetgroup\":\"203000\",\"orientation\":\"v\",\"showlegend\":true,\"x\":[203000,203000],\"xaxis\":\"x\",\"yaxis\":\"y3\",\"type\":\"histogram\"},{\"alignmentgroup\":\"True\",\"bingroup\":\"x\",\"hovertemplate\":\"SalePrice=%{x}<br>count=%{y}<extra></extra>\",\"legendgroup\":\"213490\",\"marker\":{\"color\":\"#1f77b4\",\"pattern\":{\"shape\":\"\"}},\"name\":\"histogram\",\"nbinsx\":80,\"offsetgroup\":\"213490\",\"orientation\":\"v\",\"showlegend\":true,\"x\":[213490],\"xaxis\":\"x\",\"yaxis\":\"y3\",\"type\":\"histogram\"},{\"alignmentgroup\":\"True\",\"bingroup\":\"x\",\"hovertemplate\":\"SalePrice=%{x}<br>count=%{y}<extra></extra>\",\"legendgroup\":\"194000\",\"marker\":{\"color\":\"#1f77b4\",\"pattern\":{\"shape\":\"\"}},\"name\":\"histogram\",\"nbinsx\":80,\"offsetgroup\":\"194000\",\"orientation\":\"v\",\"showlegend\":true,\"x\":[194000,194000,194000],\"xaxis\":\"x\",\"yaxis\":\"y3\",\"type\":\"histogram\"},{\"alignmentgroup\":\"True\",\"bingroup\":\"x\",\"hovertemplate\":\"SalePrice=%{x}<br>count=%{y}<extra></extra>\",\"legendgroup\":\"287000\",\"marker\":{\"color\":\"#1f77b4\",\"pattern\":{\"shape\":\"\"}},\"name\":\"histogram\",\"nbinsx\":80,\"offsetgroup\":\"287000\",\"orientation\":\"v\",\"showlegend\":true,\"x\":[287000,287000],\"xaxis\":\"x\",\"yaxis\":\"y3\",\"type\":\"histogram\"},{\"alignmentgroup\":\"True\",\"bingroup\":\"x\",\"hovertemplate\":\"SalePrice=%{x}<br>count=%{y}<extra></extra>\",\"legendgroup\":\"293077\",\"marker\":{\"color\":\"#1f77b4\",\"pattern\":{\"shape\":\"\"}},\"name\":\"histogram\",\"nbinsx\":80,\"offsetgroup\":\"293077\",\"orientation\":\"v\",\"showlegend\":true,\"x\":[293077],\"xaxis\":\"x\",\"yaxis\":\"y3\",\"type\":\"histogram\"},{\"alignmentgroup\":\"True\",\"bingroup\":\"x\",\"hovertemplate\":\"SalePrice=%{x}<br>count=%{y}<extra></extra>\",\"legendgroup\":\"310000\",\"marker\":{\"color\":\"#1f77b4\",\"pattern\":{\"shape\":\"\"}},\"name\":\"histogram\",\"nbinsx\":80,\"offsetgroup\":\"310000\",\"orientation\":\"v\",\"showlegend\":true,\"x\":[310000,310000],\"xaxis\":\"x\",\"yaxis\":\"y3\",\"type\":\"histogram\"},{\"alignmentgroup\":\"True\",\"bingroup\":\"x\",\"hovertemplate\":\"SalePrice=%{x}<br>count=%{y}<extra></extra>\",\"legendgroup\":\"119750\",\"marker\":{\"color\":\"#1f77b4\",\"pattern\":{\"shape\":\"\"}},\"name\":\"histogram\",\"nbinsx\":80,\"offsetgroup\":\"119750\",\"orientation\":\"v\",\"showlegend\":true,\"x\":[119750],\"xaxis\":\"x\",\"yaxis\":\"y3\",\"type\":\"histogram\"},{\"alignmentgroup\":\"True\",\"bingroup\":\"x\",\"hovertemplate\":\"SalePrice=%{x}<br>count=%{y}<extra></extra>\",\"legendgroup\":\"84000\",\"marker\":{\"color\":\"#1f77b4\",\"pattern\":{\"shape\":\"\"}},\"name\":\"histogram\",\"nbinsx\":80,\"offsetgroup\":\"84000\",\"orientation\":\"v\",\"showlegend\":true,\"x\":[84000],\"xaxis\":\"x\",\"yaxis\":\"y3\",\"type\":\"histogram\"},{\"alignmentgroup\":\"True\",\"bingroup\":\"x\",\"hovertemplate\":\"SalePrice=%{x}<br>count=%{y}<extra></extra>\",\"legendgroup\":\"315500\",\"marker\":{\"color\":\"#1f77b4\",\"pattern\":{\"shape\":\"\"}},\"name\":\"histogram\",\"nbinsx\":80,\"offsetgroup\":\"315500\",\"orientation\":\"v\",\"showlegend\":true,\"x\":[315500],\"xaxis\":\"x\",\"yaxis\":\"y3\",\"type\":\"histogram\"},{\"alignmentgroup\":\"True\",\"bingroup\":\"x\",\"hovertemplate\":\"SalePrice=%{x}<br>count=%{y}<extra></extra>\",\"legendgroup\":\"262280\",\"marker\":{\"color\":\"#1f77b4\",\"pattern\":{\"shape\":\"\"}},\"name\":\"histogram\",\"nbinsx\":80,\"offsetgroup\":\"262280\",\"orientation\":\"v\",\"showlegend\":true,\"x\":[262280],\"xaxis\":\"x\",\"yaxis\":\"y3\",\"type\":\"histogram\"},{\"alignmentgroup\":\"True\",\"bingroup\":\"x\",\"hovertemplate\":\"SalePrice=%{x}<br>count=%{y}<extra></extra>\",\"legendgroup\":\"278000\",\"marker\":{\"color\":\"#1f77b4\",\"pattern\":{\"shape\":\"\"}},\"name\":\"histogram\",\"nbinsx\":80,\"offsetgroup\":\"278000\",\"orientation\":\"v\",\"showlegend\":true,\"x\":[278000,278000],\"xaxis\":\"x\",\"yaxis\":\"y3\",\"type\":\"histogram\"},{\"alignmentgroup\":\"True\",\"bingroup\":\"x\",\"hovertemplate\":\"SalePrice=%{x}<br>count=%{y}<extra></extra>\",\"legendgroup\":\"139600\",\"marker\":{\"color\":\"#1f77b4\",\"pattern\":{\"shape\":\"\"}},\"name\":\"histogram\",\"nbinsx\":80,\"offsetgroup\":\"139600\",\"orientation\":\"v\",\"showlegend\":true,\"x\":[139600],\"xaxis\":\"x\",\"yaxis\":\"y3\",\"type\":\"histogram\"},{\"alignmentgroup\":\"True\",\"bingroup\":\"x\",\"hovertemplate\":\"SalePrice=%{x}<br>count=%{y}<extra></extra>\",\"legendgroup\":\"556581\",\"marker\":{\"color\":\"#1f77b4\",\"pattern\":{\"shape\":\"\"}},\"name\":\"histogram\",\"nbinsx\":80,\"offsetgroup\":\"556581\",\"orientation\":\"v\",\"showlegend\":true,\"x\":[556581],\"xaxis\":\"x\",\"yaxis\":\"y3\",\"type\":\"histogram\"},{\"alignmentgroup\":\"True\",\"bingroup\":\"x\",\"hovertemplate\":\"SalePrice=%{x}<br>count=%{y}<extra></extra>\",\"legendgroup\":\"84900\",\"marker\":{\"color\":\"#1f77b4\",\"pattern\":{\"shape\":\"\"}},\"name\":\"histogram\",\"nbinsx\":80,\"offsetgroup\":\"84900\",\"orientation\":\"v\",\"showlegend\":true,\"x\":[84900],\"xaxis\":\"x\",\"yaxis\":\"y3\",\"type\":\"histogram\"},{\"alignmentgroup\":\"True\",\"bingroup\":\"x\",\"hovertemplate\":\"SalePrice=%{x}<br>count=%{y}<extra></extra>\",\"legendgroup\":\"176485\",\"marker\":{\"color\":\"#1f77b4\",\"pattern\":{\"shape\":\"\"}},\"name\":\"histogram\",\"nbinsx\":80,\"offsetgroup\":\"176485\",\"orientation\":\"v\",\"showlegend\":true,\"x\":[176485],\"xaxis\":\"x\",\"yaxis\":\"y3\",\"type\":\"histogram\"},{\"alignmentgroup\":\"True\",\"bingroup\":\"x\",\"hovertemplate\":\"SalePrice=%{x}<br>count=%{y}<extra></extra>\",\"legendgroup\":\"200141\",\"marker\":{\"color\":\"#1f77b4\",\"pattern\":{\"shape\":\"\"}},\"name\":\"histogram\",\"nbinsx\":80,\"offsetgroup\":\"200141\",\"orientation\":\"v\",\"showlegend\":true,\"x\":[200141],\"xaxis\":\"x\",\"yaxis\":\"y3\",\"type\":\"histogram\"},{\"alignmentgroup\":\"True\",\"bingroup\":\"x\",\"hovertemplate\":\"SalePrice=%{x}<br>count=%{y}<extra></extra>\",\"legendgroup\":\"185850\",\"marker\":{\"color\":\"#1f77b4\",\"pattern\":{\"shape\":\"\"}},\"name\":\"histogram\",\"nbinsx\":80,\"offsetgroup\":\"185850\",\"orientation\":\"v\",\"showlegend\":true,\"x\":[185850],\"xaxis\":\"x\",\"yaxis\":\"y3\",\"type\":\"histogram\"},{\"alignmentgroup\":\"True\",\"bingroup\":\"x\",\"hovertemplate\":\"SalePrice=%{x}<br>count=%{y}<extra></extra>\",\"legendgroup\":\"328000\",\"marker\":{\"color\":\"#1f77b4\",\"pattern\":{\"shape\":\"\"}},\"name\":\"histogram\",\"nbinsx\":80,\"offsetgroup\":\"328000\",\"orientation\":\"v\",\"showlegend\":true,\"x\":[328000],\"xaxis\":\"x\",\"yaxis\":\"y3\",\"type\":\"histogram\"},{\"alignmentgroup\":\"True\",\"bingroup\":\"x\",\"hovertemplate\":\"SalePrice=%{x}<br>count=%{y}<extra></extra>\",\"legendgroup\":\"167900\",\"marker\":{\"color\":\"#1f77b4\",\"pattern\":{\"shape\":\"\"}},\"name\":\"histogram\",\"nbinsx\":80,\"offsetgroup\":\"167900\",\"orientation\":\"v\",\"showlegend\":true,\"x\":[167900,167900],\"xaxis\":\"x\",\"yaxis\":\"y3\",\"type\":\"histogram\"},{\"alignmentgroup\":\"True\",\"bingroup\":\"x\",\"hovertemplate\":\"SalePrice=%{x}<br>count=%{y}<extra></extra>\",\"legendgroup\":\"151400\",\"marker\":{\"color\":\"#1f77b4\",\"pattern\":{\"shape\":\"\"}},\"name\":\"histogram\",\"nbinsx\":80,\"offsetgroup\":\"151400\",\"orientation\":\"v\",\"showlegend\":true,\"x\":[151400],\"xaxis\":\"x\",\"yaxis\":\"y3\",\"type\":\"histogram\"},{\"alignmentgroup\":\"True\",\"bingroup\":\"x\",\"hovertemplate\":\"SalePrice=%{x}<br>count=%{y}<extra></extra>\",\"legendgroup\":\"91500\",\"marker\":{\"color\":\"#1f77b4\",\"pattern\":{\"shape\":\"\"}},\"name\":\"histogram\",\"nbinsx\":80,\"offsetgroup\":\"91500\",\"orientation\":\"v\",\"showlegend\":true,\"x\":[91500,91500],\"xaxis\":\"x\",\"yaxis\":\"y3\",\"type\":\"histogram\"},{\"alignmentgroup\":\"True\",\"bingroup\":\"x\",\"hovertemplate\":\"SalePrice=%{x}<br>count=%{y}<extra></extra>\",\"legendgroup\":\"138800\",\"marker\":{\"color\":\"#1f77b4\",\"pattern\":{\"shape\":\"\"}},\"name\":\"histogram\",\"nbinsx\":80,\"offsetgroup\":\"138800\",\"orientation\":\"v\",\"showlegend\":true,\"x\":[138800],\"xaxis\":\"x\",\"yaxis\":\"y3\",\"type\":\"histogram\"},{\"alignmentgroup\":\"True\",\"bingroup\":\"x\",\"hovertemplate\":\"SalePrice=%{x}<br>count=%{y}<extra></extra>\",\"legendgroup\":\"155900\",\"marker\":{\"color\":\"#1f77b4\",\"pattern\":{\"shape\":\"\"}},\"name\":\"histogram\",\"nbinsx\":80,\"offsetgroup\":\"155900\",\"orientation\":\"v\",\"showlegend\":true,\"x\":[155900],\"xaxis\":\"x\",\"yaxis\":\"y3\",\"type\":\"histogram\"},{\"alignmentgroup\":\"True\",\"bingroup\":\"x\",\"hovertemplate\":\"SalePrice=%{x}<br>count=%{y}<extra></extra>\",\"legendgroup\":\"83500\",\"marker\":{\"color\":\"#1f77b4\",\"pattern\":{\"shape\":\"\"}},\"name\":\"histogram\",\"nbinsx\":80,\"offsetgroup\":\"83500\",\"orientation\":\"v\",\"showlegend\":true,\"x\":[83500],\"xaxis\":\"x\",\"yaxis\":\"y3\",\"type\":\"histogram\"},{\"alignmentgroup\":\"True\",\"bingroup\":\"x\",\"hovertemplate\":\"SalePrice=%{x}<br>count=%{y}<extra></extra>\",\"legendgroup\":\"252000\",\"marker\":{\"color\":\"#1f77b4\",\"pattern\":{\"shape\":\"\"}},\"name\":\"histogram\",\"nbinsx\":80,\"offsetgroup\":\"252000\",\"orientation\":\"v\",\"showlegend\":true,\"x\":[252000],\"xaxis\":\"x\",\"yaxis\":\"y3\",\"type\":\"histogram\"},{\"alignmentgroup\":\"True\",\"bingroup\":\"x\",\"hovertemplate\":\"SalePrice=%{x}<br>count=%{y}<extra></extra>\",\"legendgroup\":\"92900\",\"marker\":{\"color\":\"#1f77b4\",\"pattern\":{\"shape\":\"\"}},\"name\":\"histogram\",\"nbinsx\":80,\"offsetgroup\":\"92900\",\"orientation\":\"v\",\"showlegend\":true,\"x\":[92900],\"xaxis\":\"x\",\"yaxis\":\"y3\",\"type\":\"histogram\"},{\"alignmentgroup\":\"True\",\"bingroup\":\"x\",\"hovertemplate\":\"SalePrice=%{x}<br>count=%{y}<extra></extra>\",\"legendgroup\":\"176432\",\"marker\":{\"color\":\"#1f77b4\",\"pattern\":{\"shape\":\"\"}},\"name\":\"histogram\",\"nbinsx\":80,\"offsetgroup\":\"176432\",\"orientation\":\"v\",\"showlegend\":true,\"x\":[176432],\"xaxis\":\"x\",\"yaxis\":\"y3\",\"type\":\"histogram\"},{\"alignmentgroup\":\"True\",\"bingroup\":\"x\",\"hovertemplate\":\"SalePrice=%{x}<br>count=%{y}<extra></extra>\",\"legendgroup\":\"274725\",\"marker\":{\"color\":\"#1f77b4\",\"pattern\":{\"shape\":\"\"}},\"name\":\"histogram\",\"nbinsx\":80,\"offsetgroup\":\"274725\",\"orientation\":\"v\",\"showlegend\":true,\"x\":[274725],\"xaxis\":\"x\",\"yaxis\":\"y3\",\"type\":\"histogram\"},{\"alignmentgroup\":\"True\",\"bingroup\":\"x\",\"hovertemplate\":\"SalePrice=%{x}<br>count=%{y}<extra></extra>\",\"legendgroup\":\"134500\",\"marker\":{\"color\":\"#1f77b4\",\"pattern\":{\"shape\":\"\"}},\"name\":\"histogram\",\"nbinsx\":80,\"offsetgroup\":\"134500\",\"orientation\":\"v\",\"showlegend\":true,\"x\":[134500,134500],\"xaxis\":\"x\",\"yaxis\":\"y3\",\"type\":\"histogram\"},{\"alignmentgroup\":\"True\",\"bingroup\":\"x\",\"hovertemplate\":\"SalePrice=%{x}<br>count=%{y}<extra></extra>\",\"legendgroup\":\"184100\",\"marker\":{\"color\":\"#1f77b4\",\"pattern\":{\"shape\":\"\"}},\"name\":\"histogram\",\"nbinsx\":80,\"offsetgroup\":\"184100\",\"orientation\":\"v\",\"showlegend\":true,\"x\":[184100],\"xaxis\":\"x\",\"yaxis\":\"y3\",\"type\":\"histogram\"},{\"alignmentgroup\":\"True\",\"bingroup\":\"x\",\"hovertemplate\":\"SalePrice=%{x}<br>count=%{y}<extra></extra>\",\"legendgroup\":\"133700\",\"marker\":{\"color\":\"#1f77b4\",\"pattern\":{\"shape\":\"\"}},\"name\":\"histogram\",\"nbinsx\":80,\"offsetgroup\":\"133700\",\"orientation\":\"v\",\"showlegend\":true,\"x\":[133700],\"xaxis\":\"x\",\"yaxis\":\"y3\",\"type\":\"histogram\"},{\"alignmentgroup\":\"True\",\"bingroup\":\"x\",\"hovertemplate\":\"SalePrice=%{x}<br>count=%{y}<extra></extra>\",\"legendgroup\":\"118400\",\"marker\":{\"color\":\"#1f77b4\",\"pattern\":{\"shape\":\"\"}},\"name\":\"histogram\",\"nbinsx\":80,\"offsetgroup\":\"118400\",\"orientation\":\"v\",\"showlegend\":true,\"x\":[118400],\"xaxis\":\"x\",\"yaxis\":\"y3\",\"type\":\"histogram\"},{\"alignmentgroup\":\"True\",\"bingroup\":\"x\",\"hovertemplate\":\"SalePrice=%{x}<br>count=%{y}<extra></extra>\",\"legendgroup\":\"212900\",\"marker\":{\"color\":\"#1f77b4\",\"pattern\":{\"shape\":\"\"}},\"name\":\"histogram\",\"nbinsx\":80,\"offsetgroup\":\"212900\",\"orientation\":\"v\",\"showlegend\":true,\"x\":[212900],\"xaxis\":\"x\",\"yaxis\":\"y3\",\"type\":\"histogram\"},{\"alignmentgroup\":\"True\",\"bingroup\":\"x\",\"hovertemplate\":\"SalePrice=%{x}<br>count=%{y}<extra></extra>\",\"legendgroup\":\"163900\",\"marker\":{\"color\":\"#1f77b4\",\"pattern\":{\"shape\":\"\"}},\"name\":\"histogram\",\"nbinsx\":80,\"offsetgroup\":\"163900\",\"orientation\":\"v\",\"showlegend\":true,\"x\":[163900],\"xaxis\":\"x\",\"yaxis\":\"y3\",\"type\":\"histogram\"},{\"alignmentgroup\":\"True\",\"bingroup\":\"x\",\"hovertemplate\":\"SalePrice=%{x}<br>count=%{y}<extra></extra>\",\"legendgroup\":\"259000\",\"marker\":{\"color\":\"#1f77b4\",\"pattern\":{\"shape\":\"\"}},\"name\":\"histogram\",\"nbinsx\":80,\"offsetgroup\":\"259000\",\"orientation\":\"v\",\"showlegend\":true,\"x\":[259000],\"xaxis\":\"x\",\"yaxis\":\"y3\",\"type\":\"histogram\"},{\"alignmentgroup\":\"True\",\"bingroup\":\"x\",\"hovertemplate\":\"SalePrice=%{x}<br>count=%{y}<extra></extra>\",\"legendgroup\":\"239500\",\"marker\":{\"color\":\"#1f77b4\",\"pattern\":{\"shape\":\"\"}},\"name\":\"histogram\",\"nbinsx\":80,\"offsetgroup\":\"239500\",\"orientation\":\"v\",\"showlegend\":true,\"x\":[239500],\"xaxis\":\"x\",\"yaxis\":\"y3\",\"type\":\"histogram\"},{\"alignmentgroup\":\"True\",\"bingroup\":\"x\",\"hovertemplate\":\"SalePrice=%{x}<br>count=%{y}<extra></extra>\",\"legendgroup\":\"94000\",\"marker\":{\"color\":\"#1f77b4\",\"pattern\":{\"shape\":\"\"}},\"name\":\"histogram\",\"nbinsx\":80,\"offsetgroup\":\"94000\",\"orientation\":\"v\",\"showlegend\":true,\"x\":[94000],\"xaxis\":\"x\",\"yaxis\":\"y3\",\"type\":\"histogram\"},{\"alignmentgroup\":\"True\",\"bingroup\":\"x\",\"hovertemplate\":\"SalePrice=%{x}<br>count=%{y}<extra></extra>\",\"legendgroup\":\"424870\",\"marker\":{\"color\":\"#1f77b4\",\"pattern\":{\"shape\":\"\"}},\"name\":\"histogram\",\"nbinsx\":80,\"offsetgroup\":\"424870\",\"orientation\":\"v\",\"showlegend\":true,\"x\":[424870],\"xaxis\":\"x\",\"yaxis\":\"y3\",\"type\":\"histogram\"},{\"alignmentgroup\":\"True\",\"bingroup\":\"x\",\"hovertemplate\":\"SalePrice=%{x}<br>count=%{y}<extra></extra>\",\"legendgroup\":\"174500\",\"marker\":{\"color\":\"#1f77b4\",\"pattern\":{\"shape\":\"\"}},\"name\":\"histogram\",\"nbinsx\":80,\"offsetgroup\":\"174500\",\"orientation\":\"v\",\"showlegend\":true,\"x\":[174500],\"xaxis\":\"x\",\"yaxis\":\"y3\",\"type\":\"histogram\"},{\"alignmentgroup\":\"True\",\"bingroup\":\"x\",\"hovertemplate\":\"SalePrice=%{x}<br>count=%{y}<extra></extra>\",\"legendgroup\":\"116900\",\"marker\":{\"color\":\"#1f77b4\",\"pattern\":{\"shape\":\"\"}},\"name\":\"histogram\",\"nbinsx\":80,\"offsetgroup\":\"116900\",\"orientation\":\"v\",\"showlegend\":true,\"x\":[116900],\"xaxis\":\"x\",\"yaxis\":\"y3\",\"type\":\"histogram\"},{\"alignmentgroup\":\"True\",\"bingroup\":\"x\",\"hovertemplate\":\"SalePrice=%{x}<br>count=%{y}<extra></extra>\",\"legendgroup\":\"201800\",\"marker\":{\"color\":\"#1f77b4\",\"pattern\":{\"shape\":\"\"}},\"name\":\"histogram\",\"nbinsx\":80,\"offsetgroup\":\"201800\",\"orientation\":\"v\",\"showlegend\":true,\"x\":[201800],\"xaxis\":\"x\",\"yaxis\":\"y3\",\"type\":\"histogram\"},{\"alignmentgroup\":\"True\",\"bingroup\":\"x\",\"hovertemplate\":\"SalePrice=%{x}<br>count=%{y}<extra></extra>\",\"legendgroup\":\"218000\",\"marker\":{\"color\":\"#1f77b4\",\"pattern\":{\"shape\":\"\"}},\"name\":\"histogram\",\"nbinsx\":80,\"offsetgroup\":\"218000\",\"orientation\":\"v\",\"showlegend\":true,\"x\":[218000],\"xaxis\":\"x\",\"yaxis\":\"y3\",\"type\":\"histogram\"},{\"alignmentgroup\":\"True\",\"bingroup\":\"x\",\"hovertemplate\":\"SalePrice=%{x}<br>count=%{y}<extra></extra>\",\"legendgroup\":\"235128\",\"marker\":{\"color\":\"#1f77b4\",\"pattern\":{\"shape\":\"\"}},\"name\":\"histogram\",\"nbinsx\":80,\"offsetgroup\":\"235128\",\"orientation\":\"v\",\"showlegend\":true,\"x\":[235128],\"xaxis\":\"x\",\"yaxis\":\"y3\",\"type\":\"histogram\"},{\"alignmentgroup\":\"True\",\"bingroup\":\"x\",\"hovertemplate\":\"SalePrice=%{x}<br>count=%{y}<extra></extra>\",\"legendgroup\":\"108959\",\"marker\":{\"color\":\"#1f77b4\",\"pattern\":{\"shape\":\"\"}},\"name\":\"histogram\",\"nbinsx\":80,\"offsetgroup\":\"108959\",\"orientation\":\"v\",\"showlegend\":true,\"x\":[108959],\"xaxis\":\"x\",\"yaxis\":\"y3\",\"type\":\"histogram\"},{\"alignmentgroup\":\"True\",\"bingroup\":\"x\",\"hovertemplate\":\"SalePrice=%{x}<br>count=%{y}<extra></extra>\",\"legendgroup\":\"233170\",\"marker\":{\"color\":\"#1f77b4\",\"pattern\":{\"shape\":\"\"}},\"name\":\"histogram\",\"nbinsx\":80,\"offsetgroup\":\"233170\",\"orientation\":\"v\",\"showlegend\":true,\"x\":[233170],\"xaxis\":\"x\",\"yaxis\":\"y3\",\"type\":\"histogram\"},{\"alignmentgroup\":\"True\",\"bingroup\":\"x\",\"hovertemplate\":\"SalePrice=%{x}<br>count=%{y}<extra></extra>\",\"legendgroup\":\"245350\",\"marker\":{\"color\":\"#1f77b4\",\"pattern\":{\"shape\":\"\"}},\"name\":\"histogram\",\"nbinsx\":80,\"offsetgroup\":\"245350\",\"orientation\":\"v\",\"showlegend\":true,\"x\":[245350],\"xaxis\":\"x\",\"yaxis\":\"y3\",\"type\":\"histogram\"},{\"alignmentgroup\":\"True\",\"bingroup\":\"x\",\"hovertemplate\":\"SalePrice=%{x}<br>count=%{y}<extra></extra>\",\"legendgroup\":\"625000\",\"marker\":{\"color\":\"#1f77b4\",\"pattern\":{\"shape\":\"\"}},\"name\":\"histogram\",\"nbinsx\":80,\"offsetgroup\":\"625000\",\"orientation\":\"v\",\"showlegend\":true,\"x\":[625000],\"xaxis\":\"x\",\"yaxis\":\"y3\",\"type\":\"histogram\"},{\"alignmentgroup\":\"True\",\"bingroup\":\"x\",\"hovertemplate\":\"SalePrice=%{x}<br>count=%{y}<extra></extra>\",\"legendgroup\":\"171900\",\"marker\":{\"color\":\"#1f77b4\",\"pattern\":{\"shape\":\"\"}},\"name\":\"histogram\",\"nbinsx\":80,\"offsetgroup\":\"171900\",\"orientation\":\"v\",\"showlegend\":true,\"x\":[171900],\"xaxis\":\"x\",\"yaxis\":\"y3\",\"type\":\"histogram\"},{\"alignmentgroup\":\"True\",\"bingroup\":\"x\",\"hovertemplate\":\"SalePrice=%{x}<br>count=%{y}<extra></extra>\",\"legendgroup\":\"154900\",\"marker\":{\"color\":\"#1f77b4\",\"pattern\":{\"shape\":\"\"}},\"name\":\"histogram\",\"nbinsx\":80,\"offsetgroup\":\"154900\",\"orientation\":\"v\",\"showlegend\":true,\"x\":[154900],\"xaxis\":\"x\",\"yaxis\":\"y3\",\"type\":\"histogram\"},{\"alignmentgroup\":\"True\",\"bingroup\":\"x\",\"hovertemplate\":\"SalePrice=%{x}<br>count=%{y}<extra></extra>\",\"legendgroup\":\"392500\",\"marker\":{\"color\":\"#1f77b4\",\"pattern\":{\"shape\":\"\"}},\"name\":\"histogram\",\"nbinsx\":80,\"offsetgroup\":\"392500\",\"orientation\":\"v\",\"showlegend\":true,\"x\":[392500],\"xaxis\":\"x\",\"yaxis\":\"y3\",\"type\":\"histogram\"},{\"alignmentgroup\":\"True\",\"bingroup\":\"x\",\"hovertemplate\":\"SalePrice=%{x}<br>count=%{y}<extra></extra>\",\"legendgroup\":\"745000\",\"marker\":{\"color\":\"#1f77b4\",\"pattern\":{\"shape\":\"\"}},\"name\":\"histogram\",\"nbinsx\":80,\"offsetgroup\":\"745000\",\"orientation\":\"v\",\"showlegend\":true,\"x\":[745000],\"xaxis\":\"x\",\"yaxis\":\"y3\",\"type\":\"histogram\"},{\"alignmentgroup\":\"True\",\"bingroup\":\"x\",\"hovertemplate\":\"SalePrice=%{x}<br>count=%{y}<extra></extra>\",\"legendgroup\":\"186700\",\"marker\":{\"color\":\"#1f77b4\",\"pattern\":{\"shape\":\"\"}},\"name\":\"histogram\",\"nbinsx\":80,\"offsetgroup\":\"186700\",\"orientation\":\"v\",\"showlegend\":true,\"x\":[186700],\"xaxis\":\"x\",\"yaxis\":\"y3\",\"type\":\"histogram\"},{\"alignmentgroup\":\"True\",\"bingroup\":\"x\",\"hovertemplate\":\"SalePrice=%{x}<br>count=%{y}<extra></extra>\",\"legendgroup\":\"104900\",\"marker\":{\"color\":\"#1f77b4\",\"pattern\":{\"shape\":\"\"}},\"name\":\"histogram\",\"nbinsx\":80,\"offsetgroup\":\"104900\",\"orientation\":\"v\",\"showlegend\":true,\"x\":[104900,104900],\"xaxis\":\"x\",\"yaxis\":\"y3\",\"type\":\"histogram\"},{\"alignmentgroup\":\"True\",\"bingroup\":\"x\",\"hovertemplate\":\"SalePrice=%{x}<br>count=%{y}<extra></extra>\",\"legendgroup\":\"262000\",\"marker\":{\"color\":\"#1f77b4\",\"pattern\":{\"shape\":\"\"}},\"name\":\"histogram\",\"nbinsx\":80,\"offsetgroup\":\"262000\",\"orientation\":\"v\",\"showlegend\":true,\"x\":[262000],\"xaxis\":\"x\",\"yaxis\":\"y3\",\"type\":\"histogram\"},{\"alignmentgroup\":\"True\",\"bingroup\":\"x\",\"hovertemplate\":\"SalePrice=%{x}<br>count=%{y}<extra></extra>\",\"legendgroup\":\"219210\",\"marker\":{\"color\":\"#1f77b4\",\"pattern\":{\"shape\":\"\"}},\"name\":\"histogram\",\"nbinsx\":80,\"offsetgroup\":\"219210\",\"orientation\":\"v\",\"showlegend\":true,\"x\":[219210],\"xaxis\":\"x\",\"yaxis\":\"y3\",\"type\":\"histogram\"},{\"alignmentgroup\":\"True\",\"bingroup\":\"x\",\"hovertemplate\":\"SalePrice=%{x}<br>count=%{y}<extra></extra>\",\"legendgroup\":\"116050\",\"marker\":{\"color\":\"#1f77b4\",\"pattern\":{\"shape\":\"\"}},\"name\":\"histogram\",\"nbinsx\":80,\"offsetgroup\":\"116050\",\"orientation\":\"v\",\"showlegend\":true,\"x\":[116050],\"xaxis\":\"x\",\"yaxis\":\"y3\",\"type\":\"histogram\"},{\"alignmentgroup\":\"True\",\"bingroup\":\"x\",\"hovertemplate\":\"SalePrice=%{x}<br>count=%{y}<extra></extra>\",\"legendgroup\":\"271900\",\"marker\":{\"color\":\"#1f77b4\",\"pattern\":{\"shape\":\"\"}},\"name\":\"histogram\",\"nbinsx\":80,\"offsetgroup\":\"271900\",\"orientation\":\"v\",\"showlegend\":true,\"x\":[271900],\"xaxis\":\"x\",\"yaxis\":\"y3\",\"type\":\"histogram\"},{\"alignmentgroup\":\"True\",\"bingroup\":\"x\",\"hovertemplate\":\"SalePrice=%{x}<br>count=%{y}<extra></extra>\",\"legendgroup\":\"229456\",\"marker\":{\"color\":\"#1f77b4\",\"pattern\":{\"shape\":\"\"}},\"name\":\"histogram\",\"nbinsx\":80,\"offsetgroup\":\"229456\",\"orientation\":\"v\",\"showlegend\":true,\"x\":[229456],\"xaxis\":\"x\",\"yaxis\":\"y3\",\"type\":\"histogram\"},{\"alignmentgroup\":\"True\",\"bingroup\":\"x\",\"hovertemplate\":\"SalePrice=%{x}<br>count=%{y}<extra></extra>\",\"legendgroup\":\"80500\",\"marker\":{\"color\":\"#1f77b4\",\"pattern\":{\"shape\":\"\"}},\"name\":\"histogram\",\"nbinsx\":80,\"offsetgroup\":\"80500\",\"orientation\":\"v\",\"showlegend\":true,\"x\":[80500],\"xaxis\":\"x\",\"yaxis\":\"y3\",\"type\":\"histogram\"},{\"alignmentgroup\":\"True\",\"bingroup\":\"x\",\"hovertemplate\":\"SalePrice=%{x}<br>count=%{y}<extra></extra>\",\"legendgroup\":\"137900\",\"marker\":{\"color\":\"#1f77b4\",\"pattern\":{\"shape\":\"\"}},\"name\":\"histogram\",\"nbinsx\":80,\"offsetgroup\":\"137900\",\"orientation\":\"v\",\"showlegend\":true,\"x\":[137900],\"xaxis\":\"x\",\"yaxis\":\"y3\",\"type\":\"histogram\"},{\"alignmentgroup\":\"True\",\"bingroup\":\"x\",\"hovertemplate\":\"SalePrice=%{x}<br>count=%{y}<extra></extra>\",\"legendgroup\":\"367294\",\"marker\":{\"color\":\"#1f77b4\",\"pattern\":{\"shape\":\"\"}},\"name\":\"histogram\",\"nbinsx\":80,\"offsetgroup\":\"367294\",\"orientation\":\"v\",\"showlegend\":true,\"x\":[367294],\"xaxis\":\"x\",\"yaxis\":\"y3\",\"type\":\"histogram\"},{\"alignmentgroup\":\"True\",\"bingroup\":\"x\",\"hovertemplate\":\"SalePrice=%{x}<br>count=%{y}<extra></extra>\",\"legendgroup\":\"101800\",\"marker\":{\"color\":\"#1f77b4\",\"pattern\":{\"shape\":\"\"}},\"name\":\"histogram\",\"nbinsx\":80,\"offsetgroup\":\"101800\",\"orientation\":\"v\",\"showlegend\":true,\"x\":[101800],\"xaxis\":\"x\",\"yaxis\":\"y3\",\"type\":\"histogram\"},{\"alignmentgroup\":\"True\",\"bingroup\":\"x\",\"hovertemplate\":\"SalePrice=%{x}<br>count=%{y}<extra></extra>\",\"legendgroup\":\"138887\",\"marker\":{\"color\":\"#1f77b4\",\"pattern\":{\"shape\":\"\"}},\"name\":\"histogram\",\"nbinsx\":80,\"offsetgroup\":\"138887\",\"orientation\":\"v\",\"showlegend\":true,\"x\":[138887],\"xaxis\":\"x\",\"yaxis\":\"y3\",\"type\":\"histogram\"},{\"alignmentgroup\":\"True\",\"bingroup\":\"x\",\"hovertemplate\":\"SalePrice=%{x}<br>count=%{y}<extra></extra>\",\"legendgroup\":\"265900\",\"marker\":{\"color\":\"#1f77b4\",\"pattern\":{\"shape\":\"\"}},\"name\":\"histogram\",\"nbinsx\":80,\"offsetgroup\":\"265900\",\"orientation\":\"v\",\"showlegend\":true,\"x\":[265900],\"xaxis\":\"x\",\"yaxis\":\"y3\",\"type\":\"histogram\"},{\"alignmentgroup\":\"True\",\"bingroup\":\"x\",\"hovertemplate\":\"SalePrice=%{x}<br>count=%{y}<extra></extra>\",\"legendgroup\":\"248328\",\"marker\":{\"color\":\"#1f77b4\",\"pattern\":{\"shape\":\"\"}},\"name\":\"histogram\",\"nbinsx\":80,\"offsetgroup\":\"248328\",\"orientation\":\"v\",\"showlegend\":true,\"x\":[248328],\"xaxis\":\"x\",\"yaxis\":\"y3\",\"type\":\"histogram\"},{\"alignmentgroup\":\"True\",\"bingroup\":\"x\",\"hovertemplate\":\"SalePrice=%{x}<br>count=%{y}<extra></extra>\",\"legendgroup\":\"465000\",\"marker\":{\"color\":\"#1f77b4\",\"pattern\":{\"shape\":\"\"}},\"name\":\"histogram\",\"nbinsx\":80,\"offsetgroup\":\"465000\",\"orientation\":\"v\",\"showlegend\":true,\"x\":[465000],\"xaxis\":\"x\",\"yaxis\":\"y3\",\"type\":\"histogram\"},{\"alignmentgroup\":\"True\",\"bingroup\":\"x\",\"hovertemplate\":\"SalePrice=%{x}<br>count=%{y}<extra></extra>\",\"legendgroup\":\"186500\",\"marker\":{\"color\":\"#1f77b4\",\"pattern\":{\"shape\":\"\"}},\"name\":\"histogram\",\"nbinsx\":80,\"offsetgroup\":\"186500\",\"orientation\":\"v\",\"showlegend\":true,\"x\":[186500,186500],\"xaxis\":\"x\",\"yaxis\":\"y3\",\"type\":\"histogram\"},{\"alignmentgroup\":\"True\",\"bingroup\":\"x\",\"hovertemplate\":\"SalePrice=%{x}<br>count=%{y}<extra></extra>\",\"legendgroup\":\"169900\",\"marker\":{\"color\":\"#1f77b4\",\"pattern\":{\"shape\":\"\"}},\"name\":\"histogram\",\"nbinsx\":80,\"offsetgroup\":\"169900\",\"orientation\":\"v\",\"showlegend\":true,\"x\":[169900],\"xaxis\":\"x\",\"yaxis\":\"y3\",\"type\":\"histogram\"},{\"alignmentgroup\":\"True\",\"bingroup\":\"x\",\"hovertemplate\":\"SalePrice=%{x}<br>count=%{y}<extra></extra>\",\"legendgroup\":\"171750\",\"marker\":{\"color\":\"#1f77b4\",\"pattern\":{\"shape\":\"\"}},\"name\":\"histogram\",\"nbinsx\":80,\"offsetgroup\":\"171750\",\"orientation\":\"v\",\"showlegend\":true,\"x\":[171750],\"xaxis\":\"x\",\"yaxis\":\"y3\",\"type\":\"histogram\"},{\"alignmentgroup\":\"True\",\"bingroup\":\"x\",\"hovertemplate\":\"SalePrice=%{x}<br>count=%{y}<extra></extra>\",\"legendgroup\":\"294000\",\"marker\":{\"color\":\"#1f77b4\",\"pattern\":{\"shape\":\"\"}},\"name\":\"histogram\",\"nbinsx\":80,\"offsetgroup\":\"294000\",\"orientation\":\"v\",\"showlegend\":true,\"x\":[294000],\"xaxis\":\"x\",\"yaxis\":\"y3\",\"type\":\"histogram\"},{\"alignmentgroup\":\"True\",\"bingroup\":\"x\",\"hovertemplate\":\"SalePrice=%{x}<br>count=%{y}<extra></extra>\",\"legendgroup\":\"165400\",\"marker\":{\"color\":\"#1f77b4\",\"pattern\":{\"shape\":\"\"}},\"name\":\"histogram\",\"nbinsx\":80,\"offsetgroup\":\"165400\",\"orientation\":\"v\",\"showlegend\":true,\"x\":[165400],\"xaxis\":\"x\",\"yaxis\":\"y3\",\"type\":\"histogram\"},{\"alignmentgroup\":\"True\",\"bingroup\":\"x\",\"hovertemplate\":\"SalePrice=%{x}<br>count=%{y}<extra></extra>\",\"legendgroup\":\"301500\",\"marker\":{\"color\":\"#1f77b4\",\"pattern\":{\"shape\":\"\"}},\"name\":\"histogram\",\"nbinsx\":80,\"offsetgroup\":\"301500\",\"orientation\":\"v\",\"showlegend\":true,\"x\":[301500],\"xaxis\":\"x\",\"yaxis\":\"y3\",\"type\":\"histogram\"},{\"alignmentgroup\":\"True\",\"bingroup\":\"x\",\"hovertemplate\":\"SalePrice=%{x}<br>count=%{y}<extra></extra>\",\"legendgroup\":\"99900\",\"marker\":{\"color\":\"#1f77b4\",\"pattern\":{\"shape\":\"\"}},\"name\":\"histogram\",\"nbinsx\":80,\"offsetgroup\":\"99900\",\"orientation\":\"v\",\"showlegend\":true,\"x\":[99900],\"xaxis\":\"x\",\"yaxis\":\"y3\",\"type\":\"histogram\"},{\"alignmentgroup\":\"True\",\"bingroup\":\"x\",\"hovertemplate\":\"SalePrice=%{x}<br>count=%{y}<extra></extra>\",\"legendgroup\":\"128900\",\"marker\":{\"color\":\"#1f77b4\",\"pattern\":{\"shape\":\"\"}},\"name\":\"histogram\",\"nbinsx\":80,\"offsetgroup\":\"128900\",\"orientation\":\"v\",\"showlegend\":true,\"x\":[128900],\"xaxis\":\"x\",\"yaxis\":\"y3\",\"type\":\"histogram\"},{\"alignmentgroup\":\"True\",\"bingroup\":\"x\",\"hovertemplate\":\"SalePrice=%{x}<br>count=%{y}<extra></extra>\",\"legendgroup\":\"183900\",\"marker\":{\"color\":\"#1f77b4\",\"pattern\":{\"shape\":\"\"}},\"name\":\"histogram\",\"nbinsx\":80,\"offsetgroup\":\"183900\",\"orientation\":\"v\",\"showlegend\":true,\"x\":[183900],\"xaxis\":\"x\",\"yaxis\":\"y3\",\"type\":\"histogram\"},{\"alignmentgroup\":\"True\",\"bingroup\":\"x\",\"hovertemplate\":\"SalePrice=%{x}<br>count=%{y}<extra></extra>\",\"legendgroup\":\"378500\",\"marker\":{\"color\":\"#1f77b4\",\"pattern\":{\"shape\":\"\"}},\"name\":\"histogram\",\"nbinsx\":80,\"offsetgroup\":\"378500\",\"orientation\":\"v\",\"showlegend\":true,\"x\":[378500],\"xaxis\":\"x\",\"yaxis\":\"y3\",\"type\":\"histogram\"},{\"alignmentgroup\":\"True\",\"bingroup\":\"x\",\"hovertemplate\":\"SalePrice=%{x}<br>count=%{y}<extra></extra>\",\"legendgroup\":\"381000\",\"marker\":{\"color\":\"#1f77b4\",\"pattern\":{\"shape\":\"\"}},\"name\":\"histogram\",\"nbinsx\":80,\"offsetgroup\":\"381000\",\"orientation\":\"v\",\"showlegend\":true,\"x\":[381000],\"xaxis\":\"x\",\"yaxis\":\"y3\",\"type\":\"histogram\"},{\"alignmentgroup\":\"True\",\"bingroup\":\"x\",\"hovertemplate\":\"SalePrice=%{x}<br>count=%{y}<extra></extra>\",\"legendgroup\":\"185750\",\"marker\":{\"color\":\"#1f77b4\",\"pattern\":{\"shape\":\"\"}},\"name\":\"histogram\",\"nbinsx\":80,\"offsetgroup\":\"185750\",\"orientation\":\"v\",\"showlegend\":true,\"x\":[185750],\"xaxis\":\"x\",\"yaxis\":\"y3\",\"type\":\"histogram\"},{\"alignmentgroup\":\"True\",\"bingroup\":\"x\",\"hovertemplate\":\"SalePrice=%{x}<br>count=%{y}<extra></extra>\",\"legendgroup\":\"68400\",\"marker\":{\"color\":\"#1f77b4\",\"pattern\":{\"shape\":\"\"}},\"name\":\"histogram\",\"nbinsx\":80,\"offsetgroup\":\"68400\",\"orientation\":\"v\",\"showlegend\":true,\"x\":[68400],\"xaxis\":\"x\",\"yaxis\":\"y3\",\"type\":\"histogram\"},{\"alignmentgroup\":\"True\",\"bingroup\":\"x\",\"hovertemplate\":\"SalePrice=%{x}<br>count=%{y}<extra></extra>\",\"legendgroup\":\"150500\",\"marker\":{\"color\":\"#1f77b4\",\"pattern\":{\"shape\":\"\"}},\"name\":\"histogram\",\"nbinsx\":80,\"offsetgroup\":\"150500\",\"orientation\":\"v\",\"showlegend\":true,\"x\":[150500],\"xaxis\":\"x\",\"yaxis\":\"y3\",\"type\":\"histogram\"},{\"alignmentgroup\":\"True\",\"bingroup\":\"x\",\"hovertemplate\":\"SalePrice=%{x}<br>count=%{y}<extra></extra>\",\"legendgroup\":\"281000\",\"marker\":{\"color\":\"#1f77b4\",\"pattern\":{\"shape\":\"\"}},\"name\":\"histogram\",\"nbinsx\":80,\"offsetgroup\":\"281000\",\"orientation\":\"v\",\"showlegend\":true,\"x\":[281000],\"xaxis\":\"x\",\"yaxis\":\"y3\",\"type\":\"histogram\"},{\"alignmentgroup\":\"True\",\"bingroup\":\"x\",\"hovertemplate\":\"SalePrice=%{x}<br>count=%{y}<extra></extra>\",\"legendgroup\":\"333168\",\"marker\":{\"color\":\"#1f77b4\",\"pattern\":{\"shape\":\"\"}},\"name\":\"histogram\",\"nbinsx\":80,\"offsetgroup\":\"333168\",\"orientation\":\"v\",\"showlegend\":true,\"x\":[333168],\"xaxis\":\"x\",\"yaxis\":\"y3\",\"type\":\"histogram\"},{\"alignmentgroup\":\"True\",\"bingroup\":\"x\",\"hovertemplate\":\"SalePrice=%{x}<br>count=%{y}<extra></extra>\",\"legendgroup\":\"206900\",\"marker\":{\"color\":\"#1f77b4\",\"pattern\":{\"shape\":\"\"}},\"name\":\"histogram\",\"nbinsx\":80,\"offsetgroup\":\"206900\",\"orientation\":\"v\",\"showlegend\":true,\"x\":[206900],\"xaxis\":\"x\",\"yaxis\":\"y3\",\"type\":\"histogram\"},{\"alignmentgroup\":\"True\",\"bingroup\":\"x\",\"hovertemplate\":\"SalePrice=%{x}<br>count=%{y}<extra></extra>\",\"legendgroup\":\"295493\",\"marker\":{\"color\":\"#1f77b4\",\"pattern\":{\"shape\":\"\"}},\"name\":\"histogram\",\"nbinsx\":80,\"offsetgroup\":\"295493\",\"orientation\":\"v\",\"showlegend\":true,\"x\":[295493],\"xaxis\":\"x\",\"yaxis\":\"y3\",\"type\":\"histogram\"},{\"alignmentgroup\":\"True\",\"bingroup\":\"x\",\"hovertemplate\":\"SalePrice=%{x}<br>count=%{y}<extra></extra>\",\"legendgroup\":\"111000\",\"marker\":{\"color\":\"#1f77b4\",\"pattern\":{\"shape\":\"\"}},\"name\":\"histogram\",\"nbinsx\":80,\"offsetgroup\":\"111000\",\"orientation\":\"v\",\"showlegend\":true,\"x\":[111000],\"xaxis\":\"x\",\"yaxis\":\"y3\",\"type\":\"histogram\"},{\"alignmentgroup\":\"True\",\"bingroup\":\"x\",\"hovertemplate\":\"SalePrice=%{x}<br>count=%{y}<extra></extra>\",\"legendgroup\":\"156500\",\"marker\":{\"color\":\"#1f77b4\",\"pattern\":{\"shape\":\"\"}},\"name\":\"histogram\",\"nbinsx\":80,\"offsetgroup\":\"156500\",\"orientation\":\"v\",\"showlegend\":true,\"x\":[156500],\"xaxis\":\"x\",\"yaxis\":\"y3\",\"type\":\"histogram\"},{\"alignmentgroup\":\"True\",\"bingroup\":\"x\",\"hovertemplate\":\"SalePrice=%{x}<br>count=%{y}<extra></extra>\",\"legendgroup\":\"72500\",\"marker\":{\"color\":\"#1f77b4\",\"pattern\":{\"shape\":\"\"}},\"name\":\"histogram\",\"nbinsx\":80,\"offsetgroup\":\"72500\",\"orientation\":\"v\",\"showlegend\":true,\"x\":[72500],\"xaxis\":\"x\",\"yaxis\":\"y3\",\"type\":\"histogram\"},{\"alignmentgroup\":\"True\",\"bingroup\":\"x\",\"hovertemplate\":\"SalePrice=%{x}<br>count=%{y}<extra></extra>\",\"legendgroup\":\"52500\",\"marker\":{\"color\":\"#1f77b4\",\"pattern\":{\"shape\":\"\"}},\"name\":\"histogram\",\"nbinsx\":80,\"offsetgroup\":\"52500\",\"orientation\":\"v\",\"showlegend\":true,\"x\":[52500],\"xaxis\":\"x\",\"yaxis\":\"y3\",\"type\":\"histogram\"},{\"alignmentgroup\":\"True\",\"bingroup\":\"x\",\"hovertemplate\":\"SalePrice=%{x}<br>count=%{y}<extra></extra>\",\"legendgroup\":\"155835\",\"marker\":{\"color\":\"#1f77b4\",\"pattern\":{\"shape\":\"\"}},\"name\":\"histogram\",\"nbinsx\":80,\"offsetgroup\":\"155835\",\"orientation\":\"v\",\"showlegend\":true,\"x\":[155835],\"xaxis\":\"x\",\"yaxis\":\"y3\",\"type\":\"histogram\"},{\"alignmentgroup\":\"True\",\"bingroup\":\"x\",\"hovertemplate\":\"SalePrice=%{x}<br>count=%{y}<extra></extra>\",\"legendgroup\":\"108500\",\"marker\":{\"color\":\"#1f77b4\",\"pattern\":{\"shape\":\"\"}},\"name\":\"histogram\",\"nbinsx\":80,\"offsetgroup\":\"108500\",\"orientation\":\"v\",\"showlegend\":true,\"x\":[108500],\"xaxis\":\"x\",\"yaxis\":\"y3\",\"type\":\"histogram\"},{\"alignmentgroup\":\"True\",\"bingroup\":\"x\",\"hovertemplate\":\"SalePrice=%{x}<br>count=%{y}<extra></extra>\",\"legendgroup\":\"283463\",\"marker\":{\"color\":\"#1f77b4\",\"pattern\":{\"shape\":\"\"}},\"name\":\"histogram\",\"nbinsx\":80,\"offsetgroup\":\"283463\",\"orientation\":\"v\",\"showlegend\":true,\"x\":[283463],\"xaxis\":\"x\",\"yaxis\":\"y3\",\"type\":\"histogram\"},{\"alignmentgroup\":\"True\",\"bingroup\":\"x\",\"hovertemplate\":\"SalePrice=%{x}<br>count=%{y}<extra></extra>\",\"legendgroup\":\"410000\",\"marker\":{\"color\":\"#1f77b4\",\"pattern\":{\"shape\":\"\"}},\"name\":\"histogram\",\"nbinsx\":80,\"offsetgroup\":\"410000\",\"orientation\":\"v\",\"showlegend\":true,\"x\":[410000],\"xaxis\":\"x\",\"yaxis\":\"y3\",\"type\":\"histogram\"},{\"alignmentgroup\":\"True\",\"bingroup\":\"x\",\"hovertemplate\":\"SalePrice=%{x}<br>count=%{y}<extra></extra>\",\"legendgroup\":\"156932\",\"marker\":{\"color\":\"#1f77b4\",\"pattern\":{\"shape\":\"\"}},\"name\":\"histogram\",\"nbinsx\":80,\"offsetgroup\":\"156932\",\"orientation\":\"v\",\"showlegend\":true,\"x\":[156932],\"xaxis\":\"x\",\"yaxis\":\"y3\",\"type\":\"histogram\"},{\"alignmentgroup\":\"True\",\"bingroup\":\"x\",\"hovertemplate\":\"SalePrice=%{x}<br>count=%{y}<extra></extra>\",\"legendgroup\":\"144152\",\"marker\":{\"color\":\"#1f77b4\",\"pattern\":{\"shape\":\"\"}},\"name\":\"histogram\",\"nbinsx\":80,\"offsetgroup\":\"144152\",\"orientation\":\"v\",\"showlegend\":true,\"x\":[144152],\"xaxis\":\"x\",\"yaxis\":\"y3\",\"type\":\"histogram\"},{\"alignmentgroup\":\"True\",\"bingroup\":\"x\",\"hovertemplate\":\"SalePrice=%{x}<br>count=%{y}<extra></extra>\",\"legendgroup\":\"216000\",\"marker\":{\"color\":\"#1f77b4\",\"pattern\":{\"shape\":\"\"}},\"name\":\"histogram\",\"nbinsx\":80,\"offsetgroup\":\"216000\",\"orientation\":\"v\",\"showlegend\":true,\"x\":[216000],\"xaxis\":\"x\",\"yaxis\":\"y3\",\"type\":\"histogram\"},{\"alignmentgroup\":\"True\",\"bingroup\":\"x\",\"hovertemplate\":\"SalePrice=%{x}<br>count=%{y}<extra></extra>\",\"legendgroup\":\"274300\",\"marker\":{\"color\":\"#1f77b4\",\"pattern\":{\"shape\":\"\"}},\"name\":\"histogram\",\"nbinsx\":80,\"offsetgroup\":\"274300\",\"orientation\":\"v\",\"showlegend\":true,\"x\":[274300],\"xaxis\":\"x\",\"yaxis\":\"y3\",\"type\":\"histogram\"},{\"alignmentgroup\":\"True\",\"bingroup\":\"x\",\"hovertemplate\":\"SalePrice=%{x}<br>count=%{y}<extra></extra>\",\"legendgroup\":\"466500\",\"marker\":{\"color\":\"#1f77b4\",\"pattern\":{\"shape\":\"\"}},\"name\":\"histogram\",\"nbinsx\":80,\"offsetgroup\":\"466500\",\"orientation\":\"v\",\"showlegend\":true,\"x\":[466500],\"xaxis\":\"x\",\"yaxis\":\"y3\",\"type\":\"histogram\"},{\"alignmentgroup\":\"True\",\"bingroup\":\"x\",\"hovertemplate\":\"SalePrice=%{x}<br>count=%{y}<extra></extra>\",\"legendgroup\":\"58500\",\"marker\":{\"color\":\"#1f77b4\",\"pattern\":{\"shape\":\"\"}},\"name\":\"histogram\",\"nbinsx\":80,\"offsetgroup\":\"58500\",\"orientation\":\"v\",\"showlegend\":true,\"x\":[58500],\"xaxis\":\"x\",\"yaxis\":\"y3\",\"type\":\"histogram\"},{\"alignmentgroup\":\"True\",\"bingroup\":\"x\",\"hovertemplate\":\"SalePrice=%{x}<br>count=%{y}<extra></extra>\",\"legendgroup\":\"237500\",\"marker\":{\"color\":\"#1f77b4\",\"pattern\":{\"shape\":\"\"}},\"name\":\"histogram\",\"nbinsx\":80,\"offsetgroup\":\"237500\",\"orientation\":\"v\",\"showlegend\":true,\"x\":[237500],\"xaxis\":\"x\",\"yaxis\":\"y3\",\"type\":\"histogram\"},{\"alignmentgroup\":\"True\",\"bingroup\":\"x\",\"hovertemplate\":\"SalePrice=%{x}<br>count=%{y}<extra></extra>\",\"legendgroup\":\"377500\",\"marker\":{\"color\":\"#1f77b4\",\"pattern\":{\"shape\":\"\"}},\"name\":\"histogram\",\"nbinsx\":80,\"offsetgroup\":\"377500\",\"orientation\":\"v\",\"showlegend\":true,\"x\":[377500],\"xaxis\":\"x\",\"yaxis\":\"y3\",\"type\":\"histogram\"},{\"alignmentgroup\":\"True\",\"bingroup\":\"x\",\"hovertemplate\":\"SalePrice=%{x}<br>count=%{y}<extra></extra>\",\"legendgroup\":\"246578\",\"marker\":{\"color\":\"#1f77b4\",\"pattern\":{\"shape\":\"\"}},\"name\":\"histogram\",\"nbinsx\":80,\"offsetgroup\":\"246578\",\"orientation\":\"v\",\"showlegend\":true,\"x\":[246578],\"xaxis\":\"x\",\"yaxis\":\"y3\",\"type\":\"histogram\"},{\"alignmentgroup\":\"True\",\"bingroup\":\"x\",\"hovertemplate\":\"SalePrice=%{x}<br>count=%{y}<extra></extra>\",\"legendgroup\":\"281213\",\"marker\":{\"color\":\"#1f77b4\",\"pattern\":{\"shape\":\"\"}},\"name\":\"histogram\",\"nbinsx\":80,\"offsetgroup\":\"281213\",\"orientation\":\"v\",\"showlegend\":true,\"x\":[281213],\"xaxis\":\"x\",\"yaxis\":\"y3\",\"type\":\"histogram\"},{\"alignmentgroup\":\"True\",\"bingroup\":\"x\",\"hovertemplate\":\"SalePrice=%{x}<br>count=%{y}<extra></extra>\",\"legendgroup\":\"137450\",\"marker\":{\"color\":\"#1f77b4\",\"pattern\":{\"shape\":\"\"}},\"name\":\"histogram\",\"nbinsx\":80,\"offsetgroup\":\"137450\",\"orientation\":\"v\",\"showlegend\":true,\"x\":[137450],\"xaxis\":\"x\",\"yaxis\":\"y3\",\"type\":\"histogram\"},{\"alignmentgroup\":\"True\",\"bingroup\":\"x\",\"hovertemplate\":\"SalePrice=%{x}<br>count=%{y}<extra></extra>\",\"legendgroup\":\"193879\",\"marker\":{\"color\":\"#1f77b4\",\"pattern\":{\"shape\":\"\"}},\"name\":\"histogram\",\"nbinsx\":80,\"offsetgroup\":\"193879\",\"orientation\":\"v\",\"showlegend\":true,\"x\":[193879],\"xaxis\":\"x\",\"yaxis\":\"y3\",\"type\":\"histogram\"},{\"alignmentgroup\":\"True\",\"bingroup\":\"x\",\"hovertemplate\":\"SalePrice=%{x}<br>count=%{y}<extra></extra>\",\"legendgroup\":\"282922\",\"marker\":{\"color\":\"#1f77b4\",\"pattern\":{\"shape\":\"\"}},\"name\":\"histogram\",\"nbinsx\":80,\"offsetgroup\":\"282922\",\"orientation\":\"v\",\"showlegend\":true,\"x\":[282922],\"xaxis\":\"x\",\"yaxis\":\"y3\",\"type\":\"histogram\"},{\"alignmentgroup\":\"True\",\"bingroup\":\"x\",\"hovertemplate\":\"SalePrice=%{x}<br>count=%{y}<extra></extra>\",\"legendgroup\":\"257000\",\"marker\":{\"color\":\"#1f77b4\",\"pattern\":{\"shape\":\"\"}},\"name\":\"histogram\",\"nbinsx\":80,\"offsetgroup\":\"257000\",\"orientation\":\"v\",\"showlegend\":true,\"x\":[257000],\"xaxis\":\"x\",\"yaxis\":\"y3\",\"type\":\"histogram\"},{\"alignmentgroup\":\"True\",\"bingroup\":\"x\",\"hovertemplate\":\"SalePrice=%{x}<br>count=%{y}<extra></extra>\",\"legendgroup\":\"223000\",\"marker\":{\"color\":\"#1f77b4\",\"pattern\":{\"shape\":\"\"}},\"name\":\"histogram\",\"nbinsx\":80,\"offsetgroup\":\"223000\",\"orientation\":\"v\",\"showlegend\":true,\"x\":[223000],\"xaxis\":\"x\",\"yaxis\":\"y3\",\"type\":\"histogram\"},{\"alignmentgroup\":\"True\",\"bingroup\":\"x\",\"hovertemplate\":\"SalePrice=%{x}<br>count=%{y}<extra></extra>\",\"legendgroup\":\"274970\",\"marker\":{\"color\":\"#1f77b4\",\"pattern\":{\"shape\":\"\"}},\"name\":\"histogram\",\"nbinsx\":80,\"offsetgroup\":\"274970\",\"orientation\":\"v\",\"showlegend\":true,\"x\":[274970],\"xaxis\":\"x\",\"yaxis\":\"y3\",\"type\":\"histogram\"},{\"alignmentgroup\":\"True\",\"bingroup\":\"x\",\"hovertemplate\":\"SalePrice=%{x}<br>count=%{y}<extra></extra>\",\"legendgroup\":\"182900\",\"marker\":{\"color\":\"#1f77b4\",\"pattern\":{\"shape\":\"\"}},\"name\":\"histogram\",\"nbinsx\":80,\"offsetgroup\":\"182900\",\"orientation\":\"v\",\"showlegend\":true,\"x\":[182900],\"xaxis\":\"x\",\"yaxis\":\"y3\",\"type\":\"histogram\"},{\"alignmentgroup\":\"True\",\"bingroup\":\"x\",\"hovertemplate\":\"SalePrice=%{x}<br>count=%{y}<extra></extra>\",\"legendgroup\":\"192140\",\"marker\":{\"color\":\"#1f77b4\",\"pattern\":{\"shape\":\"\"}},\"name\":\"histogram\",\"nbinsx\":80,\"offsetgroup\":\"192140\",\"orientation\":\"v\",\"showlegend\":true,\"x\":[192140],\"xaxis\":\"x\",\"yaxis\":\"y3\",\"type\":\"histogram\"},{\"alignmentgroup\":\"True\",\"bingroup\":\"x\",\"hovertemplate\":\"SalePrice=%{x}<br>count=%{y}<extra></extra>\",\"legendgroup\":\"143750\",\"marker\":{\"color\":\"#1f77b4\",\"pattern\":{\"shape\":\"\"}},\"name\":\"histogram\",\"nbinsx\":80,\"offsetgroup\":\"143750\",\"orientation\":\"v\",\"showlegend\":true,\"x\":[143750],\"xaxis\":\"x\",\"yaxis\":\"y3\",\"type\":\"histogram\"},{\"alignmentgroup\":\"True\",\"bingroup\":\"x\",\"hovertemplate\":\"SalePrice=%{x}<br>count=%{y}<extra></extra>\",\"legendgroup\":\"64500\",\"marker\":{\"color\":\"#1f77b4\",\"pattern\":{\"shape\":\"\"}},\"name\":\"histogram\",\"nbinsx\":80,\"offsetgroup\":\"64500\",\"orientation\":\"v\",\"showlegend\":true,\"x\":[64500],\"xaxis\":\"x\",\"yaxis\":\"y3\",\"type\":\"histogram\"},{\"alignmentgroup\":\"True\",\"bingroup\":\"x\",\"hovertemplate\":\"SalePrice=%{x}<br>count=%{y}<extra></extra>\",\"legendgroup\":\"394617\",\"marker\":{\"color\":\"#1f77b4\",\"pattern\":{\"shape\":\"\"}},\"name\":\"histogram\",\"nbinsx\":80,\"offsetgroup\":\"394617\",\"orientation\":\"v\",\"showlegend\":true,\"x\":[394617],\"xaxis\":\"x\",\"yaxis\":\"y3\",\"type\":\"histogram\"},{\"alignmentgroup\":\"True\",\"bingroup\":\"x\",\"hovertemplate\":\"SalePrice=%{x}<br>count=%{y}<extra></extra>\",\"legendgroup\":\"149700\",\"marker\":{\"color\":\"#1f77b4\",\"pattern\":{\"shape\":\"\"}},\"name\":\"histogram\",\"nbinsx\":80,\"offsetgroup\":\"149700\",\"orientation\":\"v\",\"showlegend\":true,\"x\":[149700],\"xaxis\":\"x\",\"yaxis\":\"y3\",\"type\":\"histogram\"},{\"alignmentgroup\":\"True\",\"bingroup\":\"x\",\"hovertemplate\":\"SalePrice=%{x}<br>count=%{y}<extra></extra>\",\"legendgroup\":\"149300\",\"marker\":{\"color\":\"#1f77b4\",\"pattern\":{\"shape\":\"\"}},\"name\":\"histogram\",\"nbinsx\":80,\"offsetgroup\":\"149300\",\"orientation\":\"v\",\"showlegend\":true,\"x\":[149300],\"xaxis\":\"x\",\"yaxis\":\"y3\",\"type\":\"histogram\"},{\"alignmentgroup\":\"True\",\"bingroup\":\"x\",\"hovertemplate\":\"SalePrice=%{x}<br>count=%{y}<extra></extra>\",\"legendgroup\":\"121000\",\"marker\":{\"color\":\"#1f77b4\",\"pattern\":{\"shape\":\"\"}},\"name\":\"histogram\",\"nbinsx\":80,\"offsetgroup\":\"121000\",\"orientation\":\"v\",\"showlegend\":true,\"x\":[121000],\"xaxis\":\"x\",\"yaxis\":\"y3\",\"type\":\"histogram\"},{\"alignmentgroup\":\"True\",\"bingroup\":\"x\",\"hovertemplate\":\"SalePrice=%{x}<br>count=%{y}<extra></extra>\",\"legendgroup\":\"179600\",\"marker\":{\"color\":\"#1f77b4\",\"pattern\":{\"shape\":\"\"}},\"name\":\"histogram\",\"nbinsx\":80,\"offsetgroup\":\"179600\",\"orientation\":\"v\",\"showlegend\":true,\"x\":[179600],\"xaxis\":\"x\",\"yaxis\":\"y3\",\"type\":\"histogram\"},{\"alignmentgroup\":\"True\",\"bingroup\":\"x\",\"hovertemplate\":\"SalePrice=%{x}<br>count=%{y}<extra></extra>\",\"legendgroup\":\"92000\",\"marker\":{\"color\":\"#1f77b4\",\"pattern\":{\"shape\":\"\"}},\"name\":\"histogram\",\"nbinsx\":80,\"offsetgroup\":\"92000\",\"orientation\":\"v\",\"showlegend\":true,\"x\":[92000],\"xaxis\":\"x\",\"yaxis\":\"y3\",\"type\":\"histogram\"},{\"alignmentgroup\":\"True\",\"bingroup\":\"x\",\"hovertemplate\":\"SalePrice=%{x}<br>count=%{y}<extra></extra>\",\"legendgroup\":\"287090\",\"marker\":{\"color\":\"#1f77b4\",\"pattern\":{\"shape\":\"\"}},\"name\":\"histogram\",\"nbinsx\":80,\"offsetgroup\":\"287090\",\"orientation\":\"v\",\"showlegend\":true,\"x\":[287090],\"xaxis\":\"x\",\"yaxis\":\"y3\",\"type\":\"histogram\"},{\"alignmentgroup\":\"True\",\"bingroup\":\"x\",\"hovertemplate\":\"SalePrice=%{x}<br>count=%{y}<extra></extra>\",\"legendgroup\":\"266500\",\"marker\":{\"color\":\"#1f77b4\",\"pattern\":{\"shape\":\"\"}},\"name\":\"histogram\",\"nbinsx\":80,\"offsetgroup\":\"266500\",\"orientation\":\"v\",\"showlegend\":true,\"x\":[266500],\"xaxis\":\"x\",\"yaxis\":\"y3\",\"type\":\"histogram\"},{\"alignmentgroup\":\"True\",\"bingroup\":\"x\",\"hovertemplate\":\"SalePrice=%{x}<br>count=%{y}<extra></extra>\",\"legendgroup\":\"142125\",\"marker\":{\"color\":\"#1f77b4\",\"pattern\":{\"shape\":\"\"}},\"name\":\"histogram\",\"nbinsx\":80,\"offsetgroup\":\"142125\",\"orientation\":\"v\",\"showlegend\":true,\"x\":[142125],\"xaxis\":\"x\",\"yaxis\":\"y3\",\"type\":\"histogram\"},{\"alignmentgroup\":\"True\",\"bingroup\":\"x\",\"hovertemplate\":\"SalePrice=%{x}<br>count=%{y}<extra></extra>\",\"legendgroup\":\"147500\",\"marker\":{\"color\":\"#1f77b4\",\"pattern\":{\"shape\":\"\"}},\"name\":\"histogram\",\"nbinsx\":80,\"offsetgroup\":\"147500\",\"orientation\":\"v\",\"showlegend\":true,\"x\":[147500],\"xaxis\":\"x\",\"yaxis\":\"y3\",\"type\":\"histogram\"}],                        {\"barmode\":\"overlay\",\"hovermode\":\"closest\",\"legend\":{\"traceorder\":\"reversed\"},\"xaxis\":{\"anchor\":\"y2\",\"domain\":[0.0,1.0],\"zeroline\":false,\"title\":{\"text\":\"Cena\"}},\"yaxis\":{\"anchor\":\"free\",\"domain\":[0.35,1],\"position\":0.0,\"title\":{\"text\":\"Cz\\u0119stotliwo\\u015b\\u0107\"},\"visible\":false,\"showgrid\":false},\"yaxis2\":{\"anchor\":\"x\",\"domain\":[0,0.25],\"dtick\":1,\"showticklabels\":false,\"showgrid\":false},\"template\":{\"data\":{\"histogram2dcontour\":[{\"type\":\"histogram2dcontour\",\"colorbar\":{\"outlinewidth\":0,\"ticks\":\"\"},\"colorscale\":[[0.0,\"#0d0887\"],[0.1111111111111111,\"#46039f\"],[0.2222222222222222,\"#7201a8\"],[0.3333333333333333,\"#9c179e\"],[0.4444444444444444,\"#bd3786\"],[0.5555555555555556,\"#d8576b\"],[0.6666666666666666,\"#ed7953\"],[0.7777777777777778,\"#fb9f3a\"],[0.8888888888888888,\"#fdca26\"],[1.0,\"#f0f921\"]]}],\"choropleth\":[{\"type\":\"choropleth\",\"colorbar\":{\"outlinewidth\":0,\"ticks\":\"\"}}],\"histogram2d\":[{\"type\":\"histogram2d\",\"colorbar\":{\"outlinewidth\":0,\"ticks\":\"\"},\"colorscale\":[[0.0,\"#0d0887\"],[0.1111111111111111,\"#46039f\"],[0.2222222222222222,\"#7201a8\"],[0.3333333333333333,\"#9c179e\"],[0.4444444444444444,\"#bd3786\"],[0.5555555555555556,\"#d8576b\"],[0.6666666666666666,\"#ed7953\"],[0.7777777777777778,\"#fb9f3a\"],[0.8888888888888888,\"#fdca26\"],[1.0,\"#f0f921\"]]}],\"heatmap\":[{\"type\":\"heatmap\",\"colorbar\":{\"outlinewidth\":0,\"ticks\":\"\"},\"colorscale\":[[0.0,\"#0d0887\"],[0.1111111111111111,\"#46039f\"],[0.2222222222222222,\"#7201a8\"],[0.3333333333333333,\"#9c179e\"],[0.4444444444444444,\"#bd3786\"],[0.5555555555555556,\"#d8576b\"],[0.6666666666666666,\"#ed7953\"],[0.7777777777777778,\"#fb9f3a\"],[0.8888888888888888,\"#fdca26\"],[1.0,\"#f0f921\"]]}],\"heatmapgl\":[{\"type\":\"heatmapgl\",\"colorbar\":{\"outlinewidth\":0,\"ticks\":\"\"},\"colorscale\":[[0.0,\"#0d0887\"],[0.1111111111111111,\"#46039f\"],[0.2222222222222222,\"#7201a8\"],[0.3333333333333333,\"#9c179e\"],[0.4444444444444444,\"#bd3786\"],[0.5555555555555556,\"#d8576b\"],[0.6666666666666666,\"#ed7953\"],[0.7777777777777778,\"#fb9f3a\"],[0.8888888888888888,\"#fdca26\"],[1.0,\"#f0f921\"]]}],\"contourcarpet\":[{\"type\":\"contourcarpet\",\"colorbar\":{\"outlinewidth\":0,\"ticks\":\"\"}}],\"contour\":[{\"type\":\"contour\",\"colorbar\":{\"outlinewidth\":0,\"ticks\":\"\"},\"colorscale\":[[0.0,\"#0d0887\"],[0.1111111111111111,\"#46039f\"],[0.2222222222222222,\"#7201a8\"],[0.3333333333333333,\"#9c179e\"],[0.4444444444444444,\"#bd3786\"],[0.5555555555555556,\"#d8576b\"],[0.6666666666666666,\"#ed7953\"],[0.7777777777777778,\"#fb9f3a\"],[0.8888888888888888,\"#fdca26\"],[1.0,\"#f0f921\"]]}],\"surface\":[{\"type\":\"surface\",\"colorbar\":{\"outlinewidth\":0,\"ticks\":\"\"},\"colorscale\":[[0.0,\"#0d0887\"],[0.1111111111111111,\"#46039f\"],[0.2222222222222222,\"#7201a8\"],[0.3333333333333333,\"#9c179e\"],[0.4444444444444444,\"#bd3786\"],[0.5555555555555556,\"#d8576b\"],[0.6666666666666666,\"#ed7953\"],[0.7777777777777778,\"#fb9f3a\"],[0.8888888888888888,\"#fdca26\"],[1.0,\"#f0f921\"]]}],\"mesh3d\":[{\"type\":\"mesh3d\",\"colorbar\":{\"outlinewidth\":0,\"ticks\":\"\"}}],\"scatter\":[{\"fillpattern\":{\"fillmode\":\"overlay\",\"size\":10,\"solidity\":0.2},\"type\":\"scatter\"}],\"parcoords\":[{\"type\":\"parcoords\",\"line\":{\"colorbar\":{\"outlinewidth\":0,\"ticks\":\"\"}}}],\"scatterpolargl\":[{\"type\":\"scatterpolargl\",\"marker\":{\"colorbar\":{\"outlinewidth\":0,\"ticks\":\"\"}}}],\"bar\":[{\"error_x\":{\"color\":\"#2a3f5f\"},\"error_y\":{\"color\":\"#2a3f5f\"},\"marker\":{\"line\":{\"color\":\"#E5ECF6\",\"width\":0.5},\"pattern\":{\"fillmode\":\"overlay\",\"size\":10,\"solidity\":0.2}},\"type\":\"bar\"}],\"scattergeo\":[{\"type\":\"scattergeo\",\"marker\":{\"colorbar\":{\"outlinewidth\":0,\"ticks\":\"\"}}}],\"scatterpolar\":[{\"type\":\"scatterpolar\",\"marker\":{\"colorbar\":{\"outlinewidth\":0,\"ticks\":\"\"}}}],\"histogram\":[{\"marker\":{\"pattern\":{\"fillmode\":\"overlay\",\"size\":10,\"solidity\":0.2}},\"type\":\"histogram\"}],\"scattergl\":[{\"type\":\"scattergl\",\"marker\":{\"colorbar\":{\"outlinewidth\":0,\"ticks\":\"\"}}}],\"scatter3d\":[{\"type\":\"scatter3d\",\"line\":{\"colorbar\":{\"outlinewidth\":0,\"ticks\":\"\"}},\"marker\":{\"colorbar\":{\"outlinewidth\":0,\"ticks\":\"\"}}}],\"scattermapbox\":[{\"type\":\"scattermapbox\",\"marker\":{\"colorbar\":{\"outlinewidth\":0,\"ticks\":\"\"}}}],\"scatterternary\":[{\"type\":\"scatterternary\",\"marker\":{\"colorbar\":{\"outlinewidth\":0,\"ticks\":\"\"}}}],\"scattercarpet\":[{\"type\":\"scattercarpet\",\"marker\":{\"colorbar\":{\"outlinewidth\":0,\"ticks\":\"\"}}}],\"carpet\":[{\"aaxis\":{\"endlinecolor\":\"#2a3f5f\",\"gridcolor\":\"white\",\"linecolor\":\"white\",\"minorgridcolor\":\"white\",\"startlinecolor\":\"#2a3f5f\"},\"baxis\":{\"endlinecolor\":\"#2a3f5f\",\"gridcolor\":\"white\",\"linecolor\":\"white\",\"minorgridcolor\":\"white\",\"startlinecolor\":\"#2a3f5f\"},\"type\":\"carpet\"}],\"table\":[{\"cells\":{\"fill\":{\"color\":\"#EBF0F8\"},\"line\":{\"color\":\"white\"}},\"header\":{\"fill\":{\"color\":\"#C8D4E3\"},\"line\":{\"color\":\"white\"}},\"type\":\"table\"}],\"barpolar\":[{\"marker\":{\"line\":{\"color\":\"#E5ECF6\",\"width\":0.5},\"pattern\":{\"fillmode\":\"overlay\",\"size\":10,\"solidity\":0.2}},\"type\":\"barpolar\"}],\"pie\":[{\"automargin\":true,\"type\":\"pie\"}]},\"layout\":{\"autotypenumbers\":\"strict\",\"colorway\":[\"#636efa\",\"#EF553B\",\"#00cc96\",\"#ab63fa\",\"#FFA15A\",\"#19d3f3\",\"#FF6692\",\"#B6E880\",\"#FF97FF\",\"#FECB52\"],\"font\":{\"color\":\"#2a3f5f\"},\"hovermode\":\"closest\",\"hoverlabel\":{\"align\":\"left\"},\"paper_bgcolor\":\"white\",\"plot_bgcolor\":\"#E5ECF6\",\"polar\":{\"bgcolor\":\"#E5ECF6\",\"angularaxis\":{\"gridcolor\":\"white\",\"linecolor\":\"white\",\"ticks\":\"\"},\"radialaxis\":{\"gridcolor\":\"white\",\"linecolor\":\"white\",\"ticks\":\"\"}},\"ternary\":{\"bgcolor\":\"#E5ECF6\",\"aaxis\":{\"gridcolor\":\"white\",\"linecolor\":\"white\",\"ticks\":\"\"},\"baxis\":{\"gridcolor\":\"white\",\"linecolor\":\"white\",\"ticks\":\"\"},\"caxis\":{\"gridcolor\":\"white\",\"linecolor\":\"white\",\"ticks\":\"\"}},\"coloraxis\":{\"colorbar\":{\"outlinewidth\":0,\"ticks\":\"\"}},\"colorscale\":{\"sequential\":[[0.0,\"#0d0887\"],[0.1111111111111111,\"#46039f\"],[0.2222222222222222,\"#7201a8\"],[0.3333333333333333,\"#9c179e\"],[0.4444444444444444,\"#bd3786\"],[0.5555555555555556,\"#d8576b\"],[0.6666666666666666,\"#ed7953\"],[0.7777777777777778,\"#fb9f3a\"],[0.8888888888888888,\"#fdca26\"],[1.0,\"#f0f921\"]],\"sequentialminus\":[[0.0,\"#0d0887\"],[0.1111111111111111,\"#46039f\"],[0.2222222222222222,\"#7201a8\"],[0.3333333333333333,\"#9c179e\"],[0.4444444444444444,\"#bd3786\"],[0.5555555555555556,\"#d8576b\"],[0.6666666666666666,\"#ed7953\"],[0.7777777777777778,\"#fb9f3a\"],[0.8888888888888888,\"#fdca26\"],[1.0,\"#f0f921\"]],\"diverging\":[[0,\"#8e0152\"],[0.1,\"#c51b7d\"],[0.2,\"#de77ae\"],[0.3,\"#f1b6da\"],[0.4,\"#fde0ef\"],[0.5,\"#f7f7f7\"],[0.6,\"#e6f5d0\"],[0.7,\"#b8e186\"],[0.8,\"#7fbc41\"],[0.9,\"#4d9221\"],[1,\"#276419\"]]},\"xaxis\":{\"gridcolor\":\"white\",\"linecolor\":\"white\",\"ticks\":\"\",\"title\":{\"standoff\":15},\"zerolinecolor\":\"white\",\"automargin\":true,\"zerolinewidth\":2},\"yaxis\":{\"gridcolor\":\"white\",\"linecolor\":\"white\",\"ticks\":\"\",\"title\":{\"standoff\":15},\"zerolinecolor\":\"white\",\"automargin\":true,\"zerolinewidth\":2},\"scene\":{\"xaxis\":{\"backgroundcolor\":\"#E5ECF6\",\"gridcolor\":\"white\",\"linecolor\":\"white\",\"showbackground\":true,\"ticks\":\"\",\"zerolinecolor\":\"white\",\"gridwidth\":2},\"yaxis\":{\"backgroundcolor\":\"#E5ECF6\",\"gridcolor\":\"white\",\"linecolor\":\"white\",\"showbackground\":true,\"ticks\":\"\",\"zerolinecolor\":\"white\",\"gridwidth\":2},\"zaxis\":{\"backgroundcolor\":\"#E5ECF6\",\"gridcolor\":\"white\",\"linecolor\":\"white\",\"showbackground\":true,\"ticks\":\"\",\"zerolinecolor\":\"white\",\"gridwidth\":2}},\"shapedefaults\":{\"line\":{\"color\":\"#2a3f5f\"}},\"annotationdefaults\":{\"arrowcolor\":\"#2a3f5f\",\"arrowhead\":0,\"arrowwidth\":1},\"geo\":{\"bgcolor\":\"white\",\"landcolor\":\"#E5ECF6\",\"subunitcolor\":\"white\",\"showland\":true,\"showlakes\":true,\"lakecolor\":\"white\"},\"title\":{\"x\":0.05},\"mapbox\":{\"style\":\"light\"}}},\"yaxis3\":{\"overlaying\":\"y\",\"side\":\"left\",\"showgrid\":false},\"showlegend\":false,\"title\":{\"font\":{\"size\":30},\"text\":\"Rozk\\u0142ad zmiennej SalePrice\",\"x\":0.5},\"font\":{\"color\":\"black\"},\"paper_bgcolor\":\"rgba(0,0,0,0)\",\"plot_bgcolor\":\"rgba(0,0,0,0)\"},                        {\"responsive\": true}                    ).then(function(){\n",
       "                            \n",
       "var gd = document.getElementById('c058270c-39e7-49ee-a5a6-74b23e8715ae');\n",
       "var x = new MutationObserver(function (mutations, observer) {{\n",
       "        var display = window.getComputedStyle(gd).display;\n",
       "        if (!display || display === 'none') {{\n",
       "            console.log([gd, 'removed!']);\n",
       "            Plotly.purge(gd);\n",
       "            observer.disconnect();\n",
       "        }}\n",
       "}});\n",
       "\n",
       "// Listen for the removal of the full notebook cells\n",
       "var notebookContainer = gd.closest('#notebook-container');\n",
       "if (notebookContainer) {{\n",
       "    x.observe(notebookContainer, {childList: true});\n",
       "}}\n",
       "\n",
       "// Listen for the clearing of the current output cell\n",
       "var outputEl = gd.closest('.output');\n",
       "if (outputEl) {{\n",
       "    x.observe(outputEl, {childList: true});\n",
       "}}\n",
       "\n",
       "                        })                };                });            </script>        </div>"
      ]
     },
     "metadata": {},
     "output_type": "display_data"
    }
   ],
   "source": [
    "cg = CreateGraph(df_train)\n",
    "cg.hist_with_normal_curve()"
   ]
  },
  {
   "cell_type": "markdown",
   "metadata": {
    "pycharm": {
     "name": "#%% md\n"
    }
   },
   "source": [
    "<h5><center>Atrybuty nienumeryczne</center></h5>"
   ]
  },
  {
   "cell_type": "code",
   "execution_count": 11,
   "metadata": {
    "pycharm": {
     "name": "#%%\n"
    }
   },
   "outputs": [
    {
     "name": "stdout",
     "output_type": "stream",
     "text": [
      "Ilość atrybutów nienumerycznych wynosi 43\n"
     ]
    }
   ],
   "source": [
    "print(\"Ilość atrybutów nienumerycznych wynosi {categorical}\".format(categorical=np.count_nonzero(df_train.dtypes==object)))"
   ]
  },
  {
   "cell_type": "markdown",
   "metadata": {
    "pycharm": {
     "name": "#%% md\n"
    }
   },
   "source": [
    "<h5><center>Atrybuty numeryczne</center></h5>"
   ]
  },
  {
   "cell_type": "code",
   "execution_count": 12,
   "metadata": {
    "pycharm": {
     "name": "#%%\n"
    }
   },
   "outputs": [
    {
     "name": "stdout",
     "output_type": "stream",
     "text": [
      "Ilość atrybutów numerycznych wynosi 38\n"
     ]
    }
   ],
   "source": [
    "numerics = ['int16', 'int32', 'int64', 'float16', 'float32', 'float64']\n",
    "print(\"Ilość atrybutów numerycznych wynosi {numerical}\".format(numerical=len(df_train.select_dtypes(include=numerics).columns)))"
   ]
  },
  {
   "cell_type": "markdown",
   "metadata": {
    "pycharm": {
     "name": "#%% md\n"
    }
   },
   "source": [
    "<h5><center>Konwersja zmiennych kategorycznych zapisanych jako numeryczne na zmienne typu string</center></h5>"
   ]
  },
  {
   "cell_type": "code",
   "execution_count": 13,
   "metadata": {
    "pycharm": {
     "name": "#%%\n"
    }
   },
   "outputs": [],
   "source": [
    "num_to_cat = ['YrSold', 'MoSold', 'MSSubClass', 'GarageYrBlt',  'YearBuilt',\n",
    "              'YearRemodAdd', 'BsmtFullBath', 'BsmtHalfBath', 'FullBath', 'HalfBath']\n",
    "df_train[num_to_cat] = df_train[num_to_cat].astype('str')\n",
    "df_test[num_to_cat] = df_test[num_to_cat].astype('str')"
   ]
  },
  {
   "cell_type": "markdown",
   "metadata": {
    "pycharm": {
     "name": "#%% md\n"
    }
   },
   "source": [
    "<h5><center>Wypełnienie brakujacych wartości</center></h5>"
   ]
  },
  {
   "cell_type": "code",
   "execution_count": 14,
   "metadata": {
    "pycharm": {
     "name": "#%%\n"
    }
   },
   "outputs": [],
   "source": [
    "columns_to_fill =['PoolQC','MiscFeature','Alley','Fence','MasVnrType','FireplaceQu',\n",
    "               'GarageQual','GarageCond','GarageFinish','GarageType', 'Electrical',\n",
    "                'Functional', 'Exterior2nd', 'Exterior1st',\n",
    "               'BsmtExposure','BsmtCond','BsmtQual','BsmtFinType1','BsmtFinType2'\n",
    "               ]\n",
    "df_train[columns_to_fill] = df_train[columns_to_fill].fillna(\"None\")\n",
    "df_test[columns_to_fill] = df_test[columns_to_fill].fillna(\"None\")"
   ]
  },
  {
   "cell_type": "code",
   "execution_count": 15,
   "metadata": {
    "pycharm": {
     "name": "#%%\n"
    }
   },
   "outputs": [],
   "source": [
    "columns_to_fill_mode = ['MSZoning', \"Utilities\", \"KitchenQual\", \"SaleType\"]\n",
    "md_test = MissingData"
   ]
  },
  {
   "cell_type": "markdown",
   "metadata": {
    "pycharm": {
     "name": "#%% md\n"
    }
   },
   "source": [
    "<h5><center>Skośność atrybutów numerycznych większa od 1 - zbiór treningowy</center></h5>"
   ]
  },
  {
   "cell_type": "code",
   "execution_count": 16,
   "metadata": {
    "pycharm": {
     "name": "#%%\n"
    }
   },
   "outputs": [
    {
     "name": "stdout",
     "output_type": "stream",
     "text": [
      "                       0\n",
      "MiscVal        24.451640\n",
      "PoolArea       14.813135\n",
      "LotArea        12.195142\n",
      "3SsnPorch      10.293752\n",
      "LowQualFinSF    9.002080\n",
      "KitchenAbvGr    4.483784\n",
      "BsmtFinSF2      4.250888\n",
      "ScreenPorch     4.117977\n",
      "EnclosedPorch   3.086696\n",
      "OpenPorchSF     2.361912\n",
      "SalePrice       1.880941\n",
      "BsmtFinSF1      1.683771\n",
      "WoodDeckSF      1.539792\n",
      "TotalBsmtSF     1.522688\n",
      "1stFlrSF        1.375342\n",
      "GrLivArea       1.365156\n"
     ]
    }
   ],
   "source": [
    "da = DataAnalysis(df_train)\n",
    "print(da.check_skewness())"
   ]
  },
  {
   "cell_type": "markdown",
   "metadata": {
    "pycharm": {
     "name": "#%% md\n"
    }
   },
   "source": [
    "<h5><center>Usunięcie zbędnych atrybutów numerycznych</center></h5>"
   ]
  },
  {
   "cell_type": "code",
   "execution_count": 17,
   "metadata": {
    "pycharm": {
     "name": "#%%\n"
    }
   },
   "outputs": [],
   "source": [
    "Y_train = df_train['SalePrice'].copy()\n",
    "df_train = df_train.drop(['SalePrice'],axis=1)\n",
    "to_del = ['Utilities', 'Electrical', 'Street','PoolQC', 'GarageYrBlt', \"Id\"]\n",
    "df_train = df_train.drop(to_del, axis=1)\n",
    "df_test = df_test.drop(to_del, axis=1)"
   ]
  },
  {
   "cell_type": "markdown",
   "metadata": {
    "pycharm": {
     "name": "#%% md\n"
    }
   },
   "source": [
    "## <center>Trenowanie modeli ML</center><a id=\"sekcja-3\"></a>"
   ]
  },
  {
   "cell_type": "markdown",
   "metadata": {
    "pycharm": {
     "name": "#%% md\n"
    }
   },
   "source": [
    "Do predykcji ceny nieruchomości wybrane zostały 4 algorytmy uczenia maszynowego:\n",
    " * model interpretowalny - Drzewo Decyzyjne,\n",
    " * modele black-box, które w swoim działaniu używają drzew decyzyjnych tj. AdaBoost, XGBoost oraz Lasy Losowe\n",
    "\n",
    "Jako kryterium oceny wyników modelów wybrany został pierwiastek z błędu średniokwadratowego.\n",
    "Zmienne kategoryczne o liczbie wartości unikalnych poniżej 6 zostały kodowane metodą binarną, pozostałe zostały przekształcone do postaci numerycznej metodą TargetEncoder.\n",
    "\n",
    "Dobór Hiper parametrów ogólne założenia:\n",
    "•\tMiarą do oceny kombinacji parametrów był błąd średniokwadratowy.\n",
    "•\tKombinacje parametrów weryfikowane były przy użyciu 10-krotnej walidacji krzyżowej.\n",
    "•\tPierwsza iteracja przeszukiwania przestrzeni hiper parametrów odbywała się przy użyciu optymalizacji Bayesowskiej – ze względu na wysoką złożoność obliczeniową w przypadku wykorzystania metody GridSearch (w pierwszej iteracji przeszukiwano po kilka wartości, kilku różnych parametrów).\n",
    "•\tKolejne iteracje przeszukiwania przestrzeni hiper parametrów odbywały się przy użyciu metody GridSearchCV. W ramach jednej iteracji testowano różne (maksymalnie 5) wartości wybranego parametru, pozostałe parametry pozostawały niezmienne.\n",
    "•\tW przypadku uzyskania wyników nieznacznie różniących się między sobą, wybierana została wartość parametru w pierwszej kolejności mająca mniejszy wpływ na przeuczenie modelu, następnie brano pod uwagę także wpływ na złożoność obliczeniową."
   ]
  },
  {
   "cell_type": "code",
   "execution_count": 18,
   "metadata": {
    "pycharm": {
     "name": "#%%\n"
    }
   },
   "outputs": [],
   "source": [
    "#musi być jeszcze df_train w ostatecznej wersji i trzeba wydzielić z niego Y_train\n",
    "numerical_features = df_train.select_dtypes(include=numerics).columns\n",
    "categorical_features = df_train.drop(numerical_features, axis=1).columns.copy()"
   ]
  },
  {
   "cell_type": "code",
   "execution_count": 19,
   "metadata": {
    "pycharm": {
     "name": "#%%\n"
    }
   },
   "outputs": [],
   "source": [
    "outliers = [898, 1423, 1169, 278, 1046, 409, 1181, 1182, 1065, 1324, 45, 559, 688, 691, 822, 313, 581, 462, 1359, 473, 218, 1244, 608, 864, 238, 496, 885, 632,523,1298,30, 88, 631, 1322]\n",
    "df_train=df_train.drop(df_train.index[outliers])\n",
    "Y_train = Y_train.drop(Y_train.index[outliers])"
   ]
  },
  {
   "cell_type": "code",
   "execution_count": 20,
   "metadata": {
    "pycharm": {
     "name": "#%%\n"
    }
   },
   "outputs": [],
   "source": [
    "numerical_transformer = Pipeline(\n",
    "    steps=[\n",
    "        ('KNNImputer', KNNImputer(n_neighbors=10)),\n",
    "        ('scaler', NumericScaler())\n",
    "    ]\n",
    ")\n",
    "categorical_transformer = Pipeline(\n",
    "    steps=[\n",
    "       (\"SimpleImputer\",SimpleImputer(strategy=\"constant\", missing_values=np.nan,fill_value=\"NULL\" )),\n",
    "        ('scaler', CatScaler())\n",
    "    ]\n",
    ")\n",
    "\n",
    "preprocessor = ColumnTransformer(\n",
    "    transformers=[\n",
    "        ('num', numerical_transformer, numerical_features),\n",
    "        ('cat', categorical_transformer, categorical_features)\n",
    "    ]\n",
    ")"
   ]
  },
  {
   "cell_type": "code",
   "execution_count": 21,
   "metadata": {
    "pycharm": {
     "name": "#%%\n"
    }
   },
   "outputs": [
    {
     "data": {
      "text/plain": [
       "<assets.make_models.MakeModel at 0x283fbc1c0>"
      ]
     },
     "execution_count": 21,
     "metadata": {},
     "output_type": "execute_result"
    }
   ],
   "source": [
    "MLModels = MakeModel()\n",
    "MLModels.add_preprocessor(preprocessor)"
   ]
  },
  {
   "cell_type": "markdown",
   "metadata": {
    "pycharm": {
     "name": "#%% md\n"
    }
   },
   "source": [
    "<h4><center>XGBoost</center></h4>"
   ]
  },
  {
   "cell_type": "code",
   "execution_count": 22,
   "metadata": {
    "pycharm": {
     "name": "#%%\n"
    }
   },
   "outputs": [
    {
     "name": "stdout",
     "output_type": "stream",
     "text": [
      "Fitting 10 folds for each of 1 candidates, totalling 10 fits\n"
     ]
    },
    {
     "name": "stderr",
     "output_type": "stream",
     "text": [
      "/Users/jakub/PYTHON/REMF-Render/venv/lib/python3.9/site-packages/statsmodels/compat/pandas.py:65: FutureWarning: pandas.Int64Index is deprecated and will be removed from pandas in a future version. Use pandas.Index with the appropriate dtype instead.\n",
      "  from pandas import Int64Index as NumericIndex\n",
      "/Users/jakub/PYTHON/REMF-Render/venv/lib/python3.9/site-packages/statsmodels/compat/pandas.py:65: FutureWarning: pandas.Int64Index is deprecated and will be removed from pandas in a future version. Use pandas.Index with the appropriate dtype instead.\n",
      "  from pandas import Int64Index as NumericIndex\n",
      "/Users/jakub/PYTHON/REMF-Render/venv/lib/python3.9/site-packages/statsmodels/compat/pandas.py:65: FutureWarning: pandas.Int64Index is deprecated and will be removed from pandas in a future version. Use pandas.Index with the appropriate dtype instead.\n",
      "  from pandas import Int64Index as NumericIndex\n",
      "/Users/jakub/PYTHON/REMF-Render/venv/lib/python3.9/site-packages/statsmodels/compat/pandas.py:65: FutureWarning: pandas.Int64Index is deprecated and will be removed from pandas in a future version. Use pandas.Index with the appropriate dtype instead.\n",
      "  from pandas import Int64Index as NumericIndex\n",
      "/Users/jakub/PYTHON/REMF-Render/venv/lib/python3.9/site-packages/statsmodels/compat/pandas.py:65: FutureWarning: pandas.Int64Index is deprecated and will be removed from pandas in a future version. Use pandas.Index with the appropriate dtype instead.\n",
      "  from pandas import Int64Index as NumericIndex\n",
      "/Users/jakub/PYTHON/REMF-Render/venv/lib/python3.9/site-packages/statsmodels/compat/pandas.py:65: FutureWarning: pandas.Int64Index is deprecated and will be removed from pandas in a future version. Use pandas.Index with the appropriate dtype instead.\n",
      "  from pandas import Int64Index as NumericIndex\n",
      "/Users/jakub/PYTHON/REMF-Render/venv/lib/python3.9/site-packages/statsmodels/compat/pandas.py:65: FutureWarning: pandas.Int64Index is deprecated and will be removed from pandas in a future version. Use pandas.Index with the appropriate dtype instead.\n",
      "  from pandas import Int64Index as NumericIndex\n",
      "/Users/jakub/PYTHON/REMF-Render/venv/lib/python3.9/site-packages/statsmodels/compat/pandas.py:65: FutureWarning: pandas.Int64Index is deprecated and will be removed from pandas in a future version. Use pandas.Index with the appropriate dtype instead.\n",
      "  from pandas import Int64Index as NumericIndex\n"
     ]
    },
    {
     "name": "stdout",
     "output_type": "stream",
     "text": [
      "[23:59:26] WARNING: /Users/runner/work/xgboost/xgboost/python-package/build/temp.macosx-11.0-arm64-cpython-38/xgboost/src/objective/regression_obj.cu:203: reg:linear is now deprecated in favor of reg:squarederror.\n",
      "Najlepszy estymator: \n",
      "Pipeline(steps=[('preprocessor',\n",
      "                 ColumnTransformer(transformers=[('num',\n",
      "                                                  Pipeline(steps=[('KNNImputer',\n",
      "                                                                   KNNImputer(n_neighbors=10)),\n",
      "                                                                  ('scaler',\n",
      "                                                                   NumericScaler())]),\n",
      "                                                  Index(['LotFrontage', 'LotArea', 'OverallQual', 'OverallCond', 'MasVnrArea',\n",
      "       'BsmtFinSF1', 'BsmtFinSF2', 'BsmtUnfSF', 'TotalBsmtSF', '1stFlrSF',\n",
      "       '2ndFlrSF', 'LowQualFinSF', 'GrLivArea', 'BedroomAbvGr', 'Kit...\n",
      "                                                                   gpu_id=None,\n",
      "                                                                   grow_policy=None,\n",
      "                                                                   importance_type=None,\n",
      "                                                                   interaction_constraints=None,\n",
      "                                                                   learning_rate=None,\n",
      "                                                                   max_bin=None,\n",
      "                                                                   max_cat_to_onehot=None,\n",
      "                                                                   max_delta_step=None,\n",
      "                                                                   max_depth=4,\n",
      "                                                                   max_leaves=None,\n",
      "                                                                   min_child_weight=6,\n",
      "                                                                   missing=nan,\n",
      "                                                                   monotone_constraints=None,\n",
      "                                                                   n_estimators=425,\n",
      "                                                                   n_jobs=None,\n",
      "                                                                   num_parallel_tree=None,\n",
      "                                                                   objective='reg:linear',\n",
      "                                                                   predictor=None,\n",
      "                                                                   random_state=42, ...)))])\n",
      "\n",
      "Najlepszy wynik: \n",
      "19374.38291081557\n",
      "\n",
      "Najlepszy parametr: \n",
      "{'regressor__regressor__colsample_bytree': 0.6998820355976964, 'regressor__regressor__eta': 0.09645082865558717, 'regressor__regressor__gamma': 0.05, 'regressor__regressor__max_depth': 4, 'regressor__regressor__min_child_weight': 6, 'regressor__regressor__n_estimators': 425, 'regressor__regressor__subsample': 0.75}\n"
     ]
    },
    {
     "data": {
      "text/plain": [
       "<assets.make_models.MakeModel at 0x283fbc1c0>"
      ]
     },
     "execution_count": 22,
     "metadata": {},
     "output_type": "execute_result"
    }
   ],
   "source": [
    "xgb = 'XGBoost'\n",
    "MLModels.add_model(xgb,XGBRegressor(booster='gbtree', objective=\"reg:linear\", random_state=42, reg_alpha=0.00006))\n",
    "parameters = {\n",
    "    \"regressor__regressor__eta\":[0.09645082865558717],\n",
    "    \"regressor__regressor__n_estimators\": [425],\n",
    "    \"regressor__regressor__max_depth\" : [4],\n",
    "    \"regressor__regressor__subsample\" : [0.75],\n",
    "    \"regressor__regressor__colsample_bytree\" : [0.6998820355976964],\n",
    "    \"regressor__regressor__min_child_weight\" : [6],\n",
    "    \"regressor__regressor__gamma\": [0.05]\n",
    "              }\n",
    "#print(df_train.shape)\n",
    "MLModels.gridsearch(xgb,df_train, Y_train, parameters)"
   ]
  },
  {
   "cell_type": "markdown",
   "metadata": {
    "pycharm": {
     "name": "#%% md\n"
    }
   },
   "source": [
    "<h4><center>AdaBoost</center></h4>§"
   ]
  },
  {
   "cell_type": "code",
   "execution_count": 23,
   "metadata": {
    "pycharm": {
     "name": "#%%\n"
    }
   },
   "outputs": [
    {
     "name": "stdout",
     "output_type": "stream",
     "text": [
      "Fitting 10 folds for each of 3 candidates, totalling 30 fits\n",
      "Najlepszy estymator: \n",
      "Pipeline(steps=[('preprocessor',\n",
      "                 ColumnTransformer(transformers=[('num',\n",
      "                                                  Pipeline(steps=[('KNNImputer',\n",
      "                                                                   KNNImputer(n_neighbors=10)),\n",
      "                                                                  ('scaler',\n",
      "                                                                   NumericScaler())]),\n",
      "                                                  Index(['LotFrontage', 'LotArea', 'OverallQual', 'OverallCond', 'MasVnrArea',\n",
      "       'BsmtFinSF1', 'BsmtFinSF2', 'BsmtUnfSF', 'TotalBsmtSF', '1stFlrSF',\n",
      "       '2ndFlrSF', 'LowQualFinSF', 'GrLivArea', 'BedroomAbvGr', 'Kit...\n",
      "       'Functional', 'FireplaceQu', 'GarageType', 'GarageFinish', 'GarageQual',\n",
      "       'GarageCond', 'PavedDrive', 'Fence', 'MiscFeature', 'MoSold', 'YrSold',\n",
      "       'SaleType', 'SaleCondition'],\n",
      "      dtype='object'))])),\n",
      "                ('regressor',\n",
      "                 TransformedTargetRegressor(func=<ufunc 'log'>,\n",
      "                                            inverse_func=<ufunc 'exp'>,\n",
      "                                            regressor=AdaBoostRegressor(base_estimator=DecisionTreeRegressor(max_depth=5,\n",
      "                                                                                                             min_samples_leaf=2),\n",
      "                                                                        loss='square',\n",
      "                                                                        n_estimators=100,\n",
      "                                                                        random_state=42)))])\n",
      "\n",
      "Najlepszy wynik: \n",
      "23762.121310836686\n",
      "\n",
      "Najlepszy parametr: \n",
      "{'regressor__regressor__base_estimator': DecisionTreeRegressor(max_depth=5, min_samples_leaf=2), 'regressor__regressor__loss': 'square', 'regressor__regressor__n_estimators': 100}\n"
     ]
    },
    {
     "data": {
      "text/plain": [
       "<assets.make_models.MakeModel at 0x283fbc1c0>"
      ]
     },
     "execution_count": 23,
     "metadata": {},
     "output_type": "execute_result"
    }
   ],
   "source": [
    "ada = \"AdaBoost\"\n",
    "MLModels.add_model(ada,AdaBoostRegressor(random_state=42))\n",
    "parameters ={\n",
    "    \"regressor__regressor__base_estimator\":[DecisionTreeRegressor(max_depth=5,min_samples_leaf=2),None,DecisionTreeRegressor(max_depth=4,min_samples_leaf=2)],\n",
    "    \"regressor__regressor__n_estimators\":[100],\n",
    "    \"regressor__regressor__loss\":['square']\n",
    "}\n",
    "MLModels.gridsearch(ada,df_train, Y_train, parameters)"
   ]
  },
  {
   "cell_type": "markdown",
   "metadata": {
    "pycharm": {
     "name": "#%% md\n"
    }
   },
   "source": [
    "<h4><center>Random Forest - Lasy Losowe</center></h4>"
   ]
  },
  {
   "cell_type": "code",
   "execution_count": 24,
   "metadata": {
    "pycharm": {
     "name": "#%%\n"
    }
   },
   "outputs": [
    {
     "name": "stdout",
     "output_type": "stream",
     "text": [
      "Fitting 10 folds for each of 1 candidates, totalling 10 fits\n",
      "Najlepszy estymator: \n",
      "Pipeline(steps=[('preprocessor',\n",
      "                 ColumnTransformer(transformers=[('num',\n",
      "                                                  Pipeline(steps=[('KNNImputer',\n",
      "                                                                   KNNImputer(n_neighbors=10)),\n",
      "                                                                  ('scaler',\n",
      "                                                                   NumericScaler())]),\n",
      "                                                  Index(['LotFrontage', 'LotArea', 'OverallQual', 'OverallCond', 'MasVnrArea',\n",
      "       'BsmtFinSF1', 'BsmtFinSF2', 'BsmtUnfSF', 'TotalBsmtSF', '1stFlrSF',\n",
      "       '2ndFlrSF', 'LowQualFinSF', 'GrLivArea', 'BedroomAbvGr', 'Kit...\n",
      "       'Functional', 'FireplaceQu', 'GarageType', 'GarageFinish', 'GarageQual',\n",
      "       'GarageCond', 'PavedDrive', 'Fence', 'MiscFeature', 'MoSold', 'YrSold',\n",
      "       'SaleType', 'SaleCondition'],\n",
      "      dtype='object'))])),\n",
      "                ('regressor',\n",
      "                 TransformedTargetRegressor(func=<ufunc 'log'>,\n",
      "                                            inverse_func=<ufunc 'exp'>,\n",
      "                                            regressor=RandomForestRegressor(bootstrap=False,\n",
      "                                                                            max_depth=12,\n",
      "                                                                            max_features=30,\n",
      "                                                                            min_samples_split=5,\n",
      "                                                                            n_estimators=233,\n",
      "                                                                            random_state=42)))])\n",
      "\n",
      "Najlepszy wynik: \n",
      "22256.76161035647\n",
      "\n",
      "Najlepszy parametr: \n",
      "{'regressor__regressor__bootstrap': False, 'regressor__regressor__max_depth': 12, 'regressor__regressor__max_features': 30, 'regressor__regressor__min_samples_leaf': 1, 'regressor__regressor__min_samples_split': 5, 'regressor__regressor__n_estimators': 233}\n"
     ]
    },
    {
     "data": {
      "text/plain": [
       "<assets.make_models.MakeModel at 0x283fbc1c0>"
      ]
     },
     "execution_count": 24,
     "metadata": {},
     "output_type": "execute_result"
    }
   ],
   "source": [
    "rf = \"Lasy Losowe\"\n",
    "MLModels.add_model(rf,RandomForestRegressor(criterion=\"squared_error\",random_state=42))\n",
    "parameters ={\n",
    "        \"regressor__regressor__n_estimators\":[233],\n",
    "        \"regressor__regressor__min_samples_split\":[5],\n",
    "        \"regressor__regressor__max_features\":[30],\n",
    "        \"regressor__regressor__max_depth\":[12],\n",
    "        \"regressor__regressor__min_samples_leaf\":[1],\n",
    "        \"regressor__regressor__bootstrap\":[False]\n",
    "}\n",
    "MLModels.gridsearch(rf,df_train, Y_train, parameters)"
   ]
  },
  {
   "cell_type": "markdown",
   "metadata": {
    "pycharm": {
     "name": "#%% md\n"
    }
   },
   "source": [
    "<h4><center>Drzewo Decyzyjne</center></h4>"
   ]
  },
  {
   "cell_type": "code",
   "execution_count": 25,
   "metadata": {
    "pycharm": {
     "name": "#%%\n"
    }
   },
   "outputs": [
    {
     "name": "stdout",
     "output_type": "stream",
     "text": [
      "Fitting 10 folds for each of 4 candidates, totalling 40 fits\n",
      "Najlepszy estymator: \n",
      "Pipeline(steps=[('preprocessor',\n",
      "                 ColumnTransformer(transformers=[('num',\n",
      "                                                  Pipeline(steps=[('KNNImputer',\n",
      "                                                                   KNNImputer(n_neighbors=10)),\n",
      "                                                                  ('scaler',\n",
      "                                                                   NumericScaler())]),\n",
      "                                                  Index(['LotFrontage', 'LotArea', 'OverallQual', 'OverallCond', 'MasVnrArea',\n",
      "       'BsmtFinSF1', 'BsmtFinSF2', 'BsmtUnfSF', 'TotalBsmtSF', '1stFlrSF',\n",
      "       '2ndFlrSF', 'LowQualFinSF', 'GrLivArea', 'BedroomAbvGr', 'Kit...\n",
      "       'GarageCond', 'PavedDrive', 'Fence', 'MiscFeature', 'MoSold', 'YrSold',\n",
      "       'SaleType', 'SaleCondition'],\n",
      "      dtype='object'))])),\n",
      "                ('regressor',\n",
      "                 TransformedTargetRegressor(func=<ufunc 'log'>,\n",
      "                                            inverse_func=<ufunc 'exp'>,\n",
      "                                            regressor=DecisionTreeRegressor(ccp_alpha=0,\n",
      "                                                                            max_depth=10,\n",
      "                                                                            max_features=20,\n",
      "                                                                            min_impurity_decrease=0,\n",
      "                                                                            min_samples_leaf=3,\n",
      "                                                                            min_samples_split=25,\n",
      "                                                                            random_state=42)))])\n",
      "\n",
      "Najlepszy wynik: \n",
      "34296.46595959618\n",
      "\n",
      "Najlepszy parametr: \n",
      "{'regressor__regressor__ccp_alpha': 0, 'regressor__regressor__criterion': 'squared_error', 'regressor__regressor__max_depth': 10, 'regressor__regressor__max_features': 20, 'regressor__regressor__max_leaf_nodes': None, 'regressor__regressor__min_impurity_decrease': 0, 'regressor__regressor__min_samples_leaf': 3, 'regressor__regressor__min_samples_split': 25, 'regressor__regressor__splitter': 'best'}\n"
     ]
    },
    {
     "data": {
      "text/plain": [
       "<assets.make_models.MakeModel at 0x283fbc1c0>"
      ]
     },
     "execution_count": 25,
     "metadata": {},
     "output_type": "execute_result"
    }
   ],
   "source": [
    "dt = \"Drzewo Decyzyjne\"\n",
    "MLModels.add_model(dt,DecisionTreeRegressor(criterion=\"squared_error\", random_state=42))\n",
    "parameters ={\n",
    "            \"regressor__regressor__min_samples_split\":[15,25],\n",
    "            \"regressor__regressor__max_features\":[20],\n",
    "            \"regressor__regressor__max_depth\":[10,8],\n",
    "            \"regressor__regressor__min_samples_leaf\":[3],\n",
    "            \"regressor__regressor__max_leaf_nodes\":[None],\n",
    "            \"regressor__regressor__splitter\":[\"best\"],\n",
    "            \"regressor__regressor__criterion\":[\"squared_error\"],\n",
    "            \"regressor__regressor__ccp_alpha\":[0],\n",
    "            \"regressor__regressor__min_impurity_decrease\":[0]\n",
    "}\n",
    "MLModels.gridsearch(dt,df_train, Y_train, parameters)"
   ]
  },
  {
   "cell_type": "code",
   "execution_count": 26,
   "metadata": {
    "pycharm": {
     "name": "#%%\n"
    }
   },
   "outputs": [
    {
     "name": "stdout",
     "output_type": "stream",
     "text": [
      "Najlepszy wynik XGBoost:  19374.38291081557\n",
      "Najlepszy wynik AdaBoost:  23762.121310836686\n",
      "Najlepszy wynik Lasy Losowe:  22256.76161035647\n",
      "Najlepszy wynik Drzewo Decyzyjne:  34296.46595959618\n"
     ]
    },
    {
     "data": {
      "text/plain": [
       "<assets.make_models.MakeModel at 0x283fbc1c0>"
      ]
     },
     "execution_count": 26,
     "metadata": {},
     "output_type": "execute_result"
    }
   ],
   "source": [
    "MLModels.print_results()"
   ]
  },
  {
   "cell_type": "markdown",
   "metadata": {
    "pycharm": {
     "name": "#%% md\n"
    }
   },
   "source": [
    "Na zbiorze treningowym najlepsze wyniki osiągnął model XGBoost, najsłabsze drzewo decyzyjne."
   ]
  },
  {
   "cell_type": "code",
   "execution_count": 27,
   "metadata": {
    "pycharm": {
     "name": "#%%\n"
    }
   },
   "outputs": [
    {
     "data": {
      "application/vnd.plotly.v1+json": {
       "config": {
        "plotlyServerURL": "https://plot.ly"
       },
       "data": [
        {
         "line": {
          "color": "#3440eb",
          "width": 4
         },
         "marker": {
          "color": "black",
          "size": 15
         },
         "mode": "lines+markers+text",
         "name": "RMSE",
         "text": [
          "19374.38",
          "23762.12",
          "22256.76",
          "34296.47"
         ],
         "textposition": "top center",
         "type": "scatter",
         "x": [
          "XGBoost",
          "AdaBoost",
          "Lasy Losowe",
          "Drzewo Decyzyjne"
         ],
         "y": [
          "19374.38",
          "23762.12",
          "22256.76",
          "34296.47"
         ]
        }
       ],
       "layout": {
        "font": {
         "color": "black",
         "size": 15
        },
        "paper_bgcolor": "rgba(0,0,0,0)",
        "plot_bgcolor": "rgba(0,0,0,0)",
        "template": {
         "data": {
          "bar": [
           {
            "error_x": {
             "color": "#2a3f5f"
            },
            "error_y": {
             "color": "#2a3f5f"
            },
            "marker": {
             "line": {
              "color": "#E5ECF6",
              "width": 0.5
             },
             "pattern": {
              "fillmode": "overlay",
              "size": 10,
              "solidity": 0.2
             }
            },
            "type": "bar"
           }
          ],
          "barpolar": [
           {
            "marker": {
             "line": {
              "color": "#E5ECF6",
              "width": 0.5
             },
             "pattern": {
              "fillmode": "overlay",
              "size": 10,
              "solidity": 0.2
             }
            },
            "type": "barpolar"
           }
          ],
          "carpet": [
           {
            "aaxis": {
             "endlinecolor": "#2a3f5f",
             "gridcolor": "white",
             "linecolor": "white",
             "minorgridcolor": "white",
             "startlinecolor": "#2a3f5f"
            },
            "baxis": {
             "endlinecolor": "#2a3f5f",
             "gridcolor": "white",
             "linecolor": "white",
             "minorgridcolor": "white",
             "startlinecolor": "#2a3f5f"
            },
            "type": "carpet"
           }
          ],
          "choropleth": [
           {
            "colorbar": {
             "outlinewidth": 0,
             "ticks": ""
            },
            "type": "choropleth"
           }
          ],
          "contour": [
           {
            "colorbar": {
             "outlinewidth": 0,
             "ticks": ""
            },
            "colorscale": [
             [
              0,
              "#0d0887"
             ],
             [
              0.1111111111111111,
              "#46039f"
             ],
             [
              0.2222222222222222,
              "#7201a8"
             ],
             [
              0.3333333333333333,
              "#9c179e"
             ],
             [
              0.4444444444444444,
              "#bd3786"
             ],
             [
              0.5555555555555556,
              "#d8576b"
             ],
             [
              0.6666666666666666,
              "#ed7953"
             ],
             [
              0.7777777777777778,
              "#fb9f3a"
             ],
             [
              0.8888888888888888,
              "#fdca26"
             ],
             [
              1,
              "#f0f921"
             ]
            ],
            "type": "contour"
           }
          ],
          "contourcarpet": [
           {
            "colorbar": {
             "outlinewidth": 0,
             "ticks": ""
            },
            "type": "contourcarpet"
           }
          ],
          "heatmap": [
           {
            "colorbar": {
             "outlinewidth": 0,
             "ticks": ""
            },
            "colorscale": [
             [
              0,
              "#0d0887"
             ],
             [
              0.1111111111111111,
              "#46039f"
             ],
             [
              0.2222222222222222,
              "#7201a8"
             ],
             [
              0.3333333333333333,
              "#9c179e"
             ],
             [
              0.4444444444444444,
              "#bd3786"
             ],
             [
              0.5555555555555556,
              "#d8576b"
             ],
             [
              0.6666666666666666,
              "#ed7953"
             ],
             [
              0.7777777777777778,
              "#fb9f3a"
             ],
             [
              0.8888888888888888,
              "#fdca26"
             ],
             [
              1,
              "#f0f921"
             ]
            ],
            "type": "heatmap"
           }
          ],
          "heatmapgl": [
           {
            "colorbar": {
             "outlinewidth": 0,
             "ticks": ""
            },
            "colorscale": [
             [
              0,
              "#0d0887"
             ],
             [
              0.1111111111111111,
              "#46039f"
             ],
             [
              0.2222222222222222,
              "#7201a8"
             ],
             [
              0.3333333333333333,
              "#9c179e"
             ],
             [
              0.4444444444444444,
              "#bd3786"
             ],
             [
              0.5555555555555556,
              "#d8576b"
             ],
             [
              0.6666666666666666,
              "#ed7953"
             ],
             [
              0.7777777777777778,
              "#fb9f3a"
             ],
             [
              0.8888888888888888,
              "#fdca26"
             ],
             [
              1,
              "#f0f921"
             ]
            ],
            "type": "heatmapgl"
           }
          ],
          "histogram": [
           {
            "marker": {
             "pattern": {
              "fillmode": "overlay",
              "size": 10,
              "solidity": 0.2
             }
            },
            "type": "histogram"
           }
          ],
          "histogram2d": [
           {
            "colorbar": {
             "outlinewidth": 0,
             "ticks": ""
            },
            "colorscale": [
             [
              0,
              "#0d0887"
             ],
             [
              0.1111111111111111,
              "#46039f"
             ],
             [
              0.2222222222222222,
              "#7201a8"
             ],
             [
              0.3333333333333333,
              "#9c179e"
             ],
             [
              0.4444444444444444,
              "#bd3786"
             ],
             [
              0.5555555555555556,
              "#d8576b"
             ],
             [
              0.6666666666666666,
              "#ed7953"
             ],
             [
              0.7777777777777778,
              "#fb9f3a"
             ],
             [
              0.8888888888888888,
              "#fdca26"
             ],
             [
              1,
              "#f0f921"
             ]
            ],
            "type": "histogram2d"
           }
          ],
          "histogram2dcontour": [
           {
            "colorbar": {
             "outlinewidth": 0,
             "ticks": ""
            },
            "colorscale": [
             [
              0,
              "#0d0887"
             ],
             [
              0.1111111111111111,
              "#46039f"
             ],
             [
              0.2222222222222222,
              "#7201a8"
             ],
             [
              0.3333333333333333,
              "#9c179e"
             ],
             [
              0.4444444444444444,
              "#bd3786"
             ],
             [
              0.5555555555555556,
              "#d8576b"
             ],
             [
              0.6666666666666666,
              "#ed7953"
             ],
             [
              0.7777777777777778,
              "#fb9f3a"
             ],
             [
              0.8888888888888888,
              "#fdca26"
             ],
             [
              1,
              "#f0f921"
             ]
            ],
            "type": "histogram2dcontour"
           }
          ],
          "mesh3d": [
           {
            "colorbar": {
             "outlinewidth": 0,
             "ticks": ""
            },
            "type": "mesh3d"
           }
          ],
          "parcoords": [
           {
            "line": {
             "colorbar": {
              "outlinewidth": 0,
              "ticks": ""
             }
            },
            "type": "parcoords"
           }
          ],
          "pie": [
           {
            "automargin": true,
            "type": "pie"
           }
          ],
          "scatter": [
           {
            "fillpattern": {
             "fillmode": "overlay",
             "size": 10,
             "solidity": 0.2
            },
            "type": "scatter"
           }
          ],
          "scatter3d": [
           {
            "line": {
             "colorbar": {
              "outlinewidth": 0,
              "ticks": ""
             }
            },
            "marker": {
             "colorbar": {
              "outlinewidth": 0,
              "ticks": ""
             }
            },
            "type": "scatter3d"
           }
          ],
          "scattercarpet": [
           {
            "marker": {
             "colorbar": {
              "outlinewidth": 0,
              "ticks": ""
             }
            },
            "type": "scattercarpet"
           }
          ],
          "scattergeo": [
           {
            "marker": {
             "colorbar": {
              "outlinewidth": 0,
              "ticks": ""
             }
            },
            "type": "scattergeo"
           }
          ],
          "scattergl": [
           {
            "marker": {
             "colorbar": {
              "outlinewidth": 0,
              "ticks": ""
             }
            },
            "type": "scattergl"
           }
          ],
          "scattermapbox": [
           {
            "marker": {
             "colorbar": {
              "outlinewidth": 0,
              "ticks": ""
             }
            },
            "type": "scattermapbox"
           }
          ],
          "scatterpolar": [
           {
            "marker": {
             "colorbar": {
              "outlinewidth": 0,
              "ticks": ""
             }
            },
            "type": "scatterpolar"
           }
          ],
          "scatterpolargl": [
           {
            "marker": {
             "colorbar": {
              "outlinewidth": 0,
              "ticks": ""
             }
            },
            "type": "scatterpolargl"
           }
          ],
          "scatterternary": [
           {
            "marker": {
             "colorbar": {
              "outlinewidth": 0,
              "ticks": ""
             }
            },
            "type": "scatterternary"
           }
          ],
          "surface": [
           {
            "colorbar": {
             "outlinewidth": 0,
             "ticks": ""
            },
            "colorscale": [
             [
              0,
              "#0d0887"
             ],
             [
              0.1111111111111111,
              "#46039f"
             ],
             [
              0.2222222222222222,
              "#7201a8"
             ],
             [
              0.3333333333333333,
              "#9c179e"
             ],
             [
              0.4444444444444444,
              "#bd3786"
             ],
             [
              0.5555555555555556,
              "#d8576b"
             ],
             [
              0.6666666666666666,
              "#ed7953"
             ],
             [
              0.7777777777777778,
              "#fb9f3a"
             ],
             [
              0.8888888888888888,
              "#fdca26"
             ],
             [
              1,
              "#f0f921"
             ]
            ],
            "type": "surface"
           }
          ],
          "table": [
           {
            "cells": {
             "fill": {
              "color": "#EBF0F8"
             },
             "line": {
              "color": "white"
             }
            },
            "header": {
             "fill": {
              "color": "#C8D4E3"
             },
             "line": {
              "color": "white"
             }
            },
            "type": "table"
           }
          ]
         },
         "layout": {
          "annotationdefaults": {
           "arrowcolor": "#2a3f5f",
           "arrowhead": 0,
           "arrowwidth": 1
          },
          "autotypenumbers": "strict",
          "coloraxis": {
           "colorbar": {
            "outlinewidth": 0,
            "ticks": ""
           }
          },
          "colorscale": {
           "diverging": [
            [
             0,
             "#8e0152"
            ],
            [
             0.1,
             "#c51b7d"
            ],
            [
             0.2,
             "#de77ae"
            ],
            [
             0.3,
             "#f1b6da"
            ],
            [
             0.4,
             "#fde0ef"
            ],
            [
             0.5,
             "#f7f7f7"
            ],
            [
             0.6,
             "#e6f5d0"
            ],
            [
             0.7,
             "#b8e186"
            ],
            [
             0.8,
             "#7fbc41"
            ],
            [
             0.9,
             "#4d9221"
            ],
            [
             1,
             "#276419"
            ]
           ],
           "sequential": [
            [
             0,
             "#0d0887"
            ],
            [
             0.1111111111111111,
             "#46039f"
            ],
            [
             0.2222222222222222,
             "#7201a8"
            ],
            [
             0.3333333333333333,
             "#9c179e"
            ],
            [
             0.4444444444444444,
             "#bd3786"
            ],
            [
             0.5555555555555556,
             "#d8576b"
            ],
            [
             0.6666666666666666,
             "#ed7953"
            ],
            [
             0.7777777777777778,
             "#fb9f3a"
            ],
            [
             0.8888888888888888,
             "#fdca26"
            ],
            [
             1,
             "#f0f921"
            ]
           ],
           "sequentialminus": [
            [
             0,
             "#0d0887"
            ],
            [
             0.1111111111111111,
             "#46039f"
            ],
            [
             0.2222222222222222,
             "#7201a8"
            ],
            [
             0.3333333333333333,
             "#9c179e"
            ],
            [
             0.4444444444444444,
             "#bd3786"
            ],
            [
             0.5555555555555556,
             "#d8576b"
            ],
            [
             0.6666666666666666,
             "#ed7953"
            ],
            [
             0.7777777777777778,
             "#fb9f3a"
            ],
            [
             0.8888888888888888,
             "#fdca26"
            ],
            [
             1,
             "#f0f921"
            ]
           ]
          },
          "colorway": [
           "#636efa",
           "#EF553B",
           "#00cc96",
           "#ab63fa",
           "#FFA15A",
           "#19d3f3",
           "#FF6692",
           "#B6E880",
           "#FF97FF",
           "#FECB52"
          ],
          "font": {
           "color": "#2a3f5f"
          },
          "geo": {
           "bgcolor": "white",
           "lakecolor": "white",
           "landcolor": "#E5ECF6",
           "showlakes": true,
           "showland": true,
           "subunitcolor": "white"
          },
          "hoverlabel": {
           "align": "left"
          },
          "hovermode": "closest",
          "mapbox": {
           "style": "light"
          },
          "paper_bgcolor": "white",
          "plot_bgcolor": "#E5ECF6",
          "polar": {
           "angularaxis": {
            "gridcolor": "white",
            "linecolor": "white",
            "ticks": ""
           },
           "bgcolor": "#E5ECF6",
           "radialaxis": {
            "gridcolor": "white",
            "linecolor": "white",
            "ticks": ""
           }
          },
          "scene": {
           "xaxis": {
            "backgroundcolor": "#E5ECF6",
            "gridcolor": "white",
            "gridwidth": 2,
            "linecolor": "white",
            "showbackground": true,
            "ticks": "",
            "zerolinecolor": "white"
           },
           "yaxis": {
            "backgroundcolor": "#E5ECF6",
            "gridcolor": "white",
            "gridwidth": 2,
            "linecolor": "white",
            "showbackground": true,
            "ticks": "",
            "zerolinecolor": "white"
           },
           "zaxis": {
            "backgroundcolor": "#E5ECF6",
            "gridcolor": "white",
            "gridwidth": 2,
            "linecolor": "white",
            "showbackground": true,
            "ticks": "",
            "zerolinecolor": "white"
           }
          },
          "shapedefaults": {
           "line": {
            "color": "#2a3f5f"
           }
          },
          "ternary": {
           "aaxis": {
            "gridcolor": "white",
            "linecolor": "white",
            "ticks": ""
           },
           "baxis": {
            "gridcolor": "white",
            "linecolor": "white",
            "ticks": ""
           },
           "bgcolor": "#E5ECF6",
           "caxis": {
            "gridcolor": "white",
            "linecolor": "white",
            "ticks": ""
           }
          },
          "title": {
           "x": 0.05
          },
          "xaxis": {
           "automargin": true,
           "gridcolor": "white",
           "linecolor": "white",
           "ticks": "",
           "title": {
            "standoff": 15
           },
           "zerolinecolor": "white",
           "zerolinewidth": 2
          },
          "yaxis": {
           "automargin": true,
           "gridcolor": "white",
           "linecolor": "white",
           "ticks": "",
           "title": {
            "standoff": 15
           },
           "zerolinecolor": "white",
           "zerolinewidth": 2
          }
         }
        },
        "title": {
         "font": {
          "size": 20
         },
         "text": "Zestawienie wyników modeli uczenia maszynowego",
         "x": 0.5
        },
        "width": 1300,
        "xaxis": {
         "automargin": true,
         "showgrid": false,
         "ticksuffix": " ",
         "title": {
          "text": "Nazwa algorytmu"
         }
        },
        "yaxis": {
         "automargin": true,
         "range": [
          18000,
          40000
         ],
         "showgrid": false,
         "ticksuffix": " ",
         "title": {
          "text": "RMSE"
         }
        }
       }
      },
      "text/html": [
       "<div>                            <div id=\"1b9ad2d1-9370-493d-8669-a41d54fe2f40\" class=\"plotly-graph-div\" style=\"height:525px; width:1300px;\"></div>            <script type=\"text/javascript\">                require([\"plotly\"], function(Plotly) {                    window.PLOTLYENV=window.PLOTLYENV || {};                                    if (document.getElementById(\"1b9ad2d1-9370-493d-8669-a41d54fe2f40\")) {                    Plotly.newPlot(                        \"1b9ad2d1-9370-493d-8669-a41d54fe2f40\",                        [{\"line\":{\"color\":\"#3440eb\",\"width\":4},\"name\":\"RMSE\",\"text\":[\"19374.38\",\"23762.12\",\"22256.76\",\"34296.47\"],\"x\":[\"XGBoost\",\"AdaBoost\",\"Lasy Losowe\",\"Drzewo Decyzyjne\"],\"y\":[\"19374.38\",\"23762.12\",\"22256.76\",\"34296.47\"],\"type\":\"scatter\",\"marker\":{\"color\":\"black\",\"size\":15},\"mode\":\"lines+markers+text\",\"textposition\":\"top center\"}],                        {\"template\":{\"data\":{\"histogram2dcontour\":[{\"type\":\"histogram2dcontour\",\"colorbar\":{\"outlinewidth\":0,\"ticks\":\"\"},\"colorscale\":[[0.0,\"#0d0887\"],[0.1111111111111111,\"#46039f\"],[0.2222222222222222,\"#7201a8\"],[0.3333333333333333,\"#9c179e\"],[0.4444444444444444,\"#bd3786\"],[0.5555555555555556,\"#d8576b\"],[0.6666666666666666,\"#ed7953\"],[0.7777777777777778,\"#fb9f3a\"],[0.8888888888888888,\"#fdca26\"],[1.0,\"#f0f921\"]]}],\"choropleth\":[{\"type\":\"choropleth\",\"colorbar\":{\"outlinewidth\":0,\"ticks\":\"\"}}],\"histogram2d\":[{\"type\":\"histogram2d\",\"colorbar\":{\"outlinewidth\":0,\"ticks\":\"\"},\"colorscale\":[[0.0,\"#0d0887\"],[0.1111111111111111,\"#46039f\"],[0.2222222222222222,\"#7201a8\"],[0.3333333333333333,\"#9c179e\"],[0.4444444444444444,\"#bd3786\"],[0.5555555555555556,\"#d8576b\"],[0.6666666666666666,\"#ed7953\"],[0.7777777777777778,\"#fb9f3a\"],[0.8888888888888888,\"#fdca26\"],[1.0,\"#f0f921\"]]}],\"heatmap\":[{\"type\":\"heatmap\",\"colorbar\":{\"outlinewidth\":0,\"ticks\":\"\"},\"colorscale\":[[0.0,\"#0d0887\"],[0.1111111111111111,\"#46039f\"],[0.2222222222222222,\"#7201a8\"],[0.3333333333333333,\"#9c179e\"],[0.4444444444444444,\"#bd3786\"],[0.5555555555555556,\"#d8576b\"],[0.6666666666666666,\"#ed7953\"],[0.7777777777777778,\"#fb9f3a\"],[0.8888888888888888,\"#fdca26\"],[1.0,\"#f0f921\"]]}],\"heatmapgl\":[{\"type\":\"heatmapgl\",\"colorbar\":{\"outlinewidth\":0,\"ticks\":\"\"},\"colorscale\":[[0.0,\"#0d0887\"],[0.1111111111111111,\"#46039f\"],[0.2222222222222222,\"#7201a8\"],[0.3333333333333333,\"#9c179e\"],[0.4444444444444444,\"#bd3786\"],[0.5555555555555556,\"#d8576b\"],[0.6666666666666666,\"#ed7953\"],[0.7777777777777778,\"#fb9f3a\"],[0.8888888888888888,\"#fdca26\"],[1.0,\"#f0f921\"]]}],\"contourcarpet\":[{\"type\":\"contourcarpet\",\"colorbar\":{\"outlinewidth\":0,\"ticks\":\"\"}}],\"contour\":[{\"type\":\"contour\",\"colorbar\":{\"outlinewidth\":0,\"ticks\":\"\"},\"colorscale\":[[0.0,\"#0d0887\"],[0.1111111111111111,\"#46039f\"],[0.2222222222222222,\"#7201a8\"],[0.3333333333333333,\"#9c179e\"],[0.4444444444444444,\"#bd3786\"],[0.5555555555555556,\"#d8576b\"],[0.6666666666666666,\"#ed7953\"],[0.7777777777777778,\"#fb9f3a\"],[0.8888888888888888,\"#fdca26\"],[1.0,\"#f0f921\"]]}],\"surface\":[{\"type\":\"surface\",\"colorbar\":{\"outlinewidth\":0,\"ticks\":\"\"},\"colorscale\":[[0.0,\"#0d0887\"],[0.1111111111111111,\"#46039f\"],[0.2222222222222222,\"#7201a8\"],[0.3333333333333333,\"#9c179e\"],[0.4444444444444444,\"#bd3786\"],[0.5555555555555556,\"#d8576b\"],[0.6666666666666666,\"#ed7953\"],[0.7777777777777778,\"#fb9f3a\"],[0.8888888888888888,\"#fdca26\"],[1.0,\"#f0f921\"]]}],\"mesh3d\":[{\"type\":\"mesh3d\",\"colorbar\":{\"outlinewidth\":0,\"ticks\":\"\"}}],\"scatter\":[{\"fillpattern\":{\"fillmode\":\"overlay\",\"size\":10,\"solidity\":0.2},\"type\":\"scatter\"}],\"parcoords\":[{\"type\":\"parcoords\",\"line\":{\"colorbar\":{\"outlinewidth\":0,\"ticks\":\"\"}}}],\"scatterpolargl\":[{\"type\":\"scatterpolargl\",\"marker\":{\"colorbar\":{\"outlinewidth\":0,\"ticks\":\"\"}}}],\"bar\":[{\"error_x\":{\"color\":\"#2a3f5f\"},\"error_y\":{\"color\":\"#2a3f5f\"},\"marker\":{\"line\":{\"color\":\"#E5ECF6\",\"width\":0.5},\"pattern\":{\"fillmode\":\"overlay\",\"size\":10,\"solidity\":0.2}},\"type\":\"bar\"}],\"scattergeo\":[{\"type\":\"scattergeo\",\"marker\":{\"colorbar\":{\"outlinewidth\":0,\"ticks\":\"\"}}}],\"scatterpolar\":[{\"type\":\"scatterpolar\",\"marker\":{\"colorbar\":{\"outlinewidth\":0,\"ticks\":\"\"}}}],\"histogram\":[{\"marker\":{\"pattern\":{\"fillmode\":\"overlay\",\"size\":10,\"solidity\":0.2}},\"type\":\"histogram\"}],\"scattergl\":[{\"type\":\"scattergl\",\"marker\":{\"colorbar\":{\"outlinewidth\":0,\"ticks\":\"\"}}}],\"scatter3d\":[{\"type\":\"scatter3d\",\"line\":{\"colorbar\":{\"outlinewidth\":0,\"ticks\":\"\"}},\"marker\":{\"colorbar\":{\"outlinewidth\":0,\"ticks\":\"\"}}}],\"scattermapbox\":[{\"type\":\"scattermapbox\",\"marker\":{\"colorbar\":{\"outlinewidth\":0,\"ticks\":\"\"}}}],\"scatterternary\":[{\"type\":\"scatterternary\",\"marker\":{\"colorbar\":{\"outlinewidth\":0,\"ticks\":\"\"}}}],\"scattercarpet\":[{\"type\":\"scattercarpet\",\"marker\":{\"colorbar\":{\"outlinewidth\":0,\"ticks\":\"\"}}}],\"carpet\":[{\"aaxis\":{\"endlinecolor\":\"#2a3f5f\",\"gridcolor\":\"white\",\"linecolor\":\"white\",\"minorgridcolor\":\"white\",\"startlinecolor\":\"#2a3f5f\"},\"baxis\":{\"endlinecolor\":\"#2a3f5f\",\"gridcolor\":\"white\",\"linecolor\":\"white\",\"minorgridcolor\":\"white\",\"startlinecolor\":\"#2a3f5f\"},\"type\":\"carpet\"}],\"table\":[{\"cells\":{\"fill\":{\"color\":\"#EBF0F8\"},\"line\":{\"color\":\"white\"}},\"header\":{\"fill\":{\"color\":\"#C8D4E3\"},\"line\":{\"color\":\"white\"}},\"type\":\"table\"}],\"barpolar\":[{\"marker\":{\"line\":{\"color\":\"#E5ECF6\",\"width\":0.5},\"pattern\":{\"fillmode\":\"overlay\",\"size\":10,\"solidity\":0.2}},\"type\":\"barpolar\"}],\"pie\":[{\"automargin\":true,\"type\":\"pie\"}]},\"layout\":{\"autotypenumbers\":\"strict\",\"colorway\":[\"#636efa\",\"#EF553B\",\"#00cc96\",\"#ab63fa\",\"#FFA15A\",\"#19d3f3\",\"#FF6692\",\"#B6E880\",\"#FF97FF\",\"#FECB52\"],\"font\":{\"color\":\"#2a3f5f\"},\"hovermode\":\"closest\",\"hoverlabel\":{\"align\":\"left\"},\"paper_bgcolor\":\"white\",\"plot_bgcolor\":\"#E5ECF6\",\"polar\":{\"bgcolor\":\"#E5ECF6\",\"angularaxis\":{\"gridcolor\":\"white\",\"linecolor\":\"white\",\"ticks\":\"\"},\"radialaxis\":{\"gridcolor\":\"white\",\"linecolor\":\"white\",\"ticks\":\"\"}},\"ternary\":{\"bgcolor\":\"#E5ECF6\",\"aaxis\":{\"gridcolor\":\"white\",\"linecolor\":\"white\",\"ticks\":\"\"},\"baxis\":{\"gridcolor\":\"white\",\"linecolor\":\"white\",\"ticks\":\"\"},\"caxis\":{\"gridcolor\":\"white\",\"linecolor\":\"white\",\"ticks\":\"\"}},\"coloraxis\":{\"colorbar\":{\"outlinewidth\":0,\"ticks\":\"\"}},\"colorscale\":{\"sequential\":[[0.0,\"#0d0887\"],[0.1111111111111111,\"#46039f\"],[0.2222222222222222,\"#7201a8\"],[0.3333333333333333,\"#9c179e\"],[0.4444444444444444,\"#bd3786\"],[0.5555555555555556,\"#d8576b\"],[0.6666666666666666,\"#ed7953\"],[0.7777777777777778,\"#fb9f3a\"],[0.8888888888888888,\"#fdca26\"],[1.0,\"#f0f921\"]],\"sequentialminus\":[[0.0,\"#0d0887\"],[0.1111111111111111,\"#46039f\"],[0.2222222222222222,\"#7201a8\"],[0.3333333333333333,\"#9c179e\"],[0.4444444444444444,\"#bd3786\"],[0.5555555555555556,\"#d8576b\"],[0.6666666666666666,\"#ed7953\"],[0.7777777777777778,\"#fb9f3a\"],[0.8888888888888888,\"#fdca26\"],[1.0,\"#f0f921\"]],\"diverging\":[[0,\"#8e0152\"],[0.1,\"#c51b7d\"],[0.2,\"#de77ae\"],[0.3,\"#f1b6da\"],[0.4,\"#fde0ef\"],[0.5,\"#f7f7f7\"],[0.6,\"#e6f5d0\"],[0.7,\"#b8e186\"],[0.8,\"#7fbc41\"],[0.9,\"#4d9221\"],[1,\"#276419\"]]},\"xaxis\":{\"gridcolor\":\"white\",\"linecolor\":\"white\",\"ticks\":\"\",\"title\":{\"standoff\":15},\"zerolinecolor\":\"white\",\"automargin\":true,\"zerolinewidth\":2},\"yaxis\":{\"gridcolor\":\"white\",\"linecolor\":\"white\",\"ticks\":\"\",\"title\":{\"standoff\":15},\"zerolinecolor\":\"white\",\"automargin\":true,\"zerolinewidth\":2},\"scene\":{\"xaxis\":{\"backgroundcolor\":\"#E5ECF6\",\"gridcolor\":\"white\",\"linecolor\":\"white\",\"showbackground\":true,\"ticks\":\"\",\"zerolinecolor\":\"white\",\"gridwidth\":2},\"yaxis\":{\"backgroundcolor\":\"#E5ECF6\",\"gridcolor\":\"white\",\"linecolor\":\"white\",\"showbackground\":true,\"ticks\":\"\",\"zerolinecolor\":\"white\",\"gridwidth\":2},\"zaxis\":{\"backgroundcolor\":\"#E5ECF6\",\"gridcolor\":\"white\",\"linecolor\":\"white\",\"showbackground\":true,\"ticks\":\"\",\"zerolinecolor\":\"white\",\"gridwidth\":2}},\"shapedefaults\":{\"line\":{\"color\":\"#2a3f5f\"}},\"annotationdefaults\":{\"arrowcolor\":\"#2a3f5f\",\"arrowhead\":0,\"arrowwidth\":1},\"geo\":{\"bgcolor\":\"white\",\"landcolor\":\"#E5ECF6\",\"subunitcolor\":\"white\",\"showland\":true,\"showlakes\":true,\"lakecolor\":\"white\"},\"title\":{\"x\":0.05},\"mapbox\":{\"style\":\"light\"}}},\"yaxis\":{\"range\":[18000,40000],\"title\":{\"text\":\"RMSE\"},\"showgrid\":false,\"ticksuffix\":\" \",\"automargin\":true},\"font\":{\"color\":\"black\",\"size\":15},\"title\":{\"text\":\"Zestawienie wynik\\u00f3w modeli uczenia maszynowego\",\"x\":0.5,\"font\":{\"size\":20}},\"xaxis\":{\"title\":{\"text\":\"Nazwa algorytmu\"},\"showgrid\":false,\"ticksuffix\":\" \",\"automargin\":true},\"paper_bgcolor\":\"rgba(0,0,0,0)\",\"plot_bgcolor\":\"rgba(0,0,0,0)\",\"width\":1300},                        {\"responsive\": true}                    ).then(function(){\n",
       "                            \n",
       "var gd = document.getElementById('1b9ad2d1-9370-493d-8669-a41d54fe2f40');\n",
       "var x = new MutationObserver(function (mutations, observer) {{\n",
       "        var display = window.getComputedStyle(gd).display;\n",
       "        if (!display || display === 'none') {{\n",
       "            console.log([gd, 'removed!']);\n",
       "            Plotly.purge(gd);\n",
       "            observer.disconnect();\n",
       "        }}\n",
       "}});\n",
       "\n",
       "// Listen for the removal of the full notebook cells\n",
       "var notebookContainer = gd.closest('#notebook-container');\n",
       "if (notebookContainer) {{\n",
       "    x.observe(notebookContainer, {childList: true});\n",
       "}}\n",
       "\n",
       "// Listen for the clearing of the current output cell\n",
       "var outputEl = gd.closest('.output');\n",
       "if (outputEl) {{\n",
       "    x.observe(outputEl, {childList: true});\n",
       "}}\n",
       "\n",
       "                        })                };                });            </script>        </div>"
      ]
     },
     "metadata": {},
     "output_type": "display_data"
    }
   ],
   "source": [
    "MLModels.plot_results()"
   ]
  },
  {
   "cell_type": "code",
   "execution_count": null,
   "metadata": {
    "pycharm": {
     "name": "#%%\n"
    }
   },
   "outputs": [],
   "source": [
    "MLModels.predict(\"/Users/jakub/PYTHON/HousePrices/data/sample_submission.csv\",df_test)"
   ]
  },
  {
   "cell_type": "markdown",
   "metadata": {
    "pycharm": {
     "name": "#%% md\n"
    }
   },
   "source": [
    "## <a class=\"anchor\" id=\"sekcja-4\"><center>Explainable ML</center></a>"
   ]
  },
  {
   "cell_type": "code",
   "execution_count": null,
   "metadata": {
    "pycharm": {
     "name": "#%%\n"
    }
   },
   "outputs": [],
   "source": [
    "MLModels.explain(df_train, Y_train)"
   ]
  },
  {
   "cell_type": "markdown",
   "metadata": {
    "pycharm": {
     "name": "#%% md\n"
    }
   },
   "source": [
    "## <center>Wyjaśnienie Globalne</center><a id=\"sekcja-4\"></a>"
   ]
  },
  {
   "cell_type": "markdown",
   "metadata": {
    "pycharm": {
     "name": "#%% md\n"
    }
   },
   "source": [
    "Poniżej przedstawione zostały wykresy 10 najbardziej istotnych cech trenowanych modeli.\n",
    " Zastosowana została permutacyjna istotność cech. Pozwala ona zrozumieć na podstawie jakich cech algorytmy podejmują decyzję.\n",
    " Dla wszystkich modeli dwie najbardziej istotne zmienne to metraż oraz jakość wykończenia. Istotność pozostałych atrybutów różni się w zależności od modelu."
   ]
  },
  {
   "cell_type": "code",
   "execution_count": null,
   "metadata": {
    "pycharm": {
     "name": "#%%\n"
    }
   },
   "outputs": [],
   "source": [
    "#MLModels.plot_importance()"
   ]
  },
  {
   "cell_type": "markdown",
   "metadata": {
    "pycharm": {
     "name": "#%% md\n"
    }
   },
   "source": [
    "Określenie wpływu poszczególnych atrybutów na wartość ceny nieruchomości dokonano poprzez wykresy skumulowanych profili lokalnych. Przedstawione zostały zależności dla następujących zmiennych numerycznych:\n",
    "\n",
    "\n",
    " * Metrażu,\n",
    " * ogólnej jakości wykończenia mieszkania\n",
    " * powierzchni garażu,\n",
    " * powierzchni piwnicy.\n",
    "\n",
    "\n",
    "Na podstawie wykresów można zauważyć, że charakterystyka modelu drzew decyzyjnych znacząco odbiega od pozostałych modeli.\n",
    "\n",
    "Porównując charakterystyki pozostałych modeli można zauważyć, że:\n",
    "\n",
    "•\tDla atrybutu OverallQual w przedziale od 2 do 6 największy wpływ atrybutu na wartość ceny sprzedaży ma algorytm Lasów Losowych. Dla wartości większych od 7, mniejszych od 9 największy wpływ zmiennej OverallQual na zmienną objaśnianą ma algorytm AdaBoost, a najmniejszą model Lasów Losowych.\n",
    "\n",
    "•\tNajwiększy wpływ atrybutu GrLivArea na wartość ceny sprzedaży w przedziale od 500 do 1300 odnotowano dla algorytmu Lasów Losowych, a najmniejszy dla modelu AdaBoost. W okolicach wartości około 1600 krzywe omawianych algorytmów się przecinają, co oznacza podobny wpływ atrybutu numerycznego na zmienna objaśnianą. W przedziale wartości 1650 do 1850 najwyżej położona jest krzywa modelu AdaBoost, a najniżej Lasów losowych.\n"
   ]
  },
  {
   "cell_type": "code",
   "execution_count": null,
   "metadata": {
    "pycharm": {
     "name": "#%%\n"
    }
   },
   "outputs": [],
   "source": [
    "MLModels.plot_acc()"
   ]
  },
  {
   "cell_type": "markdown",
   "metadata": {
    "pycharm": {
     "name": "#%% md\n"
    }
   },
   "source": [
    "<h4><center> Wartość przewidywana względem wartości resztowych</center></h4>"
   ]
  },
  {
   "cell_type": "markdown",
   "metadata": {
    "pycharm": {
     "name": "#%% md\n"
    }
   },
   "source": [
    "Rysunek pokazuje pełen zakres danych. Widoczne na nim są wartości odstające. Analiza wybranej wartości odstającej została przedstawiona w sekcjach dotyczących wyjaśnień lokalnych. Wartości odstające są cennym źródłem wiedzy, których wyjaśnienie może dostarczyć informację, co w modelu działa źle i co można poprawić, żeby model działał lepiej."
   ]
  },
  {
   "cell_type": "code",
   "execution_count": null,
   "metadata": {
    "pycharm": {
     "name": "#%%\n"
    }
   },
   "outputs": [],
   "source": [
    "MLModels.plot_residuals()"
   ]
  },
  {
   "cell_type": "markdown",
   "metadata": {
    "pycharm": {
     "name": "#%% md\n"
    }
   },
   "source": [
    "Na rysunku (zgodnie z przewidywaniami) wyraźnie widać różnicę między algorytmami Drzew Decyzyjnych, a pozostałymi modelami. Krzywe dopasowania modeli w przybliżeniu można traktować jako liniowe – wraz ze wzrostem przewidywanej ceny sprzedaży, rośnie wartość absolutna reszty."
   ]
  },
  {
   "cell_type": "code",
   "execution_count": null,
   "metadata": {
    "pycharm": {
     "name": "#%%\n"
    }
   },
   "outputs": [],
   "source": [
    "MLModels.plot_residuals(showline=True)"
   ]
  },
  {
   "cell_type": "markdown",
   "metadata": {
    "pycharm": {
     "name": "#%% md\n"
    }
   },
   "source": [
    "## <center>Wyjaśnienie lokalne</center><a id=\"sekcja-5\"></a>"
   ]
  },
  {
   "cell_type": "markdown",
   "metadata": {
    "pycharm": {
     "name": "#%% md\n"
    }
   },
   "source": [
    "Rysunek przedstawia zależność typu Break Down dla algorytmu XGBoost. Do wyjaśnienia wybrana została odstająca wartość. Z wykresu można odczytać wpływ atrybutów na cenę nieruchomości. Wpływ może być dodatni (zielone słupki na wykresie) – co oznacza wzrost ceny sprzedaży, lub ujemny (czerwone słupki), co oznacza spadek."
   ]
  },
  {
   "cell_type": "code",
   "execution_count": null,
   "metadata": {
    "pycharm": {
     "name": "#%%\n"
    }
   },
   "outputs": [],
   "source": [
    "MLModels.plot_breakdown(df_train, 267,xgb)"
   ]
  },
  {
   "cell_type": "code",
   "execution_count": null,
   "metadata": {
    "pycharm": {
     "name": "#%%\n"
    }
   },
   "outputs": [],
   "source": [
    "MLModels.shap(df_train, 267, xgb)"
   ]
  },
  {
   "cell_type": "code",
   "execution_count": null,
   "metadata": {
    "pycharm": {
     "name": "#%%\n"
    }
   },
   "outputs": [],
   "source": [
    "MLModels.save_explainers(\"Dash_app/assets/explainer\")"
   ]
  }
 ],
 "metadata": {
  "kernelspec": {
   "display_name": "Python 3 (ipykernel)",
   "language": "python",
   "name": "python3"
  },
  "language_info": {
   "codemirror_mode": {
    "name": "ipython",
    "version": 3
   },
   "file_extension": ".py",
   "mimetype": "text/x-python",
   "name": "python",
   "nbconvert_exporter": "python",
   "pygments_lexer": "ipython3",
   "version": "3.9.4"
  },
  "nbTranslate": {
   "displayLangs": [
    "*"
   ],
   "hotkey": "alt-t",
   "langInMainMenu": true,
   "sourceLang": "en",
   "targetLang": "fr",
   "useGoogleTranslate": true
  }
 },
 "nbformat": 4,
 "nbformat_minor": 1
}
