{
 "cells": [
  {
   "cell_type": "code",
   "execution_count": 1,
   "metadata": {
    "pycharm": {
     "is_executing": true
    }
   },
   "outputs": [],
   "source": [
    "import pandas as pd\n",
    "from assets.data_loader import DataLoader\n",
    "from assets.MissingData import MissingData\n",
    "from assets.graphs import CreateGraph\n",
    "from assets.Data_analysis import DataAnalysis\n",
    "from assets.make_models import NumericScaler, CatScaler, MakeModel\n",
    "from sklearn.impute import KNNImputer,SimpleImputer\n",
    "from xgboost import XGBRegressor\n",
    "from sklearn.ensemble import RandomForestRegressor,AdaBoostRegressor, StackingRegressor\n",
    "from sklearn.tree import DecisionTreeRegressor\n",
    "from sklearn.pipeline import Pipeline\n",
    "from sklearn.compose import ColumnTransformer\n",
    "import numpy as np\n",
    "import dill as pickle\n",
    "import warnings\n",
    "warnings.filterwarnings('ignore')\n",
    "warnings.simplefilter(action='ignore', category=FutureWarning)\n",
    "pd.set_option('display.max_columns', 50)\n",
    "pd.set_option('display.max_rows', 110)"
   ]
  },
  {
   "cell_type": "code",
   "execution_count": 2,
   "metadata": {},
   "outputs": [],
   "source": [
    "data_loader = DataLoader(train_file=\"data/train.csv\", test_file=\"data/test.csv\")\n",
    "df_train, df_test = data_loader.load_data()"
   ]
  },
  {
   "cell_type": "code",
   "execution_count": 3,
   "metadata": {},
   "outputs": [],
   "source": [
    "num_to_cat = ['YrSold', 'MoSold', 'MSSubClass', 'GarageYrBlt']\n",
    "df_train[num_to_cat] = df_train[num_to_cat].astype('str')\n",
    "df_test[num_to_cat] = df_test[num_to_cat].astype('str')"
   ]
  },
  {
   "cell_type": "code",
   "execution_count": 4,
   "metadata": {},
   "outputs": [],
   "source": [
    "columns_to_fill =['PoolQC','MiscFeature','Alley','Fence','MasVnrType','FireplaceQu',\n",
    "               'GarageQual','GarageCond','GarageFinish','GarageType', 'Electrical',\n",
    "                'Functional', 'Exterior2nd', 'Exterior1st',\n",
    "               'BsmtExposure','BsmtCond','BsmtQual','BsmtFinType1','BsmtFinType2'\n",
    "               ]\n",
    "df_train[columns_to_fill] = df_train[columns_to_fill].fillna(\"None\")\n",
    "df_test[columns_to_fill] = df_test[columns_to_fill].fillna(\"None\")"
   ]
  },
  {
   "cell_type": "code",
   "execution_count": 5,
   "metadata": {},
   "outputs": [],
   "source": [
    "Y_train = df_train['SalePrice'].copy()\n",
    "df_train = df_train.drop(['SalePrice'],axis=1)\n",
    "to_del = ['Utilities', 'Electrical', 'Street','PoolQC', 'GarageYrBlt', \"Id\"]\n",
    "df_train = df_train.drop(to_del, axis=1)\n",
    "df_test = df_test.drop(to_del, axis=1)"
   ]
  },
  {
   "cell_type": "code",
   "execution_count": 6,
   "metadata": {},
   "outputs": [],
   "source": [
    "numerical_features=['GarageCars','OverallCond','OverallQual','YearBuilt','GrLivArea', 'TotalBsmtSF','LotArea']\n",
    "categorical_features = ['Neighborhood']"
   ]
  },
  {
   "cell_type": "code",
   "execution_count": 7,
   "metadata": {},
   "outputs": [],
   "source": [
    "outliers = [898, 1423, 1169, 278, 1046, 409, 1181, 1182, 1065, 1324, 45, 559, 688, 691, 822, 313, 581, 462, 1359, 473, 218, 1244, 608, 864, 238, 496, 885, 632,523,1298,30, 88, 631, 1322]\n",
    "df_train=df_train.drop(df_train.index[outliers])\n",
    "Y_train = Y_train.drop(Y_train.index[outliers])"
   ]
  },
  {
   "cell_type": "code",
   "execution_count": 8,
   "metadata": {},
   "outputs": [],
   "source": [
    "numerical_transformer = Pipeline(\n",
    "    steps=[\n",
    "        ('KNNImputer', KNNImputer(n_neighbors=10)),\n",
    "        ('scaler', NumericScaler())\n",
    "    ]\n",
    ")\n",
    "categorical_transformer = Pipeline(\n",
    "    steps=[\n",
    "       (\"SimpleImputer\",SimpleImputer(strategy=\"constant\", missing_values=np.nan,fill_value=\"NULL\" )),\n",
    "        ('scaler', CatScaler())\n",
    "    ]\n",
    ")\n",
    "\n",
    "preprocessor = ColumnTransformer(\n",
    "    transformers=[\n",
    "        ('num', numerical_transformer, numerical_features),\n",
    "        ('cat', categorical_transformer, categorical_features)\n",
    "    ]\n",
    ")"
   ]
  },
  {
   "cell_type": "code",
   "execution_count": 9,
   "metadata": {},
   "outputs": [
    {
     "data": {
      "text/plain": [
       "<assets.make_models.MakeModel at 0x16bffbd90>"
      ]
     },
     "execution_count": 9,
     "metadata": {},
     "output_type": "execute_result"
    }
   ],
   "source": [
    "MLModels = MakeModel()\n",
    "MLModels.add_preprocessor(preprocessor)"
   ]
  },
  {
   "cell_type": "code",
   "execution_count": 10,
   "metadata": {},
   "outputs": [
    {
     "name": "stdout",
     "output_type": "stream",
     "text": [
      "Fitting 10 folds for each of 1 candidates, totalling 10 fits\n"
     ]
    },
    {
     "name": "stderr",
     "output_type": "stream",
     "text": [
      "/Users/jakub/PYTHON/REMF-Render/venv/lib/python3.9/site-packages/statsmodels/compat/pandas.py:65: FutureWarning: pandas.Int64Index is deprecated and will be removed from pandas in a future version. Use pandas.Index with the appropriate dtype instead.\n",
      "  from pandas import Int64Index as NumericIndex\n",
      "/Users/jakub/PYTHON/REMF-Render/venv/lib/python3.9/site-packages/statsmodels/compat/pandas.py:65: FutureWarning: pandas.Int64Index is deprecated and will be removed from pandas in a future version. Use pandas.Index with the appropriate dtype instead.\n",
      "  from pandas import Int64Index as NumericIndex\n",
      "/Users/jakub/PYTHON/REMF-Render/venv/lib/python3.9/site-packages/statsmodels/compat/pandas.py:65: FutureWarning: pandas.Int64Index is deprecated and will be removed from pandas in a future version. Use pandas.Index with the appropriate dtype instead.\n",
      "  from pandas import Int64Index as NumericIndex\n",
      "/Users/jakub/PYTHON/REMF-Render/venv/lib/python3.9/site-packages/statsmodels/compat/pandas.py:65: FutureWarning: pandas.Int64Index is deprecated and will be removed from pandas in a future version. Use pandas.Index with the appropriate dtype instead.\n",
      "  from pandas import Int64Index as NumericIndex\n",
      "/Users/jakub/PYTHON/REMF-Render/venv/lib/python3.9/site-packages/statsmodels/compat/pandas.py:65: FutureWarning: pandas.Int64Index is deprecated and will be removed from pandas in a future version. Use pandas.Index with the appropriate dtype instead.\n",
      "  from pandas import Int64Index as NumericIndex\n",
      "/Users/jakub/PYTHON/REMF-Render/venv/lib/python3.9/site-packages/statsmodels/compat/pandas.py:65: FutureWarning: pandas.Int64Index is deprecated and will be removed from pandas in a future version. Use pandas.Index with the appropriate dtype instead.\n",
      "  from pandas import Int64Index as NumericIndex\n",
      "/Users/jakub/PYTHON/REMF-Render/venv/lib/python3.9/site-packages/statsmodels/compat/pandas.py:65: FutureWarning: pandas.Int64Index is deprecated and will be removed from pandas in a future version. Use pandas.Index with the appropriate dtype instead.\n",
      "  from pandas import Int64Index as NumericIndex\n",
      "/Users/jakub/PYTHON/REMF-Render/venv/lib/python3.9/site-packages/statsmodels/compat/pandas.py:65: FutureWarning: pandas.Int64Index is deprecated and will be removed from pandas in a future version. Use pandas.Index with the appropriate dtype instead.\n",
      "  from pandas import Int64Index as NumericIndex\n"
     ]
    },
    {
     "name": "stdout",
     "output_type": "stream",
     "text": [
      "[23:55:41] WARNING: /Users/runner/work/xgboost/xgboost/python-package/build/temp.macosx-11.0-arm64-cpython-38/xgboost/src/objective/regression_obj.cu:203: reg:linear is now deprecated in favor of reg:squarederror.\n",
      "Najlepszy estymator: \n",
      "Pipeline(steps=[('preprocessor',\n",
      "                 ColumnTransformer(transformers=[('num',\n",
      "                                                  Pipeline(steps=[('KNNImputer',\n",
      "                                                                   KNNImputer(n_neighbors=10)),\n",
      "                                                                  ('scaler',\n",
      "                                                                   NumericScaler())]),\n",
      "                                                  ['GarageCars', 'OverallCond',\n",
      "                                                   'OverallQual', 'YearBuilt',\n",
      "                                                   'GrLivArea', 'TotalBsmtSF',\n",
      "                                                   'LotArea']),\n",
      "                                                 ('cat',\n",
      "                                                  Pipeline(steps=[('SimpleImputer',\n",
      "                                                                   SimpleImputer(fill_value='NULL',\n",
      "                                                                                 strategy='constant')),\n",
      "                                                                  ('scal...\n",
      "                                                                   gpu_id=None,\n",
      "                                                                   grow_policy=None,\n",
      "                                                                   importance_type=None,\n",
      "                                                                   interaction_constraints=None,\n",
      "                                                                   learning_rate=None,\n",
      "                                                                   max_bin=None,\n",
      "                                                                   max_cat_to_onehot=None,\n",
      "                                                                   max_delta_step=None,\n",
      "                                                                   max_depth=4,\n",
      "                                                                   max_leaves=None,\n",
      "                                                                   min_child_weight=6,\n",
      "                                                                   missing=nan,\n",
      "                                                                   monotone_constraints=None,\n",
      "                                                                   n_estimators=425,\n",
      "                                                                   n_jobs=None,\n",
      "                                                                   num_parallel_tree=None,\n",
      "                                                                   objective='reg:linear',\n",
      "                                                                   predictor=None,\n",
      "                                                                   random_state=42, ...)))])\n",
      "\n",
      "Najlepszy wynik: \n",
      "22672.7601209723\n",
      "\n",
      "Najlepszy parametr: \n",
      "{'regressor__regressor__colsample_bytree': 0.6998820355976964, 'regressor__regressor__eta': 0.09645082865558717, 'regressor__regressor__gamma': 0.05, 'regressor__regressor__max_depth': 4, 'regressor__regressor__min_child_weight': 6, 'regressor__regressor__n_estimators': 425, 'regressor__regressor__subsample': 0.75}\n"
     ]
    },
    {
     "data": {
      "text/plain": [
       "<assets.make_models.MakeModel at 0x16bffbd90>"
      ]
     },
     "execution_count": 10,
     "metadata": {},
     "output_type": "execute_result"
    }
   ],
   "source": [
    "xgb = 'XGBoost'\n",
    "MLModels.add_model(xgb,XGBRegressor(booster='gbtree', objective=\"reg:linear\", random_state=42, reg_alpha=0.00006))\n",
    "parameters = {\n",
    "    \"regressor__regressor__eta\":[0.09645082865558717],\n",
    "    \"regressor__regressor__n_estimators\": [425],\n",
    "    \"regressor__regressor__max_depth\" : [4],\n",
    "    \"regressor__regressor__subsample\" : [0.75],\n",
    "    \"regressor__regressor__colsample_bytree\" : [0.6998820355976964],\n",
    "    \"regressor__regressor__min_child_weight\" : [6],\n",
    "    \"regressor__regressor__gamma\": [0.05]\n",
    "              }\n",
    "#print(df_train.shape)\n",
    "MLModels.gridsearch(xgb,df_train, Y_train, parameters)"
   ]
  },
  {
   "cell_type": "code",
   "execution_count": 12,
   "metadata": {},
   "outputs": [],
   "source": [
    "pickle.dump(MLModels.grid[0],open('assets/xgb.sav', 'wb'))"
   ]
  },
  {
   "cell_type": "code",
   "execution_count": null,
   "metadata": {},
   "outputs": [],
   "source": []
  }
 ],
 "metadata": {
  "kernelspec": {
   "display_name": "Python 3 (ipykernel)",
   "language": "python",
   "name": "python3"
  },
  "language_info": {
   "codemirror_mode": {
    "name": "ipython",
    "version": 3
   },
   "file_extension": ".py",
   "mimetype": "text/x-python",
   "name": "python",
   "nbconvert_exporter": "python",
   "pygments_lexer": "ipython3",
   "version": "3.9.4"
  },
  "nbTranslate": {
   "displayLangs": [
    "*"
   ],
   "hotkey": "alt-t",
   "langInMainMenu": true,
   "sourceLang": "en",
   "targetLang": "fr",
   "useGoogleTranslate": true
  }
 },
 "nbformat": 4,
 "nbformat_minor": 1
}
